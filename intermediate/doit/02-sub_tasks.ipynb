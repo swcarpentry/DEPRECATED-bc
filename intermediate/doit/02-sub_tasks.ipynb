{
 "metadata": {
  "name": ""
 },
 "nbformat": 3,
 "nbformat_minor": 0,
 "worksheets": [
  {
   "cells": [
    {
     "cell_type": "heading",
     "level": 2,
     "metadata": {},
     "source": [
      "Using sub-tasks to define a group of similar tasks"
     ]
    },
    {
     "cell_type": "heading",
     "level": 2,
     "metadata": {},
     "source": [
      "Objectives:"
     ]
    },
    {
     "cell_type": "markdown",
     "metadata": {},
     "source": [
      "- Explain how to create a group of sub-tasks\n",
      "- Explain what extra configuration a sub-task definition requires\n",
      "- Adapt an existing task to turn it into a sub-task generator"
     ]
    },
    {
     "cell_type": "markdown",
     "metadata": {},
     "source": [
      "Lets have another look at the doit file we had created at the end of the last lesson:"
     ]
    },
    {
     "cell_type": "code",
     "collapsed": false,
     "input": [
      "%load_ext doitmagic"
     ],
     "language": "python",
     "metadata": {},
     "outputs": [],
     "prompt_number": 1
    },
    {
     "cell_type": "code",
     "collapsed": false,
     "input": [
      "%%doit\n",
      "\n",
      "# automatic_variables.py\n",
      "\n",
      "def task_reformat_temperature_data():\n",
      "    \"\"\"Reformats the raw temperature data file for easier analysis\"\"\"\n",
      "    \n",
      "    return {\n",
      "        'actions': ['python reformat_weather_data.py %(dependencies)s > %(targets)s'],\n",
      "        'file_dep': ['UK_Tmean_data.txt'],\n",
      "        'targets': ['UK_Tmean_data.reformatted.txt'],\n",
      "    }\n",
      "\n",
      "def task_reformat_sunshine_data():\n",
      "    \"\"\"Reformats the raw sunshine data file for easier analysis\"\"\"\n",
      "    \n",
      "    return {\n",
      "        'actions': ['python reformat_weather_data.py %(dependencies)s > %(targets)s'],\n",
      "        'file_dep': ['UK_Sunshine_data.txt'],\n",
      "        'targets': ['UK_Sunshine_data.reformatted.txt'],\n",
      "    }"
     ],
     "language": "python",
     "metadata": {},
     "outputs": [
      {
       "output_type": "stream",
       "stream": "stdout",
       "text": [
        "-- reformat_temperature_data\n",
        "-- reformat_sunshine_data\n"
       ]
      }
     ],
     "prompt_number": 2
    },
    {
     "cell_type": "markdown",
     "metadata": {},
     "source": [
      "We noticed that our two tasks share the same action, and only have different dependencies and targets.\n",
      "\n",
      "When we want to run a large number of very similar tasks, we can make use of a doit feature called 'sub-tasks':"
     ]
    },
    {
     "cell_type": "code",
     "collapsed": false,
     "input": [
      "%%doit\n",
      "\n",
      "# sub_tasks.py\n",
      "\n",
      "data_sets = ['Tmean', 'Sunshine']\n",
      "\n",
      "def task_reformat_data():\n",
      "    \"\"\"Reformats all raw files for easier analysis\"\"\"\n",
      "\n",
      "    for data_type in data_sets:\n",
      "        yield {\n",
      "            'actions': ['python reformat_weather_data.py %(dependencies)s > %(targets)s'],\n",
      "            'file_dep': ['UK_{}_data.txt'.format(data_type)],\n",
      "            'targets': ['UK_{}_data.reformatted.txt'.format(data_type)],\n",
      "            'name': 'UK_{}_data.txt'.format(data_type),\n",
      "        }\n",
      "    "
     ],
     "language": "python",
     "metadata": {},
     "outputs": [
      {
       "output_type": "stream",
       "stream": "stdout",
       "text": [
        "-- reformat_data:UK_Sunshine_data.txt\n",
        ".  reformat_data:UK_Tmean_data.txt\n"
       ]
      }
     ],
     "prompt_number": 3
    },
    {
     "cell_type": "markdown",
     "metadata": {},
     "source": [
      "In this example, the function defining the task doesn't return a single task. Instead it returns a python generator object, which then returns a number of sub-tasks. Has anyone heard of generators in python?\n",
      "\n",
      "If not, here is a small demonstration:"
     ]
    },
    {
     "cell_type": "code",
     "collapsed": false,
     "input": [
      "def not_a_generator():\n",
      "    for i in range(5):\n",
      "        return i\n",
      "    \n",
      "not_a_generator()"
     ],
     "language": "python",
     "metadata": {},
     "outputs": [
      {
       "metadata": {},
       "output_type": "pyout",
       "prompt_number": 4,
       "text": [
        "0"
       ]
      }
     ],
     "prompt_number": 4
    },
    {
     "cell_type": "code",
     "collapsed": false,
     "input": [
      "def is_a_generator():\n",
      "    for i in range(5):\n",
      "        yield i\n",
      "        \n",
      "is_a_generator()"
     ],
     "language": "python",
     "metadata": {},
     "outputs": [
      {
       "metadata": {},
       "output_type": "pyout",
       "prompt_number": 5,
       "text": [
        "<generator object is_a_generator at 0x3052780>"
       ]
      }
     ],
     "prompt_number": 5
    },
    {
     "cell_type": "code",
     "collapsed": false,
     "input": [
      "def is_a_generator():\n",
      "    for i in range(5):\n",
      "        yield i\n",
      "        \n",
      "g = is_a_generator()\n",
      "\n",
      "for x in g:\n",
      "    print x"
     ],
     "language": "python",
     "metadata": {},
     "outputs": [
      {
       "output_type": "stream",
       "stream": "stdout",
       "text": [
        "0\n",
        "1\n",
        "2\n",
        "3\n",
        "4\n"
       ]
      }
     ],
     "prompt_number": 6
    },
    {
     "cell_type": "markdown",
     "metadata": {},
     "source": [
      "I'm not going to go into lots of detail about generators in this lesson, but the essential thing to remember is that a function uses `return` to return a single output, whilst a generator uses `yield` to return a sequence of outputs in order. When doit finds a generator that yields task dictionaries, it creates a series of sub-tasks.\n",
      "\n",
      "Take a look at the output of our file again. All the tasks generated by our new generator start with the same name: `reformat_data`, which is taken from the name of the generator. After this part, which is called the `basename`, comes a colon followed by the sub-task name. Notice that we explicitly gave each sub-task a name by setting the `name` key in the task dictionary.\n",
      "\n",
      "What would happen if we didn't set sub-task names?"
     ]
    },
    {
     "cell_type": "code",
     "collapsed": false,
     "input": [
      "%%doit\n",
      "\n",
      "# sub_tasks_no_name.py\n",
      "\n",
      "data_sets = ['Tmean', 'Sunshine']\n",
      "\n",
      "def task_reformat_data():\n",
      "    \"\"\"Reformats all raw files for easier analysis\"\"\"\n",
      "\n",
      "    for data_type in data_sets:\n",
      "        yield {\n",
      "            'actions': ['python reformat_weather_data.py %(dependencies)s > %(targets)s'],\n",
      "            'file_dep': ['UK_{}_data.txt'.format(data_type)],\n",
      "            'targets': ['UK_{}_data.reformatted.txt'.format(data_type)],\n",
      "        }\n",
      "    "
     ],
     "language": "python",
     "metadata": {},
     "outputs": [
      {
       "output_type": "stream",
       "stream": "stderr",
       "text": [
        "ERROR: Task 'reformat_data' must contain field 'name' or 'basename'. {'file_dep': ['UK_Tmean_data.txt'], 'targets': ['UK_Tmean_data.reformatted.txt'], 'actions': ['python reformat_weather_data.py %(dependencies)s > %(targets)s']}\n"
       ]
      }
     ],
     "prompt_number": 7
    },
    {
     "cell_type": "markdown",
     "metadata": {},
     "source": [
      "Doit tells us that the task must define a name. This is because tasks can depend directly on other tasks, so each task must have a unique name by which it can be referenced as a dependency.\n",
      "\n",
      "Now look at the reformatted data:"
     ]
    },
    {
     "cell_type": "code",
     "collapsed": false,
     "input": [
      "!tail UK_Tmean_data.reformatted.txt"
     ],
     "language": "python",
     "metadata": {},
     "outputs": [
      {
       "output_type": "stream",
       "stream": "stdout",
       "text": [
        "2012-03-01,6.4\r\n",
        "2012-04-01,8.3\r\n",
        "2012-05-01,11.3\r\n",
        "2012-06-01,13.7\r\n",
        "2012-07-01,15.7\r\n",
        "2012-08-01,15.7\r\n",
        "2012-09-01,13.3\r\n",
        "2012-10-01,10.5\r\n",
        "2012-11-01,7.0\r\n",
        "2012-12-01,5.3\r\n"
       ]
      }
     ],
     "prompt_number": 8
    },
    {
     "cell_type": "markdown",
     "metadata": {},
     "source": [
      "The last data point in the file is from December 2012, so we probably ought to re-download our raw data. This is a task we will probably end up doing rather a lot, so we should let doit take care of it:"
     ]
    },
    {
     "cell_type": "code",
     "collapsed": false,
     "input": [
      "%%doit\n",
      "\n",
      "# download_temp_data.py\n",
      "\n",
      "import datetime\n",
      "from doit.tools import timeout \n",
      "\n",
      "data_sets = ['Tmean', 'Sunshine']\n",
      "\n",
      "def task_get_temp_data():\n",
      "    \"\"\"Downloads the raw temperature data from the Met Office\"\"\"\n",
      "\n",
      "    return {\n",
      "        'actions': ['wget -O %(targets)s http://www.metoffice.gov.uk/climate/uk/datasets/Tmean/ranked/UK.txt'],\n",
      "        'targets': ['UK_Tmean_data.txt'],\n",
      "    }\n",
      "\n",
      "def task_reformat_data():\n",
      "    \"\"\"Reformats all raw files for easier analysis\"\"\"\n",
      "\n",
      "    for data_type in data_sets:\n",
      "        yield {\n",
      "            'actions': ['python reformat_weather_data.py %(dependencies)s > %(targets)s'],\n",
      "            'file_dep': ['UK_{}_data.txt'.format(data_type)],\n",
      "            'targets': ['UK_{}_data.reformatted.txt'.format(data_type)],\n",
      "            'name': 'UK_{}_data.txt'.format(data_type),\n",
      "        }"
     ],
     "language": "python",
     "metadata": {},
     "outputs": [
      {
       "output_type": "stream",
       "stream": "stdout",
       "text": [
        ".  get_temp_data\n",
        "-- reformat_data:UK_Sunshine_data.txt\n",
        ".  reformat_data:UK_Tmean_data.txt\n"
       ]
      },
      {
       "output_type": "stream",
       "stream": "stderr",
       "text": [
        "--2014-04-05 12:08:16--  http://www.metoffice.gov.uk/climate/uk/datasets/Tmean/ranked/UK.txt\n",
        "Resolving www.metoffice.gov.uk (www.metoffice.gov.uk)... 23.63.99.234, 23.63.99.216\n",
        "Connecting to www.metoffice.gov.uk (www.metoffice.gov.uk)|23.63.99.234|:80... connected.\n",
        "HTTP request sent, awaiting response... 200 OK\n",
        "Length: 25576 (25K) [text/plain]\n",
        "Saving to: \u2018UK_Tmean_data.txt\u2019\n",
        "\n",
        "     0K .......... .......... ....                            100% 2.15M=0.01s\n",
        "\n",
        "2014-04-05 12:08:16 (2.15 MB/s) - \u2018UK_Tmean_data.txt\u2019 saved [25576/25576]\n",
        "\n"
       ]
      }
     ],
     "prompt_number": 9
    },
    {
     "cell_type": "markdown",
     "metadata": {},
     "source": [
      "We've added a new task that downloads the latest version of the temperature data from the UK Met Office website, so doit followed our instructions and downloaded the file. It then went on to our reformat_data task. Since the sunshine hours data hasn't changed, it isn't reformatted. However, there is now a new version of the mean temperature file, so doit automatically recreated the `UK_Tmean_data.reformatted.txt` file:"
     ]
    },
    {
     "cell_type": "code",
     "collapsed": false,
     "input": [
      "!tail UK_Tmean_data.reformatted.txt"
     ],
     "language": "python",
     "metadata": {},
     "outputs": [
      {
       "output_type": "stream",
       "stream": "stdout",
       "text": [
        "2013-03-01,5.1\r\n",
        "2013-04-01,7.0\r\n",
        "2013-05-01,10.0\r\n",
        "2013-06-01,12.8\r\n",
        "2013-07-01,14.5\r\n",
        "2013-08-01,14.4\r\n",
        "2013-09-01,12.4\r\n",
        "2013-10-01,9.2\r\n",
        "2013-11-01,5.7\r\n",
        "2013-12-01,3.9\r\n"
       ]
      }
     ],
     "prompt_number": 10
    },
    {
     "cell_type": "markdown",
     "metadata": {},
     "source": [
      "Which now contains all the data from 2013."
     ]
    },
    {
     "cell_type": "heading",
     "level": 3,
     "metadata": {},
     "source": [
      "Challenge:"
     ]
    },
    {
     "cell_type": "markdown",
     "metadata": {},
     "source": [
      "Edit the download_temp_data.py file and make use of sub-tasks to download both the temperature and the sunlight data."
     ]
    },
    {
     "cell_type": "code",
     "collapsed": false,
     "input": [],
     "language": "python",
     "metadata": {},
     "outputs": [],
     "prompt_number": 10
    }
   ],
   "metadata": {}
  }
 ]
}