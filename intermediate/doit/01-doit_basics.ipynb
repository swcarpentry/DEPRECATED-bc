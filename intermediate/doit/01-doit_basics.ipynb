{
 "metadata": {
  "name": ""
 },
 "nbformat": 3,
 "nbformat_minor": 0,
 "worksheets": [
  {
   "cells": [
    {
     "cell_type": "heading",
     "level": 2,
     "metadata": {},
     "source": [
      "Automating Tasks With \"doit\""
     ]
    },
    {
     "cell_type": "markdown",
     "metadata": {},
     "source": [
      "We're starting a project where we need to do some analysis of climate data. This analysis is going to require a number of steps, which all have to be carried out in the correct order. Our data is also updating all the time with new readings, so we don't want to have to keep track of which steps we have or have not remembered to re-run every time we update the source data.\n",
      "\n",
      "In order to do this, we're going to use a python library called [doit](http://pydoit.org/). This lesson will cover the basics of doit, but doit has excellent [documentation](http://pydoit.org/contents.html) for those who are interested in more advanced usage."
     ]
    },
    {
     "cell_type": "heading",
     "level": 3,
     "metadata": {},
     "source": [
      "Objectives:"
     ]
    },
    {
     "cell_type": "markdown",
     "metadata": {},
     "source": [
      "- Explain the difference between a dependency and a target\n",
      "- Determine the order in which doit will execute a series of tasks\n",
      "- Explain how automatic variables can reduce repetition in doit task definitions\n",
      "- Write a simple doit task configuration file"
     ]
    },
    {
     "cell_type": "heading",
     "level": 2,
     "metadata": {},
     "source": [
      "Basic doit files"
     ]
    },
    {
     "cell_type": "markdown",
     "metadata": {},
     "source": [
      "Let's start by looking at the raw data we have to work with. There are two files containing data on monthly mean temperature and monthly total sunshine hours:"
     ]
    },
    {
     "cell_type": "code",
     "collapsed": false,
     "input": [
      "!ls *.txt"
     ],
     "language": "python",
     "metadata": {},
     "outputs": [
      {
       "output_type": "stream",
       "stream": "stdout",
       "text": [
        "UK_Sunshine_data.txt  UK_Tmean_data.txt\r\n"
       ]
      }
     ],
     "prompt_number": 1
    },
    {
     "cell_type": "markdown",
     "metadata": {},
     "source": [
      "Now let's peek inside the mean temperatures file using head:"
     ]
    },
    {
     "cell_type": "code",
     "collapsed": false,
     "input": [
      "!head UK_Tmean_data.txt"
     ],
     "language": "python",
     "metadata": {},
     "outputs": [
      {
       "output_type": "stream",
       "stream": "stdout",
       "text": [
        "UK Mean Temperature (Degrees C)\r\n",
        "Areal series, starting from 1910\r\n",
        "Allowances have been made for topographic, coastal and urban effects where relationships are found to exist.\r\n",
        "Seasons: Winter=Dec-Feb, Spring=Mar-May, Summer=June-Aug, Autumn=Sept-Nov. (Winter: Year refers to Jan/Feb).\r\n",
        "Monthly values are ranked and displayed to 1 dp and seasonal/annual values to 2 dp. Where values are equal, rankings are based in order of year descending.\r\n",
        "Data are provisional from January 2012 & Winter 2012 Last updated 01/12/2012\r\n",
        "\r\n",
        "\tJAN\tYear\tFEB\tYear\tMAR\tYear\tAPR\tYear\tMAY\tYear\tJUN\tYear\tJUL\tYear\tAUG\tYear\tSEP\tYear\tOCT\tYear\tNOV\tYear\tDEC\tYear\tWIN\tYear\tSPR\tYear\tSUM\tYear\tAUT\tYear\tANN\tYear\r\n",
        "\t6.3\t1916\t6.8\t1998\t8\t1938\t10.7\t2011\t12.2\t2008\t15\t1976\t17.8\t2006\t17.3\t1995\t15.2\t2006\t12.2\t2001\t8.8\t1994\t6.9\t1934\t5.81\t1989\t9.15\t2011\t15.78\t2006\t11.39\t2006\t9.73\t2006\r\n",
        "\t5.9\t2007\t5.9\t1990\t7.9\t1957\t10.2\t2007\t12\t1992\t14.9\t1940\t17.3\t1983\t17.1\t1997\t14.6\t1949\t11.8\t1969\t8.7\t2011\t6.6\t1988\t5.56\t2007\t9.05\t2007\t15.77\t2003\t11.26\t2011\t9.64\t2011\r\n"
       ]
      }
     ],
     "prompt_number": 2
    },
    {
     "cell_type": "markdown",
     "metadata": {},
     "source": [
      "The data in this file is organized in a pretty terrible way. There are seven lines at the beginning of the file which explain the structure of the data, which is helpful (although it would be even better if they started with a comment character like #).\n",
      "\n",
      "Essentially, there are two columns per month. The first column contains the mean temperature for that month and the second contains the year of the measurements. Every column is ordered by increasing temperature.\n",
      "\n",
      "Thankfully, an old grad student left us a python script that can massage this data into a more useful format. Let's have a look at what this does:"
     ]
    },
    {
     "cell_type": "code",
     "collapsed": false,
     "input": [
      "!python reformat_weather_data.py UK_Tmean_data.txt | head"
     ],
     "language": "python",
     "metadata": {},
     "outputs": [
      {
       "output_type": "stream",
       "stream": "stdout",
       "text": [
        "month,value\r\n",
        "1910-01-01,2.6\r\n",
        "1910-02-01,2.6\r\n",
        "1910-03-01,4.0\r\n",
        "1910-04-01,6.4\r\n",
        "1910-05-01,9.5\r\n",
        "1910-06-01,12.3\r\n",
        "1910-07-01,14.0\r\n",
        "1910-08-01,13.8\r\n",
        "1910-09-01,11.8\r\n"
       ]
      }
     ],
     "prompt_number": 3
    },
    {
     "cell_type": "markdown",
     "metadata": {},
     "source": [
      "Much better. The first task in our analysis pipeline is to run this python script on the file `UK_Tmean_data.txt` and save it as a new file, `UK_Tmean_data.reformatted.txt`. We want to use the \"doit\" library for python to automatically perform this reformatting every time the raw data is updated.\n",
      "\n",
      "First make sure doit is installed:"
     ]
    },
    {
     "cell_type": "code",
     "collapsed": false,
     "input": [
      "!pip install doit"
     ],
     "language": "python",
     "metadata": {},
     "outputs": [
      {
       "output_type": "stream",
       "stream": "stdout",
       "text": [
        "Requirement already satisfied (use --upgrade to upgrade): doit in /usr/local/lib/python2.7/dist-packages\r\n",
        "Requirement already satisfied (use --upgrade to upgrade): six in /usr/local/lib/python2.7/dist-packages (from doit)\r\n",
        "Requirement already satisfied (use --upgrade to upgrade): pyinotify in /usr/lib/python2.7/dist-packages (from doit)\r\n",
        "Cleaning up...\r\n"
       ]
      }
     ],
     "prompt_number": 4
    },
    {
     "cell_type": "markdown",
     "metadata": {},
     "source": [
      "Normally, we make a file containing the details of all our tasks inside of a python file. If you have had some experience of  make, this file is the equivalent of a makefile. If we then run the command `doit` in our terminal, doit will look for a configuration file called dodo.py in the current directory, read the tasks from the file and execute out those which are out of date. We can also use `doit -f <name_of_task_file.py>` to get doit to read a file which is not called dodo.py.\n",
      "\n",
      "For the sake of convenience in this lesson, I'll be using some iPython magic to run doit code from the iPython notebook. In each case, the contents of the cell corresponds to what you would put in your `dodo.py` file."
     ]
    },
    {
     "cell_type": "code",
     "collapsed": false,
     "input": [
      "%load_ext doitmagic"
     ],
     "language": "python",
     "metadata": {},
     "outputs": [],
     "prompt_number": 5
    },
    {
     "cell_type": "markdown",
     "metadata": {},
     "source": [
      "Here is our first doit file, containing just one task:"
     ]
    },
    {
     "cell_type": "code",
     "collapsed": false,
     "input": [
      "%%doit\n",
      "\n",
      "# one_task.py\n",
      "\n",
      "def task_reformat_temperature_data():\n",
      "    \"\"\"Reformats the raw temperature data file for easier analysis\"\"\"\n",
      "    \n",
      "    return {\n",
      "        'file_dep': ['UK_Tmean_data.txt'],\n",
      "        'targets': ['UK_Tmean_data.reformatted.txt'],\n",
      "        'actions': ['python reformat_weather_data.py UK_Tmean_data.txt > UK_Tmean_data.reformatted.txt'],\n",
      "    }\n"
     ],
     "language": "python",
     "metadata": {},
     "outputs": [
      {
       "output_type": "stream",
       "stream": "stdout",
       "text": [
        ".  reformat_temperature_data\n"
       ]
      }
     ],
     "prompt_number": 6
    },
    {
     "cell_type": "markdown",
     "metadata": {},
     "source": [
      "The python function defines a single task that we want doit to carry out. All the function does is return a dictionary containing the configuration for this task. Lets look in more detail at the components of this configuration:\n",
      "\n",
      "The task has one file dependency, or `file_dep` - this tells doit that the task depends on the `UK_Tmean_data.txt` file, so if that file has changed we need to re-run the task. \n",
      "\n",
      "It also has one `target` - this tells doit that the task creates the `UK_Tmean_data.reformatted.txt` file. If the `UK_Tmean_data.reformatted.txt` file doesn't exist, we need to run this task to create it. \n",
      "\n",
      "Finally, the task has one `action`. The `actions` part of the task definition is a list of commands to run when doit determines that the task is not up to date.\n",
      "\n",
      "Now let's look at doit's output. Doit shows the name of each task on a seperate line, and since we only gave it one task we only get one line. Since we didn't explicitly give our task a name, doit guesses the name from the function name. The dot (`.`) before the task name means that doit determined that the task was actually run. We can run that cell again and see what changes.\n",
      "\n",
      "Now the task name is preceded by two dashes (`--`), which means that doit found our task, but since the `UK_Tmean_data.reformatted.txt` file already exists and the `UK_Tmean_data.txt` file hasn't changed, it didn't run the task again.\n",
      "\n",
      "We should check the new file to make sure that the task we wrote does what we want:"
     ]
    },
    {
     "cell_type": "code",
     "collapsed": false,
     "input": [
      "!head UK_Tmean_data.reformatted.txt"
     ],
     "language": "python",
     "metadata": {},
     "outputs": [
      {
       "output_type": "stream",
       "stream": "stdout",
       "text": [
        "month,value\r\n",
        "1910-01-01,2.6\r\n",
        "1910-02-01,2.6\r\n",
        "1910-03-01,4.0\r\n",
        "1910-04-01,6.4\r\n",
        "1910-05-01,9.5\r\n",
        "1910-06-01,12.3\r\n",
        "1910-07-01,14.0\r\n",
        "1910-08-01,13.8\r\n",
        "1910-09-01,11.8\r\n"
       ]
      }
     ],
     "prompt_number": 7
    },
    {
     "cell_type": "markdown",
     "metadata": {},
     "source": [
      "If we were only allowed one rule per file, this wouldn't be any simpler than typing commands by hand or putting them in little shell scripts. Luckily, doit allows us to put any number of rules in a single configuration file. \n",
      "\n",
      "Here is another doit file called two_tasks.py with rules to reformat both `UK_Tmean_data.txt` and `UK_Sunshine_data.txt`. These rules are identical except for the \"Tmean\" or \"Sunshine\" in the filenames; we'll see later how to combine these rules into one."
     ]
    },
    {
     "cell_type": "code",
     "collapsed": false,
     "input": [
      "%%doit\n",
      "\n",
      "# two_tasks.py\n",
      "\n",
      "def task_reformat_temperature_data():\n",
      "    \"\"\"Reformats the raw temperature data file for easier analysis\"\"\"\n",
      "        \n",
      "    return {\n",
      "        'file_dep': ['UK_Tmean_data.txt'],\n",
      "        'targets': ['UK_Tmean_data.reformatted.txt'],\n",
      "        'actions': ['python reformat_weather_data.py UK_Tmean_data.txt > UK_Tmean_data.reformatted.txt'],\n",
      "}\n",
      "\n",
      "def task_reformat_sunshine_data():\n",
      "    \"\"\"Reformats the raw sunshine data file for easier analysis\"\"\"\n",
      "\n",
      "    return {\n",
      "        'file_dep': ['UK_Sunshine_data.txt'],\n",
      "        'targets': ['UK_Sunshine_data.reformatted.txt'],\n",
      "        'actions': ['python reformat_weather_data.py UK_Sunshine_data.txt > UK_Sunshine_data.reformatted.txt'],\n",
      "    }"
     ],
     "language": "python",
     "metadata": {},
     "outputs": [
      {
       "output_type": "stream",
       "stream": "stdout",
       "text": [
        "-- reformat_temperature_data\n",
        ".  reformat_sunshine_data\n"
       ]
      }
     ],
     "prompt_number": 8
    },
    {
     "cell_type": "markdown",
     "metadata": {},
     "source": [
      "Now we see that doit found both of our tasks. It determined that it didn't need to run the task that reformats the temperature data, but it did run our new task that reformats the sunshine data.\n",
      "\n",
      "If we run the cell again, we should see that now doit decides it doesn't need to run either task.\n",
      "\n",
      "One thing to note is that if there is no dependency to satisfy between the tasks then doit executes them in the order they are defined. It could also execute them in parallel if it had more than one processor to use - we'll return to this idea later.\n",
      "\n",
      "Something else this example shows us is that a single thing can be a target in one rule, and a prerequisite in others. The dependencies between the files mentioned in the dodo.py make up a directed graph. In order for doit to run, this graph must not contain any cycles. For example, if X depends on Y, Y depends on Z, and Z depends on X, everything depends on something else, so there is nothing doit can execute first. If it detects a cycle in between tasks, doit will print an error message and stop.\n",
      "\n",
      "As we noted earlier, there is a lot of redundancy in this file. Firstly, the file names are repeated in the task definition and the task's action. Luckily, doit gives us access to some variables when we are writing our tasks actions.\n",
      "\n",
      "Doit uses python's `%` formatter to substitute a task's dependencies and targets in the string which defines the action. It works like this:"
     ]
    },
    {
     "cell_type": "code",
     "collapsed": false,
     "input": [
      "%%doit\n",
      "\n",
      "# automatic_variables.py\n",
      "\n",
      "def task_reformat_temperature_data():\n",
      "    \"\"\"Reformats the raw temperature data file for easier analysis\"\"\"\n",
      "    \n",
      "    return {\n",
      "        'actions': ['python reformat_weather_data.py %(dependencies)s > %(targets)s'],\n",
      "        'file_dep': ['UK_Tmean_data.txt'],\n",
      "        'targets': ['UK_Tmean_data.reformatted.txt'],\n",
      "    }\n",
      "\n",
      "def task_reformat_sunshine_data():\n",
      "    \"\"\"Reformats the raw sunshine data file for easier analysis\"\"\"\n",
      "    \n",
      "    return {\n",
      "        'actions': ['python reformat_weather_data.py %(dependencies)s > %(targets)s'],\n",
      "        'file_dep': ['UK_Sunshine_data.txt'],\n",
      "        'targets': ['UK_Sunshine_data.reformatted.txt'],\n",
      "    }"
     ],
     "language": "python",
     "metadata": {},
     "outputs": [
      {
       "output_type": "stream",
       "stream": "stdout",
       "text": [
        "-- reformat_temperature_data\n",
        "-- reformat_sunshine_data\n"
       ]
      }
     ],
     "prompt_number": 9
    },
    {
     "cell_type": "markdown",
     "metadata": {},
     "source": [
      "This is better, but now the action is identical between the two tasks. Only the dependency and the target are different.\n",
      "\n",
      "We'll remove the rest of the redundancy in the next section."
     ]
    },
    {
     "cell_type": "heading",
     "level": 3,
     "metadata": {},
     "source": [
      "Challenges:"
     ]
    },
    {
     "cell_type": "markdown",
     "metadata": {},
     "source": [
      "1. Write a task that uses the unix \"echo\" command to create a new file called hello.txt, containing the text \"Hello world!\"\n",
      "2. Given the following task configuration file, in what order would doit execute the tasks:"
     ]
    },
    {
     "cell_type": "code",
     "collapsed": false,
     "input": [
      "def task_giraffe():\n",
      "    \n",
      "    return {\n",
      "            'targets' : ['giraffe.txt'],\n",
      "            'actions' : ['touch %(targets)s']\n",
      "           }\n",
      "\n",
      "def task_zebra():\n",
      "    \n",
      "    return {\n",
      "            'targets' : ['zebra.txt'],\n",
      "            'file_dep': ['lion.txt'],\n",
      "            'actions' : ['touch %(targets)s']\n",
      "           }\n",
      "\n",
      "def task_lion():\n",
      "    \n",
      "    return {\n",
      "            'targets' : ['lion.txt'],\n",
      "            'actions' : ['touch %(targets)s']\n",
      "           }"
     ],
     "language": "python",
     "metadata": {},
     "outputs": [],
     "prompt_number": 10
    }
   ],
   "metadata": {}
  }
 ]
}