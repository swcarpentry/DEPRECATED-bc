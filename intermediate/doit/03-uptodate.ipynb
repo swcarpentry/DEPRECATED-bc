{
 "metadata": {
  "name": ""
 },
 "nbformat": 3,
 "nbformat_minor": 0,
 "worksheets": [
  {
   "cells": [
    {
     "cell_type": "heading",
     "level": 2,
     "metadata": {},
     "source": [
      "Determining if doit needs to run a task"
     ]
    },
    {
     "cell_type": "heading",
     "level": 3,
     "metadata": {},
     "source": [
      "Objectives:"
     ]
    },
    {
     "cell_type": "markdown",
     "metadata": {},
     "source": [
      "- Explain how doit decides if a task is up to date when that task depends on another file\n",
      "- Explain how this is decided if a task does not have any dependencies\n",
      "- Explain how we configure a task to change the way doit will decide if it is up to date\n",
      "- Explain how doit decides which functions are tasks, and which are not"
     ]
    },
    {
     "cell_type": "markdown",
     "metadata": {},
     "source": [
      "Here is one version of the script, which now downloads both the raw data files. The download_data task was a bit long, so I refactored the part which calculates all the correct file names into a new python function."
     ]
    },
    {
     "cell_type": "code",
     "collapsed": false,
     "input": [
      "%load_ext doitmagic"
     ],
     "language": "python",
     "metadata": {},
     "outputs": [],
     "prompt_number": 1
    },
    {
     "cell_type": "code",
     "collapsed": false,
     "input": [
      "%%doit\n",
      "\n",
      "# download_all_data.py\n",
      "\n",
      "data_sets = ['Tmean', 'Sunshine']\n",
      "\n",
      "def get_data_file_parameters(data_type):\n",
      "    \"\"\"Takes a string describing the type of climate data, returns url and file name for that data\"\"\"\n",
      "    \n",
      "    base_url = 'http://www.metoffice.gov.uk/climate/uk/datasets/{0}/ranked/UK.txt'\n",
      "    data_url = base_url.format(data_type)\n",
      "    data_target = 'UK_{0}_data.txt'.format(data_type)\n",
      "    return data_url, data_target\n",
      "\n",
      "def task_download_data():\n",
      "    \"\"\"Downloads all raw data files from the Met Office website\"\"\"\n",
      "\n",
      "    for data_type in data_sets:\n",
      "        data_url, data_target = get_data_file_parameters(data_type)\n",
      "        yield {\n",
      "            'actions': ['wget -O %(targets)s {0}'.format(data_url)],\n",
      "            'targets': [ data_target ],\n",
      "            'name' : data_type,\n",
      "        }\n",
      "\n",
      "def task_reformat_data():\n",
      "    \"\"\"Reformats all raw files for easier analysis\"\"\"\n",
      "\n",
      "    for data_type in data_sets:\n",
      "        yield {\n",
      "            'actions': ['python reformat_weather_data.py %(dependencies)s > %(targets)s'],\n",
      "            'file_dep': ['UK_{}_data.txt'.format(data_type)],\n",
      "            'targets': ['UK_{}_data.reformatted.txt'.format(data_type)],\n",
      "            'name': 'UK_{}_data.txt'.format(data_type),\n",
      "        }"
     ],
     "language": "python",
     "metadata": {},
     "outputs": [
      {
       "output_type": "stream",
       "stream": "stdout",
       "text": [
        ".  download_data:Tmean\n",
        ".  download_data:Sunshine\n",
        "-- reformat_data:UK_Sunshine_data.txt\n",
        "-- reformat_data:UK_Tmean_data.txt\n"
       ]
      },
      {
       "output_type": "stream",
       "stream": "stderr",
       "text": [
        "--2014-04-05 12:08:57--  http://www.metoffice.gov.uk/climate/uk/datasets/Tmean/ranked/UK.txt\n",
        "Resolving www.metoffice.gov.uk (www.metoffice.gov.uk)... 23.63.99.234, 23.63.99.216\n",
        "Connecting to www.metoffice.gov.uk (www.metoffice.gov.uk)|23.63.99.234|:80... connected.\n",
        "HTTP request sent, awaiting response... 200 OK\n",
        "Length: 25576 (25K) [text/plain]\n",
        "Saving to: \u2018UK_Tmean_data.txt\u2019\n",
        "\n",
        "     0K .......... .......... ....                            100% 1.51M=0.02s\n",
        "\n",
        "2014-04-05 12:08:57 (1.51 MB/s) - \u2018UK_Tmean_data.txt\u2019 saved [25576/25576]\n",
        "\n",
        "--2014-04-05 12:08:57--  http://www.metoffice.gov.uk/climate/uk/datasets/Sunshine/ranked/UK.txt\n",
        "Resolving www.metoffice.gov.uk (www.metoffice.gov.uk)... 23.63.99.216, 23.63.99.234\n",
        "Connecting to www.metoffice.gov.uk (www.metoffice.gov.uk)|23.63.99.216|:80... connected.\n",
        "HTTP request sent, awaiting response... 200 OK\n",
        "Length: 20986 (20K) [text/plain]\n",
        "Saving to: \u2018UK_Sunshine_data.txt\u2019\n",
        "\n",
        "     0K .......... ..........                                 100% 6.48M=0.003s\n",
        "\n",
        "2014-04-05 12:08:57 (6.48 MB/s) - \u2018UK_Sunshine_data.txt\u2019 saved [20986/20986]\n",
        "\n"
       ]
      }
     ],
     "prompt_number": 2
    },
    {
     "cell_type": "markdown",
     "metadata": {},
     "source": [
      "There are two things to notice here. Firstly, my new python function `get_data_file_parameters` doesn't start with `task_`, so doit doesn't try to run it as a task.\n",
      "\n",
      "Secondly, no matter how many times we run this script, doit always re-downloads the data files. Since they don't depend on anything, doit doesn't know how to check that they are up to date. This is why it always re-downloads them.\n",
      "\n",
      "If we were trying to do all these tasks ourselves, we would probably want to update our monthly temperature data every month. Doit lets us define another parameter in our task configuration dictionary, called `uptodate`. This should define a python function which will tell doit whether our task needs to be re-run.\n",
      "\n",
      "This is one of the big advantages of doit: any python you can write is valid. In fact, even using task generators to create sub-tasks is just a convention. Any python script you can write to make your task configuration dictionaries can be made to work with doit.\n",
      "\n",
      "Back to our problem about keeping our raw data files fresh. You could write your own function that checks how old the raw data files are, but thankfully doit comes with a utility function for doing just this. Lets set our data files to expire after four weeks:"
     ]
    },
    {
     "cell_type": "code",
     "collapsed": false,
     "input": [
      "%%doit\n",
      "\n",
      "# monthly_raw_data_update.py\n",
      "\n",
      "import datetime\n",
      "from doit.tools import timeout \n",
      "\n",
      "data_sets = ['Tmean', 'Sunshine']\n",
      "\n",
      "def get_data_file_parameters(data_type):\n",
      "    \"\"\"Takes a string describing the type of climate data, returns url and file name for that data\"\"\"\n",
      "\n",
      "    base_url = 'http://www.metoffice.gov.uk/climate/uk/datasets/{0}/ranked/UK.txt'\n",
      "    data_url = base_url.format(data_type)\n",
      "    data_target = 'UK_{0}_data.txt'.format(data_type)\n",
      "    return data_url, data_target\n",
      "\n",
      "def task_download_data():\n",
      "    \"\"\"Downloads all raw data files from the Met Office website\"\"\"\n",
      "\n",
      "    for data_type in data_sets:\n",
      "        data_url, data_target = get_data_file_parameters(data_type)\n",
      "        yield {\n",
      "            'actions': ['wget -O %(targets)s {0}'.format(data_url)],\n",
      "            'targets': [ data_target ],\n",
      "            'name' : data_type,\n",
      "            'uptodate': [timeout(datetime.timedelta(weeks=4))],\n",
      "\n",
      "        }\n",
      "\n",
      "def task_reformat_data():\n",
      "    \"\"\"Reformats all raw files for easier analysis\"\"\"\n",
      "\n",
      "    for data_type in data_sets:\n",
      "        yield {\n",
      "            'actions': ['python reformat_weather_data.py %(dependencies)s > %(targets)s'],\n",
      "            'file_dep': ['UK_{}_data.txt'.format(data_type)],\n",
      "            'targets': ['UK_{}_data.reformatted.txt'.format(data_type)],\n",
      "            'name': 'UK_{}_data.txt'.format(data_type),\n",
      "        }"
     ],
     "language": "python",
     "metadata": {},
     "outputs": [
      {
       "output_type": "stream",
       "stream": "stdout",
       "text": [
        ".  download_data:Tmean\n",
        ".  download_data:Sunshine\n",
        "-- reformat_data:UK_Sunshine_data.txt\n",
        "-- reformat_data:UK_Tmean_data.txt\n"
       ]
      },
      {
       "output_type": "stream",
       "stream": "stderr",
       "text": [
        "--2014-04-05 12:08:57--  http://www.metoffice.gov.uk/climate/uk/datasets/Tmean/ranked/UK.txt\n",
        "Resolving www.metoffice.gov.uk (www.metoffice.gov.uk)... 23.63.99.234, 23.63.99.216\n",
        "Connecting to www.metoffice.gov.uk (www.metoffice.gov.uk)|23.63.99.234|:80... connected.\n",
        "HTTP request sent, awaiting response... 200 OK\n",
        "Length: 25576 (25K) [text/plain]\n",
        "Saving to: \u2018UK_Tmean_data.txt\u2019\n",
        "\n",
        "     0K .......... .......... ....                            100% 1.87M=0.01s\n",
        "\n",
        "2014-04-05 12:08:57 (1.87 MB/s) - \u2018UK_Tmean_data.txt\u2019 saved [25576/25576]\n",
        "\n",
        "--2014-04-05 12:08:57--  http://www.metoffice.gov.uk/climate/uk/datasets/Sunshine/ranked/UK.txt\n",
        "Resolving www.metoffice.gov.uk (www.metoffice.gov.uk)... 23.63.99.216, 23.63.99.234\n",
        "Connecting to www.metoffice.gov.uk (www.metoffice.gov.uk)|23.63.99.216|:80... connected.\n",
        "HTTP request sent, awaiting response... 200 OK\n",
        "Length: 20986 (20K) [text/plain]\n",
        "Saving to: \u2018UK_Sunshine_data.txt\u2019\n",
        "\n",
        "     0K .......... ..........                                 100% 6.86M=0.003s\n",
        "\n",
        "2014-04-05 12:08:57 (6.86 MB/s) - \u2018UK_Sunshine_data.txt\u2019 saved [20986/20986]\n",
        "\n"
       ]
      }
     ],
     "prompt_number": 3
    },
    {
     "cell_type": "markdown",
     "metadata": {},
     "source": [
      "When we run this new script for the second time, doit knows that the raw data files are less than four weeks old, so it doesn't download them again.\n",
      "\n",
      "The big advantage of defining all our tasks in this way, is that it becomes much easier to add a new dataset. Lets download some rainfall data by adding `Rainfall` to our list of datasets:"
     ]
    },
    {
     "cell_type": "code",
     "collapsed": false,
     "input": [
      "%%doit\n",
      "\n",
      "# rainfall_data.py\n",
      "\n",
      "import datetime\n",
      "from doit.tools import timeout \n",
      "\n",
      "data_sets = ['Tmean', 'Sunshine', 'Rainfall']\n",
      "\n",
      "def get_data_file_parameters(data_type):\n",
      "    \"\"\"Takes a string describing the type of climate data, returns url and file name for that data\"\"\"\n",
      "\n",
      "    base_url = 'http://www.metoffice.gov.uk/climate/uk/datasets/{0}/ranked/UK.txt'\n",
      "    data_url = base_url.format(data_type)\n",
      "    data_target = 'UK_{0}_data.txt'.format(data_type)\n",
      "    return data_url, data_target\n",
      "\n",
      "def task_download_data():\n",
      "    \"\"\"Downloads all raw data files from the Met Office website\"\"\"\n",
      "\n",
      "    for data_type in data_sets:\n",
      "        data_url, data_target = get_data_file_parameters(data_type)\n",
      "        yield {\n",
      "            'actions': ['wget -O %(targets)s {0}'.format(data_url)],\n",
      "            'targets': [ data_target ],\n",
      "            'name' : data_type,\n",
      "            'uptodate': [timeout(datetime.timedelta(weeks=4))],\n",
      "\n",
      "        }\n",
      "\n",
      "def task_reformat_data():\n",
      "    \"\"\"Reformats all raw files for easier analysis\"\"\"\n",
      "\n",
      "    for data_type in data_sets:\n",
      "        yield {\n",
      "            'actions': ['python reformat_weather_data.py %(dependencies)s > %(targets)s'],\n",
      "            'file_dep': ['UK_{}_data.txt'.format(data_type)],\n",
      "            'targets': ['UK_{}_data.reformatted.txt'.format(data_type)],\n",
      "            'name': 'UK_{}_data.txt'.format(data_type),\n",
      "        }"
     ],
     "language": "python",
     "metadata": {},
     "outputs": [
      {
       "output_type": "stream",
       "stream": "stdout",
       "text": [
        ".  download_data:Rainfall\n",
        "-- download_data:Tmean\n",
        "-- download_data:Sunshine\n",
        ".  reformat_data:UK_Rainfall_data.txt\n",
        "-- reformat_data:UK_Sunshine_data.txt\n",
        "-- reformat_data:UK_Tmean_data.txt\n"
       ]
      },
      {
       "output_type": "stream",
       "stream": "stderr",
       "text": [
        "--2014-04-05 12:08:58--  http://www.metoffice.gov.uk/climate/uk/datasets/Rainfall/ranked/UK.txt\n",
        "Resolving www.metoffice.gov.uk (www.metoffice.gov.uk)... 23.63.99.234, 23.63.99.216\n",
        "Connecting to www.metoffice.gov.uk (www.metoffice.gov.uk)|23.63.99.234|:80... connected.\n",
        "HTTP request sent, awaiting response... 200 OK\n",
        "Length: 25518 (25K) [text/plain]\n",
        "Saving to: \u2018UK_Rainfall_data.txt\u2019\n",
        "\n",
        "     0K .......... .......... ....                            100% 1.68M=0.01s\n",
        "\n",
        "2014-04-05 12:08:58 (1.68 MB/s) - \u2018UK_Rainfall_data.txt\u2019 saved [25518/25518]\n",
        "\n"
       ]
      }
     ],
     "prompt_number": 4
    },
    {
     "cell_type": "markdown",
     "metadata": {},
     "source": [
      "Now we have some shiny new rainfall data, properly formatted for further analysis:"
     ]
    },
    {
     "cell_type": "code",
     "collapsed": false,
     "input": [
      "!head UK_Rainfall_data.reformatted.txt"
     ],
     "language": "python",
     "metadata": {},
     "outputs": [
      {
       "output_type": "stream",
       "stream": "stdout",
       "text": [
        "month,value\r\n",
        "1910-01-01,111.4\r\n",
        "1910-02-01,79.5\r\n",
        "1910-03-01,75.5\r\n",
        "1910-04-01,69.1\r\n",
        "1910-05-01,66.4\r\n",
        "1910-06-01,65.3\r\n",
        "1910-07-01,81.6\r\n",
        "1910-08-01,90.3\r\n",
        "1910-09-01,92.0\r\n"
       ]
      }
     ],
     "prompt_number": 5
    },
    {
     "cell_type": "heading",
     "level": 3,
     "metadata": {},
     "source": [
      "Challenges:"
     ]
    },
    {
     "cell_type": "markdown",
     "metadata": {},
     "source": [
      "- Edit the rainfall_data.py file so that doit downloads the raw data files if they are older than 20 seconds\n",
      "- What will happen if we move the 'uptodate' configuration line from the download_data task to the reformat_data task?\n",
      "- Try it out and see if you were right!"
     ]
    }
   ],
   "metadata": {}
  }
 ]
}