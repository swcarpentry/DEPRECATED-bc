{
 "metadata": {
  "name": "",
  "signature": "sha256:b233526ae0c6448ce353aa4ad4d636f8a32ffcfdd18da66a58d4c383ea485207"
 },
 "nbformat": 3,
 "nbformat_minor": 0,
 "worksheets": [
  {
   "cells": [
    {
     "cell_type": "heading",
     "level": 2,
     "metadata": {
      "cell_tags": []
     },
     "source": [
      "Creating Data"
     ]
    },
    {
     "cell_type": "markdown",
     "metadata": {
      "cell_tags": [
       "objectives"
      ]
     },
     "source": [
      "#### Objectives\n",
      "\n",
      "*   Write Python programs that share data in a findable way."
     ]
    },
    {
     "cell_type": "heading",
     "level": 3,
     "metadata": {
      "cell_tags": []
     },
     "source": [
      "Step 1: Creating a Data Set"
     ]
    },
    {
     "cell_type": "markdown",
     "metadata": {},
     "source": [
      "In our previous lesson,\n",
      "we built functions called `get_annual_mean_temp_by_country` and `diff_records`\n",
      "to download temperature data for different countries\n",
      "and find annual differences.\n",
      "The next step is to share our findings with the world\n",
      "by making publishing the data sets we generate.\n",
      "To do this,\n",
      "we have to answer three questions:\n",
      "\n",
      "1.  How are we going to store the data?\n",
      "2.  How are people going to download it?\n",
      "3.  How are people going to *find* it?\n",
      "\n",
      "The first question is the easiest to answer:\n",
      "`diff_records` returns a list of (year, difference) pairs\n",
      "that we can write out as a CSV file:"
     ]
    },
    {
     "cell_type": "code",
     "collapsed": false,
     "input": [
      "import csv\n",
      "\n",
      "def save_records(filename, records):\n",
      "    '''Save a list of [year, temp] pairs as CSV.'''\n",
      "    with open(filename, 'w') as raw:\n",
      "        writer = csv.writer(raw)\n",
      "        writer.writerows(records)"
     ],
     "language": "python",
     "metadata": {},
     "outputs": [],
     "prompt_number": 2
    },
    {
     "cell_type": "markdown",
     "metadata": {},
     "source": [
      "Let's test it:"
     ]
    },
    {
     "cell_type": "code",
     "collapsed": false,
     "input": [
      "save_records('temp.csv', [[1, 2], [3, 4]])"
     ],
     "language": "python",
     "metadata": {},
     "outputs": [],
     "prompt_number": 3
    },
    {
     "cell_type": "code",
     "collapsed": false,
     "input": [
      "!cat temp.csv"
     ],
     "language": "python",
     "metadata": {},
     "outputs": [
      {
       "output_type": "stream",
       "stream": "stdout",
       "text": [
        "1,2\r",
        "\r\n",
        "3,4\r",
        "\r\n"
       ]
      }
     ],
     "prompt_number": 4
    },
    {
     "cell_type": "markdown",
     "metadata": {
      "cell_tags": [
       "challenges"
      ]
     },
     "source": [
      "#### Challenges\n",
      "\n",
      "1.  Modify `save_records` so that it can be tested using `cStringIO`.\n",
      "\n",
      "2.  Should `save_records` check that every record in its input is the same length? Why or why not?"
     ]
    },
    {
     "cell_type": "heading",
     "level": 3,
     "metadata": {},
     "source": [
      "Step 2: Publishing Data"
     ]
    },
    {
     "cell_type": "markdown",
     "metadata": {},
     "source": [
      "Now, where should this file go?\n",
      "The answer is clearly \"a server\",\n",
      "since data on our laptop is only accessible when we're online\n",
      "(and probably not even then,\n",
      "since most people don't run a web server on their laptop).\n",
      "But where on the server, and what should we call it?\n",
      "\n",
      "The answer to those questions depends on how the server is set up.\n",
      "On many multi-user Linux machines,\n",
      "users can create a directory called something like `public_html` under their home directory,\n",
      "and the web server will search in those directories.\n",
      "For example,\n",
      "if Nelle has a file called `thesis.pdf` in her `public_html` directory,\n",
      "the web server will find it when it gets the URL `http://the.server.name/u/nelle/thesis.pdf`.\n",
      "The specifics differ from one machine to the next,\n",
      "but the mechanism stays the same.\n",
      "\n",
      "As for what we should call it,\n",
      "here we return to the key idea in REST:\n",
      "every data set should be identified by a \"guessable\" URL.\n",
      "In our case,\n",
      "we'll use the name `left-right.csv`,\n",
      "where `left` and `right` are the three-letter codes of the countries\n",
      "whose mean annual temperatures we are differencing.\n",
      "We can then tell people that if they want to compare Australia and Brazil,\n",
      "they should look for `http://the.server.name/u/nelle/AUS-BRA.csv`.\n",
      "(We use upper case to be consistent with the World Bank's API.)\n",
      "\n",
      "But what's to prevent someone from creating a badly-named (and therefore unfindable) file?\n",
      "Someone could,\n",
      "for example,\n",
      "call `save_records('aus+bra.csv', records)`.\n",
      "To prevent this (or at least reduce the risk),\n",
      "let's modify `save_records` as follows:"
     ]
    },
    {
     "cell_type": "code",
     "collapsed": false,
     "input": [
      "import csv\n",
      "\n",
      "def save_records(left, right, records):\n",
      "    '''Save a list of [year, temp] pairs as CSV.'''\n",
      "    filename = left + '-' + right + '.csv'\n",
      "    with open(filename, 'w') as raw:\n",
      "        writer = csv.writer(raw)\n",
      "        writer.writerows(records)"
     ],
     "language": "python",
     "metadata": {},
     "outputs": [],
     "prompt_number": 5
    },
    {
     "cell_type": "markdown",
     "metadata": {},
     "source": [
      "We can now call it like this:"
     ]
    },
    {
     "cell_type": "code",
     "collapsed": false,
     "input": [
      "save_records('AUS', 'BRA', [[1, 2], [3, 4]])"
     ],
     "language": "python",
     "metadata": {},
     "outputs": [],
     "prompt_number": 6
    },
    {
     "cell_type": "markdown",
     "metadata": {},
     "source": [
      "and then check that the right output file has been created:"
     ]
    },
    {
     "cell_type": "code",
     "collapsed": false,
     "input": [
      "!cat AUS-BRA.csv"
     ],
     "language": "python",
     "metadata": {},
     "outputs": [
      {
       "output_type": "stream",
       "stream": "stdout",
       "text": [
        "1,2\r",
        "\r\n",
        "3,4\r",
        "\r\n"
       ]
      }
     ],
     "prompt_number": 7
    },
    {
     "cell_type": "markdown",
     "metadata": {},
     "source": [
      "Since we are bound to have the country codes anyway\n",
      "(having used them to look up our data),\n",
      "this is as little extra work as possible."
     ]
    },
    {
     "cell_type": "markdown",
     "metadata": {
      "cell_tags": [
       "challenges"
      ]
     },
     "source": [
      "#### Challenges\n",
      "\n",
      "1.  Find out how to publish a file on your department's server."
     ]
    },
    {
     "cell_type": "heading",
     "level": 3,
     "metadata": {},
     "source": [
      "Step 3: Making Data Findable"
     ]
    },
    {
     "cell_type": "markdown",
     "metadata": {},
     "source": [
      "The final step in this lesson is to make the data we generate findable.\n",
      "It's not enough to tell people what the rule is for creating filenames,\n",
      "since that doesn't tell them what data sets we've actually generated.\n",
      "Instead, we need to create an [index](../../gloss.html#index) to tell them what files exist.\n",
      "For reasons we will see in a moment,\n",
      "that index should also tell them when each data set was generated.\n",
      "\n",
      "Here's the format we will use:"
     ]
    },
    {
     "cell_type": "code",
     "collapsed": false,
     "input": [
      "!cat index.csv"
     ],
     "language": "python",
     "metadata": {},
     "outputs": [
      {
       "output_type": "stream",
       "stream": "stdout",
       "text": [
        "2014-05-26,FRA,TCD,FRA-TCD.csv\r\n",
        "2014-05-27,AUS,BRA,AUS-BRA.csv\r\n",
        "2014-05-27,AUS,CAN,AUS-CAN.csv\r\n",
        "2014-05-28,BRA,CAN,BRA-CAN.csv\r\n"
       ]
      }
     ],
     "prompt_number": 8
    },
    {
     "cell_type": "markdown",
     "metadata": {},
     "source": [
      "The four columns in this file are self-explanatory,\n",
      "but why do we bother to include the filename?\n",
      "After all,\n",
      "we can re-generate it easily given the two country codes.\n",
      "The answer is that while *we* know the rule for generating filenames,\n",
      "other people's programs shouldn't have to.\n",
      "Explicit is better than implicit.\n",
      "\n",
      "Here's a function that updates the index file every time we generate a new data file:"
     ]
    },
    {
     "cell_type": "code",
     "collapsed": false,
     "input": [
      "import time\n",
      "\n",
      "def update_index(index_filename, left, right):\n",
      "    '''Append a record to the index.'''\n",
      "\n",
      "    # Read existing data.\n",
      "    with open(index_filename, 'r') as raw:\n",
      "        reader = csv.reader(raw)\n",
      "        records = []\n",
      "        for r in reader:\n",
      "            records.append(r)\n",
      "    \n",
      "    # Create new record.\n",
      "    timestamp = time.strftime('%Y-%m-%d')\n",
      "    data_filename = left + '-' + right + '.csv'\n",
      "    new_record = (timestamp, left, right, data_filename)\n",
      "    \n",
      "    # Save.\n",
      "    records.append(new_record)\n",
      "    with open(index_filename, 'w') as raw:\n",
      "        writer = csv.writer(raw)\n",
      "        writer.writerows(records)"
     ],
     "language": "python",
     "metadata": {},
     "outputs": [],
     "prompt_number": 9
    },
    {
     "cell_type": "markdown",
     "metadata": {},
     "source": [
      "Let's test it:"
     ]
    },
    {
     "cell_type": "code",
     "collapsed": false,
     "input": [
      "!cat index.csv"
     ],
     "language": "python",
     "metadata": {},
     "outputs": [
      {
       "output_type": "stream",
       "stream": "stdout",
       "text": [
        "2014-05-26,FRA,TCD,FRA-TCD.csv\r\n",
        "2014-05-27,AUS,BRA,AUS-BRA.csv\r\n",
        "2014-05-27,AUS,CAN,AUS-CAN.csv\r\n",
        "2014-05-28,BRA,CAN,BRA-CAN.csv\r\n"
       ]
      }
     ],
     "prompt_number": 10
    },
    {
     "cell_type": "code",
     "collapsed": false,
     "input": [
      "update_index('index.csv', 'TCD', 'CAN')"
     ],
     "language": "python",
     "metadata": {},
     "outputs": [],
     "prompt_number": 11
    },
    {
     "cell_type": "code",
     "collapsed": false,
     "input": [
      "!cat index.csv"
     ],
     "language": "python",
     "metadata": {},
     "outputs": [
      {
       "output_type": "stream",
       "stream": "stdout",
       "text": [
        "2014-05-26,FRA,TCD,FRA-TCD.csv\r",
        "\r\n",
        "2014-05-27,AUS,BRA,AUS-BRA.csv\r",
        "\r\n",
        "2014-05-27,AUS,CAN,AUS-CAN.csv\r",
        "\r\n",
        "2014-05-28,BRA,CAN,BRA-CAN.csv\r",
        "\r\n",
        "2014-05-29,TCD,CAN,TCD-CAN.csv\r",
        "\r\n"
       ]
      }
     ],
     "prompt_number": 12
    },
    {
     "cell_type": "markdown",
     "metadata": {
      "cell_tags": [
       "challenges"
      ]
     },
     "source": [
      "#### Challenges\n",
      "\n",
      "1.  Should `update_index` be called inside `save_records`\n",
      "    so that the index is automatically updated every time a new data set is generated?\n",
      "    Why or why not?\n",
      "\n",
      "2.  `update_index` and `save_records` both construct the name of the data file.\n",
      "    Refactor them to remove this redundancy."
     ]
    },
    {
     "cell_type": "heading",
     "level": 3,
     "metadata": {},
     "source": [
      "The Payoff"
     ]
    },
    {
     "cell_type": "markdown",
     "metadata": {},
     "source": [
      "Now that all of this is in place,\n",
      "it's easy for us&mdash;and other people&mdash;to do new and exciting things with our data.\n",
      "For example,\n",
      "we can easily write a small program that tells us what data sets are available\n",
      "that include information about a particular country\n",
      "*and* have been published since we last checked:"
     ]
    },
    {
     "cell_type": "code",
     "collapsed": false,
     "input": [
      "def what_is_available(index_file, country, after):\n",
      "    '''What data files include a country and have been published since 'after'?'''\n",
      "    with open(index_file, 'r') as raw:\n",
      "        reader = csv.reader(raw)\n",
      "        filenames = []\n",
      "        for record in reader:\n",
      "            if (record[0] >= after) and (record[1] == country or record[2] == country):\n",
      "                filenames.append(record[3])\n",
      "    return filenames\n",
      "\n",
      "print what_is_available('index.csv', 'BRA', '2014-05-27')"
     ],
     "language": "python",
     "metadata": {},
     "outputs": [
      {
       "output_type": "stream",
       "stream": "stdout",
       "text": [
        "['AUS-BRA.csv', 'BRA-CAN.csv']\n"
       ]
      }
     ],
     "prompt_number": 14
    },
    {
     "cell_type": "markdown",
     "metadata": {},
     "source": [
      "This may not seem like a breakthrough,\n",
      "but it is actually an example of how the World Wide Web helps researchers do new kinds of science.\n",
      "With a little bit more work,\n",
      "we could create a file on *our* machine to record when we last ran `what_is_available`\n",
      "for each of several different sites that are producing data.\n",
      "Each time we run it,\n",
      "our program would:\n",
      "\n",
      "1.  read our local \"what to check\" file;\n",
      "2.  ask each data source whether it had any new data for us;\n",
      "3.  download and process that data; and\n",
      "4.  present us with a summary of the results.\n",
      "\n",
      "This is exactly how blogs work.\n",
      "Every blog reader keeps a list of blog URLs that it's supposed to check.\n",
      "When it is run,\n",
      "it goes to each of those sites and asks them for their index file\n",
      "(which is typically called something like `feed.xml`).\n",
      "It then checks the articles listed in that index\n",
      "against its local record of what has already been seen,\n",
      "then downloads any articles that are new.\n",
      "\n",
      "By automating this process,\n",
      "blogging tools help us focus attention on things that are actually worth looking at."
     ]
    },
    {
     "cell_type": "markdown",
     "metadata": {
      "cell_tags": [
       "keypoints"
      ]
     },
     "source": [
      "#### Key Points\n",
      "\n",
      "*   Publish data by putting files with predictable names in a publicly-accessible location.\n",
      "*   Create a machine-readable index to explicitly tell people what data sets are available."
     ]
    }
   ],
   "metadata": {}
  }
 ]
}