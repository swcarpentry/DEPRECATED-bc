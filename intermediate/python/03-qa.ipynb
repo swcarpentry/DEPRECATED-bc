{
 "metadata": {
  "name": ""
 },
 "nbformat": 3,
 "nbformat_minor": 0,
 "worksheets": [
  {
   "cells": [
    {
     "cell_type": "heading",
     "level": 1,
     "metadata": {},
     "source": [
      "Getting the Right Answer"
     ]
    },
    {
     "cell_type": "markdown",
     "metadata": {},
     "source": [
      "Our previous lessons have introduced the basic tools of programming:\n",
      "variables and lists,\n",
      "file I/O,\n",
      "loops,\n",
      "conditionals,\n",
      "and most importantly,\n",
      "functions.\n",
      "What they haven't done is show us how to tell if a program is getting the right answer.\n",
      "For the sake of argument, if each line we write has a 99% chance of being right,\n",
      "then a 70-line program will be wrong more than half the time.\n",
      "We need to do better than that,\n",
      "which means we need to:\n",
      "\n",
      "* write programs that check their own operation; and\n",
      "* write tests to catch the mistakes those self-checks miss.\n",
      "\n",
      "Along the way,\n",
      "we will learn:\n",
      "\n",
      "* how Python reports and handles errors;\n",
      "* how to use a unit testing framework;\n",
      "* when it's useful to write tests *before* writing code."
     ]
    },
    {
     "cell_type": "heading",
     "level": 2,
     "metadata": {},
     "source": [
      "Defensive Programming"
     ]
    },
    {
     "cell_type": "markdown",
     "metadata": {},
     "source": [
      "We made several mistakes while writing the programs in our first few lessons.\n",
      "How can we be sure that there aren't still errors lurking in the code we have?\n",
      "And how can we guard against introducing new errors in code as we modify it?\n",
      "\n",
      "The first step is to use [defensive programming](../../gloss.html#defensive_programming),\n",
      "i.e.,\n",
      "to assume that mistakes *will* happen\n",
      "and to guard against them.\n",
      "One way to do this is to add [assertions](../../gloss.html#assertion) to our code\n",
      "so that it checks itself as it runs.\n",
      "An assertion is simply a statement that something must be true at a certain point in a program.\n",
      "When Python sees one,\n",
      "it checks that the assertion's condition.\n",
      "If it's true,\n",
      "Python does nothing,\n",
      "but if it's false,\n",
      "Python halts the program immediately\n",
      "and prints the error message provided.\n",
      "For example,\n",
      "this piece of code halts as soon as the loop encounters a value that isn't positive:"
     ]
    },
    {
     "cell_type": "code",
     "collapsed": false,
     "input": [
      "numbers = [1.5, 2.3, 0.7, -0.001, 4.4]\n",
      "total = 0.0\n",
      "for n in numbers:\n",
      "    assert n >= 0.0, 'Data should only contain positive values'\n",
      "    total += n\n",
      "print 'total is:', total"
     ],
     "language": "python",
     "metadata": {},
     "outputs": [
      {
       "ename": "AssertionError",
       "evalue": "Data should only contain positive values",
       "output_type": "pyerr",
       "traceback": [
        "\u001b[0;31m---------------------------------------------------------------------------\u001b[0m\n\u001b[0;31mAssertionError\u001b[0m                            Traceback (most recent call last)",
        "\u001b[0;32m<ipython-input-1-33d87ea29ae4>\u001b[0m in \u001b[0;36m<module>\u001b[0;34m()\u001b[0m\n\u001b[1;32m      2\u001b[0m \u001b[0mtotal\u001b[0m \u001b[0;34m=\u001b[0m \u001b[0;36m0.0\u001b[0m\u001b[0;34m\u001b[0m\u001b[0m\n\u001b[1;32m      3\u001b[0m \u001b[0;32mfor\u001b[0m \u001b[0mn\u001b[0m \u001b[0;32min\u001b[0m \u001b[0mnumbers\u001b[0m\u001b[0;34m:\u001b[0m\u001b[0;34m\u001b[0m\u001b[0m\n\u001b[0;32m----> 4\u001b[0;31m     \u001b[0;32massert\u001b[0m \u001b[0mn\u001b[0m \u001b[0;34m>=\u001b[0m \u001b[0;36m0.0\u001b[0m\u001b[0;34m,\u001b[0m \u001b[0;34m'Data should only contain positive values'\u001b[0m\u001b[0;34m\u001b[0m\u001b[0m\n\u001b[0m\u001b[1;32m      5\u001b[0m     \u001b[0mtotal\u001b[0m \u001b[0;34m+=\u001b[0m \u001b[0mn\u001b[0m\u001b[0;34m\u001b[0m\u001b[0m\n\u001b[1;32m      6\u001b[0m \u001b[0;32mprint\u001b[0m \u001b[0;34m'total is:'\u001b[0m\u001b[0;34m,\u001b[0m \u001b[0mtotal\u001b[0m\u001b[0;34m\u001b[0m\u001b[0m\n",
        "\u001b[0;31mAssertionError\u001b[0m: Data should only contain positive values"
       ]
      }
     ],
     "prompt_number": 1
    },
    {
     "cell_type": "markdown",
     "metadata": {},
     "source": [
      "Programs like the Firefox browser are littered with assertions:\n",
      "10-20% of the code they contain\n",
      "are there to check that the other 80-90% are working correctly.\n",
      "Broadly speaking,\n",
      "assertions fall into three categories:\n",
      "\n",
      "-   A [precondition](../../gloss.html#precondition) is something that must be true\n",
      "    at the start of a function in order for it to work correctly.\n",
      "-   A [postcondition](../../gloss.html#postcondition) is something that\n",
      "    the function guarantees is true when it finishes.\n",
      "-   An [invariant](../../gloss.html#invariant) is something that is always true\n",
      "    at a particular point inside a piece of code.\n",
      "\n",
      "For example,\n",
      "suppose we are representing rectangles using a tuple of four coordinates `(x0, y0, x1, y1)`.\n",
      "In order to do some calculations,\n",
      "we need to normalize the rectangle so that it is at the origin\n",
      "and 1.0 units long on its longest axis.\n",
      "This function does that,\n",
      "but checks that its input is correctly formatted and that its result makes sense:"
     ]
    },
    {
     "cell_type": "code",
     "collapsed": false,
     "input": [
      "def normalize_rectangle(rect):\n",
      "    assert len(rect) == 4, 'Rectangles must contain 4 coordinates'\n",
      "    x0, y0, x1, y1 = rect\n",
      "    assert x0 < x1, 'Invalid X coordinates'\n",
      "    assert y0 < y1, 'Invalid Y coordinates'\n",
      "\n",
      "    dx = x1 - x0\n",
      "    dy = y1 - y0\n",
      "    if dx > dy:\n",
      "        scaled = float(dx) / dy\n",
      "        upper_x, upper_y = 1.0, scaled\n",
      "    else:\n",
      "        scaled = float(dx) / dy\n",
      "        upper_x, upper_y = scaled, 1.0\n",
      "\n",
      "    assert 0 < upper_x <= 1.0, 'Calculated upper X coordinate invalid'\n",
      "    assert 0 < upper_y <= 1.0, 'Calculated upper Y coordinate invalid'\n",
      "\n",
      "    return (0, 0, upper_x, upper_y)"
     ],
     "language": "python",
     "metadata": {},
     "outputs": [],
     "prompt_number": 21
    },
    {
     "cell_type": "markdown",
     "metadata": {},
     "source": [
      "The preconditions on lines 2, 4, and 5 catch invalid inputs:"
     ]
    },
    {
     "cell_type": "code",
     "collapsed": false,
     "input": [
      "print normalize_rectangle( (0.0, 1.0, 2.0) ) # missing the fourth coordinate"
     ],
     "language": "python",
     "metadata": {},
     "outputs": [
      {
       "ename": "AssertionError",
       "evalue": "Rectangles must contain 4 coordinates",
       "output_type": "pyerr",
       "traceback": [
        "\u001b[0;31m---------------------------------------------------------------------------\u001b[0m\n\u001b[0;31mAssertionError\u001b[0m                            Traceback (most recent call last)",
        "\u001b[0;32m<ipython-input-22-3a97b1dcab70>\u001b[0m in \u001b[0;36m<module>\u001b[0;34m()\u001b[0m\n\u001b[0;32m----> 1\u001b[0;31m \u001b[0;32mprint\u001b[0m \u001b[0mnormalize_rectangle\u001b[0m\u001b[0;34m(\u001b[0m \u001b[0;34m(\u001b[0m\u001b[0;36m0.0\u001b[0m\u001b[0;34m,\u001b[0m \u001b[0;36m1.0\u001b[0m\u001b[0;34m,\u001b[0m \u001b[0;36m2.0\u001b[0m\u001b[0;34m)\u001b[0m \u001b[0;34m)\u001b[0m \u001b[0;31m# missing the fourth coordinate\u001b[0m\u001b[0;34m\u001b[0m\u001b[0m\n\u001b[0m",
        "\u001b[0;32m<ipython-input-21-fdb49ef456c2>\u001b[0m in \u001b[0;36mnormalize_rectangle\u001b[0;34m(rect)\u001b[0m\n\u001b[1;32m      1\u001b[0m \u001b[0;32mdef\u001b[0m \u001b[0mnormalize_rectangle\u001b[0m\u001b[0;34m(\u001b[0m\u001b[0mrect\u001b[0m\u001b[0;34m)\u001b[0m\u001b[0;34m:\u001b[0m\u001b[0;34m\u001b[0m\u001b[0m\n\u001b[0;32m----> 2\u001b[0;31m     \u001b[0;32massert\u001b[0m \u001b[0mlen\u001b[0m\u001b[0;34m(\u001b[0m\u001b[0mrect\u001b[0m\u001b[0;34m)\u001b[0m \u001b[0;34m==\u001b[0m \u001b[0;36m4\u001b[0m\u001b[0;34m,\u001b[0m \u001b[0;34m'Rectangles must contain 4 coordinates'\u001b[0m\u001b[0;34m\u001b[0m\u001b[0m\n\u001b[0m\u001b[1;32m      3\u001b[0m     \u001b[0mx0\u001b[0m\u001b[0;34m,\u001b[0m \u001b[0my0\u001b[0m\u001b[0;34m,\u001b[0m \u001b[0mx1\u001b[0m\u001b[0;34m,\u001b[0m \u001b[0my1\u001b[0m \u001b[0;34m=\u001b[0m \u001b[0mrect\u001b[0m\u001b[0;34m\u001b[0m\u001b[0m\n\u001b[1;32m      4\u001b[0m     \u001b[0;32massert\u001b[0m \u001b[0mx0\u001b[0m \u001b[0;34m<\u001b[0m \u001b[0mx1\u001b[0m\u001b[0;34m,\u001b[0m \u001b[0;34m'Invalid X coordinates'\u001b[0m\u001b[0;34m\u001b[0m\u001b[0m\n\u001b[1;32m      5\u001b[0m     \u001b[0;32massert\u001b[0m \u001b[0my0\u001b[0m \u001b[0;34m<\u001b[0m \u001b[0my1\u001b[0m\u001b[0;34m,\u001b[0m \u001b[0;34m'Invalid Y coordinates'\u001b[0m\u001b[0;34m\u001b[0m\u001b[0m\n",
        "\u001b[0;31mAssertionError\u001b[0m: Rectangles must contain 4 coordinates"
       ]
      }
     ],
     "prompt_number": 22
    },
    {
     "cell_type": "code",
     "collapsed": false,
     "input": [
      "print normalize_rectangle( (4.0, 2.0, 1.0, 5.0) ) # X axis inverted"
     ],
     "language": "python",
     "metadata": {},
     "outputs": [
      {
       "ename": "AssertionError",
       "evalue": "Invalid X coordinates",
       "output_type": "pyerr",
       "traceback": [
        "\u001b[0;31m---------------------------------------------------------------------------\u001b[0m\n\u001b[0;31mAssertionError\u001b[0m                            Traceback (most recent call last)",
        "\u001b[0;32m<ipython-input-23-f05ae7878a45>\u001b[0m in \u001b[0;36m<module>\u001b[0;34m()\u001b[0m\n\u001b[0;32m----> 1\u001b[0;31m \u001b[0;32mprint\u001b[0m \u001b[0mnormalize_rectangle\u001b[0m\u001b[0;34m(\u001b[0m \u001b[0;34m(\u001b[0m\u001b[0;36m4.0\u001b[0m\u001b[0;34m,\u001b[0m \u001b[0;36m2.0\u001b[0m\u001b[0;34m,\u001b[0m \u001b[0;36m1.0\u001b[0m\u001b[0;34m,\u001b[0m \u001b[0;36m5.0\u001b[0m\u001b[0;34m)\u001b[0m \u001b[0;34m)\u001b[0m \u001b[0;31m# X axis inverted\u001b[0m\u001b[0;34m\u001b[0m\u001b[0m\n\u001b[0m",
        "\u001b[0;32m<ipython-input-21-fdb49ef456c2>\u001b[0m in \u001b[0;36mnormalize_rectangle\u001b[0;34m(rect)\u001b[0m\n\u001b[1;32m      2\u001b[0m     \u001b[0;32massert\u001b[0m \u001b[0mlen\u001b[0m\u001b[0;34m(\u001b[0m\u001b[0mrect\u001b[0m\u001b[0;34m)\u001b[0m \u001b[0;34m==\u001b[0m \u001b[0;36m4\u001b[0m\u001b[0;34m,\u001b[0m \u001b[0;34m'Rectangles must contain 4 coordinates'\u001b[0m\u001b[0;34m\u001b[0m\u001b[0m\n\u001b[1;32m      3\u001b[0m     \u001b[0mx0\u001b[0m\u001b[0;34m,\u001b[0m \u001b[0my0\u001b[0m\u001b[0;34m,\u001b[0m \u001b[0mx1\u001b[0m\u001b[0;34m,\u001b[0m \u001b[0my1\u001b[0m \u001b[0;34m=\u001b[0m \u001b[0mrect\u001b[0m\u001b[0;34m\u001b[0m\u001b[0m\n\u001b[0;32m----> 4\u001b[0;31m     \u001b[0;32massert\u001b[0m \u001b[0mx0\u001b[0m \u001b[0;34m<\u001b[0m \u001b[0mx1\u001b[0m\u001b[0;34m,\u001b[0m \u001b[0;34m'Invalid X coordinates'\u001b[0m\u001b[0;34m\u001b[0m\u001b[0m\n\u001b[0m\u001b[1;32m      5\u001b[0m     \u001b[0;32massert\u001b[0m \u001b[0my0\u001b[0m \u001b[0;34m<\u001b[0m \u001b[0my1\u001b[0m\u001b[0;34m,\u001b[0m \u001b[0;34m'Invalid Y coordinates'\u001b[0m\u001b[0;34m\u001b[0m\u001b[0m\n\u001b[1;32m      6\u001b[0m \u001b[0;34m\u001b[0m\u001b[0m\n",
        "\u001b[0;31mAssertionError\u001b[0m: Invalid X coordinates"
       ]
      }
     ],
     "prompt_number": 23
    },
    {
     "cell_type": "markdown",
     "metadata": {},
     "source": [
      "The post-conditions help us catch bugs by telling us when our calculations cannot have been correct.\n",
      "For example,\n",
      "if we normalize a rectangle that is taller than it is wide everything seems OK:"
     ]
    },
    {
     "cell_type": "code",
     "collapsed": false,
     "input": [
      "print normalize_rectangle( (0.0, 0.0, 1.0, 5.0) )"
     ],
     "language": "python",
     "metadata": {},
     "outputs": [
      {
       "output_type": "stream",
       "stream": "stdout",
       "text": [
        "(0, 0, 0.2, 1.0)\n"
       ]
      }
     ],
     "prompt_number": 25
    },
    {
     "cell_type": "markdown",
     "metadata": {},
     "source": [
      "but if we normalize one that's wider than it is tall,\n",
      "the assertion is triggered:"
     ]
    },
    {
     "cell_type": "code",
     "collapsed": false,
     "input": [
      "print normalize_rectangle( (0.0, 0.0, 5.0, 1.0) )"
     ],
     "language": "python",
     "metadata": {},
     "outputs": [
      {
       "ename": "AssertionError",
       "evalue": "Calculated upper Y coordinate invalid",
       "output_type": "pyerr",
       "traceback": [
        "\u001b[0;31m---------------------------------------------------------------------------\u001b[0m\n\u001b[0;31mAssertionError\u001b[0m                            Traceback (most recent call last)",
        "\u001b[0;32m<ipython-input-27-5f0ef7954aeb>\u001b[0m in \u001b[0;36m<module>\u001b[0;34m()\u001b[0m\n\u001b[0;32m----> 1\u001b[0;31m \u001b[0;32mprint\u001b[0m \u001b[0mnormalize_rectangle\u001b[0m\u001b[0;34m(\u001b[0m \u001b[0;34m(\u001b[0m\u001b[0;36m0.0\u001b[0m\u001b[0;34m,\u001b[0m \u001b[0;36m0.0\u001b[0m\u001b[0;34m,\u001b[0m \u001b[0;36m5.0\u001b[0m\u001b[0;34m,\u001b[0m \u001b[0;36m1.0\u001b[0m\u001b[0;34m)\u001b[0m \u001b[0;34m)\u001b[0m\u001b[0;34m\u001b[0m\u001b[0m\n\u001b[0m",
        "\u001b[0;32m<ipython-input-21-fdb49ef456c2>\u001b[0m in \u001b[0;36mnormalize_rectangle\u001b[0;34m(rect)\u001b[0m\n\u001b[1;32m     15\u001b[0m \u001b[0;34m\u001b[0m\u001b[0m\n\u001b[1;32m     16\u001b[0m     \u001b[0;32massert\u001b[0m \u001b[0;36m0\u001b[0m \u001b[0;34m<\u001b[0m \u001b[0mupper_x\u001b[0m \u001b[0;34m<=\u001b[0m \u001b[0;36m1.0\u001b[0m\u001b[0;34m,\u001b[0m \u001b[0;34m'Calculated upper X coordinate invalid'\u001b[0m\u001b[0;34m\u001b[0m\u001b[0m\n\u001b[0;32m---> 17\u001b[0;31m     \u001b[0;32massert\u001b[0m \u001b[0;36m0\u001b[0m \u001b[0;34m<\u001b[0m \u001b[0mupper_y\u001b[0m \u001b[0;34m<=\u001b[0m \u001b[0;36m1.0\u001b[0m\u001b[0;34m,\u001b[0m \u001b[0;34m'Calculated upper Y coordinate invalid'\u001b[0m\u001b[0;34m\u001b[0m\u001b[0m\n\u001b[0m\u001b[1;32m     18\u001b[0m \u001b[0;34m\u001b[0m\u001b[0m\n\u001b[1;32m     19\u001b[0m     \u001b[0;32mreturn\u001b[0m \u001b[0;34m(\u001b[0m\u001b[0;36m0\u001b[0m\u001b[0;34m,\u001b[0m \u001b[0;36m0\u001b[0m\u001b[0;34m,\u001b[0m \u001b[0mupper_x\u001b[0m\u001b[0;34m,\u001b[0m \u001b[0mupper_y\u001b[0m\u001b[0;34m)\u001b[0m\u001b[0;34m\u001b[0m\u001b[0m\n",
        "\u001b[0;31mAssertionError\u001b[0m: Calculated upper Y coordinate invalid"
       ]
      }
     ],
     "prompt_number": 27
    },
    {
     "cell_type": "markdown",
     "metadata": {},
     "source": [
      "Re-reading our function,\n",
      "we realize that line 10 should divide `dy` by `dx` rather than `dx` by `dy`.\n",
      "(You can display line numbers by typing Ctrl-M, then L.)\n",
      "If we had left out the assertion at the end of the function,\n",
      "we would have created and returned something that looked like a valid answer,\n",
      "but wasn't;\n",
      "detecting and debugging that would almost certainly have taken more time in the long run\n",
      "than writing the assertion.\n",
      "\n",
      "But assertions aren't just about catching errors:\n",
      "they also help people understand programs.\n",
      "Each assertion gives the person reading the program\n",
      "a chance to check (consciously or otherwise)\n",
      "that their understanding matches what the code is doing.\n",
      "\n",
      "Most good programmers follow two rules when adding assertions to their code.\n",
      "The first is, \"[fail early, fail often](../../rules.html#fail-early-fail-often)\".\n",
      "The greater the distance between when and where an error occurs and when it's noticed,\n",
      "the harder the error will be to debug,\n",
      "so good code catches mistakes as early as possible.\n",
      "\n",
      "The second rule is, \"[turns bugs into assertions or tests](../../rules.html#turn-bugs-into-assertions-or-tests)\".\n",
      "If you made a mistake in a piece of code,\n",
      "the odds are good that you have made other mistakes nearby,\n",
      "or will make the same mistake (or a related one)\n",
      "the next time you change it.\n",
      "Writing assertions to check that you haven't [regressed](../../gloss.html#regression)\n",
      "(i.e., haven't re-introduced an old problem)\n",
      "can save a lot of time in the long run,\n",
      "and helps to warn people who are reading the code\n",
      "(including your future self)\n",
      "that this bit is tricky."
     ]
    },
    {
     "cell_type": "markdown",
     "metadata": {},
     "source": [
      "### Challenges\n",
      "\n",
      "1.  Suppose you are writing a function called `average` that calculates the average of the numbers in a list.\n",
      "    What pre-conditions and post-conditions would you write for it?\n",
      "    Compare your answer to your neighbor's:\n",
      "    can you think of a function that will past your tests but not hers or vice versa?\n",
      "\n",
      "2.  Explain in words what the assertions in this code check,\n",
      "    and for each one,\n",
      "    give an example of input that will make that assertion fail.\n",
      "    \n",
      "    ```\n",
      "    def running(values):\n",
      "        assert len(values) > 0\n",
      "        result = [values[0]]\n",
      "        for v in values[1:]:\n",
      "            assert result[-1] >= 0\n",
      "            result.append(result[-1] + v)\n",
      "        assert result[-1] >= result[0]\n",
      "        return result\n",
      "    ```"
     ]
    },
    {
     "cell_type": "heading",
     "level": 2,
     "metadata": {},
     "source": [
      "Exceptions"
     ]
    },
    {
     "cell_type": "markdown",
     "metadata": {},
     "source": [
      "Assertions help us catch errors in our code,\n",
      "but things can go wrong for other reasons,\n",
      "like missing or badly-formatted files.\n",
      "Most modern programming languages allow programmers to use [exceptions](../../gloss.html#exception) to separate\n",
      "what the program should do if everything goes right\n",
      "from what it should do if something goes wrong.\n",
      "Doing this makes both cases easier to read and understand.\n",
      "\n",
      "For example,\n",
      "here's a small piece of code that tries to read parameters and a grid from two separate files,\n",
      "and reports an error if either goes wrong:"
     ]
    },
    {
     "cell_type": "markdown",
     "metadata": {},
     "source": [
      "```python\n",
      "try:\n",
      "    params = read_params(param_file)\n",
      "    grid = read_grid(grid_file)\n",
      "except:\n",
      "    log.error('Failed to read input file(s)')\n",
      "    sys.exit(ERROR)\n",
      "```"
     ]
    },
    {
     "cell_type": "markdown",
     "metadata": {},
     "source": [
      "We join the normal case and the error-handling code using the keywords `try` and `except`.\n",
      "These work together like `if` and `else`:\n",
      "the statements under the `try` are what should happen if everything works,\n",
      "while the statements under `except` are what the program should do if something goes wrong.\n",
      "\n",
      "We have actually seen exceptions before without knowing it,\n",
      "since by default,\n",
      "when an exception occurs,\n",
      "Python prints it out and halts our program.\n",
      "For example,\n",
      "trying to open a nonexistent file triggers a type of exception called an `IOError`,\n",
      "while an out-of-bounds index to a list triggers an `IndexError`:"
     ]
    },
    {
     "cell_type": "code",
     "collapsed": false,
     "input": [
      "open('nonexistent-file.txt', 'r')"
     ],
     "language": "python",
     "metadata": {},
     "outputs": [
      {
       "ename": "IOError",
       "evalue": "[Errno 2] No such file or directory: 'nonexistent-file.txt'",
       "output_type": "pyerr",
       "traceback": [
        "\u001b[0;31m---------------------------------------------------------------------------\u001b[0m\n\u001b[0;31mIOError\u001b[0m                                   Traceback (most recent call last)",
        "\u001b[0;32m<ipython-input-13-58cbde3dd63c>\u001b[0m in \u001b[0;36m<module>\u001b[0;34m()\u001b[0m\n\u001b[0;32m----> 1\u001b[0;31m \u001b[0mopen\u001b[0m\u001b[0;34m(\u001b[0m\u001b[0;34m'nonexistent-file.txt'\u001b[0m\u001b[0;34m,\u001b[0m \u001b[0;34m'r'\u001b[0m\u001b[0;34m)\u001b[0m\u001b[0;34m\u001b[0m\u001b[0m\n\u001b[0m",
        "\u001b[0;31mIOError\u001b[0m: [Errno 2] No such file or directory: 'nonexistent-file.txt'"
       ]
      }
     ],
     "prompt_number": 13
    },
    {
     "cell_type": "code",
     "collapsed": false,
     "input": [
      "values = [0, 1, 2]\n",
      "print values[999]"
     ],
     "language": "python",
     "metadata": {},
     "outputs": [
      {
       "ename": "IndexError",
       "evalue": "list index out of range",
       "output_type": "pyerr",
       "traceback": [
        "\u001b[0;31m---------------------------------------------------------------------------\u001b[0m\n\u001b[0;31mIndexError\u001b[0m                                Traceback (most recent call last)",
        "\u001b[0;32m<ipython-input-14-7fed13afc650>\u001b[0m in \u001b[0;36m<module>\u001b[0;34m()\u001b[0m\n\u001b[1;32m      1\u001b[0m \u001b[0mvalues\u001b[0m \u001b[0;34m=\u001b[0m \u001b[0;34m[\u001b[0m\u001b[0;36m0\u001b[0m\u001b[0;34m,\u001b[0m \u001b[0;36m1\u001b[0m\u001b[0;34m,\u001b[0m \u001b[0;36m2\u001b[0m\u001b[0;34m]\u001b[0m\u001b[0;34m\u001b[0m\u001b[0m\n\u001b[0;32m----> 2\u001b[0;31m \u001b[0;32mprint\u001b[0m \u001b[0mvalues\u001b[0m\u001b[0;34m[\u001b[0m\u001b[0;36m999\u001b[0m\u001b[0;34m]\u001b[0m\u001b[0;34m\u001b[0m\u001b[0m\n\u001b[0m",
        "\u001b[0;31mIndexError\u001b[0m: list index out of range"
       ]
      }
     ],
     "prompt_number": 14
    },
    {
     "cell_type": "markdown",
     "metadata": {},
     "source": [
      "We can use `try` and `except` to deal with these errors ourselves\n",
      "if we don't want the program simply to fall over:"
     ]
    },
    {
     "cell_type": "code",
     "collapsed": false,
     "input": [
      "try:\n",
      "    reader = open('nonexistent-file.txt', 'r')\n",
      "except IOError:\n",
      "    print 'Whoops!'"
     ],
     "language": "python",
     "metadata": {},
     "outputs": [
      {
       "output_type": "stream",
       "stream": "stdout",
       "text": [
        "Whoops!\n"
       ]
      }
     ],
     "prompt_number": 15
    },
    {
     "cell_type": "markdown",
     "metadata": {},
     "source": [
      "When Python executes this code,\n",
      "it runs the statement inside the `try`.\n",
      "If that works, it skips over the `except` block without running it.\n",
      "If an exception occurs inside the `try` block,\n",
      "though,\n",
      "Python compares the type of the exception to the type specified by the `except`.\n",
      "If they match, it executes the code in the `except` block.\n",
      "\n",
      "`IOError` is the particular kind of exception Python raises\n",
      "when there is a problem related to input and output,\n",
      "such as files not existing\n",
      "or the program not having the permissions it needs to read them.\n",
      "We can put as many lines of code in a `try` block as we want,\n",
      "just as we can put many statements under an `if`.\n",
      "We can also handle several different kinds of errors afterward.\n",
      "For example,\n",
      "here's some code to calculate the entropy at each point in a grid:"
     ]
    },
    {
     "cell_type": "markdown",
     "metadata": {},
     "source": [
      "```python\n",
      "try:\n",
      "    params = read_params(param_file)\n",
      "    grid = read_grid(grid_file)\n",
      "    entropy = lee_entropy(params, grid)\n",
      "    write_entropy(entropy_file, entropy)\n",
      "except IOError:\n",
      "    report_error_and_exit('IO error')\n",
      "except ArithmeticError:\n",
      "    report_error_and_exit('Arithmetic error')\n",
      "```"
     ]
    },
    {
     "cell_type": "markdown",
     "metadata": {},
     "source": [
      "Python tries to run the four functions inside the `try` as normal.\n",
      "If an error occurs in any of them,\n",
      "Python immediately jumps down\n",
      "and tries to find an `except` of the corresponding type:\n",
      "if the exception is an `IOError`,\n",
      "Python jumps into the first error handler,\n",
      "while if it's an `ArithmeticError`,\n",
      "Python jumps into the second handler instead.\n",
      "It will only execute one of these,\n",
      "just as it will only execute one branch\n",
      "of a series of `if`/`elif`/`else` statements.\n",
      "\n",
      "This layout has made the code easier to read,\n",
      "but we've lost something important:\n",
      "the message printed out by the `IOError` branch doesn't tell us\n",
      "which file caused the problem.\n",
      "We can do better if we capture and hang on to the object that Python creates\n",
      "to record information about the error:"
     ]
    },
    {
     "cell_type": "markdown",
     "metadata": {},
     "source": [
      "```python\n",
      "try:\n",
      "    params = read_params(param_file)\n",
      "    grid = read_grid(grid_file)\n",
      "    entropy = lee_entropy(params, grid)\n",
      "    write_entropy(entropy_file, entropy)\n",
      "except IOError as err:\n",
      "    report_error_and_exit('Cannot read/write' + err.filename)\n",
      "except ArithmeticError as err:\n",
      "    report_error_and_exit(err.message)\n",
      "```"
     ]
    },
    {
     "cell_type": "markdown",
     "metadata": {},
     "source": [
      "If something goes wrong in the `try`,\n",
      "Python creates an exception object,\n",
      "fills it with information,\n",
      "and assigns it to the variable `err`.\n",
      "(There's nothing special about this variable name&mdash;we can use anything we want.)\n",
      "Exactly what information is recorded depends on what kind of error occurred;\n",
      "Python's documentation describes the properties of each type of error in detail,\n",
      "but we can always just print the exception object.\n",
      "In the case of an I/O error,\n",
      "we print out the name of the file that caused the problem.\n",
      "And in the case of an arithmetic error,\n",
      "printing out the message embedded in the exception object is what Python would have done anyway.\n",
      "\n",
      "So much for how exceptions work:\n",
      "how should they be used?\n",
      "Some programmers use `try` and `except` to give their programs default behaviors.\n",
      "For example,\n",
      "if this code can't read the grid file that the user has asked for,\n",
      "it creates a default grid instead:"
     ]
    },
    {
     "cell_type": "markdown",
     "metadata": {},
     "source": [
      "```python\n",
      "try:\n",
      "    grid = read_grid(grid_file)\n",
      "except IOError:\n",
      "    grid = default_grid()\n",
      "```"
     ]
    },
    {
     "cell_type": "markdown",
     "metadata": {},
     "source": [
      "Other programmers would explicitly test for the grid file,\n",
      "and use `if` and `else` for control flow:"
     ]
    },
    {
     "cell_type": "markdown",
     "metadata": {},
     "source": [
      "```python\n",
      "if file_exists(grid_file):\n",
      "    grid = read_grid(grid_file)\n",
      "else:\n",
      "    grid = default_grid()\n",
      "```"
     ]
    },
    {
     "cell_type": "markdown",
     "metadata": {},
     "source": [
      "It's mostly a matter of taste,\n",
      "but we prefer the second style.\n",
      "As a rule,\n",
      "exceptions should only be used to handle exceptional cases.\n",
      "If the program knows how to fall back to a default grid,\n",
      "that's not an unexpected event.\n",
      "Using `if` and `else`\n",
      "instead of `try` and `except`\n",
      "sends different signals to anyone reading our code,\n",
      "even if they do the same thing.\n",
      "\n",
      "Novices often ask another question about exception handling style as well,\n",
      "but before we address it,\n",
      "there's something in our example that you might not have noticed.\n",
      "Exceptions can actually be thrown a long way:\n",
      "they don't have to be handled immediately.\n",
      "Take another look at this code:"
     ]
    },
    {
     "cell_type": "markdown",
     "metadata": {},
     "source": [
      "```python\n",
      "try:\n",
      "    params = read_params(param_file)\n",
      "    grid = read_grid(grid_file)\n",
      "    entropy = lee_entropy(params, grid)\n",
      "    write_entropy(entropy_file, entropy)\n",
      "except IOError as err:\n",
      "    report_error_and_exit('Cannot read/write' + err.filename)\n",
      "except ArithmeticError as err:\n",
      "    report_error_and_exit(err.message)\n",
      "```"
     ]
    },
    {
     "cell_type": "markdown",
     "metadata": {},
     "source": [
      "The four lines in the `try` block are all function calls.\n",
      "They might catch and handle exceptions themselves,\n",
      "but if an exception occurs in one of them that *isn't* handled internally,\n",
      "Python looks in the calling code for a matching `except`.\n",
      "If it doesn't find one there,\n",
      "it looks in that function's caller,\n",
      "and so on.\n",
      "If we get all the way back to the main program without finding an exception handler,\n",
      "Python's default behavior is to print an error message like the ones we've been seeing all along.\n",
      "\n",
      "This rule is the origin of the rule \"Throw Low, Catch High.\"\n",
      "There are many places in our program where an error might occur.\n",
      "There are only a few, though, where errors can sensibly be handled.\n",
      "For example,\n",
      "a linear algebra library doesn't know whether it's being called directly from the Python interpreter,\n",
      "or whether it's being used as a component in a larger program.\n",
      "In the latter case,\n",
      "the library doesn't know if the program that's calling it is being run from the command line or from a GUI.\n",
      "The library therefore shouldn't try to handle or report errors itself,\n",
      "because it has no way of knowing what the right way to do this is.\n",
      "It should instead just raise an exception,\n",
      "and let its caller figure out how best to handle it.\n",
      "\n",
      "Finally,\n",
      "we can raise exceptions ourselves if we want to.\n",
      "In fact,\n",
      "we *should* do this,\n",
      "since it's the standard way in Python to signal that something has gone wrong.\n",
      "Here,\n",
      "for example,\n",
      "is a function that reads a grid and checks its consistency:"
     ]
    },
    {
     "cell_type": "markdown",
     "metadata": {},
     "source": [
      "```python\n",
      "def read_grid(grid_file):\n",
      "    '''Read grid, checking consistency.'''\n",
      "\n",
      "    data = read_raw_data(grid_file)\n",
      "    if not grid_consistent(data):\n",
      "        raise Exception('Inconsistent grid: ' + grid_file)\n",
      "    result = normalize_grid(data)\n",
      "\n",
      "    return result\n",
      "```"
     ]
    },
    {
     "cell_type": "markdown",
     "metadata": {},
     "source": [
      "The `raise` statement creates a new exception with a meaningful error message.\n",
      "Since `read_grid` itself doesn't contain a `try`/`except` block,\n",
      "this exception will always be thrown up and out of the function,\n",
      "to be caught and handled by whoever is calling `read_grid`.\n",
      "We can define new types of exceptions if we want to.\n",
      "And we should,\n",
      "so that errors in our code can be distinguished from errors in other people's code.\n",
      "However,\n",
      "this involves classes and objects,\n",
      "which is outside the scope of these lessons."
     ]
    },
    {
     "cell_type": "markdown",
     "metadata": {},
     "source": [
      "### Challenges\n",
      "\n",
      "1.  Modify the program below so that it prints three lines of output.\n",
      "    ```\n",
      "    try:\n",
      "        for number in [-1, 0, 1]:\n",
      "            print 1.0/number\n",
      "    except ZeroDivisionError:\n",
      "        print 'whoops'\n",
      "    ```"
     ]
    },
    {
     "cell_type": "heading",
     "level": 2,
     "metadata": {},
     "source": [
      "The Limits to Testing"
     ]
    },
    {
     "cell_type": "markdown",
     "metadata": {},
     "source": [
      "Like any other piece of experimental apparatus,\n",
      "a complex program requires a much higher investment in testing than a simple one.\n",
      "Putting it another way,\n",
      "a small script that is only going to be used once,\n",
      "to produce one figure,\n",
      "probably doesn't need separate testing:\n",
      "its output is either correct or not.\n",
      "A linear algebra library that will be used by thousands of people\n",
      "in twice that number of applications\n",
      "over the course of a decade,\n",
      "on the other hand,\n",
      "definitely does.\n",
      "\n",
      "Unfortunately,\n",
      "it's practically impossible to prove that a program will always do what it's supposed to.\n",
      "To see why,\n",
      "consider a function that checks whether a character strings contains only the letters 'A', 'C', 'G', and 'T'.\n",
      "These four tests clearly aren't sufficient:"
     ]
    },
    {
     "cell_type": "markdown",
     "metadata": {},
     "source": [
      "```python\n",
      "assert is_all_bases('A')\n",
      "assert is_all_bases('C')\n",
      "assert is_all_bases('G')\n",
      "assert is_all_bases('T')\n",
      "```"
     ]
    },
    {
     "cell_type": "markdown",
     "metadata": {},
     "source": [
      "because this version of `is_all_bases` passes them:"
     ]
    },
    {
     "cell_type": "markdown",
     "metadata": {},
     "source": [
      "```python\n",
      "def is_all_bases(bases):\n",
      "    return True\n",
      "```"
     ]
    },
    {
     "cell_type": "markdown",
     "metadata": {},
     "source": [
      "Adding these tests isn't enough:"
     ]
    },
    {
     "cell_type": "markdown",
     "metadata": {},
     "source": [
      "```python\n",
      "assert not is_all_bases('X')\n",
      "assert not is_all_bases('Y')\n",
      "assert not is_all_bases('Z')\n",
      "```"
     ]
    },
    {
     "cell_type": "markdown",
     "metadata": {},
     "source": [
      "because this version still passes:"
     ]
    },
    {
     "cell_type": "markdown",
     "metadata": {},
     "source": [
      "```python\n",
      "def is_all_bases(bases):\n",
      "    return bases[0] in 'ACGT'\n",
      "```"
     ]
    },
    {
     "cell_type": "markdown",
     "metadata": {},
     "source": [
      "We can add yet more tests:"
     ]
    },
    {
     "cell_type": "markdown",
     "metadata": {},
     "source": [
      "```python\n",
      "assert is_all_bases('ACGCGA')\n",
      "assert not is_all_bases('CGAZ')\n",
      "```"
     ]
    },
    {
     "cell_type": "markdown",
     "metadata": {},
     "source": [
      "but no matter how many we have,\n",
      "we can always write a function that passes them,\n",
      "but does the wrong thing in other cases.\n",
      "And as we add more tests,\n",
      "we have to start worrying about whether the tests themselves are correct,\n",
      "and about whether we can afford the time needed to write them.\n",
      "After all,\n",
      "if we really want to check that the square root function is correct for all values between 0.0 and 1.0,\n",
      "we need to write over a billion test cases;\n",
      "that's a lot of typing,\n",
      "and the chances of us getting every one right are effectively zero.\n",
      "\n",
      "Testing is still worth doing, though:\n",
      "it's one of those things that doesn't work in theory,\n",
      "but is surprisingly effective in practice.\n",
      "If we choose our tests carefully,\n",
      "we can demonstrate that our software is as likely to be correct as a mathematical proof\n",
      "or a physical experiment.\n",
      "\n",
      "Ensuring that we have the right answer is only one reason to to software.\n",
      "The other is that it speeds up development\n",
      "by reducing the amount of re-work we have to do.\n",
      "Even small programs can be quite complex,\n",
      "and changing one thing can all too easily break something else.\n",
      "If we test changes as we make them,\n",
      "and automatically re-test things we've already done,\n",
      "we can catch and fix errors while the changes are still fresh in our minds."
     ]
    },
    {
     "cell_type": "heading",
     "level": 2,
     "metadata": {},
     "source": [
      "Unit Testing"
     ]
    },
    {
     "cell_type": "markdown",
     "metadata": {},
     "source": [
      "Most people don't enjoy writing tests,\n",
      "so if we want them to actually do it,\n",
      "it must be easy to:\n",
      "\n",
      "- add or change tests,\n",
      "- understand the tests that have already been written,\n",
      "- run those tests, and\n",
      "- understand those tests' results.\n",
      "\n",
      "Test results must also be reliable.\n",
      "If a testing tool says that code is working when it's not,\n",
      "or reports problems when there actually aren't any,\n",
      "people will lose faith in it and stop using it.\n",
      "\n",
      "The simplest kind of test is a [unit test](../../gloss.html#unit_test)\n",
      "that checks the behavior of one component of a program.\n",
      "As an example,\n",
      "suppose we're testing a function called `rectangle_area`\n",
      "that returns the area of an `(x0, y0, x1, y1)` rectangle.\n",
      "We'll start by testing our code directly using `assert`.\n",
      "Here,\n",
      "we call the function three times with different arguments,\n",
      "checking that the right value is returned each time."
     ]
    },
    {
     "cell_type": "code",
     "collapsed": false,
     "input": [
      "from rectangle import rectangle_area\n",
      "\n",
      "assert rectangle_area([0, 0, 1, 1]) == 1.0\n",
      "assert rectangle_area([1, 1, 4, 4]) == 9.0\n",
      "assert rectangle_area([0, 1, 4, 7]) == 24.0"
     ],
     "language": "python",
     "metadata": {},
     "outputs": [
      {
       "ename": "AssertionError",
       "evalue": "",
       "output_type": "pyerr",
       "traceback": [
        "\u001b[0;31m---------------------------------------------------------------------------\u001b[0m\n\u001b[0;31mAssertionError\u001b[0m                            Traceback (most recent call last)",
        "\u001b[0;32m<ipython-input-16-ebf7f5f1c120>\u001b[0m in \u001b[0;36m<module>\u001b[0;34m()\u001b[0m\n\u001b[1;32m      3\u001b[0m \u001b[0;32massert\u001b[0m \u001b[0mrectangle_area\u001b[0m\u001b[0;34m(\u001b[0m\u001b[0;34m[\u001b[0m\u001b[0;36m0\u001b[0m\u001b[0;34m,\u001b[0m \u001b[0;36m0\u001b[0m\u001b[0;34m,\u001b[0m \u001b[0;36m1\u001b[0m\u001b[0;34m,\u001b[0m \u001b[0;36m1\u001b[0m\u001b[0;34m]\u001b[0m\u001b[0;34m)\u001b[0m \u001b[0;34m==\u001b[0m \u001b[0;36m1.0\u001b[0m\u001b[0;34m\u001b[0m\u001b[0m\n\u001b[1;32m      4\u001b[0m \u001b[0;32massert\u001b[0m \u001b[0mrectangle_area\u001b[0m\u001b[0;34m(\u001b[0m\u001b[0;34m[\u001b[0m\u001b[0;36m1\u001b[0m\u001b[0;34m,\u001b[0m \u001b[0;36m1\u001b[0m\u001b[0;34m,\u001b[0m \u001b[0;36m4\u001b[0m\u001b[0;34m,\u001b[0m \u001b[0;36m4\u001b[0m\u001b[0;34m]\u001b[0m\u001b[0;34m)\u001b[0m \u001b[0;34m==\u001b[0m \u001b[0;36m9.0\u001b[0m\u001b[0;34m\u001b[0m\u001b[0m\n\u001b[0;32m----> 5\u001b[0;31m \u001b[0;32massert\u001b[0m \u001b[0mrectangle_area\u001b[0m\u001b[0;34m(\u001b[0m\u001b[0;34m[\u001b[0m\u001b[0;36m0\u001b[0m\u001b[0;34m,\u001b[0m \u001b[0;36m1\u001b[0m\u001b[0;34m,\u001b[0m \u001b[0;36m4\u001b[0m\u001b[0;34m,\u001b[0m \u001b[0;36m7\u001b[0m\u001b[0;34m]\u001b[0m\u001b[0;34m)\u001b[0m \u001b[0;34m==\u001b[0m \u001b[0;36m24.0\u001b[0m\u001b[0;34m\u001b[0m\u001b[0m\n\u001b[0m",
        "\u001b[0;31mAssertionError\u001b[0m: "
       ]
      }
     ],
     "prompt_number": 16
    },
    {
     "cell_type": "markdown",
     "metadata": {},
     "source": [
      "This result is used,\n",
      "in the sense that we know something's wrong,\n",
      "but look closely at what happens if we run the tests in a different order:"
     ]
    },
    {
     "cell_type": "code",
     "collapsed": false,
     "input": [
      "assert rectangle_area([0, 1, 4, 7]) == 24.0\n",
      "assert rectangle_area([1, 1, 4, 4]) == 9.0\n",
      "assert rectangle_area([0, 0, 1, 1]) == 1.0"
     ],
     "language": "python",
     "metadata": {},
     "outputs": [
      {
       "ename": "AssertionError",
       "evalue": "",
       "output_type": "pyerr",
       "traceback": [
        "\u001b[0;31m---------------------------------------------------------------------------\u001b[0m\n\u001b[0;31mAssertionError\u001b[0m                            Traceback (most recent call last)",
        "\u001b[0;32m<ipython-input-17-548f3f32c981>\u001b[0m in \u001b[0;36m<module>\u001b[0;34m()\u001b[0m\n\u001b[0;32m----> 1\u001b[0;31m \u001b[0;32massert\u001b[0m \u001b[0mrectangle_area\u001b[0m\u001b[0;34m(\u001b[0m\u001b[0;34m[\u001b[0m\u001b[0;36m0\u001b[0m\u001b[0;34m,\u001b[0m \u001b[0;36m1\u001b[0m\u001b[0;34m,\u001b[0m \u001b[0;36m4\u001b[0m\u001b[0;34m,\u001b[0m \u001b[0;36m7\u001b[0m\u001b[0;34m]\u001b[0m\u001b[0;34m)\u001b[0m \u001b[0;34m==\u001b[0m \u001b[0;36m24.0\u001b[0m\u001b[0;34m\u001b[0m\u001b[0m\n\u001b[0m\u001b[1;32m      2\u001b[0m \u001b[0;32massert\u001b[0m \u001b[0mrectangle_area\u001b[0m\u001b[0;34m(\u001b[0m\u001b[0;34m[\u001b[0m\u001b[0;36m1\u001b[0m\u001b[0;34m,\u001b[0m \u001b[0;36m1\u001b[0m\u001b[0;34m,\u001b[0m \u001b[0;36m4\u001b[0m\u001b[0;34m,\u001b[0m \u001b[0;36m4\u001b[0m\u001b[0;34m]\u001b[0m\u001b[0;34m)\u001b[0m \u001b[0;34m==\u001b[0m \u001b[0;36m9.0\u001b[0m\u001b[0;34m\u001b[0m\u001b[0m\n\u001b[1;32m      3\u001b[0m \u001b[0;32massert\u001b[0m \u001b[0mrectangle_area\u001b[0m\u001b[0;34m(\u001b[0m\u001b[0;34m[\u001b[0m\u001b[0;36m0\u001b[0m\u001b[0;34m,\u001b[0m \u001b[0;36m0\u001b[0m\u001b[0;34m,\u001b[0m \u001b[0;36m1\u001b[0m\u001b[0;34m,\u001b[0m \u001b[0;36m1\u001b[0m\u001b[0;34m]\u001b[0m\u001b[0;34m)\u001b[0m \u001b[0;34m==\u001b[0m \u001b[0;36m1.0\u001b[0m\u001b[0;34m\u001b[0m\u001b[0m\n",
        "\u001b[0;31mAssertionError\u001b[0m: "
       ]
      }
     ],
     "prompt_number": 17
    },
    {
     "cell_type": "markdown",
     "metadata": {},
     "source": [
      "Python halts at the first failed assertion,\n",
      "so the second and third tests aren't run at all.\n",
      "It would be more helpful if we could get data from all of our tests every time they're run,\n",
      "since the more information we have,\n",
      "the faster we're likely to be able to track down bugs.\n",
      "It would also be helpful to have some kind of summary report:\n",
      "if our [test suite](../../gloss.html#test_suite) includes thirty or forty tests\n",
      "(as it well might for a complex function or library that's widely used),\n",
      "we'd like to know how many passed or failed.\n",
      "\n",
      "Here's a different approach.\n",
      "First, let's put each test in a function with a meaningful name:"
     ]
    },
    {
     "cell_type": "code",
     "collapsed": false,
     "input": [
      "def test_unit_square():\n",
      "    assert rectangle_area([0, 0, 1, 1]) == 1.0\n",
      "\n",
      "def test_large_square():\n",
      "    assert rectangle_area([1, 1, 4, 4]) == 9.0\n",
      "\n",
      "def test_actual_rectangle():\n",
      "    assert rectangle_area([0, 1, 4, 7]) == 24.0"
     ],
     "language": "python",
     "metadata": {},
     "outputs": [],
     "prompt_number": 18
    },
    {
     "cell_type": "markdown",
     "metadata": {},
     "source": [
      "Next,\n",
      "import a library called `ears`\n",
      "and ask it to run our tests for us:"
     ]
    },
    {
     "cell_type": "code",
     "collapsed": false,
     "input": [
      "import ears\n",
      "ears.run()"
     ],
     "language": "python",
     "metadata": {},
     "outputs": [
      {
       "output_type": "stream",
       "stream": "stdout",
       "text": [
        "..f\n",
        "2 pass, 1 fail, 0 error\n",
        "----------------------------------------\n",
        "fail: test_actual_rectangle\n",
        "Traceback (most recent call last):\n",
        "  File \"ears.py\", line 45, in run\n",
        "    test()\n",
        "  File \"<ipython-input-18-643689ad0a0f>\", line 8, in test_actual_rectangle\n",
        "    assert rectangle_area([0, 1, 4, 7]) == 24.0\n",
        "AssertionError\n",
        "\n"
       ]
      }
     ],
     "prompt_number": 19
    },
    {
     "cell_type": "markdown",
     "metadata": {},
     "source": [
      "`ears.run` looks in the calling program\n",
      "for functions whose names start with the letters `'test_'`\n",
      "and runs each one.\n",
      "If the function complete without an assertion being triggered,\n",
      "we count the test as a [success](../../gloss.html#test_success).\n",
      "If an assertion fails,\n",
      "we count the test as a [failure](../../gloss.html#test_failure),\n",
      "but if any other exception occurs,\n",
      "we count it as an [error](../../gloss.html#test_error)\n",
      "because the odds are that the test itself is broken.\n",
      "\n",
      "`ears` is an [xUnit testing library](../../gloss.html#xUnit).\n",
      "The name \"xUnit\" comes from the fact that\n",
      "many of them are imitations of a Java testing library called JUnit.\n",
      "The [Wikipedia page](http://en.wikipedia.org/wiki/List_of_unit_testing_frameworks) on the subject\n",
      "lists dozens of similar frameworks in almost as many languages,\n",
      "all of which have a similar structure:\n",
      "each test is a single function that follows some naming convention\n",
      "(e.g., starts with `'test_'`),\n",
      "and the framework runs them in some order\n",
      "and reports how many passed, failed, or were broken."
     ]
    },
    {
     "cell_type": "markdown",
     "metadata": {},
     "source": [
      "### Challenges\n",
      "\n",
      "1.  A colleague of yours has written a function that calculates the running total of the values in a list,\n",
      "    e.g.,\n",
      "    `running([0, 1, 2])` produces the list `[0, 1, 3]`.\n",
      "    Load this function into your notebook using `from running import running`,\n",
      "    and then write some unit tests for it using the `ears` library\n",
      "    to see what bugs you can find.\n",
      "\n",
      "2.  Some programmers put assertions in their programs to catch errors when they occur;\n",
      "    others prefer to write unit tests to check that the program is behaving properly.\n",
      "    Which do you think makes programs easier to read?\n",
      "    Which do you think makes them easier to maintain as they change over time?"
     ]
    },
    {
     "cell_type": "heading",
     "level": 2,
     "metadata": {},
     "source": [
      "Test-Driven Development"
     ]
    },
    {
     "cell_type": "markdown",
     "metadata": {},
     "source": [
      "Libraries like `ear` can't think of test cases for us.\n",
      "We still have to decide what to test and how many tests to run.\n",
      "Our best guide here is economics:\n",
      "we want the tests that are most likely to give us useful information\n",
      "that we don't already have.\n",
      "For example,\n",
      "if `rectangle_area([0, 0, 1, 1])` works,\n",
      "there's probably not much point testing `rectangle_area((0, 0, 2, 2))`,\n",
      "since it's hard to think of a bug that would show up in one case but not in the other.\n",
      "\n",
      "We should therefore try to choose tests that are as different from each other as possible,\n",
      "so that we force the code we're testing to execute in all the different ways it can.\n",
      "Another way of thinking about this is that we should try to find [boundary cases](../../gloss.html#boundary_case).\n",
      "If a function works for zero,\n",
      "one,\n",
      "and a million values,\n",
      "it will probably work for eighteen values.\n",
      "\n",
      "Using boundary values as tests has another advantage:\n",
      "it can help us design our software.\n",
      "To see how,\n",
      "consider this test case for our rectangle area function:"
     ]
    },
    {
     "cell_type": "markdown",
     "metadata": {},
     "source": [
      "```python\n",
      "def test_inverted_rectangle():\n",
      "    assert rectangle_area([1, 5, 5, 2]) == -12.0\n",
      "```"
     ]
    },
    {
     "cell_type": "markdown",
     "metadata": {},
     "source": [
      "Is that test correct?\n",
      "I.e.,\n",
      "are rectangles with `x1<x0` or `y1<y0` legal,\n",
      "and do they have negative area?\n",
      "Or should the test be:"
     ]
    },
    {
     "cell_type": "markdown",
     "metadata": {},
     "source": [
      "```python\n",
      "def test_inverted_rectangle():\n",
      "    try:\n",
      "        rectangle_area([1, 5, 5, 2])\n",
      "        assert False, 'Function did not raise exception for invalid rectangle'\n",
      "    except ValueError:\n",
      "        pass # rectangle_area failed with the expected kind of exception\n",
      "    except Exception:\n",
      "        assert False, 'Function did not raise correct kind of exception for invalid rectangle'\n",
      "```"
     ]
    },
    {
     "cell_type": "markdown",
     "metadata": {},
     "source": [
      "The logic in this second version may take a moment to work out,\n",
      "but the idea is straightforward:\n",
      "we want to check that `rectangle_area` raises a `ValueError` exception\n",
      "if it's given a rectangle whose upper edge is below or to the left of its lower edge.\n",
      "\n",
      "Here's another test case that can help us design our software:"
     ]
    },
    {
     "cell_type": "markdown",
     "metadata": {},
     "source": [
      "```python\n",
      "def test_zero_width():\n",
      "    assert rectangle_area([2, 1, 2, 8]) == 0\n",
      "```"
     ]
    },
    {
     "cell_type": "markdown",
     "metadata": {},
     "source": [
      "We might decide that rectangles with negative areas aren't allowed,\n",
      "but what about rectangles with zero area,\n",
      "i.e.,\n",
      "rectangles that are actually lines?\n",
      "Any actual implementation of `rectangle_area` will do *something* with one of these;\n",
      "writing unit tests for boundary cases is a good way to specify exactly what that something is.\n",
      "\n",
      "Unit tests are actually such a good way to define how functions ought to behave that\n",
      "many programmers use a practice called [test-driven development](glossary.html#test_driven_development) (TDD).\n",
      "Instead of writing code,\n",
      "then figuring out how to test it,\n",
      "these programmers:\n",
      "\n",
      "1. write some unit tests for a function that doesn't exist yet,\n",
      "2. write that function,\n",
      "3. modify it until it passes all of the tests, then\n",
      "4. clean up the function, i.e., make it more readable or more efficient without breaking any of the tests.\n",
      "\n",
      "The mantra often used during TDD is \"[red, green, refactor](../../rules.html#red-green-refactor)\":\n",
      "get a red light (i.e., some failing tests),\n",
      "make it turn green (i.e., get something working),\n",
      "and then clean it up by refactoring.\n",
      "This cycle should take anywhere from a couple of minutes to an hour or so.\n",
      "If it takes longer than that,\n",
      "the change being made is probably too large,\n",
      "and should be broken down into smaller (and more comprehensible) steps.\n",
      "\n",
      "TDD's proponents argue that it helps people produce better code for two reasons.\n",
      "First,\n",
      "it encourages them to write code in small, self-contained chunks,\n",
      "and to actually write tests for those chunks.\n",
      "Second,\n",
      "it frees them from [confirmation bias](../../gloss.html#confirmation_bias):\n",
      "since they haven't written their function yet,\n",
      "their subconscious cannot steer their testing toward proving it correct\n",
      "rather than finding errors.\n",
      "\n",
      "Empirical studies of TDD have had mixed results:\n",
      "some have found it beneficial,\n",
      "while others have found no effect.\n",
      "But even if you don't use it day to day,\n",
      "trying it a few times helps you learn how to design functions and programs that are easier to test."
     ]
    },
    {
     "cell_type": "markdown",
     "metadata": {},
     "source": [
      "### Challenges\n",
      "\n",
      "1.  Write a function called `something` that passes the following unit tests:\n",
      "    ```\n",
      "    def test_empty():\n",
      "        assert something([]) == []\n",
      "    \n",
      "    def test_single_value():\n",
      "        assert something(['a']) == []\n",
      "    \n",
      "    def test_two_values():\n",
      "        assert something(['a', 'b']) == [('a', 'b')]\n",
      "    \n",
      "    def test_three_values():\n",
      "        assert something(['a', 'b', 'c']) == [('a', 'b'), ('a', 'c'), ('b', 'c')]\n",
      "    ```"
     ]
    },
    {
     "cell_type": "heading",
     "level": 2,
     "metadata": {},
     "source": [
      "Next Steps"
     ]
    },
    {
     "cell_type": "markdown",
     "metadata": {},
     "source": [
      "We have now seen the basics of building and testing Python code in the IPython Notebook.\n",
      "The last thing we need to learn is how to build command-line programs\n",
      "that we can use in pipelines and shell scripts,\n",
      "so that we can integrate our tools with other people's work.\n",
      "This will be the subject of our next and final lesson."
     ]
    }
   ],
   "metadata": {}
  }
 ]
}