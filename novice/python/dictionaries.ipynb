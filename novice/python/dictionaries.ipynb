{
 "metadata": {
  "name": ""
 },
 "nbformat": 3,
 "nbformat_minor": 0,
 "worksheets": [
  {
   "cells": [
    {
     "cell_type": "markdown",
     "metadata": {},
     "source": [
      "# Dictionaries\n",
      "A Python [dictionary](http://docs.python.org/2/tutorial/datastructures.html#dictionaries) is just like those giant fat books that you don't use anymore: there is a key (the \"word\" you want to look up) associated with a value (the corresponding \"definition\" of the word or key). This key\u2013value pair is what makes a dictionary a unique container.\n",
      "\n",
      "## Properties of dictionaries: \n",
      "### Keys\n",
      "- Immutable \n",
      "    - cannot change an existing key\n",
      "- unique\n",
      "    - cannot have multiple identical keys corresponding to different values\n",
      "- not stored an any particular order\n",
      "    - object access can only be by numeric index if that number is, in fact, a defined key\n",
      "\n",
      "### Values\n",
      "- can be any object without restriction\n",
      "    - values do not have to be unique or immutable"
     ]
    },
    {
     "cell_type": "code",
     "collapsed": false,
     "input": [
      "# start with an empty dictionary, notice dictionaries are enclosed in squiggly brackets\n",
      "derp = {}\n",
      "\n",
      "key = \"daniel chen\"\n",
      "value = 25\n",
      "\n",
      "# you fill dictionaries, just like lists\n",
      "\n",
      "derp = {key:value, \"niels bantilan\": 25}\n",
      "print derp\n",
      "\n",
      "# note dictionaries are not ordered, DO NOT assume any order when working with dictionaries"
     ],
     "language": "python",
     "metadata": {},
     "outputs": []
    },
    {
     "cell_type": "markdown",
     "metadata": {},
     "source": [
      "So we have an initial dictionary with key:value pairs, how do we extend it to and add more key:values?"
     ]
    },
    {
     "cell_type": "code",
     "collapsed": false,
     "input": [
      "# derp[\"my_new_key\"] = \"my_new_value\"\n",
      "print derp"
     ],
     "language": "python",
     "metadata": {},
     "outputs": []
    },
    {
     "cell_type": "code",
     "collapsed": false,
     "input": [
      "derp[\"Vivian Peng\"] = 25\n",
      "print derp"
     ],
     "language": "python",
     "metadata": {},
     "outputs": []
    },
    {
     "cell_type": "code",
     "collapsed": false,
     "input": [
      "# remove entry from dictionary\n",
      "derp['greg wilson'] = 85\n",
      "print derp\n",
      "\n",
      "del derp['greg wilson']\n",
      "print derp"
     ],
     "language": "python",
     "metadata": {},
     "outputs": []
    },
    {
     "cell_type": "code",
     "collapsed": false,
     "input": [
      "# assigning a new value to a key that already exists will overwrite the original value\n",
      "derp[\"daniel chen\"] = 21\n",
      "print derp"
     ],
     "language": "python",
     "metadata": {},
     "outputs": []
    },
    {
     "cell_type": "markdown",
     "metadata": {},
     "source": [
      "The main thing we are interested in, however, is using a dictionary. How do we 'look' keys up? Just like list indexing, as it turns out."
     ]
    },
    {
     "cell_type": "code",
     "collapsed": false,
     "input": [
      "# How old is Daniel Chen?\n",
      "print derp[\"daniel chen\"]"
     ],
     "language": "python",
     "metadata": {},
     "outputs": []
    },
    {
     "cell_type": "code",
     "collapsed": false,
     "input": [
      "# Alernatively:\n",
      "print derp.get(\"daniel chen\")"
     ],
     "language": "python",
     "metadata": {},
     "outputs": []
    },
    {
     "cell_type": "markdown",
     "metadata": {},
     "source": [
      "Let's look for a key that does not exist in this dictionary:"
     ]
    },
    {
     "cell_type": "code",
     "collapsed": false,
     "input": [
      "print derp[\"monty python\"]"
     ],
     "language": "python",
     "metadata": {},
     "outputs": []
    },
    {
     "cell_type": "code",
     "collapsed": false,
     "input": [
      "# Note the different result here, so you will handle missing keys differently.\n",
      "print derp.get(\"monty python\")"
     ],
     "language": "python",
     "metadata": {},
     "outputs": []
    },
    {
     "cell_type": "markdown",
     "metadata": {},
     "source": [
      "The 'in' operator is an easy way to check for a key."
     ]
    },
    {
     "cell_type": "code",
     "collapsed": false,
     "input": [
      "'monty python' in derp"
     ],
     "language": "python",
     "metadata": {},
     "outputs": []
    },
    {
     "cell_type": "code",
     "collapsed": false,
     "input": [
      "'daniel chen' in derp"
     ],
     "language": "python",
     "metadata": {},
     "outputs": []
    },
    {
     "cell_type": "markdown",
     "metadata": {},
     "source": [
      "You can also use the 'has_key' method"
     ]
    },
    {
     "cell_type": "code",
     "collapsed": false,
     "input": [
      "derp.has_key('monty python')"
     ],
     "language": "python",
     "metadata": {},
     "outputs": []
    },
    {
     "cell_type": "code",
     "collapsed": false,
     "input": [
      "derp.has_key('daniel chen')"
     ],
     "language": "python",
     "metadata": {},
     "outputs": []
    },
    {
     "cell_type": "markdown",
     "metadata": {},
     "source": [
      "More dictionary stuff"
     ]
    },
    {
     "cell_type": "code",
     "collapsed": false,
     "input": [
      "# List all keys.\n",
      "print derp.keys()"
     ],
     "language": "python",
     "metadata": {},
     "outputs": []
    },
    {
     "cell_type": "code",
     "collapsed": false,
     "input": [
      "# List all values.\n",
      "print derp.values()"
     ],
     "language": "python",
     "metadata": {},
     "outputs": []
    },
    {
     "cell_type": "code",
     "collapsed": false,
     "input": [
      "# Length = (number of key:value pairs)\n",
      "print len(derp)"
     ],
     "language": "python",
     "metadata": {},
     "outputs": []
    },
    {
     "cell_type": "code",
     "collapsed": false,
     "input": [
      "# if you get confused about variable type, then\n",
      "type(derp) # is your best friend!"
     ],
     "language": "python",
     "metadata": {},
     "outputs": []
    },
    {
     "cell_type": "markdown",
     "metadata": {},
     "source": [
      "# Exercise\n",
      "\n",
      "## 1\n",
      "Load a dictionary with the following key\u2013value pairs. Print it.\n",
      "\n",
      "| key | value |\n",
      "|-------|---------|\n",
      "| fname | _your first name_ |\n",
      "| lname | _your last name_ |\n",
      "| age | 25 |\n",
      "| height | 69 |\n",
      "| weight | 180 |"
     ]
    },
    {
     "cell_type": "code",
     "collapsed": false,
     "input": [
      "# This is one approach, where you directly fill the dictionary\n",
      "my_dict = {}\n",
      "\n",
      "my_dict = {\"fname\":\"daniel\", \"lname\":\"chen\", \"age\":25, \"height\":69, \"weight\":180}\n",
      "\n",
      "print my_dict"
     ],
     "language": "python",
     "metadata": {},
     "outputs": []
    },
    {
     "cell_type": "code",
     "collapsed": false,
     "input": [
      "# This is another approach whre you dill the dictionary using variables\n",
      "\n",
      "fname = \"daniel\"\n",
      "lname = \"chen\"\n",
      "age = 25\n",
      "height = 69\n",
      "weight = 180\n",
      "my_dict = {'fname':fname, 'lname':lname, 'age':age, 'height':height, 'weight':weight}\n",
      "\n",
      "print my_dict\n"
     ],
     "language": "python",
     "metadata": {},
     "outputs": []
    },
    {
     "cell_type": "markdown",
     "metadata": {},
     "source": [
      "## 2\n",
      "\n",
      "A more advanced question: how would you store the above data in a single dictionary entry?\n",
      "\n",
      "(You could accomplish this using a list of the above values, but a more straightforward solution is like a database: simply store the dictionary above with an appropriate key, such as a number or name.)"
     ]
    },
    {
     "cell_type": "code",
     "collapsed": false,
     "input": [
      "#using list\n",
      "hardQuestion = {1: [\"daniel\", \"chen\", 25, 69]}\n",
      "print hardQuestion\n",
      "\n",
      "print hardQuestion.get(1)[0]\n",
      "\n",
      "# using dictionary\n",
      "hardQuestion = {1: {\"fname\":\"daniel\", \"lname\":\"chen\", \"age\":25, \"height\":69}}\n",
      "print hardQuestion\n",
      "\n",
      "print hardQuestion.get(1).get(\"fname\")\n",
      "\n",
      "firstPerson =  hardQuestion.get(1)\n",
      "firstPerson\n",
      "type(firstPerson)\n",
      "\n",
      "print firstPerson.get(\"fname\")\n"
     ],
     "language": "python",
     "metadata": {},
     "outputs": []
    },
    {
     "cell_type": "code",
     "collapsed": false,
     "input": [],
     "language": "python",
     "metadata": {},
     "outputs": []
    }
   ],
   "metadata": {}
  }
 ]
}