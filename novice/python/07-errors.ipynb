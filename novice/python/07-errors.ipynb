{
 "metadata": {
  "name": "",
  "signature": "sha256:4e8e79470d5934ac547fc0134b9f48db89489bfabf2e0a7c341cae4831674ca6"
 },
 "nbformat": 3,
 "nbformat_minor": 0,
 "worksheets": [
  {
   "cells": [
    {
     "cell_type": "heading",
     "level": 2,
     "metadata": {
      "cell_tags": []
     },
     "source": [
      "Python errors and exceptions"
     ]
    },
    {
     "cell_type": "markdown",
     "metadata": {},
     "source": [
      "Every programmer encounters errors, both those who are just beginning, and those who have been programming for years. Encountering errors and exceptions can be very frustrating at times, and can make coding feel like a hopeless endeavour. However, understanding what the **different types of errors** are and when you are likely to encounter them can help a lot! Once you know *why* you get certain types of errors, they become much easier to fix."
     ]
    },
    {
     "cell_type": "markdown",
     "metadata": {
      "cell_tags": [
       "objectives"
      ]
     },
     "source": [
      "#### Objectives\n",
      "\n",
      "*   To be able to read a traceback, and determine the following relevant pieces of information:\n",
      "    * The file, function, and line number on which the error occurred\n",
      "    * The type of the error\n",
      "    * The error message\n",
      "*   To be able to describe the types of situations in which the following errors occur:\n",
      "    * `SyntaxError` and `IndentationError`\n",
      "    * `NameError`\n",
      "    * `KeyError` and `IndexError`\n",
      "    * `IOError`"
     ]
    },
    {
     "cell_type": "heading",
     "level": 3,
     "metadata": {
      "cell_tags": []
     },
     "source": [
      "The anatomy of an error"
     ]
    },
    {
     "cell_type": "markdown",
     "metadata": {},
     "source": [
      "Errors in Python have a very specific form, called a [traceback](../../gloss.html#traceback). Let's examine one:"
     ]
    },
    {
     "cell_type": "code",
     "collapsed": false,
     "input": [
      "from errors_01 import favorite_ice_cream\n",
      "favorite_ice_cream()"
     ],
     "language": "python",
     "metadata": {},
     "outputs": [
      {
       "ename": "IndexError",
       "evalue": "list index out of range",
       "output_type": "pyerr",
       "traceback": [
        "\u001b[0;31m---------------------------------------------------------------------------\u001b[0m\n\u001b[0;31mIndexError\u001b[0m                                Traceback (most recent call last)",
        "\u001b[0;32m<ipython-input-1-9d0462a5b07c>\u001b[0m in \u001b[0;36m<module>\u001b[0;34m()\u001b[0m\n\u001b[1;32m      1\u001b[0m \u001b[0;32mfrom\u001b[0m \u001b[0merrors_01\u001b[0m \u001b[0;32mimport\u001b[0m \u001b[0mfavorite_ice_cream\u001b[0m\u001b[0;34m\u001b[0m\u001b[0m\n\u001b[0;32m----> 2\u001b[0;31m \u001b[0mfavorite_ice_cream\u001b[0m\u001b[0;34m(\u001b[0m\u001b[0;34m)\u001b[0m\u001b[0;34m\u001b[0m\u001b[0m\n\u001b[0m",
        "\u001b[0;32m/Users/jhamrick/project/swc/novice/python/errors_01.pyc\u001b[0m in \u001b[0;36mfavorite_ice_cream\u001b[0;34m()\u001b[0m\n\u001b[1;32m      5\u001b[0m         \u001b[0;34m\"strawberry\"\u001b[0m\u001b[0;34m\u001b[0m\u001b[0m\n\u001b[1;32m      6\u001b[0m     ]\n\u001b[0;32m----> 7\u001b[0;31m     \u001b[0;32mprint\u001b[0m \u001b[0mice_creams\u001b[0m\u001b[0;34m[\u001b[0m\u001b[0;36m3\u001b[0m\u001b[0;34m]\u001b[0m\u001b[0;34m\u001b[0m\u001b[0m\n\u001b[0m",
        "\u001b[0;31mIndexError\u001b[0m: list index out of range"
       ]
      }
     ],
     "prompt_number": 1
    },
    {
     "cell_type": "markdown",
     "metadata": {},
     "source": [
      "This particular traceback has two levels. You can determine the number of levels by looking for the number of arrows on the left hand side. In this case:\n",
      "\n",
      "1. The first shows code from the cell above, with an arrow pointing to Line 2 (which is `favorite_ice_cream()`).\n",
      "2. The second shows some code in another function (`favorite_ice_cream`, located in the file `errors_01.py`), with an arrow pointing to Line 7 (which is `print ice_creams[3]`).\n",
      "\n",
      "The last level is the actual place where the error occurred. The other level(s) show what function the program executed to get to the next level down. So, in this case, the program first performed a [function call](../../gloss.html#function-call) to the function `favorite_ice_cream`. Inside this function, the program encountered an error on Line 7, when it tried to run the code `print ice_creams[3]`.\n",
      "\n",
      "> #### Long tracebacks\n",
      "> Sometimes, you might see a traceback that is very long -- sometimes they might even be 20 levels deep! This can make it seem like something horrible happened, but really it just means that your program called many functions before it ran into the error. Most of the time, you can just pay attention to the bottom-most level, which is the actual place where the error occurred.\n",
      "\n",
      "So what error did the program actually encounter? In the last line of the traceback, Python helpfully tells us the category or **type of error** (in this case, it is an `IndexError`) and a more detailed **error message** (in this case, it says \"list index out of range\"). \n",
      "\n",
      "If you encounter an error and don't know what it means, it is still important to read the traceback closely. That way, if you fix the error, but encounter a new one, you can tell that the error changed! Additionally, sometimes just knowing *where* the error occurred is enough to fix it, even if you don't entirely understand the message.\n",
      "\n",
      "If you do encounter an error you don't recognize, try looking at the [official documentation on errors](http://docs.python.org/2/library/exceptions.html). However, note that you may not always be able to find the error there, as it is possible to create custom errors. In that case, hopefully the custom error message is informative enough to help you figure out what went wrong!"
     ]
    },
    {
     "cell_type": "markdown",
     "metadata": {
      "cell_tags": [
       "challenges"
      ]
     },
     "source": [
      "#### Challenge: reading error messages\n",
      "\n",
      "Read the traceback below, and identify the following pieces of information about it:\n",
      "\n",
      "1.  How many **levels** does the traceback have?\n",
      "2.  What is the **file name** where the error occurred?\n",
      "3.  What is the **function name** where the error occurred?\n",
      "4.  On which **line number** in this function did the error occurr?\n",
      "5.  What is the **type of error**?\n",
      "6.  What is the **error message**?"
     ]
    },
    {
     "cell_type": "code",
     "collapsed": false,
     "input": [
      "from errors_02 import print_friday_message\n",
      "print_friday_message()"
     ],
     "language": "python",
     "metadata": {
      "cell_tags": [
       "challenges"
      ]
     },
     "outputs": [
      {
       "ename": "KeyError",
       "evalue": "'Friday'",
       "output_type": "pyerr",
       "traceback": [
        "\u001b[0;31m---------------------------------------------------------------------------\u001b[0m\n\u001b[0;31mKeyError\u001b[0m                                  Traceback (most recent call last)",
        "\u001b[0;32m<ipython-input-2-e4c4cbafeeb5>\u001b[0m in \u001b[0;36m<module>\u001b[0;34m()\u001b[0m\n\u001b[1;32m      1\u001b[0m \u001b[0;32mfrom\u001b[0m \u001b[0merrors_02\u001b[0m \u001b[0;32mimport\u001b[0m \u001b[0mprint_friday_message\u001b[0m\u001b[0;34m\u001b[0m\u001b[0m\n\u001b[0;32m----> 2\u001b[0;31m \u001b[0mprint_friday_message\u001b[0m\u001b[0;34m(\u001b[0m\u001b[0;34m)\u001b[0m\u001b[0;34m\u001b[0m\u001b[0m\n\u001b[0m",
        "\u001b[0;32m/Users/jhamrick/project/swc/novice/python/errors_02.py\u001b[0m in \u001b[0;36mprint_friday_message\u001b[0;34m()\u001b[0m\n\u001b[1;32m     13\u001b[0m \u001b[0;34m\u001b[0m\u001b[0m\n\u001b[1;32m     14\u001b[0m \u001b[0;32mdef\u001b[0m \u001b[0mprint_friday_message\u001b[0m\u001b[0;34m(\u001b[0m\u001b[0;34m)\u001b[0m\u001b[0;34m:\u001b[0m\u001b[0;34m\u001b[0m\u001b[0m\n\u001b[0;32m---> 15\u001b[0;31m     \u001b[0mprint_message\u001b[0m\u001b[0;34m(\u001b[0m\u001b[0;34m\"Friday\"\u001b[0m\u001b[0;34m)\u001b[0m\u001b[0;34m\u001b[0m\u001b[0m\n\u001b[0m",
        "\u001b[0;32m/Users/jhamrick/project/swc/novice/python/errors_02.py\u001b[0m in \u001b[0;36mprint_message\u001b[0;34m(day)\u001b[0m\n\u001b[1;32m      9\u001b[0m         \u001b[0;34m\"sunday\"\u001b[0m\u001b[0;34m:\u001b[0m \u001b[0;34m\"Aw, the weekend is almost over.\"\u001b[0m\u001b[0;34m\u001b[0m\u001b[0m\n\u001b[1;32m     10\u001b[0m     }\n\u001b[0;32m---> 11\u001b[0;31m     \u001b[0;32mprint\u001b[0m \u001b[0mmessages\u001b[0m\u001b[0;34m[\u001b[0m\u001b[0mday\u001b[0m\u001b[0;34m]\u001b[0m\u001b[0;34m\u001b[0m\u001b[0m\n\u001b[0m\u001b[1;32m     12\u001b[0m \u001b[0;34m\u001b[0m\u001b[0m\n\u001b[1;32m     13\u001b[0m \u001b[0;34m\u001b[0m\u001b[0m\n",
        "\u001b[0;31mKeyError\u001b[0m: 'Friday'"
       ]
      }
     ],
     "prompt_number": 2
    },
    {
     "cell_type": "heading",
     "level": 3,
     "metadata": {},
     "source": [
      "Syntax errors"
     ]
    },
    {
     "cell_type": "markdown",
     "metadata": {},
     "source": [
      "When you forget a colon at the end of a line, accidentally add one space too many when indenting under an `if` statement, or forget a parentheses, you will encounter a **syntax error**. This means that Python couldn't figure out how to read your program. This is similar to forgetting punctuation in English:\n",
      "\n",
      "> this text is difficult to read there is no punctuation there is also no capitalization why is this hard because you have to figure out where each sentence ends you also have to figure out where each sentence begins to some extent it might be ambiguous if there should be a sentence break or not\n",
      "\n",
      "People can typically figure out what is meant by text with no punctuation, but people are much smarter than computers! If Python doesn't know how to read the program, it will just give up, and inform you with an error. For example:"
     ]
    },
    {
     "cell_type": "code",
     "collapsed": false,
     "input": [
      "def some_function()\n",
      "    msg = \"hello, world!\"\n",
      "    print msg\n",
      "     return msg"
     ],
     "language": "python",
     "metadata": {},
     "outputs": [
      {
       "ename": "SyntaxError",
       "evalue": "invalid syntax (<ipython-input-3-6bb841ea1423>, line 1)",
       "output_type": "pyerr",
       "traceback": [
        "\u001b[0;36m  File \u001b[0;32m\"<ipython-input-3-6bb841ea1423>\"\u001b[0;36m, line \u001b[0;32m1\u001b[0m\n\u001b[0;31m    def some_function()\u001b[0m\n\u001b[0m                       ^\u001b[0m\n\u001b[0;31mSyntaxError\u001b[0m\u001b[0;31m:\u001b[0m invalid syntax\n"
       ]
      }
     ],
     "prompt_number": 3
    },
    {
     "cell_type": "markdown",
     "metadata": {},
     "source": [
      "Here, Python tells us that there is a `SyntaxError` on line 1, and even puts a little arrow in the place where there is an issue. In this case, the problem is that the function definition is missing a colon at the end.\n",
      "\n",
      "Actually, the function above has *two* issues with syntax. If we fix the problem with the colon, we see that there is *also* an `IndentationError`, which means that the lines in the function definition do not all have the same indentation:"
     ]
    },
    {
     "cell_type": "code",
     "collapsed": false,
     "input": [
      "def some_function():\n",
      "    msg = \"hello, world!\"\n",
      "    print msg\n",
      "     return msg"
     ],
     "language": "python",
     "metadata": {},
     "outputs": [
      {
       "ename": "IndentationError",
       "evalue": "unexpected indent (<ipython-input-4-ae290e7659cb>, line 4)",
       "output_type": "pyerr",
       "traceback": [
        "\u001b[0;36m  File \u001b[0;32m\"<ipython-input-4-ae290e7659cb>\"\u001b[0;36m, line \u001b[0;32m4\u001b[0m\n\u001b[0;31m    return msg\u001b[0m\n\u001b[0m    ^\u001b[0m\n\u001b[0;31mIndentationError\u001b[0m\u001b[0;31m:\u001b[0m unexpected indent\n"
       ]
      }
     ],
     "prompt_number": 4
    },
    {
     "cell_type": "markdown",
     "metadata": {},
     "source": [
      "Both `SyntaxError` and `IndentationError` indicate a problem with the syntax of your program, but an `IndentationError` is more specific: it *always* means that there is a problem with how your code is indented."
     ]
    },
    {
     "cell_type": "markdown",
     "metadata": {},
     "source": [
      "#### Whitespace: tabs and spaces\n",
      "\n",
      "A quick note on indentation errors: they can sometimes be insidious, especially if you are mixing spaces and tabs. Because they are both \"whitespace\", it is difficult to visually tell the difference! The IPython notebook actually gives us a bit of a hint, but not all Python editors will do that. In the following example, the first two lines are using a tab for indentation, while the third line uses four spaces."
     ]
    },
    {
     "cell_type": "code",
     "collapsed": false,
     "input": [
      "def some_function():\n",
      "\tmsg = \"hello, world!\"\n",
      "\tprint msg\n",
      "    return msg"
     ],
     "language": "python",
     "metadata": {},
     "outputs": [
      {
       "ename": "IndentationError",
       "evalue": "unindent does not match any outer indentation level (<ipython-input-5-653b36fbcd41>, line 4)",
       "output_type": "pyerr",
       "traceback": [
        "\u001b[0;36m  File \u001b[0;32m\"<ipython-input-5-653b36fbcd41>\"\u001b[0;36m, line \u001b[0;32m4\u001b[0m\n\u001b[0;31m    return msg\u001b[0m\n\u001b[0m              ^\u001b[0m\n\u001b[0;31mIndentationError\u001b[0m\u001b[0;31m:\u001b[0m unindent does not match any outer indentation level\n"
       ]
      }
     ],
     "prompt_number": 5
    },
    {
     "cell_type": "markdown",
     "metadata": {},
     "source": [
      "By default, one tab is equivalent to eight spaces, so the only way to mix tabs and spaces is to make it look like this! In general, is is better to just **never use tabs** and **always use spaces**, because it can make things very confusing."
     ]
    },
    {
     "cell_type": "code",
     "collapsed": false,
     "input": [
      "def some_function():\n",
      "\tmsg = \"hello, world!\"\n",
      "\tprint msg\n",
      "        return msg"
     ],
     "language": "python",
     "metadata": {},
     "outputs": [],
     "prompt_number": 6
    },
    {
     "cell_type": "markdown",
     "metadata": {
      "cell_tags": [
       "challenges"
      ]
     },
     "source": [
      "#### Challenge: identifying syntax errors\n",
      "\n",
      "1. Read the code below, and (without running it) try to identify what the errors are.\n",
      "2. Run the cell, and read the error message. Is it a `SyntaxError` or an `IndentationError`?\n",
      "3. Fix the error.\n",
      "4. Repeat steps 2 and 3, until you have fixed all the errors."
     ]
    },
    {
     "cell_type": "code",
     "collapsed": false,
     "input": [
      "def another_function\n",
      "  print \"Syntax errors are annoying.\"\n",
      "   print \"But at least python tells us about them!\"\n",
      "  print \"So they are usually not too hard to fix.\""
     ],
     "language": "python",
     "metadata": {
      "cell_tags": [
       "challenges"
      ]
     },
     "outputs": []
    },
    {
     "cell_type": "heading",
     "level": 3,
     "metadata": {},
     "source": [
      "Variable name errors"
     ]
    },
    {
     "cell_type": "markdown",
     "metadata": {},
     "source": [
      "Another very common type of error is called a `NameError`, and occurs when you try to use a variable that does not exist. For example:"
     ]
    },
    {
     "cell_type": "code",
     "collapsed": false,
     "input": [
      "print a"
     ],
     "language": "python",
     "metadata": {},
     "outputs": [
      {
       "ename": "NameError",
       "evalue": "name 'a' is not defined",
       "output_type": "pyerr",
       "traceback": [
        "\u001b[0;31m---------------------------------------------------------------------------\u001b[0m\n\u001b[0;31mNameError\u001b[0m                                 Traceback (most recent call last)",
        "\u001b[0;32m<ipython-input-7-9d7b17ad5387>\u001b[0m in \u001b[0;36m<module>\u001b[0;34m()\u001b[0m\n\u001b[0;32m----> 1\u001b[0;31m \u001b[0;32mprint\u001b[0m \u001b[0ma\u001b[0m\u001b[0;34m\u001b[0m\u001b[0m\n\u001b[0m",
        "\u001b[0;31mNameError\u001b[0m: name 'a' is not defined"
       ]
      }
     ],
     "prompt_number": 7
    },
    {
     "cell_type": "markdown",
     "metadata": {},
     "source": [
      "Variable name errors come with some of the most informative error messages, which are usually of the form \"name 'the_variable_name' is not defined\".\n",
      "\n",
      "*Why* does this error message occur? That's harder question to answer, because it depends on what your code is supposed to do. However, there are a few very common reasons why you might have an undefined variable. The first is that you meant to use a [string](../../gloss.html#string), but forgot to put quotes around it:"
     ]
    },
    {
     "cell_type": "code",
     "collapsed": false,
     "input": [
      "print hello"
     ],
     "language": "python",
     "metadata": {},
     "outputs": [
      {
       "ename": "NameError",
       "evalue": "name 'hello' is not defined",
       "output_type": "pyerr",
       "traceback": [
        "\u001b[0;31m---------------------------------------------------------------------------\u001b[0m\n\u001b[0;31mNameError\u001b[0m                                 Traceback (most recent call last)",
        "\u001b[0;32m<ipython-input-8-9553ee03b645>\u001b[0m in \u001b[0;36m<module>\u001b[0;34m()\u001b[0m\n\u001b[0;32m----> 1\u001b[0;31m \u001b[0;32mprint\u001b[0m \u001b[0mhello\u001b[0m\u001b[0;34m\u001b[0m\u001b[0m\n\u001b[0m",
        "\u001b[0;31mNameError\u001b[0m: name 'hello' is not defined"
       ]
      }
     ],
     "prompt_number": 8
    },
    {
     "cell_type": "markdown",
     "metadata": {},
     "source": [
      "The second is that you just forgot to create the variable before using it. In the following example, `count` should have been defined (e.g., with `count = 0`) before the for loop:"
     ]
    },
    {
     "cell_type": "code",
     "collapsed": false,
     "input": [
      "for number in range(10):\n",
      "    count = count + number\n",
      "print \"The count is: \" + str(count)"
     ],
     "language": "python",
     "metadata": {},
     "outputs": [
      {
       "ename": "NameError",
       "evalue": "name 'count' is not defined",
       "output_type": "pyerr",
       "traceback": [
        "\u001b[0;31m---------------------------------------------------------------------------\u001b[0m\n\u001b[0;31mNameError\u001b[0m                                 Traceback (most recent call last)",
        "\u001b[0;32m<ipython-input-9-dd6a12d7ca5c>\u001b[0m in \u001b[0;36m<module>\u001b[0;34m()\u001b[0m\n\u001b[1;32m      1\u001b[0m \u001b[0;32mfor\u001b[0m \u001b[0mnumber\u001b[0m \u001b[0;32min\u001b[0m \u001b[0mrange\u001b[0m\u001b[0;34m(\u001b[0m\u001b[0;36m10\u001b[0m\u001b[0;34m)\u001b[0m\u001b[0;34m:\u001b[0m\u001b[0;34m\u001b[0m\u001b[0m\n\u001b[0;32m----> 2\u001b[0;31m     \u001b[0mcount\u001b[0m \u001b[0;34m=\u001b[0m \u001b[0mcount\u001b[0m \u001b[0;34m+\u001b[0m \u001b[0mnumber\u001b[0m\u001b[0;34m\u001b[0m\u001b[0m\n\u001b[0m\u001b[1;32m      3\u001b[0m \u001b[0;32mprint\u001b[0m \u001b[0;34m\"The count is: \"\u001b[0m \u001b[0;34m+\u001b[0m \u001b[0mstr\u001b[0m\u001b[0;34m(\u001b[0m\u001b[0mcount\u001b[0m\u001b[0;34m)\u001b[0m\u001b[0;34m\u001b[0m\u001b[0m\n",
        "\u001b[0;31mNameError\u001b[0m: name 'count' is not defined"
       ]
      }
     ],
     "prompt_number": 9
    },
    {
     "cell_type": "markdown",
     "metadata": {},
     "source": [
      "Finally, the third possibility is that you made a typo when you were writing your code. Let's say we fixed the error above by adding the line `Count = 0` before the for loop. Frustratingly, this actually does not fix the error! Remember that variables are [case-sensitive](../../gloss.html#case-sensitive), so the variable `count` is different from `Count`. We still get the same error, because we still have not defined `count`:"
     ]
    },
    {
     "cell_type": "code",
     "collapsed": false,
     "input": [
      "Count = 0\n",
      "for number in range(10):\n",
      "    count = count + number\n",
      "print \"The count is: \" + str(count)"
     ],
     "language": "python",
     "metadata": {},
     "outputs": [
      {
       "ename": "NameError",
       "evalue": "name 'count' is not defined",
       "output_type": "pyerr",
       "traceback": [
        "\u001b[0;31m---------------------------------------------------------------------------\u001b[0m\n\u001b[0;31mNameError\u001b[0m                                 Traceback (most recent call last)",
        "\u001b[0;32m<ipython-input-10-d77d40059aea>\u001b[0m in \u001b[0;36m<module>\u001b[0;34m()\u001b[0m\n\u001b[1;32m      1\u001b[0m \u001b[0mCount\u001b[0m \u001b[0;34m=\u001b[0m \u001b[0;36m0\u001b[0m\u001b[0;34m\u001b[0m\u001b[0m\n\u001b[1;32m      2\u001b[0m \u001b[0;32mfor\u001b[0m \u001b[0mnumber\u001b[0m \u001b[0;32min\u001b[0m \u001b[0mrange\u001b[0m\u001b[0;34m(\u001b[0m\u001b[0;36m10\u001b[0m\u001b[0;34m)\u001b[0m\u001b[0;34m:\u001b[0m\u001b[0;34m\u001b[0m\u001b[0m\n\u001b[0;32m----> 3\u001b[0;31m     \u001b[0mcount\u001b[0m \u001b[0;34m=\u001b[0m \u001b[0mcount\u001b[0m \u001b[0;34m+\u001b[0m \u001b[0mnumber\u001b[0m\u001b[0;34m\u001b[0m\u001b[0m\n\u001b[0m\u001b[1;32m      4\u001b[0m \u001b[0;32mprint\u001b[0m \u001b[0;34m\"The count is: \"\u001b[0m \u001b[0;34m+\u001b[0m \u001b[0mstr\u001b[0m\u001b[0;34m(\u001b[0m\u001b[0mcount\u001b[0m\u001b[0;34m)\u001b[0m\u001b[0;34m\u001b[0m\u001b[0m\n",
        "\u001b[0;31mNameError\u001b[0m: name 'count' is not defined"
       ]
      }
     ],
     "prompt_number": 10
    },
    {
     "cell_type": "markdown",
     "metadata": {
      "cell_tags": [
       "challenges"
      ]
     },
     "source": [
      "#### Challenge: identifying variable name errors\n",
      "\n",
      "1. Read the code below, and (without running it) try to identify what the errors are.\n",
      "2. Run the cell, and read the error message. What type of `NameError` do you think this is? In other words, is it a string with no quotes, a misspelled variable, or a variable that should have been defined but was not?\n",
      "3. Fix the error.\n",
      "4. Repeat steps 2 and 3, until you have fixed all the errors."
     ]
    },
    {
     "cell_type": "code",
     "collapsed": false,
     "input": [
      "for number in range(10):\n",
      "    # use a if the number is a multiple of 3, otherwise use b\n",
      "    if (Number % 3) == 0:\n",
      "        message = message + a\n",
      "    else:\n",
      "        message = message + \"b\"\n",
      "print message"
     ],
     "language": "python",
     "metadata": {
      "cell_tags": [
       "challenges"
      ]
     },
     "outputs": []
    },
    {
     "cell_type": "heading",
     "level": 3,
     "metadata": {},
     "source": [
      "Item errors"
     ]
    },
    {
     "cell_type": "markdown",
     "metadata": {},
     "source": [
      "Next up are errors having to do with containers (like lists and dictionaries) and the items within them. If you try to access an item in a list or a dictionary that does not exist, then you will get an error! This makes sense. Think about a real life example: if you asked someone what day they would like to get coffee, and they answered \"caturday\", you might be a bit annoyed (though, perhaps after being amused that someone thought of the idea of caturday). Python gets similarly annoyed if you try to ask it for an item that doesn't exist:"
     ]
    },
    {
     "cell_type": "code",
     "collapsed": false,
     "input": [
      "letters = ['a', 'b', 'c']\n",
      "print \"Letter #1 is \" + letters[0]\n",
      "print \"Letter #2 is \" + letters[1]\n",
      "print \"Letter #3 is \" + letters[2]\n",
      "print \"Letter #4 is \" + letters[3]"
     ],
     "language": "python",
     "metadata": {},
     "outputs": [
      {
       "output_type": "stream",
       "stream": "stdout",
       "text": [
        "Letter #1 is a\n",
        "Letter #2 is b\n",
        "Letter #3 is c\n"
       ]
      },
      {
       "ename": "IndexError",
       "evalue": "list index out of range",
       "output_type": "pyerr",
       "traceback": [
        "\u001b[0;31m---------------------------------------------------------------------------\u001b[0m\n\u001b[0;31mIndexError\u001b[0m                                Traceback (most recent call last)",
        "\u001b[0;32m<ipython-input-11-d817f55b7d6c>\u001b[0m in \u001b[0;36m<module>\u001b[0;34m()\u001b[0m\n\u001b[1;32m      3\u001b[0m \u001b[0;32mprint\u001b[0m \u001b[0;34m\"Letter #2 is \"\u001b[0m \u001b[0;34m+\u001b[0m \u001b[0mletters\u001b[0m\u001b[0;34m[\u001b[0m\u001b[0;36m1\u001b[0m\u001b[0;34m]\u001b[0m\u001b[0;34m\u001b[0m\u001b[0m\n\u001b[1;32m      4\u001b[0m \u001b[0;32mprint\u001b[0m \u001b[0;34m\"Letter #3 is \"\u001b[0m \u001b[0;34m+\u001b[0m \u001b[0mletters\u001b[0m\u001b[0;34m[\u001b[0m\u001b[0;36m2\u001b[0m\u001b[0;34m]\u001b[0m\u001b[0;34m\u001b[0m\u001b[0m\n\u001b[0;32m----> 5\u001b[0;31m \u001b[0;32mprint\u001b[0m \u001b[0;34m\"Letter #4 is \"\u001b[0m \u001b[0;34m+\u001b[0m \u001b[0mletters\u001b[0m\u001b[0;34m[\u001b[0m\u001b[0;36m3\u001b[0m\u001b[0;34m]\u001b[0m\u001b[0;34m\u001b[0m\u001b[0m\n\u001b[0m",
        "\u001b[0;31mIndexError\u001b[0m: list index out of range"
       ]
      }
     ],
     "prompt_number": 11
    },
    {
     "cell_type": "markdown",
     "metadata": {},
     "source": [
      "Here, Python is telling us that there is an `IndexError` in our code, meaning we tried to access a *list index* that did not exist.\n",
      "\n",
      "We get a similar error in the case of dictionaries:"
     ]
    },
    {
     "cell_type": "code",
     "collapsed": false,
     "input": [
      "us_state_capitals = {\n",
      "    'california': 'sacramento',\n",
      "    'virginia': 'richmond',\n",
      "    'new york': 'albany',\n",
      "    'massachusetts': 'boston'\n",
      "}\n",
      "\n",
      "print \"The capital of Oregon is: \" + us_state_capitals['oregon']"
     ],
     "language": "python",
     "metadata": {},
     "outputs": [
      {
       "ename": "KeyError",
       "evalue": "'oregon'",
       "output_type": "pyerr",
       "traceback": [
        "\u001b[0;31m---------------------------------------------------------------------------\u001b[0m\n\u001b[0;31mKeyError\u001b[0m                                  Traceback (most recent call last)",
        "\u001b[0;32m<ipython-input-12-27fa113dd73c>\u001b[0m in \u001b[0;36m<module>\u001b[0;34m()\u001b[0m\n\u001b[1;32m      6\u001b[0m }\n\u001b[1;32m      7\u001b[0m \u001b[0;34m\u001b[0m\u001b[0m\n\u001b[0;32m----> 8\u001b[0;31m \u001b[0;32mprint\u001b[0m \u001b[0;34m\"The capital of Oregon is: \"\u001b[0m \u001b[0;34m+\u001b[0m \u001b[0mus_state_capitals\u001b[0m\u001b[0;34m[\u001b[0m\u001b[0;34m'oregon'\u001b[0m\u001b[0;34m]\u001b[0m\u001b[0;34m\u001b[0m\u001b[0m\n\u001b[0m",
        "\u001b[0;31mKeyError\u001b[0m: 'oregon'"
       ]
      }
     ],
     "prompt_number": 12
    },
    {
     "cell_type": "markdown",
     "metadata": {},
     "source": [
      "In this case, we get a `KeyError`, which means that the key we requested (`'oregon'`, as the error message tells us) is not present in the dictionary. This might be because it genuinely does not exist in the dictionary, but it could *also* be due to a typo. This is similar to the case we discussed above, where you can sometimes receive a `NameError` due to a typo. For example:"
     ]
    },
    {
     "cell_type": "code",
     "collapsed": false,
     "input": [
      "us_state_capitals = {\n",
      "    'california': 'sacramento',\n",
      "    'virginia': 'richmond',\n",
      "    'new york': 'albany',\n",
      "    'massachusetts': 'boston'\n",
      "}\n",
      "\n",
      "print \"The capital of Massachusetts is: \" + us_state_capitals['massachussetts']"
     ],
     "language": "python",
     "metadata": {},
     "outputs": [
      {
       "ename": "KeyError",
       "evalue": "'massachussetts'",
       "output_type": "pyerr",
       "traceback": [
        "\u001b[0;31m---------------------------------------------------------------------------\u001b[0m\n\u001b[0;31mKeyError\u001b[0m                                  Traceback (most recent call last)",
        "\u001b[0;32m<ipython-input-13-ae1dac4c6a45>\u001b[0m in \u001b[0;36m<module>\u001b[0;34m()\u001b[0m\n\u001b[1;32m      6\u001b[0m }\n\u001b[1;32m      7\u001b[0m \u001b[0;34m\u001b[0m\u001b[0m\n\u001b[0;32m----> 8\u001b[0;31m \u001b[0;32mprint\u001b[0m \u001b[0;34m\"The capital of Massachusetts is: \"\u001b[0m \u001b[0;34m+\u001b[0m \u001b[0mus_state_capitals\u001b[0m\u001b[0;34m[\u001b[0m\u001b[0;34m'massachussetts'\u001b[0m\u001b[0;34m]\u001b[0m\u001b[0;34m\u001b[0m\u001b[0m\n\u001b[0m",
        "\u001b[0;31mKeyError\u001b[0m: 'massachussetts'"
       ]
      }
     ],
     "prompt_number": 13
    },
    {
     "cell_type": "markdown",
     "metadata": {
      "cell_tags": [
       "challenges"
      ]
     },
     "source": [
      "#### Challenge: identifying item errors\n",
      "\n",
      "1. Read the code below, and (without running it) try to identify what the errors are.\n",
      "2. Run the cell, and read the error message. Is it an `IndexError` or a `KeyError`?\n",
      "3. Fix the error.\n",
      "4. Repeat steps 2 and 3, until you have fixed all the errors."
     ]
    },
    {
     "cell_type": "code",
     "collapsed": false,
     "input": [
      "seasons = {\n",
      "    'spring': ['march', 'april', 'may'],\n",
      "    'summer': ['june', 'july', 'august'],\n",
      "    'fall': ['september', 'october', 'november'],\n",
      "    'winter': ['december', 'january', 'february']\n",
      "}\n",
      "\n",
      "print \"The first month in spring is: \" + seasons['spring'][0]\n",
      "print \"The third month in summer is: \" + seasons['summer'][3]\n",
      "print \"The third month in fall is: \" + seasons['fal'][3]\n",
      "print \"The second month in winter is: \" + seasons['Winter'][1]"
     ],
     "language": "python",
     "metadata": {
      "cell_tags": [
       "challenges"
      ]
     },
     "outputs": []
    },
    {
     "cell_type": "heading",
     "level": 3,
     "metadata": {},
     "source": [
      "File errors"
     ]
    },
    {
     "cell_type": "markdown",
     "metadata": {},
     "source": [
      "The last type of error we'll cover today are those associated with reading and writing files: `IOError`. The \"IO\" in `IOError` stands for \"input/output\", which is just a fancy way of saying \"writing/reading\".\n",
      "\n",
      "If you try to read a file that does not exist, you will recieve an `IOError` telling you so. This is the most common reason why you would receive `IOError`, and if the error messages says \"no such file or directory\", then you know you have just tried to access a file that does not exist:"
     ]
    },
    {
     "cell_type": "code",
     "collapsed": false,
     "input": [
      "file_handle = open('myfile.txt', 'r')"
     ],
     "language": "python",
     "metadata": {},
     "outputs": [
      {
       "ename": "IOError",
       "evalue": "[Errno 2] No such file or directory: 'myfile.txt'",
       "output_type": "pyerr",
       "traceback": [
        "\u001b[0;31m---------------------------------------------------------------------------\u001b[0m\n\u001b[0;31mIOError\u001b[0m                                   Traceback (most recent call last)",
        "\u001b[0;32m<ipython-input-14-f6e1ac4aee96>\u001b[0m in \u001b[0;36m<module>\u001b[0;34m()\u001b[0m\n\u001b[0;32m----> 1\u001b[0;31m \u001b[0mfile_handle\u001b[0m \u001b[0;34m=\u001b[0m \u001b[0mopen\u001b[0m\u001b[0;34m(\u001b[0m\u001b[0;34m'myfile.txt'\u001b[0m\u001b[0;34m,\u001b[0m \u001b[0;34m'r'\u001b[0m\u001b[0;34m)\u001b[0m\u001b[0;34m\u001b[0m\u001b[0m\n\u001b[0m",
        "\u001b[0;31mIOError\u001b[0m: [Errno 2] No such file or directory: 'myfile.txt'"
       ]
      }
     ],
     "prompt_number": 14
    },
    {
     "cell_type": "markdown",
     "metadata": {},
     "source": [
      "One reason for receiving this error is that you specified an incorrect path to the file. For example, if I am currently in a folder called `myproject`, and I have a file in `myproject/writing/myfile.txt`, but I try to just open `myfile.txt`, this will fail. The correct path would be `writing/myfile.txt`. It is also possible (like with `NameError` and `KeyError`) that you just made a typo."
     ]
    },
    {
     "cell_type": "markdown",
     "metadata": {},
     "source": [
      "Another issue could be that you used the \"read\" flag instead of the \"write\" flag. Python will not give you an error if you try to open a file for writing when the file does not exist. However, if you meant to open a file for reading, but accidentally opened it for writing, and then try to read from it, you will get an error telling you that the file was not opened for reading:"
     ]
    },
    {
     "cell_type": "code",
     "collapsed": false,
     "input": [
      "file_handle = open('myfile.txt', 'w')\n",
      "file_handle.read()"
     ],
     "language": "python",
     "metadata": {},
     "outputs": [
      {
       "ename": "IOError",
       "evalue": "File not open for reading",
       "output_type": "pyerr",
       "traceback": [
        "\u001b[0;31m---------------------------------------------------------------------------\u001b[0m\n\u001b[0;31mIOError\u001b[0m                                   Traceback (most recent call last)",
        "\u001b[0;32m<ipython-input-15-b846479bc61f>\u001b[0m in \u001b[0;36m<module>\u001b[0;34m()\u001b[0m\n\u001b[1;32m      1\u001b[0m \u001b[0mfile_handle\u001b[0m \u001b[0;34m=\u001b[0m \u001b[0mopen\u001b[0m\u001b[0;34m(\u001b[0m\u001b[0;34m'myfile.txt'\u001b[0m\u001b[0;34m,\u001b[0m \u001b[0;34m'w'\u001b[0m\u001b[0;34m)\u001b[0m\u001b[0;34m\u001b[0m\u001b[0m\n\u001b[0;32m----> 2\u001b[0;31m \u001b[0mfile_handle\u001b[0m\u001b[0;34m.\u001b[0m\u001b[0mread\u001b[0m\u001b[0;34m(\u001b[0m\u001b[0;34m)\u001b[0m\u001b[0;34m\u001b[0m\u001b[0m\n\u001b[0m",
        "\u001b[0;31mIOError\u001b[0m: File not open for reading"
       ]
      }
     ],
     "prompt_number": 15
    },
    {
     "cell_type": "markdown",
     "metadata": {
      "cell_tags": [
       "keypoints"
      ]
     },
     "source": [
      "#### Key Points\n",
      "\n",
      "*   Tracebacks can look intimidating, but they give us a lot of useful information about what went wrong in our program, including where the error occurred and what type of error it was.\n",
      "*   An error having to do with the \"grammar\" or syntax of the program is called a `SyntaxError`. If the issue has to do with how the code is indented, then it will be called an `IndentationError`.\n",
      "*   A `NameError` will occur if you use a variable that has not been defined (either because you meant to use quotes around a string, you forgot to define the variable, or you just made a typo).\n",
      "*   Containers like lists and dictionaries will generate errors if you try to access items in them that do not exist. For lists, this type of error is called an `IndexError`; for dictionaries, it is called a `KeyError`.\n",
      "*   Trying to read a file that does not exist will give you an `IOError`. Trying to read a file that is open for writing, or writing to a file that is open for reading, will also give you an `IOError`."
     ]
    }
   ],
   "metadata": {}
  }
 ]
}