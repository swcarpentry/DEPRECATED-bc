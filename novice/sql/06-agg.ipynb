{
 "metadata": {
  "name": ""
 },
 "nbformat": 3,
 "nbformat_minor": 0,
 "worksheets": [
  {
   "cells": [
    {
     "cell_type": "heading",
     "level": 2,
     "metadata": {},
     "source": [
      "Aggregation"
     ]
    },
    {
     "cell_type": "markdown",
     "metadata": {
      "cell_tags": [
       "objectives"
      ]
     },
     "source": [
      "#### Objectives\n",
      "\n",
      "*   Define \"aggregation\" and give examples of its use.\n",
      "*   Write queries that compute aggregated values.\n",
      "*   Trace the execution of a query that performs aggregation.\n",
      "*   Explain how missing data is handled during aggregation."
     ]
    },
    {
     "cell_type": "markdown",
     "metadata": {},
     "source": [
      "We now want to calculate ranges and averages for our data.\n",
      "We know how to select all of the dates from the `Visited` table:"
     ]
    },
    {
     "cell_type": "code",
     "collapsed": false,
     "input": [
      "%load_ext sqlitemagic"
     ],
     "language": "python",
     "metadata": {},
     "outputs": [],
     "prompt_number": 1
    },
    {
     "cell_type": "code",
     "collapsed": false,
     "input": [
      "%%sqlite survey.db\n",
      "select dated from Visited;"
     ],
     "language": "python",
     "metadata": {},
     "outputs": [
      {
       "html": [
        "<table>\n",
        "<tr><td>1927-02-08</td></tr>\n",
        "<tr><td>1927-02-10</td></tr>\n",
        "<tr><td>1939-01-07</td></tr>\n",
        "<tr><td>1930-01-12</td></tr>\n",
        "<tr><td>1930-02-26</td></tr>\n",
        "<tr><td>None</td></tr>\n",
        "<tr><td>1932-01-14</td></tr>\n",
        "<tr><td>1932-03-22</td></tr>\n",
        "</table>"
       ],
       "metadata": {},
       "output_type": "display_data",
       "text": [
        "<IPython.core.display.HTML at 0x1023c4110>"
       ]
      }
     ],
     "prompt_number": 2
    },
    {
     "cell_type": "markdown",
     "metadata": {},
     "source": [
      "but to combine them,\n",
      "wee must use an [aggregation function](../../gloss.html#aggregation-function)\n",
      "such as `min` or `max`.\n",
      "Each of these functions takes a set of records as input,\n",
      "and produces a single record as output:"
     ]
    },
    {
     "cell_type": "code",
     "collapsed": false,
     "input": [
      "%%sqlite survey.db\n",
      "select min(dated) from Visited;"
     ],
     "language": "python",
     "metadata": {},
     "outputs": [
      {
       "html": [
        "<table>\n",
        "<tr><td>1927-02-08</td></tr>\n",
        "</table>"
       ],
       "metadata": {},
       "output_type": "display_data",
       "text": [
        "<IPython.core.display.HTML at 0x1023c4110>"
       ]
      }
     ],
     "prompt_number": 3
    },
    {
     "cell_type": "markdown",
     "metadata": {},
     "source": [
      "<img src=\"files/img/sql-aggregation.svg\" alt=\"SQL Aggregation\" />"
     ]
    },
    {
     "cell_type": "code",
     "collapsed": false,
     "input": [
      "%%sqlite survey.db\n",
      "select max(dated) from Visited;"
     ],
     "language": "python",
     "metadata": {},
     "outputs": [
      {
       "html": [
        "<table>\n",
        "<tr><td>1939-01-07</td></tr>\n",
        "</table>"
       ],
       "metadata": {},
       "output_type": "display_data",
       "text": [
        "<IPython.core.display.HTML at 0x1023c4190>"
       ]
      }
     ],
     "prompt_number": 4
    },
    {
     "cell_type": "markdown",
     "metadata": {},
     "source": [
      "`min` and `max` are just two of\n",
      "the aggregation functions built into SQL.\n",
      "Three others are `avg`,\n",
      "`count`,\n",
      "and `sum`:"
     ]
    },
    {
     "cell_type": "code",
     "collapsed": false,
     "input": [
      "%%sqlite survey.db\n",
      "select avg(reading) from Survey where quant='sal';"
     ],
     "language": "python",
     "metadata": {},
     "outputs": [
      {
       "html": [
        "<table>\n",
        "<tr><td>7.20333333333</td></tr>\n",
        "</table>"
       ],
       "metadata": {},
       "output_type": "display_data",
       "text": [
        "<IPython.core.display.HTML at 0x1023c37d0>"
       ]
      }
     ],
     "prompt_number": 5
    },
    {
     "cell_type": "code",
     "collapsed": false,
     "input": [
      "%%sqlite survey.db\n",
      "select count(reading) from Survey where quant='sal';"
     ],
     "language": "python",
     "metadata": {},
     "outputs": [
      {
       "html": [
        "<table>\n",
        "<tr><td>9</td></tr>\n",
        "</table>"
       ],
       "metadata": {},
       "output_type": "display_data",
       "text": [
        "<IPython.core.display.HTML at 0x1023c37d0>"
       ]
      }
     ],
     "prompt_number": 6
    },
    {
     "cell_type": "code",
     "collapsed": false,
     "input": [
      "%%sqlite survey.db\n",
      "select sum(reading) from Survey where quant='sal';"
     ],
     "language": "python",
     "metadata": {},
     "outputs": [
      {
       "html": [
        "<table>\n",
        "<tr><td>64.83</td></tr>\n",
        "</table>"
       ],
       "metadata": {},
       "output_type": "display_data",
       "text": [
        "<IPython.core.display.HTML at 0x1023c37d0>"
       ]
      }
     ],
     "prompt_number": 7
    },
    {
     "cell_type": "markdown",
     "metadata": {},
     "source": [
      "We used `count(reading)` here,\n",
      "but we could just as easily have counted `quant`\n",
      "or any other field in the table,\n",
      "or even used `count(*)`,\n",
      "since the function doesn't care about the values themselves,\n",
      "just how many values there are.\n",
      "\n",
      "SQL lets us do several aggregations at once.\n",
      "We can,\n",
      "for example,\n",
      "find the range of sensible salinity measurements:"
     ]
    },
    {
     "cell_type": "code",
     "collapsed": false,
     "input": [
      "%%sqlite survey.db\n",
      "select min(reading), max(reading) from Survey where quant='sal' and reading<=1.0;"
     ],
     "language": "python",
     "metadata": {},
     "outputs": [
      {
       "html": [
        "<table>\n",
        "<tr><td>0.05</td><td>0.21</td></tr>\n",
        "</table>"
       ],
       "metadata": {},
       "output_type": "display_data",
       "text": [
        "<IPython.core.display.HTML at 0x1023c37d0>"
       ]
      }
     ],
     "prompt_number": 8
    },
    {
     "cell_type": "markdown",
     "metadata": {},
     "source": [
      "We can also combine aggregated results with raw results,\n",
      "although the output might surprise you:"
     ]
    },
    {
     "cell_type": "code",
     "collapsed": false,
     "input": [
      "%%sqlite survey.db\n",
      "select person, count(*) from Survey where quant='sal' and reading<=1.0;"
     ],
     "language": "python",
     "metadata": {},
     "outputs": [
      {
       "html": [
        "<table>\n",
        "<tr><td>lake</td><td>7</td></tr>\n",
        "</table>"
       ],
       "metadata": {},
       "output_type": "display_data",
       "text": [
        "<IPython.core.display.HTML at 0x1023c37d0>"
       ]
      }
     ],
     "prompt_number": 9
    },
    {
     "cell_type": "markdown",
     "metadata": {},
     "source": [
      "Why does Lake's name appear rather than Roerich's or Dyer's?\n",
      "The answer is that when it has to aggregate a field,\n",
      "but isn't told how to,\n",
      "the database manager chooses an actual value from the input set.\n",
      "It might use the first one processed,\n",
      "the last one,\n",
      "or something else entirely.\n",
      "\n",
      "Another important fact is that when there are no values to aggregate,\n",
      "aggregation's result is \"don't know\"\n",
      "rather than zero or some other arbitrary value:"
     ]
    },
    {
     "cell_type": "code",
     "collapsed": false,
     "input": [
      "%%sqlite survey.db\n",
      "select person, max(reading), sum(reading) from Survey where quant='missing';"
     ],
     "language": "python",
     "metadata": {},
     "outputs": [
      {
       "html": [
        "<table>\n",
        "<tr><td>None</td><td>None</td><td>None</td></tr>\n",
        "</table>"
       ],
       "metadata": {},
       "output_type": "display_data",
       "text": [
        "<IPython.core.display.HTML at 0x1023c37d0>"
       ]
      }
     ],
     "prompt_number": 10
    },
    {
     "cell_type": "markdown",
     "metadata": {},
     "source": [
      "One final important feature of aggregation functions is that\n",
      "they are inconsistent with the rest of SQL in a very useful way.\n",
      "If we add two values,\n",
      "and one of them is null,\n",
      "the result is null.\n",
      "By extension,\n",
      "if we use `sum` to add all the values in a set,\n",
      "and any of those values are null,\n",
      "the result should also be null.\n",
      "It's much more useful,\n",
      "though,\n",
      "for aggregation functions to ignore null values\n",
      "and only combine those that are non-null.\n",
      "This behavior lets us write our queries as:"
     ]
    },
    {
     "cell_type": "code",
     "collapsed": false,
     "input": [
      "%%sqlite survey.db\n",
      "select min(dated) from Visited;"
     ],
     "language": "python",
     "metadata": {},
     "outputs": [
      {
       "html": [
        "<table>\n",
        "<tr><td>1927-02-08</td></tr>\n",
        "</table>"
       ],
       "metadata": {},
       "output_type": "display_data",
       "text": [
        "<IPython.core.display.HTML at 0x1023cbe90>"
       ]
      }
     ],
     "prompt_number": 11
    },
    {
     "cell_type": "markdown",
     "metadata": {},
     "source": [
      "instead of always having to filter explicitly:"
     ]
    },
    {
     "cell_type": "code",
     "collapsed": false,
     "input": [
      "%%sqlite survey.db\n",
      "select min(dated) from Visited where dated is not null;"
     ],
     "language": "python",
     "metadata": {},
     "outputs": [
      {
       "html": [
        "<table>\n",
        "<tr><td>1927-02-08</td></tr>\n",
        "</table>"
       ],
       "metadata": {},
       "output_type": "display_data",
       "text": [
        "<IPython.core.display.HTML at 0x1023c9650>"
       ]
      }
     ],
     "prompt_number": 12
    },
    {
     "cell_type": "markdown",
     "metadata": {},
     "source": [
      "Aggregating all records at once doesn't always make sense.\n",
      "For example,\n",
      "suppose Gina suspects that there is a systematic bias in her data,\n",
      "and that some scientists' radiation readings are higher than others.\n",
      "We know that this doesn't work:"
     ]
    },
    {
     "cell_type": "code",
     "collapsed": false,
     "input": [
      "%%sqlite survey.db\n",
      "select person, count(reading), round(avg(reading), 2)\n",
      "from  Survey\n",
      "where quant='rad';"
     ],
     "language": "python",
     "metadata": {},
     "outputs": [
      {
       "html": [
        "<table>\n",
        "<tr><td>roe</td><td>8</td><td>6.56</td></tr>\n",
        "</table>"
       ],
       "metadata": {},
       "output_type": "display_data",
       "text": [
        "<IPython.core.display.HTML at 0x1023c45d0>"
       ]
      }
     ],
     "prompt_number": 13
    },
    {
     "cell_type": "markdown",
     "metadata": {},
     "source": [
      "because the database manager selects a single arbitrary scientist's name\n",
      "rather than aggregating separately for each scientist.\n",
      "Since there are only five scientists,\n",
      "she could write five queries of the form:"
     ]
    },
    {
     "cell_type": "code",
     "collapsed": false,
     "input": [
      "%%sqlite survey.db\n",
      "select person, count(reading), round(avg(reading), 2)\n",
      "from  Survey\n",
      "where quant='rad'\n",
      "and   person='dyer';"
     ],
     "language": "python",
     "metadata": {},
     "outputs": [
      {
       "html": [
        "<table>\n",
        "<tr><td>dyer</td><td>2</td><td>8.81</td></tr>\n",
        "</table>"
       ],
       "metadata": {},
       "output_type": "display_data",
       "text": [
        "<IPython.core.display.HTML at 0x1023c4790>"
       ]
      }
     ],
     "prompt_number": 14
    },
    {
     "cell_type": "markdown",
     "metadata": {},
     "source": [
      "but this would be tedious,\n",
      "and if she ever had a data set with fifty or five hundred scientists,\n",
      "the chances of her getting all of those queries right is small.\n",
      "\n",
      "What we need to do is\n",
      "tell the database manager to aggregate the hours for each scientist separately\n",
      "using a `group by` clause:"
     ]
    },
    {
     "cell_type": "code",
     "collapsed": false,
     "input": [
      "%%sqlite survey.db\n",
      "select   person, count(reading), round(avg(reading), 2)\n",
      "from     Survey\n",
      "where    quant='rad'\n",
      "group by person;"
     ],
     "language": "python",
     "metadata": {},
     "outputs": [
      {
       "html": [
        "<table>\n",
        "<tr><td>dyer</td><td>2</td><td>8.81</td></tr>\n",
        "<tr><td>lake</td><td>2</td><td>1.82</td></tr>\n",
        "<tr><td>pb</td><td>3</td><td>6.66</td></tr>\n",
        "<tr><td>roe</td><td>1</td><td>11.25</td></tr>\n",
        "</table>"
       ],
       "metadata": {},
       "output_type": "display_data",
       "text": [
        "<IPython.core.display.HTML at 0x1023c4110>"
       ]
      }
     ],
     "prompt_number": 15
    },
    {
     "cell_type": "markdown",
     "metadata": {},
     "source": [
      "`group by` does exactly what its name implies:\n",
      "groups all the records with the same value for the specified field together\n",
      "so that aggregation can process each batch separately.\n",
      "Since all the records in each batch have the same value for `person`,\n",
      "it no longer matters that the database manager\n",
      "is picking an arbitrary one to display\n",
      "alongside the aggregated `reading` values."
     ]
    },
    {
     "cell_type": "markdown",
     "metadata": {},
     "source": [
      "Just as we can sort by multiple criteria at once,\n",
      "we can also group by multiple criteria.\n",
      "To get the average reading by scientist and quantity measured,\n",
      "for example,\n",
      "we just add another field to the `group by` clause:"
     ]
    },
    {
     "cell_type": "code",
     "collapsed": false,
     "input": [
      "%%sqlite survey.db\n",
      "select   person, quant, count(reading), round(avg(reading), 2)\n",
      "from     Survey\n",
      "group by person, quant;"
     ],
     "language": "python",
     "metadata": {},
     "outputs": [
      {
       "html": [
        "<table>\n",
        "<tr><td>None</td><td>sal</td><td>1</td><td>0.06</td></tr>\n",
        "<tr><td>None</td><td>temp</td><td>1</td><td>-26.0</td></tr>\n",
        "<tr><td>dyer</td><td>rad</td><td>2</td><td>8.81</td></tr>\n",
        "<tr><td>dyer</td><td>sal</td><td>2</td><td>0.11</td></tr>\n",
        "<tr><td>lake</td><td>rad</td><td>2</td><td>1.82</td></tr>\n",
        "<tr><td>lake</td><td>sal</td><td>4</td><td>0.11</td></tr>\n",
        "<tr><td>lake</td><td>temp</td><td>1</td><td>-16.0</td></tr>\n",
        "<tr><td>pb</td><td>rad</td><td>3</td><td>6.66</td></tr>\n",
        "<tr><td>pb</td><td>temp</td><td>2</td><td>-20.0</td></tr>\n",
        "<tr><td>roe</td><td>rad</td><td>1</td><td>11.25</td></tr>\n",
        "<tr><td>roe</td><td>sal</td><td>2</td><td>32.05</td></tr>\n",
        "</table>"
       ],
       "metadata": {},
       "output_type": "display_data",
       "text": [
        "<IPython.core.display.HTML at 0x1023c45d0>"
       ]
      }
     ],
     "prompt_number": 16
    },
    {
     "cell_type": "markdown",
     "metadata": {},
     "source": [
      "Note that we have added `person` to the list of fields displayed,\n",
      "since the results wouldn't make much sense otherwise.\n",
      "\n",
      "Let's go one step further and remove all the entries\n",
      "where we don't know who took the measurement:"
     ]
    },
    {
     "cell_type": "code",
     "collapsed": false,
     "input": [
      "%%sqlite survey.db\n",
      "select   person, quant, count(reading), round(avg(reading), 2)\n",
      "from     Survey\n",
      "where    person is not null\n",
      "group by person, quant\n",
      "order by person, quant;"
     ],
     "language": "python",
     "metadata": {},
     "outputs": [
      {
       "html": [
        "<table>\n",
        "<tr><td>dyer</td><td>rad</td><td>2</td><td>8.81</td></tr>\n",
        "<tr><td>dyer</td><td>sal</td><td>2</td><td>0.11</td></tr>\n",
        "<tr><td>lake</td><td>rad</td><td>2</td><td>1.82</td></tr>\n",
        "<tr><td>lake</td><td>sal</td><td>4</td><td>0.11</td></tr>\n",
        "<tr><td>lake</td><td>temp</td><td>1</td><td>-16.0</td></tr>\n",
        "<tr><td>pb</td><td>rad</td><td>3</td><td>6.66</td></tr>\n",
        "<tr><td>pb</td><td>temp</td><td>2</td><td>-20.0</td></tr>\n",
        "<tr><td>roe</td><td>rad</td><td>1</td><td>11.25</td></tr>\n",
        "<tr><td>roe</td><td>sal</td><td>2</td><td>32.05</td></tr>\n",
        "</table>"
       ],
       "metadata": {},
       "output_type": "display_data",
       "text": [
        "<IPython.core.display.HTML at 0x1023c4790>"
       ]
      }
     ],
     "prompt_number": 17
    },
    {
     "cell_type": "markdown",
     "metadata": {},
     "source": [
      "Looking more closely,\n",
      "this query:\n",
      "\n",
      "1.  selected records from the `Survey` table\n",
      "    where the `person` field was not null;\n",
      "\n",
      "2.  grouped those records into subsets\n",
      "    so that the `person` and `quant` values in each subset\n",
      "    were the same;\n",
      "\n",
      "3.  ordered those subsets first by `person`,\n",
      "    and then within each sub-group by `quant`;\n",
      "    and\n",
      "\n",
      "4.  counted the number of records in each subset,\n",
      "    calculated the average `reading` in each,\n",
      "    and chose a `person` and `quant` value from each\n",
      "    (it doesn't matter which ones,\n",
      "    since they're all equal)."
     ]
    },
    {
     "cell_type": "markdown",
     "metadata": {},
     "source": [
      "#### Challenges\n",
      "\n",
      "1.  How many temperature readings did Frank Pabodie record,\n",
      "    and what was their average value?\n",
      "\n",
      "2.  The average of a set of values is the sum of the values\n",
      "    divided by the number of values.\n",
      "    Does this mean that the `avg` function returns 2.0 or 3.0\n",
      "    when given the values 1.0, `null`, and 5.0?\n",
      "\n",
      "3.  We want to calculate the difference between\n",
      "    each individual radiation reading\n",
      "    and the average of all the radiation readings.\n",
      "    We write the query:\n",
      "\n",
      "    ~~~\n",
      "    select reading - avg(reading) from Survey where quant='rad';\n",
      "    ~~~\n",
      "\n",
      "    What does this actually produce, and why?\n",
      "\n",
      "4.  The function `group_concat(field, separator)`\n",
      "    concatenates all the values in a field\n",
      "    using the specified separator character\n",
      "    (or ',' if the separator isn't specified).\n",
      "    Use this to produce a one-line list of scientists' names,\n",
      "    such as:\n",
      "\n",
      "    ~~~\n",
      "    William Dyer, Frank Pabodie, Anderson Lake, Valentina Roerich, Frank Danforth\n",
      "    ~~~\n",
      "\n",
      "    Can you find a way to order the list by surname?"
     ]
    },
    {
     "cell_type": "markdown",
     "metadata": {
      "cell_tags": [
       "keypoints"
      ]
     },
     "source": [
      "#### Key Points\n",
      "\n",
      "*   An aggregation function combines many values to produce a single new value.\n",
      "*   Aggregation functions ignore `null` values.\n",
      "*   Aggregation happens after filtering."
     ]
    }
   ],
   "metadata": {}
  }
 ]
}