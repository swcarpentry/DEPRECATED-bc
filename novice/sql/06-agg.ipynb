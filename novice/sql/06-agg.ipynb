{
 "metadata": {
  "name": ""
 },
 "nbformat": 3,
 "nbformat_minor": 0,
 "worksheets": [
  {
   "cells": [
    {
     "cell_type": "heading",
     "level": 2,
     "metadata": {},
     "source": [
      "Aggregation"
     ]
    },
    {
     "cell_type": "markdown",
     "metadata": {
      "cell_tags": [
       "objectives"
      ]
     },
     "source": [
      "#### Objectives\n",
      "\n",
      "*   Define \"aggregation\" and give examples of its use.\n",
      "*   Write queries that compute aggregated values.\n",
      "*   Trace the execution of a query that performs aggregation.\n",
      "*   Explain how missing data is handled during aggregation."
     ]
    },
    {
     "cell_type": "markdown",
     "metadata": {},
     "source": [
      "We now want to calculate ranges and averages for our data.\n",
      "We know how to select all of the dates from the `Visited` table:"
     ]
    },
    {
     "cell_type": "code",
     "collapsed": false,
     "input": [
      "%load_ext sqlitemagic"
     ],
     "language": "python",
     "metadata": {},
     "outputs": [],
     "prompt_number": 1
    },
    {
     "cell_type": "code",
     "collapsed": false,
     "input": [
      "%%sqlite survey.db\n",
      "select dated from Visited;"
     ],
     "language": "python",
     "metadata": {},
     "outputs": [
      {
       "html": [
        "<table>\n",
        "<tr><td>1927-02-08</td></tr>\n",
        "<tr><td>1927-02-10</td></tr>\n",
        "<tr><td>1939-01-07</td></tr>\n",
        "<tr><td>1930-01-12</td></tr>\n",
        "<tr><td>1930-02-26</td></tr>\n",
        "<tr><td>None</td></tr>\n",
        "<tr><td>1932-01-14</td></tr>\n",
        "<tr><td>1932-03-22</td></tr>\n",
        "</table>"
       ],
       "metadata": {},
       "output_type": "display_data",
       "text": [
        "<IPython.core.display.HTML at 0x10248c2d0>"
       ]
      }
     ],
     "prompt_number": 2
    },
    {
     "cell_type": "markdown",
     "metadata": {},
     "source": [
      "but to combine them,\n",
      "wee must use an [aggregation function](../../gloss.html#aggregation-function)\n",
      "such as `min` or `max`.\n",
      "Each of these functions takes a set of records as input,\n",
      "and produces a single record as output:"
     ]
    },
    {
     "cell_type": "code",
     "collapsed": false,
     "input": [
      "%%sqlite survey.db\n",
      "select min(dated) from Visited;"
     ],
     "language": "python",
     "metadata": {},
     "outputs": [
      {
       "html": [
        "<table>\n",
        "<tr><td>1927-02-08</td></tr>\n",
        "</table>"
       ],
       "metadata": {},
       "output_type": "display_data",
       "text": [
        "<IPython.core.display.HTML at 0x10248cc50>"
       ]
      }
     ],
     "prompt_number": 3
    },
    {
     "cell_type": "markdown",
     "metadata": {},
     "source": [
      "<img src=\"files/img/sql-aggregation.svg\" alt=\"SQL Aggregation\" />"
     ]
    },
    {
     "cell_type": "code",
     "collapsed": false,
     "input": [
      "%%sqlite survey.db\n",
      "select max(dated) from Visited;"
     ],
     "language": "python",
     "metadata": {},
     "outputs": [
      {
       "html": [
        "<table>\n",
        "<tr><td>1939-01-07</td></tr>\n",
        "</table>"
       ],
       "metadata": {},
       "output_type": "display_data",
       "text": [
        "<IPython.core.display.HTML at 0x102489590>"
       ]
      }
     ],
     "prompt_number": 4
    },
    {
     "cell_type": "markdown",
     "metadata": {},
     "source": [
      "`min` and `max` are just two of\n",
      "the aggregation functions built into SQL.\n",
      "Three others are `avg`,\n",
      "`sum`,\n",
      "and `count`:"
     ]
    },
    {
     "cell_type": "code",
     "collapsed": false,
     "input": [
      "%%sqlite survey.db\n",
      "select avg(reading) from Survey where quant='sal';"
     ],
     "language": "python",
     "metadata": {},
     "outputs": [
      {
       "html": [
        "<table>\n",
        "<tr><td>7.20333333333</td></tr>\n",
        "</table>"
       ],
       "metadata": {},
       "output_type": "display_data",
       "text": [
        "<IPython.core.display.HTML at 0x10248ce50>"
       ]
      }
     ],
     "prompt_number": 5
    },
    {
     "cell_type": "code",
     "collapsed": false,
     "input": [
      "%%sqlite survey.db\n",
      "select sum(reading) from Survey where quant='sal';"
     ],
     "language": "python",
     "metadata": {},
     "outputs": [
      {
       "html": [
        "<table>\n",
        "<tr><td>64.83</td></tr>\n",
        "</table>"
       ],
       "metadata": {},
       "output_type": "display_data",
       "text": [
        "<IPython.core.display.HTML at 0x10248ce10>"
       ]
      }
     ],
     "prompt_number": 6
    },
    {
     "cell_type": "code",
     "collapsed": false,
     "input": [
      "%%sqlite survey.db\n",
      "select count(reading) from Survey where quant='sal';"
     ],
     "language": "python",
     "metadata": {},
     "outputs": [
      {
       "html": [
        "<table>\n",
        "<tr><td>9</td></tr>\n",
        "</table>"
       ],
       "metadata": {},
       "output_type": "display_data",
       "text": [
        "<IPython.core.display.HTML at 0x10248c2d0>"
       ]
      }
     ],
     "prompt_number": 7
    },
    {
     "cell_type": "markdown",
     "metadata": {},
     "source": [
      "We used `count(reading)` here,\n",
      "but since the function doesn't care about the values themselves,\n",
      "just how many values there are, we could just as easily have \n",
      "used count(`quant`). In practice, it's common \n",
      "to use `count(*)` to count all rows. \n",
      "\n",
      "\n",
      "SQL lets us do several aggregations at once.\n",
      "We can,\n",
      "for example,\n",
      "find the range of sensible salinity measurements:"
     ]
    },
    {
     "cell_type": "code",
     "collapsed": false,
     "input": [
      "%%sqlite survey.db\n",
      "select min(reading), max(reading) from Survey where quant='sal' and reading<=1.0;"
     ],
     "language": "python",
     "metadata": {},
     "outputs": [
      {
       "html": [
        "<table>\n",
        "<tr><td>0.05</td><td>0.21</td></tr>\n",
        "</table>"
       ],
       "metadata": {},
       "output_type": "display_data",
       "text": [
        "<IPython.core.display.HTML at 0x10248c710>"
       ]
      }
     ],
     "prompt_number": 8
    },
    {
     "cell_type": "markdown",
     "metadata": {},
     "source": [
      "Another important fact is that when there are no values to aggregate,\n",
      "aggregation's result is \"don't know\"\n",
      "rather than zero or some other arbitrary value. (Note that count returns a reasonable value.) "
     ]
    },
    {
     "cell_type": "code",
     "collapsed": false,
     "input": [
      "%%sqlite survey.db\n",
      "select count(reading), max(reading), sum(reading), avg(reading) from Survey where quant='missing';"
     ],
     "language": "python",
     "metadata": {},
     "outputs": [
      {
       "html": [
        "<table>\n",
        "<tr><td>0</td><td>None</td><td>None</td><td>None</td></tr>\n",
        "</table>"
       ],
       "metadata": {},
       "output_type": "display_data",
       "text": [
        "<IPython.core.display.HTML at 0x10248cc50>"
       ]
      }
     ],
     "prompt_number": 9
    },
    {
     "cell_type": "markdown",
     "metadata": {},
     "source": [
      "One final important feature of aggregation functions is that\n",
      "they ignore nulls. Note the full results below followed by the aggregated counts."
     ]
    },
    {
     "cell_type": "code",
     "collapsed": false,
     "input": [
      "%%sqlite survey.db\n",
      "select ident, dated from Visited;"
     ],
     "language": "python",
     "metadata": {},
     "outputs": [
      {
       "html": [
        "<table>\n",
        "<tr><td>619</td><td>1927-02-08</td></tr>\n",
        "<tr><td>622</td><td>1927-02-10</td></tr>\n",
        "<tr><td>734</td><td>1939-01-07</td></tr>\n",
        "<tr><td>735</td><td>1930-01-12</td></tr>\n",
        "<tr><td>751</td><td>1930-02-26</td></tr>\n",
        "<tr><td>752</td><td>None</td></tr>\n",
        "<tr><td>837</td><td>1932-01-14</td></tr>\n",
        "<tr><td>844</td><td>1932-03-22</td></tr>\n",
        "</table>"
       ],
       "metadata": {},
       "output_type": "display_data",
       "text": [
        "<IPython.core.display.HTML at 0x10248ca90>"
       ]
      }
     ],
     "prompt_number": 10
    },
    {
     "cell_type": "code",
     "collapsed": false,
     "input": [
      "%%sqlite survey.db\n",
      "select count(ident), count(dated) from Visited;"
     ],
     "language": "python",
     "metadata": {},
     "outputs": [
      {
       "html": [
        "<table>\n",
        "<tr><td>8</td><td>7</td></tr>\n",
        "</table>"
       ],
       "metadata": {},
       "output_type": "display_data",
       "text": [
        "<IPython.core.display.HTML at 0x10248cf10>"
       ]
      }
     ],
     "prompt_number": 11
    },
    {
     "cell_type": "markdown",
     "metadata": {},
     "source": [
      "In constrast to non-aggregate functions/operations \n",
      "(sometimes called scalar functions) where any null in the input results in a null, \n",
      "aggregate functions simply ignore nulls. While inconsistent with scalar functions,\n",
      "this behavior actually makes aggregate functions simpler and more useful. "
     ]
    },
    {
     "cell_type": "markdown",
     "metadata": {},
     "source": [
      "The select list of our queries above contained only aggergate functions. \n",
      "SQLite allows us to combine aggregated results with raw results,\n",
      "but *be careful*: the results can be suprising."
     ]
    },
    {
     "cell_type": "code",
     "collapsed": false,
     "input": [
      "%%sqlite survey.db\n",
      "select person, count(*) from Survey where quant='sal' and reading<=1.0;"
     ],
     "language": "python",
     "metadata": {},
     "outputs": [
      {
       "html": [
        "<table>\n",
        "<tr><td>lake</td><td>7</td></tr>\n",
        "</table>"
       ],
       "metadata": {},
       "output_type": "display_data",
       "text": [
        "<IPython.core.display.HTML at 0x10248c810>"
       ]
      }
     ],
     "prompt_number": 12
    },
    {
     "cell_type": "markdown",
     "metadata": {},
     "source": [
      "Is this what you expected?\n",
      "\n",
      "The aggregate function `count(*)` in the select list cues the database manager that you want to summarize all the results into a single row; but you also asked for a `person`. Which person should it choose to represent all the original rows? \n",
      "In this example, why does Lake's name appear rather than Roerich's or Dyer's?\n",
      "The answer is that different database managers handle this differently: SQLite arbitrarily chooses a value from the original results; some database managers present a null, and some database managers return an error. Fortunately, there are several techniques to meaningfully combine aggregate results and column values. Consider this example:\n",
      "\n",
      "*Gina suspects that there is a systematic bias in her data, and that some scientists' radiation readings are higher than others. \n",
      "She would like to see the counts and averages for each scientist individually.*\n",
      "\n",
      "From above, we know that this won't answer Gina's question:"
     ]
    },
    {
     "cell_type": "code",
     "collapsed": false,
     "input": [
      "%%sqlite survey.db\n",
      "select person, count(reading), round(avg(reading), 2)\n",
      "from  Survey\n",
      "where quant='rad';"
     ],
     "language": "python",
     "metadata": {},
     "outputs": [
      {
       "html": [
        "<table>\n",
        "<tr><td>roe</td><td>8</td><td>6.56</td></tr>\n",
        "</table>"
       ],
       "metadata": {},
       "output_type": "display_data",
       "text": [
        "<IPython.core.display.HTML at 0x10248cf10>"
       ]
      }
     ],
     "prompt_number": 13
    },
    {
     "cell_type": "markdown",
     "metadata": {},
     "source": [
      "because the database manager selects a single arbitrary scientist's name\n",
      "rather than aggregating separately for each scientist.\n",
      "Since there are only five scientists,\n",
      "she could write five queries of the form:"
     ]
    },
    {
     "cell_type": "code",
     "collapsed": false,
     "input": [
      "%%sqlite survey.db\n",
      "select person, count(reading), round(avg(reading), 2)\n",
      "from  Survey\n",
      "where quant='rad'\n",
      "and   person='dyer';"
     ],
     "language": "python",
     "metadata": {},
     "outputs": [
      {
       "html": [
        "<table>\n",
        "<tr><td>dyer</td><td>2</td><td>8.81</td></tr>\n",
        "</table>"
       ],
       "metadata": {},
       "output_type": "display_data",
       "text": [
        "<IPython.core.display.HTML at 0x10248c710>"
       ]
      }
     ],
     "prompt_number": 14
    },
    {
     "cell_type": "markdown",
     "metadata": {},
     "source": [
      "but this would be tedious,\n",
      "and if she ever had a data set with fifty or five hundred scientists,\n",
      "the chances of her getting all of those queries right is small.\n",
      "\n",
      "What we need to do is\n",
      "tell the database manager to aggregate the hours for each scientist separately\n",
      "using a `group by` clause:"
     ]
    },
    {
     "cell_type": "code",
     "collapsed": false,
     "input": [
      "%%sqlite survey.db\n",
      "select   person, count(reading), round(avg(reading), 2)\n",
      "from     Survey\n",
      "where    quant='rad'\n",
      "group by person;"
     ],
     "language": "python",
     "metadata": {},
     "outputs": [
      {
       "html": [
        "<table>\n",
        "<tr><td>dyer</td><td>2</td><td>8.81</td></tr>\n",
        "<tr><td>lake</td><td>2</td><td>1.82</td></tr>\n",
        "<tr><td>pb</td><td>3</td><td>6.66</td></tr>\n",
        "<tr><td>roe</td><td>1</td><td>11.25</td></tr>\n",
        "</table>"
       ],
       "metadata": {},
       "output_type": "display_data",
       "text": [
        "<IPython.core.display.HTML at 0x10248ce50>"
       ]
      }
     ],
     "prompt_number": 15
    },
    {
     "cell_type": "markdown",
     "metadata": {},
     "source": [
      "`group by` does exactly what its name implies:\n",
      "groups all the records with the same value for the specified field together\n",
      "so that aggregation can process each batch separately.\n",
      "Since all the records in each batch have the same value for `person`,\n",
      "the database manager uses that value alongside the aggregated `reading` values."
     ]
    },
    {
     "cell_type": "markdown",
     "metadata": {},
     "source": [
      "Just as we can sort by multiple criteria at once,\n",
      "we can also group by multiple criteria.\n",
      "To get the average reading by scientist and quantity measured,\n",
      "for example,\n",
      "we just add another field to the `group by` clause:"
     ]
    },
    {
     "cell_type": "code",
     "collapsed": false,
     "input": [
      "%%sqlite survey.db\n",
      "select   person, quant, count(reading), round(avg(reading), 2)\n",
      "from     Survey\n",
      "group by person, quant;"
     ],
     "language": "python",
     "metadata": {},
     "outputs": [
      {
       "html": [
        "<table>\n",
        "<tr><td>None</td><td>sal</td><td>1</td><td>0.06</td></tr>\n",
        "<tr><td>None</td><td>temp</td><td>1</td><td>-26.0</td></tr>\n",
        "<tr><td>dyer</td><td>rad</td><td>2</td><td>8.81</td></tr>\n",
        "<tr><td>dyer</td><td>sal</td><td>2</td><td>0.11</td></tr>\n",
        "<tr><td>lake</td><td>rad</td><td>2</td><td>1.82</td></tr>\n",
        "<tr><td>lake</td><td>sal</td><td>4</td><td>0.11</td></tr>\n",
        "<tr><td>lake</td><td>temp</td><td>1</td><td>-16.0</td></tr>\n",
        "<tr><td>pb</td><td>rad</td><td>3</td><td>6.66</td></tr>\n",
        "<tr><td>pb</td><td>temp</td><td>2</td><td>-20.0</td></tr>\n",
        "<tr><td>roe</td><td>rad</td><td>1</td><td>11.25</td></tr>\n",
        "<tr><td>roe</td><td>sal</td><td>2</td><td>32.05</td></tr>\n",
        "</table>"
       ],
       "metadata": {},
       "output_type": "display_data",
       "text": [
        "<IPython.core.display.HTML at 0x10248cf10>"
       ]
      }
     ],
     "prompt_number": 16
    },
    {
     "cell_type": "markdown",
     "metadata": {},
     "source": [
      "Note that we have added `person` to the list of fields displayed,\n",
      "since the results wouldn't make much sense otherwise.\n",
      "\n",
      "Let's go one step further and remove all the entries\n",
      "where we don't know who took the measurement:"
     ]
    },
    {
     "cell_type": "code",
     "collapsed": false,
     "input": [
      "%%sqlite survey.db\n",
      "select   person, quant, count(reading), round(avg(reading), 2)\n",
      "from     Survey\n",
      "where    person is not null\n",
      "group by person, quant\n",
      "order by person, quant;"
     ],
     "language": "python",
     "metadata": {},
     "outputs": [
      {
       "html": [
        "<table>\n",
        "<tr><td>dyer</td><td>rad</td><td>2</td><td>8.81</td></tr>\n",
        "<tr><td>dyer</td><td>sal</td><td>2</td><td>0.11</td></tr>\n",
        "<tr><td>lake</td><td>rad</td><td>2</td><td>1.82</td></tr>\n",
        "<tr><td>lake</td><td>sal</td><td>4</td><td>0.11</td></tr>\n",
        "<tr><td>lake</td><td>temp</td><td>1</td><td>-16.0</td></tr>\n",
        "<tr><td>pb</td><td>rad</td><td>3</td><td>6.66</td></tr>\n",
        "<tr><td>pb</td><td>temp</td><td>2</td><td>-20.0</td></tr>\n",
        "<tr><td>roe</td><td>rad</td><td>1</td><td>11.25</td></tr>\n",
        "<tr><td>roe</td><td>sal</td><td>2</td><td>32.05</td></tr>\n",
        "</table>"
       ],
       "metadata": {},
       "output_type": "display_data",
       "text": [
        "<IPython.core.display.HTML at 0x10248cf10>"
       ]
      }
     ],
     "prompt_number": 17
    },
    {
     "cell_type": "markdown",
     "metadata": {},
     "source": [
      "Looking more closely,\n",
      "this query:\n",
      "\n",
      "1.  selected records from the `Survey` table\n",
      "    where the `person` field was not null;\n",
      "\n",
      "2.  grouped those records into subsets\n",
      "    so that the `person` and `quant` values in each subset\n",
      "    were the same;\n",
      "\n",
      "3.  ordered those subsets first by `person`,\n",
      "    and then within each sub-group by `quant`;\n",
      "    and\n",
      "\n",
      "4.  counted the number of records in each subset,\n",
      "    calculated the average `reading` in each,\n",
      "    and chose a `person` and `quant` value from each\n",
      "    (it doesn't matter which ones,\n",
      "    since they're all equal)."
     ]
    },
    {
     "cell_type": "markdown",
     "metadata": {},
     "source": [
      "#### Challenges\n",
      "\n",
      "1.  How many temperature readings did Frank Pabodie record,\n",
      "    and what was their average value?\n",
      "\n",
      "2. The query:\n",
      "       select count(1), count(name) from Survey\n",
      "    returned the row:\n",
      "       21 | 19\n",
      "    How many rows are in the Survey table?\n",
      "    Can you explain why the counts don't match?\n",
      "    \n",
      "3.  The average of a set of values is the sum of the values\n",
      "    divided by the number of values.\n",
      "    Does this mean that the `avg` function returns 2.0 or 3.0\n",
      "    when given the values 1.0, `null`, and 5.0?\n",
      "\n",
      "4.  We want to calculate the difference between\n",
      "    each individual radiation reading\n",
      "    and the average of all the radiation readings.\n",
      "    We write the query:\n",
      "\n",
      "    ~~~\n",
      "    select reading - avg(reading) from Survey where quant='rad';\n",
      "    ~~~\n",
      "\n",
      "    What does this actually produce, and why?\n",
      "\n",
      "5.  The function `group_concat(field, separator)`\n",
      "    concatenates all the values in a field\n",
      "    using the specified separator character\n",
      "    (or ',' if the separator isn't specified).\n",
      "    Use this to produce a one-line list of scientists' names,\n",
      "    such as:\n",
      "\n",
      "    ~~~\n",
      "    William Dyer, Frank Pabodie, Anderson Lake, Valentina Roerich, Frank Danforth\n",
      "    ~~~\n",
      "\n",
      "    Can you find a way to order the list by surname?"
     ]
    },
    {
     "cell_type": "markdown",
     "metadata": {
      "cell_tags": [
       "keypoints"
      ]
     },
     "source": [
      "#### Key Points\n",
      "\n",
      "*   An aggregation function combines many values to produce a single new value.\n",
      "*   Aggregation functions ignore `null` values.\n",
      "*   Aggregation happens after filtering."
     ]
    }
   ],
   "metadata": {}
  }
 ]
}