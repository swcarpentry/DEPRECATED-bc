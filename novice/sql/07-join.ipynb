{
 "metadata": {
  "name": ""
 },
 "nbformat": 3,
 "nbformat_minor": 0,
 "worksheets": [
  {
   "cells": [
    {
     "cell_type": "heading",
     "level": 2,
     "metadata": {},
     "source": [
      "Combining Data"
     ]
    },
    {
     "cell_type": "markdown",
     "metadata": {
      "cell_tags": [
       "objectives"
      ]
     },
     "source": [
      "#### Objectives\n",
      "\n",
      "*   Explain the operation of a query that joins two tables.\n",
      "*   Explain how to restrict the output of a query containing a join to only include meaningful combinations of values.\n",
      "*   Write queries that join tables on equal keys.\n",
      "*   Explain what primary and foreign keys are, and why they are useful.\n",
      "*   Explain what atomic values are, and why database fields should only contain atomic values."
     ]
    },
    {
     "cell_type": "markdown",
     "metadata": {},
     "source": [
      "In order to submit her data to a web site\n",
      "that aggregates historical meteorological data,\n",
      "Gina needs to format it as\n",
      "latitude, longitude, date, quantity, and reading.\n",
      "However,\n",
      "her latitudes and longitudes are in the `Site` table,\n",
      "while the dates of measurements are in the `Visited` table\n",
      "and the readings themselves are in the `Survey` table.\n",
      "She needs to combine these tables somehow.\n",
      "\n",
      "The SQL command to do this is `join`.\n",
      "To see how it works,\n",
      "let's start by joining the `Site` and `Visited` tables:"
     ]
    },
    {
     "cell_type": "code",
     "collapsed": false,
     "input": [
      "%load_ext sqlitemagic"
     ],
     "language": "python",
     "metadata": {},
     "outputs": [],
     "prompt_number": 1
    },
    {
     "cell_type": "code",
     "collapsed": false,
     "input": [
      "%%sqlite survey.db\n",
      "select * from Site join Visited;"
     ],
     "language": "python",
     "metadata": {},
     "outputs": [
      {
       "html": [
        "<table>\n",
        "<tr><td>DR-1</td><td>-49.85</td><td>-128.57</td><td>619</td><td>DR-1</td><td>1927-02-08</td></tr>\n",
        "<tr><td>DR-1</td><td>-49.85</td><td>-128.57</td><td>622</td><td>DR-1</td><td>1927-02-10</td></tr>\n",
        "<tr><td>DR-1</td><td>-49.85</td><td>-128.57</td><td>734</td><td>DR-3</td><td>1939-01-07</td></tr>\n",
        "<tr><td>DR-1</td><td>-49.85</td><td>-128.57</td><td>735</td><td>DR-3</td><td>1930-01-12</td></tr>\n",
        "<tr><td>DR-1</td><td>-49.85</td><td>-128.57</td><td>751</td><td>DR-3</td><td>1930-02-26</td></tr>\n",
        "<tr><td>DR-1</td><td>-49.85</td><td>-128.57</td><td>752</td><td>DR-3</td><td>None</td></tr>\n",
        "<tr><td>DR-1</td><td>-49.85</td><td>-128.57</td><td>837</td><td>MSK-4</td><td>1932-01-14</td></tr>\n",
        "<tr><td>DR-1</td><td>-49.85</td><td>-128.57</td><td>844</td><td>DR-1</td><td>1932-03-22</td></tr>\n",
        "<tr><td>DR-3</td><td>-47.15</td><td>-126.72</td><td>619</td><td>DR-1</td><td>1927-02-08</td></tr>\n",
        "<tr><td>DR-3</td><td>-47.15</td><td>-126.72</td><td>622</td><td>DR-1</td><td>1927-02-10</td></tr>\n",
        "<tr><td>DR-3</td><td>-47.15</td><td>-126.72</td><td>734</td><td>DR-3</td><td>1939-01-07</td></tr>\n",
        "<tr><td>DR-3</td><td>-47.15</td><td>-126.72</td><td>735</td><td>DR-3</td><td>1930-01-12</td></tr>\n",
        "<tr><td>DR-3</td><td>-47.15</td><td>-126.72</td><td>751</td><td>DR-3</td><td>1930-02-26</td></tr>\n",
        "<tr><td>DR-3</td><td>-47.15</td><td>-126.72</td><td>752</td><td>DR-3</td><td>None</td></tr>\n",
        "<tr><td>DR-3</td><td>-47.15</td><td>-126.72</td><td>837</td><td>MSK-4</td><td>1932-01-14</td></tr>\n",
        "<tr><td>DR-3</td><td>-47.15</td><td>-126.72</td><td>844</td><td>DR-1</td><td>1932-03-22</td></tr>\n",
        "<tr><td>MSK-4</td><td>-48.87</td><td>-123.4</td><td>619</td><td>DR-1</td><td>1927-02-08</td></tr>\n",
        "<tr><td>MSK-4</td><td>-48.87</td><td>-123.4</td><td>622</td><td>DR-1</td><td>1927-02-10</td></tr>\n",
        "<tr><td>MSK-4</td><td>-48.87</td><td>-123.4</td><td>734</td><td>DR-3</td><td>1939-01-07</td></tr>\n",
        "<tr><td>MSK-4</td><td>-48.87</td><td>-123.4</td><td>735</td><td>DR-3</td><td>1930-01-12</td></tr>\n",
        "<tr><td>MSK-4</td><td>-48.87</td><td>-123.4</td><td>751</td><td>DR-3</td><td>1930-02-26</td></tr>\n",
        "<tr><td>MSK-4</td><td>-48.87</td><td>-123.4</td><td>752</td><td>DR-3</td><td>None</td></tr>\n",
        "<tr><td>MSK-4</td><td>-48.87</td><td>-123.4</td><td>837</td><td>MSK-4</td><td>1932-01-14</td></tr>\n",
        "<tr><td>MSK-4</td><td>-48.87</td><td>-123.4</td><td>844</td><td>DR-1</td><td>1932-03-22</td></tr>\n",
        "</table>"
       ],
       "metadata": {},
       "output_type": "display_data",
       "text": [
        "<IPython.core.display.HTML at 0x1023c4550>"
       ]
      }
     ],
     "prompt_number": 2
    },
    {
     "cell_type": "markdown",
     "metadata": {},
     "source": [
      "`join` creates\n",
      "the [cross product](../../gloss.html#cross-product)\n",
      "of two tables,\n",
      "i.e.,\n",
      "it joins each record of one with each record of the other\n",
      "to give all possible combinations.\n",
      "Since there are three records in `Site`\n",
      "and eight in `Visited`,\n",
      "the join's output has 24 records.\n",
      "And since each table has three fields,\n",
      "the output has six fields.\n",
      "  \n",
      "What the join *hasn't* done is\n",
      "figure out if the records being joined have anything to do with each other.\n",
      "It has no way of knowing whether they do or not until we tell it how.\n",
      "To do that,\n",
      "we add a clause specifying that\n",
      "we're only interested in combinations that have the same site name:"
     ]
    },
    {
     "cell_type": "code",
     "collapsed": false,
     "input": [
      "%%sqlite survey.db\n",
      "select * from Site join Visited on Site.name=Visited.site;"
     ],
     "language": "python",
     "metadata": {},
     "outputs": [
      {
       "html": [
        "<table>\n",
        "<tr><td>DR-1</td><td>-49.85</td><td>-128.57</td><td>619</td><td>DR-1</td><td>1927-02-08</td></tr>\n",
        "<tr><td>DR-1</td><td>-49.85</td><td>-128.57</td><td>622</td><td>DR-1</td><td>1927-02-10</td></tr>\n",
        "<tr><td>DR-1</td><td>-49.85</td><td>-128.57</td><td>844</td><td>DR-1</td><td>1932-03-22</td></tr>\n",
        "<tr><td>DR-3</td><td>-47.15</td><td>-126.72</td><td>734</td><td>DR-3</td><td>1939-01-07</td></tr>\n",
        "<tr><td>DR-3</td><td>-47.15</td><td>-126.72</td><td>735</td><td>DR-3</td><td>1930-01-12</td></tr>\n",
        "<tr><td>DR-3</td><td>-47.15</td><td>-126.72</td><td>751</td><td>DR-3</td><td>1930-02-26</td></tr>\n",
        "<tr><td>DR-3</td><td>-47.15</td><td>-126.72</td><td>752</td><td>DR-3</td><td>None</td></tr>\n",
        "<tr><td>MSK-4</td><td>-48.87</td><td>-123.4</td><td>837</td><td>MSK-4</td><td>1932-01-14</td></tr>\n",
        "</table>"
       ],
       "metadata": {},
       "output_type": "display_data",
       "text": [
        "<IPython.core.display.HTML at 0x1023c4090>"
       ]
      }
     ],
     "prompt_number": 3
    },
    {
     "cell_type": "markdown",
     "metadata": {},
     "source": [
      "`on` does the same job as `where`:\n",
      "it only keeps records that pass some test.\n",
      "(The difference between the two is that `on` filters records\n",
      "as they're being created,\n",
      "while `where` waits until the join is done\n",
      "and then does the filtering.)\n",
      "Once we add this to our query,\n",
      "the database manager throws away records\n",
      "that combined information about two different sites,\n",
      "leaving us with just the ones we want.\n",
      "  \n",
      "Notice that we used `table.field` to specify field names\n",
      "in the output of the join.\n",
      "We do this because tables can have fields with the same name,\n",
      "and we need to be specific which ones we're talking about.\n",
      "For example,\n",
      "if we joined the `person` and `visited` tables,\n",
      "the result would inherit a field called `ident`\n",
      "from each of the original tables.\n",
      "\n",
      "We can now use the same dotted notation\n",
      "to select the three columns we actually want\n",
      "out of our join:"
     ]
    },
    {
     "cell_type": "code",
     "collapsed": false,
     "input": [
      "%%sqlite survey.db\n",
      "select Site.lat, Site.long, Visited.dated\n",
      "from   Site join Visited\n",
      "on     Site.name=Visited.site;"
     ],
     "language": "python",
     "metadata": {},
     "outputs": [
      {
       "html": [
        "<table>\n",
        "<tr><td>-49.85</td><td>-128.57</td><td>1927-02-08</td></tr>\n",
        "<tr><td>-49.85</td><td>-128.57</td><td>1927-02-10</td></tr>\n",
        "<tr><td>-49.85</td><td>-128.57</td><td>1932-03-22</td></tr>\n",
        "<tr><td>-47.15</td><td>-126.72</td><td>None</td></tr>\n",
        "<tr><td>-47.15</td><td>-126.72</td><td>1930-01-12</td></tr>\n",
        "<tr><td>-47.15</td><td>-126.72</td><td>1930-02-26</td></tr>\n",
        "<tr><td>-47.15</td><td>-126.72</td><td>1939-01-07</td></tr>\n",
        "<tr><td>-48.87</td><td>-123.4</td><td>1932-01-14</td></tr>\n",
        "</table>"
       ],
       "metadata": {},
       "output_type": "display_data",
       "text": [
        "<IPython.core.display.HTML at 0x1023c3890>"
       ]
      }
     ],
     "prompt_number": 4
    },
    {
     "cell_type": "markdown",
     "metadata": {},
     "source": [
      "If joining two tables is good,\n",
      "joining many tables must be better.\n",
      "In fact,\n",
      "we can join any number of tables\n",
      "simply by adding more `join` clauses to our query,\n",
      "and more `on` tests to filter out combinations of records\n",
      "that don't make sense:"
     ]
    },
    {
     "cell_type": "code",
     "collapsed": false,
     "input": [
      "%%sqlite survey.db\n",
      "select Site.lat, Site.long, Visited.dated, Survey.quant, Survey.reading\n",
      "from   Site join Visited join Survey\n",
      "on     Site.name=Visited.site\n",
      "and    Visited.ident=Survey.taken\n",
      "and    Visited.dated is not null;"
     ],
     "language": "python",
     "metadata": {},
     "outputs": [
      {
       "html": [
        "<table>\n",
        "<tr><td>-49.85</td><td>-128.57</td><td>1927-02-08</td><td>rad</td><td>9.82</td></tr>\n",
        "<tr><td>-49.85</td><td>-128.57</td><td>1927-02-08</td><td>sal</td><td>0.13</td></tr>\n",
        "<tr><td>-49.85</td><td>-128.57</td><td>1927-02-10</td><td>rad</td><td>7.8</td></tr>\n",
        "<tr><td>-49.85</td><td>-128.57</td><td>1927-02-10</td><td>sal</td><td>0.09</td></tr>\n",
        "<tr><td>-47.15</td><td>-126.72</td><td>1939-01-07</td><td>rad</td><td>8.41</td></tr>\n",
        "<tr><td>-47.15</td><td>-126.72</td><td>1939-01-07</td><td>sal</td><td>0.05</td></tr>\n",
        "<tr><td>-47.15</td><td>-126.72</td><td>1939-01-07</td><td>temp</td><td>-21.5</td></tr>\n",
        "<tr><td>-47.15</td><td>-126.72</td><td>1930-01-12</td><td>rad</td><td>7.22</td></tr>\n",
        "<tr><td>-47.15</td><td>-126.72</td><td>1930-01-12</td><td>sal</td><td>0.06</td></tr>\n",
        "<tr><td>-47.15</td><td>-126.72</td><td>1930-01-12</td><td>temp</td><td>-26.0</td></tr>\n",
        "<tr><td>-47.15</td><td>-126.72</td><td>1930-02-26</td><td>rad</td><td>4.35</td></tr>\n",
        "<tr><td>-47.15</td><td>-126.72</td><td>1930-02-26</td><td>sal</td><td>0.1</td></tr>\n",
        "<tr><td>-47.15</td><td>-126.72</td><td>1930-02-26</td><td>temp</td><td>-18.5</td></tr>\n",
        "<tr><td>-48.87</td><td>-123.4</td><td>1932-01-14</td><td>rad</td><td>1.46</td></tr>\n",
        "<tr><td>-48.87</td><td>-123.4</td><td>1932-01-14</td><td>sal</td><td>0.21</td></tr>\n",
        "<tr><td>-48.87</td><td>-123.4</td><td>1932-01-14</td><td>sal</td><td>22.5</td></tr>\n",
        "<tr><td>-49.85</td><td>-128.57</td><td>1932-03-22</td><td>rad</td><td>11.25</td></tr>\n",
        "</table>"
       ],
       "metadata": {},
       "output_type": "display_data",
       "text": [
        "<IPython.core.display.HTML at 0x1023c4550>"
       ]
      }
     ],
     "prompt_number": 5
    },
    {
     "cell_type": "markdown",
     "metadata": {},
     "source": [
      "We can tell which records from `Site`, `Visited`, and `Survey`\n",
      "correspond with each other\n",
      "because those tables contain\n",
      "[primary keys](../../gloss.html#primary-key)\n",
      "and [foreign keys](../../gloss.html#foreign-key).\n",
      "A primary key is a value,\n",
      "or combination of values,\n",
      "that uniquely identifies each record in a table.\n",
      "A foreign key is a value (or combination of values) from one table\n",
      "that identifies a unique record in another table.\n",
      "Another way of saying this is that\n",
      "a foreign key is the primary key of one table\n",
      "that appears in some other table.\n",
      "In our database,\n",
      "`Person.ident` is the primary key in the `Person` table,\n",
      "while `Survey.person` is a foreign key\n",
      "relating the `Survey` table's entries\n",
      "to entries in `Person`.\n",
      "\n",
      "Most database designers believe that\n",
      "every table should have a well-defined primary key.\n",
      "They also believe that this key should be separate from the data itself,\n",
      "so that if we ever need to change the data,\n",
      "we only need to make one change in one place.\n",
      "One easy way to do this is\n",
      "to create an arbitrary, unique ID for each record\n",
      "as we add it to the database.\n",
      "This is actually very common:\n",
      "those IDs have names like \"student numbers\" and \"patient numbers\",\n",
      "and they almost always turn out to have originally been\n",
      "a unique record identifier in some database system or other.\n",
      "As the query below demonstrates,\n",
      "SQLite automatically numbers records as they're added to tables,\n",
      "and we can use those record numbers in queries:"
     ]
    },
    {
     "cell_type": "code",
     "collapsed": false,
     "input": [
      "%%sqlite survey.db\n",
      "select rowid, * from Person;"
     ],
     "language": "python",
     "metadata": {},
     "outputs": [
      {
       "html": [
        "<table>\n",
        "<tr><td>1</td><td>dyer</td><td>William</td><td>Dyer</td></tr>\n",
        "<tr><td>2</td><td>pb</td><td>Frank</td><td>Pabodie</td></tr>\n",
        "<tr><td>3</td><td>lake</td><td>Anderson</td><td>Lake</td></tr>\n",
        "<tr><td>4</td><td>roe</td><td>Valentina</td><td>Roerich</td></tr>\n",
        "<tr><td>5</td><td>danforth</td><td>Frank</td><td>Danforth</td></tr>\n",
        "</table>"
       ],
       "metadata": {},
       "output_type": "display_data",
       "text": [
        "<IPython.core.display.HTML at 0x1023c4550>"
       ]
      }
     ],
     "prompt_number": 6
    },
    {
     "cell_type": "heading",
     "level": 3,
     "metadata": {},
     "source": [
      "Data Hygiene"
     ]
    },
    {
     "cell_type": "markdown",
     "metadata": {},
     "source": [
      "Now that we have seen how joins work,\n",
      "we can see why the relational model is so useful\n",
      "and how best to use it.\n",
      "The first rule is that every value should be [atomic](../../gloss.html#atomic-value),\n",
      "i.e.,\n",
      "not contain parts that we might want to work with separately.\n",
      "We store personal and family names in separate columns instead of putting the entire name in one column\n",
      "so that we don't have to use substring operations to get the name's components.\n",
      "More importantly,\n",
      "we store the two parts of the name separately because splitting on spaces is unreliable:\n",
      "just think of a name like \"Eloise St. Cyr\" or \"Jan Mikkel Steubart\".\n",
      "\n",
      "The second rule is that every record should have a unique primary key.\n",
      "This can be a serial number that has no intrinsic meaning,\n",
      "one of the values in the record (like the `ident` field in the `Person` table),\n",
      "or even a combination of values:\n",
      "the triple `(taken, person, quant)` from the `Survey` table uniquely identifies every measurement.\n",
      "\n",
      "The third rule is that there should be no redundant information.\n",
      "For example,\n",
      "we could get rid of the `Site` table and rewrite the `Visited` table like this:\n",
      "\n",
      "<table>\n",
      "  <tr> <td>619</td> <td>-49.85</td> <td>-128.57</td> <td>1927-02-08</td> </tr>\n",
      "  <tr> <td>622</td> <td>-49.85</td> <td>-128.57</td> <td>1927-02-10</td> </tr>\n",
      "  <tr> <td>734</td> <td>-47.15</td> <td>-126.72</td> <td>1939-01-07</td> </tr>\n",
      "  <tr> <td>735</td> <td>-47.15</td> <td>-126.72</td> <td>1930-01-12</td> </tr>\n",
      "  <tr> <td>751</td> <td>-47.15</td> <td>-126.72</td> <td>1930-02-26</td> </tr>\n",
      "  <tr> <td>752</td> <td>-47.15</td> <td>-126.72</td> <td>null</td> </tr>\n",
      "  <tr> <td>837</td> <td>-48.87</td> <td>-123.40</td> <td>1932-01-14</td> </tr>\n",
      "  <tr> <td>844</td> <td>-49.85</td> <td>-128.57</td> <td>1932-03-22</td> </tr>\n",
      "</table>\n",
      "\n",
      "In fact,\n",
      "we could use a single table that recorded all the information about each reading in each row,\n",
      "just as a spreadsheet would.\n",
      "The problem is that it's very hard to keep data organized this way consistent:\n",
      "if we realize that the date of a particular visit to a particular site is wrong,\n",
      "we have to change multiple records in the database.\n",
      "What's worse,\n",
      "we may have to guess which records to change,\n",
      "since other sites may also have been visited on that date.\n",
      "\n",
      "The fourth rule is that the units for every value should be stored explicitly.\n",
      "Our database doesn't do this,\n",
      "and that's a problem:\n",
      "Roerich's salinity measurements are several orders of magnitude larger than anyone else's,\n",
      "but we don't know if that means she was using parts per million instead of parts per thousand,\n",
      "or whether there actually was a saline anomaly at that site in 1932.\n",
      "\n",
      "Stepping back,\n",
      "data and the tools used to store it have a symbiotic relationship:\n",
      "we use tables and joins because it's efficient,\n",
      "provided our data is organized a certain way,\n",
      "but organize our data that way because we have tools to manipulate it efficiently\n",
      "if it's in a certain form.\n",
      "As anthropologists say,\n",
      "the tool shapes the hand that shapes the tool."
     ]
    },
    {
     "cell_type": "markdown",
     "metadata": {},
     "source": [
      "#### Challenges\n",
      "\n",
      "1.  Write a query that lists all radiation readings from the DR-1 site.\n",
      "\n",
      "2.  Write a query that lists all sites visited by people named \"Frank\".\n",
      "\n",
      "3.  Describe in your own words what the following query produces:\n",
      "\n",
      "    ~~~\n",
      "    select Site.name from Site join Visited\n",
      "    on Site.lat<-49.0 and Site.name=Visited.site and Visited.dated>='1932-00-00';\n",
      "    ~~~"
     ]
    },
    {
     "cell_type": "markdown",
     "metadata": {
      "cell_tags": [
       "keypoints"
      ]
     },
     "source": [
      "#### Key Points\n",
      "\n",
      "*   Every fact should be represented in a database exactly once.\n",
      "*   A join produces all combinations of records from one table with records from another.\n",
      "*   A primary key is a field (or set of fields) whose values uniquely identify the records in a table.\n",
      "*   A foreign key is a field (or set of fields) in one table whose values are a primary key in another table.\n",
      "*   We can eliminate meaningless combinations of records by matching primary keys and foreign keys between tables.\n",
      "*   Keys should be atomic values to make joins simpler and more efficient."
     ]
    }
   ],
   "metadata": {}
  }
 ]
}