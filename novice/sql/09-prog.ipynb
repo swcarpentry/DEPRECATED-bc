{
 "metadata": {
  "name": ""
 },
 "nbformat": 3,
 "nbformat_minor": 0,
 "worksheets": [
  {
   "cells": [
    {
     "cell_type": "heading",
     "level": 2,
     "metadata": {},
     "source": [
      "Programming with Databases"
     ]
    },
    {
     "cell_type": "markdown",
     "metadata": {
      "cell_tags": [
       "objectives"
      ]
     },
     "source": [
      "#### Objectives\n",
      "\n",
      "*   Write short programs that execute SQL queries.\n",
      "*   Trace the execution of a program that contains an SQL query.\n",
      "*   Explain why most database applications are written in a general-purpose language rather than in SQL."
     ]
    },
    {
     "cell_type": "markdown",
     "metadata": {},
     "source": [
      "To close,\n",
      "let's have a look at how to access a database from\n",
      "a general-purpose programming language like Python.\n",
      "Other languages use almost exactly the same model:\n",
      "library and function names may differ,\n",
      "but the concepts are the same.\n",
      "\n",
      "Here's a short Python program that selects latitudes and longitudes\n",
      "from an SQLite database stored in a file called `survey.db`:"
     ]
    },
    {
     "cell_type": "code",
     "collapsed": false,
     "input": [
      "import sqlite3\n",
      "connection = sqlite3.connect(\"survey.db\")\n",
      "cursor = connection.cursor()\n",
      "cursor.execute(\"select site.lat, site.long from site;\")\n",
      "results = cursor.fetchall()\n",
      "for r in results:\n",
      "    print r\n",
      "cursor.close()\n",
      "connection.close()"
     ],
     "language": "python",
     "metadata": {},
     "outputs": [
      {
       "output_type": "stream",
       "stream": "stdout",
       "text": [
        "(-49.85, -128.57)\n",
        "(-47.15, -126.72)\n",
        "(-48.87, -123.4)\n"
       ]
      }
     ],
     "prompt_number": 1
    },
    {
     "cell_type": "markdown",
     "metadata": {},
     "source": [
      "The program starts by importing the `sqlite3` library.\n",
      "If we were connecting to MySQL, DB2, or some other database,\n",
      "we would import a different library,\n",
      "but all of them provide the same functions,\n",
      "so that the rest of our program does not have to change\n",
      "(at least, not much)\n",
      "if we switch from one database to another.\n",
      "\n",
      "Line 2 establishes a connection to the database.\n",
      "Since we're using SQLite,\n",
      "all we need to specify is the name of the database file.\n",
      "Other systems may require us to provide a username and password as well.\n",
      "Line 3 then uses this connection to create\n",
      "a [cursor](../../gloss.html#cursor);\n",
      "just like the cursor in an editor,\n",
      "its role is to keep track of where we are in the database.\n",
      "\n",
      "On line 4, we use that cursor to ask the database to execute a query for us.\n",
      "The query is written in SQL,\n",
      "and passed to `cursor.execute` as a string.\n",
      "It's our job to make sure that SQL is properly formatted;\n",
      "if it isn't,\n",
      "or if something goes wrong when it is being executed,\n",
      "the database will report an error.\n",
      "\n",
      "The database returns the results of the query to us\n",
      "in response to the `cursor.fetchall` call on line 5.\n",
      "This result is a list with one entry for each record in the result set;\n",
      "if we loop over that list (line 6) and print those list entries (line 7),\n",
      "we can see that each one is a tuple\n",
      "with one element for each field we asked for.\n",
      "\n",
      "Finally, lines 8 and 9 close our cursor and our connection,\n",
      "since the database can only keep a limited number of these open at one time.\n",
      "Since establishing a connection takes time,\n",
      "though,\n",
      "we shouldn't open a connection,\n",
      "do one operation,\n",
      "then close the connection,\n",
      "only to reopen it a few microseconds later to do another operation.\n",
      "Instead,\n",
      "it's normal to create one connection that stays open for the lifetime of the program."
     ]
    },
    {
     "cell_type": "markdown",
     "metadata": {},
     "source": [
      "Queries in real applications will often depend on values provided by users.\n",
      "For example,\n",
      "this function takes a user's ID as a parameter and returns their name:"
     ]
    },
    {
     "cell_type": "code",
     "collapsed": false,
     "input": [
      "def get_name(database_file, person_ident):\n",
      "    query = \"select personal || ' ' || family from Person where ident='\" + person_ident + \"';\"\n",
      "\n",
      "    connection = sqlite3.connect(database_file)\n",
      "    cursor = connection.cursor()\n",
      "    cursor.execute(query)\n",
      "    results = cursor.fetchall()\n",
      "    cursor.close()\n",
      "    connection.close()\n",
      "\n",
      "    return results[0][0]\n",
      "\n",
      "print \"full name for dyer:\", get_name('survey.db', 'dyer')"
     ],
     "language": "python",
     "metadata": {},
     "outputs": [
      {
       "output_type": "stream",
       "stream": "stdout",
       "text": [
        "full name for dyer: William Dyer\n"
       ]
      }
     ],
     "prompt_number": 2
    },
    {
     "cell_type": "markdown",
     "metadata": {},
     "source": [
      "We use string concatenation on the first line of this function\n",
      "to construct a query containing the user ID we have been given.\n",
      "This seems simple enough,\n",
      "but what happens if someone gives us this string as input?\n",
      "\n",
      "~~~\n",
      "dyer'; drop table Survey; select '\n",
      "~~~\n",
      "\n",
      "It looks like there's garbage after the name of the project,\n",
      "but it is very carefully chosen garbage.\n",
      "If we insert this string into our query,\n",
      "the result is:\n",
      "\n",
      "~~~\n",
      "select personal || ' ' || family from Person where ident='dyer'; drop tale Survey; select '';\n",
      "~~~\n",
      "\n",
      "If we execute this,\n",
      "it will erase one of the tables in our database.\n",
      "  \n",
      "This is called an [SQL injection attack](../../gloss.html#sql-injection-attack),\n",
      "and it has been used to attack thousands of programs over the years.\n",
      "In particular,\n",
      "many web sites that take data from users insert values directly into queries\n",
      "without checking them carefully first.\n",
      "  \n",
      "Since a villain might try to smuggle commands into our queries in many different ways,\n",
      "the safest way to deal with this threat is\n",
      "to replace characters like quotes with their escaped equivalents,\n",
      "so that we can safely put whatever the user gives us inside a string.\n",
      "We can do this by using a [prepared statement](../../gloss.html#prepared-statement)\n",
      "instead of formatting our statements as strings.\n",
      "Here's what our example program looks like if we do this:"
     ]
    },
    {
     "cell_type": "code",
     "collapsed": false,
     "input": [
      "def get_name(database_file, person_ident):\n",
      "    query = \"select personal || ' ' || family from Person where ident=?;\"\n",
      "\n",
      "    connection = sqlite3.connect(database_file)\n",
      "    cursor = connection.cursor()\n",
      "    cursor.execute(query, [person_ident])\n",
      "    results = cursor.fetchall()\n",
      "    cursor.close()\n",
      "    connection.close()\n",
      "\n",
      "    return results[0][0]\n",
      "\n",
      "print \"full name for dyer:\", get_name('survey.db', 'dyer')"
     ],
     "language": "python",
     "metadata": {},
     "outputs": [
      {
       "output_type": "stream",
       "stream": "stdout",
       "text": [
        "full name for dyer: William Dyer\n"
       ]
      }
     ],
     "prompt_number": 3
    },
    {
     "cell_type": "markdown",
     "metadata": {},
     "source": [
      "The key changes are in the query string and the `execute` call.\n",
      "Instead of formatting the query ourselves,\n",
      "we put question marks in the query template where we want to insert values.\n",
      "When we call `execute`,\n",
      "we provide a list\n",
      "that contains as many values as there are question marks in the query.\n",
      "The library matches values to question marks in order,\n",
      "and translates any special characters in the values\n",
      "into their escaped equivalents\n",
      "so that they are safe to use."
     ]
    },
    {
     "cell_type": "markdown",
     "metadata": {},
     "source": [
      "#### Challenges\n",
      "\n",
      "1.  Write a Python program that creates a new database\n",
      "    in a file called `original.db`\n",
      "    containing a single table called `Pressure`,\n",
      "    with a single field called `reading`,\n",
      "    and inserts 100,000 random numbers between 10.0 and 25.0.\n",
      "    How long does it take this program to run?\n",
      "    How long does it take to run a program\n",
      "    that simply writes those random numbers to a file?\n",
      "\n",
      "2.  Write a Python program that creates a new database\n",
      "    called `backup.db`\n",
      "    with the same structure as `original.db`\n",
      "    and copies all the values greater than 20.0\n",
      "    from `original.db` to `backup.db`.\n",
      "    Which is faster:\n",
      "    filtering values in the query,\n",
      "    or reading everything into memory and filtering in Python?"
     ]
    },
    {
     "cell_type": "markdown",
     "metadata": {
      "cell_tags": [
       "keypoints"
      ]
     },
     "source": [
      "#### Key Points\n",
      "\n",
      "*   We usually write database applications in a general-purpose language, and embed SQL queries in it.\n",
      "*   To connect to a database, a program must use a library specific to that database manager.\n",
      "*   A program may open one or more connections to a single database, and have one or more cursors active in each.\n",
      "*   Programs can read query results in batches or all at once."
     ]
    }
   ],
   "metadata": {}
  }
 ]
}