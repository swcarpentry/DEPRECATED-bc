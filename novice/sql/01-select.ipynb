{
 "metadata": {
  "name": ""
 },
 "nbformat": 3,
 "nbformat_minor": 0,
 "worksheets": [
  {
   "cells": [
    {
     "cell_type": "heading",
     "level": 2,
     "metadata": {},
     "source": [
      "Selecting Data"
     ]
    },
    {
     "cell_type": "markdown",
     "metadata": {},
     "source": [
      "In the late 1920s and early 1930s,\n",
      "William Dyer,\n",
      "Frank Pabodie,\n",
      "and Valentina Roerich led expeditions to the\n",
      "[Pole of Inaccessibility](http://en.wikipedia.org/wiki/Pole_of_inaccessibility)\n",
      "in the South Pacific,\n",
      "and then onward to Antarctica.\n",
      "Two years ago,\n",
      "their expeditions were found in a storage locker at Miskatonic University.\n",
      "We have scanned and OCR'd the data they contain,\n",
      "and we now want to store that information\n",
      "in a way that will make search and analysis easy.\n",
      "\n",
      "We basically have three options:\n",
      "text files,\n",
      "a spreadsheet,\n",
      "or a database.\n",
      "Text files are easiest to create,\n",
      "and work well with version control,\n",
      "but then we would then have to build search and analysis tools ourselves.\n",
      "Spreadsheets are good for doing simple analysis,\n",
      "they don't handle large or complex data sets very well.\n",
      "We would therefore like to put this data in a database,\n",
      "and these lessons will show how to do that."
     ]
    },
    {
     "cell_type": "markdown",
     "metadata": {
      "cell_tags": [
       "objectives"
      ]
     },
     "source": [
      "#### Objectives\n",
      "\n",
      "*   Explain the difference between a table, a record, and a field.\n",
      "*   Explain the difference between a database and a database manager.\n",
      "*   Write a query to select all values for specific fields from a single table."
     ]
    },
    {
     "cell_type": "heading",
     "level": 3,
     "metadata": {},
     "source": [
      "A Few Definitions"
     ]
    },
    {
     "cell_type": "markdown",
     "metadata": {},
     "source": [
      "A [relational database](../../gloss.html#relational-database)\n",
      "is a way to store and manipulate information\n",
      "that is arranged as [tables](../../gloss.html#table).\n",
      "Each table has columns (also known as [fields](../../gloss.html#field)) which describe the data,\n",
      "and rows (also known as [records](../../gloss.html#record)) which contain the data.\n",
      "  \n",
      "When we are using a spreadsheet,\n",
      "we put formulas into cells to calculate new values based on old ones.\n",
      "When we are using a database,\n",
      "we send commands\n",
      "(usually called [queries](../../gloss.html#query))\n",
      "to a [database manager](../../gloss.html#database-manager):\n",
      "a program that manipulates the database for us.\n",
      "The database manager does whatever lookups and calculations the query specifies,\n",
      "returning the results in a tabular form\n",
      "that we can then use as a starting point for further queries.\n",
      "  \n",
      "> Every database manager&mdash;Oracle,\n",
      "> IBM DB2, PostgreSQL, MySQL, Microsoft Access, and SQLite&mdash;stores\n",
      "> data in a different way,\n",
      "> so a database created with one cannot be used directly by another.\n",
      "> However,\n",
      "> every database manager can import and export data in a variety of formats,\n",
      "> so it *is* possible to move information from one to another.\n",
      "\n",
      "Queries are written in a language called [SQL](../../gloss.html#sql),\n",
      "which stands for \"Structured Query Language\".\n",
      "SQL provides hundreds of different ways to analyze and recombine data;\n",
      "we will only look at a handful,\n",
      "but that handful accounts for most of what scientists do.\n",
      "\n",
      "The tables below show the database we will use in our examples:"
     ]
    },
    {
     "cell_type": "markdown",
     "metadata": {},
     "source": [
      "<table>\n",
      "<tr>\n",
      "<td valign=\"top\">\n",
      "<strong>Person</strong>: people who took readings.\n",
      "\n",
      "<table>\n",
      "  <tr> <th>ident</th> <th>personal</th> <th>family</th> </tr>\n",
      "  <tr> <td>dyer</td> <td>William</td> <td>Dyer</td> </tr>\n",
      "  <tr> <td>pb</td> <td>Frank</td> <td>Pabodie</td> </tr>\n",
      "  <tr> <td>lake</td> <td>Anderson</td> <td>Lake</td> </tr>\n",
      "  <tr> <td>roe</td> <td>Valentina</td> <td>Roerich</td> </tr>\n",
      "  <tr> <td>danforth</td> <td>Frank</td> <td>Danforth</td> </tr>\n",
      "</table>\n",
      "\n",
      "<strong>Site</strong>: locations where readings were taken.\n",
      "\n",
      "<table>\n",
      "  <tr> <th>name</th> <th>lat</th> <th>long</th> </tr>\n",
      "  <tr> <td>DR-1</td> <td>-49.85</td> <td>-128.57</td> </tr>\n",
      "  <tr> <td>DR-3</td> <td>-47.15</td> <td>-126.72</td> </tr>\n",
      "  <tr> <td>MSK-4</td> <td>-48.87</td> <td>-123.4</td> </tr>\n",
      "</table>\n",
      "\n",
      "<strong>Visited</strong>: when readings were taken at specific sites.\n",
      "\n",
      "<table>\n",
      "  <tr> <th>ident</th> <th>site</th> <th>dated</th> </tr>\n",
      "  <tr> <td>619</td> <td>DR-1</td> <td>1927-02-08</td> </tr>\n",
      "  <tr> <td>622</td> <td>DR-1</td> <td>1927-02-10</td> </tr>\n",
      "  <tr> <td>734</td> <td>DR-3</td> <td>1939-01-07</td> </tr>\n",
      "  <tr> <td>735</td> <td>DR-3</td> <td>1930-01-12</td> </tr>\n",
      "  <tr> <td>751</td> <td>DR-3</td> <td>1930-02-26</td> </tr>\n",
      "  <tr> <td>752</td> <td>DR-3</td> <td bgcolor=\"red\">&nbsp;</td> </tr>\n",
      "  <tr> <td>837</td> <td>MSK-4</td> <td>1932-01-14</td> </tr>\n",
      "  <tr> <td>844</td> <td>DR-1</td> <td>1932-03-22</td> </tr>\n",
      "</table>\n",
      "</td>\n",
      "<td valign=\"top\">\n",
      "<strong>Survey</strong>: the actual readings.\n",
      "\n",
      "<table>\n",
      "  <tr> <th>taken</th> <th>person</th> <th>quant</th> <th>reading</th> </tr>\n",
      "  <tr> <td>619</td> <td>dyer</td> <td>rad</td> <td>9.82</td> </tr>\n",
      "  <tr> <td>619</td> <td>dyer</td> <td>sal</td> <td>0.13</td> </tr>\n",
      "  <tr> <td>622</td> <td>dyer</td> <td>rad</td> <td>7.8</td> </tr>\n",
      "  <tr> <td>622</td> <td>dyer</td> <td>sal</td> <td>0.09</td> </tr>\n",
      "  <tr> <td>734</td> <td>pb</td> <td>rad</td> <td>8.41</td> </tr>\n",
      "  <tr> <td>734</td> <td>lake</td> <td>sal</td> <td>0.05</td> </tr>\n",
      "  <tr> <td>734</td> <td>pb</td> <td>temp</td> <td>-21.5</td> </tr>\n",
      "  <tr> <td>735</td> <td>pb</td> <td>rad</td> <td>7.22</td> </tr>\n",
      "  <tr> <td>735</td> <td bgcolor=\"red\">&nbsp;</td> <td>sal</td> <td>0.06</td> </tr>\n",
      "  <tr> <td>735</td> <td bgcolor=\"red\">&nbsp;</td> <td>temp</td> <td>-26.0</td> </tr>\n",
      "  <tr> <td>751</td> <td>pb</td> <td>rad</td> <td>4.35</td> </tr>\n",
      "  <tr> <td>751</td> <td>pb</td> <td>temp</td> <td>-18.5</td> </tr>\n",
      "  <tr> <td>751</td> <td>lake</td> <td>sal</td> <td>0.1</td> </tr>\n",
      "  <tr> <td>752</td> <td>lake</td> <td>rad</td> <td>2.19</td> </tr>\n",
      "  <tr> <td>752</td> <td>lake</td> <td>sal</td> <td>0.09</td> </tr>\n",
      "  <tr> <td>752</td> <td>lake</td> <td>temp</td> <td>-16.0</td> </tr>\n",
      "  <tr> <td>752</td> <td>roe</td> <td>sal</td> <td>41.6</td> </tr>\n",
      "  <tr> <td>837</td> <td>lake</td> <td>rad</td> <td>1.46</td> </tr>\n",
      "  <tr> <td>837</td> <td>lake</td> <td>sal</td> <td>0.21</td> </tr>\n",
      "  <tr> <td>837</td> <td>roe</td> <td>sal</td> <td>22.5</td> </tr>\n",
      "  <tr> <td>844</td> <td>roe</td> <td>rad</td> <td>11.25</td> </tr>\n",
      "</table>\n",
      "</td>\n",
      "</tr>\n",
      "</table>"
     ]
    },
    {
     "cell_type": "markdown",
     "metadata": {},
     "source": [
      "Notice that three entries&mdash;one in the `Visited` table,\n",
      "and two in the `Survey` table&mdash;are shown in red\n",
      "because they don't contain any actual data:\n",
      "we'll return to these missing values [later](#s:null).\n",
      "For now,\n",
      "let's write an SQL query that displays scientists' names.\n",
      "We do this using the SQL command `select`,\n",
      "giving it the names of the columns we want and the table we want them from.\n",
      "Our query and its output look like this:"
     ]
    },
    {
     "cell_type": "code",
     "collapsed": false,
     "input": [
      "%load_ext sqlitemagic"
     ],
     "language": "python",
     "metadata": {},
     "outputs": [],
     "prompt_number": 1
    },
    {
     "cell_type": "code",
     "collapsed": false,
     "input": [
      "%%sqlite survey.db\n",
      "select family, personal from Person;"
     ],
     "language": "python",
     "metadata": {},
     "outputs": [
      {
       "html": [
        "<table>\n",
        "<tr><td>Dyer</td><td>William</td></tr>\n",
        "<tr><td>Pabodie</td><td>Frank</td></tr>\n",
        "<tr><td>Lake</td><td>Anderson</td></tr>\n",
        "<tr><td>Roerich</td><td>Valentina</td></tr>\n",
        "<tr><td>Danforth</td><td>Frank</td></tr>\n",
        "</table>"
       ],
       "metadata": {},
       "output_type": "display_data",
       "text": [
        "<IPython.core.display.HTML at 0x102353a10>"
       ]
      }
     ],
     "prompt_number": 2
    },
    {
     "cell_type": "markdown",
     "metadata": {},
     "source": [
      "The semi-colon at the end of the query\n",
      "tells the database manager that the query is complete and ready to run.\n",
      "We have written our commands and column names in lower case,\n",
      "and the table name in Title Case,\n",
      "but we don't have to:\n",
      "as the example below shows,\n",
      "SQL is [case insensitive](../../gloss.html#case-insensitive)."
     ]
    },
    {
     "cell_type": "code",
     "collapsed": false,
     "input": [
      "%%sqlite survey.db\n",
      "SeLeCt FaMiLy, PeRsOnAl FrOm PeRsOn;"
     ],
     "language": "python",
     "metadata": {},
     "outputs": [
      {
       "html": [
        "<table>\n",
        "<tr><td>Dyer</td><td>William</td></tr>\n",
        "<tr><td>Pabodie</td><td>Frank</td></tr>\n",
        "<tr><td>Lake</td><td>Anderson</td></tr>\n",
        "<tr><td>Roerich</td><td>Valentina</td></tr>\n",
        "<tr><td>Danforth</td><td>Frank</td></tr>\n",
        "</table>"
       ],
       "metadata": {},
       "output_type": "display_data",
       "text": [
        "<IPython.core.display.HTML at 0x102353c90>"
       ]
      }
     ],
     "prompt_number": 3
    },
    {
     "cell_type": "markdown",
     "metadata": {},
     "source": [
      "Whatever casing convention you choose,\n",
      "please be consistent:\n",
      "complex queries are hard enough to read without the extra cognitive load of random capitalization."
     ]
    },
    {
     "cell_type": "markdown",
     "metadata": {},
     "source": [
      "Going back to our query,\n",
      "it's important to understand that\n",
      "the rows and columns in a database table aren't actually stored in any particular order.\n",
      "They will always be *displayed* in some order,\n",
      "but we can control that in various ways.\n",
      "For example,\n",
      "we could swap the columns in the output by writing our query as:"
     ]
    },
    {
     "cell_type": "code",
     "collapsed": false,
     "input": [
      "%%sqlite survey.db\n",
      "select personal, family from Person;"
     ],
     "language": "python",
     "metadata": {},
     "outputs": [
      {
       "html": [
        "<table>\n",
        "<tr><td>William</td><td>Dyer</td></tr>\n",
        "<tr><td>Frank</td><td>Pabodie</td></tr>\n",
        "<tr><td>Anderson</td><td>Lake</td></tr>\n",
        "<tr><td>Valentina</td><td>Roerich</td></tr>\n",
        "<tr><td>Frank</td><td>Danforth</td></tr>\n",
        "</table>"
       ],
       "metadata": {},
       "output_type": "display_data",
       "text": [
        "<IPython.core.display.HTML at 0x102353a10>"
       ]
      }
     ],
     "prompt_number": 4
    },
    {
     "cell_type": "markdown",
     "metadata": {},
     "source": [
      "or even repeat columns:"
     ]
    },
    {
     "cell_type": "code",
     "collapsed": false,
     "input": [
      "%%sqlite survey.db\n",
      "select ident, ident, ident from Person;"
     ],
     "language": "python",
     "metadata": {},
     "outputs": [
      {
       "html": [
        "<table>\n",
        "<tr><td>dyer</td><td>dyer</td><td>dyer</td></tr>\n",
        "<tr><td>pb</td><td>pb</td><td>pb</td></tr>\n",
        "<tr><td>lake</td><td>lake</td><td>lake</td></tr>\n",
        "<tr><td>roe</td><td>roe</td><td>roe</td></tr>\n",
        "<tr><td>danforth</td><td>danforth</td><td>danforth</td></tr>\n",
        "</table>"
       ],
       "metadata": {},
       "output_type": "display_data",
       "text": [
        "<IPython.core.display.HTML at 0x102353b10>"
       ]
      }
     ],
     "prompt_number": 5
    },
    {
     "cell_type": "markdown",
     "metadata": {},
     "source": [
      "As a shortcut,\n",
      "we can select all of the columns in a table using `*`:"
     ]
    },
    {
     "cell_type": "code",
     "collapsed": false,
     "input": [
      "%%sqlite survey.db\n",
      "select * from Person;"
     ],
     "language": "python",
     "metadata": {},
     "outputs": [
      {
       "html": [
        "<table>\n",
        "<tr><td>dyer</td><td>William</td><td>Dyer</td></tr>\n",
        "<tr><td>pb</td><td>Frank</td><td>Pabodie</td></tr>\n",
        "<tr><td>lake</td><td>Anderson</td><td>Lake</td></tr>\n",
        "<tr><td>roe</td><td>Valentina</td><td>Roerich</td></tr>\n",
        "<tr><td>danforth</td><td>Frank</td><td>Danforth</td></tr>\n",
        "</table>"
       ],
       "metadata": {},
       "output_type": "display_data",
       "text": [
        "<IPython.core.display.HTML at 0x102353bd0>"
       ]
      }
     ],
     "prompt_number": 6
    },
    {
     "cell_type": "markdown",
     "metadata": {},
     "source": [
      "#### Challenges\n",
      "\n",
      "1.  Write a query that selects only site names from the `Site` table.\n",
      "\n",
      "2.  Many people format queries as:\n",
      "\n",
      "    ~~~\n",
      "    SELECT personal, family FROM person;\n",
      "    ~~~\n",
      "\n",
      "    or as:\n",
      "\n",
      "    ~~~\n",
      "    select Personal, Family from PERSON;\n",
      "    ~~~\n",
      "\n",
      "    What style do you find easiest to read, and why?"
     ]
    },
    {
     "cell_type": "markdown",
     "metadata": {
      "cell_tags": [
       "keypoints"
      ]
     },
     "source": [
      "#### Key Points\n",
      "\n",
      "*   A relational database stores information in tables,\n",
      "    each of which has a fixed set of columns and a variable number of records.\n",
      "*   A database manager is a program that manipulates information stored in a database.\n",
      "*   We write queries in a specialized language called SQL to extract information from databases.\n",
      "*   SQL is case-insensitive."
     ]
    }
   ],
   "metadata": {}
  }
 ]
}
