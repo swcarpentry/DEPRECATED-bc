{
 "metadata": {
  "name": ""
 },
 "nbformat": 3,
 "nbformat_minor": 0,
 "worksheets": [
  {
   "cells": [
    {
     "cell_type": "heading",
     "level": 2,
     "metadata": {
      "cell_tags": []
     },
     "source": [
      "Use a Heading-2 for the Lesson Title"
     ]
    },
    {
     "cell_type": "markdown",
     "metadata": {
      "cell_tags": []
     },
     "source": [
      "Use Markdown cells for the text of the lesson.\n",
      "\n",
      "~~~\n",
      "Use triple tildes for code blocks.\n",
      "~~~"
     ]
    },
    {
     "cell_type": "markdown",
     "metadata": {
      "cell_tags": [
       "objectives"
      ]
     },
     "source": [
      "#### Objectives\n",
      "\n",
      "*   Put the lesson objectives here.\n",
      "*   Use a heading-4 for the block.\n",
      "*   Note that this cell has metadata specifying its class that's only visible when you edit the raw JSON file."
     ]
    },
    {
     "cell_type": "heading",
     "level": 3,
     "metadata": {
      "cell_tags": []
     },
     "source": [
      "Use a Heading-3 for Subsection Headings"
     ]
    },
    {
     "cell_type": "markdown",
     "metadata": {
      "cell_tags": []
     },
     "source": [
      "Use [links](../../gloss.html#link) to `gloss.html` in the root directory for glossary entries.\n",
      "\n",
      "Put each `img` link in a cell of its own:"
     ]
    },
    {
     "cell_type": "markdown",
     "metadata": {},
     "source": [
      "<img src=\"files/img/python-sticky-note-variables-03.svg\" alt=\"Updating a Variable\" />"
     ]
    },
    {
     "cell_type": "markdown",
     "metadata": {
      "cell_tags": [
       "challenges"
      ]
     },
     "source": [
      "#### Challenges\n",
      "\n",
      "1.  Challenges are interleaved in the lesson.\n",
      "    As with objectives and key points, these cells have metadata specifying their class that's only visible when the JSON is edited."
     ]
    },
    {
     "cell_type": "markdown",
     "metadata": {
      "cell_tags": []
     },
     "source": [
      "If a call-out box is needed, use quotes and a heading-4:\n",
      "\n",
      "> #### Like This\n",
      ">\n",
      "> And this."
     ]
    },
    {
     "cell_type": "markdown",
     "metadata": {
      "cell_tags": [
       "keypoints"
      ]
     },
     "source": [
      "#### Key Points\n",
      "\n",
      "*   Close with key points.\n",
      "*   These are stitched together to create a reference guide for learners.\n",
      "*   Again, these cells have class metadata that's only visible when viewing the raw JSON."
     ]
    }
   ],
   "metadata": {}
  }
 ]
}