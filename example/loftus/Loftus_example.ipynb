{
 "metadata": {
  "name": ""
 },
 "nbformat": 3,
 "nbformat_minor": 0,
 "worksheets": [
  {
   "cells": [
    {
     "cell_type": "markdown",
     "metadata": {},
     "source": [
      "#Putting it all together\n",
      "\n",
      "## Taking off with Loftus ...\n",
      "\n",
      "(From Abdi, Edelman, Valentin & Dowling, 2009; Williams, Krishnan, & Abdi, 2009)\n",
      "\n",
      "-------------\n",
      "\n",
      "In the 1970s Elizabeth Loftus (Loftus and Palmer, 1974) conducted a series of experiments on the theme of eyewitness testimony. They wanted to find out whether the wording of a question affected the later responses of witnesses. To do this she showed subjects a film of a car accident. Following the film, she asked them a series of questions. Among the questions was one of 5 versions of a critical question concerning the speed the vehicles were travelling in miles per hour. Here are the 5 versions of the question along with the experimental condition in which they occurred:\n",
      "\n",
      "* HIT: About how fast were the cars going when they _hit_ each other?\n",
      "\n",
      "* SMASH: About how fast were the cars going when they _smashed into_ each other?\n",
      "\n",
      "* COLLIDE: About how fast were the cars going when they _collided with_ each other?\n",
      "\n",
      "* BUMP: About how fast were the cars going when they _bumped_ each other?\n",
      "\n",
      "* CONTACT: About how fast were the cars going when they _contacted_ each other?\n",
      "\n",
      "\n",
      "Software Carpentry conducted a (ficticious) replication of the study in an online survey. The results are in the file loftus.csv. \n",
      "\n",
      "We want to be able to answer the question: _Does the wording of the question affect witnesses' estimation of the speed the vehicles were traveling?_"
     ]
    },
    {
     "cell_type": "markdown",
     "metadata": {},
     "source": [
      "----------------------\n",
      "\n",
      "### Before we begin\n",
      "\n",
      "Download and install the `statsmodels 0.5` module. First clone the repository from `github`  from `git clone git://github.com/statsmodels/statsmodels.git`. You will also need to install `patsy`.  Using `pip` enter `pip install patsy` at the command line. Everything else should have come with your installation of `Anaconda`. Following the installation of `patsy`, navigate to the directory where you put the statsmodels repository. Once there, type `python setup.py build` and finally `python setup.py install`.\n",
      "\n",
      "The `statsmodels` module has many useful statistical features that will benefit your work. The latest release allows you to build statistical models using R-like syntax, but with the readability of python. Documentation is available from http://statsmodels.sourceforge.net/."
     ]
    },
    {
     "cell_type": "markdown",
     "metadata": {},
     "source": [
      "### Step 1: Import the .csv file\n"
     ]
    },
    {
     "cell_type": "markdown",
     "metadata": {},
     "source": [
      "First let's import some python modules that we need."
     ]
    },
    {
     "cell_type": "code",
     "collapsed": false,
     "input": [
      "import pandas as pd\n",
      "import numpy as np\n",
      "from scipy import stats\n",
      "from patsy import dmatrices"
     ],
     "language": "python",
     "metadata": {},
     "outputs": [],
     "prompt_number": 1
    },
    {
     "cell_type": "markdown",
     "metadata": {},
     "source": [
      "We're going to be using a python library called pandas to explore our data. We'll cover much of the basics of Pandas usage during this lesson but it's a very powerful library and those who are interested in learning more can find a lot of great documentation at [the Pandas website](http://pandas.pydata.org/pandas-docs/stable/).\n",
      "\n",
      "Luckily for us, Pandas has a built in function for reading csv files. Let's see what happens when we use it to read our loftus data..."
     ]
    },
    {
     "cell_type": "code",
     "collapsed": false,
     "input": [
      "data = pd.read_csv('loftus.csv')"
     ],
     "language": "python",
     "metadata": {},
     "outputs": [],
     "prompt_number": 2
    },
    {
     "cell_type": "markdown",
     "metadata": {},
     "source": [
      "If we try to print the entire data table, Pandas is sensible enough to know that we probably don't want to print all 25000 rows, so instead it shows us some summary information about the data we've imported."
     ]
    },
    {
     "cell_type": "code",
     "collapsed": false,
     "input": [
      "print data"
     ],
     "language": "python",
     "metadata": {},
     "outputs": [
      {
       "output_type": "stream",
       "stream": "stdout",
       "text": [
        "<class 'pandas.core.frame.DataFrame'>\n",
        "Int64Index: 25000 entries, 0 to 24999\n",
        "Data columns (total 7 columns):\n",
        "Participant              25000  non-null values\n",
        "Condition Name           25000  non-null values\n",
        "Condition Number         25000  non-null values\n",
        "Age                      25000  non-null values\n",
        "IQ                       25000  non-null values\n",
        "Estimated Speed (mph)    25000  non-null values\n",
        "Reaction Time (ms)       25000  non-null values\n",
        "dtypes: float64(2), int64(4), object(1)\n"
       ]
      }
     ],
     "prompt_number": 3
    },
    {
     "cell_type": "markdown",
     "metadata": {},
     "source": [
      "This is useful, but we should check that the actual data itself looks like we would expect. From the output of the `print` statement above, you can see that `data` is a `pandas.core.frame.DataFrame` object. Pandas DataFrames have useful head and tail methods we can call to peek into our dataset:"
     ]
    },
    {
     "cell_type": "code",
     "collapsed": false,
     "input": [
      "data.head()"
     ],
     "language": "python",
     "metadata": {},
     "outputs": [
      {
       "html": [
        "<div style=\"max-height:1000px;max-width:1500px;overflow:auto;\">\n",
        "<table border=\"1\" class=\"dataframe\">\n",
        "  <thead>\n",
        "    <tr style=\"text-align: right;\">\n",
        "      <th></th>\n",
        "      <th>Participant</th>\n",
        "      <th>Condition Name</th>\n",
        "      <th>Condition Number</th>\n",
        "      <th>Age</th>\n",
        "      <th>IQ</th>\n",
        "      <th>Estimated Speed (mph)</th>\n",
        "      <th>Reaction Time (ms)</th>\n",
        "    </tr>\n",
        "  </thead>\n",
        "  <tbody>\n",
        "    <tr>\n",
        "      <th>0</th>\n",
        "      <td> 1</td>\n",
        "      <td> Contact</td>\n",
        "      <td> 1</td>\n",
        "      <td> 38</td>\n",
        "      <td>  79</td>\n",
        "      <td> 35.343097</td>\n",
        "      <td> 366.349602</td>\n",
        "    </tr>\n",
        "    <tr>\n",
        "      <th>1</th>\n",
        "      <td> 2</td>\n",
        "      <td> Contact</td>\n",
        "      <td> 1</td>\n",
        "      <td> 60</td>\n",
        "      <td> 115</td>\n",
        "      <td> 33.179294</td>\n",
        "      <td> 103.371995</td>\n",
        "    </tr>\n",
        "    <tr>\n",
        "      <th>2</th>\n",
        "      <td> 3</td>\n",
        "      <td> Contact</td>\n",
        "      <td> 1</td>\n",
        "      <td> 55</td>\n",
        "      <td>  99</td>\n",
        "      <td> 45.323799</td>\n",
        "      <td> 117.190930</td>\n",
        "    </tr>\n",
        "    <tr>\n",
        "      <th>3</th>\n",
        "      <td> 4</td>\n",
        "      <td> Contact</td>\n",
        "      <td> 1</td>\n",
        "      <td> 37</td>\n",
        "      <td>  86</td>\n",
        "      <td> 42.669423</td>\n",
        "      <td> 121.062926</td>\n",
        "    </tr>\n",
        "    <tr>\n",
        "      <th>4</th>\n",
        "      <td> 5</td>\n",
        "      <td> Contact</td>\n",
        "      <td> 1</td>\n",
        "      <td> 26</td>\n",
        "      <td>  96</td>\n",
        "      <td> 24.313337</td>\n",
        "      <td> 300.798027</td>\n",
        "    </tr>\n",
        "  </tbody>\n",
        "</table>\n",
        "</div>"
       ],
       "metadata": {},
       "output_type": "pyout",
       "prompt_number": 4,
       "text": [
        "   Participant Condition Name  Condition Number  Age   IQ  \\\n",
        "0            1        Contact                 1   38   79   \n",
        "1            2        Contact                 1   60  115   \n",
        "2            3        Contact                 1   55   99   \n",
        "3            4        Contact                 1   37   86   \n",
        "4            5        Contact                 1   26   96   \n",
        "\n",
        "   Estimated Speed (mph)  Reaction Time (ms)  \n",
        "0              35.343097          366.349602  \n",
        "1              33.179294          103.371995  \n",
        "2              45.323799          117.190930  \n",
        "3              42.669423          121.062926  \n",
        "4              24.313337          300.798027  "
       ]
      }
     ],
     "prompt_number": 4
    },
    {
     "cell_type": "code",
     "collapsed": false,
     "input": [
      "data.tail()"
     ],
     "language": "python",
     "metadata": {},
     "outputs": [
      {
       "html": [
        "<div style=\"max-height:1000px;max-width:1500px;overflow:auto;\">\n",
        "<table border=\"1\" class=\"dataframe\">\n",
        "  <thead>\n",
        "    <tr style=\"text-align: right;\">\n",
        "      <th></th>\n",
        "      <th>Participant</th>\n",
        "      <th>Condition Name</th>\n",
        "      <th>Condition Number</th>\n",
        "      <th>Age</th>\n",
        "      <th>IQ</th>\n",
        "      <th>Estimated Speed (mph)</th>\n",
        "      <th>Reaction Time (ms)</th>\n",
        "    </tr>\n",
        "  </thead>\n",
        "  <tbody>\n",
        "    <tr>\n",
        "      <th>24995</th>\n",
        "      <td> 24996</td>\n",
        "      <td> Smash</td>\n",
        "      <td> 5</td>\n",
        "      <td> 31</td>\n",
        "      <td>  90</td>\n",
        "      <td> 42.378</td>\n",
        "      <td> 364.140173</td>\n",
        "    </tr>\n",
        "    <tr>\n",
        "      <th>24996</th>\n",
        "      <td> 24997</td>\n",
        "      <td> Smash</td>\n",
        "      <td> 5</td>\n",
        "      <td> 66</td>\n",
        "      <td>  95</td>\n",
        "      <td> 46.275</td>\n",
        "      <td>  74.730491</td>\n",
        "    </tr>\n",
        "    <tr>\n",
        "      <th>24997</th>\n",
        "      <td> 24998</td>\n",
        "      <td> Smash</td>\n",
        "      <td> 5</td>\n",
        "      <td> 42</td>\n",
        "      <td> 105</td>\n",
        "      <td> 35.883</td>\n",
        "      <td> 428.195944</td>\n",
        "    </tr>\n",
        "    <tr>\n",
        "      <th>24998</th>\n",
        "      <td> 24999</td>\n",
        "      <td> Smash</td>\n",
        "      <td> 5</td>\n",
        "      <td> 51</td>\n",
        "      <td> 109</td>\n",
        "      <td> 47.574</td>\n",
        "      <td> 142.604204</td>\n",
        "    </tr>\n",
        "    <tr>\n",
        "      <th>24999</th>\n",
        "      <td> 25000</td>\n",
        "      <td> Smash</td>\n",
        "      <td> 5</td>\n",
        "      <td> 44</td>\n",
        "      <td> 105</td>\n",
        "      <td> 48.763</td>\n",
        "      <td> 193.754748</td>\n",
        "    </tr>\n",
        "  </tbody>\n",
        "</table>\n",
        "</div>"
       ],
       "metadata": {},
       "output_type": "pyout",
       "prompt_number": 5,
       "text": [
        "       Participant Condition Name  Condition Number  Age   IQ  \\\n",
        "24995        24996          Smash                 5   31   90   \n",
        "24996        24997          Smash                 5   66   95   \n",
        "24997        24998          Smash                 5   42  105   \n",
        "24998        24999          Smash                 5   51  109   \n",
        "24999        25000          Smash                 5   44  105   \n",
        "\n",
        "       Estimated Speed (mph)  Reaction Time (ms)  \n",
        "24995                 42.378          364.140173  \n",
        "24996                 46.275           74.730491  \n",
        "24997                 35.883          428.195944  \n",
        "24998                 47.574          142.604204  \n",
        "24999                 48.763          193.754748  "
       ]
      }
     ],
     "prompt_number": 5
    },
    {
     "cell_type": "markdown",
     "metadata": {},
     "source": [
      "If we only want to examine one column at a time, we can use square brackets to get just that column"
     ]
    },
    {
     "cell_type": "code",
     "collapsed": false,
     "input": [
      "data['Condition Name'].head()"
     ],
     "language": "python",
     "metadata": {},
     "outputs": [
      {
       "metadata": {},
       "output_type": "pyout",
       "prompt_number": 6,
       "text": [
        "0    Contact\n",
        "1    Contact\n",
        "2    Contact\n",
        "3    Contact\n",
        "4    Contact\n",
        "Name: Condition Name, dtype: object"
       ]
      }
     ],
     "prompt_number": 6
    },
    {
     "cell_type": "markdown",
     "metadata": {},
     "source": [
      "Or we can use a list of columns to get more than one column:"
     ]
    },
    {
     "cell_type": "code",
     "collapsed": false,
     "input": [
      "columns = ['Condition Name', 'Estimated Speed (mph)']\n",
      "data[columns].head()"
     ],
     "language": "python",
     "metadata": {},
     "outputs": [
      {
       "html": [
        "<div style=\"max-height:1000px;max-width:1500px;overflow:auto;\">\n",
        "<table border=\"1\" class=\"dataframe\">\n",
        "  <thead>\n",
        "    <tr style=\"text-align: right;\">\n",
        "      <th></th>\n",
        "      <th>Condition Name</th>\n",
        "      <th>Estimated Speed (mph)</th>\n",
        "    </tr>\n",
        "  </thead>\n",
        "  <tbody>\n",
        "    <tr>\n",
        "      <th>0</th>\n",
        "      <td> Contact</td>\n",
        "      <td> 35.343097</td>\n",
        "    </tr>\n",
        "    <tr>\n",
        "      <th>1</th>\n",
        "      <td> Contact</td>\n",
        "      <td> 33.179294</td>\n",
        "    </tr>\n",
        "    <tr>\n",
        "      <th>2</th>\n",
        "      <td> Contact</td>\n",
        "      <td> 45.323799</td>\n",
        "    </tr>\n",
        "    <tr>\n",
        "      <th>3</th>\n",
        "      <td> Contact</td>\n",
        "      <td> 42.669423</td>\n",
        "    </tr>\n",
        "    <tr>\n",
        "      <th>4</th>\n",
        "      <td> Contact</td>\n",
        "      <td> 24.313337</td>\n",
        "    </tr>\n",
        "  </tbody>\n",
        "</table>\n",
        "</div>"
       ],
       "metadata": {},
       "output_type": "pyout",
       "prompt_number": 7,
       "text": [
        "  Condition Name  Estimated Speed (mph)\n",
        "0        Contact              35.343097\n",
        "1        Contact              33.179294\n",
        "2        Contact              45.323799\n",
        "3        Contact              42.669423\n",
        "4        Contact              24.313337"
       ]
      }
     ],
     "prompt_number": 7
    },
    {
     "cell_type": "markdown",
     "metadata": {},
     "source": [
      "The rest of this example will only use the data on estimated speed, so let's make a copy of the dataset that contains only the condition name and the speed. While we're at it, we can shorted the column names just to speed things up a little bit."
     ]
    },
    {
     "cell_type": "code",
     "collapsed": false,
     "input": [
      "speed_data = data[['Condition Name', 'Estimated Speed (mph)']]\n",
      "speed_data.columns = ['Condition', 'Speed']\n",
      "speed_data.head()"
     ],
     "language": "python",
     "metadata": {},
     "outputs": [
      {
       "html": [
        "<div style=\"max-height:1000px;max-width:1500px;overflow:auto;\">\n",
        "<table border=\"1\" class=\"dataframe\">\n",
        "  <thead>\n",
        "    <tr style=\"text-align: right;\">\n",
        "      <th></th>\n",
        "      <th>Condition</th>\n",
        "      <th>Speed</th>\n",
        "    </tr>\n",
        "  </thead>\n",
        "  <tbody>\n",
        "    <tr>\n",
        "      <th>0</th>\n",
        "      <td> Contact</td>\n",
        "      <td> 35.343097</td>\n",
        "    </tr>\n",
        "    <tr>\n",
        "      <th>1</th>\n",
        "      <td> Contact</td>\n",
        "      <td> 33.179294</td>\n",
        "    </tr>\n",
        "    <tr>\n",
        "      <th>2</th>\n",
        "      <td> Contact</td>\n",
        "      <td> 45.323799</td>\n",
        "    </tr>\n",
        "    <tr>\n",
        "      <th>3</th>\n",
        "      <td> Contact</td>\n",
        "      <td> 42.669423</td>\n",
        "    </tr>\n",
        "    <tr>\n",
        "      <th>4</th>\n",
        "      <td> Contact</td>\n",
        "      <td> 24.313337</td>\n",
        "    </tr>\n",
        "  </tbody>\n",
        "</table>\n",
        "</div>"
       ],
       "metadata": {},
       "output_type": "pyout",
       "prompt_number": 8,
       "text": [
        "  Condition      Speed\n",
        "0   Contact  35.343097\n",
        "1   Contact  33.179294\n",
        "2   Contact  45.323799\n",
        "3   Contact  42.669423\n",
        "4   Contact  24.313337"
       ]
      }
     ],
     "prompt_number": 8
    },
    {
     "cell_type": "markdown",
     "metadata": {},
     "source": [
      "### Step 2: Examine your data set.\n",
      "#### How many records do we have?\n",
      "\n",
      "We can use `len()` to check the length."
     ]
    },
    {
     "cell_type": "code",
     "collapsed": false,
     "input": [
      "len(speed_data)"
     ],
     "language": "python",
     "metadata": {},
     "outputs": [
      {
       "metadata": {},
       "output_type": "pyout",
       "prompt_number": 9,
       "text": [
        "25000"
       ]
      }
     ],
     "prompt_number": 9
    },
    {
     "cell_type": "markdown",
     "metadata": {},
     "source": [
      "#### Now let's see how many conditions we have and what the conditions are.\n",
      "\n",
      "##### First, we need to get the unique conditions. \n",
      "\n",
      "The `Condition` column is too long to see all the conditions at once:"
     ]
    },
    {
     "cell_type": "code",
     "collapsed": false,
     "input": [
      "speed_data['Condition']"
     ],
     "language": "python",
     "metadata": {},
     "outputs": [
      {
       "metadata": {},
       "output_type": "pyout",
       "prompt_number": 10,
       "text": [
        "0     Contact\n",
        "1     Contact\n",
        "2     Contact\n",
        "3     Contact\n",
        "4     Contact\n",
        "5     Contact\n",
        "6     Contact\n",
        "7     Contact\n",
        "8     Contact\n",
        "9     Contact\n",
        "10    Contact\n",
        "11    Contact\n",
        "12    Contact\n",
        "13    Contact\n",
        "14    Contact\n",
        "...\n",
        "24985    Smash\n",
        "24986    Smash\n",
        "24987    Smash\n",
        "24988    Smash\n",
        "24989    Smash\n",
        "24990    Smash\n",
        "24991    Smash\n",
        "24992    Smash\n",
        "24993    Smash\n",
        "24994    Smash\n",
        "24995    Smash\n",
        "24996    Smash\n",
        "24997    Smash\n",
        "24998    Smash\n",
        "24999    Smash\n",
        "Name: Condition, Length: 25000, dtype: object"
       ]
      }
     ],
     "prompt_number": 10
    },
    {
     "cell_type": "markdown",
     "metadata": {},
     "source": [
      "We can use the `unique()` method to get only the unique condition names:"
     ]
    },
    {
     "cell_type": "code",
     "collapsed": false,
     "input": [
      "conditions = speed_data['Condition'].unique()\n",
      "print conditions"
     ],
     "language": "python",
     "metadata": {},
     "outputs": [
      {
       "output_type": "stream",
       "stream": "stdout",
       "text": [
        "['Contact' 'Hit' 'Bump' 'Collide' 'Smash' 'Sash']\n"
       ]
      }
     ],
     "prompt_number": 11
    },
    {
     "cell_type": "markdown",
     "metadata": {},
     "source": [
      "And now we can use `len` to get the number of different conditions."
     ]
    },
    {
     "cell_type": "code",
     "collapsed": false,
     "input": [
      "ncond = len(conditions)\n",
      "print ncond"
     ],
     "language": "python",
     "metadata": {},
     "outputs": [
      {
       "output_type": "stream",
       "stream": "stdout",
       "text": [
        "6\n"
       ]
      }
     ],
     "prompt_number": 12
    },
    {
     "cell_type": "markdown",
     "metadata": {},
     "source": [
      "Not so good. We have a listing for 6 conditions, when we really have 5. \n",
      "\n",
      "* HIT: About how fast were the cars going when they _hit_ each other?\n",
      "\n",
      "* SMASH: About how fast were the cars going when they _smashed into_ each other?\n",
      "\n",
      "* COLLIDE: About how fast were the cars going when they _collided with_ each other?\n",
      "\n",
      "* BUMP: About how fast were the cars going when they _bumped_ each other?\n",
      "\n",
      "* CONTACT: About how fast were the cars going when they _contacted_ each other?\n",
      "\n",
      "It looks like somebody mistyped the label for the `Smash` condition. We need to fix this before we go on.\n"
     ]
    },
    {
     "cell_type": "markdown",
     "metadata": {},
     "source": [
      "We need to check whether our hypothesis is correct. Let's count the number of instances of each condition. In order to do this we'll use Pandas `groupby`:"
     ]
    },
    {
     "cell_type": "code",
     "collapsed": false,
     "input": [
      "speed_data.groupby('Condition')"
     ],
     "language": "python",
     "metadata": {},
     "outputs": [
      {
       "metadata": {},
       "output_type": "pyout",
       "prompt_number": 13,
       "text": [
        "<pandas.core.groupby.DataFrameGroupBy object at 0xa32e30c>"
       ]
      }
     ],
     "prompt_number": 13
    },
    {
     "cell_type": "markdown",
     "metadata": {},
     "source": [
      "`groupby()` takes a dataframe and groups the unique values in a column (in this case, the Condition column) and gives us a new object. This new grouped dataframe has a `count()` method we can use to get the number of records for each condition:"
     ]
    },
    {
     "cell_type": "code",
     "collapsed": false,
     "input": [
      "speed_data.groupby('Condition').count()"
     ],
     "language": "python",
     "metadata": {},
     "outputs": [
      {
       "html": [
        "<div style=\"max-height:1000px;max-width:1500px;overflow:auto;\">\n",
        "<table border=\"1\" class=\"dataframe\">\n",
        "  <thead>\n",
        "    <tr style=\"text-align: right;\">\n",
        "      <th></th>\n",
        "      <th>Condition</th>\n",
        "      <th>Speed</th>\n",
        "    </tr>\n",
        "    <tr>\n",
        "      <th>Condition</th>\n",
        "      <th></th>\n",
        "      <th></th>\n",
        "    </tr>\n",
        "  </thead>\n",
        "  <tbody>\n",
        "    <tr>\n",
        "      <th>Bump</th>\n",
        "      <td> 5000</td>\n",
        "      <td> 5000</td>\n",
        "    </tr>\n",
        "    <tr>\n",
        "      <th>Collide</th>\n",
        "      <td> 5000</td>\n",
        "      <td> 5000</td>\n",
        "    </tr>\n",
        "    <tr>\n",
        "      <th>Contact</th>\n",
        "      <td> 5000</td>\n",
        "      <td> 5000</td>\n",
        "    </tr>\n",
        "    <tr>\n",
        "      <th>Hit</th>\n",
        "      <td> 5000</td>\n",
        "      <td> 5000</td>\n",
        "    </tr>\n",
        "    <tr>\n",
        "      <th>Sash</th>\n",
        "      <td>    2</td>\n",
        "      <td>    2</td>\n",
        "    </tr>\n",
        "    <tr>\n",
        "      <th>Smash</th>\n",
        "      <td> 4998</td>\n",
        "      <td> 4998</td>\n",
        "    </tr>\n",
        "  </tbody>\n",
        "</table>\n",
        "</div>"
       ],
       "metadata": {},
       "output_type": "pyout",
       "prompt_number": 14,
       "text": [
        "           Condition  Speed\n",
        "Condition                  \n",
        "Bump            5000   5000\n",
        "Collide         5000   5000\n",
        "Contact         5000   5000\n",
        "Hit             5000   5000\n",
        "Sash               2      2\n",
        "Smash           4998   4998"
       ]
      }
     ],
     "prompt_number": 14
    },
    {
     "cell_type": "markdown",
     "metadata": {},
     "source": [
      "It looks like we were correct.  Let's replace the elements `Sash` with `Smash`. \n",
      "\n",
      "First we have to select those rows where the condition is `Sash`:"
     ]
    },
    {
     "cell_type": "code",
     "collapsed": false,
     "input": [
      "speed_data[speed_data['Condition'] == 'Sash']"
     ],
     "language": "python",
     "metadata": {},
     "outputs": [
      {
       "html": [
        "<div style=\"max-height:1000px;max-width:1500px;overflow:auto;\">\n",
        "<table border=\"1\" class=\"dataframe\">\n",
        "  <thead>\n",
        "    <tr style=\"text-align: right;\">\n",
        "      <th></th>\n",
        "      <th>Condition</th>\n",
        "      <th>Speed</th>\n",
        "    </tr>\n",
        "  </thead>\n",
        "  <tbody>\n",
        "    <tr>\n",
        "      <th>20261</th>\n",
        "      <td> Sash</td>\n",
        "      <td> 47.348</td>\n",
        "    </tr>\n",
        "    <tr>\n",
        "      <th>20282</th>\n",
        "      <td> Sash</td>\n",
        "      <td> 51.788</td>\n",
        "    </tr>\n",
        "  </tbody>\n",
        "</table>\n",
        "</div>"
       ],
       "metadata": {},
       "output_type": "pyout",
       "prompt_number": 15,
       "text": [
        "      Condition   Speed\n",
        "20261      Sash  47.348\n",
        "20282      Sash  51.788"
       ]
      }
     ],
     "prompt_number": 15
    },
    {
     "cell_type": "markdown",
     "metadata": {},
     "source": [
      "But we only want to change the values in the 'Condition' column. We can use the dataframe's advanced indexing to do this by calling `.ix`:"
     ]
    },
    {
     "cell_type": "code",
     "collapsed": false,
     "input": [
      "speed_data.ix[speed_data['Condition'] == 'Sash', 'Condition']"
     ],
     "language": "python",
     "metadata": {},
     "outputs": [
      {
       "metadata": {},
       "output_type": "pyout",
       "prompt_number": 16,
       "text": [
        "20261    Sash\n",
        "20282    Sash\n",
        "Name: Condition, dtype: object"
       ]
      }
     ],
     "prompt_number": 16
    },
    {
     "cell_type": "markdown",
     "metadata": {},
     "source": [
      "Now we have selected the columns and rows that we want to change, we just assign the new value `Smash` to them:"
     ]
    },
    {
     "cell_type": "code",
     "collapsed": false,
     "input": [
      "speed_data.ix[speed_data['Condition'] == 'Sash', 'Condition'] = 'Smash'"
     ],
     "language": "python",
     "metadata": {},
     "outputs": [],
     "prompt_number": 17
    },
    {
     "cell_type": "markdown",
     "metadata": {},
     "source": [
      "And let's check our numbers again."
     ]
    },
    {
     "cell_type": "code",
     "collapsed": false,
     "input": [
      "speed_data.groupby('Condition').count()"
     ],
     "language": "python",
     "metadata": {},
     "outputs": [
      {
       "html": [
        "<div style=\"max-height:1000px;max-width:1500px;overflow:auto;\">\n",
        "<table border=\"1\" class=\"dataframe\">\n",
        "  <thead>\n",
        "    <tr style=\"text-align: right;\">\n",
        "      <th></th>\n",
        "      <th>Condition</th>\n",
        "      <th>Speed</th>\n",
        "    </tr>\n",
        "    <tr>\n",
        "      <th>Condition</th>\n",
        "      <th></th>\n",
        "      <th></th>\n",
        "    </tr>\n",
        "  </thead>\n",
        "  <tbody>\n",
        "    <tr>\n",
        "      <th>Bump</th>\n",
        "      <td> 5000</td>\n",
        "      <td> 5000</td>\n",
        "    </tr>\n",
        "    <tr>\n",
        "      <th>Collide</th>\n",
        "      <td> 5000</td>\n",
        "      <td> 5000</td>\n",
        "    </tr>\n",
        "    <tr>\n",
        "      <th>Contact</th>\n",
        "      <td> 5000</td>\n",
        "      <td> 5000</td>\n",
        "    </tr>\n",
        "    <tr>\n",
        "      <th>Hit</th>\n",
        "      <td> 5000</td>\n",
        "      <td> 5000</td>\n",
        "    </tr>\n",
        "    <tr>\n",
        "      <th>Smash</th>\n",
        "      <td> 5000</td>\n",
        "      <td> 5000</td>\n",
        "    </tr>\n",
        "  </tbody>\n",
        "</table>\n",
        "</div>"
       ],
       "metadata": {},
       "output_type": "pyout",
       "prompt_number": 18,
       "text": [
        "           Condition  Speed\n",
        "Condition                  \n",
        "Bump            5000   5000\n",
        "Collide         5000   5000\n",
        "Contact         5000   5000\n",
        "Hit             5000   5000\n",
        "Smash           5000   5000"
       ]
      }
     ],
     "prompt_number": 18
    },
    {
     "cell_type": "markdown",
     "metadata": {},
     "source": [
      "#### Now it's time for some descriptive statistics.\n",
      "We can look at each type of descriptive statistic separately:"
     ]
    },
    {
     "cell_type": "code",
     "collapsed": false,
     "input": [
      "speed_data.groupby('Condition').mean()"
     ],
     "language": "python",
     "metadata": {},
     "outputs": [
      {
       "html": [
        "<div style=\"max-height:1000px;max-width:1500px;overflow:auto;\">\n",
        "<table border=\"1\" class=\"dataframe\">\n",
        "  <thead>\n",
        "    <tr style=\"text-align: right;\">\n",
        "      <th></th>\n",
        "      <th>Speed</th>\n",
        "    </tr>\n",
        "    <tr>\n",
        "      <th>Condition</th>\n",
        "      <th></th>\n",
        "    </tr>\n",
        "  </thead>\n",
        "  <tbody>\n",
        "    <tr>\n",
        "      <th>Bump</th>\n",
        "      <td> 37.999997</td>\n",
        "    </tr>\n",
        "    <tr>\n",
        "      <th>Collide</th>\n",
        "      <td> 41.000002</td>\n",
        "    </tr>\n",
        "    <tr>\n",
        "      <th>Contact</th>\n",
        "      <td> 29.999999</td>\n",
        "    </tr>\n",
        "    <tr>\n",
        "      <th>Hit</th>\n",
        "      <td> 34.999997</td>\n",
        "    </tr>\n",
        "    <tr>\n",
        "      <th>Smash</th>\n",
        "      <td> 46.000005</td>\n",
        "    </tr>\n",
        "  </tbody>\n",
        "</table>\n",
        "</div>"
       ],
       "metadata": {},
       "output_type": "pyout",
       "prompt_number": 19,
       "text": [
        "               Speed\n",
        "Condition           \n",
        "Bump       37.999997\n",
        "Collide    41.000002\n",
        "Contact    29.999999\n",
        "Hit        34.999997\n",
        "Smash      46.000005"
       ]
      }
     ],
     "prompt_number": 19
    },
    {
     "cell_type": "code",
     "collapsed": false,
     "input": [
      "speed_data.groupby('Condition').var()"
     ],
     "language": "python",
     "metadata": {},
     "outputs": [
      {
       "html": [
        "<div style=\"max-height:1000px;max-width:1500px;overflow:auto;\">\n",
        "<table border=\"1\" class=\"dataframe\">\n",
        "  <thead>\n",
        "    <tr style=\"text-align: right;\">\n",
        "      <th></th>\n",
        "      <th>Speed</th>\n",
        "    </tr>\n",
        "    <tr>\n",
        "      <th>Condition</th>\n",
        "      <th></th>\n",
        "    </tr>\n",
        "  </thead>\n",
        "  <tbody>\n",
        "    <tr>\n",
        "      <th>Bump</th>\n",
        "      <td> 122.222092</td>\n",
        "    </tr>\n",
        "    <tr>\n",
        "      <th>Collide</th>\n",
        "      <td>  41.555552</td>\n",
        "    </tr>\n",
        "    <tr>\n",
        "      <th>Contact</th>\n",
        "      <td> 116.444323</td>\n",
        "    </tr>\n",
        "    <tr>\n",
        "      <th>Hit</th>\n",
        "      <td>  86.444395</td>\n",
        "    </tr>\n",
        "    <tr>\n",
        "      <th>Smash</th>\n",
        "      <td>  33.333344</td>\n",
        "    </tr>\n",
        "  </tbody>\n",
        "</table>\n",
        "</div>"
       ],
       "metadata": {},
       "output_type": "pyout",
       "prompt_number": 20,
       "text": [
        "                Speed\n",
        "Condition            \n",
        "Bump       122.222092\n",
        "Collide     41.555552\n",
        "Contact    116.444323\n",
        "Hit         86.444395\n",
        "Smash       33.333344"
       ]
      }
     ],
     "prompt_number": 20
    },
    {
     "cell_type": "code",
     "collapsed": false,
     "input": [
      "speed_data.groupby('Condition').std()"
     ],
     "language": "python",
     "metadata": {},
     "outputs": [
      {
       "html": [
        "<div style=\"max-height:1000px;max-width:1500px;overflow:auto;\">\n",
        "<table border=\"1\" class=\"dataframe\">\n",
        "  <thead>\n",
        "    <tr style=\"text-align: right;\">\n",
        "      <th></th>\n",
        "      <th>Speed</th>\n",
        "    </tr>\n",
        "    <tr>\n",
        "      <th>Condition</th>\n",
        "      <th></th>\n",
        "    </tr>\n",
        "  </thead>\n",
        "  <tbody>\n",
        "    <tr>\n",
        "      <th>Bump</th>\n",
        "      <td> 11.055410</td>\n",
        "    </tr>\n",
        "    <tr>\n",
        "      <th>Collide</th>\n",
        "      <td>  6.446360</td>\n",
        "    </tr>\n",
        "    <tr>\n",
        "      <th>Contact</th>\n",
        "      <td> 10.790937</td>\n",
        "    </tr>\n",
        "    <tr>\n",
        "      <th>Hit</th>\n",
        "      <td>  9.297548</td>\n",
        "    </tr>\n",
        "    <tr>\n",
        "      <th>Smash</th>\n",
        "      <td>  5.773504</td>\n",
        "    </tr>\n",
        "  </tbody>\n",
        "</table>\n",
        "</div>"
       ],
       "metadata": {},
       "output_type": "pyout",
       "prompt_number": 21,
       "text": [
        "               Speed\n",
        "Condition           \n",
        "Bump       11.055410\n",
        "Collide     6.446360\n",
        "Contact    10.790937\n",
        "Hit         9.297548\n",
        "Smash       5.773504"
       ]
      }
     ],
     "prompt_number": 21
    },
    {
     "cell_type": "markdown",
     "metadata": {},
     "source": [
      "Or, we can get them all together:"
     ]
    },
    {
     "cell_type": "code",
     "collapsed": false,
     "input": [
      "speed_data.groupby('Condition').describe()"
     ],
     "language": "python",
     "metadata": {},
     "outputs": [
      {
       "html": [
        "<div style=\"max-height:1000px;max-width:1500px;overflow:auto;\">\n",
        "<table border=\"1\" class=\"dataframe\">\n",
        "  <thead>\n",
        "    <tr style=\"text-align: right;\">\n",
        "      <th></th>\n",
        "      <th></th>\n",
        "      <th>Speed</th>\n",
        "    </tr>\n",
        "    <tr>\n",
        "      <th>Condition</th>\n",
        "      <th></th>\n",
        "      <th></th>\n",
        "    </tr>\n",
        "  </thead>\n",
        "  <tbody>\n",
        "    <tr>\n",
        "      <th rowspan=\"8\" valign=\"top\">Bump</th>\n",
        "      <th>count</th>\n",
        "      <td> 5000.000000</td>\n",
        "    </tr>\n",
        "    <tr>\n",
        "      <th>mean</th>\n",
        "      <td>   37.999997</td>\n",
        "    </tr>\n",
        "    <tr>\n",
        "      <th>std</th>\n",
        "      <td>   11.055410</td>\n",
        "    </tr>\n",
        "    <tr>\n",
        "      <th>min</th>\n",
        "      <td>    0.954110</td>\n",
        "    </tr>\n",
        "    <tr>\n",
        "      <th>25%</th>\n",
        "      <td>   30.680000</td>\n",
        "    </tr>\n",
        "    <tr>\n",
        "      <th>50%</th>\n",
        "      <td>   38.002000</td>\n",
        "    </tr>\n",
        "    <tr>\n",
        "      <th>75%</th>\n",
        "      <td>   45.564250</td>\n",
        "    </tr>\n",
        "    <tr>\n",
        "      <th>max</th>\n",
        "      <td>   75.173000</td>\n",
        "    </tr>\n",
        "    <tr>\n",
        "      <th rowspan=\"8\" valign=\"top\">Collide</th>\n",
        "      <th>count</th>\n",
        "      <td> 5000.000000</td>\n",
        "    </tr>\n",
        "    <tr>\n",
        "      <th>mean</th>\n",
        "      <td>   41.000002</td>\n",
        "    </tr>\n",
        "    <tr>\n",
        "      <th>std</th>\n",
        "      <td>    6.446360</td>\n",
        "    </tr>\n",
        "    <tr>\n",
        "      <th>min</th>\n",
        "      <td>   19.711000</td>\n",
        "    </tr>\n",
        "    <tr>\n",
        "      <th>25%</th>\n",
        "      <td>   36.764250</td>\n",
        "    </tr>\n",
        "    <tr>\n",
        "      <th>50%</th>\n",
        "      <td>   41.076500</td>\n",
        "    </tr>\n",
        "    <tr>\n",
        "      <th>75%</th>\n",
        "      <td>   45.309250</td>\n",
        "    </tr>\n",
        "    <tr>\n",
        "      <th>max</th>\n",
        "      <td>   61.102000</td>\n",
        "    </tr>\n",
        "    <tr>\n",
        "      <th rowspan=\"8\" valign=\"top\">Contact</th>\n",
        "      <th>count</th>\n",
        "      <td> 5000.000000</td>\n",
        "    </tr>\n",
        "    <tr>\n",
        "      <th>mean</th>\n",
        "      <td>   29.999999</td>\n",
        "    </tr>\n",
        "    <tr>\n",
        "      <th>std</th>\n",
        "      <td>   10.790937</td>\n",
        "    </tr>\n",
        "    <tr>\n",
        "      <th>min</th>\n",
        "      <td>   -7.928400</td>\n",
        "    </tr>\n",
        "    <tr>\n",
        "      <th>25%</th>\n",
        "      <td>   22.807250</td>\n",
        "    </tr>\n",
        "    <tr>\n",
        "      <th>50%</th>\n",
        "      <td>   30.086527</td>\n",
        "    </tr>\n",
        "    <tr>\n",
        "      <th>75%</th>\n",
        "      <td>   37.378500</td>\n",
        "    </tr>\n",
        "    <tr>\n",
        "      <th>max</th>\n",
        "      <td>   66.337000</td>\n",
        "    </tr>\n",
        "    <tr>\n",
        "      <th rowspan=\"8\" valign=\"top\">Hit</th>\n",
        "      <th>count</th>\n",
        "      <td> 5000.000000</td>\n",
        "    </tr>\n",
        "    <tr>\n",
        "      <th>mean</th>\n",
        "      <td>   34.999997</td>\n",
        "    </tr>\n",
        "    <tr>\n",
        "      <th>std</th>\n",
        "      <td>    9.297548</td>\n",
        "    </tr>\n",
        "    <tr>\n",
        "      <th>min</th>\n",
        "      <td>    2.039300</td>\n",
        "    </tr>\n",
        "    <tr>\n",
        "      <th>25%</th>\n",
        "      <td>   28.776750</td>\n",
        "    </tr>\n",
        "    <tr>\n",
        "      <th>50%</th>\n",
        "      <td>   35.003500</td>\n",
        "    </tr>\n",
        "    <tr>\n",
        "      <th>75%</th>\n",
        "      <td>   41.291750</td>\n",
        "    </tr>\n",
        "    <tr>\n",
        "      <th>max</th>\n",
        "      <td>   68.553000</td>\n",
        "    </tr>\n",
        "    <tr>\n",
        "      <th rowspan=\"8\" valign=\"top\">Smash</th>\n",
        "      <th>count</th>\n",
        "      <td> 5000.000000</td>\n",
        "    </tr>\n",
        "    <tr>\n",
        "      <th>mean</th>\n",
        "      <td>   46.000005</td>\n",
        "    </tr>\n",
        "    <tr>\n",
        "      <th>std</th>\n",
        "      <td>    5.773504</td>\n",
        "    </tr>\n",
        "    <tr>\n",
        "      <th>min</th>\n",
        "      <td>   24.962000</td>\n",
        "    </tr>\n",
        "    <tr>\n",
        "      <th>25%</th>\n",
        "      <td>   42.158250</td>\n",
        "    </tr>\n",
        "    <tr>\n",
        "      <th>50%</th>\n",
        "      <td>   46.083500</td>\n",
        "    </tr>\n",
        "    <tr>\n",
        "      <th>75%</th>\n",
        "      <td>   49.801000</td>\n",
        "    </tr>\n",
        "    <tr>\n",
        "      <th>max</th>\n",
        "      <td>   66.631000</td>\n",
        "    </tr>\n",
        "  </tbody>\n",
        "</table>\n",
        "</div>"
       ],
       "metadata": {},
       "output_type": "pyout",
       "prompt_number": 22,
       "text": [
        "                       Speed\n",
        "Condition                   \n",
        "Bump      count  5000.000000\n",
        "          mean     37.999997\n",
        "          std      11.055410\n",
        "          min       0.954110\n",
        "          25%      30.680000\n",
        "          50%      38.002000\n",
        "          75%      45.564250\n",
        "          max      75.173000\n",
        "Collide   count  5000.000000\n",
        "          mean     41.000002\n",
        "          std       6.446360\n",
        "          min      19.711000\n",
        "          25%      36.764250\n",
        "          50%      41.076500\n",
        "          75%      45.309250\n",
        "          max      61.102000\n",
        "Contact   count  5000.000000\n",
        "          mean     29.999999\n",
        "          std      10.790937\n",
        "          min      -7.928400\n",
        "          25%      22.807250\n",
        "          50%      30.086527\n",
        "          75%      37.378500\n",
        "          max      66.337000\n",
        "Hit       count  5000.000000\n",
        "          mean     34.999997\n",
        "          std       9.297548\n",
        "          min       2.039300\n",
        "          25%      28.776750\n",
        "          50%      35.003500\n",
        "          75%      41.291750\n",
        "          max      68.553000\n",
        "Smash     count  5000.000000\n",
        "          mean     46.000005\n",
        "          std       5.773504\n",
        "          min      24.962000\n",
        "          25%      42.158250\n",
        "          50%      46.083500\n",
        "          75%      49.801000\n",
        "          max      66.631000"
       ]
      }
     ],
     "prompt_number": 22
    },
    {
     "cell_type": "markdown",
     "metadata": {},
     "source": [
      "Maybe a negative speed means the estimated speed was in reverse? Check with whoever gave you the data to be sure. In our case, it means the car was travelling in reverse.\n",
      "\n",
      "\n",
      "#### Now we can plot our data\n",
      "First, import `pylab` (this allows us to view our figures in the ipython notebook)"
     ]
    },
    {
     "cell_type": "code",
     "collapsed": false,
     "input": [
      "%pylab inline \n",
      "\n",
      "from pylab import *"
     ],
     "language": "python",
     "metadata": {},
     "outputs": [
      {
       "output_type": "stream",
       "stream": "stdout",
       "text": [
        "Populating the interactive namespace from numpy and matplotlib\n"
       ]
      }
     ],
     "prompt_number": 23
    },
    {
     "cell_type": "markdown",
     "metadata": {},
     "source": [
      "Now, let's plot our means"
     ]
    },
    {
     "cell_type": "code",
     "collapsed": false,
     "input": [
      "plot = speed_data.groupby('Condition').mean().plot(kind='bar')"
     ],
     "language": "python",
     "metadata": {},
     "outputs": [
      {
       "metadata": {},
       "output_type": "display_data",
       "png": "[encoded data removed]",
       "text": [
        "<matplotlib.figure.Figure at 0xa330cec>"
       ]
      }
     ],
     "prompt_number": 24
    },
    {
     "cell_type": "markdown",
     "metadata": {},
     "source": [
      "and take a look at the boxplot"
     ]
    },
    {
     "cell_type": "code",
     "collapsed": false,
     "input": [
      "boxplot = speed_data.boxplot(column='Speed', by='Condition')"
     ],
     "language": "python",
     "metadata": {},
     "outputs": [
      {
       "metadata": {},
       "output_type": "display_data",
       "png": "[encoded data removed]",
       "text": [
        "<matplotlib.figure.Figure at 0xa33f08c>"
       ]
      }
     ],
     "prompt_number": 25
    },
    {
     "cell_type": "markdown",
     "metadata": {},
     "source": [
      "#### Now, let's run an ANOVA\n",
      "\n",
      "I like to have the full data output, so we will use the functions built into the `statsmodels` module. "
     ]
    },
    {
     "cell_type": "code",
     "collapsed": false,
     "input": [
      "#import statsmodels.api as sm\n",
      "import statsmodels.formula.api as sm\n",
      "from statsmodels.stats.anova import anova_lm\n",
      "import statsmodels.sandbox as sand\n",
      "from statsmodels.stats.multicomp import (pairwise_tukeyhsd,\n",
      "                                         MultiComparison)\n"
     ],
     "language": "python",
     "metadata": {},
     "outputs": [],
     "prompt_number": 26
    },
    {
     "cell_type": "markdown",
     "metadata": {},
     "source": [
      "Although the format of `df` is great for getting descriptive statistics, we need a different format for running the ANOVA (corresponding vectors of data)."
     ]
    },
    {
     "cell_type": "markdown",
     "metadata": {},
     "source": [
      "Now to actually run the ANOVA.  Just as a reminder (for those whose stats are a bit rusty) the an ANOVA is just a special case of OLS regression, so we will run the regression model here. "
     ]
    },
    {
     "cell_type": "markdown",
     "metadata": {},
     "source": [
      "And now we check our variables again"
     ]
    },
    {
     "cell_type": "markdown",
     "metadata": {},
     "source": [
      "Let's set up the model:"
     ]
    },
    {
     "cell_type": "code",
     "collapsed": false,
     "input": [
      "model = sm.ols('Speed ~ C(Condition)',speed_data)"
     ],
     "language": "python",
     "metadata": {},
     "outputs": [],
     "prompt_number": 27
    },
    {
     "cell_type": "markdown",
     "metadata": {},
     "source": [
      "where, `speed` is the dependent variable, `C()` means that `condname` is a categorical variable, and `condname` is the independent variable."
     ]
    },
    {
     "cell_type": "markdown",
     "metadata": {},
     "source": [
      "Now, we can run the analysis."
     ]
    },
    {
     "cell_type": "code",
     "collapsed": false,
     "input": [
      "result = model.fit()"
     ],
     "language": "python",
     "metadata": {},
     "outputs": [],
     "prompt_number": 28
    },
    {
     "cell_type": "code",
     "collapsed": false,
     "input": [
      "print result.summary()"
     ],
     "language": "python",
     "metadata": {},
     "outputs": [
      {
       "output_type": "stream",
       "stream": "stdout",
       "text": [
        "                            OLS Regression Results                            \n",
        "==============================================================================\n",
        "Dep. Variable:                  Speed   R-squared:                       0.267\n",
        "Model:                            OLS   Adj. R-squared:                  0.267\n",
        "Method:                 Least Squares   F-statistic:                     2281.\n",
        "Date:                Thu, 17 Apr 2014   Prob (F-statistic):               0.00\n",
        "Time:                        15:13:41   Log-Likelihood:                -90246.\n",
        "No. Observations:               25000   AIC:                         1.805e+05\n",
        "Df Residuals:                   24995   BIC:                         1.805e+05\n",
        "Df Model:                           4                                         \n",
        "===========================================================================================\n",
        "                              coef    std err          t      P>|t|      [95.0% Conf. Int.]\n",
        "-------------------------------------------------------------------------------------------\n",
        "Intercept                  38.0000      0.126    300.416      0.000        37.752    38.248\n",
        "C(Condition)[T.Collide]     3.0000      0.179     16.771      0.000         2.649     3.351\n",
        "C(Condition)[T.Contact]    -8.0000      0.179    -44.721      0.000        -8.351    -7.649\n",
        "C(Condition)[T.Hit]        -3.0000      0.179    -16.771      0.000        -3.351    -2.649\n",
        "C(Condition)[T.Smash]       8.0000      0.179     44.721      0.000         7.649     8.351\n",
        "==============================================================================\n",
        "Omnibus:                      210.373   Durbin-Watson:                   2.008\n",
        "Prob(Omnibus):                  0.000   Jarque-Bera (JB):              337.430\n",
        "Skew:                          -0.025   Prob(JB):                     5.35e-74\n",
        "Kurtosis:                       3.567   Cond. No.                         5.83\n",
        "==============================================================================\n"
       ]
      }
     ],
     "prompt_number": 29
    },
    {
     "cell_type": "markdown",
     "metadata": {},
     "source": [
      "Note that the `result` object has many useful attributes. For example, we can extract parameter estimates and r-squared"
     ]
    },
    {
     "cell_type": "code",
     "collapsed": false,
     "input": [
      "result.params"
     ],
     "language": "python",
     "metadata": {},
     "outputs": [
      {
       "metadata": {},
       "output_type": "pyout",
       "prompt_number": 30,
       "text": [
        "Intercept                  37.999997\n",
        "C(Condition)[T.Collide]     3.000004\n",
        "C(Condition)[T.Contact]    -7.999999\n",
        "C(Condition)[T.Hit]        -3.000000\n",
        "C(Condition)[T.Smash]       8.000008\n",
        "dtype: float64"
       ]
      }
     ],
     "prompt_number": 30
    },
    {
     "cell_type": "code",
     "collapsed": false,
     "input": [
      "result.rsquared"
     ],
     "language": "python",
     "metadata": {},
     "outputs": [
      {
       "metadata": {},
       "output_type": "pyout",
       "prompt_number": 31,
       "text": [
        "0.26743877202191968"
       ]
      }
     ],
     "prompt_number": 31
    },
    {
     "cell_type": "markdown",
     "metadata": {},
     "source": [
      "To present the results as a traditional ANOVA table"
     ]
    },
    {
     "cell_type": "code",
     "collapsed": false,
     "input": [
      "anova_lm(result)"
     ],
     "language": "python",
     "metadata": {},
     "outputs": [
      {
       "html": [
        "<div style=\"max-height:1000px;max-width:1500px;overflow:auto;\">\n",
        "<table border=\"1\" class=\"dataframe\">\n",
        "  <thead>\n",
        "    <tr style=\"text-align: right;\">\n",
        "      <th></th>\n",
        "      <th>df</th>\n",
        "      <th>sum_sq</th>\n",
        "      <th>mean_sq</th>\n",
        "      <th>F</th>\n",
        "      <th>PR(&gt;F)</th>\n",
        "    </tr>\n",
        "  </thead>\n",
        "  <tbody>\n",
        "    <tr>\n",
        "      <th>C(Condition)</th>\n",
        "      <td>     4</td>\n",
        "      <td>  730000.652180</td>\n",
        "      <td> 182500.163045</td>\n",
        "      <td> 2281.25372</td>\n",
        "      <td>  0</td>\n",
        "    </tr>\n",
        "    <tr>\n",
        "      <th>Residual</th>\n",
        "      <td> 24995</td>\n",
        "      <td> 1999598.525461</td>\n",
        "      <td>     79.999941</td>\n",
        "      <td>        NaN</td>\n",
        "      <td>NaN</td>\n",
        "    </tr>\n",
        "  </tbody>\n",
        "</table>\n",
        "</div>"
       ],
       "metadata": {},
       "output_type": "pyout",
       "prompt_number": 32,
       "text": [
        "                 df          sum_sq        mean_sq           F  PR(>F)\n",
        "C(Condition)      4   730000.652180  182500.163045  2281.25372       0\n",
        "Residual      24995  1999598.525461      79.999941         NaN     NaN"
       ]
      }
     ],
     "prompt_number": 32
    },
    {
     "cell_type": "markdown",
     "metadata": {},
     "source": [
      "Now to run the post-hocs."
     ]
    },
    {
     "cell_type": "code",
     "collapsed": false,
     "input": [
      "conditions = pd.Categorical.from_array(speed_data['Condition'])\n",
      "print conditions[:5]"
     ],
     "language": "python",
     "metadata": {},
     "outputs": [
      {
       "output_type": "stream",
       "stream": "stdout",
       "text": [
        "Categorical: \n",
        "[Contact, Contact, Contact, Contact, Contact]\n",
        "Levels (5): Index(['Bump', 'Collide', 'Contact', 'Hit', 'Smash'], dtype=object)\n"
       ]
      }
     ],
     "prompt_number": 33
    },
    {
     "cell_type": "code",
     "collapsed": false,
     "input": [
      "print conditions.levels"
     ],
     "language": "python",
     "metadata": {},
     "outputs": [
      {
       "output_type": "stream",
       "stream": "stdout",
       "text": [
        "Index([u'Bump', u'Collide', u'Contact', u'Hit', u'Smash'], dtype=object)\n"
       ]
      }
     ],
     "prompt_number": 34
    },
    {
     "cell_type": "code",
     "collapsed": false,
     "input": [
      "res2 = pairwise_tukeyhsd(speed_data['Speed'], speed_data['Condition'])\n",
      "print res2"
     ],
     "language": "python",
     "metadata": {},
     "outputs": [
      {
       "output_type": "stream",
       "stream": "stdout",
       "text": [
        "Multiple Comparison of Means - Tukey HSD,FWER=0.05\n",
        "=============================================\n",
        "group1 group2 meandiff  lower   upper  reject\n",
        "---------------------------------------------\n",
        "  0      1      3.0     2.512   3.488   True \n",
        "  0      2      -8.0    -8.488  -7.512  True \n",
        "  0      3      -3.0    -3.488  -2.512  True \n",
        "  0      4      8.0     7.512   8.488   True \n",
        "  1      2     -11.0   -11.488 -10.512  True \n",
        "  1      3      -6.0    -6.488  -5.512  True \n",
        "  1      4      5.0     4.512   5.488   True \n",
        "  2      3      5.0     4.512   5.488   True \n",
        "  2      4      16.0    15.512  16.488  True \n",
        "  3      4      11.0    10.512  11.488  True \n",
        "---------------------------------------------\n"
       ]
      }
     ],
     "prompt_number": 35
    },
    {
     "cell_type": "code",
     "collapsed": false,
     "input": [
      "mc = MultiComparison(speed_data['Speed'],speed_data['Condition'])"
     ],
     "language": "python",
     "metadata": {},
     "outputs": [],
     "prompt_number": 36
    },
    {
     "cell_type": "code",
     "collapsed": false,
     "input": [
      "posthoc = mc.tukeyhsd()\n",
      "print posthoc.summary() \n",
      "print zip(list((conditions.levels)), range(5))"
     ],
     "language": "python",
     "metadata": {},
     "outputs": [
      {
       "output_type": "stream",
       "stream": "stdout",
       "text": [
        "Multiple Comparison of Means - Tukey HSD,FWER=0.05\n",
        "=============================================\n",
        "group1 group2 meandiff  lower   upper  reject\n",
        "---------------------------------------------\n",
        "  0      1      3.0     2.512   3.488   True \n",
        "  0      2      -8.0    -8.488  -7.512  True \n",
        "  0      3      -3.0    -3.488  -2.512  True \n",
        "  0      4      8.0     7.512   8.488   True \n",
        "  1      2     -11.0   -11.488 -10.512  True \n",
        "  1      3      -6.0    -6.488  -5.512  True \n",
        "  1      4      5.0     4.512   5.488   True \n",
        "  2      3      5.0     4.512   5.488   True \n",
        "  2      4      16.0    15.512  16.488  True \n",
        "  3      4      11.0    10.512  11.488  True \n",
        "---------------------------------------------\n",
        "[('Bump', 0), ('Collide', 1), ('Contact', 2), ('Hit', 3), ('Smash', 4)]\n"
       ]
      }
     ],
     "prompt_number": 37
    },
    {
     "cell_type": "markdown",
     "metadata": {},
     "source": [
      "### So, does the wording of a question matter when eyewitnesses give testimony?\n",
      "\n",
      "YES!"
     ]
    },
    {
     "cell_type": "code",
     "collapsed": false,
     "input": [],
     "language": "python",
     "metadata": {},
     "outputs": [],
     "prompt_number": 37
    }
   ],
   "metadata": {}
  }
 ]
}