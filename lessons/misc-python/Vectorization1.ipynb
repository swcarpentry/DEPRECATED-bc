{
 "metadata": {
  "name": ""
 },
 "nbformat": 3,
 "nbformat_minor": 0,
 "worksheets": [
  {
   "cells": [
    {
     "cell_type": "markdown",
     "metadata": {
      "slideshow": {
       "slide_type": "slide"
      }
     },
     "source": [
      "Vectorization Part 1 (Basic examples)\n",
      "----\n",
      "\n",
      "Looping in Python is very slow compared with vectorized operations in numpy. So, we will usually want to do as much work with vectorized operations as possible. \n",
      "\n",
      "We will first review the two most cmmmonly used regular looping constructs in Python to find the first 10 square numbers, i.e. the **for loop** and the **list comprehesnion**."
     ]
    },
    {
     "cell_type": "code",
     "collapsed": false,
     "input": [
      "%pylab"
     ],
     "language": "python",
     "metadata": {},
     "outputs": [
      {
       "output_type": "stream",
       "stream": "stdout",
       "text": [
        "Using matplotlib backend: MacOSX\n",
        "Populating the interactive namespace from numpy and matplotlib\n"
       ]
      }
     ],
     "prompt_number": 1
    },
    {
     "cell_type": "code",
     "collapsed": false,
     "input": [
      "# using a for loop and appending to an empty vector\n",
      "squares1 = []\n",
      "for x in range(1, 11):\n",
      "    squares1.append(x*x)\n",
      "print \"squares1  = \", squares1\n",
      "\n",
      "# using a list comprehsnsion. \n",
      "# List comprehensions are modeled after the set builder notation in mathematics \n",
      "# and a similar construct in the funcitional language Haskell. For our puproses,\n",
      "# you can just think of them as a shorthand way of generating lists.\n",
      "squares3 = [x*x for x in range(1, 11)]\n",
      "print \"squares3  = \", squares3\n",
      "\n",
      "# I will be using list comprehensions instead of for loops in the examples below \n",
      "# since there is less to type. Here are more examples of list comprehensions to show how easy they are.\n",
      "print\n",
      "print \"More list comprehension examples.\"\n",
      "print [i for i in range(10)]\n",
      "print [ch for ch in 'hello world']\n",
      "print [word for word in 'hello world'.split()]"
     ],
     "language": "python",
     "metadata": {},
     "outputs": [
      {
       "output_type": "stream",
       "stream": "stdout",
       "text": [
        "squares1  =  [1, 4, 9, 16, 25, 36, 49, 64, 81, 100]\n",
        "squares3  =  [1, 4, 9, 16, 25, 36, 49, 64, 81, 100]\n",
        "\n",
        "More list comprehension examples.\n",
        "[0, 1, 2, 3, 4, 5, 6, 7, 8, 9]\n",
        "['h', 'e', 'l', 'l', 'o', ' ', 'w', 'o', 'r', 'l', 'd']\n",
        "['hello', 'world']\n"
       ]
      }
     ],
     "prompt_number": 2
    },
    {
     "cell_type": "code",
     "collapsed": false,
     "input": [
      "# sometimes when constructing our list, we only want to include items if they meet some condition.\n",
      "# Building on previous example, suppose we only wanted square numbers that were also even. A necessary and\n",
      "# suffiicient condition for this if if the original (unsquared) number is also even.\n",
      "\n",
      "# using a for loop\n",
      "esquares1 = []\n",
      "for x in range(1, 11):\n",
      "    if x%2 == 0:\n",
      "        esquares1.append(x*x)\n",
      "print \"even squares1  = \", esquares1\n",
      "\n",
      "# using a list comprehsnsion. \n",
      "# List comprehensions can include a condition by tagging on an \"if\" condition at the end.\n",
      "esquares3 = [x*x for x in range(1, 11) if x%2 == 0]\n",
      "print \"even squares3  = \", esquares3\n",
      "\n",
      "print\n",
      "print \"More list comprehension examples with filtering\"\n",
      "print [i for i in range(10) if i*i > 10] \n",
      "print [ch for ch in 'hello world' if ch not in 'aieou']\n",
      "print [word for word in 'hello world'.split() if word.startswith('hell')]"
     ],
     "language": "python",
     "metadata": {},
     "outputs": [
      {
       "output_type": "stream",
       "stream": "stdout",
       "text": [
        "even squares1  =  [4, 16, 36, 64, 100]\n",
        "even squares3  =  [4, 16, 36, 64, 100]\n",
        "\n",
        "More list comprehension examples with filtering\n",
        "[4, 5, 6, 7, 8, 9]\n",
        "['h', 'l', 'l', ' ', 'w', 'r', 'l', 'd']\n",
        "['hello']\n"
       ]
      }
     ],
     "prompt_number": 3
    },
    {
     "cell_type": "markdown",
     "metadata": {
      "slideshow": {
       "slide_type": "slide"
      }
     },
     "source": [
      "### Basic examples\n",
      "\n",
      "Now we can see some vectorized examples."
     ]
    },
    {
     "cell_type": "code",
     "collapsed": false,
     "input": [
      "import numpy as np\n",
      "\n",
      "# first let's repeat the above examples in numpy with vectorization.\n",
      "xs = np.arange(1,11)\n",
      "squares = xs**2\n",
      "print \"squares in numpy = \", squares\n",
      "\n",
      "# we can compare the time taken.\n",
      "%timeit [x*x for x in xs]\n",
      "%timeit xs**2\n",
      "\n",
      "# the speed difference becomes more obvioius as the size of the vecotr increases\n",
      "print\n",
      "print \"Squaring a vector with 1000 entries\"\n",
      "xs = np.arange(1, 1001)\n",
      "%timeit [x*x for x in xs]\n",
      "%timeit xs**2"
     ],
     "language": "python",
     "metadata": {},
     "outputs": [
      {
       "output_type": "stream",
       "stream": "stdout",
       "text": [
        "squares in numpy =  [  1   4   9  16  25  36  49  64  81 100]\n",
        "100000 loops, best of 3: 6.63 \u00b5s per loop"
       ]
      },
      {
       "output_type": "stream",
       "stream": "stdout",
       "text": [
        "\n",
        "100000 loops, best of 3: 1.87 \u00b5s per loop"
       ]
      },
      {
       "output_type": "stream",
       "stream": "stdout",
       "text": [
        "\n",
        "\n",
        "Squaring a vector with 1000 entries\n",
        "1000 loops, best of 3: 508 \u00b5s per loop"
       ]
      },
      {
       "output_type": "stream",
       "stream": "stdout",
       "text": [
        "\n",
        "100000 loops, best of 3: 2.68 \u00b5s per loop"
       ]
      },
      {
       "output_type": "stream",
       "stream": "stdout",
       "text": [
        "\n"
       ]
      }
     ],
     "prompt_number": 4
    },
    {
     "cell_type": "code",
     "collapsed": false,
     "input": [
      "# Some more simple examples comparing list comprehensions and vectorized operations.\n",
      "\n",
      "# add two vectors\n",
      "n = 1000\n",
      "a = np.random.random(n)\n",
      "b = np.random.random(n)\n",
      "\n",
      "# slow looping\n",
      "%timeit [u+v for (u, v) in zip(a, b)]\n",
      "\n",
      "# fast vectorized operation\n",
      "%timeit a + b"
     ],
     "language": "python",
     "metadata": {
      "slideshow": {
       "slide_type": "subslide"
      }
     },
     "outputs": [
      {
       "output_type": "stream",
       "stream": "stdout",
       "text": [
        "1000 loops, best of 3: 770 \u00b5s per loop\n",
        "100000 loops, best of 3: 2.7 \u00b5s per loop"
       ]
      },
      {
       "output_type": "stream",
       "stream": "stdout",
       "text": [
        "\n"
       ]
      }
     ],
     "prompt_number": 5
    },
    {
     "cell_type": "markdown",
     "metadata": {
      "slideshow": {
       "slide_type": "subslide"
      }
     },
     "source": [
      "Vectorized operations are often usefully combined with logical indexing. Unlike regular indexing, logical indexing uses a vector of Boolean values to extract items from a vector or matrix. The Boolean vector is of the same shape as the original vector, and logical indexing returens the items where the corresponding Boolean entry is True."
     ]
    },
    {
     "cell_type": "code",
     "collapsed": false,
     "input": [
      "# logical indexing to select even numbers\n",
      "xs = np.arange(10)\n",
      "idx = np.array([True, False, True, False, True, False, True, False, True, False])\n",
      "print \"Orignal vector =\", xs\n",
      "print \"Logically indexed vecotr =\", xs[idx]"
     ],
     "language": "python",
     "metadata": {},
     "outputs": [
      {
       "output_type": "stream",
       "stream": "stdout",
       "text": [
        "Orignal vector = [0 1 2 3 4 5 6 7 8 9]\n",
        "Logically indexed vecotr = [0 2 4 6 8]\n"
       ]
      }
     ],
     "prompt_number": 6
    },
    {
     "cell_type": "code",
     "collapsed": false,
     "input": [
      "# Typically, comparison operators (e..g >, <=, ==) ae used to generate the Boolean indices\n",
      "\n",
      "print xs%2 == 0 # index of even numbers\n",
      "print xs[xs%2 == 0] # using logical indexing to select even numbers"
     ],
     "language": "python",
     "metadata": {
      "slideshow": {
       "slide_type": "subslide"
      }
     },
     "outputs": [
      {
       "output_type": "stream",
       "stream": "stdout",
       "text": [
        "[ True False  True False  True False  True False  True False]\n",
        "[0 2 4 6 8]\n"
       ]
      }
     ],
     "prompt_number": 7
    },
    {
     "cell_type": "code",
     "collapsed": false,
     "input": [
      "# Logical indexing is itself a vectorized operation\n",
      "\n",
      "# slow looping\n",
      "%timeit [x for x in xs if x%2 == 0]\n",
      "\n",
      "# fast vectorized operation\n",
      "%timeit xs[xs%2 == 0]"
     ],
     "language": "python",
     "metadata": {
      "slideshow": {
       "slide_type": "subslide"
      }
     },
     "outputs": [
      {
       "output_type": "stream",
       "stream": "stdout",
       "text": [
        "10000 loops, best of 3: 20.6 \u00b5s per loop\n",
        "100000 loops, best of 3: 7.76 \u00b5s per loop"
       ]
      },
      {
       "output_type": "stream",
       "stream": "stdout",
       "text": [
        "\n"
       ]
      }
     ],
     "prompt_number": 8
    },
    {
     "cell_type": "markdown",
     "metadata": {},
     "source": [
      "As an example of how logical indexing can eliminate the need for looping, we can make mulitple decisions based on the outcome of a random variable using logical indexing. This comes in useful in many stochastic simulations. Suppose you have a stocahstic simulation where 99% of the time, event A occurs but 1% of the time, event B occurs instead. Logical indexing on a random vector is much faster than looping."
     ]
    },
    {
     "cell_type": "code",
     "collapsed": false,
     "input": [
      "# making multiple decisions based on outcome of a random variable\n",
      "n = 1000\n",
      "threshold = 0.01\n",
      "\n",
      "# slow loop\n",
      "%timeit\n",
      "rs = []\n",
      "for r in np.arange(n):\n",
      "    if np.random.rand() < threshold:\n",
      "       rs.append(r)\n",
      "        \n",
      "        \n",
      "%timeit [r for r in np.arange(n) if np.random.rand() < threshold]\n",
      "\n",
      "# fast vector operation\n",
      "%timeit np.arange(n)[np.random.rand(n) < threshold]"
     ],
     "language": "python",
     "metadata": {
      "slideshow": {
       "slide_type": "subslide"
      }
     },
     "outputs": [
      {
       "output_type": "stream",
       "stream": "stdout",
       "text": [
        "1000 loops, best of 3: 381 \u00b5s per loop\n",
        "10000 loops, best of 3: 23.9 \u00b5s per loop"
       ]
      },
      {
       "output_type": "stream",
       "stream": "stdout",
       "text": [
        "\n"
       ]
      }
     ],
     "prompt_number": 9
    },
    {
     "cell_type": "code",
     "collapsed": false,
     "input": [
      "# Using the appropriate numpy operation \n",
      "# instead of the equivalent Python idiom is usually faster for large data sets.\n",
      "\n",
      "print \"Finding unique elements in a small data set\"\n",
      "n =100\n",
      "xs = np.random.randint(0, 100, n) # retunrs numpy array of n random integers in the range 0,1,2,...,99\n",
      "print \"numpy version       \",\n",
      "%timeit np.unique(xs)\n",
      "print \"Python idiom version\",\n",
      "%timeit list(set(xs))"
     ],
     "language": "python",
     "metadata": {
      "slideshow": {
       "slide_type": "subslide"
      }
     },
     "outputs": [
      {
       "output_type": "stream",
       "stream": "stdout",
       "text": [
        "Finding unique elements in a small data set\n",
        "numpy version        "
       ]
      },
      {
       "output_type": "stream",
       "stream": "stdout",
       "text": [
        "10000 loops, best of 3: 19.7 \u00b5s per loop\n",
        "Python idiom version "
       ]
      },
      {
       "output_type": "stream",
       "stream": "stdout",
       "text": [
        "10000 loops, best of 3: 22.5 \u00b5s per loop\n"
       ]
      }
     ],
     "prompt_number": 10
    },
    {
     "cell_type": "code",
     "collapsed": false,
     "input": [
      "print \"\\nFinding unique elements in a large data set\"\n",
      "n =10000000\n",
      "xs = np.random.randint(0, 100, n)\n",
      "print \"numpy version       \",\n",
      "%timeit np.unique(xs)\n",
      "print \"Python idiom version\",\n",
      "%timeit list(set(xs))"
     ],
     "language": "python",
     "metadata": {},
     "outputs": [
      {
       "output_type": "stream",
       "stream": "stdout",
       "text": [
        "\n",
        "Finding unique elements in a large data set\n",
        "numpy version       "
       ]
      },
      {
       "output_type": "stream",
       "stream": "stdout",
       "text": [
        " 1 loops, best of 3: 447 ms per loop\n",
        "Python idiom version "
       ]
      },
      {
       "output_type": "stream",
       "stream": "stdout",
       "text": [
        "1 loops, best of 3: 1.46 s per loop\n"
       ]
      }
     ],
     "prompt_number": 11
    }
   ],
   "metadata": {}
  }
 ]
}