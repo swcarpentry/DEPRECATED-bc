{
 "metadata": {
  "name": ""
 },
 "nbformat": 3,
 "nbformat_minor": 0,
 "worksheets": [
  {
   "cells": [
    {
     "cell_type": "markdown",
     "metadata": {},
     "source": [
      "# Testing Exercises\n",
      "\n",
      "The following exercises do not contain solutions. Yet. Instead, we will be\n",
      "asking you to submit your solutions to these exercises and then we will post up\n",
      "solutions at the start of next week. We encourage you to discuss your approaches\n",
      "or solutions on the course forum!"
     ]
    },
    {
     "cell_type": "markdown",
     "metadata": {},
     "source": [
      "## Exercise 1: Mileage\n",
      "\n",
      "The function 'convert_mileage' converts miles per gallon (US style) to\u00c2 liters\n",
      "per 100 km (metric style):"
     ]
    },
    {
     "cell_type": "code",
     "collapsed": false,
     "input": [
      "gal_to_litre = 3.78541178\n",
      "mile_to_km = 1.609344\n",
      "    \n",
      "def convert_mileage(mpg):\n",
      "    '''Converts miles per gallon to liters per 100 km'''\n",
      "    litres_per_100_km = 100 / mpg / mile_to_km * gal_to_litre\n",
      "    return litres_per_100_km"
     ],
     "language": "python",
     "metadata": {},
     "outputs": []
    },
    {
     "cell_type": "markdown",
     "metadata": {},
     "source": [
      "Create a subdirectory in your version control directory called `testing-exercises`, then\n",
      "copy this function into a file in that directory called `mileage.py`. Add more\n",
      "code to that file to repeatedly ask the user for a mileage in miles per gallon,\n",
      "and output the mileage in liters per 100 km, until the user enters the string\n",
      "`q`. You will need to use the `float()` function to convert from string to a\n",
      "floating point number. Use the '`if __name__ == \"__main__\":`' trick to ensure\n",
      "that the module can be imported without executing your testing code.\n",
      "\n",
      "1. Copy `mileage.py` to create `tryexcept.py` Add a try/except block to the new\n",
      "program to display a helpful message instead of crashing when users enter\n",
      "invalid input (such as the number \"0\" or the name of their favorite hockey\n",
      "team). \n",
      "\n",
      "2. Reading the function again, you realize that accepting 0 or negative values\n",
      "make no sense and should be reported as an error. Look at the exceptions defined\n",
      "in the `exceptions` module (use the built-in `help(...)` or `dir(...)`\n",
      "functions) and decide which of Python's built-in exceptions is most appropriate\n",
      "to use for invalid input. Create a copy of 'tryexcept.py' called 'raiser.py'\n",
      "that raises this exception; modify the main body of your program to catch it;\n",
      "and add a comment inside the file explaining why you chose the exception you\n",
      "did. (Note: you have to call this file `raiser.py`, not `raise.py` because\n",
      "'import raise' is an error. \u00c2 Can you see why?)\n",
      "\n",
      "3. [According to Google](http://www.google.ca/search?q=20+miles+per+gallon+in+litres+per+100+km&gbv=1),\n",
      "20 miles per gallon are equivalent to 11.7607292 liters per 100 km. Use these\n",
      "values to write a unit test. Keep in mind that these floating values are subject\n",
      "to truncation and rounding errors. Save the test case in a file called\n",
      "`test_mileage.py` and run it using the `nosetests` command. \u00c2 Note:\n",
      "`test_mileage.py` should use '`from raiser import convert_mileage`' to get the\n",
      "final version of your mileage conversion function.\n",
      "\n",
      "4. Now add a second test case, for 40 miles per gallon equivalent to 5.88036458\n",
      "liters per 100 km and run the tests again. \u00c2 Unless you have already fixed the\n",
      "error that was present in the initial function, your test should fail. \u00c2 Find\n",
      "and fix the error; submit your new function in a file called 'final_mileage.py'. "
     ]
    },
    {
     "cell_type": "markdown",
     "metadata": {},
     "source": [
      "## Exercise 2: Testing Averages\n",
      "\n",
      "The results of a set of experiments are stored in a file, where the _i-th_ line\n",
      "stores the results of the _i-th_ experiment as a comma-separated list of\n",
      "integers. A student is assigned the task of finding the experiment with the\n",
      "smallest average value. She writes the following code: "
     ]
    },
    {
     "cell_type": "code",
     "collapsed": false,
     "input": [
      "def avg_line(line):\n",
      "    values = line.split(',')\n",
      "    count = 0\n",
      "    total = 0\n",
      "    for value in values:\n",
      "        total += int(value)\n",
      "        count += 1\n",
      "    return total / count\n",
      "    \n",
      "def min_avg(file_name):\n",
      "    contents = open(file_name)\n",
      "    averages = []\n",
      "    for (i, line) in enumerate(contents):\n",
      "        averages.append((avg_line(line), i))\n",
      "    contents.close()\n",
      "    averages.sort()\n",
      "    min_avg, experiment_number = averages[0]\n",
      "    return experiment_number"
     ],
     "language": "python",
     "metadata": {},
     "outputs": []
    },
    {
     "cell_type": "markdown",
     "metadata": {},
     "source": [
      "1. Refactor `min_avg` so that it can be tested without depending on external\n",
      "files. Submit your code in a file called `first_averages.py`.\n",
      "\n",
      "2. Write Nose test cases for both functions. Consider what should happen if the\n",
      "file is empty. Submit your tests in a file called `test_first_averages.py`.\n",
      "Note: you may assume for now that all input is well formatted, i.e., you do\n",
      "_not_ have to worry about empty lines, lines containing the names of hockey\n",
      "teams, etc.\n",
      "\n",
      "3. The given specification is ambiguous: what should the result be if two or\n",
      "more experiments are tied for the minimum average?  Copy 'first_averages.py' to\n",
      "create a new file 'second_averages.py'; modify it to handle this case; add a\n",
      "comment to the top explaining what rule you decided to use; and create a file\n",
      "'test_second_averages.py' that tests your changes.\n",
      "\n",
      "4. Another student proposed an alternative implementation of the min_avg\n",
      "function:"
     ]
    },
    {
     "cell_type": "code",
     "collapsed": false,
     "input": [
      "def min_avg(file_name):\n",
      "    contents = open(file_name).readlines()\n",
      "    min_avg = avg_line(contents[0])\n",
      "    min_index = 0\n",
      "    for (i,line) in enumerate(contents):\n",
      "        current_avg = avg_line(line)\n",
      "        if current_avg <= min_avg:\n",
      "            min_avg = current_avg\n",
      "            min_index = i\n",
      "    return min_index"
     ],
     "language": "python",
     "metadata": {},
     "outputs": []
    },
    {
     "cell_type": "markdown",
     "metadata": {},
     "source": [
      "This implementation also finds an experiment with the smallest average, but\n",
      "possibly a different one than the your function.  Modify your test cases so that\n",
      "both your implementation and this one will pass.  (Hint: use the 'in' operator.)\n",
      "\n",
      "5. One way to avoid the ambiguity of this specification is to define a\n",
      "'min_avg_all' function instead, which returns a list with all the experiments\n",
      "with the smallest average, and let the caller select one. Write tests for the\n",
      "'min_avg_all' function, considering the following situations: an empty file,\n",
      "exactly one experiment with minimum average, and more than one experiment with\n",
      "minimum average. Keep in mind that in the last case, implementations could\n",
      "return the list in different order. Write the tests the file \"test_averages.py\".\n",
      "Use the same data as for the previous tests, if possible. You should use\n",
      "variables to avoid code duplication. You don't need to implement the\n",
      "'min_avg_all' function, but your test cases should be comprehensive enough to\n",
      "serve as a specification for it."
     ]
    }
   ],
   "metadata": {}
  }
 ]
}