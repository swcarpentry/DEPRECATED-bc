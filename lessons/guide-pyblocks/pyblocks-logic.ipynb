{
 "metadata": {
  "name": "pyblocks-logic"
 },
 "nbformat": 3,
 "nbformat_minor": 0,
 "worksheets": [
  {
   "cells": [
    {
     "cell_type": "heading",
     "level": 1,
     "metadata": {},
     "source": [
      "Basic Python Using IPythonBlocks"
     ]
    },
    {
     "cell_type": "heading",
     "level": 2,
     "metadata": {},
     "source": [
      "Making Choices"
     ]
    },
    {
     "cell_type": "code",
     "collapsed": false,
     "input": [
      "if 5 > 0:\n",
      "    print \"5 is greater than 0\"\n",
      "if 5 < 0:\n",
      "    print \"5 is less than 0\""
     ],
     "language": "python",
     "metadata": {},
     "outputs": [
      {
       "output_type": "stream",
       "stream": "stdout",
       "text": [
        "5 is greater than 0\n"
       ]
      }
     ],
     "prompt_number": 1
    },
    {
     "cell_type": "code",
     "collapsed": false,
     "input": [
      "for char in \"GATTACA\":\n",
      "    if char == \"A\":\n",
      "        print \"found an A\""
     ],
     "language": "python",
     "metadata": {},
     "outputs": [
      {
       "output_type": "stream",
       "stream": "stdout",
       "text": [
        "found an A\n",
        "found an A\n",
        "found an A\n"
       ]
      }
     ],
     "prompt_number": 2
    },
    {
     "cell_type": "code",
     "collapsed": false,
     "input": [
      "VOWELS = \"AEIOU\"\n",
      "num_vowels = 0\n",
      "num_other = 0\n",
      "for char in \"GATTACA\":\n",
      "    if char in VOWELS:\n",
      "        num_vowels = num_vowels + 1\n",
      "    else:\n",
      "        num_other = num_other + 1\n",
      "print num_vowels, \"vowels and\", num_other, \"other characters\""
     ],
     "language": "python",
     "metadata": {},
     "outputs": [
      {
       "output_type": "stream",
       "stream": "stdout",
       "text": [
        "3 vowels and 4 other characters\n"
       ]
      }
     ],
     "prompt_number": 3
    },
    {
     "cell_type": "code",
     "collapsed": false,
     "input": [
      "num_vowels = 0\n",
      "num_other = 0\n",
      "for char in \"GATTACA\":\n",
      "    if char in VOWELS:\n",
      "        num_vowels += 1\n",
      "    else:\n",
      "        num_other += 1\n",
      "print num_vowels, \"vowels and\", num_other, \"other characters\""
     ],
     "language": "python",
     "metadata": {},
     "outputs": [
      {
       "output_type": "stream",
       "stream": "stdout",
       "text": [
        "3 vowels and 4 other characters\n"
       ]
      }
     ],
     "prompt_number": 4
    },
    {
     "cell_type": "code",
     "collapsed": false,
     "input": [
      "from ipythonblocks import ImageGrid, colors\n",
      "grid = ImageGrid(10, 5)\n",
      "for x in range(grid.width):\n",
      "    for y in range(grid.height):\n",
      "        if x < y:\n",
      "            grid[x, y] = colors['Red']\n",
      "        elif x == y:\n",
      "            grid[x, y] = colors['Blue']\n",
      "        else:\n",
      "            grid[x, y] = colors['Green']\n",
      "grid.show()"
     ],
     "language": "python",
     "metadata": {},
     "outputs": [
      {
       "html": [
        "<style type=\"text/css\">table.blockgrid {border: none;} .blockgrid tr {border: none;} .blockgrid td {padding: 0px;} #blocks05833059-5e8d-4e73-80ce-8226f46ddea2 td {border: 1px solid white;}</style><table id=\"blocks05833059-5e8d-4e73-80ce-8226f46ddea2\" class=\"blockgrid\"><tbody><tr><td title=\"Index: [0, 4]&#10;Color: (255, 0, 0)\" style=\"width: 20px; height: 20px;background-color: rgb(255, 0, 0);\"></td><td title=\"Index: [1, 4]&#10;Color: (255, 0, 0)\" style=\"width: 20px; height: 20px;background-color: rgb(255, 0, 0);\"></td><td title=\"Index: [2, 4]&#10;Color: (255, 0, 0)\" style=\"width: 20px; height: 20px;background-color: rgb(255, 0, 0);\"></td><td title=\"Index: [3, 4]&#10;Color: (255, 0, 0)\" style=\"width: 20px; height: 20px;background-color: rgb(255, 0, 0);\"></td><td title=\"Index: [4, 4]&#10;Color: (0, 0, 255)\" style=\"width: 20px; height: 20px;background-color: rgb(0, 0, 255);\"></td><td title=\"Index: [5, 4]&#10;Color: (0, 128, 0)\" style=\"width: 20px; height: 20px;background-color: rgb(0, 128, 0);\"></td><td title=\"Index: [6, 4]&#10;Color: (0, 128, 0)\" style=\"width: 20px; height: 20px;background-color: rgb(0, 128, 0);\"></td><td title=\"Index: [7, 4]&#10;Color: (0, 128, 0)\" style=\"width: 20px; height: 20px;background-color: rgb(0, 128, 0);\"></td><td title=\"Index: [8, 4]&#10;Color: (0, 128, 0)\" style=\"width: 20px; height: 20px;background-color: rgb(0, 128, 0);\"></td><td title=\"Index: [9, 4]&#10;Color: (0, 128, 0)\" style=\"width: 20px; height: 20px;background-color: rgb(0, 128, 0);\"></td></tr><tr><td title=\"Index: [0, 3]&#10;Color: (255, 0, 0)\" style=\"width: 20px; height: 20px;background-color: rgb(255, 0, 0);\"></td><td title=\"Index: [1, 3]&#10;Color: (255, 0, 0)\" style=\"width: 20px; height: 20px;background-color: rgb(255, 0, 0);\"></td><td title=\"Index: [2, 3]&#10;Color: (255, 0, 0)\" style=\"width: 20px; height: 20px;background-color: rgb(255, 0, 0);\"></td><td title=\"Index: [3, 3]&#10;Color: (0, 0, 255)\" style=\"width: 20px; height: 20px;background-color: rgb(0, 0, 255);\"></td><td title=\"Index: [4, 3]&#10;Color: (0, 128, 0)\" style=\"width: 20px; height: 20px;background-color: rgb(0, 128, 0);\"></td><td title=\"Index: [5, 3]&#10;Color: (0, 128, 0)\" style=\"width: 20px; height: 20px;background-color: rgb(0, 128, 0);\"></td><td title=\"Index: [6, 3]&#10;Color: (0, 128, 0)\" style=\"width: 20px; height: 20px;background-color: rgb(0, 128, 0);\"></td><td title=\"Index: [7, 3]&#10;Color: (0, 128, 0)\" style=\"width: 20px; height: 20px;background-color: rgb(0, 128, 0);\"></td><td title=\"Index: [8, 3]&#10;Color: (0, 128, 0)\" style=\"width: 20px; height: 20px;background-color: rgb(0, 128, 0);\"></td><td title=\"Index: [9, 3]&#10;Color: (0, 128, 0)\" style=\"width: 20px; height: 20px;background-color: rgb(0, 128, 0);\"></td></tr><tr><td title=\"Index: [0, 2]&#10;Color: (255, 0, 0)\" style=\"width: 20px; height: 20px;background-color: rgb(255, 0, 0);\"></td><td title=\"Index: [1, 2]&#10;Color: (255, 0, 0)\" style=\"width: 20px; height: 20px;background-color: rgb(255, 0, 0);\"></td><td title=\"Index: [2, 2]&#10;Color: (0, 0, 255)\" style=\"width: 20px; height: 20px;background-color: rgb(0, 0, 255);\"></td><td title=\"Index: [3, 2]&#10;Color: (0, 128, 0)\" style=\"width: 20px; height: 20px;background-color: rgb(0, 128, 0);\"></td><td title=\"Index: [4, 2]&#10;Color: (0, 128, 0)\" style=\"width: 20px; height: 20px;background-color: rgb(0, 128, 0);\"></td><td title=\"Index: [5, 2]&#10;Color: (0, 128, 0)\" style=\"width: 20px; height: 20px;background-color: rgb(0, 128, 0);\"></td><td title=\"Index: [6, 2]&#10;Color: (0, 128, 0)\" style=\"width: 20px; height: 20px;background-color: rgb(0, 128, 0);\"></td><td title=\"Index: [7, 2]&#10;Color: (0, 128, 0)\" style=\"width: 20px; height: 20px;background-color: rgb(0, 128, 0);\"></td><td title=\"Index: [8, 2]&#10;Color: (0, 128, 0)\" style=\"width: 20px; height: 20px;background-color: rgb(0, 128, 0);\"></td><td title=\"Index: [9, 2]&#10;Color: (0, 128, 0)\" style=\"width: 20px; height: 20px;background-color: rgb(0, 128, 0);\"></td></tr><tr><td title=\"Index: [0, 1]&#10;Color: (255, 0, 0)\" style=\"width: 20px; height: 20px;background-color: rgb(255, 0, 0);\"></td><td title=\"Index: [1, 1]&#10;Color: (0, 0, 255)\" style=\"width: 20px; height: 20px;background-color: rgb(0, 0, 255);\"></td><td title=\"Index: [2, 1]&#10;Color: (0, 128, 0)\" style=\"width: 20px; height: 20px;background-color: rgb(0, 128, 0);\"></td><td title=\"Index: [3, 1]&#10;Color: (0, 128, 0)\" style=\"width: 20px; height: 20px;background-color: rgb(0, 128, 0);\"></td><td title=\"Index: [4, 1]&#10;Color: (0, 128, 0)\" style=\"width: 20px; height: 20px;background-color: rgb(0, 128, 0);\"></td><td title=\"Index: [5, 1]&#10;Color: (0, 128, 0)\" style=\"width: 20px; height: 20px;background-color: rgb(0, 128, 0);\"></td><td title=\"Index: [6, 1]&#10;Color: (0, 128, 0)\" style=\"width: 20px; height: 20px;background-color: rgb(0, 128, 0);\"></td><td title=\"Index: [7, 1]&#10;Color: (0, 128, 0)\" style=\"width: 20px; height: 20px;background-color: rgb(0, 128, 0);\"></td><td title=\"Index: [8, 1]&#10;Color: (0, 128, 0)\" style=\"width: 20px; height: 20px;background-color: rgb(0, 128, 0);\"></td><td title=\"Index: [9, 1]&#10;Color: (0, 128, 0)\" style=\"width: 20px; height: 20px;background-color: rgb(0, 128, 0);\"></td></tr><tr><td title=\"Index: [0, 0]&#10;Color: (0, 0, 255)\" style=\"width: 20px; height: 20px;background-color: rgb(0, 0, 255);\"></td><td title=\"Index: [1, 0]&#10;Color: (0, 128, 0)\" style=\"width: 20px; height: 20px;background-color: rgb(0, 128, 0);\"></td><td title=\"Index: [2, 0]&#10;Color: (0, 128, 0)\" style=\"width: 20px; height: 20px;background-color: rgb(0, 128, 0);\"></td><td title=\"Index: [3, 0]&#10;Color: (0, 128, 0)\" style=\"width: 20px; height: 20px;background-color: rgb(0, 128, 0);\"></td><td title=\"Index: [4, 0]&#10;Color: (0, 128, 0)\" style=\"width: 20px; height: 20px;background-color: rgb(0, 128, 0);\"></td><td title=\"Index: [5, 0]&#10;Color: (0, 128, 0)\" style=\"width: 20px; height: 20px;background-color: rgb(0, 128, 0);\"></td><td title=\"Index: [6, 0]&#10;Color: (0, 128, 0)\" style=\"width: 20px; height: 20px;background-color: rgb(0, 128, 0);\"></td><td title=\"Index: [7, 0]&#10;Color: (0, 128, 0)\" style=\"width: 20px; height: 20px;background-color: rgb(0, 128, 0);\"></td><td title=\"Index: [8, 0]&#10;Color: (0, 128, 0)\" style=\"width: 20px; height: 20px;background-color: rgb(0, 128, 0);\"></td><td title=\"Index: [9, 0]&#10;Color: (0, 128, 0)\" style=\"width: 20px; height: 20px;background-color: rgb(0, 128, 0);\"></td></tr></tbody></table>"
       ],
       "output_type": "display_data",
       "text": [
        "<IPython.core.display.HTML at 0x103b54310>"
       ]
      }
     ],
     "prompt_number": 7
    },
    {
     "cell_type": "code",
     "collapsed": false,
     "input": [
      "for x in range(grid.width):\n",
      "    for y in range(grid.height):\n",
      "        if grid[x, y].red == 0:\n",
      "            grid[x, y].red = 128\n",
      "grid.show()"
     ],
     "language": "python",
     "metadata": {},
     "outputs": [
      {
       "html": [
        "<style type=\"text/css\">table.blockgrid {border: none;} .blockgrid tr {border: none;} .blockgrid td {padding: 0px;} #blocks4d41ec46-30b4-427e-94f5-3fba6b5f244d td {border: 1px solid white;}</style><table id=\"blocks4d41ec46-30b4-427e-94f5-3fba6b5f244d\" class=\"blockgrid\"><tbody><tr><td title=\"Index: [0, 4]&#10;Color: (255, 0, 0)\" style=\"width: 20px; height: 20px;background-color: rgb(255, 0, 0);\"></td><td title=\"Index: [1, 4]&#10;Color: (255, 0, 0)\" style=\"width: 20px; height: 20px;background-color: rgb(255, 0, 0);\"></td><td title=\"Index: [2, 4]&#10;Color: (255, 0, 0)\" style=\"width: 20px; height: 20px;background-color: rgb(255, 0, 0);\"></td><td title=\"Index: [3, 4]&#10;Color: (255, 0, 0)\" style=\"width: 20px; height: 20px;background-color: rgb(255, 0, 0);\"></td><td title=\"Index: [4, 4]&#10;Color: (128, 0, 255)\" style=\"width: 20px; height: 20px;background-color: rgb(128, 0, 255);\"></td><td title=\"Index: [5, 4]&#10;Color: (128, 128, 0)\" style=\"width: 20px; height: 20px;background-color: rgb(128, 128, 0);\"></td><td title=\"Index: [6, 4]&#10;Color: (128, 128, 0)\" style=\"width: 20px; height: 20px;background-color: rgb(128, 128, 0);\"></td><td title=\"Index: [7, 4]&#10;Color: (128, 128, 0)\" style=\"width: 20px; height: 20px;background-color: rgb(128, 128, 0);\"></td><td title=\"Index: [8, 4]&#10;Color: (128, 128, 0)\" style=\"width: 20px; height: 20px;background-color: rgb(128, 128, 0);\"></td><td title=\"Index: [9, 4]&#10;Color: (128, 128, 0)\" style=\"width: 20px; height: 20px;background-color: rgb(128, 128, 0);\"></td></tr><tr><td title=\"Index: [0, 3]&#10;Color: (255, 0, 0)\" style=\"width: 20px; height: 20px;background-color: rgb(255, 0, 0);\"></td><td title=\"Index: [1, 3]&#10;Color: (255, 0, 0)\" style=\"width: 20px; height: 20px;background-color: rgb(255, 0, 0);\"></td><td title=\"Index: [2, 3]&#10;Color: (255, 0, 0)\" style=\"width: 20px; height: 20px;background-color: rgb(255, 0, 0);\"></td><td title=\"Index: [3, 3]&#10;Color: (128, 0, 255)\" style=\"width: 20px; height: 20px;background-color: rgb(128, 0, 255);\"></td><td title=\"Index: [4, 3]&#10;Color: (128, 128, 0)\" style=\"width: 20px; height: 20px;background-color: rgb(128, 128, 0);\"></td><td title=\"Index: [5, 3]&#10;Color: (128, 128, 0)\" style=\"width: 20px; height: 20px;background-color: rgb(128, 128, 0);\"></td><td title=\"Index: [6, 3]&#10;Color: (128, 128, 0)\" style=\"width: 20px; height: 20px;background-color: rgb(128, 128, 0);\"></td><td title=\"Index: [7, 3]&#10;Color: (128, 128, 0)\" style=\"width: 20px; height: 20px;background-color: rgb(128, 128, 0);\"></td><td title=\"Index: [8, 3]&#10;Color: (128, 128, 0)\" style=\"width: 20px; height: 20px;background-color: rgb(128, 128, 0);\"></td><td title=\"Index: [9, 3]&#10;Color: (128, 128, 0)\" style=\"width: 20px; height: 20px;background-color: rgb(128, 128, 0);\"></td></tr><tr><td title=\"Index: [0, 2]&#10;Color: (255, 0, 0)\" style=\"width: 20px; height: 20px;background-color: rgb(255, 0, 0);\"></td><td title=\"Index: [1, 2]&#10;Color: (255, 0, 0)\" style=\"width: 20px; height: 20px;background-color: rgb(255, 0, 0);\"></td><td title=\"Index: [2, 2]&#10;Color: (128, 0, 255)\" style=\"width: 20px; height: 20px;background-color: rgb(128, 0, 255);\"></td><td title=\"Index: [3, 2]&#10;Color: (128, 128, 0)\" style=\"width: 20px; height: 20px;background-color: rgb(128, 128, 0);\"></td><td title=\"Index: [4, 2]&#10;Color: (128, 128, 0)\" style=\"width: 20px; height: 20px;background-color: rgb(128, 128, 0);\"></td><td title=\"Index: [5, 2]&#10;Color: (128, 128, 0)\" style=\"width: 20px; height: 20px;background-color: rgb(128, 128, 0);\"></td><td title=\"Index: [6, 2]&#10;Color: (128, 128, 0)\" style=\"width: 20px; height: 20px;background-color: rgb(128, 128, 0);\"></td><td title=\"Index: [7, 2]&#10;Color: (128, 128, 0)\" style=\"width: 20px; height: 20px;background-color: rgb(128, 128, 0);\"></td><td title=\"Index: [8, 2]&#10;Color: (128, 128, 0)\" style=\"width: 20px; height: 20px;background-color: rgb(128, 128, 0);\"></td><td title=\"Index: [9, 2]&#10;Color: (128, 128, 0)\" style=\"width: 20px; height: 20px;background-color: rgb(128, 128, 0);\"></td></tr><tr><td title=\"Index: [0, 1]&#10;Color: (255, 0, 0)\" style=\"width: 20px; height: 20px;background-color: rgb(255, 0, 0);\"></td><td title=\"Index: [1, 1]&#10;Color: (128, 0, 255)\" style=\"width: 20px; height: 20px;background-color: rgb(128, 0, 255);\"></td><td title=\"Index: [2, 1]&#10;Color: (128, 128, 0)\" style=\"width: 20px; height: 20px;background-color: rgb(128, 128, 0);\"></td><td title=\"Index: [3, 1]&#10;Color: (128, 128, 0)\" style=\"width: 20px; height: 20px;background-color: rgb(128, 128, 0);\"></td><td title=\"Index: [4, 1]&#10;Color: (128, 128, 0)\" style=\"width: 20px; height: 20px;background-color: rgb(128, 128, 0);\"></td><td title=\"Index: [5, 1]&#10;Color: (128, 128, 0)\" style=\"width: 20px; height: 20px;background-color: rgb(128, 128, 0);\"></td><td title=\"Index: [6, 1]&#10;Color: (128, 128, 0)\" style=\"width: 20px; height: 20px;background-color: rgb(128, 128, 0);\"></td><td title=\"Index: [7, 1]&#10;Color: (128, 128, 0)\" style=\"width: 20px; height: 20px;background-color: rgb(128, 128, 0);\"></td><td title=\"Index: [8, 1]&#10;Color: (128, 128, 0)\" style=\"width: 20px; height: 20px;background-color: rgb(128, 128, 0);\"></td><td title=\"Index: [9, 1]&#10;Color: (128, 128, 0)\" style=\"width: 20px; height: 20px;background-color: rgb(128, 128, 0);\"></td></tr><tr><td title=\"Index: [0, 0]&#10;Color: (128, 0, 255)\" style=\"width: 20px; height: 20px;background-color: rgb(128, 0, 255);\"></td><td title=\"Index: [1, 0]&#10;Color: (128, 128, 0)\" style=\"width: 20px; height: 20px;background-color: rgb(128, 128, 0);\"></td><td title=\"Index: [2, 0]&#10;Color: (128, 128, 0)\" style=\"width: 20px; height: 20px;background-color: rgb(128, 128, 0);\"></td><td title=\"Index: [3, 0]&#10;Color: (128, 128, 0)\" style=\"width: 20px; height: 20px;background-color: rgb(128, 128, 0);\"></td><td title=\"Index: [4, 0]&#10;Color: (128, 128, 0)\" style=\"width: 20px; height: 20px;background-color: rgb(128, 128, 0);\"></td><td title=\"Index: [5, 0]&#10;Color: (128, 128, 0)\" style=\"width: 20px; height: 20px;background-color: rgb(128, 128, 0);\"></td><td title=\"Index: [6, 0]&#10;Color: (128, 128, 0)\" style=\"width: 20px; height: 20px;background-color: rgb(128, 128, 0);\"></td><td title=\"Index: [7, 0]&#10;Color: (128, 128, 0)\" style=\"width: 20px; height: 20px;background-color: rgb(128, 128, 0);\"></td><td title=\"Index: [8, 0]&#10;Color: (128, 128, 0)\" style=\"width: 20px; height: 20px;background-color: rgb(128, 128, 0);\"></td><td title=\"Index: [9, 0]&#10;Color: (128, 128, 0)\" style=\"width: 20px; height: 20px;background-color: rgb(128, 128, 0);\"></td></tr></tbody></table>"
       ],
       "output_type": "display_data",
       "text": [
        "<IPython.core.display.HTML at 0x1024d6dd0>"
       ]
      }
     ],
     "prompt_number": 9
    },
    {
     "cell_type": "code",
     "collapsed": false,
     "input": [],
     "language": "python",
     "metadata": {},
     "outputs": []
    }
   ],
   "metadata": {}
  }
 ]
}