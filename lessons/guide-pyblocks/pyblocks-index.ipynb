{
 "metadata": {
  "name": "pyblocks-index"
 },
 "nbformat": 3,
 "nbformat_minor": 0,
 "worksheets": [
  {
   "cells": [
    {
     "cell_type": "heading",
     "level": 1,
     "metadata": {},
     "source": [
      "Basic Python Using IPythonBlocks"
     ]
    },
    {
     "cell_type": "heading",
     "level": 2,
     "metadata": {},
     "source": [
      "Indexing, Slicing, and Update Operators"
     ]
    },
    {
     "cell_type": "code",
     "collapsed": false,
     "input": [
      "print \"Darwin\"[2]"
     ],
     "language": "python",
     "metadata": {},
     "outputs": [
      {
       "output_type": "stream",
       "stream": "stdout",
       "text": [
        "r\n"
       ]
      }
     ],
     "prompt_number": 1
    },
    {
     "cell_type": "code",
     "collapsed": false,
     "input": [
      "print \"Darwin\"[999]"
     ],
     "language": "python",
     "metadata": {},
     "outputs": [
      {
       "ename": "IndexError",
       "evalue": "string index out of range",
       "output_type": "pyerr",
       "traceback": [
        "\u001b[0;31m---------------------------------------------------------------------------\u001b[0m\n\u001b[0;31mIndexError\u001b[0m                                Traceback (most recent call last)",
        "\u001b[0;32m<ipython-input-2-473773823293>\u001b[0m in \u001b[0;36m<module>\u001b[0;34m()\u001b[0m\n\u001b[0;32m----> 1\u001b[0;31m \u001b[0;32mprint\u001b[0m \u001b[0;34m\"Darwin\"\u001b[0m\u001b[0;34m[\u001b[0m\u001b[0;36m999\u001b[0m\u001b[0;34m]\u001b[0m\u001b[0;34m\u001b[0m\u001b[0m\n\u001b[0m",
        "\u001b[0;31mIndexError\u001b[0m: string index out of range"
       ]
      }
     ],
     "prompt_number": 2
    },
    {
     "cell_type": "code",
     "collapsed": false,
     "input": [
      "print \"Darwin\"[-1]"
     ],
     "language": "python",
     "metadata": {},
     "outputs": [
      {
       "output_type": "stream",
       "stream": "stdout",
       "text": [
        "n\n"
       ]
      }
     ],
     "prompt_number": 3
    },
    {
     "cell_type": "code",
     "collapsed": false,
     "input": [
      "name = \"Alan Turing\"\n",
      "print name[3:8]"
     ],
     "language": "python",
     "metadata": {},
     "outputs": [
      {
       "output_type": "stream",
       "stream": "stdout",
       "text": [
        "n Tur\n"
       ]
      }
     ],
     "prompt_number": 4
    },
    {
     "cell_type": "code",
     "collapsed": false,
     "input": [
      "print name[5:5]"
     ],
     "language": "python",
     "metadata": {},
     "outputs": [
      {
       "output_type": "stream",
       "stream": "stdout",
       "text": [
        "\n"
       ]
      }
     ],
     "prompt_number": 5
    },
    {
     "cell_type": "code",
     "collapsed": false,
     "input": [
      "print name[5:2]"
     ],
     "language": "python",
     "metadata": {},
     "outputs": [
      {
       "output_type": "stream",
       "stream": "stdout",
       "text": [
        "\n"
       ]
      }
     ],
     "prompt_number": 6
    },
    {
     "cell_type": "code",
     "collapsed": false,
     "input": [
      "print name[5:999]"
     ],
     "language": "python",
     "metadata": {},
     "outputs": [
      {
       "output_type": "stream",
       "stream": "stdout",
       "text": [
        "Turing\n"
       ]
      }
     ],
     "prompt_number": 7
    },
    {
     "cell_type": "code",
     "collapsed": false,
     "input": [
      "print name[5:-1]"
     ],
     "language": "python",
     "metadata": {},
     "outputs": [
      {
       "output_type": "stream",
       "stream": "stdout",
       "text": [
        "Turin\n"
       ]
      }
     ],
     "prompt_number": 8
    },
    {
     "cell_type": "code",
     "collapsed": false,
     "input": [
      "print name[1:-1]"
     ],
     "language": "python",
     "metadata": {},
     "outputs": [
      {
       "output_type": "stream",
       "stream": "stdout",
       "text": [
        "lan Turin\n"
       ]
      }
     ],
     "prompt_number": 9
    },
    {
     "cell_type": "code",
     "collapsed": false,
     "input": [
      "print name[:6]"
     ],
     "language": "python",
     "metadata": {},
     "outputs": [
      {
       "output_type": "stream",
       "stream": "stdout",
       "text": [
        "Alan T\n"
       ]
      }
     ],
     "prompt_number": 10
    },
    {
     "cell_type": "code",
     "collapsed": false,
     "input": [
      "print name[6:]"
     ],
     "language": "python",
     "metadata": {},
     "outputs": [
      {
       "output_type": "stream",
       "stream": "stdout",
       "text": [
        "uring\n"
       ]
      }
     ],
     "prompt_number": 11
    },
    {
     "cell_type": "code",
     "collapsed": false,
     "input": [
      "print name[:]"
     ],
     "language": "python",
     "metadata": {},
     "outputs": [
      {
       "output_type": "stream",
       "stream": "stdout",
       "text": [
        "Alan Turing\n"
       ]
      }
     ],
     "prompt_number": 12
    },
    {
     "cell_type": "code",
     "collapsed": false,
     "input": [
      "from ipythonblocks import ImageGrid\n",
      "grid = ImageGrid(5, 5)\n",
      "grid[0:3, 0:3] = (255, 0, 128)\n",
      "grid.show()"
     ],
     "language": "python",
     "metadata": {},
     "outputs": [
      {
       "html": [
        "<style type=\"text/css\">table.blockgrid {border: none;} .blockgrid tr {border: none;} .blockgrid td {padding: 0px;} #blocks704c4d85-74fd-4124-b94b-8ad7884c02c8 td {border: 1px solid white;}</style><table id=\"blocks704c4d85-74fd-4124-b94b-8ad7884c02c8\" class=\"blockgrid\"><tbody><tr><td title=\"Index: [0, 4]&#10;Color: (0, 0, 0)\" style=\"width: 20px; height: 20px;background-color: rgb(0, 0, 0);\"></td><td title=\"Index: [1, 4]&#10;Color: (0, 0, 0)\" style=\"width: 20px; height: 20px;background-color: rgb(0, 0, 0);\"></td><td title=\"Index: [2, 4]&#10;Color: (0, 0, 0)\" style=\"width: 20px; height: 20px;background-color: rgb(0, 0, 0);\"></td><td title=\"Index: [3, 4]&#10;Color: (0, 0, 0)\" style=\"width: 20px; height: 20px;background-color: rgb(0, 0, 0);\"></td><td title=\"Index: [4, 4]&#10;Color: (0, 0, 0)\" style=\"width: 20px; height: 20px;background-color: rgb(0, 0, 0);\"></td></tr><tr><td title=\"Index: [0, 3]&#10;Color: (0, 0, 0)\" style=\"width: 20px; height: 20px;background-color: rgb(0, 0, 0);\"></td><td title=\"Index: [1, 3]&#10;Color: (0, 0, 0)\" style=\"width: 20px; height: 20px;background-color: rgb(0, 0, 0);\"></td><td title=\"Index: [2, 3]&#10;Color: (0, 0, 0)\" style=\"width: 20px; height: 20px;background-color: rgb(0, 0, 0);\"></td><td title=\"Index: [3, 3]&#10;Color: (0, 0, 0)\" style=\"width: 20px; height: 20px;background-color: rgb(0, 0, 0);\"></td><td title=\"Index: [4, 3]&#10;Color: (0, 0, 0)\" style=\"width: 20px; height: 20px;background-color: rgb(0, 0, 0);\"></td></tr><tr><td title=\"Index: [0, 2]&#10;Color: (255, 0, 128)\" style=\"width: 20px; height: 20px;background-color: rgb(255, 0, 128);\"></td><td title=\"Index: [1, 2]&#10;Color: (255, 0, 128)\" style=\"width: 20px; height: 20px;background-color: rgb(255, 0, 128);\"></td><td title=\"Index: [2, 2]&#10;Color: (255, 0, 128)\" style=\"width: 20px; height: 20px;background-color: rgb(255, 0, 128);\"></td><td title=\"Index: [3, 2]&#10;Color: (0, 0, 0)\" style=\"width: 20px; height: 20px;background-color: rgb(0, 0, 0);\"></td><td title=\"Index: [4, 2]&#10;Color: (0, 0, 0)\" style=\"width: 20px; height: 20px;background-color: rgb(0, 0, 0);\"></td></tr><tr><td title=\"Index: [0, 1]&#10;Color: (255, 0, 128)\" style=\"width: 20px; height: 20px;background-color: rgb(255, 0, 128);\"></td><td title=\"Index: [1, 1]&#10;Color: (255, 0, 128)\" style=\"width: 20px; height: 20px;background-color: rgb(255, 0, 128);\"></td><td title=\"Index: [2, 1]&#10;Color: (255, 0, 128)\" style=\"width: 20px; height: 20px;background-color: rgb(255, 0, 128);\"></td><td title=\"Index: [3, 1]&#10;Color: (0, 0, 0)\" style=\"width: 20px; height: 20px;background-color: rgb(0, 0, 0);\"></td><td title=\"Index: [4, 1]&#10;Color: (0, 0, 0)\" style=\"width: 20px; height: 20px;background-color: rgb(0, 0, 0);\"></td></tr><tr><td title=\"Index: [0, 0]&#10;Color: (255, 0, 128)\" style=\"width: 20px; height: 20px;background-color: rgb(255, 0, 128);\"></td><td title=\"Index: [1, 0]&#10;Color: (255, 0, 128)\" style=\"width: 20px; height: 20px;background-color: rgb(255, 0, 128);\"></td><td title=\"Index: [2, 0]&#10;Color: (255, 0, 128)\" style=\"width: 20px; height: 20px;background-color: rgb(255, 0, 128);\"></td><td title=\"Index: [3, 0]&#10;Color: (0, 0, 0)\" style=\"width: 20px; height: 20px;background-color: rgb(0, 0, 0);\"></td><td title=\"Index: [4, 0]&#10;Color: (0, 0, 0)\" style=\"width: 20px; height: 20px;background-color: rgb(0, 0, 0);\"></td></tr></tbody></table>"
       ],
       "output_type": "display_data",
       "text": [
        "<IPython.core.display.HTML at 0x100442b50>"
       ]
      }
     ],
     "prompt_number": 13
    },
    {
     "cell_type": "code",
     "collapsed": false,
     "input": [
      "grid = ImageGrid(8, 8, fill=(255, 128, 0))\n",
      "grid[0:8:3, :] = (0, 128, 255)\n",
      "grid.show()"
     ],
     "language": "python",
     "metadata": {},
     "outputs": [
      {
       "html": [
        "<style type=\"text/css\">table.blockgrid {border: none;} .blockgrid tr {border: none;} .blockgrid td {padding: 0px;} #blocks5a743dc9-f075-4e87-a4a7-4ad8aa03604c td {border: 1px solid white;}</style><table id=\"blocks5a743dc9-f075-4e87-a4a7-4ad8aa03604c\" class=\"blockgrid\"><tbody><tr><td title=\"Index: [0, 7]&#10;Color: (0, 128, 255)\" style=\"width: 20px; height: 20px;background-color: rgb(0, 128, 255);\"></td><td title=\"Index: [1, 7]&#10;Color: (255, 128, 0)\" style=\"width: 20px; height: 20px;background-color: rgb(255, 128, 0);\"></td><td title=\"Index: [2, 7]&#10;Color: (255, 128, 0)\" style=\"width: 20px; height: 20px;background-color: rgb(255, 128, 0);\"></td><td title=\"Index: [3, 7]&#10;Color: (0, 128, 255)\" style=\"width: 20px; height: 20px;background-color: rgb(0, 128, 255);\"></td><td title=\"Index: [4, 7]&#10;Color: (255, 128, 0)\" style=\"width: 20px; height: 20px;background-color: rgb(255, 128, 0);\"></td><td title=\"Index: [5, 7]&#10;Color: (255, 128, 0)\" style=\"width: 20px; height: 20px;background-color: rgb(255, 128, 0);\"></td><td title=\"Index: [6, 7]&#10;Color: (0, 128, 255)\" style=\"width: 20px; height: 20px;background-color: rgb(0, 128, 255);\"></td><td title=\"Index: [7, 7]&#10;Color: (255, 128, 0)\" style=\"width: 20px; height: 20px;background-color: rgb(255, 128, 0);\"></td></tr><tr><td title=\"Index: [0, 6]&#10;Color: (0, 128, 255)\" style=\"width: 20px; height: 20px;background-color: rgb(0, 128, 255);\"></td><td title=\"Index: [1, 6]&#10;Color: (255, 128, 0)\" style=\"width: 20px; height: 20px;background-color: rgb(255, 128, 0);\"></td><td title=\"Index: [2, 6]&#10;Color: (255, 128, 0)\" style=\"width: 20px; height: 20px;background-color: rgb(255, 128, 0);\"></td><td title=\"Index: [3, 6]&#10;Color: (0, 128, 255)\" style=\"width: 20px; height: 20px;background-color: rgb(0, 128, 255);\"></td><td title=\"Index: [4, 6]&#10;Color: (255, 128, 0)\" style=\"width: 20px; height: 20px;background-color: rgb(255, 128, 0);\"></td><td title=\"Index: [5, 6]&#10;Color: (255, 128, 0)\" style=\"width: 20px; height: 20px;background-color: rgb(255, 128, 0);\"></td><td title=\"Index: [6, 6]&#10;Color: (0, 128, 255)\" style=\"width: 20px; height: 20px;background-color: rgb(0, 128, 255);\"></td><td title=\"Index: [7, 6]&#10;Color: (255, 128, 0)\" style=\"width: 20px; height: 20px;background-color: rgb(255, 128, 0);\"></td></tr><tr><td title=\"Index: [0, 5]&#10;Color: (0, 128, 255)\" style=\"width: 20px; height: 20px;background-color: rgb(0, 128, 255);\"></td><td title=\"Index: [1, 5]&#10;Color: (255, 128, 0)\" style=\"width: 20px; height: 20px;background-color: rgb(255, 128, 0);\"></td><td title=\"Index: [2, 5]&#10;Color: (255, 128, 0)\" style=\"width: 20px; height: 20px;background-color: rgb(255, 128, 0);\"></td><td title=\"Index: [3, 5]&#10;Color: (0, 128, 255)\" style=\"width: 20px; height: 20px;background-color: rgb(0, 128, 255);\"></td><td title=\"Index: [4, 5]&#10;Color: (255, 128, 0)\" style=\"width: 20px; height: 20px;background-color: rgb(255, 128, 0);\"></td><td title=\"Index: [5, 5]&#10;Color: (255, 128, 0)\" style=\"width: 20px; height: 20px;background-color: rgb(255, 128, 0);\"></td><td title=\"Index: [6, 5]&#10;Color: (0, 128, 255)\" style=\"width: 20px; height: 20px;background-color: rgb(0, 128, 255);\"></td><td title=\"Index: [7, 5]&#10;Color: (255, 128, 0)\" style=\"width: 20px; height: 20px;background-color: rgb(255, 128, 0);\"></td></tr><tr><td title=\"Index: [0, 4]&#10;Color: (0, 128, 255)\" style=\"width: 20px; height: 20px;background-color: rgb(0, 128, 255);\"></td><td title=\"Index: [1, 4]&#10;Color: (255, 128, 0)\" style=\"width: 20px; height: 20px;background-color: rgb(255, 128, 0);\"></td><td title=\"Index: [2, 4]&#10;Color: (255, 128, 0)\" style=\"width: 20px; height: 20px;background-color: rgb(255, 128, 0);\"></td><td title=\"Index: [3, 4]&#10;Color: (0, 128, 255)\" style=\"width: 20px; height: 20px;background-color: rgb(0, 128, 255);\"></td><td title=\"Index: [4, 4]&#10;Color: (255, 128, 0)\" style=\"width: 20px; height: 20px;background-color: rgb(255, 128, 0);\"></td><td title=\"Index: [5, 4]&#10;Color: (255, 128, 0)\" style=\"width: 20px; height: 20px;background-color: rgb(255, 128, 0);\"></td><td title=\"Index: [6, 4]&#10;Color: (0, 128, 255)\" style=\"width: 20px; height: 20px;background-color: rgb(0, 128, 255);\"></td><td title=\"Index: [7, 4]&#10;Color: (255, 128, 0)\" style=\"width: 20px; height: 20px;background-color: rgb(255, 128, 0);\"></td></tr><tr><td title=\"Index: [0, 3]&#10;Color: (0, 128, 255)\" style=\"width: 20px; height: 20px;background-color: rgb(0, 128, 255);\"></td><td title=\"Index: [1, 3]&#10;Color: (255, 128, 0)\" style=\"width: 20px; height: 20px;background-color: rgb(255, 128, 0);\"></td><td title=\"Index: [2, 3]&#10;Color: (255, 128, 0)\" style=\"width: 20px; height: 20px;background-color: rgb(255, 128, 0);\"></td><td title=\"Index: [3, 3]&#10;Color: (0, 128, 255)\" style=\"width: 20px; height: 20px;background-color: rgb(0, 128, 255);\"></td><td title=\"Index: [4, 3]&#10;Color: (255, 128, 0)\" style=\"width: 20px; height: 20px;background-color: rgb(255, 128, 0);\"></td><td title=\"Index: [5, 3]&#10;Color: (255, 128, 0)\" style=\"width: 20px; height: 20px;background-color: rgb(255, 128, 0);\"></td><td title=\"Index: [6, 3]&#10;Color: (0, 128, 255)\" style=\"width: 20px; height: 20px;background-color: rgb(0, 128, 255);\"></td><td title=\"Index: [7, 3]&#10;Color: (255, 128, 0)\" style=\"width: 20px; height: 20px;background-color: rgb(255, 128, 0);\"></td></tr><tr><td title=\"Index: [0, 2]&#10;Color: (0, 128, 255)\" style=\"width: 20px; height: 20px;background-color: rgb(0, 128, 255);\"></td><td title=\"Index: [1, 2]&#10;Color: (255, 128, 0)\" style=\"width: 20px; height: 20px;background-color: rgb(255, 128, 0);\"></td><td title=\"Index: [2, 2]&#10;Color: (255, 128, 0)\" style=\"width: 20px; height: 20px;background-color: rgb(255, 128, 0);\"></td><td title=\"Index: [3, 2]&#10;Color: (0, 128, 255)\" style=\"width: 20px; height: 20px;background-color: rgb(0, 128, 255);\"></td><td title=\"Index: [4, 2]&#10;Color: (255, 128, 0)\" style=\"width: 20px; height: 20px;background-color: rgb(255, 128, 0);\"></td><td title=\"Index: [5, 2]&#10;Color: (255, 128, 0)\" style=\"width: 20px; height: 20px;background-color: rgb(255, 128, 0);\"></td><td title=\"Index: [6, 2]&#10;Color: (0, 128, 255)\" style=\"width: 20px; height: 20px;background-color: rgb(0, 128, 255);\"></td><td title=\"Index: [7, 2]&#10;Color: (255, 128, 0)\" style=\"width: 20px; height: 20px;background-color: rgb(255, 128, 0);\"></td></tr><tr><td title=\"Index: [0, 1]&#10;Color: (0, 128, 255)\" style=\"width: 20px; height: 20px;background-color: rgb(0, 128, 255);\"></td><td title=\"Index: [1, 1]&#10;Color: (255, 128, 0)\" style=\"width: 20px; height: 20px;background-color: rgb(255, 128, 0);\"></td><td title=\"Index: [2, 1]&#10;Color: (255, 128, 0)\" style=\"width: 20px; height: 20px;background-color: rgb(255, 128, 0);\"></td><td title=\"Index: [3, 1]&#10;Color: (0, 128, 255)\" style=\"width: 20px; height: 20px;background-color: rgb(0, 128, 255);\"></td><td title=\"Index: [4, 1]&#10;Color: (255, 128, 0)\" style=\"width: 20px; height: 20px;background-color: rgb(255, 128, 0);\"></td><td title=\"Index: [5, 1]&#10;Color: (255, 128, 0)\" style=\"width: 20px; height: 20px;background-color: rgb(255, 128, 0);\"></td><td title=\"Index: [6, 1]&#10;Color: (0, 128, 255)\" style=\"width: 20px; height: 20px;background-color: rgb(0, 128, 255);\"></td><td title=\"Index: [7, 1]&#10;Color: (255, 128, 0)\" style=\"width: 20px; height: 20px;background-color: rgb(255, 128, 0);\"></td></tr><tr><td title=\"Index: [0, 0]&#10;Color: (0, 128, 255)\" style=\"width: 20px; height: 20px;background-color: rgb(0, 128, 255);\"></td><td title=\"Index: [1, 0]&#10;Color: (255, 128, 0)\" style=\"width: 20px; height: 20px;background-color: rgb(255, 128, 0);\"></td><td title=\"Index: [2, 0]&#10;Color: (255, 128, 0)\" style=\"width: 20px; height: 20px;background-color: rgb(255, 128, 0);\"></td><td title=\"Index: [3, 0]&#10;Color: (0, 128, 255)\" style=\"width: 20px; height: 20px;background-color: rgb(0, 128, 255);\"></td><td title=\"Index: [4, 0]&#10;Color: (255, 128, 0)\" style=\"width: 20px; height: 20px;background-color: rgb(255, 128, 0);\"></td><td title=\"Index: [5, 0]&#10;Color: (255, 128, 0)\" style=\"width: 20px; height: 20px;background-color: rgb(255, 128, 0);\"></td><td title=\"Index: [6, 0]&#10;Color: (0, 128, 255)\" style=\"width: 20px; height: 20px;background-color: rgb(0, 128, 255);\"></td><td title=\"Index: [7, 0]&#10;Color: (255, 128, 0)\" style=\"width: 20px; height: 20px;background-color: rgb(255, 128, 0);\"></td></tr></tbody></table>"
       ],
       "output_type": "display_data",
       "text": [
        "<IPython.core.display.HTML at 0x102f00e10>"
       ]
      }
     ],
     "prompt_number": 17
    },
    {
     "cell_type": "code",
     "collapsed": false,
     "input": [
      "grid[:, ::2] = (255, 0, 128)\n",
      "grid.show()"
     ],
     "language": "python",
     "metadata": {},
     "outputs": [
      {
       "html": [
        "<style type=\"text/css\">table.blockgrid {border: none;} .blockgrid tr {border: none;} .blockgrid td {padding: 0px;} #blocks847c6440-72cd-4cd8-a10d-4ef490fadc5f td {border: 1px solid white;}</style><table id=\"blocks847c6440-72cd-4cd8-a10d-4ef490fadc5f\" class=\"blockgrid\"><tbody><tr><td title=\"Index: [0, 7]&#10;Color: (0, 128, 255)\" style=\"width: 20px; height: 20px;background-color: rgb(0, 128, 255);\"></td><td title=\"Index: [1, 7]&#10;Color: (255, 128, 0)\" style=\"width: 20px; height: 20px;background-color: rgb(255, 128, 0);\"></td><td title=\"Index: [2, 7]&#10;Color: (255, 128, 0)\" style=\"width: 20px; height: 20px;background-color: rgb(255, 128, 0);\"></td><td title=\"Index: [3, 7]&#10;Color: (0, 128, 255)\" style=\"width: 20px; height: 20px;background-color: rgb(0, 128, 255);\"></td><td title=\"Index: [4, 7]&#10;Color: (255, 128, 0)\" style=\"width: 20px; height: 20px;background-color: rgb(255, 128, 0);\"></td><td title=\"Index: [5, 7]&#10;Color: (255, 128, 0)\" style=\"width: 20px; height: 20px;background-color: rgb(255, 128, 0);\"></td><td title=\"Index: [6, 7]&#10;Color: (0, 128, 255)\" style=\"width: 20px; height: 20px;background-color: rgb(0, 128, 255);\"></td><td title=\"Index: [7, 7]&#10;Color: (255, 128, 0)\" style=\"width: 20px; height: 20px;background-color: rgb(255, 128, 0);\"></td></tr><tr><td title=\"Index: [0, 6]&#10;Color: (255, 0, 128)\" style=\"width: 20px; height: 20px;background-color: rgb(255, 0, 128);\"></td><td title=\"Index: [1, 6]&#10;Color: (255, 0, 128)\" style=\"width: 20px; height: 20px;background-color: rgb(255, 0, 128);\"></td><td title=\"Index: [2, 6]&#10;Color: (255, 0, 128)\" style=\"width: 20px; height: 20px;background-color: rgb(255, 0, 128);\"></td><td title=\"Index: [3, 6]&#10;Color: (255, 0, 128)\" style=\"width: 20px; height: 20px;background-color: rgb(255, 0, 128);\"></td><td title=\"Index: [4, 6]&#10;Color: (255, 0, 128)\" style=\"width: 20px; height: 20px;background-color: rgb(255, 0, 128);\"></td><td title=\"Index: [5, 6]&#10;Color: (255, 0, 128)\" style=\"width: 20px; height: 20px;background-color: rgb(255, 0, 128);\"></td><td title=\"Index: [6, 6]&#10;Color: (255, 0, 128)\" style=\"width: 20px; height: 20px;background-color: rgb(255, 0, 128);\"></td><td title=\"Index: [7, 6]&#10;Color: (255, 0, 128)\" style=\"width: 20px; height: 20px;background-color: rgb(255, 0, 128);\"></td></tr><tr><td title=\"Index: [0, 5]&#10;Color: (0, 128, 255)\" style=\"width: 20px; height: 20px;background-color: rgb(0, 128, 255);\"></td><td title=\"Index: [1, 5]&#10;Color: (255, 128, 0)\" style=\"width: 20px; height: 20px;background-color: rgb(255, 128, 0);\"></td><td title=\"Index: [2, 5]&#10;Color: (255, 128, 0)\" style=\"width: 20px; height: 20px;background-color: rgb(255, 128, 0);\"></td><td title=\"Index: [3, 5]&#10;Color: (0, 128, 255)\" style=\"width: 20px; height: 20px;background-color: rgb(0, 128, 255);\"></td><td title=\"Index: [4, 5]&#10;Color: (255, 128, 0)\" style=\"width: 20px; height: 20px;background-color: rgb(255, 128, 0);\"></td><td title=\"Index: [5, 5]&#10;Color: (255, 128, 0)\" style=\"width: 20px; height: 20px;background-color: rgb(255, 128, 0);\"></td><td title=\"Index: [6, 5]&#10;Color: (0, 128, 255)\" style=\"width: 20px; height: 20px;background-color: rgb(0, 128, 255);\"></td><td title=\"Index: [7, 5]&#10;Color: (255, 128, 0)\" style=\"width: 20px; height: 20px;background-color: rgb(255, 128, 0);\"></td></tr><tr><td title=\"Index: [0, 4]&#10;Color: (255, 0, 128)\" style=\"width: 20px; height: 20px;background-color: rgb(255, 0, 128);\"></td><td title=\"Index: [1, 4]&#10;Color: (255, 0, 128)\" style=\"width: 20px; height: 20px;background-color: rgb(255, 0, 128);\"></td><td title=\"Index: [2, 4]&#10;Color: (255, 0, 128)\" style=\"width: 20px; height: 20px;background-color: rgb(255, 0, 128);\"></td><td title=\"Index: [3, 4]&#10;Color: (255, 0, 128)\" style=\"width: 20px; height: 20px;background-color: rgb(255, 0, 128);\"></td><td title=\"Index: [4, 4]&#10;Color: (255, 0, 128)\" style=\"width: 20px; height: 20px;background-color: rgb(255, 0, 128);\"></td><td title=\"Index: [5, 4]&#10;Color: (255, 0, 128)\" style=\"width: 20px; height: 20px;background-color: rgb(255, 0, 128);\"></td><td title=\"Index: [6, 4]&#10;Color: (255, 0, 128)\" style=\"width: 20px; height: 20px;background-color: rgb(255, 0, 128);\"></td><td title=\"Index: [7, 4]&#10;Color: (255, 0, 128)\" style=\"width: 20px; height: 20px;background-color: rgb(255, 0, 128);\"></td></tr><tr><td title=\"Index: [0, 3]&#10;Color: (0, 128, 255)\" style=\"width: 20px; height: 20px;background-color: rgb(0, 128, 255);\"></td><td title=\"Index: [1, 3]&#10;Color: (255, 128, 0)\" style=\"width: 20px; height: 20px;background-color: rgb(255, 128, 0);\"></td><td title=\"Index: [2, 3]&#10;Color: (255, 128, 0)\" style=\"width: 20px; height: 20px;background-color: rgb(255, 128, 0);\"></td><td title=\"Index: [3, 3]&#10;Color: (0, 128, 255)\" style=\"width: 20px; height: 20px;background-color: rgb(0, 128, 255);\"></td><td title=\"Index: [4, 3]&#10;Color: (255, 128, 0)\" style=\"width: 20px; height: 20px;background-color: rgb(255, 128, 0);\"></td><td title=\"Index: [5, 3]&#10;Color: (255, 128, 0)\" style=\"width: 20px; height: 20px;background-color: rgb(255, 128, 0);\"></td><td title=\"Index: [6, 3]&#10;Color: (0, 128, 255)\" style=\"width: 20px; height: 20px;background-color: rgb(0, 128, 255);\"></td><td title=\"Index: [7, 3]&#10;Color: (255, 128, 0)\" style=\"width: 20px; height: 20px;background-color: rgb(255, 128, 0);\"></td></tr><tr><td title=\"Index: [0, 2]&#10;Color: (255, 0, 128)\" style=\"width: 20px; height: 20px;background-color: rgb(255, 0, 128);\"></td><td title=\"Index: [1, 2]&#10;Color: (255, 0, 128)\" style=\"width: 20px; height: 20px;background-color: rgb(255, 0, 128);\"></td><td title=\"Index: [2, 2]&#10;Color: (255, 0, 128)\" style=\"width: 20px; height: 20px;background-color: rgb(255, 0, 128);\"></td><td title=\"Index: [3, 2]&#10;Color: (255, 0, 128)\" style=\"width: 20px; height: 20px;background-color: rgb(255, 0, 128);\"></td><td title=\"Index: [4, 2]&#10;Color: (255, 0, 128)\" style=\"width: 20px; height: 20px;background-color: rgb(255, 0, 128);\"></td><td title=\"Index: [5, 2]&#10;Color: (255, 0, 128)\" style=\"width: 20px; height: 20px;background-color: rgb(255, 0, 128);\"></td><td title=\"Index: [6, 2]&#10;Color: (255, 0, 128)\" style=\"width: 20px; height: 20px;background-color: rgb(255, 0, 128);\"></td><td title=\"Index: [7, 2]&#10;Color: (255, 0, 128)\" style=\"width: 20px; height: 20px;background-color: rgb(255, 0, 128);\"></td></tr><tr><td title=\"Index: [0, 1]&#10;Color: (0, 128, 255)\" style=\"width: 20px; height: 20px;background-color: rgb(0, 128, 255);\"></td><td title=\"Index: [1, 1]&#10;Color: (255, 128, 0)\" style=\"width: 20px; height: 20px;background-color: rgb(255, 128, 0);\"></td><td title=\"Index: [2, 1]&#10;Color: (255, 128, 0)\" style=\"width: 20px; height: 20px;background-color: rgb(255, 128, 0);\"></td><td title=\"Index: [3, 1]&#10;Color: (0, 128, 255)\" style=\"width: 20px; height: 20px;background-color: rgb(0, 128, 255);\"></td><td title=\"Index: [4, 1]&#10;Color: (255, 128, 0)\" style=\"width: 20px; height: 20px;background-color: rgb(255, 128, 0);\"></td><td title=\"Index: [5, 1]&#10;Color: (255, 128, 0)\" style=\"width: 20px; height: 20px;background-color: rgb(255, 128, 0);\"></td><td title=\"Index: [6, 1]&#10;Color: (0, 128, 255)\" style=\"width: 20px; height: 20px;background-color: rgb(0, 128, 255);\"></td><td title=\"Index: [7, 1]&#10;Color: (255, 128, 0)\" style=\"width: 20px; height: 20px;background-color: rgb(255, 128, 0);\"></td></tr><tr><td title=\"Index: [0, 0]&#10;Color: (255, 0, 128)\" style=\"width: 20px; height: 20px;background-color: rgb(255, 0, 128);\"></td><td title=\"Index: [1, 0]&#10;Color: (255, 0, 128)\" style=\"width: 20px; height: 20px;background-color: rgb(255, 0, 128);\"></td><td title=\"Index: [2, 0]&#10;Color: (255, 0, 128)\" style=\"width: 20px; height: 20px;background-color: rgb(255, 0, 128);\"></td><td title=\"Index: [3, 0]&#10;Color: (255, 0, 128)\" style=\"width: 20px; height: 20px;background-color: rgb(255, 0, 128);\"></td><td title=\"Index: [4, 0]&#10;Color: (255, 0, 128)\" style=\"width: 20px; height: 20px;background-color: rgb(255, 0, 128);\"></td><td title=\"Index: [5, 0]&#10;Color: (255, 0, 128)\" style=\"width: 20px; height: 20px;background-color: rgb(255, 0, 128);\"></td><td title=\"Index: [6, 0]&#10;Color: (255, 0, 128)\" style=\"width: 20px; height: 20px;background-color: rgb(255, 0, 128);\"></td><td title=\"Index: [7, 0]&#10;Color: (255, 0, 128)\" style=\"width: 20px; height: 20px;background-color: rgb(255, 0, 128);\"></td></tr></tbody></table>"
       ],
       "output_type": "display_data",
       "text": [
        "<IPython.core.display.HTML at 0x102b85410>"
       ]
      }
     ],
     "prompt_number": 19
    },
    {
     "cell_type": "code",
     "collapsed": false,
     "input": [],
     "language": "python",
     "metadata": {},
     "outputs": []
    }
   ],
   "metadata": {}
  }
 ]
}