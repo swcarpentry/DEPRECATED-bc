{
 "metadata": {
  "name": ""
 },
 "nbformat": 3,
 "nbformat_minor": 0,
 "worksheets": [
  {
   "cells": [
    {
     "cell_type": "markdown",
     "metadata": {},
     "source": [
      "# Documentation\n",
      "\n",
      "**Material by Anthony Scopatz**\n",
      "\n",
      "Just like version control and testing, documenting your code is the most\n",
      "important thing you can do as a software developer. As we have seen in\n",
      "previous sessions with other tools, good documentation is a sublime\n",
      "experience that should permeate your code.\n",
      "\n",
      "Documentation is important because it is [the only way that 90% of\n",
      "people will ever interact with you or your\n",
      "code](http://blip.tv/pycon-us-videos-2009-2010-2011/pycon-2011-writing-great-documentation-4899042).\n",
      "In fact, it is the only way that scales up; there are only so many\n",
      "emails that you can write.\n",
      "\n",
      "What is disturbing is that documentation is a forgotten after thought\n",
      "for most developers. It turns out that being able to write software and\n",
      "being able to write in your primary spoken language are different\n",
      "skills. Luckily, we are academics so it is in our nature to publish /\n",
      "write. We have no excuse for bad documentation."
     ]
    },
    {
     "cell_type": "markdown",
     "metadata": {},
     "source": [
      "## The Many Stages of Documentation\n",
      "\n",
      "1.  Readmes\n",
      "2.  User Guides\n",
      "3.  Developer Guides\n",
      "4.  Self-Documenting Code\n",
      "5.  Code Comments\n",
      "6.  API Documentation\n",
      "7.  Auto-Documentation"
     ]
    },
    {
     "cell_type": "markdown",
     "metadata": {},
     "source": [
      "## Readmes\n",
      "\n",
      "The omnipresent `README` file is typically a plain text file that sits\n",
      "next to the code. They typically may contain markup but are often quite\n",
      "terse. The point of a readme file is to provide only the most basic of\n",
      "information to the user / developer.\n",
      "\n",
      "Readme files are so common that GitHub will render and display the\n",
      "readme file for all directories whenever you are browsing a source tree.\n",
      "Even Linux itself has a readme:\n",
      "\n",
      "> Linux kernel release 3.x <http://kernel.org/>\n",
      ">\n",
      "> These are the release notes for Linux version 3. Read them carefully,\n",
      "> as they tell you what this is all about, explain how to install the\n",
      "> kernel, and what to do if something goes wrong.\n",
      ">\n",
      "> WHAT IS LINUX?\n",
      ">\n",
      "> Linux is a clone of the operating system Unix, written from scratch\n",
      "> by Linus Torvalds with assistance from a loosely-knit team of\n",
      "> hackers across the Net. It aims towards POSIX and Single UNIX\n",
      "> Specification compliance.\n",
      "> \n",
      "> It has all the features you would expect in a modern fully-fledged\n",
      "> Unix, including true multitasking, virtual memory, shared libraries,\n",
      "> demand loading, shared copy-on-write executables, proper memory\n",
      "> management, and multistack networking including IPv4 and IPv6.\n",
      "> \n",
      "> It is distributed under the GNU General Public License - see the\n",
      "> accompanying COPYING file for more details.\n",
      ">\n",
      "> ..."
     ]
    },
    {
     "cell_type": "markdown",
     "metadata": {},
     "source": [
      "## User's Guides\n",
      "\n",
      "The next level of documentation are user's guides. These often take the\n",
      "form of books or pdfs that aim to explain top level architecture and\n",
      "functionality to possibly novice users. Such documents are extremely\n",
      "helpful for bringing in new members to the community, going in depth\n",
      "into the theory (math, biology, physics, chemistry, engineering), and as\n",
      "a reference manual for advanced users and developers. However because of\n",
      "their high level nature, you typically have to wait until the code has\n",
      "stabilized to be able to write a good comprehensive user's guide.\n",
      "\n",
      "**Examples:**\n",
      "[FLASH](http://flash.uchicago.edu/site/flashcode/user_support/flash4b_ug.pdf),\n",
      "[NumPy](http://www.tramy.us/numpybook.pdf)."
     ]
    },
    {
     "cell_type": "markdown",
     "metadata": {},
     "source": [
      "## Developer Guides\n",
      "\n",
      "Developer guides are very similar to user's guides except that they\n",
      "assume a basic mastery of the project. They are typically for people who\n",
      "want to *become* developers on a project rather than for existing\n",
      "developers. They are probably most important for code projects that have\n",
      "plugin architectures and where the line between user and developer is\n",
      "less well defined.\n",
      "\n",
      "**Examples:** [Android](http://developer.android.com/guide/index.html),\n",
      "[Python](http://docs.python.org/devguide/)."
     ]
    },
    {
     "cell_type": "markdown",
     "metadata": {},
     "source": [
      "## Self-Documenting Code\n",
      "\n",
      "Much like in testing where you can simply write perfect code the first\n",
      "time, there is an analogous philosophy is documentation. This is the\n",
      "philosophy of [self-documenting\n",
      "code](http://c2.com/cgi/wiki?SelfDocumentingCode). This ethos makes the\n",
      "claim that it is often possible to write code in such a way that new\n",
      "readers can understand what the code does simply by reading it.\n",
      "Therefore, no extra documentation is required. It is all there in the\n",
      "code itself.\n",
      "\n",
      "While there are obvious pitfalls with this approach (assumed knowledge\n",
      "on the reader's behalf, unavoidable complexities, etc) there are some\n",
      "merits. By having meaningful naming conventions and structure it does\n",
      "become possible to infer a lot about a code just by glancing at it.\n",
      "Coding standards come from the same desire to have readable software.\n",
      "\n",
      "However using this documentation strategy exclusively is *highly*\n",
      "inadvisable."
     ]
    },
    {
     "cell_type": "markdown",
     "metadata": {},
     "source": [
      "## Code Comments\n",
      "\n",
      "Every language has a special character (or two) which indicate to the\n",
      "parser, compiler, or interpreter that whatever comes after or between\n",
      "these characters should be ignored. This allows the author to write\n",
      "annotate and explain the code that they are writing *right at the point\n",
      "that they are writing it!* This is especially helpful if something\n",
      "weird, obtuse, or obscure is about to happen because it gives the author\n",
      "a chance to explain themselves to future developers (often themselves in\n",
      "1, 2, 6 months).\n",
      "\n",
      "The best part is that you can put literally *anything* in comments:\n",
      "publication citations, ASCII art, messages to lost loves, and threats to\n",
      "your collaborators.\n",
      "\n",
      "In Python, the comment character is the hash symbol `#`. The following\n",
      "example shows how you might help explain a toaster:"
     ]
    },
    {
     "cell_type": "code",
     "collapsed": false,
     "input": [
      "def toast(slices, toastiness, msg=None):\n",
      "    # make sure the toaster has the right setting\n",
      "    toastiness = int(toastiness) if 0 < toastiness else 5\n",
      "\n",
      "    print \"Engage the bread warming!\"\n",
      "    for slice in slices:\n",
      "        slice.toast(toastiness)\n",
      "\n",
      "    # log the message, making a default if needed\n",
      "    if msg is None:\n",
      "        msg = \"Toasted to level {}\".format(toastiness)\n",
      "    logging.info(msg)"
     ],
     "language": "python",
     "metadata": {},
     "outputs": []
    },
    {
     "cell_type": "markdown",
     "metadata": {},
     "source": [
      "However, it is certainly possible to over-document your code with\n",
      "comments. Comments should never simply repeat what the code itself is\n",
      "doing. The goal is to strike the right balance. The appropriate ratio\n",
      "changes with language. (Typically higher level languages have greater\n",
      "functionality per line and so have more comments.) Try to avoid the\n",
      "following:"
     ]
    },
    {
     "cell_type": "code",
     "collapsed": false,
     "input": [
      "# init a to 0\n",
      "a = 0\n",
      "\n",
      "# make b 'a string'\n",
      "b = 'a string'\n",
      "\n",
      "# Add one to a\n",
      "a = a + 1\n",
      "\n",
      "# stopping excessive comments\n",
      "self.fall_on_sword()"
     ],
     "language": "python",
     "metadata": {},
     "outputs": []
    },
    {
     "cell_type": "markdown",
     "metadata": {},
     "source": [
      "## API Documentation\n",
      "\n",
      "The application programming interface (API) is the definition of the\n",
      "protocol that two pieces of code may use to interact with one another.\n",
      "Consider the case of functions. All functions have a function signature\n",
      "which specifies how many arguments they accept and their return values.\n",
      "This signature along with the module name and function name is the API.\n",
      "(The function object/pointer itself is the implementation and is\n",
      "independent of the abstract API.)\n",
      "\n",
      "Just because you have an argument list, however, does not imply that the\n",
      "meaning of the arguments is known. For example:"
     ]
    },
    {
     "cell_type": "code",
     "collapsed": false,
     "input": [
      "def f(a, b=10):\n",
      "    # ...\n",
      "    return"
     ],
     "language": "python",
     "metadata": {},
     "outputs": []
    },
    {
     "cell_type": "markdown",
     "metadata": {},
     "source": [
      "We know that `f()` accepts two argument `a` and `b` and that `b` should\n",
      "probably be an integer. But what does `f()` actually do? What do these\n",
      "arguments mean in this context?\n",
      "\n",
      "Python allows the user to define API documentation right at the\n",
      "function, class, module, or variable definition. Every Python object may\n",
      "have an `__doc__` attribute which is a string representation of the API\n",
      "docs. This is known as a *docstring*.\n",
      "[PEP257](http://www.python.org/dev/peps/pep-0257/) describes the\n",
      "conventions for docstrings. The most important of these is that simple\n",
      "things should have simple docstrings.\n",
      "\n",
      "Right below a definition, if the first non-comment, non-whitespace line\n",
      "is an unassigned string literal, then this string is automatically\n",
      "loaded in as the docstring. It is this docstring which then read by the\n",
      "`help()` built-in or the `?` in IPython."
     ]
    },
    {
     "cell_type": "code",
     "collapsed": false,
     "input": [
      "def mean(numlist):\n",
      "    \"\"\"Computes the mean of a list of numbers.\"\"\"\n",
      "    try:\n",
      "        total = sum(numlist)\n",
      "        length = len(numlist)\n",
      "    except ValueError:\n",
      "        print \"The number list was not a list of numbers.\"\n",
      "    except:\n",
      "        print \"There was a problem evaluating the number list.\"\n",
      "    return total/length\n",
      "\n",
      "\n",
      "def fib(n):\n",
      "    \"\"\"Determines the nth Fibonacci number where n is \n",
      "    a non-negative integer.\n",
      "    \"\"\"\n",
      "    if n < 0 or int(n) != n:\n",
      "        return NotImplemented\n",
      "    elif n == 0 or n == 1:\n",
      "        return n\n",
      "    else:\n",
      "        return fib(n - 1) + fib(n - 2)\n",
      "\n",
      "print help(mean)\n",
      "print fib.__doc__"
     ],
     "language": "python",
     "metadata": {},
     "outputs": []
    },
    {
     "cell_type": "markdown",
     "metadata": {},
     "source": [
      "Most Python docstrings are written in a markup language called\n",
      "[reStructuredText](http://sphinx.pocoo.org/rest.html) (rST). It is\n",
      "designed to be easy to read, extensible, and provide enough\n",
      "natural-looking syntax to be able to render nicely. For example, our\n",
      "toaster docstring might look like:"
     ]
    },
    {
     "cell_type": "code",
     "collapsed": false,
     "input": [
      "def toast(slices, toastiness, msg=None):\n",
      "    \"\"\"Toast some bread.\n",
      "\n",
      "    Parameters\n",
      "    ----------\n",
      "    slices : sequence of instance of partial bread\n",
      "        Slices to toast to toastiness level\n",
      "    toastiness : int\n",
      "        The desired toaster setting\n",
      "    msg : str, optional\n",
      "        A message for the toaster's usage log.\n",
      "\n",
      "    \"\"\"\n",
      "    # make sure the toaster has the right setting\n",
      "    toastiness = int(toastiness) if 0 < toastiness else 5\n",
      "\n",
      "    print \"Engage the bread warming!\"\n",
      "    for slice if slices:\n",
      "        slice.toast(toastiness)\n",
      "\n",
      "    # log the message, making a default if needed\n",
      "    if msg is None:\n",
      "        msg = \"Toasted to level {}\".format(toastiness)\n",
      "    logging.info(msg)"
     ],
     "language": "python",
     "metadata": {},
     "outputs": []
    },
    {
     "cell_type": "markdown",
     "metadata": {},
     "source": [
      "## Auto-Documentation\n",
      "\n",
      "Automatic documentation is the powerful concept that the comments and\n",
      "docstrings that the developer has already written can be scraped from\n",
      "the code base and placed on a website or into API documentation. This\n",
      "significantly reduces the overhead of having to write and maintain may\n",
      "documents which contain effectively the same information.\n",
      "\n",
      "Probably the three most popular auto-doc projects are\n",
      "[javadoc](http://www.oracle.com/technetwork/java/javase/documentation/index-jsp-135444.html)\n",
      "for Java, [dOxygen](http://www.stack.nl/~dimitri/doxygen/) for most\n",
      "compiled languages, and [sphinx](http://sphinx.pocoo.org/) for Python.\n",
      "\n",
      "You can build the sphinx documentation by running the following command\n",
      "and then navigating to the browser:\n",
      "\n",
      "    make html\n",
      "\n",
      "Note, that sphinx also allows you to build to other front ends, such as\n",
      "LaTeX.\n",
      "\n",
      "**Example:** Let's take a tour of sphinx now!"
     ]
    },
    {
     "cell_type": "markdown",
     "metadata": {},
     "source": [
      "## Exercise\n",
      "\n",
      "Add docstrings to the functions in the `close_line.py` module. Then,\n",
      "using sphinx, generate a website which auto-documents this module."
     ]
    }
   ],
   "metadata": {}
  }
 ]
}