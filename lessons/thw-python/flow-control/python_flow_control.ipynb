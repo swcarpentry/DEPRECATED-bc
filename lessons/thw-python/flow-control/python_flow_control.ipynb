{
 "metadata": {
  "name": ""
 },
 "nbformat": 3,
 "nbformat_minor": 0,
 "worksheets": [
  {
   "cells": [
    {
     "cell_type": "markdown",
     "metadata": {},
     "source": [
      "# Flow Control"
     ]
    },
    {
     "cell_type": "markdown",
     "metadata": {},
     "source": [
      "**Materials by: Joshua R. Smith, Milad Fatenejad, Katy Huff, Tommy Gyu, John Blischay and many more**"
     ]
    },
    {
     "cell_type": "markdown",
     "metadata": {},
     "source": [
      "In this lesson we will cover how to write code that will execute only if specified conditions are met and also how to automate repetitive tasks using loops."
     ]
    },
    {
     "cell_type": "markdown",
     "metadata": {},
     "source": [
      "# Comparisons\n",
      "\n",
      "Python comes with literal comparison operators.  Namely, `< > <= >= == !=`.  All comparisons return the lirteral boolean values: `True` or `False`.  These can be used to test values against one another. For example,"
     ]
    },
    {
     "cell_type": "code",
     "collapsed": false,
     "input": [
      "2 + 2 == 4"
     ],
     "language": "python",
     "metadata": {},
     "outputs": []
    },
    {
     "cell_type": "code",
     "collapsed": false,
     "input": [
      "'big' > 'small'"
     ],
     "language": "python",
     "metadata": {},
     "outputs": []
    },
    {
     "cell_type": "markdown",
     "metadata": {},
     "source": [
      "Comparisons can be chained together with the the **and** & **or** Python keywords."
     ]
    },
    {
     "cell_type": "code",
     "collapsed": false,
     "input": [
      "1 == 1.0 and 'hello' == 'hello'"
     ],
     "language": "python",
     "metadata": {},
     "outputs": []
    },
    {
     "cell_type": "code",
     "collapsed": false,
     "input": [
      "1 > 10 or False"
     ],
     "language": "python",
     "metadata": {},
     "outputs": []
    },
    {
     "cell_type": "code",
     "collapsed": false,
     "input": [
      "42 < 24 or True and 'wow' != 'mom'"
     ],
     "language": "python",
     "metadata": {},
     "outputs": []
    },
    {
     "cell_type": "markdown",
     "metadata": {},
     "source": [
      "Comparisons may also be negated using the **not** keyword."
     ]
    },
    {
     "cell_type": "code",
     "collapsed": false,
     "input": [
      "not 2 + 2 == 5"
     ],
     "language": "python",
     "metadata": {},
     "outputs": []
    },
    {
     "cell_type": "markdown",
     "metadata": {},
     "source": [
      "Finally, the **is** opperator says wherer two objects are the same because they occupy the same place in memory.  This is a test of *equality* (is) rather than *equivalence* (==)."
     ]
    },
    {
     "cell_type": "code",
     "collapsed": false,
     "input": [
      "x = [1, 2, 3]\n",
      "y = [1, 2, 3]\n",
      "x is y"
     ],
     "language": "python",
     "metadata": {},
     "outputs": []
    },
    {
     "cell_type": "code",
     "collapsed": false,
     "input": [
      "x = 'hello'\n",
      "y = x\n",
      "x is y"
     ],
     "language": "python",
     "metadata": {},
     "outputs": []
    },
    {
     "cell_type": "code",
     "collapsed": false,
     "input": [
      "5 is 5.0"
     ],
     "language": "python",
     "metadata": {},
     "outputs": []
    },
    {
     "cell_type": "code",
     "collapsed": false,
     "input": [
      "5 is not 5.0"
     ],
     "language": "python",
     "metadata": {},
     "outputs": []
    },
    {
     "cell_type": "markdown",
     "metadata": {},
     "source": [
      "# If statements\n",
      "\n",
      "That said, these comparisons can be placed inside of an **if** statement.  Such statements have the following form:\n",
      "\n",
      "    if <condition>:\n",
      "        <indented block of code>\n",
      "\n",
      "The indented code will only be execute if the condition evaulates to `True`, which is a special boolean value."
     ]
    },
    {
     "cell_type": "code",
     "collapsed": true,
     "input": [
      "x = 5\n",
      "if x < 0:\n",
      "    print \"x is negative\""
     ],
     "language": "python",
     "metadata": {},
     "outputs": []
    },
    {
     "cell_type": "code",
     "collapsed": true,
     "input": [
      "x = -5\n",
      "if x < 0:\n",
      "    print \"x is negative\""
     ],
     "language": "python",
     "metadata": {},
     "outputs": []
    },
    {
     "cell_type": "markdown",
     "metadata": {},
     "source": [
      "The **if** statement can be combined to great effect with a corresponding **else** clause. \n",
      "\n",
      "    if <condition>:\n",
      "        <if-block>\n",
      "    else:\n",
      "        <else-block>\n",
      "        \n",
      "When the condition is `True` the if-block is executed.  When the condition is `False` the else-block is executed instead."
     ]
    },
    {
     "cell_type": "code",
     "collapsed": true,
     "input": [
      "x = 5\n",
      "if x < 0:\n",
      "    print \"x is negative\"\n",
      "else:\n",
      "    print \"x in non-negative\""
     ],
     "language": "python",
     "metadata": {},
     "outputs": []
    },
    {
     "cell_type": "markdown",
     "metadata": {},
     "source": [
      "Many cases may be tested by using the **elif** statement.  These come between all the if and else statements:\n",
      "\n",
      "    if <if-condition>:\n",
      "        <if-block>\n",
      "    elif <elif-condition>:\n",
      "        <elif-block>\n",
      "    else:\n",
      "        <else-block>\n",
      "        \n",
      "When if-condition is true then only the if-block is executed.  When elif-condition is true then only the elif-block is executed.  When neither of these are true then the else-block is executed."
     ]
    },
    {
     "cell_type": "code",
     "collapsed": true,
     "input": [
      "x = 5\n",
      "if x < 0:\n",
      "    print \"x is negative\"\n",
      "elif x == 0:\n",
      "    print \"x is zero\"\n",
      "else:\n",
      "    print \"x is positive\""
     ],
     "language": "python",
     "metadata": {},
     "outputs": []
    },
    {
     "cell_type": "markdown",
     "metadata": {},
     "source": [
      "While there must be one if statetment, and there may be at most one else statement, there maybe as many elif statements as are desired.\n",
      "\n",
      "    if <if-condition>:\n",
      "        <if-block>\n",
      "    elif <elif-condition1>:\n",
      "        <elif-block1>\n",
      "    elif <elif-condition2>:\n",
      "        <elif-block2>\n",
      "    elif <elif-condition3>:\n",
      "        <elif-block3>\n",
      "    ...\n",
      "    else:\n",
      "        <else-block>\n",
      "        \n",
      "Only the block for top most condition that is true is executed."
     ]
    },
    {
     "cell_type": "code",
     "collapsed": false,
     "input": [
      "x = 5\n",
      "if x < 0:\n",
      "    print \"x is negative\"\n",
      "elif x == 0:\n",
      "    print \"x is zero\"\n",
      "elif x == 1:\n",
      "    print \"x is zero\"\n",
      "elif x == 2:\n",
      "    print \"x is two\"\n",
      "else:\n",
      "    print \"x is positive and greater than 2\""
     ],
     "language": "python",
     "metadata": {},
     "outputs": []
    },
    {
     "cell_type": "markdown",
     "metadata": {},
     "source": [
      "Be careful because the computer interprets comparisons very literally."
     ]
    },
    {
     "cell_type": "code",
     "collapsed": true,
     "input": [
      "'1' < 2"
     ],
     "language": "python",
     "metadata": {},
     "outputs": []
    },
    {
     "cell_type": "code",
     "collapsed": true,
     "input": [
      "True == 'True'"
     ],
     "language": "python",
     "metadata": {},
     "outputs": []
    },
    {
     "cell_type": "code",
     "collapsed": true,
     "input": [
      "False == 0"
     ],
     "language": "python",
     "metadata": {},
     "outputs": []
    },
    {
     "cell_type": "code",
     "collapsed": true,
     "input": [
      "'Bears' > 'Packers'"
     ],
     "language": "python",
     "metadata": {},
     "outputs": []
    },
    {
     "cell_type": "markdown",
     "metadata": {},
     "source": [
      "### Aside About Indentation\n",
      "\n",
      "The indentation is a feature of Python syntax. Some other programming languages use brackets to denote a command block. Python uses indentation. The amount of indentation doesn't matter, so long as everything in the same block is indented the same amount."
     ]
    },
    {
     "cell_type": "markdown",
     "metadata": {},
     "source": [
      "**Exercise:** Write an if statement that prints whether x is even or odd."
     ]
    },
    {
     "cell_type": "code",
     "collapsed": false,
     "input": [],
     "language": "python",
     "metadata": {},
     "outputs": []
    },
    {
     "cell_type": "markdown",
     "metadata": {},
     "source": [
      "# Loops\n",
      "\n",
      "Loops come in two flavors: **while** and **for**.  While loops have the following structure:\n",
      "\n",
      "    while <condition>:\n",
      "        <indented block of code>\n",
      "        \n",
      "As long as the condition is True, the code in the block will continue to execute.  This may lead to infitinely executing loops!"
     ]
    },
    {
     "cell_type": "code",
     "collapsed": true,
     "input": [
      "fruits = ['apples', 'oranges', 'pears', 'bananas']\n",
      "i = 0\n",
      "while i < len(fruits):\n",
      "    print fruits[i]\n",
      "    i = i + 1"
     ],
     "language": "python",
     "metadata": {},
     "outputs": []
    },
    {
     "cell_type": "markdown",
     "metadata": {},
     "source": [
      "Meanwhile, for-loops have the following structure:\n",
      "\n",
      "    for <loop variable name> in <iterable>:\n",
      "         <indented block of code>\n",
      "         \n",
      "The loop will continue to execute as long as there are more iterations left in the iterable.  Upon each iteration, the value of that iteration is assigned to the loop variable."
     ]
    },
    {
     "cell_type": "code",
     "collapsed": true,
     "input": [
      "for fruit in fruits:\n",
      "    print fruit"
     ],
     "language": "python",
     "metadata": {},
     "outputs": []
    },
    {
     "cell_type": "code",
     "collapsed": true,
     "input": [
      "# Use range for a range on integers\n",
      "for i in range(len(fruits)):\n",
      "    print i, fruits[i]"
     ],
     "language": "python",
     "metadata": {},
     "outputs": []
    },
    {
     "cell_type": "code",
     "collapsed": true,
     "input": [
      "# Use zip to iterate over two lists at once\n",
      "fruits = ['apples', 'oranges', 'pears', 'bananas']\n",
      "prices = [0.49, 0.99, 1.49, 0.32]\n",
      "for fruit, price in zip(fruits, prices):\n",
      "    print fruit, \"cost\", price, \"each\"\n",
      "    "
     ],
     "language": "python",
     "metadata": {},
     "outputs": []
    },
    {
     "cell_type": "code",
     "collapsed": true,
     "input": [
      "# Use \"items\" to iterate over a dictionary\n",
      "# Note the order is non-deterministic\n",
      "prices = {'apples': 0.49, 'oranges': 0.99, 'pears': 1.49, 'bananas': 0.32}\n",
      "for fruit, price in prices.items():\n",
      "    print fruit, \"cost\", price, \"each\"\n",
      "          "
     ],
     "language": "python",
     "metadata": {},
     "outputs": []
    },
    {
     "cell_type": "code",
     "collapsed": true,
     "input": [
      "# Calculating a sum\n",
      "values = [1254, 95818, 61813541, 1813, 4]\n",
      "total = 0\n",
      "for x in values:\n",
      "    total = total + x\n",
      "print total"
     ],
     "language": "python",
     "metadata": {},
     "outputs": []
    },
    {
     "cell_type": "markdown",
     "metadata": {},
     "source": [
      "## Short Exercise\n",
      "Using a loop, calculate the factorial of 42 (the product of all integers up to and including 42)."
     ]
    },
    {
     "cell_type": "markdown",
     "metadata": {},
     "source": [
      "## break, continue, and else\n",
      "\n",
      "A break statement cuts off a loop from within an inner loop. It helps\n",
      "avoid infinite loops by cutting off loops when they're clearly going\n",
      "nowhere."
     ]
    },
    {
     "cell_type": "code",
     "collapsed": true,
     "input": [
      "reasonable = 10\n",
      "for n in range(1,2000):\n",
      "    if n == reasonable :\n",
      "        break\n",
      "    print n"
     ],
     "language": "python",
     "metadata": {},
     "outputs": []
    },
    {
     "cell_type": "markdown",
     "metadata": {},
     "source": [
      "Something you might want to do instead of breaking is to continue to the\n",
      "next iteration of a loop, giving up on the current one."
     ]
    },
    {
     "cell_type": "code",
     "collapsed": true,
     "input": [
      "reasonable = 10\n",
      "for n in range(1,20):\n",
      "    if n == reasonable :\n",
      "      continue\n",
      "    print n"
     ],
     "language": "python",
     "metadata": {},
     "outputs": []
    },
    {
     "cell_type": "markdown",
     "metadata": {},
     "source": [
      "What is the difference between the output of these two?\n",
      "\n",
      "Importantly, Python allows you to use an else statement in a for loop.\n",
      "\n",
      "That is :"
     ]
    },
    {
     "cell_type": "code",
     "collapsed": true,
     "input": [
      "knights={\"Sir Belvedere\":\"the Wise\", \n",
      "         \"Sir Lancelot\":\"the Brave\", \n",
      "         \"Sir Galahad\":\"the Pure\", \n",
      "         \"Sir Robin\":\"the Brave\", \n",
      "         \"The Black Knight\":\"John Cleese\"} \n",
      "\n",
      "favorites=knights.keys()\n",
      "favorites.remove(\"Sir Robin\")\n",
      "for name, title in knights.iteritems() : \n",
      "    string = name + \", \"\n",
      "    for fav in favorites :\n",
      "        if fav == name :\n",
      "            string += title\n",
      "            break\n",
      "    else:\n",
      "        string += title + \", but not quite so brave as Sir Lancelot.\" \n",
      "    print string"
     ],
     "language": "python",
     "metadata": {},
     "outputs": []
    },
    {
     "cell_type": "markdown",
     "metadata": {},
     "source": [
      "# Reading from a file"
     ]
    },
    {
     "cell_type": "code",
     "collapsed": true,
     "input": [
      "my_file = open(\"example.txt\")\n",
      "for line in my_file:\n",
      "    print line.strip()\n",
      "my_file.close()"
     ],
     "language": "python",
     "metadata": {},
     "outputs": []
    },
    {
     "cell_type": "markdown",
     "metadata": {},
     "source": [
      "# Writing to a file"
     ]
    },
    {
     "cell_type": "code",
     "collapsed": true,
     "input": [
      "new_file = open(\"example2.txt\", \"w\")\n",
      "dwight = ['bears', 'beets', 'Battlestar Galactica']\n",
      "for i in dwight:\n",
      "    new_file.write(i + '\\n')\n",
      "new_file.close()"
     ],
     "language": "python",
     "metadata": {},
     "outputs": []
    },
    {
     "cell_type": "code",
     "collapsed": true,
     "input": [
      "genos_w_missing = ['AA', 'NA', 'GG', 'AG', 'AG', 'GG', 'NA']\n",
      "genos_w_missing_new = []\n",
      "# The missing data should not be converted to a number, but remain 'NA' in the new list"
     ],
     "language": "python",
     "metadata": {},
     "outputs": []
    },
    {
     "cell_type": "markdown",
     "metadata": {},
     "source": [
      "Check your work:"
     ]
    },
    {
     "cell_type": "code",
     "collapsed": false,
     "input": [
      "genos_w_missing_new == [0, 'NA', 2, 1, 1, 2, 'NA']"
     ],
     "language": "python",
     "metadata": {},
     "outputs": []
    },
    {
     "cell_type": "markdown",
     "metadata": {},
     "source": [
      "# List comprehensions\n",
      "Python has another way to perform iteration called list comprehensions."
     ]
    },
    {
     "cell_type": "code",
     "collapsed": false,
     "input": [
      "# Multiply every number in a list by 2 using a for loop\n",
      "nums1 = [5, 1, 3, 10]\n",
      "nums2 = []\n",
      "for i in range(len(nums1)):\n",
      "    nums2.append(nums1[i] * 2)\n",
      "    \n",
      "print nums2"
     ],
     "language": "python",
     "metadata": {},
     "outputs": []
    },
    {
     "cell_type": "code",
     "collapsed": false,
     "input": [
      "# Multiply every number in a list by 2 using a list comprehension\n",
      "nums2 = [x * 2 for x in nums1]\n",
      "\n",
      "print nums2"
     ],
     "language": "python",
     "metadata": {},
     "outputs": []
    },
    {
     "cell_type": "code",
     "collapsed": false,
     "input": [
      "# Multiply every number in a list by 2, but only if the number is greater than 4\n",
      "nums1 = [5, 1, 3, 10]\n",
      "nums2 = []\n",
      "for i in range(len(nums1)):\n",
      "    if nums1[i] > 4:\n",
      "        nums2.append(nums1[i] * 2)\n",
      "    \n",
      "print nums2"
     ],
     "language": "python",
     "metadata": {},
     "outputs": []
    },
    {
     "cell_type": "code",
     "collapsed": false,
     "input": [
      "# And using a list comprehension\n",
      "nums2 = [x * 2 for x in nums1 if x > 4]\n",
      "\n",
      "print nums2"
     ],
     "language": "python",
     "metadata": {},
     "outputs": []
    }
   ],
   "metadata": {}
  }
 ]
}