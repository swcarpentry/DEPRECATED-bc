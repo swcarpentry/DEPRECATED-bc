{
 "metadata": {
  "name": "tutorial"
 },
 "nbformat": 3,
 "nbformat_minor": 0,
 "worksheets": [
  {
   "cells": [
    {
     "cell_type": "markdown",
     "metadata": {},
     "source": [
      "# Strings\n",
      "\n",
      "**Prepared by Tommy Guy and Anthony Scopatz**\n",
      "\n",
      "Lesson goals:\n",
      "\n",
      "1.  Examine the string class in greater detail.\n",
      "2.  Use open() to open, read, and write to files.\n",
      "\n",
      "\n",
      "To start understanding the string type, let's use the built in help system."
     ]
    },
    {
     "cell_type": "code",
     "collapsed": false,
     "input": [
      "help(str)"
     ],
     "language": "python",
     "metadata": {},
     "outputs": []
    },
    {
     "cell_type": "markdown",
     "metadata": {},
     "source": [
      "The help page for string is very long, and it may be easier to keep it open\n",
      "in a browser window by going to the [online Python\n",
      "documentation for str](http://docs.python.org/2/library/functions.html#str) and the documentation for [sequence types](http://docs.python.org/library/stdtypes.html#sequence-types-str-unicode-list-tuple-bytearray-buffer-xrange)\n",
      "while we talk about its properties.\n",
      "\n",
      "At its heart, a string is just a sequence of characters. Basic strings are\n",
      "defined using single or double quotes."
     ]
    },
    {
     "cell_type": "code",
     "collapsed": false,
     "input": [
      "s = \"This is a string.\"\n",
      "s2 = 'This is another string that uses single quotes'"
     ],
     "language": "python",
     "metadata": {},
     "outputs": []
    },
    {
     "cell_type": "markdown",
     "metadata": {},
     "source": [
      "The reason for having two types of quotes to define a string is\n",
      "emphasized in these examples:"
     ]
    },
    {
     "cell_type": "code",
     "collapsed": false,
     "input": [
      "s = \"Bob's mom called to say hello.\"\n",
      "s = 'Bob's mom called to say hello.'"
     ],
     "language": "python",
     "metadata": {},
     "outputs": []
    },
    {
     "cell_type": "markdown",
     "metadata": {},
     "source": [
      "The second one should be an error: Python interprets it as `s = 'Bob'` then the\n",
      "rest of the line breaks the language standard.\n",
      "\n",
      "Characters in literal strings must come from the ASCII character set,\n",
      "which is a set of 127 character codes that is used by all modern\n",
      "programming languages and computers. Unfortunately, ASCII does not have\n",
      "room for non-Roman characters like accents or Eastern scripts. Unicode\n",
      "strings in Python are specified with a leading u:"
     ]
    },
    {
     "cell_type": "code",
     "collapsed": false,
     "input": [
      "u = u'abcd\u00e9'"
     ],
     "language": "python",
     "metadata": {},
     "outputs": []
    },
    {
     "cell_type": "markdown",
     "metadata": {},
     "source": [
      "For the rest of this lecture, we will deal with ASCII strings, because\n",
      "most scientific data that is stored as text is stored with ASCII."
     ]
    },
    {
     "cell_type": "markdown",
     "metadata": {},
     "source": [
      "## Working with Strings\n",
      "\n",
      "Strings are iterables, which means many of the ideas from lists can also\n",
      "be applied directly to string manipulation. For instance, characters can\n",
      "be accessed individually or in sequences:"
     ]
    },
    {
     "cell_type": "code",
     "collapsed": false,
     "input": [
      "s = 'abcdefghijklmnopqrstuvwxyz'\n",
      "s[0]"
     ],
     "language": "python",
     "metadata": {},
     "outputs": []
    },
    {
     "cell_type": "code",
     "collapsed": false,
     "input": [
      "s[-1]"
     ],
     "language": "python",
     "metadata": {},
     "outputs": []
    },
    {
     "cell_type": "code",
     "collapsed": false,
     "input": [
      "s[1:4]"
     ],
     "language": "python",
     "metadata": {},
     "outputs": []
    },
    {
     "cell_type": "markdown",
     "metadata": {},
     "source": [
      "They can also be compared using sort and equals."
     ]
    },
    {
     "cell_type": "code",
     "collapsed": false,
     "input": [
      "'str1' == 'str2'"
     ],
     "language": "python",
     "metadata": {},
     "outputs": []
    },
    {
     "cell_type": "code",
     "collapsed": false,
     "input": [
      "'str1' == 'str1'"
     ],
     "language": "python",
     "metadata": {},
     "outputs": []
    },
    {
     "cell_type": "code",
     "collapsed": false,
     "input": [
      "'str1' < 'str2'"
     ],
     "language": "python",
     "metadata": {},
     "outputs": []
    },
    {
     "cell_type": "markdown",
     "metadata": {},
     "source": [
      "In the help screen, which we looked at above, there are lots of\n",
      "functions that look like this:\n",
      "\n",
      "    |  __add__(...)\n",
      "    |      x.__add__(y) <==> x+y\n",
      "\n",
      "    |  __le__(...)\n",
      "    |      x.__le__(y) <==> x<y\n",
      "\n",
      "These are special Python functions that interpret operations like < and \\+.\n",
      "We'll talk more about these in the next lecture on Classes.\n",
      "\n",
      "Some special functions introduce handy text functions."
     ]
    },
    {
     "cell_type": "markdown",
     "metadata": {},
     "source": [
      "**Hands on example**\n",
      "\n",
      "Try each of the following functions on a few strings. What does the\n",
      "function do?"
     ]
    },
    {
     "cell_type": "code",
     "collapsed": false,
     "input": [
      "s = \"This is a string\""
     ],
     "language": "python",
     "metadata": {},
     "outputs": []
    },
    {
     "cell_type": "code",
     "collapsed": false,
     "input": [
      "s.startswith(\"This\")"
     ],
     "language": "python",
     "metadata": {},
     "outputs": []
    },
    {
     "cell_type": "code",
     "collapsed": false,
     "input": [
      "s.split(\" \")"
     ],
     "language": "python",
     "metadata": {},
     "outputs": []
    },
    {
     "cell_type": "code",
     "collapsed": false,
     "input": [
      "s.strip() # This won't change every string!"
     ],
     "language": "python",
     "metadata": {},
     "outputs": []
    },
    {
     "cell_type": "code",
     "collapsed": false,
     "input": [
      "s.capitalize()"
     ],
     "language": "python",
     "metadata": {},
     "outputs": []
    },
    {
     "cell_type": "code",
     "collapsed": false,
     "input": [
      "s.lower()"
     ],
     "language": "python",
     "metadata": {},
     "outputs": []
    },
    {
     "cell_type": "code",
     "collapsed": false,
     "input": [
      "s.upper()"
     ],
     "language": "python",
     "metadata": {},
     "outputs": []
    },
    {
     "cell_type": "markdown",
     "metadata": {},
     "source": [
      "## File I/O\n",
      "\n",
      "Python has a built-in function called \"open()\" that can be used to\n",
      "manipulate files. The help information for open is below:"
     ]
    },
    {
     "cell_type": "code",
     "collapsed": false,
     "input": [
      "help(open)"
     ],
     "language": "python",
     "metadata": {},
     "outputs": []
    },
    {
     "cell_type": "markdown",
     "metadata": {},
     "source": [
      "The main two parameters we'll need to worry about are the name of the\n",
      "file and the mode, which determines whether we can read from or write to\n",
      "the file. open returns a file object which acts like a pointer into the file.\n",
      "An example will make this clear. In the code below, I've opened a file\n",
      "that contains one line:\n",
      "\n",
      "    $ cat testfile.txt\n",
      "    abcde\n",
      "    fghij\n",
      "\n",
      "Now let's open this file in Python:"
     ]
    },
    {
     "cell_type": "code",
     "collapsed": false,
     "input": [
      "f = open('testfile.txt', 'r')"
     ],
     "language": "python",
     "metadata": {},
     "outputs": []
    },
    {
     "cell_type": "markdown",
     "metadata": {},
     "source": [
      "The second input, 'r' means I want to open the file for reading only. I\n",
      "can not write to this handle. The read() command will read a specified\n",
      "number of bytes:"
     ]
    },
    {
     "cell_type": "code",
     "collapsed": false,
     "input": [
      "s = f.read(3)\n",
      "print s"
     ],
     "language": "python",
     "metadata": {},
     "outputs": []
    },
    {
     "cell_type": "markdown",
     "metadata": {},
     "source": [
      "We read the first three characters, where each character is a byte long.\n",
      "We can see that the file handle points to the 4th byte (index number 3)\n",
      "in the file:"
     ]
    },
    {
     "cell_type": "code",
     "collapsed": false,
     "input": [
      "f.tell()"
     ],
     "language": "python",
     "metadata": {},
     "outputs": []
    },
    {
     "cell_type": "code",
     "collapsed": false,
     "input": [
      "f.read(1)"
     ],
     "language": "python",
     "metadata": {},
     "outputs": []
    },
    {
     "cell_type": "code",
     "collapsed": false,
     "input": [
      "f.close() # close the old handle"
     ],
     "language": "python",
     "metadata": {},
     "outputs": []
    },
    {
     "cell_type": "code",
     "collapsed": false,
     "input": [
      "f.read()  # can't read anymore because the file is closed."
     ],
     "language": "python",
     "metadata": {},
     "outputs": []
    },
    {
     "cell_type": "markdown",
     "metadata": {},
     "source": [
      "The file we are using is a long series of characters, but two of the\n",
      "characters are new line characters. If we looked at the file in\n",
      "sequence, it would look like \"abcdenfghijn\". Separating a file into\n",
      "lines is popular enough that there are two ways to read whole lines in a\n",
      "file. The first is to use the readlines() method:"
     ]
    },
    {
     "cell_type": "code",
     "collapsed": false,
     "input": [
      "f = open('testfile.txt', 'r')\n",
      "lines = f.readlines()\n",
      "print lines\n",
      "f.close()  # Always close the file when you are done with it"
     ],
     "language": "python",
     "metadata": {},
     "outputs": []
    },
    {
     "cell_type": "markdown",
     "metadata": {},
     "source": [
      "A very important point about the readline method is that it *keeps* the\n",
      "newline character at the end of each line. You can use the strip()\n",
      "method to get rid of the string.\n",
      "\n",
      "File handles are also iterable, which means we can use them in for loops\n",
      "or list extensions:"
     ]
    },
    {
     "cell_type": "code",
     "collapsed": false,
     "input": [
      "f = open('testfile.txt', 'r')\n",
      "lines = [line.strip() for line in f]\n",
      "f.close()\n",
      "print lines"
     ],
     "language": "python",
     "metadata": {},
     "outputs": []
    },
    {
     "cell_type": "code",
     "collapsed": false,
     "input": [
      "lines = []\n",
      "f = open('testfile.txt', 'r')\n",
      "for line in f:\n",
      "    lines.append(s.strip())\n",
      "f.close()\n",
      "print lines"
     ],
     "language": "python",
     "metadata": {},
     "outputs": []
    },
    {
     "cell_type": "markdown",
     "metadata": {},
     "source": [
      "These are equivalent operations. It's often best to handle a file one\n",
      "line at a time, particularly when the file is so large it might not fit\n",
      "in memory.\n",
      "\n",
      "The other half of the story is writing output to files. We'll talk about\n",
      "two techniques: writing to the shell and writing to files directly.\n",
      "\n",
      "If your program only creates one stream of output, it's often a good\n",
      "idea to write to the shell using the print function. There are several\n",
      "advantages to this strategy, including the fact that it allows the user\n",
      "to select where they want to store the output without worrying about any\n",
      "command line flags. You can use \"\\>\" to direct the output of your\n",
      "program to a file or use \"|\" to pipe it to another program.\n",
      "\n",
      "Sometimes, you need to direct your output directly to a file handle. For\n",
      "instance, if your program produces two output streams, you may want to\n",
      "assign two open file handles. Opening a file for reading simply requires\n",
      "changing the second option from 'r' to 'w' or 'a'.\n",
      "\n",
      "*Caution!* Opening a file with the 'w' option means start writing *at\n",
      "the beginning*, which may overwrite old material. If you want to append\n",
      "to the file without losing what is already there, open it with 'a'.\n",
      "\n",
      "Writing to a file uses the write() command, which accepts a string."
     ]
    },
    {
     "cell_type": "code",
     "collapsed": false,
     "input": [
      "outfile = open('outfile.txt', 'w')\n",
      "outfile.write('This is the first line!')\n",
      "outfile.close()"
     ],
     "language": "python",
     "metadata": {},
     "outputs": []
    },
    {
     "cell_type": "markdown",
     "metadata": {},
     "source": [
      "Another way to write to a file is to use writelines(), which accepts a\n",
      "list of strings and writes them in order. *Caution!* writelines does not\n",
      "append newlines. If you really want to write a newline at the end of\n",
      "each string in the list, add it yourself."
     ]
    },
    {
     "cell_type": "markdown",
     "metadata": {},
     "source": [
      "### Aside About File Editing\n",
      "\n",
      "How do you edit a file in place?  You can use f.seek()\n",
      "and f.tell() to verify that even if your file handle is pointing to the\n",
      "middle of a file, write commands go to the end of the file in append\n",
      "mode. The best way to change a file is to open a temporary file in\n",
      "/tmp/, fill it, and then move it to overwrite the original. On large\n",
      "clusters, /tmp/ is often local to each node, which means it reduces I/O\n",
      "bottlenecks associated with writing large amounts of data."
     ]
    },
    {
     "cell_type": "code",
     "collapsed": false,
     "input": [],
     "language": "python",
     "metadata": {},
     "outputs": []
    }
   ],
   "metadata": {}
  }
 ]
}