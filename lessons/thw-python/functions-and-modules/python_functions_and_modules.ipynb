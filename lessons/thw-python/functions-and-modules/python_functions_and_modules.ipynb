{
 "metadata": {
  "name": ""
 },
 "nbformat": 3,
 "nbformat_minor": 0,
 "worksheets": [
  {
   "cells": [
    {
     "cell_type": "markdown",
     "metadata": {},
     "source": [
      "# Functions and Modules"
     ]
    },
    {
     "cell_type": "markdown",
     "metadata": {},
     "source": [
      "Materials by: [John Blischak](https://github.com/jdblischak \"GitHub\"), Anthony Scopatz, and other Software Carpentry instructors (Joshua R. Smith, Milad Fatenejad, Katy Huff, Tommy Guy and many more)"
     ]
    },
    {
     "cell_type": "markdown",
     "metadata": {},
     "source": [
      "Computers are very useful for doing the same operation over and over. When you know you will be performing the same operation many times, it is best to encapsulate this similar code into a function or a method.  Programming functions are related to mathematical functions, e.g. $f(x)$, and it is helpful to think of them as abstract operators that produce output given some input. Let's look at some examples to solidify this concept."
     ]
    },
    {
     "cell_type": "markdown",
     "metadata": {},
     "source": [
      "# Built-in string methods\n",
      "\n",
      "The base distribution comes with many useful functions. When a function is a property of, or owned by, on a specific type (ints, floats, lists, strings, dictionaries, etc.) it is called a method.  First let's look at some basic string methods since they are very useful for reading data into Python."
     ]
    },
    {
     "cell_type": "code",
     "collapsed": false,
     "input": [
      "# Find the start codon of a gene\n",
      "dna = 'CTGTTGACATGCATTCACGCTACGCTAGCT'\n",
      "dna.find('ATG')"
     ],
     "language": "python",
     "metadata": {},
     "outputs": []
    },
    {
     "cell_type": "code",
     "collapsed": false,
     "input": [
      "# parsing a line from a comma-delimted file\n",
      "lotto_numbers = '4,8,15,16,23,42\\n'\n",
      "lotto_numbers = lotto_numbers.strip()\n",
      "print lotto_numbers.split(',')"
     ],
     "language": "python",
     "metadata": {},
     "outputs": []
    },
    {
     "cell_type": "code",
     "collapsed": false,
     "input": [
      "question = '%H%ow%z%d%@d%z%th%ez$%@p%ste%rzb%ur%nz%$%@szt%on%gue%?%'\n",
      "question = question.replace('%', '')\n",
      "question = question.replace('@', 'i')\n",
      "question = question.replace('$', 'h')\n",
      "question = question.replace('z', ' ')\n",
      "print question"
     ],
     "language": "python",
     "metadata": {},
     "outputs": []
    },
    {
     "cell_type": "code",
     "collapsed": false,
     "input": [
      "answer = '=H=&!dr=a=nk!c=~ff&&!be=f~r&=!i=t!w=as!c=~~l.='\n",
      "print answer.replace('=', '').replace('&', 'e').replace('~', 'o').replace('!', ' ')"
     ],
     "language": "python",
     "metadata": {},
     "outputs": []
    },
    {
     "cell_type": "markdown",
     "metadata": {},
     "source": [
      "## Short Exercise: Calculate GC content of DNA"
     ]
    },
    {
     "cell_type": "markdown",
     "metadata": {},
     "source": [
      "Because the binding strength of guanine (G) to cytosine (C) is different from the binding strength of adenine (A) to thymine (T) (and many other differences), it is often useful to know the fraction of a DNA sequence that is G's or C's. Go to the [string method section](http://docs.python.org/2/library/string.html) of the Python documentation and find the string method that will allow you to calculate this fraction."
     ]
    },
    {
     "cell_type": "code",
     "collapsed": false,
     "input": [
      "# Calculate the fraction of G's and C's in this DNA sequence\n",
      "seq1 = 'ACGTACGTAGCTAGTAGCTACGTAGCTACGTA'\n",
      "gc = "
     ],
     "language": "python",
     "metadata": {},
     "outputs": []
    },
    {
     "cell_type": "markdown",
     "metadata": {},
     "source": [
      "Check your work:"
     ]
    },
    {
     "cell_type": "code",
     "collapsed": false,
     "input": [
      "round(gc, ndigits = 2) == .47"
     ],
     "language": "python",
     "metadata": {},
     "outputs": []
    },
    {
     "cell_type": "markdown",
     "metadata": {},
     "source": [
      "# Creating your own functions!\n",
      "When there is not an available function to perform a task, you can write your own functions.  Ths simplest functions have the  following format in Python:\n",
      "\n",
      "    def <function name>():\n",
      "        <function body>"
     ]
    },
    {
     "cell_type": "code",
     "collapsed": false,
     "input": [
      "def do_nothing():\n",
      "    s = \"I don't do much\""
     ],
     "language": "python",
     "metadata": {},
     "outputs": []
    },
    {
     "cell_type": "markdown",
     "metadata": {},
     "source": [
      "However, this often isn't very useful since we haven't returned any values from this function.  Note: that if you don't return anything from a function in Python, you implcitly have returned the special `None` singleton.  To return vaulues that you computed locally in the function body, use the **return** keyword.\n",
      "\n",
      "    def <function name>():\n",
      "        <functiom body>\n",
      "        return <local variable 1>      "
     ]
    },
    {
     "cell_type": "markdown",
     "metadata": {},
     "source": [
      "Functions, may be defined to take parameters or **arguments**.\n",
      "\n",
      "    def <function name>(<argument>):\n",
      "        <function body>\n",
      "        return <local variable 1>  \n",
      "        \n",
      "The function name, arguments, and retun are jointly known as the **function signature** since the uniquely define the function's **interface**."
     ]
    },
    {
     "cell_type": "code",
     "collapsed": true,
     "input": [
      "def square(x):\n",
      "    sqr = x * x\n",
      "    return sqr"
     ],
     "language": "python",
     "metadata": {},
     "outputs": []
    },
    {
     "cell_type": "markdown",
     "metadata": {},
     "source": [
      "Using a function is done by placing parentheses `()` after the function name after you have defined it.  This is known as **calling** the function.  If the function requires arguments, the values for these arguments are inside of the parentheses"
     ]
    },
    {
     "cell_type": "code",
     "collapsed": false,
     "input": [
      "square(2)"
     ],
     "language": "python",
     "metadata": {},
     "outputs": []
    },
    {
     "cell_type": "markdown",
     "metadata": {},
     "source": [
      "Like mathematical functions, you can compose a function with other functions or with itself!"
     ]
    },
    {
     "cell_type": "code",
     "collapsed": false,
     "input": [
      "square(square(2))"
     ],
     "language": "python",
     "metadata": {},
     "outputs": []
    },
    {
     "cell_type": "markdown",
     "metadata": {},
     "source": [
      "Functions may be defined such that they have multiple arguments or multiple return values:\n",
      "\n",
      "    def <function name>(<arg1>, <arg2>, ...):\n",
      "        <functiom body>\n",
      "        return <var1> , <var2>, ..."
     ]
    },
    {
     "cell_type": "code",
     "collapsed": true,
     "input": [
      "def hello(time, name):\n",
      "    print 'Good ' + time + ', ' + name + '!'"
     ],
     "language": "python",
     "metadata": {},
     "outputs": []
    },
    {
     "cell_type": "code",
     "collapsed": false,
     "input": [
      "hello('afternoon', 'Software Carpentry')"
     ],
     "language": "python",
     "metadata": {},
     "outputs": []
    },
    {
     "cell_type": "code",
     "collapsed": false,
     "input": [
      "# return both the quotient and remainder\n",
      "def quorem(a, b):\n",
      "    quo = a / b\n",
      "    rem = a % b\n",
      "    return quo, rem"
     ],
     "language": "python",
     "metadata": {},
     "outputs": []
    },
    {
     "cell_type": "code",
     "collapsed": false,
     "input": [
      "quorem(42, 16)"
     ],
     "language": "python",
     "metadata": {},
     "outputs": []
    },
    {
     "cell_type": "markdown",
     "metadata": {},
     "source": [
      "Note that when you return multiple values you may unpack these into individual variables or into a single variable which is a tuple of both values:"
     ]
    },
    {
     "cell_type": "code",
     "collapsed": false,
     "input": [
      "q, r = quorem(42, 16)\n",
      "print q\n",
      "print r\n",
      "\n",
      "both = quorem(42, 16)\n",
      "print both"
     ],
     "language": "python",
     "metadata": {},
     "outputs": []
    },
    {
     "cell_type": "markdown",
     "metadata": {},
     "source": [
      "## Keyword Arguments\n",
      "\n",
      "In Python, functions also support default values for arguments.  Arguments with an associated default are called **keyword arguments**.  If this function is then called without one of these arguments being present the default value is used.  All keyword arguments must come after normal arguments in the function definition:\n",
      "\n",
      "    def <function name>(<arg1>, <arg2>, <arg3>=<arg3 default>, <arg4>=<arg4 default>, ...):\n",
      "        <function body>\n",
      "        return <rtn>"
     ]
    },
    {
     "cell_type": "code",
     "collapsed": false,
     "input": [
      "def add_space(s, t=\"Mom\"):\n",
      "    return s + \" \" + t"
     ],
     "language": "python",
     "metadata": {},
     "outputs": []
    },
    {
     "cell_type": "code",
     "collapsed": false,
     "input": [
      "print add_space(\"Hello\")\n",
      "print add_space(\"Morning\", \"Dad\")"
     ],
     "language": "python",
     "metadata": {},
     "outputs": []
    },
    {
     "cell_type": "markdown",
     "metadata": {},
     "source": [
      "You can also call any functions with their arguments, regular and keyword, with their argument names explictly in the call.  This uses equal signs in the same way that keyword arguments are defined."
     ]
    },
    {
     "cell_type": "code",
     "collapsed": false,
     "input": [
      "print add_space(s=\"Hello\")\n",
      "print add_space(s=\"Morning\", t=\"Dad\")"
     ],
     "language": "python",
     "metadata": {},
     "outputs": []
    },
    {
     "cell_type": "markdown",
     "metadata": {},
     "source": [
      "If you have many keyword arguments, then they may be out of order in the function call as long as they are explicit."
     ]
    },
    {
     "cell_type": "code",
     "collapsed": false,
     "input": [
      "def f(x=1, y=2, z=3):\n",
      "    return 2*x**3 + 42*y - z"
     ],
     "language": "python",
     "metadata": {},
     "outputs": []
    },
    {
     "cell_type": "code",
     "collapsed": false,
     "input": [
      "f(y=17, z=15, x=2)"
     ],
     "language": "python",
     "metadata": {},
     "outputs": []
    },
    {
     "cell_type": "markdown",
     "metadata": {},
     "source": [
      "**Warning:**  be careful with mutable containers as default values.  The container will remember its value from previous function calls."
     ]
    },
    {
     "cell_type": "code",
     "collapsed": false,
     "input": [
      "def add_to_list(val, seq=[]):\n",
      "    seq.append(val)\n",
      "    return seq"
     ],
     "language": "python",
     "metadata": {},
     "outputs": []
    },
    {
     "cell_type": "code",
     "collapsed": false,
     "input": [
      "add_to_list(42)"
     ],
     "language": "python",
     "metadata": {},
     "outputs": []
    },
    {
     "cell_type": "code",
     "collapsed": false,
     "input": [
      "add_to_list(16)"
     ],
     "language": "python",
     "metadata": {},
     "outputs": []
    },
    {
     "cell_type": "code",
     "collapsed": false,
     "input": [
      "add_to_list(65)"
     ],
     "language": "python",
     "metadata": {},
     "outputs": []
    },
    {
     "cell_type": "markdown",
     "metadata": {},
     "source": [
      "## Packing & Unpacking Arguments\n",
      "\n",
      "Say that you have a list or tuple of values that you would like to call a function with.  You might be tempted to do the following:"
     ]
    },
    {
     "cell_type": "code",
     "collapsed": false,
     "input": [
      "def myadd(x, y):\n",
      "    return x + y"
     ],
     "language": "python",
     "metadata": {},
     "outputs": []
    },
    {
     "cell_type": "code",
     "collapsed": false,
     "input": [
      "addme = (42, 65)\n",
      "myadd(addme[0], addme[1])"
     ],
     "language": "python",
     "metadata": {},
     "outputs": []
    },
    {
     "cell_type": "markdown",
     "metadata": {},
     "source": [
      "However, this becomes very tedious very quickly.  To solve this, Python allows you to call a function with the original list prepended by an asterisk `*`.  This expands, or **unpacks**, the values of the list into the function call."
     ]
    },
    {
     "cell_type": "code",
     "collapsed": false,
     "input": [
      "myadd(*addme)"
     ],
     "language": "python",
     "metadata": {},
     "outputs": []
    },
    {
     "cell_type": "code",
     "collapsed": false,
     "input": [
      "myadd(*[14, 18])"
     ],
     "language": "python",
     "metadata": {},
     "outputs": []
    },
    {
     "cell_type": "markdown",
     "metadata": {},
     "source": [
      "Not just lists, but any sequence is allowed to be expanded in this way.  While this works for normal arguments, keyword arguments are more similar to dictionaries.  Therefore any mapping is also able to be expanded into keyword arguments.  To distingush keyword argument unpacking from unpacking normal arguments, you must use a double asterisk `**` to unpack a dictionary."
     ]
    },
    {
     "cell_type": "code",
     "collapsed": false,
     "input": [
      "def f(x=1, y=2, z=3):\n",
      "    return 2*x**3 + 42*y - z"
     ],
     "language": "python",
     "metadata": {},
     "outputs": []
    },
    {
     "cell_type": "code",
     "collapsed": false,
     "input": [
      "v = {'x': 1, 'y': 2, 'z': 3}\n",
      "f(**v)"
     ],
     "language": "python",
     "metadata": {},
     "outputs": []
    },
    {
     "cell_type": "markdown",
     "metadata": {},
     "source": [
      "This allows you to build up dictionaries of values with which to call function *before* calling it.\n",
      "\n",
      "In addition to calling functions with lists or tuples and dicts, you may also define functions such that any extra arguments are put into a tuple and any extra keyword arguments are placed into a dictionary.  These special catch-all containers must come after all other arguments and all other keyword arguments.  This is known as argument packing and uses the single and double asterisk as above, but this time in the function definition:\n",
      "\n",
      "    def <function name>(<arg1>, <arg2>=<arg2 default>, *<other args>, **<other keyword args>):\n",
      "        <function body>\n",
      "        return <rtn>"
     ]
    },
    {
     "cell_type": "code",
     "collapsed": false,
     "input": [
      "def what(x, y, *args):\n",
      "    print \"x = \",  x\n",
      "    print \"y = \", y\n",
      "    print \"extra argument = \", args"
     ],
     "language": "python",
     "metadata": {},
     "outputs": []
    },
    {
     "cell_type": "code",
     "collapsed": false,
     "input": [
      "what(1, 10, 178.0, \"hello\", [42, 42])"
     ],
     "language": "python",
     "metadata": {},
     "outputs": []
    },
    {
     "cell_type": "code",
     "collapsed": false,
     "input": [
      "def classroom(teacher=\"Anthony\", **kwargs):\n",
      "    print \"Teacher's name is \", teacher\n",
      "    print \"Teacher has a lot to deal with:\", kwargs"
     ],
     "language": "python",
     "metadata": {},
     "outputs": []
    },
    {
     "cell_type": "code",
     "collapsed": false,
     "input": [
      "classroom(lesson=\"functions\", lesson=\"Python\")"
     ],
     "language": "python",
     "metadata": {},
     "outputs": []
    },
    {
     "cell_type": "code",
     "collapsed": false,
     "input": [
      "def sweet_nothings(x, y, *args, **kwargs):\n",
      "    print \"Not doing anything with x, y, z, f\"\n",
      "    print args\n",
      "    print kwargs"
     ],
     "language": "python",
     "metadata": {},
     "outputs": []
    },
    {
     "cell_type": "code",
     "collapsed": false,
     "input": [
      "sweet_nothings(0, 0.0, 42, \"Nothing\", zero=\"zero\", z=\"\", f=True, empty=\"de nada\")"
     ],
     "language": "python",
     "metadata": {},
     "outputs": []
    },
    {
     "cell_type": "markdown",
     "metadata": {},
     "source": [
      "So the most general function signature that you can define is:"
     ]
    },
    {
     "cell_type": "code",
     "collapsed": false,
     "input": [
      "def func(*arg, **kwargs):\n",
      "    print args\n",
      "    print kwargs"
     ],
     "language": "python",
     "metadata": {},
     "outputs": []
    },
    {
     "cell_type": "code",
     "collapsed": false,
     "input": [
      "func()  # try me out!"
     ],
     "language": "python",
     "metadata": {},
     "outputs": []
    },
    {
     "cell_type": "markdown",
     "metadata": {},
     "source": [
      "## Recursion\n",
      "\n",
      "One of the greatest features of functions is that they may call themselves from within their own bodies!  This is known as **recursion**. "
     ]
    },
    {
     "cell_type": "code",
     "collapsed": false,
     "input": [
      "def count_backwards(x):\n",
      "    print x\n",
      "    count_backwards(x-1)"
     ],
     "language": "python",
     "metadata": {},
     "outputs": []
    },
    {
     "cell_type": "code",
     "collapsed": false,
     "input": [
      "count_backwards(10)"
     ],
     "language": "python",
     "metadata": {},
     "outputs": []
    },
    {
     "cell_type": "markdown",
     "metadata": {},
     "source": [
      "Well, that was too much.  Thus it is important to ensure that recursive functions have some case which does not call itself.  This will terminate the recursion."
     ]
    },
    {
     "cell_type": "code",
     "collapsed": false,
     "input": [
      "def count_backwards(x):\n",
      "    print x\n",
      "    if 0 < x:\n",
      "        count_backwards(x-1)"
     ],
     "language": "python",
     "metadata": {},
     "outputs": []
    },
    {
     "cell_type": "code",
     "collapsed": false,
     "input": [
      "count_backwards(10)"
     ],
     "language": "python",
     "metadata": {},
     "outputs": []
    },
    {
     "cell_type": "markdown",
     "metadata": {},
     "source": [
      "One of the most famous recursive sequences is the [Fibonacci sequence](http://en.wikipedia.org/wiki/Fibonacci_number).  This can be defined as a single recursive function."
     ]
    },
    {
     "cell_type": "code",
     "collapsed": false,
     "input": [
      "def fib(n):\n",
      "    if n == 0 or n == 1:\n",
      "        return n\n",
      "    else:\n",
      "        return fib(n - 1) + fib(n - 2)"
     ],
     "language": "python",
     "metadata": {},
     "outputs": []
    },
    {
     "cell_type": "code",
     "collapsed": false,
     "input": [
      "fib(10)"
     ],
     "language": "python",
     "metadata": {},
     "outputs": []
    },
    {
     "cell_type": "markdown",
     "metadata": {},
     "source": [
      "## Decorators"
     ]
    },
    {
     "cell_type": "markdown",
     "metadata": {},
     "source": [
      "In Python, functions are **first class objects**.  This means that anything any other variable can do, a function can also do.  This is because they are normal variables in the language.  "
     ]
    },
    {
     "cell_type": "code",
     "collapsed": false,
     "input": [
      "def myfunc(x):\n",
      "    return x"
     ],
     "language": "python",
     "metadata": {},
     "outputs": []
    },
    {
     "cell_type": "code",
     "collapsed": false,
     "input": [
      "print myfunc"
     ],
     "language": "python",
     "metadata": {},
     "outputs": []
    },
    {
     "cell_type": "code",
     "collapsed": false,
     "input": [
      "yourfunc = myfunc\n",
      "yourfunc(\"hello\")"
     ],
     "language": "python",
     "metadata": {},
     "outputs": []
    },
    {
     "cell_type": "code",
     "collapsed": false,
     "input": [
      "dir(myfunc)"
     ],
     "language": "python",
     "metadata": {},
     "outputs": []
    },
    {
     "cell_type": "markdown",
     "metadata": {},
     "source": [
      "This allows functions be passed to other functions as arguments:"
     ]
    },
    {
     "cell_type": "code",
     "collapsed": false,
     "input": [
      "def just_one():\n",
      "    return 1\n",
      "\n",
      "def add_one(f):\n",
      "    return f() + 1\n",
      "\n",
      "add_one(just_one)"
     ],
     "language": "python",
     "metadata": {},
     "outputs": []
    },
    {
     "cell_type": "markdown",
     "metadata": {},
     "source": [
      "Functions may also then define other functions and return them:"
     ]
    },
    {
     "cell_type": "code",
     "collapsed": false,
     "input": [
      "def outer():\n",
      "    def inner(*args, **kwargs):\n",
      "        return True\n",
      "    return inner"
     ],
     "language": "python",
     "metadata": {},
     "outputs": []
    },
    {
     "cell_type": "code",
     "collapsed": false,
     "input": [
      "outer()"
     ],
     "language": "python",
     "metadata": {},
     "outputs": []
    },
    {
     "cell_type": "markdown",
     "metadata": {},
     "source": [
      "When you define a function which takes a function and (usually) returns a function, this is called a **decorator**.  Decorators are used to wrap other functions."
     ]
    },
    {
     "cell_type": "code",
     "collapsed": false,
     "input": [
      "def loud(f):\n",
      "    def newfunc(*args, **kwargs):\n",
      "        print \"calling with:\", args, kwargs\n",
      "        rtn = f(*args, **kwargs)\n",
      "        print \"got\", rtn\n",
      "        return rtn\n",
      "    return newfunc"
     ],
     "language": "python",
     "metadata": {},
     "outputs": []
    },
    {
     "cell_type": "code",
     "collapsed": false,
     "input": [
      "def myadd(x, y):\n",
      "    return x + y\n",
      "\n",
      "loudadd = loud(myadd)\n",
      "v = loudadd(2, 4)"
     ],
     "language": "python",
     "metadata": {},
     "outputs": []
    },
    {
     "cell_type": "markdown",
     "metadata": {},
     "source": [
      "Most of the time such functions may be used such that the original function name is preserved."
     ]
    },
    {
     "cell_type": "code",
     "collapsed": false,
     "input": [
      "myadd = loud(myadd)\n",
      "myadd(42, 65)"
     ],
     "language": "python",
     "metadata": {},
     "outputs": []
    },
    {
     "cell_type": "markdown",
     "metadata": {},
     "source": [
      "Python also has a shortcut for using decorators which preserve the same name.  The 'at' symbol `@` followed by the decorator name is placed on the line above the function definition."
     ]
    },
    {
     "cell_type": "code",
     "collapsed": false,
     "input": [
      "@loud\n",
      "def mysub(x, y):\n",
      "    return x - y"
     ],
     "language": "python",
     "metadata": {},
     "outputs": []
    },
    {
     "cell_type": "code",
     "collapsed": false,
     "input": [
      "v = mysub(42, 65)"
     ],
     "language": "python",
     "metadata": {},
     "outputs": []
    },
    {
     "cell_type": "markdown",
     "metadata": {},
     "source": [
      "For more advanced users, the standard library `functools` module has some really powerful and great utilities.  This includes the [functools.wraps()](http://docs.python.org/2/library/functools.html#functools.wraps) function."
     ]
    },
    {
     "cell_type": "markdown",
     "metadata": {},
     "source": [
      "## Lambdas\n",
      "\n",
      "Lambdas are small, single expression functions that are **anonymous** (they have no name).  They come from functional programming languages and the [Lambda Calculus](http://en.wikipedia.org/wiki/Lambda_calculus). Since they are so small they may be written on a single line. \n",
      "\n",
      "    lambda <args>: <expr>\n",
      "    "
     ]
    },
    {
     "cell_type": "code",
     "collapsed": false,
     "input": [
      "lambda x: x + 1"
     ],
     "language": "python",
     "metadata": {},
     "outputs": []
    },
    {
     "cell_type": "markdown",
     "metadata": {},
     "source": [
      "Note that just because they are implicitly anonymous, doesn't mean that you can't name them."
     ]
    },
    {
     "cell_type": "code",
     "collapsed": false,
     "input": [
      "f = lambda x, y: x + y +1"
     ],
     "language": "python",
     "metadata": {},
     "outputs": []
    },
    {
     "cell_type": "markdown",
     "metadata": {},
     "source": [
      "This is much more useful than it might seem at first glance."
     ]
    },
    {
     "cell_type": "markdown",
     "metadata": {},
     "source": [
      "## Short exercise: Write a function to calculate GC content of DNA\n",
      "Make a function that calculates the GC content of a given DNA sequence. For the more advanced participants, make your function able to handle sequences of mixed case (see the third test case)."
     ]
    },
    {
     "cell_type": "code",
     "collapsed": true,
     "input": [
      "# Calculates the GC content of DNA sequence x.\n",
      "# x: a string composed only of A's, T's, G's, and C's.\n",
      "def calculate_gc(x):\n"
     ],
     "language": "python",
     "metadata": {},
     "outputs": []
    },
    {
     "cell_type": "markdown",
     "metadata": {},
     "source": [
      "Check your work:"
     ]
    },
    {
     "cell_type": "code",
     "collapsed": false,
     "input": [
      "print round(calculate_gc('ATGC'), ndigits = 2) == 0.50\n",
      "print round(calculate_gc('AGCGTCGTCAGTCGT'), ndigits = 2) == 0.60\n",
      "print round(calculate_gc('ATaGtTCaAGcTCgATtGaATaGgTAaCt'), ndigits = 2) == 0.34"
     ],
     "language": "python",
     "metadata": {},
     "outputs": []
    },
    {
     "cell_type": "markdown",
     "metadata": {},
     "source": [
      "# Modules\n",
      "Python has a lot of useful data type and functions built into the language, some of which you have already seen. For a full list, you can type `dir(__builtins__)`. However, there are even more functions stored in modules. An example is the sine function, which is stored in the math module. In order to access mathematical functions, like sin, we need to **import** the math module. Lets take a look at a simple example:"
     ]
    },
    {
     "cell_type": "code",
     "collapsed": false,
     "input": [
      "print sin(3) # Error! Python doesn't know what sin is...yet"
     ],
     "language": "python",
     "metadata": {},
     "outputs": []
    },
    {
     "cell_type": "code",
     "collapsed": false,
     "input": [
      "import math # Import the math module\n",
      "math.sin(3)"
     ],
     "language": "python",
     "metadata": {},
     "outputs": []
    },
    {
     "cell_type": "code",
     "collapsed": false,
     "input": [
      "dir(math) # See a list of everything in the math module"
     ],
     "language": "python",
     "metadata": {},
     "outputs": []
    },
    {
     "cell_type": "code",
     "collapsed": true,
     "input": [
      "help(math) # Get help information for the math module"
     ],
     "language": "python",
     "metadata": {},
     "outputs": []
    },
    {
     "cell_type": "markdown",
     "metadata": {},
     "source": [
      "It is not very difficult to use modules - you just have to know the module name and import it. There are a few variations on the import statement that can be used to make your life easier. Lets take a look at an example:"
     ]
    },
    {
     "cell_type": "code",
     "collapsed": false,
     "input": [
      "from math import *  # import everything from math into the global namespace (A BAD IDEA IN GENERAL)\n",
      "print sin(3)        # notice that we don't need to type math.sin anymore\n",
      "print tan(3)        # the tangent function was also in math, so we can use that too"
     ],
     "language": "python",
     "metadata": {},
     "outputs": []
    },
    {
     "cell_type": "code",
     "collapsed": true,
     "input": [
      "reset # Clear everything from IPython"
     ],
     "language": "python",
     "metadata": {},
     "outputs": []
    },
    {
     "cell_type": "code",
     "collapsed": false,
     "input": [
      "from math import sin  # Import just sin from the math module. This is a good idea.\n",
      "print sin(3)          # We can use sin because we just imported it\n",
      "print tan(3)          # Error: We only imported sin - not tan"
     ],
     "language": "python",
     "metadata": {},
     "outputs": []
    },
    {
     "cell_type": "code",
     "collapsed": true,
     "input": [
      "reset                 # Clear everything"
     ],
     "language": "python",
     "metadata": {},
     "outputs": []
    },
    {
     "cell_type": "code",
     "collapsed": false,
     "input": [
      "import math as m      # Same as import math, except we are renaming the module m\n",
      "print m.sin(3)        # This is really handy if you have module names that are long"
     ],
     "language": "python",
     "metadata": {},
     "outputs": []
    },
    {
     "cell_type": "markdown",
     "metadata": {},
     "source": [
      "Python comes with a *huge* number of modules available as part of the standard library (batteries included).  It has a gargantuan number of third party modules as well.  This ecosystem is what makes scientific software development in Python great!"
     ]
    },
    {
     "cell_type": "markdown",
     "metadata": {},
     "source": [
      "## The General Problem\n",
      "![xkcd](http://imgs.xkcd.com/comics/the_general_problem.png \"I find that when someone's taking time to do something right in the present, they're a perfectionist with no ability to prioritize, whereas when someone took time to do something right in the past, they're a master artisan of great foresight.\")\n",
      "From [xkcd](http://www.xkcd.com)\n",
      "\n",
      "Now that you can write your own functions, you too will experience the dilemma of deciding whether to spend the extra time to make your code more general, and therefore more easily reused in the future."
     ]
    },
    {
     "cell_type": "markdown",
     "metadata": {},
     "source": [
      "# Longer exercise: Reading Cochlear implant into Python\n",
      "For this exercise we will return to the cochlear implant data first introduced in the section on the shell. In order to analyse the data, we need to import the data into Python. Furthermore, since this is something that would have to be done many times, we will write a function to do this. As before, beginners should aim to complete Part 1 and more advanced participants should try to complete Part 2 and Part 3 as well."
     ]
    },
    {
     "cell_type": "markdown",
     "metadata": {},
     "source": [
      "## Part 1: View the contents of the file from within Python\n",
      "Write a function `view_cochlear` that will open the file and print out each line. The only input to the function should be the name of the file as a string. "
     ]
    },
    {
     "cell_type": "code",
     "collapsed": true,
     "input": [
      "def view_cochlear(filename):\n",
      "    \"\"\"Write your docstring here.\n",
      "    \"\"\"\n",
      "       "
     ],
     "language": "python",
     "metadata": {},
     "outputs": []
    },
    {
     "cell_type": "markdown",
     "metadata": {},
     "source": [
      "Test it out:"
     ]
    },
    {
     "cell_type": "code",
     "collapsed": true,
     "input": [
      "view_cochlear('/home/swc/boot-camps/shell/data/alexander/data_216.DATA')"
     ],
     "language": "python",
     "metadata": {},
     "outputs": []
    },
    {
     "cell_type": "code",
     "collapsed": true,
     "input": [
      "view_cochlear('/home/swc/boot-camps/shell/data/Lawrence/Data0525')"
     ],
     "language": "python",
     "metadata": {},
     "outputs": []
    },
    {
     "cell_type": "markdown",
     "metadata": {},
     "source": [
      "## Part 2: \n",
      "Adapt your function above to exclude the first line using the flow control techniques we learned in the last lesson. The first line is just `#` (but don't forget to remove the `'\\n'`)."
     ]
    },
    {
     "cell_type": "code",
     "collapsed": true,
     "input": [
      "def view_cochlear(filename):\n",
      "    \"\"\"Write your docstring here.\n",
      "    \"\"\"\n",
      "    "
     ],
     "language": "python",
     "metadata": {},
     "outputs": []
    },
    {
     "cell_type": "markdown",
     "metadata": {},
     "source": [
      "Test it out:"
     ]
    },
    {
     "cell_type": "code",
     "collapsed": true,
     "input": [
      "view_cochlear('/home/swc/boot-camps/shell/data/alexander/data_216.DATA')"
     ],
     "language": "python",
     "metadata": {},
     "outputs": []
    },
    {
     "cell_type": "code",
     "collapsed": true,
     "input": [
      "view_cochlear('/home/swc/boot-camps/shell/data/Lawrence/Data0525')"
     ],
     "language": "python",
     "metadata": {},
     "outputs": []
    },
    {
     "cell_type": "markdown",
     "metadata": {},
     "source": [
      "## Part 3:\n",
      "Adapt your function above to return a dictionary containing the contents of the file. Split each line of the file by a colon followed by a space (': '). The first half of the string should be the key of the dictionary, and the second half should be the value of the dictionary."
     ]
    },
    {
     "cell_type": "code",
     "collapsed": true,
     "input": [
      "def save_cochlear(filename):\n",
      "    \"\"\"Write your docstring here.\n",
      "    \"\"\""
     ],
     "language": "python",
     "metadata": {},
     "outputs": []
    },
    {
     "cell_type": "markdown",
     "metadata": {},
     "source": [
      "Check your work:"
     ]
    },
    {
     "cell_type": "code",
     "collapsed": false,
     "input": [
      "data_216 = save_cochlear(\"/home/swc/boot-camps/shell/data/alexander/data_216.DATA\")\n",
      "print data_216[\"Subject\"]"
     ],
     "language": "python",
     "metadata": {},
     "outputs": []
    },
    {
     "cell_type": "code",
     "collapsed": false,
     "input": [
      "Data0525 = save_cochlear(\"/home/swc/boot-camps/shell/data/alexander/data_216.DATA\")\n",
      "print Data0525[\"CI type\"]"
     ],
     "language": "python",
     "metadata": {},
     "outputs": []
    },
    {
     "cell_type": "markdown",
     "metadata": {},
     "source": [
      "# Bonus Exercise: Transcribe DNA to RNA\n",
      "### Motivation:\n",
      "During transcription, an enzyme called RNA Polymerase reads the DNA sequence and creates a complementary RNA sequence. Furthermore, RNA has the nucleotide uracil (U) instead of thymine (T). \n",
      "### Task:\n",
      "Write a function that mimics transcription. The input argument is a string that contains the letters A, T, G, and C. Create a new string following these rules: \n",
      "\n",
      "* Convert A to U\n",
      "\n",
      "* Convert T to A\n",
      "\n",
      "* Convert G to C\n",
      "\n",
      "* Convert C to G\n",
      "\n",
      "Hint: You can iterate through a string using a for loop similary to how you loop through a list."
     ]
    },
    {
     "cell_type": "code",
     "collapsed": true,
     "input": [
      "def transcribe(seq):\n",
      "    \"\"\"Write your docstring here.\n",
      "    \"\"\""
     ],
     "language": "python",
     "metadata": {},
     "outputs": []
    },
    {
     "cell_type": "markdown",
     "metadata": {},
     "source": [
      "Check your work:"
     ]
    },
    {
     "cell_type": "code",
     "collapsed": true,
     "input": [
      "transcribe('ATGC') == 'UACG'"
     ],
     "language": "python",
     "metadata": {},
     "outputs": []
    },
    {
     "cell_type": "code",
     "collapsed": true,
     "input": [
      "transcribe('ATGCAGTCAGTGCAGTCAGT') == 'UACGUCAGUCACGUCAGUCA'"
     ],
     "language": "python",
     "metadata": {},
     "outputs": []
    }
   ],
   "metadata": {}
  }
 ]
}