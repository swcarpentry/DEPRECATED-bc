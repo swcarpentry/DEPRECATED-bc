{
 "metadata": {
  "name": ""
 },
 "nbformat": 3,
 "nbformat_minor": 0,
 "worksheets": [
  {
   "cells": [
    {
     "cell_type": "markdown",
     "metadata": {},
     "source": [
      "# Classes and Objects Exercises\n",
      "\n",
      "**Exercises by Orion Buske with thanks to Jon Pipitone.**"
     ]
    },
    {
     "cell_type": "markdown",
     "metadata": {},
     "source": [
      "Orion is excited at the prospect of having sushi for lunch tomorrow, so this\n",
      "seems like a perfect opportunity to practice object-oriented programming. My\n",
      "apologies in advance for the abundant over-simplifications and high likelihood\n",
      "of other mistakes.\n",
      "\n",
      "Let's start with a little bit of background. Sushi is, to quote Wikipedia, \"a\n",
      "Japanese dish consisting of cooked vinegared rice which is commonly topped with\n",
      "other ingredients, such as fish or other seafood, or put into rolls.\" The two\n",
      "most popular forms of sushi, with a few sub-types, are:\n",
      "\n",
      "1. **Nigiri**- a hand-formed ball of rice topped with something tasty\n",
      "  * Gunkanmaki - with a loose or soft topping that is held in place with a\n",
      "    strip of seaweed\n",
      "  * Temarizushi - where the topping is just pressed into a ball of rice\n",
      "\n",
      "2. **Maki**- one or more tasty things rolled up in seaweed and rice\n",
      "  * Futomaki - seaweed on the outside, usually vegetarian\n",
      "  * Temaki - cone-shaped seaweed filled with rice and tasty things\n",
      "  * Uramaki - rice on the outside\n",
      "\n",
      "Luckily, this sort of hierarchical structure lends itself nicely to Classes and\n",
      "inheritance. If you have been in a sushi restaurant before, you know how often\n",
      "there are typos in the English descriptions. We are going to write a simple\n",
      "program that a sushi restaurant owner could (theoretically) use to create a\n",
      "menu, complete with English translation and Japanese transliteration (but not\n",
      "actual Japanese, forgive me). "
     ]
    },
    {
     "cell_type": "markdown",
     "metadata": {},
     "source": [
      "## Exercise 1\n",
      "\n",
      "To start, create an `Ingredient` class that inherits from `object`. The\n",
      "constructor should accept two strings as arguments, `japanese` and `english`,\n",
      "that correspond to the Japanese transliteration and English translation. The\n",
      "`english` argument should be optional, and should default to the value of\n",
      "`japanese` if not supplied (just like on menus, where some ingredients aren't\n",
      "translated and you're left to wonder hopelessly). The value of both should be\n",
      "saved as members of the Ingredient class.\n",
      "\n",
      "**Hint:**"
     ]
    },
    {
     "cell_type": "code",
     "collapsed": false,
     "input": [
      "def __init__(self, japanese, english=None):\n",
      "    assert japanese\n",
      "    if english is None:\n",
      "        english = japanese\n",
      "    ..."
     ],
     "language": "python",
     "metadata": {},
     "outputs": []
    },
    {
     "cell_type": "markdown",
     "metadata": {},
     "source": [
      "## Execise 2\n",
      "\n",
      "Add to the `Ingredient` class two methods: `__str__(self)` and\n",
      "`to_english(self)`. Both methods must return a string, and the `__str__` method\n",
      "is what gets called when you print an object or \"cast\" it to a string. We will\n",
      "have `__str__` return the Japanese name of the ingredient, and `to_english` will\n",
      "return the English translation.\n",
      "\n",
      "**Hint:**"
     ]
    },
    {
     "cell_type": "code",
     "collapsed": false,
     "input": [
      "def __str__(self):\n",
      "    return self.japanese"
     ],
     "language": "python",
     "metadata": {},
     "outputs": []
    },
    {
     "cell_type": "markdown",
     "metadata": {},
     "source": [
      "I have created (with data from http://www.bento.com/sushivoc.html) a file of\n",
      "common sushi ingredients, [oop_sushi.txt](oop_sushi.txt). The first column is the\n",
      "transliteration, the second column is the translation, if available (I\n",
      "selectively removed a few). "
     ]
    },
    {
     "cell_type": "markdown",
     "metadata": {},
     "source": [
      "## Exercise 3\n",
      "\n",
      "Write a function, `read_ingredients`, that accepts an opened file object as its\n",
      "argument and returns a list of `Ingredient` objects.\n",
      "\n",
      "Try calling this function on the sushi_terms.txt in an `if __name__ ==\n",
      "'__main__'` block and printing the first few ingredients to make sure it works."
     ]
    },
    {
     "cell_type": "markdown",
     "metadata": {},
     "source": [
      "## Execise 4\n",
      "\n",
      "Now, create a `Sushi` class that inherits from `object`. `Sushi`s It should have\n",
      "a constructor that accepts a list of `Ingredient` objects."
     ]
    },
    {
     "cell_type": "markdown",
     "metadata": {},
     "source": [
      "## Exercise 5\n",
      "\n",
      "Next, add a `__str__(self)` method. This method must return a string. \u00c2 The\n",
      "string should contain the Japanese representation of all the ingredients, but\n",
      "the string itself should be in proper English so, for example, \"buri\", \"buri and\n",
      "tsubugai\", and \"buri, tsubugai, and kanpachi\" are the correct way to print one,\n",
      "two, or three ingredients, respectively. Do not just join the ingredients with\n",
      "commas.\n",
      "\n",
      "**Hint:**\n",
      "\n",
      "    Since all the ingredients are `Ingredient` objects, you can just turn them\n",
      "    into strings to get their Japanese representation.\n",
      "\n",
      "**Hint:**\n",
      "\n",
      "    There are three cases: 1, 2, or 3+ items. It's okay to handle them separately."
     ]
    },
    {
     "cell_type": "markdown",
     "metadata": {},
     "source": [
      "## Execise 6\n",
      "\n",
      "Next, add a loop to your `__main__` block that prompts the user for a menu item\n",
      "and reads a line from `sys.stdin`. Provide a command for the user to quit (and\n",
      "tell them what it is). For now, expect the user to just type one or more\n",
      "ingredients on a line. You can use the built-in function `raw_input()` for this.\n",
      "\n",
      "You should then parse the ingredients, find the appropriate `Ingredient`\n",
      "objects, create a `Sushi` object, and print it in response. For example:\n",
      "\n",
      "    Enter your sushi ('QUIT' to exit): <strong>unagi fugu ika sake</strong>\n",
      "    unagi, fugu, ika, and sake\n",
      "\n",
      "You may need to review\n",
      "[dictionaries](http://software-carpentry.org/4_0/setdict/dict/) for this\n",
      "exercise."
     ]
    },
    {
     "cell_type": "markdown",
     "metadata": {},
     "source": [
      "## Execise 7\n",
      "\n",
      "Now, add another method to the Sushi class, `to_english(self)`, which should\n",
      "return the English translation for the Sushi object. Thus, it should return a\n",
      "similar string as the `__str__` method, but with English ingredients instead of\n",
      "Japanese ones. Do not call `__str__` and translate its string. Since you were\n",
      "given the ingredients initially, just use their `to_english` methods, format\n",
      "them correctly with commas and \"and\"s, and return that. Since both `to_english`\n",
      "and `__str__` have to format their ingredients in the same way, you might want\n",
      "to create a helper method that formats a list of ingredients (regardless of\n",
      "their language).\n",
      "\n",
      "You should now also print the result of calling `to_english` on the `Sushi`\n",
      "objects you make at the user's request. Thus:\n",
      "    \n",
      "    Enter your sushi ('QUIT' to exit): <strong>unagi fugu ika sake</strong>\n",
      "    unagi, fugu, ika, and sake\n",
      "    eel, fugu, squid, and salmon"
     ]
    },
    {
     "cell_type": "markdown",
     "metadata": {},
     "source": [
      "## Execise 8\n",
      "\n",
      "Now let's add a `Maki` class that inherits from `Sushi`. Everything will be the\n",
      "same, except instead of just printing the ingredients, we want to print\n",
      "something more descriptive. Let's have its `__str__` and `to_english` methods\n",
      "return a string of the form: `[ingredients] rolled in [rice] and [seaweed]`,\n",
      "where `[ingredients]` is our grammatical list of ingredients, and `[rice]` and\n",
      "`[seaweed]` are two other ingredients that will be consistent across all sushi\n",
      "types, but you should be sure to use the correct language at the correct time,\n",
      "like other ingredients. However, these ingredients won't be specified in the\n",
      "list of ingredients; they are implied by the type of sushi! You can create\n",
      "constants for these ingredients or handle them in some other way. I did the\n",
      "following:"
     ]
    },
    {
     "cell_type": "code",
     "collapsed": false,
     "input": [
      "RICE = Ingredient('su-meshi', 'sushi rice')\n",
      "SEAWEED = Ingredient('nori', 'seaweed')"
     ],
     "language": "python",
     "metadata": {},
     "outputs": []
    },
    {
     "cell_type": "markdown",
     "metadata": {},
     "source": [
      "## Execise 9\n",
      "\n",
      "Now, revise the `__main__` block so that if someone enters \"unagi fugu\" or\n",
      "\"unagi fugu sushi\" we consider it to be general sushi and create an appropriate\n",
      "`Sushi` object. However, if the last word was \"maki\", we should create a `Maki`\n",
      "object instead. You should do this in a way that is very easy to extend, because\n",
      "there are going to be many more of these. As a general rule, we'll expect the\n",
      "user to enter a number of Japanese ingredients, possibly following by a sushi\n",
      "type. If no sushi type is specified, we should default to the base class,\n",
      "otherwise we should use the type the user specified.\n",
      "\n",
      "**Hint:**"
     ]
    },
    {
     "cell_type": "code",
     "collapsed": false,
     "input": [
      "types = {'sushi': Sushi,\n",
      "         'maki': Maki}\n",
      "if words[-1] not in types:\n",
      "    Sushi(words)\n",
      "else:\n",
      "    ..."
     ],
     "language": "python",
     "metadata": {},
     "outputs": []
    },
    {
     "cell_type": "markdown",
     "metadata": {},
     "source": [
      "## Exercise 10\n",
      "\n",
      "Wonderful! We have a few more kinds of sushi to add, though. Futomaki, Temaki,\n",
      "and Uramaki are all types of Maki, and all should inherit from it. Their\n",
      "respective format strings should be of the following sort:\n",
      "\n",
      "- **Futomaki:** \"[ingredients] rolled in [rice] and [seaweed], with [seaweed]\n",
      "  facing out\"\n",
      "- **Temaki:**   \"cone of [seaweed] filled with [rice] and [ingredients]\"\n",
      "- **Uramaki:**  \"[ingredients] rolled in [seaweed] and [rice], with [rice]\n",
      "  facing out\"\n",
      "\n",
      "You may find the notion of a format string useful in this endeavor. For\n",
      "instance, if you have the following string:"
     ]
    },
    {
     "cell_type": "code",
     "collapsed": false,
     "input": [
      "my_str = \"{ingredients} rolled in {rice} and {seaweed}, with {seaweed} facing out\""
     ],
     "language": "python",
     "metadata": {},
     "outputs": []
    },
    {
     "cell_type": "markdown",
     "metadata": {},
     "source": [
      "Then you can do the following:"
     ]
    },
    {
     "cell_type": "code",
     "collapsed": false,
     "input": [
      "ingredient_str = \"yummy things\"\n",
      "vals = {'rice': RICE, 'seaweed': SEAWEED, 'ingredients': ingredient_str}\n",
      "print my_str.format(**vals)"
     ],
     "language": "python",
     "metadata": {},
     "outputs": []
    },
    {
     "cell_type": "markdown",
     "metadata": {},
     "source": [
      "This is in fact quite powerful, because you can include rice and seaweed even if\n",
      "they don't occur in the format string! Given this knowledge, you should try to\n",
      "rewrite the `Sushi` base class so that it formats a member variable with a\n",
      "dictionary of 'rice', 'seaweed', and 'ingredients'. Then, any child class need\n",
      "only change their value of this member and everything works. For example:"
     ]
    },
    {
     "cell_type": "code",
     "collapsed": false,
     "input": [
      "class Futomaki(Maki):\n",
      "    description = \"{ingredients} rolled in {rice} and {seaweed}, with {seaweed} facing out\"\n",
      "    \n",
      "class Temaki(Maki):\n",
      "    description = \"cone of {seaweed} filled with {rice} and {ingredients}\""
     ],
     "language": "python",
     "metadata": {},
     "outputs": []
    },
    {
     "cell_type": "markdown",
     "metadata": {},
     "source": [
      "Make sure this works for both Japanese and English strings, and make sure you've\n",
      "added these new Maki types to your `__main__` block so that the following work:\n",
      "    \n",
      "    Enter your sushi ('QUIT' to exit): <strong>unagi ohyo uramaki</strong>\n",
      "    unagi and ohyo rolled in nori and su-meshi, with su-meshi facing out\n",
      "    eel and halibut rolled in seaweed and sushi rice, with sushi rice facing out\n",
      "    \n",
      "    Enter your sushi ('QUIT' to exit): <strong>ikura temaki</strong>\n",
      "    cone of nori filled with su-meshi and ikura\n",
      "    cone of seaweed filled with sushi rice and salmon roe"
     ]
    },
    {
     "cell_type": "markdown",
     "metadata": {},
     "source": [
      "## Exercise 11\n",
      "\n",
      "Almost done. One last set of sushi classes to add. Add a Nigiri class that\n",
      "inherits from Sushi, and Gunkanmaki and Temarizushi classes that inherit from\n",
      "Nigiri. Since Nigiri usually only has one topping, you should take advantage of\n",
      "inheritance to make sure this is true for all such sushi by checking that this\n",
      "is the case in Nigiri's `__init__` method. If you run into an error, raise an\n",
      "InvalidSushiError (you will have to define one; Python's libraries aren't quite\n",
      "that complete). Don't forget to call it's parent's init method as well. Their\n",
      "descriptions are as follows:\n",
      "    \n",
      "- **Nigiri:** \"hand-formed [rice] topped with [ingredients]\"\n",
      "- **Gunkanmaki:** \"[ingredient] on [rice] wrapped in a strip of [seaweed]\"\n",
      "- **Temarizushi:** \"[ingredients] pressed into a ball of [rice]\"\n",
      "\n",
      "**Hint:**"
     ]
    },
    {
     "cell_type": "code",
     "collapsed": false,
     "input": [
      "class InvalidSushiError(Exception):\n",
      "    pass"
     ],
     "language": "python",
     "metadata": {},
     "outputs": []
    },
    {
     "cell_type": "markdown",
     "metadata": {},
     "source": [
      "As a final test, the following example should work:\n",
      "\n",
      "    \n",
      "    Enter your sushi ('QUIT' to exit): <strong>fugu ohyo ika unagi</strong>\n",
      "    fugu, ohyo, ika, and unagi\n",
      "    fugu, halibut, squid, and eel\n",
      "    \n",
      "    Enter your sushi ('QUIT' to exit): <strong>fugu ohyo ika unagi sushi</strong>\n",
      "    fugu, ohyo, ika, and unagi\n",
      "    fugu, halibut, squid, and eel\n",
      "    \n",
      "    Enter your sushi ('QUIT' to exit): <strong>ika sake gunkanmaki</strong>\n",
      "    Traceback (most recent call last):\n",
      "        ...\n",
      "    __main__.InvalidSushiError: Nigiri has only one topping"
     ]
    }
   ],
   "metadata": {}
  }
 ]
}