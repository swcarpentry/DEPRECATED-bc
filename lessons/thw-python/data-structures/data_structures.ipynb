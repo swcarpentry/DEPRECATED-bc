{
 "metadata": {
  "name": "data_structures"
 }, 
 "nbformat": 2, 
 "worksheets": [
  {
   "cells": [
    {
     "cell_type": "markdown", 
     "source": [
      "# Compound Data Types: Lists, Dictionaries, Sets, Tuples, and Reading Files"
     ]
    }, 
    {
     "cell_type": "markdown", 
     "source": [
      "", 
      "**Based on lecture materials by Milad Fatenejad, Joshua R. Smith, and Will Trimble**", 
      "", 
      "", 
      "", 
      "Python would be a farily useless language if it weren't for the compound data types. The main two are **lists** and **dictionaries**, but I'll mention **sets** and **tuples** as well. I'll also go over reading text data from files. "
     ]
    }, 
    {
     "cell_type": "markdown", 
     "source": [
      "## Lists", 
      "", 
      "", 
      "", 
      "A list is an ordered, indexable collection of data. Lets say you have collected some current and voltage data that looks like this:", 
      "", 
      "", 
      "", 
      "```", 
      "", 
      "voltage:", 
      "", 
      "-2.0", 
      "", 
      "-1.0", 
      "", 
      "0.0", 
      "", 
      "1.0", 
      "", 
      "2.0", 
      "", 
      "", 
      "", 
      "current:", 
      "", 
      "-1.0", 
      "", 
      "-0.5", 
      "", 
      "0.0", 
      "", 
      "0.5", 
      "", 
      "1.0", 
      "", 
      "```", 
      "", 
      "", 
      "", 
      "So you could put that data into lists like"
     ]
    }, 
    {
     "cell_type": "code", 
     "collapsed": true, 
     "input": [
      "voltageList = [-2.0, -1.0, 0.0, 1.0, 2.0]", 
      "", 
      "currentList = [-1.0, -0.5, 0.0, 0.5, 1.0]"
     ], 
     "language": "python", 
     "outputs": []
    }, 
    {
     "cell_type": "markdown", 
     "source": [
      "obviously voltageList is of type list:"
     ]
    }, 
    {
     "cell_type": "code", 
     "collapsed": true, 
     "input": [
      "type(voltageList)"
     ], 
     "language": "python", 
     "outputs": []
    }, 
    {
     "cell_type": "markdown", 
     "source": [
      "Python lists have the charming (annoying?) feature that they are indexed from zero. Therefore, to find the value of the first item in voltageList:"
     ]
    }, 
    {
     "cell_type": "code", 
     "collapsed": true, 
     "input": [
      "voltageList[0]"
     ], 
     "language": "python", 
     "outputs": []
    }, 
    {
     "cell_type": "markdown", 
     "source": [
      "And to find the value of the third item"
     ]
    }, 
    {
     "cell_type": "code", 
     "collapsed": true, 
     "input": [
      "voltageList[2]"
     ], 
     "language": "python", 
     "outputs": []
    }, 
    {
     "cell_type": "markdown", 
     "source": [
      "Lists can be indexed from the back using a negative index. The last item of currentList"
     ]
    }, 
    {
     "cell_type": "code", 
     "collapsed": true, 
     "input": [
      "currentList[-1]"
     ], 
     "language": "python", 
     "outputs": []
    }, 
    {
     "cell_type": "markdown", 
     "source": [
      "and the next-to-last"
     ]
    }, 
    {
     "cell_type": "code", 
     "collapsed": true, 
     "input": [
      "currentList[-2]"
     ], 
     "language": "python", 
     "outputs": []
    }, 
    {
     "cell_type": "markdown", 
     "source": [
      "You can \"slice\" items from within a list. Lets say we wanted the second through fourth items from voltageList"
     ]
    }, 
    {
     "cell_type": "code", 
     "collapsed": true, 
     "input": [
      "voltageList[1:4]"
     ], 
     "language": "python", 
     "outputs": []
    }, 
    {
     "cell_type": "markdown", 
     "source": [
      "Or from the third item to the end"
     ]
    }, 
    {
     "cell_type": "code", 
     "collapsed": true, 
     "input": [
      "voltageList[2:]"
     ], 
     "language": "python", 
     "outputs": []
    }, 
    {
     "cell_type": "markdown", 
     "source": [
      "and so on."
     ]
    }, 
    {
     "cell_type": "markdown", 
     "source": [
      "### Append and Extend", 
      "", 
      "", 
      "", 
      "Just like strings have methods, lists do too."
     ]
    }, 
    {
     "cell_type": "code", 
     "collapsed": true, 
     "input": [
      "dir(list)"
     ], 
     "language": "python", 
     "outputs": []
    }, 
    {
     "cell_type": "markdown", 
     "source": [
      "One useful method is append. Lets say we want to stick the following data on the end of both our lists.", 
      "", 
      "", 
      "", 
      "```", 
      "", 
      "voltage:", 
      "", 
      "3.0", 
      "", 
      "4.0", 
      "", 
      "", 
      "", 
      "current:", 
      "", 
      "1.5", 
      "", 
      "2.0", 
      "", 
      "```", 
      "", 
      "", 
      "", 
      "If you want to append items to the end of a list, use the append method."
     ]
    }, 
    {
     "cell_type": "code", 
     "collapsed": true, 
     "input": [
      "voltageList.append(3.)"
     ], 
     "language": "python", 
     "outputs": []
    }, 
    {
     "cell_type": "code", 
     "collapsed": true, 
     "input": [
      "voltageList.append(4.)"
     ], 
     "language": "python", 
     "outputs": []
    }, 
    {
     "cell_type": "code", 
     "collapsed": true, 
     "input": [
      "voltageList"
     ], 
     "language": "python", 
     "outputs": []
    }, 
    {
     "cell_type": "markdown", 
     "source": [
      "You can see how that approach might be tedious in certain cases. If you want to concatenate a list onto the end of another one, use extend."
     ]
    }, 
    {
     "cell_type": "code", 
     "collapsed": true, 
     "input": [
      "currentList.extend([1.5, 2.0])"
     ], 
     "language": "python", 
     "outputs": []
    }, 
    {
     "cell_type": "code", 
     "collapsed": true, 
     "input": [
      "currentList"
     ], 
     "language": "python", 
     "outputs": []
    }, 
    {
     "cell_type": "markdown", 
     "source": [
      "### Length of Lists", 
      "", 
      "", 
      "", 
      "Sometimes you want to know how many items are in a list. Use the len command."
     ]
    }, 
    {
     "cell_type": "code", 
     "collapsed": true, 
     "input": [
      "len(voltageList)"
     ], 
     "language": "python", 
     "outputs": []
    }, 
    {
     "cell_type": "markdown", 
     "source": [
      "### Heterogeneous Data", 
      "", 
      "", 
      "", 
      "Lists can contain hetergeneous data."
     ]
    }, 
    {
     "cell_type": "code", 
     "collapsed": true, 
     "input": [
      "dataList = [\"experiment: current vs. voltage\", \\", 
      "", 
      "    \"run\", 47, \\", 
      "", 
      "    \"temperature\", 372.756, \\", 
      "", 
      "    \"current\", [-1.0, -0.5, 0.0, 0.5, 1.0], \\", 
      "", 
      "    \"voltage\", [-2.0, -1.0, 0.0, 1.0, 2.0]]"
     ], 
     "language": "python", 
     "outputs": []
    }, 
    {
     "cell_type": "code", 
     "collapsed": true, 
     "input": [
      "print dataList"
     ], 
     "language": "python", 
     "outputs": []
    }, 
    {
     "cell_type": "markdown", 
     "source": [
      " ", 
      "", 
      "We've got strings, ints, floats, and even other lists in there. The slashes are there so we can continue on the next line. They aren't necessary but they can sometimes make things look better.", 
      "", 
      "", 
      "", 
      "## Assigning Variables to Other Variables", 
      "", 
      "", 
      "", 
      "Something that might cause you headaches in the future is how python deals with assignment of one variable to another. When you set a variable equal to another, both variables point to the same thing. Changing the first one ends up changing the second. Be careful about this fact."
     ]
    }, 
    {
     "cell_type": "code", 
     "collapsed": true, 
     "input": [
      "a = [1,2]"
     ], 
     "language": "python", 
     "outputs": []
    }, 
    {
     "cell_type": "code", 
     "collapsed": true, 
     "input": [
      "b = a"
     ], 
     "language": "python", 
     "outputs": []
    }, 
    {
     "cell_type": "code", 
     "collapsed": true, 
     "input": [
      "a.append(10)"
     ], 
     "language": "python", 
     "outputs": []
    }, 
    {
     "cell_type": "code", 
     "collapsed": true, 
     "input": [
      "b"
     ], 
     "language": "python", 
     "outputs": []
    }, 
    {
     "cell_type": "markdown", 
     "source": [
      "There's a ton more to know about lists, but lets press on. Check out Dive Into Python or the help documentation for more info.", 
      "", 
      "", 
      "", 
      "## Reading From Files", 
      "", 
      "", 
      "", 
      "At this point it is useful to take a detour regarding files. Lets say you have a file with some current and voltage data and some metadata.", 
      "", 
      "", 
      "", 
      "```", 
      "", 
      "data.dat:", 
      "", 
      "", 
      "", 
      "experiment: current vs. voltage", 
      "", 
      "run: 47", 
      "", 
      "temperature: 372.756", 
      "", 
      "current: [-1.0, -0.5, 0.0, 0.5, 1.0]", 
      "", 
      "voltage: [-2.0, -1.0, 0.0, 1.0, 2.0]", 
      "", 
      "```", 
      "", 
      "", 
      "", 
      "We can read this data into a list type variable pretty easily."
     ]
    }, 
    {
     "cell_type": "code", 
     "collapsed": true, 
     "input": [
      "f = open(\"data.dat\")"
     ], 
     "language": "python", 
     "outputs": []
    }, 
    {
     "cell_type": "code", 
     "collapsed": true, 
     "input": [
      "ivdata = f.readlines()"
     ], 
     "language": "python", 
     "outputs": []
    }, 
    {
     "cell_type": "code", 
     "collapsed": true, 
     "input": [
      "f.close()"
     ], 
     "language": "python", 
     "outputs": []
    }, 
    {
     "cell_type": "code", 
     "collapsed": true, 
     "input": [
      "ivdata"
     ], 
     "language": "python", 
     "outputs": []
    }, 
    {
     "cell_type": "markdown", 
     "source": [
      "Right now the data in ivdata isn't in a particularly useful format, but you can imagine that with some additional programming we could straighten it out. We will eventually do that.", 
      "", 
      "", 
      "", 
      "## Tuples", 
      "", 
      "", 
      "", 
      "Tuples are another of python's basic compound data types that are almost like lists. The difference is that a tuple is immutable; once you set the data in it, the tuple cannot be changed. You define a tuple as follows."
     ]
    }, 
    {
     "cell_type": "code", 
     "collapsed": true, 
     "input": [
      "tup = (\"red\", \"white\", \"blue\")", 
      "", 
      " "
     ], 
     "language": "python", 
     "outputs": []
    }, 
    {
     "cell_type": "code", 
     "collapsed": true, 
     "input": [
      "type(tup)"
     ], 
     "language": "python", 
     "outputs": []
    }, 
    {
     "cell_type": "markdown", 
     "source": [
      "You can slice and index the tuple exactly like you would a list. Tuples are used in the inner workings of python, and a tuple can be used as a key in a dictionary, whereas a list cannot as we will see in a moment.", 
      "", 
      "", 
      "", 
      "See if you can retrieve the third element of **tup**:"
     ]
    }, 
    {
     "cell_type": "code", 
     "collapsed": true, 
     "input": [
      " "
     ], 
     "language": "python", 
     "outputs": []
    }, 
    {
     "cell_type": "markdown", 
     "source": [
      "## Sets", 
      "", 
      "", 
      "", 
      "Most introductary python courses do not go over sets this early (or at all), but I've found this data type to be useful. The python set type is similar to the idea of a mathematical set: it is an unordered collection of unique things. Consider:"
     ]
    }, 
    {
     "cell_type": "code", 
     "collapsed": true, 
     "input": [
      "fruit = set([\"apple\", \"banana\", \"pear\", \"banana\"]) "
     ], 
     "language": "python", 
     "outputs": []
    }, 
    {
     "cell_type": "markdown", 
     "source": [
      "ou have to use a list to create a set.", 
      "", 
      "", 
      "", 
      "", 
      "", 
      "Since sets contain only unique items, there's only one banana in the set fruit.", 
      "", 
      "", 
      "", 
      "You can do things like intersections, unions, etc. on sets just like in math. Here's an example of an intersection of two sets (the common items in both sets)."
     ]
    }, 
    {
     "cell_type": "code", 
     "collapsed": true, 
     "input": [
      "firstBowl = set([\"apple\", \"banana\", \"pear\", \"peach\"])", 
      "", 
      " "
     ], 
     "language": "python", 
     "outputs": []
    }, 
    {
     "cell_type": "code", 
     "collapsed": true, 
     "input": [
      "secondBowl = set([\"peach\", \"watermelon\", \"orange\", \"apple\"])", 
      "", 
      " "
     ], 
     "language": "python", 
     "outputs": []
    }, 
    {
     "cell_type": "code", 
     "collapsed": true, 
     "input": [
      "set.intersection(firstBowl, secondBowl)"
     ], 
     "language": "python", 
     "outputs": []
    }, 
    {
     "cell_type": "code", 
     "collapsed": true, 
     "input": [
      "set(['apple', 'peach'])"
     ], 
     "language": "python", 
     "outputs": []
    }, 
    {
     "cell_type": "markdown", 
     "source": [
      "You can check out more info using the help docs. We won't be returning to sets, but its good for you to know they exist.", 
      "", 
      "", 
      "", 
      "## Dictionaries", 
      "", 
      "", 
      "", 
      "Recall our file data.dat which contained our current-voltage data and also some metadata. We were able to import the data as a list, but clearly the list type is not the optial choice for a data model. The dictionary is a much better choice. A python dictionary is a collection of key, value pairs. The key is a way to name the data, and the value is the data itself. Here's a way to create a dictionary that contains all the data in our data.dat file in a more sensible way than a list."
     ]
    }, 
    {
     "cell_type": "code", 
     "collapsed": true, 
     "input": [
      "dataDict = {\"experiment\": \"current vs. voltage\", \\", 
      "", 
      "                    \"run\": 47, \\", 
      "", 
      "                    \"temperature\": 372.756, \\", 
      "", 
      "                    \"current\": [-1.0, -0.5, 0.0, 0.5, 1.0], \\", 
      "", 
      "                    \"voltage\": [-2.0, -1.0, 0.0, 1.0, 2.0]}"
     ], 
     "language": "python", 
     "outputs": []
    }, 
    {
     "cell_type": "code", 
     "collapsed": true, 
     "input": [
      "print dataDict"
     ], 
     "language": "python", 
     "outputs": []
    }, 
    {
     "cell_type": "markdown", 
     "source": [
      "This model is clearly better because you no longer have to remember that the run number is in the second position of the list, you just refer directly to \"run\":"
     ]
    }, 
    {
     "cell_type": "code", 
     "collapsed": true, 
     "input": [
      "dataDict[\"run\"]"
     ], 
     "language": "python", 
     "outputs": []
    }, 
    {
     "cell_type": "markdown", 
     "source": [
      "If you wanted the voltage data list:"
     ]
    }, 
    {
     "cell_type": "code", 
     "collapsed": true, 
     "input": [
      "dataDict[\"voltage\"]"
     ], 
     "language": "python", 
     "outputs": []
    }, 
    {
     "cell_type": "markdown", 
     "source": [
      "Or perhaps you wanted the last element of the current data list"
     ]
    }, 
    {
     "cell_type": "code", 
     "collapsed": true, 
     "input": [
      "dataDict[\"current\"][-1]"
     ], 
     "language": "python", 
     "outputs": []
    }, 
    {
     "cell_type": "markdown", 
     "source": [
      "Once a dictionary has been created, you can change the values of the data if you like."
     ]
    }, 
    {
     "cell_type": "code", 
     "collapsed": true, 
     "input": [
      "dataDict[\"temperature\"] = 3275.39"
     ], 
     "language": "python", 
     "outputs": []
    }, 
    {
     "cell_type": "markdown", 
     "source": [
      "You can also add new keys to the dictionary.  Note that dictionaries are indexed with square braces, just like lists--they look the same, even though they're very different."
     ]
    }, 
    {
     "cell_type": "code", 
     "collapsed": true, 
     "input": [
      "dataDict[\"user\"] = \"Johann G. von Ulm\""
     ], 
     "language": "python", 
     "outputs": []
    }, 
    {
     "cell_type": "markdown", 
     "source": [
      "Dictionaries, like strings, lists, and all the rest, have built-in methods. Lets say you wanted all the keys from a particular dictionary."
     ]
    }, 
    {
     "cell_type": "code", 
     "collapsed": true, 
     "input": [
      "dataDict.keys()"
     ], 
     "language": "python", 
     "outputs": []
    }, 
    {
     "cell_type": "markdown", 
     "source": [
      "also, values"
     ]
    }, 
    {
     "cell_type": "code", 
     "collapsed": true, 
     "input": [
      "dataDict.values()"
     ], 
     "language": "python", 
     "outputs": []
    }
   ]
  }
 ]
}