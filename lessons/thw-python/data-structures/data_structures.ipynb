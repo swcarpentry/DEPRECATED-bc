{
 "metadata": {
  "name": ""
 },
 "nbformat": 3,
 "nbformat_minor": 0,
 "worksheets": [
  {
   "cells": [
    {
     "cell_type": "markdown",
     "metadata": {},
     "source": [
      "# Basic Python Containers: Lists, Dictionaries, Sets, Tuples"
     ]
    },
    {
     "cell_type": "markdown",
     "metadata": {},
     "source": [
      "**Based on lecture materials by Milad Fatenejad, Joshua R. Smith, Will Trimble, and Anthony Scopatz**\n",
      "\n",
      "Python would be a fairly useless language if it weren't for the compound data types. The main two are **lists** and **dictionaries**, but we'll discuss **sets** and **tuples** as well. I'll also go over reading text data from files. "
     ]
    },
    {
     "cell_type": "markdown",
     "metadata": {},
     "source": [
      "## Lists\n",
      "\n",
      "A list is an ordered, indexable collection of data. Lets say you have collected some current and voltage data that looks like this:\n",
      "\n",
      "    voltage:\n",
      "        -2.0\n",
      "        -1.0\n",
      "        0.0\n",
      "        1.0\n",
      "        2.0\n",
      "\n",
      "    current:\n",
      "        -1.0\n",
      "        -0.5\n",
      "        0.0\n",
      "        0.5\n",
      "        1.0\n",
      "\n",
      "So you could put that data into lists like:"
     ]
    },
    {
     "cell_type": "code",
     "collapsed": true,
     "input": [
      "voltage = [-2.0, -1.0, 0.0, 1.0, 2.0]\n",
      "\n",
      "current = [-1.0, -0.5, 0.0, 0.5, 1.0]"
     ],
     "language": "python",
     "metadata": {},
     "outputs": []
    },
    {
     "cell_type": "markdown",
     "metadata": {},
     "source": [
      "**voltage** is of type list:"
     ]
    },
    {
     "cell_type": "code",
     "collapsed": true,
     "input": [
      "type(voltage)"
     ],
     "language": "python",
     "metadata": {},
     "outputs": []
    },
    {
     "cell_type": "markdown",
     "metadata": {},
     "source": [
      "Python lists have the feature that they are indexed from zero. Therefore, to find the value of the first item in voltage:"
     ]
    },
    {
     "cell_type": "code",
     "collapsed": true,
     "input": [
      "voltage[0]"
     ],
     "language": "python",
     "metadata": {},
     "outputs": []
    },
    {
     "cell_type": "markdown",
     "metadata": {},
     "source": [
      "And to find the value of the third item"
     ]
    },
    {
     "cell_type": "code",
     "collapsed": true,
     "input": [
      "voltage[2]"
     ],
     "language": "python",
     "metadata": {},
     "outputs": []
    },
    {
     "cell_type": "markdown",
     "metadata": {},
     "source": [
      "Lists can be indexed from the back using a negative index. The last item of current"
     ]
    },
    {
     "cell_type": "code",
     "collapsed": true,
     "input": [
      "current[-1]"
     ],
     "language": "python",
     "metadata": {},
     "outputs": []
    },
    {
     "cell_type": "markdown",
     "metadata": {},
     "source": [
      "and the next-to-last"
     ]
    },
    {
     "cell_type": "code",
     "collapsed": true,
     "input": [
      "current[-2]"
     ],
     "language": "python",
     "metadata": {},
     "outputs": []
    },
    {
     "cell_type": "markdown",
     "metadata": {},
     "source": [
      "You can \"slice\" items from within a list. Lets say we wanted the second through fourth items from voltage"
     ]
    },
    {
     "cell_type": "code",
     "collapsed": true,
     "input": [
      "voltage[1:4]"
     ],
     "language": "python",
     "metadata": {},
     "outputs": []
    },
    {
     "cell_type": "markdown",
     "metadata": {},
     "source": [
      "Or from the third item to the end"
     ]
    },
    {
     "cell_type": "code",
     "collapsed": true,
     "input": [
      "voltage[2:]"
     ],
     "language": "python",
     "metadata": {},
     "outputs": []
    },
    {
     "cell_type": "markdown",
     "metadata": {},
     "source": [
      "and so on."
     ]
    },
    {
     "cell_type": "markdown",
     "metadata": {},
     "source": [
      "### Append and Extend\n",
      "\n",
      "Just like strings have methods, lists do too."
     ]
    },
    {
     "cell_type": "code",
     "collapsed": true,
     "input": [
      "dir(list)"
     ],
     "language": "python",
     "metadata": {},
     "outputs": []
    },
    {
     "cell_type": "markdown",
     "metadata": {},
     "source": [
      "One useful method is append. Lets say we want to stick the following data on the end of both our lists :\n",
      "\n",
      "    voltage:\n",
      "        3.0\n",
      "        4.0\n",
      "        \n",
      "    current:\n",
      "        1.5\n",
      "        2.0\n",
      "\n",
      "If you want to append items to the end of a list, use the append method."
     ]
    },
    {
     "cell_type": "code",
     "collapsed": true,
     "input": [
      "voltage.append(3.0)"
     ],
     "language": "python",
     "metadata": {},
     "outputs": []
    },
    {
     "cell_type": "code",
     "collapsed": true,
     "input": [
      "voltage.append(4.0)"
     ],
     "language": "python",
     "metadata": {},
     "outputs": []
    },
    {
     "cell_type": "code",
     "collapsed": true,
     "input": [
      "voltage"
     ],
     "language": "python",
     "metadata": {},
     "outputs": []
    },
    {
     "cell_type": "markdown",
     "metadata": {},
     "source": [
      "You can see how that approach might be tedious in certain cases. If you want to concatenate a list onto the end of another one, use extend."
     ]
    },
    {
     "cell_type": "code",
     "collapsed": true,
     "input": [
      "current.extend([1.5, 2.0])"
     ],
     "language": "python",
     "metadata": {},
     "outputs": []
    },
    {
     "cell_type": "code",
     "collapsed": true,
     "input": [
      "current"
     ],
     "language": "python",
     "metadata": {},
     "outputs": []
    },
    {
     "cell_type": "markdown",
     "metadata": {},
     "source": [
      "### Length of Lists\n",
      "\n",
      "\n",
      "\n",
      "Sometimes you want to know how many items are in a list. Use the len command."
     ]
    },
    {
     "cell_type": "code",
     "collapsed": true,
     "input": [
      "len(voltage)"
     ],
     "language": "python",
     "metadata": {},
     "outputs": []
    },
    {
     "cell_type": "markdown",
     "metadata": {},
     "source": [
      "### Heterogeneous Data\n",
      "\n",
      "\n",
      "\n",
      "Lists can contain hetergeneous data."
     ]
    },
    {
     "cell_type": "code",
     "collapsed": true,
     "input": [
      "data = [\"experiment: current vs. voltage\", \n",
      "        \"run\", 47,\n",
      "        \"temperature\", 372.756, \n",
      "        \"current\", [-1.0, -0.5, 0.0, 0.5, 1.0], \n",
      "        \"voltage\", [-2.0, -1.0, 0.0, 1.0, 2.0],\n",
      "        ]"
     ],
     "language": "python",
     "metadata": {},
     "outputs": []
    },
    {
     "cell_type": "code",
     "collapsed": true,
     "input": [
      "print data"
     ],
     "language": "python",
     "metadata": {},
     "outputs": []
    },
    {
     "cell_type": "markdown",
     "metadata": {},
     "source": [
      "We've got strings, ints, floats, and even other lists in there. The slashes are there so we can continue on the next line. They aren't necessary but they can sometimes make things look better."
     ]
    },
    {
     "cell_type": "markdown",
     "metadata": {},
     "source": [
      "## Assigning Variables to Other Variables\n",
      "\n",
      "Something that might cause you headaches in the future is how python deals with assignment of one variable to another. When you set a variable equal to another, both variables point to the same thing. Changing the first one ends up changing the second. Be careful about this fact."
     ]
    },
    {
     "cell_type": "code",
     "collapsed": true,
     "input": [
      "a = [1, 2]"
     ],
     "language": "python",
     "metadata": {},
     "outputs": []
    },
    {
     "cell_type": "code",
     "collapsed": true,
     "input": [
      "b = a"
     ],
     "language": "python",
     "metadata": {},
     "outputs": []
    },
    {
     "cell_type": "code",
     "collapsed": true,
     "input": [
      "a.append(10)"
     ],
     "language": "python",
     "metadata": {},
     "outputs": []
    },
    {
     "cell_type": "code",
     "collapsed": true,
     "input": [
      "b"
     ],
     "language": "python",
     "metadata": {},
     "outputs": []
    },
    {
     "cell_type": "markdown",
     "metadata": {},
     "source": [
      "There's a ton more to know about lists, but lets press on. Check out Dive Into Python or the help documentation for more info."
     ]
    },
    {
     "cell_type": "markdown",
     "metadata": {},
     "source": [
      "## Tuples\n",
      "\n",
      "Tuples are another of Python's basic container data types. They are very similar to lists but with one major difference. Tuples are **immutable**. Once data is placed into a tuple, the tuple cannot be changed. You define a tuple as follows:"
     ]
    },
    {
     "cell_type": "code",
     "collapsed": true,
     "input": [
      "tup = (\"red\", \"white\", \"blue\") "
     ],
     "language": "python",
     "metadata": {},
     "outputs": []
    },
    {
     "cell_type": "code",
     "collapsed": true,
     "input": [
      "type(tup)"
     ],
     "language": "python",
     "metadata": {},
     "outputs": []
    },
    {
     "cell_type": "markdown",
     "metadata": {},
     "source": [
      "You can slice and index the tuple exactly like you would a list. Tuples are used in the inner workings of python, and a tuple can be used as a key in a dictionary, whereas a list cannot as we will see in a moment.\n",
      "\n",
      "See if you can retrieve the third element of **tup**:"
     ]
    },
    {
     "cell_type": "code",
     "collapsed": true,
     "input": [
      " "
     ],
     "language": "python",
     "metadata": {},
     "outputs": []
    },
    {
     "cell_type": "markdown",
     "metadata": {},
     "source": [
      "## Sets\n",
      "\n",
      "\n",
      "\n",
      "Most introductory python courses do not go over sets this early (or at all), but I've found this data type to be useful. The python set type is similar to the idea of a mathematical set: it is an unordered collection of unique things. Consider:"
     ]
    },
    {
     "cell_type": "code",
     "collapsed": true,
     "input": [
      "fruit = {\"apple\", \"banana\", \"pear\", \"banana\"}"
     ],
     "language": "python",
     "metadata": {},
     "outputs": []
    },
    {
     "cell_type": "markdown",
     "metadata": {},
     "source": [
      "ou have to use a list to create a set.\n",
      "\n",
      "\n",
      "\n",
      "\n",
      "\n",
      "Since sets contain only unique items, there's only one banana in the set fruit.\n",
      "\n",
      "\n",
      "\n",
      "You can do things like intersections, unions, etc. on sets just like in math. Here's an example of an intersection of two sets (the common items in both sets)."
     ]
    },
    {
     "cell_type": "code",
     "collapsed": true,
     "input": [
      "bowl1 = {\"apple\", \"banana\", \"pear\", \"peach\"}"
     ],
     "language": "python",
     "metadata": {},
     "outputs": []
    },
    {
     "cell_type": "code",
     "collapsed": true,
     "input": [
      "bowl2 = {\"peach\", \"watermelon\", \"orange\", \"apple\"}"
     ],
     "language": "python",
     "metadata": {},
     "outputs": []
    },
    {
     "cell_type": "code",
     "collapsed": true,
     "input": [
      "bowl1 & bowl2"
     ],
     "language": "python",
     "metadata": {},
     "outputs": []
    },
    {
     "cell_type": "code",
     "collapsed": false,
     "input": [
      "bowl1 | bowl2"
     ],
     "language": "python",
     "metadata": {},
     "outputs": []
    },
    {
     "cell_type": "markdown",
     "metadata": {},
     "source": [
      "You can check out more info using the help docs. We won't be returning to sets, but its good for you to know they exist."
     ]
    },
    {
     "cell_type": "markdown",
     "metadata": {},
     "source": [
      "## Dictionaries\n",
      "\n",
      "A Python dictionary is a unordered collection of key-value pairs.  Dictionaries are by far the most important data type in Python. The key is a way to name the data, and the value is the data itself. Here's a way to create a dictionary that contains all the data in our data.dat file in a more sensible way than a list."
     ]
    },
    {
     "cell_type": "code",
     "collapsed": true,
     "input": [
      "data = {\"experiment\": \"current vs. voltage\",\n",
      "        \"run\": 47,\n",
      "        \"temperature\": 372.756, \n",
      "        \"current\": [-1.0, -0.5, 0.0, 0.5, 1.0], \n",
      "        \"voltage\": [-2.0, -1.0, 0.0, 1.0, 2.0],\n",
      "        }"
     ],
     "language": "python",
     "metadata": {},
     "outputs": []
    },
    {
     "cell_type": "code",
     "collapsed": true,
     "input": [
      "print data"
     ],
     "language": "python",
     "metadata": {},
     "outputs": []
    },
    {
     "cell_type": "markdown",
     "metadata": {},
     "source": [
      "This model is clearly better because you no longer have to remember that the run number is in the second position of the list, you just refer directly to \"run\":"
     ]
    },
    {
     "cell_type": "code",
     "collapsed": true,
     "input": [
      "data[\"run\"]"
     ],
     "language": "python",
     "metadata": {},
     "outputs": []
    },
    {
     "cell_type": "markdown",
     "metadata": {},
     "source": [
      "If you wanted the voltage data list:"
     ]
    },
    {
     "cell_type": "code",
     "collapsed": true,
     "input": [
      "data[\"voltage\"]"
     ],
     "language": "python",
     "metadata": {},
     "outputs": []
    },
    {
     "cell_type": "markdown",
     "metadata": {},
     "source": [
      "Or perhaps you wanted the last element of the current data list"
     ]
    },
    {
     "cell_type": "code",
     "collapsed": true,
     "input": [
      "data[\"current\"][-1]"
     ],
     "language": "python",
     "metadata": {},
     "outputs": []
    },
    {
     "cell_type": "markdown",
     "metadata": {},
     "source": [
      "Once a dictionary has been created, you can change the values of the data if you like."
     ]
    },
    {
     "cell_type": "code",
     "collapsed": true,
     "input": [
      "data[\"temperature\"] = 3275.39"
     ],
     "language": "python",
     "metadata": {},
     "outputs": []
    },
    {
     "cell_type": "markdown",
     "metadata": {},
     "source": [
      "You can also add new keys to the dictionary.  Note that dictionaries are indexed with square braces, just like lists--they look the same, even though they're very different."
     ]
    },
    {
     "cell_type": "code",
     "collapsed": true,
     "input": [
      "data[\"user\"] = \"Johann G. von Ulm\""
     ],
     "language": "python",
     "metadata": {},
     "outputs": []
    },
    {
     "cell_type": "markdown",
     "metadata": {},
     "source": [
      "Dictionaries, like strings, lists, and all the rest, have built-in methods. Lets say you wanted all the keys from a particular dictionary."
     ]
    },
    {
     "cell_type": "code",
     "collapsed": true,
     "input": [
      "data.keys()"
     ],
     "language": "python",
     "metadata": {},
     "outputs": []
    },
    {
     "cell_type": "markdown",
     "metadata": {},
     "source": [
      "also, values"
     ]
    },
    {
     "cell_type": "code",
     "collapsed": true,
     "input": [
      "data.values()"
     ],
     "language": "python",
     "metadata": {},
     "outputs": []
    }
   ],
   "metadata": {}
  }
 ]
}