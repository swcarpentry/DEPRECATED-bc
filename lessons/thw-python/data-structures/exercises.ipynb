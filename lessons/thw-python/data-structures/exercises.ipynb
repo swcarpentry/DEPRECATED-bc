{
 "metadata": {
  "name": "exercises"
 },
 "nbformat": 3,
 "nbformat_minor": 0,
 "worksheets": [
  {
   "cells": [
    {
     "cell_type": "markdown",
     "metadata": {},
     "source": [
      "# Exercise 1\n",
      "\n",
      "Calculate the mean of the numbers 2, 4, and 10."
     ]
    },
    {
     "cell_type": "code",
     "collapsed": true,
     "input": [],
     "language": "python",
     "metadata": {},
     "outputs": []
    },
    {
     "cell_type": "markdown",
     "metadata": {},
     "source": [
      "Check your answer."
     ]
    },
    {
     "cell_type": "code",
     "collapsed": false,
     "input": [],
     "language": "python",
     "metadata": {},
     "outputs": []
    },
    {
     "cell_type": "markdown",
     "metadata": {},
     "source": [
      "# Exercise 2\n",
      "\n",
      "Make a list with 5 things in it, say, \"Cleese\", \"Chapman\", \"Idle\", \"Palin\", and \"Gilliam\""
     ]
    },
    {
     "cell_type": "code",
     "collapsed": false,
     "input": [
      "listofsillypeople = "
     ],
     "language": "python",
     "metadata": {},
     "outputs": []
    },
    {
     "cell_type": "markdown",
     "metadata": {},
     "source": [
      "Add two more things, say, \"Izzard\" and \"Booth\""
     ]
    },
    {
     "cell_type": "code",
     "collapsed": true,
     "input": [
      "   "
     ],
     "language": "python",
     "metadata": {},
     "outputs": []
    },
    {
     "cell_type": "markdown",
     "metadata": {},
     "source": [
      "Retrieve the \"Chapman\" field from listofsillypeople."
     ]
    },
    {
     "cell_type": "code",
     "collapsed": false,
     "input": [],
     "language": "python",
     "metadata": {},
     "outputs": []
    },
    {
     "cell_type": "markdown",
     "metadata": {},
     "source": [
      "# Exercise 3\n",
      "\n",
      "Create a list containing the strings \"zero\", \"one\", \"two\", \"three\", \"four\", \"five\", \"six\", \"seven\", \"eight\", and \"nine\".\n",
      "\n"
     ]
    },
    {
     "cell_type": "code",
     "collapsed": true,
     "input": [
      "digitslist = [   ]"
     ],
     "language": "python",
     "metadata": {},
     "outputs": []
    },
    {
     "cell_type": "markdown",
     "metadata": {},
     "source": [
      "Predict the output of the following command."
     ]
    },
    {
     "cell_type": "code",
     "collapsed": false,
     "input": [
      "print digistlist[8] + digistlist[5]"
     ],
     "language": "python",
     "metadata": {},
     "outputs": []
    },
    {
     "cell_type": "markdown",
     "metadata": {},
     "source": [
      "# Exercise 4\n",
      "\n",
      "1. Make a dictionary whose keys are the strings \"zero\" through \"nine\" and whose values are ints 0 through 9.\n",
      "\n"
     ]
    },
    {
     "cell_type": "code",
     "collapsed": true,
     "input": [
      "digitsdict = {    }"
     ],
     "language": "python",
     "metadata": {},
     "outputs": []
    },
    {
     "cell_type": "markdown",
     "metadata": {},
     "source": [
      "Predict the output of the following command"
     ]
    },
    {
     "cell_type": "code",
     "collapsed": false,
     "input": [
      "print digitsdict[\"nine\"] + digitsdict[\"seven\"]"
     ],
     "language": "python",
     "metadata": {},
     "outputs": []
    },
    {
     "cell_type": "markdown",
     "metadata": {},
     "source": [
      "How about this one?"
     ]
    },
    {
     "cell_type": "code",
     "collapsed": false,
     "input": [
      "print digitsdict[digitslist[1]] + digitsdict[digitslist[2]] + digitsdict[\"zero\"]"
     ],
     "language": "python",
     "metadata": {},
     "outputs": []
    },
    {
     "cell_type": "markdown",
     "metadata": {},
     "source": [
      "# Exercise 5\n",
      "Modify the following snippet which prints each line in the file big_animals.txt to print the length of each line instead.  \n"
     ]
    },
    {
     "cell_type": "code",
     "collapsed": true,
     "input": [
      "fh_animals = open(\"../sw_engineering/big_animals.txt\")\n",
      "for line in fh_animals:\n",
      "    print line,\n"
     ],
     "language": "python",
     "metadata": {},
     "outputs": []
    }
   ],
   "metadata": {}
  }
 ]
}