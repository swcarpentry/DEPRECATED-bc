{
 "metadata": {
  "name": "exercises"
 },
 "nbformat": 3,
 "nbformat_minor": 0,
 "worksheets": [
  {
   "cells": [
    {
     "cell_type": "markdown",
     "metadata": {},
     "source": [
      "# Exercise 1\n",
      "\n",
      "Calculate the mean of the numbers 2, 4, and 10."
     ]
    },
    {
     "cell_type": "code",
     "collapsed": true,
     "input": [],
     "language": "python",
     "metadata": {},
     "outputs": []
    },
    {
     "cell_type": "markdown",
     "metadata": {},
     "source": [
      "Check your answer.  (Hint: it's not 5)"
     ]
    },
    {
     "cell_type": "code",
     "collapsed": false,
     "input": [],
     "language": "python",
     "metadata": {},
     "outputs": []
    },
    {
     "cell_type": "markdown",
     "metadata": {},
     "source": [
      "# Exercise 2\n",
      "\n",
      "Make a list with 6 things in it, say, \"Cleese\", \"Chapman\", \"Idle\", \"Palin\", \"Jones\", and \"Gilliam\""
     ]
    },
    {
     "cell_type": "code",
     "collapsed": false,
     "input": [
      "listofsillypeople = "
     ],
     "language": "python",
     "metadata": {},
     "outputs": []
    },
    {
     "cell_type": "markdown",
     "metadata": {},
     "source": [
      "Add two more things, say, \"Izzard\" and \"Booth\""
     ]
    },
    {
     "cell_type": "code",
     "collapsed": true,
     "input": [
      "   "
     ],
     "language": "python",
     "metadata": {},
     "outputs": []
    },
    {
     "cell_type": "markdown",
     "metadata": {},
     "source": [
      "Retrieve the \"Chapman\" field from listofsillypeople."
     ]
    },
    {
     "cell_type": "code",
     "collapsed": false,
     "input": [],
     "language": "python",
     "metadata": {},
     "outputs": []
    },
    {
     "cell_type": "markdown",
     "metadata": {},
     "source": [
      "# Exercise 3\n",
      "\n",
      "Create a list called `digitslist` containing the strings \"zero\", \"one\", \"two\", \"three\", \"four\", \"five\", \"six\", \"seven\", \"eight\", and \"nine\".\n",
      "\n"
     ]
    },
    {
     "cell_type": "code",
     "collapsed": true,
     "input": [
      "digitslist = [   ]"
     ],
     "language": "python",
     "metadata": {},
     "outputs": []
    },
    {
     "cell_type": "markdown",
     "metadata": {},
     "source": [
      "Predict the output of the following command."
     ]
    },
    {
     "cell_type": "code",
     "collapsed": false,
     "input": [
      "print digitslist[8] + digitslist[5]"
     ],
     "language": "python",
     "metadata": {},
     "outputs": []
    },
    {
     "cell_type": "markdown",
     "metadata": {},
     "source": [
      "# Exercise 4\n",
      "\n",
      "Make a dictionary called `digitsdict` whose keys are the strings \"zero\" through \"nine\" and whose values are ints 0 through 9."
     ]
    },
    {
     "cell_type": "code",
     "collapsed": true,
     "input": [
      "digitsdict = {    }"
     ],
     "language": "python",
     "metadata": {},
     "outputs": []
    },
    {
     "cell_type": "markdown",
     "metadata": {},
     "source": [
      "Predict the output of the following command"
     ]
    },
    {
     "cell_type": "code",
     "collapsed": false,
     "input": [
      "print digitsdict[\"nine\"] + digitsdict[\"seven\"]"
     ],
     "language": "python",
     "metadata": {},
     "outputs": []
    },
    {
     "cell_type": "markdown",
     "metadata": {},
     "source": [
      "How about this one?"
     ]
    },
    {
     "cell_type": "code",
     "collapsed": false,
     "input": [
      "print digitsdict[digitslist[1]] + digitsdict[digitslist[2]] + digitsdict[\"zero\"]"
     ],
     "language": "python",
     "metadata": {},
     "outputs": []
    },
    {
     "cell_type": "markdown",
     "metadata": {},
     "source": [
      "# Exercise 5\n",
      "The following snippet prints prints each line in the file `data.dat`.  Modify it to print the length of each line instead.  "
     ]
    },
    {
     "cell_type": "code",
     "collapsed": true,
     "input": [
      "fh = open(\"data.dat\")   # open file \n",
      "for line in fh:         # loop through fh one line at a time\n",
      "    print line.strip()"
     ],
     "language": "python",
     "metadata": {},
     "outputs": []
    }
   ],
   "metadata": {}
  }
 ]
}