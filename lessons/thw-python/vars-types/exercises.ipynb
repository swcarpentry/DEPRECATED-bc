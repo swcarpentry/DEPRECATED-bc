{
 "metadata": {
  "name": "exercises"
 },
 "nbformat": 3,
 "nbformat_minor": 0,
 "worksheets": [
  {
   "cells": [
    {
     "cell_type": "markdown",
     "metadata": {},
     "source": [
      "# Exercise 1\n",
      "\n",
      "1. Assign variables with the values 1, 5, and \"ten\" with the types int, float, and string respectively."
     ]
    },
    {
     "cell_type": "code",
     "collapsed": true,
     "input": [
      "  "
     ],
     "language": "python",
     "metadata": {},
     "outputs": []
    },
    {
     "cell_type": "markdown",
     "metadata": {},
     "source": [
      "2. Confirm that the types are int, float, and string"
     ]
    },
    {
     "cell_type": "code",
     "collapsed": true,
     "input": [
      "  "
     ],
     "language": "python",
     "metadata": {},
     "outputs": []
    },
    {
     "cell_type": "markdown",
     "metadata": {},
     "source": [
      "3. Determine which for which pairs of the set of int, float, and string the + operation gives an error.  \n",
      "\n",
      "> int-int :\n",
      "\n",
      "> int-float : \n",
      "\n",
      "> int-string :\n",
      "\n",
      "> float-float  :\n",
      "\n",
      "> float-string :\n",
      "\n",
      "> string-string : \n",
      "\n",
      "Any surprises?"
     ]
    },
    {
     "cell_type": "code",
     "collapsed": true,
     "input": [
      " "
     ],
     "language": "python",
     "metadata": {},
     "outputs": []
    },
    {
     "cell_type": "markdown",
     "metadata": {},
     "source": [
      "4. Determine which for which pairs of the set of int, float, and string) the * operation gives an error.  Any surprises?"
     ]
    },
    {
     "cell_type": "code",
     "collapsed": true,
     "input": [
      "  "
     ],
     "language": "python",
     "metadata": {},
     "outputs": []
    },
    {
     "cell_type": "markdown",
     "metadata": {},
     "source": [
      "5. Assign a string the value of \"1, 5, and ten\" from these three variables.  "
     ]
    },
    {
     "cell_type": "code",
     "collapsed": true,
     "input": [
      " "
     ],
     "language": "python",
     "metadata": {},
     "outputs": []
    },
    {
     "cell_type": "markdown",
     "metadata": {},
     "source": [
      "# Exercise 2\n",
      "\n",
      "Here you will use **math.log10()** and **math.floor()**, which require the line **import math** for you to access these funcitons.  \n",
      "\n",
      "1. Determine the return type of log10()"
     ]
    },
    {
     "cell_type": "code",
     "collapsed": true,
     "input": [
      "import math\n",
      "\n",
      "  "
     ],
     "language": "python",
     "metadata": {},
     "outputs": []
    },
    {
     "cell_type": "markdown",
     "metadata": {},
     "source": [
      "2. What is the value and type of log10(42) ?"
     ]
    },
    {
     "cell_type": "code",
     "collapsed": true,
     "input": [
      "  "
     ],
     "language": "python",
     "metadata": {},
     "outputs": []
    },
    {
     "cell_type": "markdown",
     "metadata": {},
     "source": [
      "3. What is the value and type of log10(-0.32) ?"
     ]
    },
    {
     "cell_type": "code",
     "collapsed": true,
     "input": [
      " "
     ],
     "language": "python",
     "metadata": {},
     "outputs": []
    },
    {
     "cell_type": "markdown",
     "metadata": {},
     "source": [
      "4. What about 1.0 / 0 ?   "
     ]
    },
    {
     "cell_type": "code",
     "collapsed": true,
     "input": [
      "   "
     ],
     "language": "python",
     "metadata": {},
     "outputs": []
    },
    {
     "cell_type": "markdown",
     "metadata": {},
     "source": [
      "4. What is the return type of floor acting on an int?  Acting on a float?  **floor** is in the math namespace.  It will only work after **import math** and it is invoked as **math.floor()**"
     ]
    },
    {
     "cell_type": "code",
     "collapsed": true,
     "input": [
      "   "
     ],
     "language": "python",
     "metadata": {},
     "outputs": []
    },
    {
     "cell_type": "markdown",
     "metadata": {},
     "source": [
      "# Exercise 3\n",
      "\n",
      " len() is a builtin function to count the length of things.  For which of the basic datatypes so far does len() return a value?  Does it return the length or the length+1 ?"
     ]
    },
    {
     "cell_type": "code",
     "collapsed": true,
     "input": [
      "  "
     ],
     "language": "python",
     "metadata": {},
     "outputs": []
    },
    {
     "cell_type": "markdown",
     "metadata": {},
     "source": [
      "# Example 1\n",
      "\n",
      "Python lists are agnostic to the type of the data contained within them.  You can generate arrays with different elements of different types:"
     ]
    },
    {
     "cell_type": "code",
     "collapsed": true,
     "input": [
      "pythonlist =[2.43, 1, 0.92, 0, \"0.38\"]\n",
      "\n",
      "print pythonlist"
     ],
     "language": "python",
     "metadata": {},
     "outputs": []
    },
    {
     "cell_type": "code",
     "collapsed": true,
     "input": [
      "print type(pythonlist[0]), type(pythonlist[1]), type(pythonlist[2]), type(pythonlist[3])"
     ],
     "language": "python",
     "metadata": {},
     "outputs": []
    },
    {
     "cell_type": "markdown",
     "metadata": {},
     "source": [
      "# Exercise 4\n",
      "\n",
      "numpy is an extremely useful library that has its own data types; you will frequently need to specify the types as float or possibly higher-precision float at the time you create them.  The numpy data types are only sometimes compatible with the native data types.  "
     ]
    },
    {
     "cell_type": "code",
     "collapsed": true,
     "input": [
      "import numpy as np\n",
      "\n",
      "numpyarray = np.array(pythonlist)"
     ],
     "language": "python",
     "metadata": {},
     "outputs": []
    },
    {
     "cell_type": "markdown",
     "metadata": {},
     "source": [
      "What is the default data type of a after the conversion?"
     ]
    },
    {
     "cell_type": "code",
     "collapsed": true,
     "input": [
      " "
     ],
     "language": "python",
     "metadata": {},
     "outputs": []
    },
    {
     "cell_type": "markdown",
     "metadata": {},
     "source": [
      "Ack! The results of type() do not betray the representation.  For that we need "
     ]
    },
    {
     "cell_type": "code",
     "collapsed": true,
     "input": [
      "print numpyarray.dtype"
     ],
     "language": "python",
     "metadata": {},
     "outputs": []
    },
    {
     "cell_type": "markdown",
     "metadata": {},
     "source": [
      "Which is not a numeric data type.  We can cause it to be stored as numpy floats if we specify float when we convert it to numpy:"
     ]
    },
    {
     "cell_type": "code",
     "collapsed": true,
     "input": [
      "numpyfloatarray = np.array(pythonlist, dtype=\"float\")"
     ],
     "language": "python",
     "metadata": {},
     "outputs": []
    },
    {
     "cell_type": "markdown",
     "metadata": {},
     "source": [
      "# Exercise 5\n",
      "\n",
      "5A. Write an expression to determine the number of digits in a non-negative integer.  Hint:  maybe **len()** or **math.log()** might be useful here."
     ]
    },
    {
     "cell_type": "markdown",
     "metadata": {},
     "source": [
      "5B. Test your expression on 45, 2, and 2.0.  Does it work for all three?"
     ]
    }
   ],
   "metadata": {}
  }
 ]
}