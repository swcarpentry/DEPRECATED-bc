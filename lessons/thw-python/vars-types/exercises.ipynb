{
 "metadata": {
  "name": "exercises"
 },
 "nbformat": 3,
 "nbformat_minor": 0,
 "worksheets": [
  {
   "cells": [
    {
     "cell_type": "markdown",
     "metadata": {},
     "source": [
      "# Exercise 1\n",
      "\n",
      "Assign three variables, called `myinteger`, `myfloat`, and `mystring` with the values 3, 5, and \"ten\" with the types int, float, and string respectively."
     ]
    },
    {
     "cell_type": "code",
     "collapsed": true,
     "input": [
      "  "
     ],
     "language": "python",
     "metadata": {},
     "outputs": []
    },
    {
     "cell_type": "code",
     "collapsed": false,
     "input": [
      "print myinteger\n",
      "print myfloat\n",
      "print mystring"
     ],
     "language": "python",
     "metadata": {},
     "outputs": []
    },
    {
     "cell_type": "markdown",
     "metadata": {},
     "source": [
      "Confirm that the types are int, float, and string by running the following expressions."
     ]
    },
    {
     "cell_type": "code",
     "collapsed": true,
     "input": [
      "print type(myinteger) == int\n",
      "print type(myfloat) == float\n",
      "print type(mystring) == str"
     ],
     "language": "python",
     "metadata": {},
     "outputs": []
    },
    {
     "cell_type": "markdown",
     "metadata": {},
     "source": [
      "# Exercise 2 \n",
      "\n",
      "The operations * and + are defined for some combinations of data types, but not for others.  Determine which of these operations gives an error.  Any surprises?  "
     ]
    },
    {
     "cell_type": "code",
     "collapsed": false,
     "input": [
      "myint * myfloat "
     ],
     "language": "python",
     "metadata": {},
     "outputs": []
    },
    {
     "cell_type": "markdown",
     "metadata": {},
     "source": [
      "int * string :"
     ]
    },
    {
     "cell_type": "code",
     "collapsed": false,
     "input": [],
     "language": "python",
     "metadata": {},
     "outputs": []
    },
    {
     "cell_type": "markdown",
     "metadata": {},
     "source": [
      "float * string :"
     ]
    },
    {
     "cell_type": "code",
     "collapsed": false,
     "input": [],
     "language": "python",
     "metadata": {},
     "outputs": []
    },
    {
     "cell_type": "markdown",
     "metadata": {},
     "source": [
      "string + float  :"
     ]
    },
    {
     "cell_type": "code",
     "collapsed": false,
     "input": [],
     "language": "python",
     "metadata": {},
     "outputs": []
    },
    {
     "cell_type": "markdown",
     "metadata": {},
     "source": [
      "string + string : "
     ]
    },
    {
     "cell_type": "code",
     "collapsed": false,
     "input": [],
     "language": "python",
     "metadata": {},
     "outputs": []
    },
    {
     "cell_type": "markdown",
     "metadata": {},
     "source": [
      "# Exercise 3\n",
      "5. Assign the string `thethreeitems` the value of \"3, 5, and ten\" **using the contents of the three variables defined above** (  `myinteger`, `myfloat`, and `mystring`)    (Hint: You need to get everything into the `str` data type.  You may need to coerce some data types.)"
     ]
    },
    {
     "cell_type": "code",
     "collapsed": true,
     "input": [
      "thethreeitems = "
     ],
     "language": "python",
     "metadata": {},
     "outputs": []
    },
    {
     "cell_type": "markdown",
     "metadata": {},
     "source": [
      "Test your work:"
     ]
    },
    {
     "cell_type": "code",
     "collapsed": true,
     "input": [
      "print thethreeitems == \"3, 5, and ten\""
     ],
     "language": "python",
     "metadata": {},
     "outputs": []
    },
    {
     "cell_type": "markdown",
     "metadata": {},
     "source": [
      "# Exercise 4\n",
      "\n",
      "`len()` is a builtin function to count the length of things, particularly lists and strings.  Find the length of `thethreeitems`, and determine whether it is the length or the length -1."
     ]
    },
    {
     "cell_type": "code",
     "collapsed": true,
     "input": [
      "  "
     ],
     "language": "python",
     "metadata": {},
     "outputs": []
    },
    {
     "cell_type": "markdown",
     "metadata": {},
     "source": [
      "# Example 5\n",
      "\n",
      "Python lists are agnostic to the type of the data contained within them.  You can generate arrays with different elements of different types:"
     ]
    },
    {
     "cell_type": "code",
     "collapsed": true,
     "input": [
      "pythonlist =[2.43, 1, 0.92, 0, \"0.38\"]\n",
      "\n",
      "print pythonlist"
     ],
     "language": "python",
     "metadata": {},
     "outputs": []
    },
    {
     "cell_type": "code",
     "collapsed": true,
     "input": [
      "print type(pythonlist[0]), type(pythonlist[1]), type(pythonlist[2]), type(pythonlist[3]), type(pythonlist[4])"
     ],
     "language": "python",
     "metadata": {},
     "outputs": []
    },
    {
     "cell_type": "markdown",
     "metadata": {},
     "source": [
      "numpy is an extremely useful library that has its own data types; you will frequently need to specify the types as float or possibly higher-precision float at the time you create them.  The numpy data types are only sometimes compatible with the native data types.  "
     ]
    },
    {
     "cell_type": "code",
     "collapsed": true,
     "input": [
      "import numpy as np\n",
      "numpyarray = np.array(pythonlist)\n",
      "print numpyarray"
     ],
     "language": "python",
     "metadata": {},
     "outputs": []
    },
    {
     "cell_type": "markdown",
     "metadata": {},
     "source": [
      "numpy requires that all of the elements in its array are *homogeneous*, that is, they have to have the same type.  What is the default data type of a after the conversion?"
     ]
    },
    {
     "cell_type": "code",
     "collapsed": true,
     "input": [
      "type(numpyarray[0])\n"
     ],
     "language": "python",
     "metadata": {},
     "outputs": []
    },
    {
     "cell_type": "markdown",
     "metadata": {},
     "source": [
      "Ack! The results of type() do not portray the representation.  For that we need "
     ]
    },
    {
     "cell_type": "code",
     "collapsed": true,
     "input": [
      "print numpyarray.dtype"
     ],
     "language": "python",
     "metadata": {},
     "outputs": []
    },
    {
     "cell_type": "markdown",
     "metadata": {},
     "source": [
      "Which is not a numeric data type.  We can cause it to be stored as numpy floats if we specify float when we convert it to numpy:"
     ]
    },
    {
     "cell_type": "code",
     "collapsed": true,
     "input": [
      "numpyfloatarray = np.array(pythonlist, dtype=\"float\")"
     ],
     "language": "python",
     "metadata": {},
     "outputs": []
    },
    {
     "cell_type": "markdown",
     "metadata": {},
     "source": [
      "# Exercise 5\n",
      "\n",
      "Write an expression to determine the number of digits in a non-negative integer.  Hint:  maybe **len()** or **math.log()** might be useful here."
     ]
    },
    {
     "cell_type": "code",
     "collapsed": false,
     "input": [
      "len(str(int(45)))"
     ],
     "language": "python",
     "metadata": {},
     "outputs": []
    },
    {
     "cell_type": "markdown",
     "metadata": {},
     "source": [
      "Test your expression on 45, 2, and 2.0.  Does it work for all three?"
     ]
    },
    {
     "cell_type": "code",
     "collapsed": false,
     "input": [],
     "language": "python",
     "metadata": {},
     "outputs": []
    }
   ],
   "metadata": {}
  }
 ]
}
