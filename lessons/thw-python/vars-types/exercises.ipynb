{
 "metadata": {
  "name": "exercises"
 },
 "nbformat": 3,
 "nbformat_minor": 0,
 "worksheets": [
  {
   "cells": [
    {
     "cell_type": "markdown",
     "metadata": {},
     "source": [
      "# Exercise 1\n",
      "\n",
      "Assign three variables, called experimentnumber, softwareversion, and thenumberten with the values 1, 5, and \"ten\" with the types int, float, and string respectively."
     ]
    },
    {
     "cell_type": "code",
     "collapsed": true,
     "input": [
      "  "
     ],
     "language": "python",
     "metadata": {},
     "outputs": []
    },
    {
     "cell_type": "code",
     "collapsed": false,
     "input": [
      "print experimentnumber\n",
      "print softwareversion\n",
      "print thenumberten"
     ],
     "language": "python",
     "metadata": {},
     "outputs": []
    },
    {
     "cell_type": "markdown",
     "metadata": {},
     "source": [
      "Confirm that the types are int, float, and string by running the following expressions."
     ]
    },
    {
     "cell_type": "code",
     "collapsed": true,
     "input": [
      "print type(experimentnumber) == int\n",
      "print type(softwareversion) == float\n",
      "print type(thenumberten) == str"
     ],
     "language": "python",
     "metadata": {},
     "outputs": []
    },
    {
     "cell_type": "markdown",
     "metadata": {},
     "source": [
      "# Exercise 2 \n",
      "\n",
      "The operations * and + are defined for some combinations of data types, but not for others.  Determine which of these operations gives an error.  Any surprises?  \n",
      "\n",
      "  int * float : \n",
      "\n",
      "  int * string :\n",
      "\n",
      "  float * string :\n",
      "\n",
      "  string + float  :\n",
      "  \n",
      "  string + string : \n",
      "\n",
      "Any surprises?"
     ]
    },
    {
     "cell_type": "code",
     "collapsed": true,
     "input": [
      " "
     ],
     "language": "python",
     "metadata": {},
     "outputs": []
    },
    {
     "cell_type": "markdown",
     "metadata": {},
     "source": [
      "# Exercise 3\n",
      "5. Assign the string `thethreeitems` the value of \"1, 5, and ten\" **using the contents of the three variables defined above** (  `experimentnumber`, `softwareversion`, and `thenumberten`)    (Hint: you may need to coerce data types)"
     ]
    },
    {
     "cell_type": "code",
     "collapsed": true,
     "input": [
      "thethreeitems = "
     ],
     "language": "python",
     "metadata": {},
     "outputs": []
    },
    {
     "cell_type": "markdown",
     "metadata": {},
     "source": [
      "Test your work:"
     ]
    },
    {
     "cell_type": "code",
     "collapsed": true,
     "input": [
      "print thethreeitems == \"1, 5, and ten\""
     ],
     "language": "python",
     "metadata": {},
     "outputs": []
    },
    {
     "cell_type": "markdown",
     "metadata": {},
     "source": [
      "# Exercise 4\n",
      "\n",
      "len() is a builtin function to count the length of things, particularly lists and strings.  Find the length of `thethreeitems`, and determine whether it is the length or the length -1."
     ]
    },
    {
     "cell_type": "code",
     "collapsed": true,
     "input": [
      "  "
     ],
     "language": "python",
     "metadata": {},
     "outputs": []
    },
    {
     "cell_type": "markdown",
     "metadata": {},
     "source": [
      "# Example 5\n",
      "\n",
      "Python lists are agnostic to the type of the data contained within them.  You can generate arrays with different elements of different types:"
     ]
    },
    {
     "cell_type": "code",
     "collapsed": true,
     "input": [
      "pythonlist =[2.43, 1, 0.92, 0, \"0.38\"]\n",
      "\n",
      "print pythonlist"
     ],
     "language": "python",
     "metadata": {},
     "outputs": []
    },
    {
     "cell_type": "code",
     "collapsed": true,
     "input": [
      "print type(pythonlist[0]), type(pythonlist[1]), type(pythonlist[2]), type(pythonlist[3]), type(pythonlist[4])"
     ],
     "language": "python",
     "metadata": {},
     "outputs": []
    },
    {
     "cell_type": "markdown",
     "metadata": {},
     "source": [
      "numpy is an extremely useful library that has its own data types; you will frequently need to specify the types as float or possibly higher-precision float at the time you create them.  The numpy data types are only sometimes compatible with the native data types.  "
     ]
    },
    {
     "cell_type": "code",
     "collapsed": true,
     "input": [
      "import numpy as np\n",
      "numpyarray = np.array(pythonlist)\n",
      "print numpyarray"
     ],
     "language": "python",
     "metadata": {},
     "outputs": []
    },
    {
     "cell_type": "markdown",
     "metadata": {},
     "source": [
      "What is the default data type of a after the conversion?"
     ]
    },
    {
     "cell_type": "code",
     "collapsed": true,
     "input": [
      "type(numpyarray[0])\n"
     ],
     "language": "python",
     "metadata": {},
     "outputs": []
    },
    {
     "cell_type": "markdown",
     "metadata": {},
     "source": [
      "Ack! The results of type() do not betray the representation.  For that we need "
     ]
    },
    {
     "cell_type": "code",
     "collapsed": true,
     "input": [
      "print numpyarray.dtype"
     ],
     "language": "python",
     "metadata": {},
     "outputs": []
    },
    {
     "cell_type": "markdown",
     "metadata": {},
     "source": [
      "Which is not a numeric data type.  We can cause it to be stored as numpy floats if we specify float when we convert it to numpy:"
     ]
    },
    {
     "cell_type": "code",
     "collapsed": true,
     "input": [
      "numpyfloatarray = np.array(pythonlist, dtype=\"float\")"
     ],
     "language": "python",
     "metadata": {},
     "outputs": []
    },
    {
     "cell_type": "markdown",
     "metadata": {},
     "source": [
      "# Exercise 5\n",
      "\n",
      "5A. Write an expression to determine the number of digits in a non-negative integer.  Hint:  maybe **len()** or **math.log()** might be useful here."
     ]
    },
    {
     "cell_type": "code",
     "collapsed": false,
     "input": [
      "len(str(int(45)))"
     ],
     "language": "python",
     "metadata": {},
     "outputs": []
    },
    {
     "cell_type": "markdown",
     "metadata": {},
     "source": [
      "5B. Test your expression on 45, 2, and 2.0.  Does it work for all three?"
     ]
    },
    {
     "cell_type": "code",
     "collapsed": false,
     "input": [],
     "language": "python",
     "metadata": {},
     "outputs": []
    }
   ],
   "metadata": {}
  }
 ]
}