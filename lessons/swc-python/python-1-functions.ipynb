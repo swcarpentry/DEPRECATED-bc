{
 "metadata": {
  "name": ""
 },
 "nbformat": 3,
 "nbformat_minor": 0,
 "worksheets": [
  {
   "cells": [
    {
     "cell_type": "heading",
     "level": 1,
     "metadata": {},
     "source": [
      "Basic Programming Using Python: Creating Functions"
     ]
    },
    {
     "cell_type": "heading",
     "level": 2,
     "metadata": {},
     "source": [
      "Objectives"
     ]
    },
    {
     "cell_type": "markdown",
     "metadata": {},
     "source": [
      "- Explain the benefits of breaking a program up into functions.\n",
      "- Define a function of a single parameter.\n",
      "- Explain what a call stack is, what a variable's scope is, and how the two concepts are related.\n",
      "- Trace values as they are passed into and returned by functions.\n",
      "- Compose function calls."
     ]
    },
    {
     "cell_type": "heading",
     "level": 2,
     "metadata": {},
     "source": [
      "Declaring a Function"
     ]
    },
    {
     "cell_type": "markdown",
     "metadata": {},
     "source": [
      "We used functions several times in the [previous lesson](./python-0-resize-image.ipynb).\n",
      "It is now time to learn how to create new ones ourselves\n",
      "so that we don't have to type in the same lines of code repeatedly.\n",
      "\n",
      "A function's job is to bundle several steps together\n",
      "so that they can be used as if they were a single command&mdash;in other words,\n",
      "to create a new verb in our programming language.\n",
      "The simplest possible function is one that produces the same value each time it is called:"
     ]
    },
    {
     "cell_type": "code",
     "collapsed": false,
     "input": [
      "def zero():\n",
      "    return 0"
     ],
     "language": "python",
     "metadata": {},
     "outputs": [],
     "prompt_number": 1
    },
    {
     "cell_type": "markdown",
     "metadata": {},
     "source": [
      "We define a new function in Python using the keyword `def`,\n",
      "followed by the function's name.\n",
      "The empty parentheses signal that the function doesn't take any inputs&mdash;we'll\n",
      "see functions that do in a moment.\n",
      "The colon signals the start of a new [block](glossary.html#block) of code,\n",
      "called the [body](glossary.html#function_body) of the function,\n",
      "which is indented.\n",
      "The keyword `return` then specifies the value the function produces\n",
      "when it is called.\n",
      "\n",
      "Defining a function tells the computer how to do something.\n",
      "To actually *do* that \"something\",\n",
      "we need to call the function:"
     ]
    },
    {
     "cell_type": "code",
     "collapsed": false,
     "input": [
      "result = zero()\n",
      "print 'function produced:', result"
     ],
     "language": "python",
     "metadata": {},
     "outputs": [
      {
       "output_type": "stream",
       "stream": "stdout",
       "text": [
        "function produced: 0\n"
       ]
      }
     ],
     "prompt_number": 2
    },
    {
     "cell_type": "markdown",
     "metadata": {},
     "source": [
      "When Python sees the call `zero()` it sets aside whatever it was doing,\n",
      "does whatever the function `zero` tells it to do,\n",
      "and then continues with its original calculation using the function's result.\n",
      "In this case the overall effect is to assign 0 to `result`,\n",
      "which is then printed.\n",
      "We can achieve the same effect without the assignment:"
     ]
    },
    {
     "cell_type": "code",
     "collapsed": false,
     "input": [
      "print 'function produced:', zero()"
     ],
     "language": "python",
     "metadata": {},
     "outputs": [
      {
       "output_type": "stream",
       "stream": "stdout",
       "text": [
        "function produced: 0\n"
       ]
      }
     ],
     "prompt_number": 3
    },
    {
     "cell_type": "markdown",
     "metadata": {},
     "source": [
      "Functions that always produce the same value aren't particularly useful,\n",
      "so most functions take input values\n",
      "called [parameters](glossary.html#parameter) or [arguments](glossary.html#argument).\n",
      "A parameter is a variable that is assigned a value each time the function is called.\n",
      "For example,\n",
      "this function that converts a temperature from Fahrenheit to Kelvin\n",
      "has one parameter called `temp`:"
     ]
    },
    {
     "cell_type": "code",
     "collapsed": false,
     "input": [
      "def fahr_to_kelvin(temp):\n",
      "    return ((temp - 32.0) * 5.0/9.0) + 273.15\n",
      "\n",
      "print 'water freezes at', fahr_to_kelvin(32)\n",
      "print 'water boils at', fahr_to_kelvin(212)"
     ],
     "language": "python",
     "metadata": {},
     "outputs": [
      {
       "output_type": "stream",
       "stream": "stdout",
       "text": [
        "water freezes at 273.15\n",
        "water boils at 373.15\n"
       ]
      }
     ],
     "prompt_number": 4
    },
    {
     "cell_type": "markdown",
     "metadata": {},
     "source": [
      "Functions can have any number of parameters.\n",
      "When we call a function,\n",
      "we must provide as many values as there are parameters;\n",
      "values are assigned to parameters from left to right.\n",
      "For example,\n",
      "here's a function that calculates the average of three values:"
     ]
    },
    {
     "cell_type": "code",
     "collapsed": false,
     "input": [
      "def average3(left, middle, right):\n",
      "    return (left + middle + right) / 3\n",
      "\n",
      "x = 3\n",
      "y = 5\n",
      "z = 4\n",
      "print 'average is:', average3(x, y, z)"
     ],
     "language": "python",
     "metadata": {},
     "outputs": [
      {
       "output_type": "stream",
       "stream": "stdout",
       "text": [
        "average is: 4\n"
       ]
      }
     ],
     "prompt_number": 8
    },
    {
     "cell_type": "heading",
     "level": 2,
     "metadata": {},
     "source": [
      "The Stack"
     ]
    },
    {
     "cell_type": "markdown",
     "metadata": {},
     "source": [
      "The key to understanding how functions work,\n",
      "and to debugging them when they don't,\n",
      "is to understand exactly what happens when a function is called.\n",
      "After Python has executed the first six lines of the program above,\n",
      "the variables `x`, `y`, and `z` are stored like this in memory:"
     ]
    },
    {
     "cell_type": "markdown",
     "metadata": {},
     "source": [
      "![Python stack frame](files/stack_frame.png)"
     ]
    },
    {
     "cell_type": "markdown",
     "metadata": {},
     "source": [
      "The box containing those three variables is called a [stack frame](glossary.html#stack_frame).\n",
      "When `average3` is called on line 7,\n",
      "Python creates a new stack frame on top of the first one,\n",
      "then creates the variables `left`, `middle`, and `right` in it:"
     ]
    },
    {
     "cell_type": "markdown",
     "metadata": {},
     "source": [
      "![average3 stack](files/stack_average3.png)"
     ]
    },
    {
     "cell_type": "markdown",
     "metadata": {},
     "source": [
      "This pile of one set of variables on top of another is called the [function call stack](glossary.html#call_stack),\n",
      "or just \"stack\".\n",
      "When the function call is finished,\n",
      "Python discards the topmost stack frame\n",
      "and starts using the one beneath it again.\n",
      "The temporary variables `left`, `middle`, and `right` vanish,\n",
      "which is why trying to print one of their values fails:"
     ]
    },
    {
     "cell_type": "code",
     "collapsed": false,
     "input": [
      "print 'middle after call:', middle"
     ],
     "language": "python",
     "metadata": {},
     "outputs": [
      {
       "ename": "NameError",
       "evalue": "name 'middle' is not defined",
       "output_type": "pyerr",
       "traceback": [
        "\u001b[0;31m---------------------------------------------------------------------------\u001b[0m\n\u001b[0;31mNameError\u001b[0m                                 Traceback (most recent call last)",
        "\u001b[0;32m<ipython-input-10-8ff7c0159b4f>\u001b[0m in \u001b[0;36m<module>\u001b[0;34m()\u001b[0m\n\u001b[0;32m----> 1\u001b[0;31m \u001b[0;32mprint\u001b[0m \u001b[0;34m'middle after call:'\u001b[0m\u001b[0;34m,\u001b[0m \u001b[0mmiddle\u001b[0m\u001b[0;34m\u001b[0m\u001b[0m\n\u001b[0m",
        "\u001b[0;31mNameError\u001b[0m: name 'middle' is not defined"
       ]
      },
      {
       "output_type": "stream",
       "stream": "stdout",
       "text": [
        " middle after call:"
       ]
      }
     ],
     "prompt_number": 10
    },
    {
     "cell_type": "markdown",
     "metadata": {},
     "source": [
      "The program displays the string `'middle after call:'`,\n",
      "but when Python tries to get the value of `middle`,\n",
      "it discovers that it doesn't exist any longer\n",
      "and reports an error.\n",
      "(The error appears first because the Python interpreter gives higher priority to error messages than \"normal\" output.)"
     ]
    },
    {
     "cell_type": "markdown",
     "metadata": {},
     "source": [
      "Why does Python go to all the trouble of creating and discarding stack frames?\n",
      "To understand the answer,\n",
      "let's first define another conversion function:"
     ]
    },
    {
     "cell_type": "code",
     "collapsed": false,
     "input": [
      "def kelvin_to_celsius(temp):\n",
      "    return temp - 273.15\n",
      "\n",
      "print 'absolute zero is', kelvin_to_celsius(0.0), 'degrees Celsius'"
     ],
     "language": "python",
     "metadata": {},
     "outputs": [
      {
       "output_type": "stream",
       "stream": "stdout",
       "text": [
        "absolute zero is -273.15 degrees Celsius\n"
       ]
      }
     ],
     "prompt_number": 17
    },
    {
     "cell_type": "markdown",
     "metadata": {},
     "source": [
      "As its name suggests,\n",
      "`kelvin_to_celsius` converts temperatures from Kelvin to Celsius.\n",
      "Now that we have it,\n",
      "we don't have to do any calculations to convert Fahrenheit to Celsius.\n",
      "Instead,\n",
      "we can combine the two functions we already have:"
     ]
    },
    {
     "cell_type": "code",
     "collapsed": false,
     "input": [
      "def fahr_to_celsius(temp):\n",
      "    degrees_k = fahr_to_kelvin(temp)\n",
      "    degrees_c = kelvin_to_celsius(degrees_k)\n",
      "    return degrees_c\n",
      "\n",
      "body_temp_f = 98.6\n",
      "print 'body temperature in Celsius:', fahr_to_celsius(body_temp_f)"
     ],
     "language": "python",
     "metadata": {},
     "outputs": [
      {
       "output_type": "stream",
       "stream": "stdout",
       "text": [
        "body temperature in Celsius: 37.0\n"
       ]
      }
     ],
     "prompt_number": 19
    },
    {
     "cell_type": "markdown",
     "metadata": {},
     "source": [
      "Let's trace what happens when we calculate human body temperature in &deg;C.\n",
      "Just before Python executes line 7 of our program,\n",
      "the stack consists of a single frame\n",
      "that contains the variable `body_temp_f`:"
     ]
    },
    {
     "cell_type": "markdown",
     "metadata": {},
     "source": [
      "![body temperature stack frame](files/stack_frame_body_temp.png)"
     ]
    },
    {
     "cell_type": "markdown",
     "metadata": {},
     "source": [
      "When `fahr_to_celsius` is called,\n",
      "Python puts a new frame on the stack\n",
      "containing a variable `temp`\n",
      "(the parameter of `fahr_to_celsius`):"
     ]
    },
    {
     "cell_type": "markdown",
     "metadata": {},
     "source": [
      "![fahr_to_celcius stack](files/stack_fahr_celcius.png)"
     ]
    },
    {
     "cell_type": "markdown",
     "metadata": {},
     "source": [
      "The first thing `fahr_to_celsius` does is called `fahr_to_kelvin`.\n",
      "Python creates yet another stack frame to keep track of this call,\n",
      "and this frame also contains a variable called `temp`:"
     ]
    },
    {
     "cell_type": "markdown",
     "metadata": {},
     "source": [
      "![fahr_to_kelvin stack](files/stack_fahr_kelvin.png)"
     ]
    },
    {
     "cell_type": "markdown",
     "metadata": {},
     "source": [
      "`fahr_to_kelvin`'s `temp` is *not* the same variable as `fahr_to_celsius`'s `temp`.\n",
      "The two variables happen to have the same name,\n",
      "but since they're in different stack frames,\n",
      "they're as different as Einstein's glasses and Feynman's glasses."
     ]
    },
    {
     "cell_type": "markdown",
     "metadata": {},
     "source": [
      "When `fahr_to_kelvin` finishes running,\n",
      "its stack frame is thrown away:"
     ]
    },
    {
     "cell_type": "markdown",
     "metadata": {},
     "source": [
      "![fahr_to_kelvin result stack](files/stack_fahr_kelvin_result.png)"
     ]
    },
    {
     "cell_type": "markdown",
     "metadata": {},
     "source": [
      "and the value `fahr_to_kelvin` produced is assigned to a new variable called `degrees_k`.\n",
      "This variable is created in `fahr_to_celsius`'s stack frame;\n",
      "like the parameter `temp`,\n",
      "it only exists as long as the function is being executed.\n",
      "`fahr_to_celsius` then passes this value to `kelvin_to_celsius`,\n",
      "and once again,\n",
      "Python creates a new stack frame to keep track of the call:"
     ]
    },
    {
     "cell_type": "markdown",
     "metadata": {},
     "source": [
      "![kelvin_to_celcius stack](files/stack_kelvin_celcius.png)"
     ]
    },
    {
     "cell_type": "markdown",
     "metadata": {},
     "source": [
      "When `kelvin_to_celsius` is finished running,\n",
      "its result is assigned to `degrees_c`\n",
      "and its stack frame is discarded:"
     ]
    },
    {
     "cell_type": "markdown",
     "metadata": {},
     "source": [
      "![kelvin_to_celcius result stack](files/stack_kelvin_celcius_result.png)"
     ]
    },
    {
     "cell_type": "markdown",
     "metadata": {},
     "source": [
      "Since `fahr_to_celsius` is now finished,\n",
      "Python discards *its* stack frame\n",
      "and prints the final result."
     ]
    },
    {
     "cell_type": "markdown",
     "metadata": {},
     "source": [
      "![fahr_to_celcius result stack frame](files/stack_frame_fahr_celcius_result.png)"
     ]
    },
    {
     "cell_type": "markdown",
     "metadata": {},
     "source": [
      "We can achieve the same result more simply like this:"
     ]
    },
    {
     "cell_type": "code",
     "collapsed": false,
     "input": [
      "def fahr_to_celsius(temp):\n",
      "    return kelvin_to_celsius(fahr_to_kelvin(temp))\n",
      "\n",
      "body_temp_f = 98.6\n",
      "print 'body temperature in Celsius:', fahr_to_celsius(body_temp_f)"
     ],
     "language": "python",
     "metadata": {},
     "outputs": [
      {
       "output_type": "stream",
       "stream": "stdout",
       "text": [
        "body temperature in Celsius: 37.0\n"
       ]
      }
     ],
     "prompt_number": 20
    },
    {
     "cell_type": "markdown",
     "metadata": {},
     "source": [
      "Passing the result of one function call directly to another like this\n",
      "is called [nesting](glossary.html#nested_function_call) the calls.\n",
      "Python executes nested calls in exactly the same way as\n",
      "it executes calls whose results are assigned to temporary intermediate variables:\n",
      "it creates a stack frame for each call,\n",
      "stores parameters and [local variables](glossary.html#local_variable) like `degrees_k` and `degrees_c` in that frame,\n",
      "and discards them all when the function is finished."
     ]
    },
    {
     "cell_type": "heading",
     "level": 2,
     "metadata": {},
     "source": [
      "Creating Thumbnails"
     ]
    },
    {
     "cell_type": "markdown",
     "metadata": {},
     "source": [
      "We're now ready to write a function that creates thumbnails.\n",
      "The program we had at the end of our [previous lesson](python-0-resize-image.ipynb) was:"
     ]
    },
    {
     "cell_type": "code",
     "collapsed": false,
     "input": [
      "from skimage import novice\n",
      "flower = novice.open('flower.png')\n",
      "new_height = flower.height * (100.0 / flower.width)\n",
      "flower.size = (100, new_height)\n",
      "flower.show()"
     ],
     "language": "python",
     "metadata": {},
     "outputs": [
      {
       "output_type": "stream",
       "stream": "stdout",
       "text": [
        "skimage.dtype_converter: WARNING: Possible precision loss when converting from float64 to uint8\n"
       ]
      },
      {
       "metadata": {},
       "output_type": "pyout",
       "png": "[encoded data removed]",
       "prompt_number": 1,
       "text": [
        "Image([[[ 46,  23,  32, 255],\n",
        "        [ 46,  23,  32, 255],\n",
        "        [ 46,  21,  31, 255],\n",
        "        ..., \n",
        "        [ 12,  12,  12, 255],\n",
        "        [ 15,  15,  14, 255],\n",
        "        [ 14,  14,  12, 255]],\n",
        "\n",
        "       [[ 50,  23,  34, 255],\n",
        "        [ 50,  23,  34, 255],\n",
        "        [ 58,  24,  39, 255],\n",
        "        ..., \n",
        "        [ 11,  11,  11, 255],\n",
        "        [ 15,  15,  14, 255],\n",
        "        [ 15,  15,  14, 255]],\n",
        "\n",
        "       [[ 52,  25,  34, 255],\n",
        "        [ 50,  24,  35, 255],\n",
        "        [ 67,  27,  45, 255],\n",
        "        ..., \n",
        "        [ 10,  10,  10, 255],\n",
        "        [ 15,  15,  14, 255],\n",
        "        [ 15,  15,  14, 255]],\n",
        "\n",
        "       ..., \n",
        "       [[ 83,  36,  57, 255],\n",
        "        [ 88,  38,  63, 255],\n",
        "        [ 94,  40,  71, 255],\n",
        "        ..., \n",
        "        [  4,   4,   4, 255],\n",
        "        [  4,   4,   4, 255],\n",
        "        [  4,   4,   4, 255]],\n",
        "\n",
        "       [[ 91,  39,  66, 255],\n",
        "        [ 87,  36,  63, 255],\n",
        "        [ 86,  36,  65, 255],\n",
        "        ..., \n",
        "        [  4,   4,   4, 255],\n",
        "        [  4,   4,   4, 255],\n",
        "        [  4,   4,   4, 255]],\n",
        "\n",
        "       [[ 82,  34,  58, 255],\n",
        "        [ 81,  33,  57, 255],\n",
        "        [ 83,  35,  59, 255],\n",
        "        ..., \n",
        "        [  4,   4,   4, 255],\n",
        "        [  4,   4,   4, 255],\n",
        "        [  4,   4,   4, 255]]], dtype=uint8)"
       ]
      }
     ],
     "prompt_number": 1
    },
    {
     "cell_type": "markdown",
     "metadata": {},
     "source": [
      "Most programmers put `import` statements at the top of their programs\n",
      "rather than inside functions,\n",
      "both to make it easier for people to see what libraries a program depends on,\n",
      "and because many functions might depend on the contents of a particular library.\n",
      "That leaves us with four lines of code to [encapsulate](glossary.html#encapsulation) in our function,\n",
      "which we will rather unimaginatively call `make_thumbnail`:"
     ]
    },
    {
     "cell_type": "code",
     "collapsed": false,
     "input": [
      "def make_thumbnail(filename):\n",
      "    picture = novice.open(filename)\n",
      "    new_height = int(picture.height * 100.0 / picture.width)\n",
      "    picture.size = (100, new_height)\n",
      "    return picture"
     ],
     "language": "python",
     "metadata": {},
     "outputs": [],
     "prompt_number": 16
    },
    {
     "cell_type": "markdown",
     "metadata": {},
     "source": [
      "Our function takes a single parameter,\n",
      "which is the name of the image file to be thumbnailed,\n",
      "and loads and thumbnails that picture.\n",
      "As always,\n",
      "defining the function tells Python how to do something new,\n",
      "but it doesn't actually do that \"something\" until we call the function:"
     ]
    },
    {
     "cell_type": "code",
     "collapsed": false,
     "input": [
      "flower = make_thumbnail('flower.png')\n",
      "flower.show()"
     ],
     "language": "python",
     "metadata": {},
     "outputs": [
      {
       "output_type": "stream",
       "stream": "stdout",
       "text": [
        "skimage.dtype_converter: WARNING: Possible precision loss when converting from float64 to uint8\n"
       ]
      },
      {
       "metadata": {},
       "output_type": "pyout",
       "png": "[encoded data removed]",
       "prompt_number": 19,
       "text": [
        "Image([[[ 46,  23,  32, 255],\n",
        "        [ 46,  23,  32, 255],\n",
        "        [ 46,  21,  31, 255],\n",
        "        ..., \n",
        "        [ 12,  12,  12, 255],\n",
        "        [ 15,  15,  14, 255],\n",
        "        [ 14,  14,  12, 255]],\n",
        "\n",
        "       [[ 50,  23,  34, 255],\n",
        "        [ 50,  23,  34, 255],\n",
        "        [ 58,  24,  39, 255],\n",
        "        ..., \n",
        "        [ 11,  11,  11, 255],\n",
        "        [ 15,  15,  14, 255],\n",
        "        [ 15,  15,  14, 255]],\n",
        "\n",
        "       [[ 52,  25,  34, 255],\n",
        "        [ 50,  24,  35, 255],\n",
        "        [ 67,  27,  45, 255],\n",
        "        ..., \n",
        "        [ 10,  10,  10, 255],\n",
        "        [ 15,  15,  14, 255],\n",
        "        [ 15,  15,  14, 255]],\n",
        "\n",
        "       ..., \n",
        "       [[ 83,  36,  57, 255],\n",
        "        [ 88,  38,  63, 255],\n",
        "        [ 94,  40,  71, 255],\n",
        "        ..., \n",
        "        [  4,   4,   4, 255],\n",
        "        [  4,   4,   4, 255],\n",
        "        [  4,   4,   4, 255]],\n",
        "\n",
        "       [[ 91,  39,  66, 255],\n",
        "        [ 87,  36,  63, 255],\n",
        "        [ 86,  36,  65, 255],\n",
        "        ..., \n",
        "        [  4,   4,   4, 255],\n",
        "        [  4,   4,   4, 255],\n",
        "        [  4,   4,   4, 255]],\n",
        "\n",
        "       [[ 82,  34,  58, 255],\n",
        "        [ 81,  33,  57, 255],\n",
        "        [ 83,  35,  59, 255],\n",
        "        ..., \n",
        "        [  4,   4,   4, 255],\n",
        "        [  4,   4,   4, 255],\n",
        "        [  4,   4,   4, 255]]], dtype=uint8)"
       ]
      }
     ],
     "prompt_number": 19
    },
    {
     "cell_type": "markdown",
     "metadata": {},
     "source": [
      "We can now make other thumbnails with a single call:"
     ]
    },
    {
     "cell_type": "code",
     "collapsed": false,
     "input": [
      "biking = make_thumbnail('biking.png')\n",
      "biking.show()"
     ],
     "language": "python",
     "metadata": {},
     "outputs": [
      {
       "output_type": "stream",
       "stream": "stdout",
       "text": [
        "skimage.dtype_converter: WARNING: Possible precision loss when converting from float64 to uint8\n"
       ]
      },
      {
       "metadata": {},
       "output_type": "pyout",
       "png": "[encoded data removed]",
       "prompt_number": 20,
       "text": [
        "Image([[[ 20,  29,  26, 255],\n",
        "        [ 27,  35,  34, 255],\n",
        "        [ 25,  34,  32, 255],\n",
        "        ..., \n",
        "        [234, 249, 249, 255],\n",
        "        [239, 254, 254, 255],\n",
        "        [138, 149, 151, 255]],\n",
        "\n",
        "       [[ 25,  34,  31, 255],\n",
        "        [ 30,  39,  38, 255],\n",
        "        [ 36,  45,  43, 255],\n",
        "        ..., \n",
        "        [ 38,  47,  43, 255],\n",
        "        [ 46,  55,  51, 255],\n",
        "        [ 39,  49,  38, 255]],\n",
        "\n",
        "       [[ 22,  30,  27, 255],\n",
        "        [ 29,  36,  35, 255],\n",
        "        [ 32,  39,  38, 255],\n",
        "        ..., \n",
        "        [ 27,  36,  31, 255],\n",
        "        [  3,  12,   6, 255],\n",
        "        [ 11,  18,  10, 255]],\n",
        "\n",
        "       ..., \n",
        "       [[136, 150, 145, 255],\n",
        "        [118, 131, 126, 255],\n",
        "        [114, 127, 122, 255],\n",
        "        ..., \n",
        "        [147, 155, 147, 255],\n",
        "        [153, 161, 153, 255],\n",
        "        [127, 136, 131, 255]],\n",
        "\n",
        "       [[105, 117, 113, 255],\n",
        "        [117, 130, 125, 255],\n",
        "        [123, 135, 131, 255],\n",
        "        ..., \n",
        "        [155, 163, 155, 255],\n",
        "        [181, 190, 181, 255],\n",
        "        [165, 176, 169, 255]],\n",
        "\n",
        "       [[132, 145, 140, 255],\n",
        "        [116, 129, 124, 255],\n",
        "        [116, 129, 124, 255],\n",
        "        ..., \n",
        "        [148, 156, 148, 255],\n",
        "        [153, 161, 153, 255],\n",
        "        [103, 112, 107, 255]]], dtype=uint8)"
       ]
      }
     ],
     "prompt_number": 20
    },
    {
     "cell_type": "heading",
     "level": 2,
     "metadata": {},
     "source": [
      "Default Parameter Values"
     ]
    },
    {
     "cell_type": "markdown",
     "metadata": {},
     "source": [
      "What if we want to create thumbnails that are 80 pixels wide as well?\n",
      "One possibility would be to create another function called `make_thumbnail_80`\n",
      "that contained exactly the same lines of code,\n",
      "but with the number 80 everywhere instead of the number 100.\n",
      "This would work,\n",
      "but would be a bad design.\n",
      "A major reason for writing functions is to reduce duplicated code.\n",
      "If we have two or more functions that contain almost the same code,\n",
      "we haven't really achieved that.\n",
      "(It's also bad design to have one function called `make_thumbnail_80`\n",
      "and another called `make_thumbnail`:\n",
      "if one function's name specifies the thumbnail size,\n",
      "the other should as well.)"
     ]
    },
    {
     "cell_type": "markdown",
     "metadata": {},
     "source": [
      "A better design is to require users to tell us how wide they want thumbnails to be:"
     ]
    },
    {
     "cell_type": "code",
     "collapsed": false,
     "input": [
      "def make_thumbnail(filename, width):\n",
      "    picture = novice.open(filename)\n",
      "    new_height = int(picture.height * float(width) / picture.width)\n",
      "    picture.size = (width, new_height)\n",
      "    return picture"
     ],
     "language": "python",
     "metadata": {},
     "outputs": [],
     "prompt_number": 24
    },
    {
     "cell_type": "markdown",
     "metadata": {},
     "source": [
      "Let's try it for two different sizes of thumbnails:"
     ]
    },
    {
     "cell_type": "code",
     "collapsed": false,
     "input": [
      "test_100 = make_thumbnail('flower.png', 100)\n",
      "test_100.show()"
     ],
     "language": "python",
     "metadata": {},
     "outputs": [
      {
       "output_type": "stream",
       "stream": "stdout",
       "text": [
        "skimage.dtype_converter: WARNING: Possible precision loss when converting from float64 to uint8\n"
       ]
      },
      {
       "metadata": {},
       "output_type": "pyout",
       "png": "[encoded data removed]",
       "prompt_number": 25,
       "text": [
        "Image([[[ 46,  23,  32, 255],\n",
        "        [ 46,  23,  32, 255],\n",
        "        [ 46,  21,  31, 255],\n",
        "        ..., \n",
        "        [ 12,  12,  12, 255],\n",
        "        [ 15,  15,  14, 255],\n",
        "        [ 14,  14,  12, 255]],\n",
        "\n",
        "       [[ 50,  23,  34, 255],\n",
        "        [ 50,  23,  34, 255],\n",
        "        [ 58,  24,  39, 255],\n",
        "        ..., \n",
        "        [ 11,  11,  11, 255],\n",
        "        [ 15,  15,  14, 255],\n",
        "        [ 15,  15,  14, 255]],\n",
        "\n",
        "       [[ 52,  25,  34, 255],\n",
        "        [ 50,  24,  35, 255],\n",
        "        [ 67,  27,  45, 255],\n",
        "        ..., \n",
        "        [ 10,  10,  10, 255],\n",
        "        [ 15,  15,  14, 255],\n",
        "        [ 15,  15,  14, 255]],\n",
        "\n",
        "       ..., \n",
        "       [[ 83,  36,  57, 255],\n",
        "        [ 88,  38,  63, 255],\n",
        "        [ 94,  40,  71, 255],\n",
        "        ..., \n",
        "        [  4,   4,   4, 255],\n",
        "        [  4,   4,   4, 255],\n",
        "        [  4,   4,   4, 255]],\n",
        "\n",
        "       [[ 91,  39,  66, 255],\n",
        "        [ 87,  36,  63, 255],\n",
        "        [ 86,  36,  65, 255],\n",
        "        ..., \n",
        "        [  4,   4,   4, 255],\n",
        "        [  4,   4,   4, 255],\n",
        "        [  4,   4,   4, 255]],\n",
        "\n",
        "       [[ 82,  34,  58, 255],\n",
        "        [ 81,  33,  57, 255],\n",
        "        [ 83,  35,  59, 255],\n",
        "        ..., \n",
        "        [  4,   4,   4, 255],\n",
        "        [  4,   4,   4, 255],\n",
        "        [  4,   4,   4, 255]]], dtype=uint8)"
       ]
      }
     ],
     "prompt_number": 25
    },
    {
     "cell_type": "code",
     "collapsed": false,
     "input": [
      "test_80 = make_thumbnail('flower.png', 80)\n",
      "test_80.show()"
     ],
     "language": "python",
     "metadata": {},
     "outputs": [
      {
       "output_type": "stream",
       "stream": "stdout",
       "text": [
        "skimage.dtype_converter: WARNING: Possible precision loss when converting from float64 to uint8\n"
       ]
      },
      {
       "metadata": {},
       "output_type": "pyout",
       "png": "[encoded data removed]",
       "prompt_number": 26,
       "text": [
        "Image([[[ 46,  23,  32, 255],\n",
        "        [ 47,  22,  32, 255],\n",
        "        [ 47,  22,  32, 255],\n",
        "        ..., \n",
        "        [ 10,  10,  10, 255],\n",
        "        [ 14,  14,  13, 255],\n",
        "        [ 14,  14,  12, 255]],\n",
        "\n",
        "       [[ 51,  24,  34, 255],\n",
        "        [ 52,  23,  34, 255],\n",
        "        [ 67,  28,  46, 255],\n",
        "        ..., \n",
        "        [ 10,  10,  10, 255],\n",
        "        [ 13,  13,  12, 255],\n",
        "        [ 15,  15,  14, 255]],\n",
        "\n",
        "       [[ 50,  24,  34, 255],\n",
        "        [ 53,  24,  36, 255],\n",
        "        [ 71,  26,  46, 255],\n",
        "        ..., \n",
        "        [ 12,  12,  12, 255],\n",
        "        [ 13,  13,  12, 255],\n",
        "        [ 15,  15,  14, 255]],\n",
        "\n",
        "       ..., \n",
        "       [[ 75,  32,  52, 255],\n",
        "        [ 78,  34,  57, 255],\n",
        "        [ 86,  38,  64, 255],\n",
        "        ..., \n",
        "        [  4,   4,   4, 255],\n",
        "        [  4,   4,   4, 255],\n",
        "        [  4,   4,   4, 255]],\n",
        "\n",
        "       [[ 88,  40,  62, 255],\n",
        "        [ 93,  40,  70, 255],\n",
        "        [ 91,  35,  69, 255],\n",
        "        ..., \n",
        "        [  4,   4,   4, 255],\n",
        "        [  4,   4,   4, 255],\n",
        "        [  4,   4,   4, 255]],\n",
        "\n",
        "       [[ 82,  34,  58, 255],\n",
        "        [ 82,  34,  58, 255],\n",
        "        [ 83,  39,  64, 255],\n",
        "        ..., \n",
        "        [  4,   4,   4, 255],\n",
        "        [  4,   4,   4, 255],\n",
        "        [  4,   4,   4, 255]]], dtype=uint8)"
       ]
      }
     ],
     "prompt_number": 26
    },
    {
     "cell_type": "markdown",
     "metadata": {},
     "source": [
      "It does what we want,\n",
      "but we can go one step further.\n",
      "Suppose that thumbnails are almost always 100 pixels wide,\n",
      "and that other sizes are rare.\n",
      "In that case,\n",
      "we can define `make_thumbnail_width` with a `width` parameter to handle the general case,\n",
      "and `make_thumbnail_default` *without* such a parameter to handle the usual case.\n",
      "Rather than duplicating code,\n",
      "we have the second call the first with the default width as a second parameter:"
     ]
    },
    {
     "cell_type": "code",
     "collapsed": false,
     "input": [
      "def make_thumbnail_width(filename, width):\n",
      "    picture = novice.open(filename)\n",
      "    new_height = int(picture.height * float(width) / picture.width)\n",
      "    picture.size = (width, new_height)\n",
      "    return picture\n",
      "\n",
      "def make_thumbnail_default(filename):\n",
      "    return make_thumbnail_width(filename, 100)"
     ],
     "language": "python",
     "metadata": {},
     "outputs": [],
     "prompt_number": 27
    },
    {
     "cell_type": "markdown",
     "metadata": {},
     "source": [
      "In some languages,\n",
      "like C and Fortran,\n",
      "this is the best we can do.\n",
      "In Python and many other modern languages,\n",
      "though,\n",
      "we can improve our design even further\n",
      "by writing a single function with two parameters,\n",
      "and specifying a [default value](glossary.html#default_parameter_value) for the second parameter:"
     ]
    },
    {
     "cell_type": "code",
     "collapsed": false,
     "input": [
      "def make_thumbnail(filename, width=100):\n",
      "    picture = novice.open(filename)\n",
      "    new_height = int(picture.height * float(width) / picture.width)\n",
      "    picture.size = (width, new_height)\n",
      "    return picture"
     ],
     "language": "python",
     "metadata": {},
     "outputs": [],
     "prompt_number": 28
    },
    {
     "cell_type": "markdown",
     "metadata": {},
     "source": [
      "If we call this function with one parameter,\n",
      "the default value of 100 is assigned to `width`:"
     ]
    },
    {
     "cell_type": "code",
     "collapsed": false,
     "input": [
      "temp = make_thumbnail('biking.png')\n",
      "temp.show()"
     ],
     "language": "python",
     "metadata": {},
     "outputs": [
      {
       "output_type": "stream",
       "stream": "stdout",
       "text": [
        "skimage.dtype_converter: WARNING: Possible precision loss when converting from float64 to uint8\n"
       ]
      },
      {
       "metadata": {},
       "output_type": "pyout",
       "png": "[encoded data removed]",
       "prompt_number": 29,
       "text": [
        "Image([[[ 20,  29,  26, 255],\n",
        "        [ 27,  35,  34, 255],\n",
        "        [ 25,  34,  32, 255],\n",
        "        ..., \n",
        "        [234, 249, 249, 255],\n",
        "        [239, 254, 254, 255],\n",
        "        [138, 149, 151, 255]],\n",
        "\n",
        "       [[ 25,  34,  31, 255],\n",
        "        [ 30,  39,  38, 255],\n",
        "        [ 36,  45,  43, 255],\n",
        "        ..., \n",
        "        [ 38,  47,  43, 255],\n",
        "        [ 46,  55,  51, 255],\n",
        "        [ 39,  49,  38, 255]],\n",
        "\n",
        "       [[ 22,  30,  27, 255],\n",
        "        [ 29,  36,  35, 255],\n",
        "        [ 32,  39,  38, 255],\n",
        "        ..., \n",
        "        [ 27,  36,  31, 255],\n",
        "        [  3,  12,   6, 255],\n",
        "        [ 11,  18,  10, 255]],\n",
        "\n",
        "       ..., \n",
        "       [[136, 150, 145, 255],\n",
        "        [118, 131, 126, 255],\n",
        "        [114, 127, 122, 255],\n",
        "        ..., \n",
        "        [147, 155, 147, 255],\n",
        "        [153, 161, 153, 255],\n",
        "        [127, 136, 131, 255]],\n",
        "\n",
        "       [[105, 117, 113, 255],\n",
        "        [117, 130, 125, 255],\n",
        "        [123, 135, 131, 255],\n",
        "        ..., \n",
        "        [155, 163, 155, 255],\n",
        "        [181, 190, 181, 255],\n",
        "        [165, 176, 169, 255]],\n",
        "\n",
        "       [[132, 145, 140, 255],\n",
        "        [116, 129, 124, 255],\n",
        "        [116, 129, 124, 255],\n",
        "        ..., \n",
        "        [148, 156, 148, 255],\n",
        "        [153, 161, 153, 255],\n",
        "        [103, 112, 107, 255]]], dtype=uint8)"
       ]
      }
     ],
     "prompt_number": 29
    },
    {
     "cell_type": "markdown",
     "metadata": {},
     "source": [
      "If we call it with two,\n",
      "though,\n",
      "the second value we give it overrides that default:"
     ]
    },
    {
     "cell_type": "code",
     "collapsed": false,
     "input": [
      "temp = make_thumbnail('biking.png', 60)\n",
      "temp.show()"
     ],
     "language": "python",
     "metadata": {},
     "outputs": [
      {
       "output_type": "stream",
       "stream": "stdout",
       "text": [
        "skimage.dtype_converter: WARNING: Possible precision loss when converting from float64 to uint8\n"
       ]
      },
      {
       "metadata": {},
       "output_type": "pyout",
       "png": "[encoded data removed]",
       "prompt_number": 30,
       "text": [
        "Image([[[ 16,  24,  21, 255],\n",
        "        [ 16,  24,  22, 255],\n",
        "        [ 22,  30,  31, 255],\n",
        "        ..., \n",
        "        [237, 250, 252, 255],\n",
        "        [245, 255, 255, 255],\n",
        "        [ 60,  71,  69, 255]],\n",
        "\n",
        "       [[ 27,  35,  31, 255],\n",
        "        [ 32,  39,  38, 255],\n",
        "        [ 33,  41,  42, 255],\n",
        "        ..., \n",
        "        [228, 240, 241, 255],\n",
        "        [ 27,  36,  31, 255],\n",
        "        [ 22,  31,  24, 255]],\n",
        "\n",
        "       [[ 37,  42,  40, 255],\n",
        "        [ 37,  42,  40, 255],\n",
        "        [ 45,  50,  50, 255],\n",
        "        ..., \n",
        "        [  8,   9,   7, 255],\n",
        "        [  9,  12,  10, 255],\n",
        "        [  1,  10,   8, 255]],\n",
        "\n",
        "       ..., \n",
        "       [[116, 130, 122, 255],\n",
        "        [120, 133, 125, 255],\n",
        "        [122, 136, 128, 255],\n",
        "        ..., \n",
        "        [145, 153, 144, 255],\n",
        "        [149, 156, 152, 255],\n",
        "        [159, 166, 162, 255]],\n",
        "\n",
        "       [[106, 118, 114, 255],\n",
        "        [114, 127, 122, 255],\n",
        "        [108, 121, 116, 255],\n",
        "        ..., \n",
        "        [169, 177, 168, 255],\n",
        "        [147, 155, 147, 255],\n",
        "        [147, 155, 147, 255]],\n",
        "\n",
        "       [[108, 121, 116, 255],\n",
        "        [126, 139, 134, 255],\n",
        "        [110, 123, 118, 255],\n",
        "        ..., \n",
        "        [131, 139, 131, 255],\n",
        "        [166, 174, 166, 255],\n",
        "        [146, 158, 148, 255]]], dtype=uint8)"
       ]
      }
     ],
     "prompt_number": 30
    },
    {
     "cell_type": "markdown",
     "metadata": {},
     "source": [
      "<hr/>\n",
      "\n",
      "### *Seven Plus Or Minus Two*\n",
      "\n",
      "<em>\n",
      "We set out to write a thumbnailing function\n",
      "so that we wouldn't have to type in the same calculations over and over.\n",
      "Now that we have it,\n",
      "we can see another reason for building programs out of functions.\n",
      "Human short-term memory can only hold a few items at a time;\n",
      "the value is sometimes given as \"seven plus or minus two\",\n",
      "and while that is an over-simplification,\n",
      "it's a good guideline.\n",
      "If we need to remember more unrelated bits of information than that for more than a few seconds,\n",
      "they become jumbled and we start making mistakes.\n",
      "If we have to keep more than half a dozen things straight in our mind\n",
      "in order to understand or change a piece of code,\n",
      "we will therefore start making mistakes.\n",
      "Since most calculations involve more than half a dozen steps,\n",
      "we have to group those steps together and give them names\n",
      "if we're to have any hope at all of getting them right.\n",
      "</em>\n",
      "\n",
      "<hr/>"
     ]
    },
    {
     "cell_type": "heading",
     "level": 2,
     "metadata": {},
     "source": [
      "Key Points"
     ]
    },
    {
     "cell_type": "markdown",
     "metadata": {},
     "source": [
      "- Define a function using `def name(...)`\n",
      "- The body of a function must be indented.\n",
      "- Use `name(...)` to call a function.\n",
      "- Use `return` to return a value from a function.\n",
      "- The values passed into a function are assigned to its parameters in left-to-right order.\n",
      "- Function calls are recorded on a call stack.\n",
      "- Every function call creates a new stack frame.\n",
      "- The variables in a stack frame are discarded when the function call completes.\n",
      "- Grouping operations in functions makes code easier to understand and re-use."
     ]
    }
   ],
   "metadata": {}
  }
 ]
}