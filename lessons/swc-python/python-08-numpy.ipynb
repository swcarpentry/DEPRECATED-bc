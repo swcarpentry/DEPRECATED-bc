{
 "metadata": {
  "name": "python-08-numpy"
 },
 "nbformat": 3,
 "nbformat_minor": 0,
 "worksheets": [
  {
   "cells": [
    {
     "cell_type": "heading",
     "level": 1,
     "metadata": {},
     "source": [
      "Basic Programming Using Python: Number Crunching"
     ]
    },
    {
     "cell_type": "heading",
     "level": 2,
     "metadata": {},
     "source": [
      "Objectives"
     ]
    },
    {
     "cell_type": "markdown",
     "metadata": {},
     "source": [
      "FIXME"
     ]
    },
    {
     "cell_type": "heading",
     "level": 2,
     "metadata": {},
     "source": [
      "Lesson"
     ]
    },
    {
     "cell_type": "markdown",
     "metadata": {},
     "source": [
      "Scientists write a lot of software to simulate physical phenomena like diffusion-limited aggregation,\n",
      "but a lot more to crunch numbers.\n",
      "From the matrices used to calculate the stress and strain on a bridge\n",
      "to the tables used in statistics,\n",
      "the bulk of scientific data lives in arrays of one kind or another.\n",
      "\n",
      "We can always manipulate arrays using loops,\n",
      "as in this function that calculates the dot product of two vectors:"
     ]
    },
    {
     "cell_type": "code",
     "collapsed": false,
     "input": [
      "def dot(left, right):\n",
      "    '''Calculate dot product of two equal-sized vectors.'''\n",
      "    assert len(left) == len(right), 'Vector lengths unequal: {0} vs. {1}'.format(len(left), len(right))\n",
      "    result = 0.0\n",
      "    for i in range(len(left)):\n",
      "        result += left[i] * right[i]\n",
      "    return result"
     ],
     "language": "python",
     "metadata": {},
     "outputs": [],
     "prompt_number": 1
    },
    {
     "cell_type": "markdown",
     "metadata": {},
     "source": [
      "However,\n",
      "writing code like this is inefficient in two senses.\n",
      "First,\n",
      "the same handful of matrix operations come up so often that\n",
      "it's worth developing a special notation for them.\n",
      "Second,\n",
      "because those operations are common,\n",
      "it's worth investing time in optimizing their performance.\n",
      "Thousands of software developers have done exactly that over fifty years,\n",
      "producing libraries that are much faster,\n",
      "and much more reliable,\n",
      "than anything a single person could develop.\n",
      "These libraries are typically written in low-level languages like Fortran and C,\n",
      "and then wrapped up in MATLAB or Python to make them easier to use."
     ]
    },
    {
     "cell_type": "markdown",
     "metadata": {},
     "source": [
      "This lesson explores the capabilities of these libraries.\n",
      "We use Python's NumPy library for our examples,\n",
      "but all of the ideas can be used in other languages as well."
     ]
    },
    {
     "cell_type": "heading",
     "level": 2,
     "metadata": {},
     "source": [
      "First Steps"
     ]
    },
    {
     "cell_type": "markdown",
     "metadata": {},
     "source": [
      "Let's start by making a vector containing three values:"
     ]
    },
    {
     "cell_type": "code",
     "collapsed": false,
     "input": [
      "import numpy as np\n",
      "values = [1, 2, 3]\n",
      "vector = np.array(values)\n",
      "print vector"
     ],
     "language": "python",
     "metadata": {},
     "outputs": [
      {
       "output_type": "stream",
       "stream": "stdout",
       "text": [
        "[1 2 3]\n"
       ]
      }
     ],
     "prompt_number": 12
    },
    {
     "cell_type": "markdown",
     "metadata": {},
     "source": [
      "By convention,\n",
      "most programmers import `numpy` under the name `np`,\n",
      "since they're going to be typing it a lot.\n",
      "We then ask the library to create an array containing three values,\n",
      "which we then print.\n",
      "\n",
      "Let's take a closer look at that vector:"
     ]
    },
    {
     "cell_type": "code",
     "collapsed": false,
     "input": [
      "print 'vector type is', type(vector)\n",
      "print 'vector shape is', vector.shape\n",
      "print 'vector data type is', vector.dtype"
     ],
     "language": "python",
     "metadata": {},
     "outputs": [
      {
       "output_type": "stream",
       "stream": "stdout",
       "text": [
        "vector type is <type 'numpy.ndarray'>\n",
        "vector shape is (3,)\n",
        "vector data type is int64\n"
       ]
      }
     ],
     "prompt_number": 4
    },
    {
     "cell_type": "markdown",
     "metadata": {},
     "source": [
      "`vector` is not a list:\n",
      "it's a special kind of object called an N-dimensional array (or `ndarray`).\n",
      "When we ask for its shape,\n",
      "we get back a tuple showing how large it is along each axis.\n",
      "In this case,\n",
      "that tuple only has the value 3\n",
      "because our vector has three elements along the first axis."
     ]
    },
    {
     "cell_type": "markdown",
     "metadata": {},
     "source": [
      "The property `vector.dtype` tells us that the elements of the vector are all 64-bit integers.\n",
      "We'll take a look at the end of this section at why all the array's elements must be of the same type."
     ]
    },
    {
     "cell_type": "markdown",
     "metadata": {},
     "source": [
      "We can create arrays whose elements have a different data type by providing initial values of that type.\n",
      "If we provide a mix of types,\n",
      "NumPy converts everything to the most general of those types.\n",
      "For example,\n",
      "if we provide a mix of integers and floats,\n",
      "we get an array of floats:"
     ]
    },
    {
     "cell_type": "code",
     "collapsed": false,
     "input": [
      "vector = np.array([1., 2, 3]) # one float\n",
      "print 'vector mixing floats and integers', vector\n",
      "print 'data type', vector.dtype"
     ],
     "language": "python",
     "metadata": {},
     "outputs": [
      {
       "output_type": "stream",
       "stream": "stdout",
       "text": [
        "vector mixing floats and integers [ 1.  2.  3.]\n",
        "data type float64\n"
       ]
      }
     ],
     "prompt_number": 5
    },
    {
     "cell_type": "markdown",
     "metadata": {},
     "source": [
      "We can force everything to be a particular data type by providing an optional argument:"
     ]
    },
    {
     "cell_type": "code",
     "collapsed": false,
     "input": [
      "vector = np.array([1, 2, 3], dtype=np.float32)\n",
      "print 'forcing integer values to be 32-bit floats gives', vector, 'of type', vector.dtype"
     ],
     "language": "python",
     "metadata": {},
     "outputs": [
      {
       "output_type": "stream",
       "stream": "stdout",
       "text": [
        "forcing integer values to be 32-bit floats gives [ 1.  2.  3.] of type float32\n"
       ]
      }
     ],
     "prompt_number": 7
    },
    {
     "cell_type": "markdown",
     "metadata": {},
     "source": [
      "Of course,\n",
      "we won't normally type in all our data.\n",
      "Instead,\n",
      "we will either construct arrays in stereotyped ways,\n",
      "or read data from files.\n",
      "Here are some examples of the first approach:"
     ]
    },
    {
     "cell_type": "code",
     "collapsed": false,
     "input": [
      "z = np.zeros((5, 3))\n",
      "print z"
     ],
     "language": "python",
     "metadata": {},
     "outputs": [
      {
       "output_type": "stream",
       "stream": "stdout",
       "text": [
        "[[ 0.  0.  0.]\n",
        " [ 0.  0.  0.]\n",
        " [ 0.  0.  0.]\n",
        " [ 0.  0.  0.]\n",
        " [ 0.  0.  0.]]\n"
       ]
      }
     ],
     "prompt_number": 10
    },
    {
     "cell_type": "code",
     "collapsed": false,
     "input": [
      "print np.ones((5, 3))"
     ],
     "language": "python",
     "metadata": {},
     "outputs": [
      {
       "output_type": "stream",
       "stream": "stdout",
       "text": [
        "[[ 1.  1.  1.]\n",
        " [ 1.  1.  1.]\n",
        " [ 1.  1.  1.]\n",
        " [ 1.  1.  1.]\n",
        " [ 1.  1.  1.]]\n"
       ]
      }
     ],
     "prompt_number": 11
    },
    {
     "cell_type": "code",
     "collapsed": false,
     "input": [
      "print np.identity(5)"
     ],
     "language": "python",
     "metadata": {},
     "outputs": [
      {
       "output_type": "stream",
       "stream": "stdout",
       "text": [
        "[[ 1.  0.  0.  0.  0.]\n",
        " [ 0.  1.  0.  0.  0.]\n",
        " [ 0.  0.  1.  0.  0.]\n",
        " [ 0.  0.  0.  1.  0.]\n",
        " [ 0.  0.  0.  0.  1.]]\n"
       ]
      }
     ],
     "prompt_number": 12
    },
    {
     "cell_type": "markdown",
     "metadata": {},
     "source": [
      "These examples show two features of NumPy that are important to keep straight.\n",
      "The first is that array dimensions are written as a single tuple containing 1 or more sizes:\n",
      "`np.zeros` and `np.ones` take `(5,3)` as a single argument,\n",
      "rather than 5 and 3 separately.\n",
      "\n",
      "The second thing to note is the way arrays are displayed.\n",
      "The shape `(5,3)` doesn't mean \"5 elements along the X axis, and 3 along the Y\".\n",
      "Instead,\n",
      "it means \"5 along the *first* axis, and 3 along the *second*\".\n",
      "This is called [row-major order](glossary.html#row_major),\n",
      "and when we print the array,\n",
      "NumPy shows us 5 sub-arrays,\n",
      "each containing 3 elements. \n",
      "It is important to be aware that some languages (e.g. Fortran, Matlab) use [column-major order](glossary.html#column-major-order) instead. \n",
      "\n",
      "And yes,\n",
      "this means that we can create multi-dimensional arrays by giving NumPy lists of lists:"
     ]
    },
    {
     "cell_type": "code",
     "collapsed": false,
     "input": [
      "rectangle = np.array([ [11, 22], [33, 44], [55, 66] ])\n",
      "print rectangle"
     ],
     "language": "python",
     "metadata": {},
     "outputs": [
      {
       "output_type": "stream",
       "stream": "stdout",
       "text": [
        "[[11 22]\n",
        " [33 44]\n",
        " [55 66]]\n"
       ]
      }
     ],
     "prompt_number": 13
    },
    {
     "cell_type": "markdown",
     "metadata": {},
     "source": [
      "There are two more things we need to explore before we start using arrays to solve real scientific problems.\n",
      "The first is the rules governing what data is copied when.\n",
      "Here's an experiment:"
     ]
    },
    {
     "cell_type": "code",
     "collapsed": false,
     "input": [
      "first = np.ones((2, 2))\n",
      "print 'first is', first\n",
      "second = first\n",
      "second[0, 0] = 9\n",
      "print 'second is', second\n",
      "print '...and first is now', first"
     ],
     "language": "python",
     "metadata": {},
     "outputs": [
      {
       "output_type": "stream",
       "stream": "stdout",
       "text": [
        "first is [[ 1.  1.]\n",
        " [ 1.  1.]]\n",
        "second is [[ 9.  1.]\n",
        " [ 1.  1.]]\n",
        "...and first is now [[ 9.  1.]\n",
        " [ 1.  1.]]\n"
       ]
      }
     ],
     "prompt_number": 67
    },
    {
     "cell_type": "markdown",
     "metadata": {},
     "source": [
      "As the figure below shows,\n",
      "the expression `second = first` doesn't copy data.\n",
      "Instead,\n",
      "it makes the variable `second` point at the same array as `first`,\n",
      "so that when we assign something to an element of `second`,\n",
      "the change shows up in `first` as well."
     ]
    },
    {
     "cell_type": "markdown",
     "metadata": {},
     "source": [
      "FIXME: diagram"
     ]
    },
    {
     "cell_type": "markdown",
     "metadata": {},
     "source": [
      "This is called [aliasing](glossary.html#alias),\n",
      "and NumPy does it because:\n",
      "\n",
      "* it's more efficient that copying data unnecessarily, and\n",
      "* that's what Python does in other cases (e.g., with lists).\n",
      "\n",
      "If we want to copy data so that we can safely make changes,\n",
      "we can do that explicitly using the array object's `copy` method:"
     ]
    },
    {
     "cell_type": "code",
     "collapsed": false,
     "input": [
      "third = first.copy()\n",
      "third[:, :] = 1234\n",
      "print 'third is', third\n",
      "print 'but first is', first"
     ],
     "language": "python",
     "metadata": {},
     "outputs": [
      {
       "output_type": "stream",
       "stream": "stdout",
       "text": [
        "third is [[ 1234.  1234.]\n",
        " [ 1234.  1234.]]\n",
        "but first is [[ 9.  1.]\n",
        " [ 1.  1.]]\n"
       ]
      }
     ],
     "prompt_number": 68
    },
    {
     "cell_type": "markdown",
     "metadata": {},
     "source": [
      "FIXME: diagram"
     ]
    },
    {
     "cell_type": "markdown",
     "metadata": {},
     "source": [
      "The second thing we need to explore before using arrays is the question of performance.\n",
      "Let's create a list of a million ones,\n",
      "and an array with the same data:"
     ]
    },
    {
     "cell_type": "code",
     "collapsed": false,
     "input": [
      "million = 1000000\n",
      "as_list = [1] * million\n",
      "as_array = np.ones((million,))"
     ],
     "language": "python",
     "metadata": {},
     "outputs": [],
     "prompt_number": 14
    },
    {
     "cell_type": "markdown",
     "metadata": {},
     "source": [
      "We can now use IPython's `timeit` command to see how long it takes to sum up the values in the list:"
     ]
    },
    {
     "cell_type": "code",
     "collapsed": false,
     "input": [
      "%%timeit\n",
      "sum(as_list)"
     ],
     "language": "python",
     "metadata": {},
     "outputs": [
      {
       "output_type": "stream",
       "stream": "stdout",
       "text": [
        "100 loops, best of 3: 7.48 ms per loop\n"
       ]
      }
     ],
     "prompt_number": 73
    },
    {
     "cell_type": "markdown",
     "metadata": {},
     "source": [
      "and in the array:"
     ]
    },
    {
     "cell_type": "code",
     "collapsed": false,
     "input": [
      "%%timeit\n",
      "np.sum(as_array)"
     ],
     "language": "python",
     "metadata": {},
     "outputs": [
      {
       "output_type": "stream",
       "stream": "stdout",
       "text": [
        "1000 loops, best of 3: 1.09 ms per loop\n"
       ]
      }
     ],
     "prompt_number": 74
    },
    {
     "cell_type": "markdown",
     "metadata": {},
     "source": [
      "FIXME: uniform storage, low-level code, benefits"
     ]
    },
    {
     "cell_type": "heading",
     "level": 2,
     "metadata": {},
     "source": [
      "Analyzing Patient Data"
     ]
    },
    {
     "cell_type": "markdown",
     "metadata": {},
     "source": [
      "The other way to create arrays is to read data from files.\n",
      "NumPy has functions to handle a wide variety of common formats,\n",
      "including comma-separated values (CSV).\n",
      "Suppose we have a file called `patients.csv`\n",
      "that contains normalized white blood cell counts for 60 people during the 40 days after contact with someone carrying\n",
      "drug-resistant tuberculosis (DRTB).\n",
      "We can use shell commands to look at how large the file is,\n",
      "and the first few lines in it:"
     ]
    },
    {
     "cell_type": "code",
     "collapsed": false,
     "input": [
      "!wc -l patients.csv\n",
      "!head -5 patients.csv"
     ],
     "language": "python",
     "metadata": {},
     "outputs": [
      {
       "output_type": "stream",
       "stream": "stdout",
       "text": [
        "      60 patients.csv\r\n"
       ]
      },
      {
       "output_type": "stream",
       "stream": "stdout",
       "text": [
        "0,0,1,3,1,2,4,7,8,3,3,3,10,5,7,4,7,7,12,18,6,13,11,11,7,7,4,6,8,8,4,4,5,7,3,4,2,3,0,0\r\n",
        "0,1,2,1,2,1,3,2,2,6,10,11,5,9,4,4,7,16,8,6,18,4,12,5,12,7,11,5,11,3,3,5,4,4,5,5,1,1,0,1\r\n",
        "0,1,1,3,3,2,6,2,5,9,5,7,4,5,4,15,5,11,9,10,19,14,12,17,7,12,11,7,4,2,10,5,4,2,2,3,2,2,1,1\r\n",
        "0,0,2,0,4,2,2,1,6,7,10,7,9,13,8,8,15,10,10,7,17,4,4,7,6,15,6,4,9,11,3,5,6,3,3,4,2,3,2,1\r\n",
        "0,1,1,3,3,1,3,5,2,4,4,7,6,5,3,10,8,10,6,17,9,14,9,7,13,9,12,6,7,7,9,6,3,2,2,4,2,0,1,1\r\n"
       ]
      }
     ],
     "prompt_number": 15
    },
    {
     "cell_type": "markdown",
     "metadata": {},
     "source": [
      "Let's load that data file using NumPy's `loadtxt` function.\n",
      "As you can probably guess,\n",
      "the optional `delimiter` argument tells it that values are separated by commas:"
     ]
    },
    {
     "cell_type": "code",
     "collapsed": false,
     "input": [
      "patients = np.loadtxt('patients.csv', delimiter=',')\n",
      "print 'patients.shape is', patients.shape\n",
      "print patients"
     ],
     "language": "python",
     "metadata": {},
     "outputs": [
      {
       "output_type": "stream",
       "stream": "stdout",
       "text": [
        "patients.shape is (60, 40)\n",
        "[[ 0.  0.  1. ...,  3.  0.  0.]\n",
        " [ 0.  1.  2. ...,  1.  0.  1.]\n",
        " [ 0.  1.  1. ...,  2.  1.  1.]\n",
        " ..., \n",
        " [ 0.  1.  1. ...,  1.  1.  1.]\n",
        " [ 0.  0.  0. ...,  0.  2.  0.]\n",
        " [ 0.  0.  1. ...,  1.  1.  0.]]\n"
       ]
      }
     ],
     "prompt_number": 17
    },
    {
     "cell_type": "markdown",
     "metadata": {},
     "source": [
      "Now that our data is in an array,\n",
      "we can index it using all the same shortcuts we introduced earlier for image arrays.\n",
      "For example,\n",
      "we can look at the values for a single patient:"
     ]
    },
    {
     "cell_type": "code",
     "collapsed": false,
     "input": [
      "p0 = patients[0, :]\n",
      "print 'record for patient 0 contains', len(p0), 'elements'\n",
      "print p0"
     ],
     "language": "python",
     "metadata": {},
     "outputs": [
      {
       "output_type": "stream",
       "stream": "stdout",
       "text": [
        "record for patient 0 contains 40 elements\n",
        "[  0.   0.   1.   3.   1.   2.   4.   7.   8.   3.   3.   3.  10.   5.   7.\n",
        "   4.   7.   7.  12.  18.   6.  13.  11.  11.   7.   7.   4.   6.   8.   8.\n",
        "   4.   4.   5.   7.   3.   4.   2.   3.   0.   0.]\n"
       ]
      }
     ],
     "prompt_number": 20
    },
    {
     "cell_type": "markdown",
     "metadata": {},
     "source": [
      "Or at the white cell counts at t<sub>0</sub> for all patients:"
     ]
    },
    {
     "cell_type": "code",
     "collapsed": false,
     "input": [
      "t0 = patients[:, 0]\n",
      "print 'data for time 0 contains', len(t0), 'elements'\n",
      "print t0"
     ],
     "language": "python",
     "metadata": {},
     "outputs": [
      {
       "output_type": "stream",
       "stream": "stdout",
       "text": [
        "data for time 0 contains 60 elements\n",
        "[ 0.  0.  0.  0.  0.  0.  0.  0.  0.  0.  0.  0.  0.  0.  0.  0.  0.  0.\n",
        "  0.  0.  0.  0.  0.  0.  0.  0.  0.  0.  0.  0.  0.  0.  0.  0.  0.  0.\n",
        "  0.  0.  0.  0.  0.  0.  0.  0.  0.  0.  0.  0.  0.  0.  0.  0.  0.  0.\n",
        "  0.  0.  0.  0.  0.  0.]\n"
       ]
      }
     ],
     "prompt_number": 21
    },
    {
     "cell_type": "markdown",
     "metadata": {},
     "source": [
      "We can now start using the dozens of functions in the NumPy library to do things like\n",
      "find the average white cell count for all patients across the entire 40 days:"
     ]
    },
    {
     "cell_type": "code",
     "collapsed": false,
     "input": [
      "print 'overall average white cell count is', np.mean(patients)"
     ],
     "language": "python",
     "metadata": {},
     "outputs": [
      {
       "output_type": "stream",
       "stream": "stdout",
       "text": [
        "overall average white cell count is 6.14875\n"
       ]
      }
     ],
     "prompt_number": 22
    },
    {
     "cell_type": "markdown",
     "metadata": {},
     "source": [
      "A more meaningful statistic is probably the mean white cell count over time across all our patients.\n",
      "To get this,\n",
      "we simply tell NumPy which axis we want it to sweep over.\n",
      "In this case,\n",
      "that is axis 0,\n",
      "because that's the one that distinguishes patients from each other:"
     ]
    },
    {
     "cell_type": "code",
     "collapsed": false,
     "input": [
      "mean_over_time = np.mean(patients, 0)\n",
      "print mean_over_time"
     ],
     "language": "python",
     "metadata": {},
     "outputs": [
      {
       "output_type": "stream",
       "stream": "stdout",
       "text": [
        "[  0.           0.45         1.11666667   1.75         2.43333333   3.15\n",
        "   3.8          3.88333333   5.23333333   5.51666667   5.95         5.9\n",
        "   8.35         7.73333333   8.36666667   9.5          9.58333333\n",
        "  10.63333333  11.56666667  12.35        13.25        11.96666667\n",
        "  11.03333333  10.16666667  10.           8.66666667   9.15         7.25\n",
        "   7.33333333   6.58333333   6.06666667   5.95         5.11666667   3.6\n",
        "   3.3          3.56666667   2.48333333   1.5          1.13333333\n",
        "   0.56666667]\n"
       ]
      }
     ],
     "prompt_number": 23
    },
    {
     "cell_type": "markdown",
     "metadata": {},
     "source": [
      "We can check that we've done the calculation along the right axis\n",
      "by looking at the size of our result:"
     ]
    },
    {
     "cell_type": "code",
     "collapsed": false,
     "input": [
      "print 'mean_over_time has', len(mean_over_time), 'entries'"
     ],
     "language": "python",
     "metadata": {},
     "outputs": [
      {
       "output_type": "stream",
       "stream": "stdout",
       "text": [
        "mean_over_time has 40 entries\n"
       ]
      }
     ],
     "prompt_number": 24
    },
    {
     "cell_type": "markdown",
     "metadata": {},
     "source": [
      "Simlarly,\n",
      "we can calculate the average white cell count for each patient over all time\n",
      "by asking NumPy to calculate the mean over axis 1:"
     ]
    },
    {
     "cell_type": "code",
     "collapsed": false,
     "input": [
      "print 'mean for each patient is\\n', np.mean(patients, 1)"
     ],
     "language": "python",
     "metadata": {},
     "outputs": [
      {
       "output_type": "stream",
       "stream": "stdout",
       "text": [
        "mean for each patient is\n",
        "[ 5.45   5.425  6.1    5.9    5.55   6.225  5.975  6.65   6.625  6.525\n",
        "  6.775  5.8    6.225  5.75   5.225  6.3    6.55   5.7    5.85   6.55\n",
        "  5.775  5.825  6.175  6.1    5.8    6.425  6.05   6.025  6.175  6.55\n",
        "  6.175  6.35   6.725  6.125  7.075  5.725  5.925  6.15   6.075  5.75\n",
        "  5.975  5.725  6.3    5.9    6.75   5.925  7.225  6.15   5.95   6.275  5.7\n",
        "  6.1    6.825  5.975  6.725  5.7    6.25   6.4    7.05   5.9  ]\n"
       ]
      }
     ],
     "prompt_number": 26
    },
    {
     "cell_type": "markdown",
     "metadata": {},
     "source": [
      "In many cases,\n",
      "we won't want to calculate statistics on all of our values,\n",
      "but only on those that meet certain criteria.\n",
      "For example,\n",
      "let's see which patients had a normalized white cell count of 0 on the first day of exposure:"
     ]
    },
    {
     "cell_type": "code",
     "collapsed": false,
     "input": [
      "print patients[:, 0] == 0"
     ],
     "language": "python",
     "metadata": {},
     "outputs": [
      {
       "output_type": "stream",
       "stream": "stdout",
       "text": [
        "[ True  True  True  True  True  True  True  True  True  True  True  True\n",
        "  True  True  True  True  True  True  True  True  True  True  True  True\n",
        "  True  True  True  True  True  True  True  True  True  True  True  True\n",
        "  True  True  True  True  True  True  True  True  True  True  True  True\n",
        "  True  True  True  True  True  True  True  True  True  True  True  True]\n"
       ]
      }
     ],
     "prompt_number": 27
    },
    {
     "cell_type": "markdown",
     "metadata": {},
     "source": [
      "It looks like they all did;\n",
      "we can check using `np.all`,\n",
      "which tells us whether all the elements in an array are true:"
     ]
    },
    {
     "cell_type": "code",
     "collapsed": false,
     "input": [
      "print 'Are all patients initially uninfected?', np.all(patients[:, 0] == 0)"
     ],
     "language": "python",
     "metadata": {},
     "outputs": [
      {
       "output_type": "stream",
       "stream": "stdout",
       "text": [
        "Are all patients initially uninfected? True\n"
       ]
      }
     ],
     "prompt_number": 28
    },
    {
     "cell_type": "markdown",
     "metadata": {},
     "source": [
      "Let's try that again for day 1:"
     ]
    },
    {
     "cell_type": "code",
     "collapsed": false,
     "input": [
      "print patients[:, 1] > 0\n",
      "print 'Are all patients uninfected on day 1?', np.all(patients[:, 1] == 0)\n",
      "print 'How many patients are uninfected on day 1?', np.sum(patients[:, 1] == 0)"
     ],
     "language": "python",
     "metadata": {},
     "outputs": [
      {
       "output_type": "stream",
       "stream": "stdout",
       "text": [
        " [False  True  True False  True False False False False  True  True  True\n",
        " False False  True  True False False False  True  True False False  True\n",
        "  True False False False False False  True False  True False False False\n",
        "  True  True  True  True False False  True False  True  True False  True\n",
        " False False  True  True False False  True False  True  True False False]\n",
        "Are all patients uninfected on day 1? False\n",
        "How many patients are uninfected on day 1? 33\n"
       ]
      }
     ],
     "prompt_number": 31
    },
    {
     "cell_type": "markdown",
     "metadata": {},
     "source": [
      "The last line gives us the right answer because NumPy treats `True` as 1 and `False` as 0 when doing arithmetic.\n",
      "But we can do more with these values than add them up;\n",
      "we can also use them to select the rows we want from our array:"
     ]
    },
    {
     "cell_type": "code",
     "collapsed": false,
     "input": [
      "sample = patients[ patients[:, 1] > 0 ]\n",
      "print 'We have selected', sample.shape, 'elements from patients'\n",
      "print sample"
     ],
     "language": "python",
     "metadata": {},
     "outputs": [
      {
       "output_type": "stream",
       "stream": "stdout",
       "text": [
        "We have selected (27, 40) elements from patients\n",
        "[[ 0.  1.  2. ...,  1.  0.  1.]\n",
        " [ 0.  1.  1. ...,  2.  1.  1.]\n",
        " [ 0.  1.  1. ...,  0.  1.  1.]\n",
        " ..., \n",
        " [ 0.  1.  2. ...,  0.  0.  1.]\n",
        " [ 0.  1.  1. ...,  2.  1.  1.]\n",
        " [ 0.  1.  1. ...,  1.  1.  1.]]\n"
       ]
      }
     ],
     "prompt_number": 32
    },
    {
     "cell_type": "markdown",
     "metadata": {},
     "source": [
      "As you probably expect,\n",
      "NumPy takes our 40 `True` and `False` values,\n",
      "lines them up with the major axis of `patients`,\n",
      "and gives us just those rows where the [mask](glossary.html#mask) is `True`.\n",
      "We can then do more arithmetic with this sub-array,\n",
      "such as finding the maximum white cell count for those people who were showing signs of infection on day 1:"
     ]
    },
    {
     "cell_type": "code",
     "collapsed": false,
     "input": [
      "maxima_1 = np.max(sample, 1)\n",
      "print maxima_1"
     ],
     "language": "python",
     "metadata": {},
     "outputs": [
      {
       "output_type": "stream",
       "stream": "stdout",
       "text": [
        "[ 18.  19.  17.  18.  18.  18.  17.  18.  19.  19.  15.  17.  16.  15.  16.\n",
        "  17.  19.  16.  16.  18.  16.  15.  14.  20.  17.  17.  19.]\n"
       ]
      }
     ],
     "prompt_number": 33
    },
    {
     "cell_type": "markdown",
     "metadata": {},
     "source": [
      "and then calculate the average maximum cell count for those people:"
     ]
    },
    {
     "cell_type": "code",
     "collapsed": false,
     "input": [
      "ave_1 = np.average(maxima_1)\n",
      "print 'average maximum count (infected on day 1)', ave_1"
     ],
     "language": "python",
     "metadata": {},
     "outputs": [
      {
       "output_type": "stream",
       "stream": "stdout",
       "text": [
        "average maximum count (infected on day 1) 17.1851851852\n"
       ]
      }
     ],
     "prompt_number": 36
    },
    {
     "cell_type": "markdown",
     "metadata": {},
     "source": [
      "and compare it with the average maximum cell count for people who *weren't* showing signs of infection on day 1:"
     ]
    },
    {
     "cell_type": "code",
     "collapsed": false,
     "input": [
      "print 'average maximum count (clear on day 1)', np.average(np.max(patients[ patients[:, 1] == 0 ], 1))"
     ],
     "language": "python",
     "metadata": {},
     "outputs": [
      {
       "output_type": "stream",
       "stream": "stdout",
       "text": [
        "average maximum count (clear on day 1) 17.5757575758\n"
       ]
      }
     ],
     "prompt_number": 39
    },
    {
     "cell_type": "markdown",
     "metadata": {},
     "source": [
      "The code above highlights the simultaneous strength and weakness of using array operators.\n",
      "On the one hand,\n",
      "we can write a single expression that calculates the same result as this:"
     ]
    },
    {
     "cell_type": "code",
     "collapsed": false,
     "input": [
      "total = 0.0\n",
      "num = 0\n",
      "for p in range(60):\n",
      "    if patients[p, 1] == 0:\n",
      "        max_count = 0\n",
      "        for t in range(40):\n",
      "            if patients[p, t] > max_count:\n",
      "                max_count = patients[p, t]\n",
      "        total += max_count\n",
      "        num += 1\n",
      "print 'result', total / num"
     ],
     "language": "python",
     "metadata": {},
     "outputs": [
      {
       "output_type": "stream",
       "stream": "stdout",
       "text": [
        "result 17.5757575758\n"
       ]
      }
     ],
     "prompt_number": 40
    },
    {
     "cell_type": "markdown",
     "metadata": {},
     "source": [
      "On the other hand,\n",
      "the expression:\n",
      "\n",
      "    np.average(np.max(patients[ patients[:, 1] == 0], 1))\n",
      "\n",
      "does take a bit of practice to read,\n",
      "and it's very easy to fail to notice the difference between `==` and `!=`,\n",
      "or axis 0 versus axis 1,\n",
      "when they're buried inside a complex expression."
     ]
    },
    {
     "cell_type": "heading",
     "level": 2,
     "metadata": {},
     "source": [
      "Visualization"
     ]
    },
    {
     "cell_type": "markdown",
     "metadata": {},
     "source": [
      "The mathematician Richard Hamming once said,\n",
      "\"The purpose of computing is insight, not numbers,\"\n",
      "and the best way to develop insight is often to visualize data.\n",
      "Visualization deserves an entire lecture (or course) of its own,\n",
      "but we can explore a few features of Python's `matplotlib` here.\n",
      "First,\n",
      "let's tell the IPython Notebook that we want our plots displayed inline,\n",
      "rather than in a separate viewing window:"
     ]
    },
    {
     "cell_type": "code",
     "collapsed": false,
     "input": [
      "%matplotlib inline"
     ],
     "language": "python",
     "metadata": {},
     "outputs": [],
     "prompt_number": 41
    },
    {
     "cell_type": "markdown",
     "metadata": {},
     "source": [
      "Next,\n",
      "we will import the `pyplot` module from `matplotlib` under the alias `plt`.\n",
      "(Again,\n",
      "most programmers alias it this way to save themselves typing.)\n",
      "`pyplot` provides a simplified interface to `matplotlib`'s capabilities,\n",
      "and allows us to do things like simple heat maps with just a couple of lines of code:"
     ]
    },
    {
     "cell_type": "code",
     "collapsed": false,
     "input": [
      "from matplotlib import pyplot as plt\n",
      "plt.imshow(patients)\n",
      "plt.show()"
     ],
     "language": "python",
     "metadata": {},
     "outputs": [
      {
       "metadata": {},
       "output_type": "display_data",
       "png": "[encoded data removed]",
       "text": [
        "<matplotlib.figure.Figure at 0x106e33f90>"
       ]
      }
     ],
     "prompt_number": 42
    },
    {
     "cell_type": "markdown",
     "metadata": {},
     "source": [
      "This plot clearly shows how the white cell counts rise and fall for our patients over the 40-day period.\n",
      "In fact,\n",
      "they seem to rise and fall quite predictably.\n",
      "Let's take a look at the average degree of infection over time:"
     ]
    },
    {
     "cell_type": "code",
     "collapsed": false,
     "input": [
      "n_patients, n_days = patients.shape\n",
      "dates = range(n_days)\n",
      "ave_infection = np.average(patients, 0)\n",
      "ax = plt.subplot(111)\n",
      "ax.plot(dates, ave_infection)\n",
      "plt.show()"
     ],
     "language": "python",
     "metadata": {},
     "outputs": [
      {
       "metadata": {},
       "output_type": "display_data",
       "png": "[encoded data removed]",
       "text": [
        "<matplotlib.figure.Figure at 0x106e7fdd0>"
       ]
      }
     ],
     "prompt_number": 48
    },
    {
     "cell_type": "markdown",
     "metadata": {},
     "source": [
      "FIXME: explain `plt.subplot`."
     ]
    },
    {
     "cell_type": "markdown",
     "metadata": {},
     "source": [
      "The graph above is surprisingly regular.\n",
      "Let's try looking at the maximum cell count per day across all our patients:"
     ]
    },
    {
     "cell_type": "code",
     "collapsed": false,
     "input": [
      "ax = plt.subplot(111)\n",
      "ax.plot(dates, np.max(patients, 0))\n",
      "plt.show()"
     ],
     "language": "python",
     "metadata": {},
     "outputs": [
      {
       "metadata": {},
       "output_type": "display_data",
       "png": "[encoded data removed]",
       "text": [
        "<matplotlib.figure.Figure at 0x106e4af10>"
       ]
      }
     ],
     "prompt_number": 51
    },
    {
     "cell_type": "markdown",
     "metadata": {},
     "source": [
      "Whoops:\n",
      "that's more than surprising,\n",
      "it's downright suspicious.\n",
      "What does the minimum look like?"
     ]
    },
    {
     "cell_type": "code",
     "collapsed": false,
     "input": [
      "ax = plt.subplot(111)\n",
      "ax.plot(dates, np.min(patients, 0))\n",
      "plt.show()"
     ],
     "language": "python",
     "metadata": {},
     "outputs": [
      {
       "metadata": {},
       "output_type": "display_data",
       "png": "[encoded data removed]",
       "text": [
        "<matplotlib.figure.Figure at 0x106e59b10>"
       ]
      }
     ],
     "prompt_number": 52
    },
    {
     "cell_type": "markdown",
     "metadata": {},
     "source": [
      "Again,\n",
      "that is suspiciously regular.\n",
      "In fact,\n",
      "as you may already have guessed,\n",
      "our patient data was actually produced by a random number generator\n",
      "producing uniform values between *D/4* and *D*,\n",
      "where *D* ramps up and down uniformly from the start to the end of our 40-day period.\n",
      "If we were reviewing a paper that used this data,\n",
      "now would be the time to notify the editor of our suspicions..."
     ]
    },
    {
     "cell_type": "heading",
     "level": 2,
     "metadata": {},
     "source": [
      "Floating point arithmetic"
     ]
    },
    {
     "cell_type": "markdown",
     "metadata": {},
     "source": [
      "One of the most common sources of error when using NumPy - or when dealing with numbers in any programming language for that matter - is associated with floating point arithmetic. Floating-point numbers are represented in computer hardware as base 2 (binary) fractions. For example, the decimal fraction\n",
      "\n",
      "0.125\n",
      "\n",
      "has value 1/10 + 2/100 + 5/1000, and in the same way the binary fraction\n",
      "\n",
      "0.001\n",
      "\n",
      "has value 0/2 + 0/4 + 1/8. These two fractions have identical values, the only real difference being that the first is written in base 10 fractional notation, and the second in base 2.\n",
      "\n",
      "Unfortunately, most decimal fractions cannot be represented exactly as binary fractions. As a consequence, the decimal floating-point numbers you enter are generally only approximated by the binary floating-point numbers actually stored in the machine. It\u2019s easy to forget that the stored value is an approximation to the original decimal fraction, because of the way that floats are displayed at the interpreter prompt. Python only prints a decimal approximation to the true decimal value of the binary approximation stored by the machine. If Python were to print the true decimal value of the binary approximation stored for 0.1, it would have to display\n",
      "\n",
      "0.1000000000000000055511151231257827021181583404541015625\n",
      "\n",
      "That is more digits than most people find useful, so Python keeps the number of digits manageable by displaying a rounded value instead\n",
      "\n",
      "  "
     ]
    },
    {
     "cell_type": "code",
     "collapsed": false,
     "input": [
      "0.1"
     ],
     "language": "python",
     "metadata": {},
     "outputs": [
      {
       "output_type": "pyout",
       "prompt_number": 11,
       "text": [
        "0.1"
       ]
      }
     ],
     "prompt_number": 11
    },
    {
     "cell_type": "markdown",
     "metadata": {},
     "source": [
      "Most of the time, the small errors introduced by these binary approximations are negligible and have no bearing on the final result. Occasionally however, they can produce bugs that are very difficult to track down. Consider this simple function: "
     ]
    },
    {
     "cell_type": "code",
     "collapsed": false,
     "input": [
      "def add_one_tenth(input_data):\n",
      "    \"\"\"Add 0.1 to each value of an array\"\"\"\n",
      "    \n",
      "    return np.array(input_data) + 0.1"
     ],
     "language": "python",
     "metadata": {},
     "outputs": [],
     "prompt_number": 8
    },
    {
     "cell_type": "markdown",
     "metadata": {},
     "source": [
      "A quick check of our function gives an unexpected result:"
     ]
    },
    {
     "cell_type": "code",
     "collapsed": false,
     "input": [
      "test_data = add_one_tenth(np.array([0.1, 0.2, 0.3, 0.4]))\n",
      "answer = np.array([0.2, 0.3, 0.4, 0.5])\n",
      "\n",
      "test_data == answer"
     ],
     "language": "python",
     "metadata": {},
     "outputs": [
      {
       "output_type": "pyout",
       "prompt_number": 19,
       "text": [
        "array([ True, False,  True,  True], dtype=bool)"
       ]
      }
     ],
     "prompt_number": 19
    },
    {
     "cell_type": "markdown",
     "metadata": {},
     "source": [
      "It turns out that the binary appoximation of 0.1 + 0.2, doesn't exactly equal 0.3"
     ]
    },
    {
     "cell_type": "code",
     "collapsed": false,
     "input": [
      "0.1 + 0.2"
     ],
     "language": "python",
     "metadata": {},
     "outputs": [
      {
       "output_type": "pyout",
       "prompt_number": 16,
       "text": [
        "0.30000000000000004"
       ]
      }
     ],
     "prompt_number": 16
    },
    {
     "cell_type": "markdown",
     "metadata": {},
     "source": [
      "This result brings us to the first golden rule of floating point arithmetic: never use == (or !=) on floating point numbers. Instead, check to see whether two values are within some tolerance, and if they are, treat them as equal. NumPy provides some very convenient tools for doing this, which typically define the tolerance in terms of both an absolute and relative error. DEFINE RTOL AND ATOL FROM GUIDE"
     ]
    },
    {
     "cell_type": "code",
     "collapsed": false,
     "input": [
      "np.allclose(test_data, answer, rtol=1e-05, atol=1e-08)"
     ],
     "language": "python",
     "metadata": {},
     "outputs": [
      {
       "output_type": "pyout",
       "prompt_number": 20,
       "text": [
        "True"
       ]
      }
     ],
     "prompt_number": 20
    },
    {
     "cell_type": "markdown",
     "metadata": {},
     "source": [
      "Of course, in many cases we want to do more than just test equality. For instance, we might want to calcuate a value and input that straight into another function.  "
     ]
    },
    {
     "cell_type": "code",
     "collapsed": false,
     "input": [
      "(0.1 + 0.2) / 0.3"
     ],
     "language": "python",
     "metadata": {},
     "outputs": [
      {
       "output_type": "pyout",
       "prompt_number": 24,
       "text": [
        "1.0000000000000002"
       ]
      }
     ],
     "prompt_number": 24
    },
    {
     "cell_type": "code",
     "collapsed": false,
     "input": [
      "np.arccos(1.0)"
     ],
     "language": "python",
     "metadata": {},
     "outputs": [
      {
       "output_type": "pyout",
       "prompt_number": 25,
       "text": [
        "0.0"
       ]
      }
     ],
     "prompt_number": 25
    },
    {
     "cell_type": "code",
     "collapsed": false,
     "input": [
      "a = (0.1 + 0.2) / 0.3\n",
      "np.arccos(a)"
     ],
     "language": "python",
     "metadata": {},
     "outputs": [
      {
       "output_type": "stream",
       "stream": "stderr",
       "text": [
        "-c:2: RuntimeWarning: invalid value encountered in arccos\n"
       ]
      },
      {
       "output_type": "pyout",
       "prompt_number": 27,
       "text": [
        "nan"
       ]
      }
     ],
     "prompt_number": 27
    },
    {
     "cell_type": "markdown",
     "metadata": {},
     "source": [
      "The arccosine function is only valid over the range [-1, 1]. Since NumPy doesn't have a tool to cover every floating point arithmetic error you could generate, in this instance it's a case of writing an appropriate function to fix it yourself. "
     ]
    },
    {
     "cell_type": "code",
     "collapsed": false,
     "input": [
      "def approx_one(input_values, rtol=, atol=):\n",
      "    \"\"\"Take values close to 1.0 and "
     ],
     "language": "python",
     "metadata": {},
     "outputs": []
    },
    {
     "cell_type": "heading",
     "level": 2,
     "metadata": {},
     "source": [
      "Key Points"
     ]
    },
    {
     "cell_type": "markdown",
     "metadata": {},
     "source": [
      "FIXME"
     ]
    }
   ],
   "metadata": {}
  }
 ]
}