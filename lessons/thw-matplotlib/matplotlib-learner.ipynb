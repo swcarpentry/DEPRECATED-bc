{
 "metadata": {
  "name": "matplotlib"
 },
 "nbformat": 3,
 "nbformat_minor": 0,
 "worksheets": [
  {
   "cells": [
    {
     "cell_type": "markdown",
     "metadata": {},
     "source": [
      "# Scientific Python: part 2\n",
      "## Plotting with matplotlib\n",
      "\n",
      "__Software Carpentry Bootcamp  \n",
      "eResearch NZ 2013__  \n",
      "\n",
      "Prepared by: Ariel Rokem\n",
      "       \n",
      "Thanks to:Justin Kitzes, Paul Ivanov"
     ]
    },
    {
     "cell_type": "markdown",
     "metadata": {},
     "source": [
      "## 1. Getting Started"
     ]
    },
    {
     "cell_type": "markdown",
     "metadata": {},
     "source": [
      "### 1.1 What is matplotlib?\n",
      "\n",
      "Matplotlib is the most popular and mature library for plotting data using\n",
      "Python. It has all of the functionality you would expect, including the ability to control\n",
      "the formatting of plots and figures at a very fine level.\n",
      "\n",
      "The official matplotlib documentation is at http://matplotlib.org/  \n",
      "The matplotlib gallery is at http://matplotlib.org/gallery.html"
     ]
    },
    {
     "cell_type": "markdown",
     "metadata": {},
     "source": [
      "### 1.2 Importing matplotlib\n",
      "\n",
      "Matplotlib is often used through 'pyplot', which provides a high-level interface for\n",
      "plotting."
     ]
    },
    {
     "cell_type": "code",
     "collapsed": true,
     "input": [
      "# In IPython or the IPython notebook, it's easiest to use the pylab magic, which\n",
      "# imports matplotlib, numpy, and scipy.\n",
      "\n",
      "# The inline flag means that images will be shown here in the notebooks, rather\n",
      "# than in pop-up windows.\n",
      "\n",
      "%pylab inline\n",
      "\n",
      "# If you are using 'regular' Python, however, you'll want the following. You'll\n",
      "# need to also separately import numpy and any other packages that you might need.\n",
      "\n",
      "#import matplotlib.pyplot as plt"
     ],
     "language": "python",
     "metadata": {},
     "outputs": []
    },
    {
     "cell_type": "markdown",
     "metadata": {},
     "source": [
      "## 2. Creating Figures\n",
      "\n",
      "There are two major challenges with creating figures. First is understanding the\n",
      "syntax to actually make the basic plot appear. Second is formatting the basic plot to look\n",
      "exactly how you would like it to look. In general, the formatting will probably take you\n",
      "longer...\n",
      "\n",
      "Within pyplot (currently imported as 'plt'), there are two basic ways to go about making\n",
      "plots - using the Matlab-like clone, and using the object-oriented approach. The latter\n",
      "provides better control over plot features, while only requiring slightly more typing. It's\n",
      "easy to quickly outgrow the Matlab clone, so we'll go right to the object-oriented syntax."
     ]
    },
    {
     "cell_type": "markdown",
     "metadata": {},
     "source": [
      "### 2.1 A first plot\n",
      "\n",
      "In simple matplotlib plotting, there are two concepts to distinguish:\n",
      "\n",
      "- __Figure__ - the entire figure, like what you might see in a journal, including all\n",
      "subplots, axes, lines, labels, etc. The whole encilada.  \n",
      "  \n",
      "- __Subplot/Axes__ - one of the sub-sections of the figure, labeled (a), (b), etc. in\n",
      "articles. Each subplot will contain one Axes object, which is the container where all of the\n",
      "useful stuff, such as actual lines, legends, labels, etc., are actually housed.\n",
      "\n",
      "For example, here's how to make one figure with two subplots, the second of which contains\n",
      "two lines."
     ]
    },
    {
     "cell_type": "code",
     "collapsed": true,
     "input": [
      "# Make some data to plot\n",
      "x = np.linspace(0, 2*np.pi)\n",
      "y1 = np.sin(x)\n",
      "y2 = np.cos(x)\n",
      "\n",
      "# First, create an empty figure with 2 subplots\n",
      "# - The arguments (1, 2) indicate 1 row and 2 cols\n",
      "# - The function plt.subplots returns an object for the figure and for each axes\n",
      "# - There are multiple ways to accomplish this same goal, but this is probably the\n",
      "#   simplest - notice that each subplot is associated with one of the axes objects.\n",
      "\n",
      "\n",
      "# Next, put one line on the first axis and both lines on the second axis\n",
      "# - On the second axes, add a legend to distinguish the two lines\n",
      "\n",
      "\n",
      "# Finally, save the figure as a png file"
     ],
     "language": "python",
     "metadata": {},
     "outputs": []
    },
    {
     "cell_type": "markdown",
     "metadata": {},
     "source": [
      "### Exercise 1 - Simple formatting\n",
      "\n",
      "There are lots of formatting options to play with. Modify the code above to make some changes to the\n",
      "formatting of these plots.\n",
      "\n",
      "First, make some changes to the axes. HINT: These adjustments are methods to the ax1 and ax2 objects,\n",
      "and (conveniently) they all start with the text 'set_'. Try typing 'ax1.set_' and hitting tab to\n",
      "see some options.\n",
      "\n",
      "* Change the x axis on ax1 to run from 0 to 4. (HINT: set_xlim)\n",
      "* Add labels to the x axis on both subplots (HINT: set_xlabel, set_ylabel)\n",
      "\n",
      "Second, make some changes to the lines that you plotted using ax1.plot(...). These changes can be made\n",
      "by looking at the various arguments that you can give to the plot method. You can do this easily by\n",
      "typing ax1.plot? in the cell below and running it - this will give you pop-up help for the plot method.\n",
      "\n",
      "* Make the sine line on ax1 red and dashed.\n",
      "* Put a circular black marker on top of the cos line on ax2. Make it really big.\n",
      "\n",
      "_Bonus_: Eliminate the box around the legend on the second subplot."
     ]
    },
    {
     "cell_type": "code",
     "collapsed": true,
     "input": [
      "#ax1.plot?"
     ],
     "language": "python",
     "metadata": {},
     "outputs": []
    },
    {
     "cell_type": "markdown",
     "metadata": {},
     "source": [
      "### 2.2 Other types of plots\n",
      "\n",
      "In the example above, we used the plot method to make line plots. There are also methods to\n",
      "make scatter plots, barplots, histograms, loglog plots, semilog plots, etc."
     ]
    },
    {
     "cell_type": "code",
     "collapsed": true,
     "input": [
      "# Make some data to plot\n",
      "x = np.arange(0, 100)\n",
      "y = np.random.rand(100)  # 100 random numbers\n",
      "\n",
      "# Make a figure with 6 subplots and axes\n",
      "fig, ((ax1, ax2), (ax3, ax4), (ax5, ax6)) = plt.subplots(3, 2)\n",
      "\n",
      "# Add data to each axis. Optional arguments to each method will customize each plot."
     ],
     "language": "python",
     "metadata": {},
     "outputs": []
    },
    {
     "cell_type": "markdown",
     "metadata": {},
     "source": [
      "### 2.3 Plotting images\n",
      "\n",
      "Matplotlib also makes it easy to plot images. For this, you can use the plot method imshow\n",
      "(syntax borrowed from Matlab)."
     ]
    },
    {
     "cell_type": "code",
     "collapsed": true,
     "input": [
      "# Read an image file for first subplot, generate random array for second\n",
      "img1 = plt.imread('lena.png')\n",
      "img2 = np.random.rand(128, 128)\n",
      "\n",
      "# Make figure"
     ],
     "language": "python",
     "metadata": {},
     "outputs": []
    },
    {
     "cell_type": "markdown",
     "metadata": {},
     "source": [
      "## 3. The matplotlib gallery\n",
      "\n",
      "It can be very intimidating to try to craft exactly the figure that you want, especially if\n",
      "you are used to being able to adjust things visually using a program like Excel.\n",
      "\n",
      "If you get stuck and don't know where to start, or just want to learn more about what\n",
      "matplotlib can do, a great option is to have a look at the matplotlib gallery, which can be\n",
      "found at http://matplotlib.org/gallery.html. A good way to get started is to find a figure\n",
      "here that sort of looks like what you want, copy the code, and modify it for your own needs."
     ]
    },
    {
     "cell_type": "markdown",
     "metadata": {},
     "source": [
      "### Exercise 2 - Exploring the matplotlib gallery\n",
      "\n",
      "Have a look at the matplotlib gallery, find a cool looking figure, copy the code\n",
      "into the box below, and modify it. Note that some of the examples might require packages that\n",
      "are not installed on your machine (in particular those that make maps) -\n",
      "if this is the case, pick another example for the purposes of this exercise.\n",
      "\n",
      "In IPython, you can use the \"load magic\". Type %loadpy and then the URL of the py file containing the\n",
      "code, and it will automatically copy it into a cell below. Run the cell with the code to see the\n",
      "figure."
     ]
    },
    {
     "cell_type": "code",
     "collapsed": true,
     "input": [
      "# Try it here...\n",
      "%loadpy http://matplotlib.org/mpl_examples/pylab_examples/contour_demo.py"
     ],
     "language": "python",
     "metadata": {},
     "outputs": []
    },
    {
     "cell_type": "markdown",
     "metadata": {},
     "source": [
      "## 4. Formatting figures\n",
      "\n",
      "The formatting of figures often takes longer than actually setting them up and adding data.\n",
      "There are many different approaches to formatting figures in matplotlib (many goals can be\n",
      "accomplished in different ways, using different commands), and you will come across many\n",
      "of these as you learn more. The tips below give a few simple ways to get started."
     ]
    },
    {
     "cell_type": "markdown",
     "metadata": {},
     "source": [
      "### 4.1 Common formatting tricks\n",
      "\n",
      "There are hundreds of formatting options available in matplotlib, many of which you will end\n",
      "up using occasionally. There are a few options, however, that you will use very frequently.\n",
      "A short list of these might include:\n",
      "\n",
      "- Changing axis limits\n",
      "- Changing line colors\n",
      "- Changing lines to dashed (for black and white figures)\n",
      "- Adding markers to lines\n",
      "- Make tick labels point outward instead of inward\n",
      "- Get rid of the box surrounding the plot\n",
      "- Adding subplot letters, like (a) and (b)\n",
      "\n",
      "Here's how to accomplish all of these things."
     ]
    },
    {
     "cell_type": "code",
     "collapsed": true,
     "input": [
      "# Make some data to plot\n",
      "x = np.linspace(0, 2*np.pi)\n",
      "y1 = np.sin(x)\n",
      "y2 = np.cos(x)\n",
      "\n",
      "# First, create an empty figure with 1 subplot\n",
      "fig, ax1 = plt.subplots(1, 1)\n",
      "\n",
      "# Add title and labels\n",
      "ax1.set_title('My Plot')\n",
      "ax1.set_xlabel('x')\n",
      "ax1.set_ylabel('y')\n",
      "\n",
      "# Change axis limits\n",
      "ax1.set_xlim([0,2])\n",
      "ax1.set_ylim([-1, 2])\n",
      "\n",
      "# Add the lines, changing their color, style, and marker\n",
      "ax1.plot(x, y1, 'k--o', label='sin') # Black line, dashed, with 'o' markers\n",
      "ax1.plot(x, y2, 'r-^', label='cos') # Red line, solid, with triangle-up markers\n",
      "\n",
      "# Adjust tick marks and get rid of 'box'\n",
      "ax1.tick_params(direction='out', top=False, right=False) # Turn ticks out\n",
      "ax1.spines['top'].set_visible(False) # Get rid of top axis line\n",
      "ax1.spines['right'].set_visible(False) #  Get rid of bottom axis line\n",
      "\n",
      "# Add subplot letter\n",
      "ax1.annotate('(a)', (0.01, 0.96), size=12, xycoords='figure fraction')\n",
      "\n",
      "# Add legend\n",
      "ax1.legend()\n",
      "\n",
      "# Finally, save the figure as a png file\n",
      "fig.savefig('myfig-formatted.png')"
     ],
     "language": "python",
     "metadata": {},
     "outputs": []
    },
    {
     "cell_type": "code",
     "collapsed": false,
     "input": [
      "import matplotlib.mlab as ml\n",
      "tab = ml.csv2rec('../testing/sightings_tab_lg.csv')\n",
      "print(type(tab))"
     ],
     "language": "python",
     "metadata": {},
     "outputs": []
    },
    {
     "cell_type": "code",
     "collapsed": false,
     "input": [
      "tab[0]"
     ],
     "language": "python",
     "metadata": {},
     "outputs": []
    },
    {
     "cell_type": "code",
     "collapsed": false,
     "input": [
      "tab.dtype"
     ],
     "language": "python",
     "metadata": {},
     "outputs": []
    },
    {
     "cell_type": "code",
     "collapsed": false,
     "input": [
      "tab['count']"
     ],
     "language": "python",
     "metadata": {},
     "outputs": []
    },
    {
     "cell_type": "code",
     "collapsed": false,
     "input": [
      "tab['animal']"
     ],
     "language": "python",
     "metadata": {},
     "outputs": []
    },
    {
     "cell_type": "code",
     "collapsed": false,
     "input": [
      "elk_tab = tab[np.where(tab['animal']=='Elk')]"
     ],
     "language": "python",
     "metadata": {},
     "outputs": []
    },
    {
     "cell_type": "code",
     "collapsed": false,
     "input": [
      "fig, ax = plt.subplots(1)\n",
      "ax.plot(elk_tab['date'], elk_tab['count'])\n",
      "#fig.autofmt_xdate()"
     ],
     "language": "python",
     "metadata": {},
     "outputs": []
    },
    {
     "cell_type": "markdown",
     "metadata": {},
     "source": [
      "### 4.2 Advanced formatting with rcParams\n",
      "\n",
      "A fast way to control many aspects of figure formatting is to temporarily modify a dictionary\n",
      "called rcParams. This dictionary allows you to set, in one place, many of the options that\n",
      "you will need to change before submitting your figures for publication, including figure\n",
      "fonts, font sizes, figure size, figure dpi, etc., as well as many options regarding how\n",
      "elements are spaced in your figures (ie, the distance between different elements of subfigures).\n",
      "\n",
      "WARNING: The rcParams dictionary is GLOBAL to matplotlib's plot library - therefore, if you\n",
      "make a change to it, all future plots that you make will also have those changes (until you\n",
      "close your Python session). If you do modify rcParams, it's good hygiene to set it back to the\n",
      "defaults after you've made your plot, as described below.\n",
      "\n",
      "A description of the rcParams options can be found at\n",
      "http://matplotlib.org/users/customizing.html\n",
      "\n",
      "Run the code below to see all of the different options you can set here. Once you've looked\n",
      "this over, hit the Toggle button on the left to hide the output again."
     ]
    },
    {
     "cell_type": "code",
     "collapsed": true,
     "input": [
      "# View rcParams\n",
      "matplotlib.rcParams"
     ],
     "language": "python",
     "metadata": {},
     "outputs": []
    },
    {
     "cell_type": "markdown",
     "metadata": {},
     "source": [
      "Now, save the default rcParams dictionary so we can 'reset' everything after we change it.\n",
      "In a 'regular' Python interpreter, or inside a Python module, you can just use\n",
      "plt.rcdefaults() to reset the defaults, instead of saving them here then resetting them\n",
      "manually later. However, this work in the notebook."
     ]
    },
    {
     "cell_type": "code",
     "collapsed": true,
     "input": [
      "# Save default rcParams so we can reset them later\n",
      "# WARNING: Do not run this cell after changing rcParams, as it will overwrite the\n",
      "# defaults that we are trying to preserve.\n",
      "rcdef = plt.rcParams.copy()"
     ],
     "language": "python",
     "metadata": {},
     "outputs": []
    },
    {
     "cell_type": "markdown",
     "metadata": {},
     "source": [
      "Now let's make a simple plot, using mostly default formatting."
     ]
    },
    {
     "cell_type": "code",
     "collapsed": true,
     "input": [
      "# Make sure rcParams is at default settings, since we're messing with it\n",
      "plt.rcParams.update(rcdef)\n",
      "\n",
      "# Make a simple figure with default formatting\n",
      "fig, axall = plt.subplots(1, 2)  # axall is the tuple containing both axis objects\n",
      "\n",
      "for ax in axall:\n",
      "    ax.plot(np.random.rand(100), 'k-o', label='Random')\n",
      "    ax.set_ylim([0, 1.2])\n",
      "    ax.set_ylabel('Value')\n",
      "    ax.legend()"
     ],
     "language": "python",
     "metadata": {},
     "outputs": []
    },
    {
     "cell_type": "markdown",
     "metadata": {},
     "source": [
      "There are many obvious formatting problems here. The legend is too big, the axis labels are\n",
      "too small, the legend shouldn't have a box (arguably), and the y-axis label on the second\n",
      "subplot is hidden behind the first subplot. Also, although you can't see it here, the figure\n",
      "resolution is too low to print without appearing fuzzy."
     ]
    },
    {
     "cell_type": "markdown",
     "metadata": {},
     "source": [
      "The code below changes a whole bunch of values in rcParams to get a figure to look juuuuust\n",
      "right. Then it makes the figures, saves it, and puts rcParams back to its default."
     ]
    },
    {
     "cell_type": "code",
     "collapsed": true,
     "input": [
      "# Choose a bunch of new parameter values\n",
      "# In practice, you'll try modifying these, running the code and saving the figure,\n",
      "# looking at the figure, then making more modifications until you're happy.\n",
      "newparams = {'axes.labelsize': 14, 'axes.linewidth': 1, 'savefig.dpi': 300, \n",
      "             'lines.linewidth': 1.5, 'figure.figsize': (8, 3),\n",
      "             'figure.subplot.wspace': 0.4,\n",
      "             'ytick.labelsize': 12, 'xtick.labelsize': 12,\n",
      "             'ytick.major.pad': 5, 'xtick.major.pad': 5,\n",
      "             'legend.fontsize': 12, 'legend.frameon': False, \n",
      "             'legend.handlelength': 1.5}\n",
      "\n",
      "# Update the global rcParams dictionary with the new parameter choices\n",
      "# Before doing this, we reset rcParams to its default again, just in case\n",
      "plt.rcParams.update(rcdef)\n",
      "plt.rcParams.update(newparams)\n",
      "\n",
      "# Make the new figure with new formatting\n",
      "fig, axall = plt.subplots(1, 2)\n",
      "\n",
      "for ax in axall:\n",
      "    ax.plot(np.random.rand(100), 'k-o', label='Random')\n",
      "    ax.set_ylim([0, 1.2])\n",
      "    ax.set_ylabel('Value')\n",
      "    ax.legend()\n",
      "    \n",
      "fig.savefig('myfig-advanced.png')\n",
      "\n",
      "# Put rcParams back to default\n",
      "plt.rcParams.update(rcdef)"
     ],
     "language": "python",
     "metadata": {},
     "outputs": []
    },
    {
     "cell_type": "markdown",
     "metadata": {},
     "source": [
      "You'll want to check that your formatting looks good by looking at the file that's being saved\n",
      "to your hard disk, since that's exactly how it will look to the publisher or when inserted\n",
      "into your manuscript."
     ]
    }
   ],
   "metadata": {}
  }
 ]
}