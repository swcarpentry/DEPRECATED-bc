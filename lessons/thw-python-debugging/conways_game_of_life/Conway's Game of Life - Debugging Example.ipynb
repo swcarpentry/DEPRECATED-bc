{
 "metadata": {
  "name": "Conway's Game of Life - Debugging Example"
 },
 "nbformat": 3,
 "nbformat_minor": 0,
 "worksheets": [
  {
   "cells": [
    {
     "cell_type": "markdown",
     "metadata": {},
     "source": [
      "In this example, we will bring together everything we learned about debugging to fix a script that runs Conway's game of life. Before we do that, however, let's answer the most obvious question here...\n",
      "\n",
      "##What is Conway's game of life?\n",
      "\n",
      "Basically, it's a discrete two-dimensional grid where every cell can be \"alive\" or \"dead\". Starting with a set of cells marked \"alive\", we can \"evolve\" the cells to the next generation by following these simple rules:\n",
      "\n",
      " * Any living cell with fewer than two neighbors dies (underpopulation)\n",
      " * Any living cell with more than three neighbors dies (overpopulation)\n",
      " * Any empty cell with three neighbors becomes a living cell (reproduction)   \n",
      "\n",
      "There are a lot of cool things you can do with this, and, for that, I defer to the [wiki](http://en.wikipedia.org/wiki/Conway's_Game_of_Life). Let's get on with debugging.\n",
      "\n",
      "The code below is intended to be an implementation of Conway's game of life, but it's pretty terrible."
     ]
    },
    {
     "cell_type": "code",
     "collapsed": false,
     "input": [
      "from math import sqrt\n",
      "\n",
      "def conway(population, \n",
      "    generations = 100):\n",
      "    for i in range(genrations): population = evolve(population)\n",
      "    return popluation\n",
      "\n",
      "def evolve(population):\n",
      "    activeCells = population[:]\n",
      "    for cell in population:\n",
      "        for neighbor in neighbors(cell):\n",
      "            if neighbor not in activeCells: activeCells.append(neighbor)\n",
      "    newPopulation = []\n",
      "    for cell in activeCells:\n",
      "        count = sum(neighbor in population for neighbor in neighbors(cell))\n",
      "        if count == 3 or (count == 2 and cell in population): \n",
      "            if cell not in newPopulation: newPopluation.add(cell)\n",
      "    return newPopulation\n",
      "\n",
      "def neighbors(cell):\n",
      "    x, y = cell\n",
      "    return [(x, y), (x+1, y), (x-1, y), (x, y+1), (x, y-1), (x+1, y+1), (x+1, y-1), (x-1, y+1), (x-1, y-1)]\n",
      "\n",
      "glider = [(0, 0), (1, 0), (2, 0), (0, 1), (1, 2)]\n",
      "print conway(glider)\n"
     ],
     "language": "python",
     "metadata": {},
     "outputs": [
      {
       "ename": "NameError",
       "evalue": "global name 'genrations' is not defined",
       "output_type": "pyerr",
       "traceback": [
        "\u001b[1;31m---------------------------------------------------------------------------\u001b[0m\n\u001b[1;31mNameError\u001b[0m                                 Traceback (most recent call last)",
        "\u001b[1;32m<ipython-input-1-f44c9db7cde8>\u001b[0m in \u001b[0;36m<module>\u001b[1;34m()\u001b[0m\n\u001b[0;32m     23\u001b[0m \u001b[1;33m\u001b[0m\u001b[0m\n\u001b[0;32m     24\u001b[0m \u001b[0mglider\u001b[0m \u001b[1;33m=\u001b[0m \u001b[1;33m[\u001b[0m\u001b[1;33m(\u001b[0m\u001b[1;36m0\u001b[0m\u001b[1;33m,\u001b[0m \u001b[1;36m0\u001b[0m\u001b[1;33m)\u001b[0m\u001b[1;33m,\u001b[0m \u001b[1;33m(\u001b[0m\u001b[1;36m1\u001b[0m\u001b[1;33m,\u001b[0m \u001b[1;36m0\u001b[0m\u001b[1;33m)\u001b[0m\u001b[1;33m,\u001b[0m \u001b[1;33m(\u001b[0m\u001b[1;36m2\u001b[0m\u001b[1;33m,\u001b[0m \u001b[1;36m0\u001b[0m\u001b[1;33m)\u001b[0m\u001b[1;33m,\u001b[0m \u001b[1;33m(\u001b[0m\u001b[1;36m0\u001b[0m\u001b[1;33m,\u001b[0m \u001b[1;36m1\u001b[0m\u001b[1;33m)\u001b[0m\u001b[1;33m,\u001b[0m \u001b[1;33m(\u001b[0m\u001b[1;36m1\u001b[0m\u001b[1;33m,\u001b[0m \u001b[1;36m2\u001b[0m\u001b[1;33m)\u001b[0m\u001b[1;33m]\u001b[0m\u001b[1;33m\u001b[0m\u001b[0m\n\u001b[1;32m---> 25\u001b[1;33m \u001b[1;32mprint\u001b[0m \u001b[0mconway\u001b[0m\u001b[1;33m(\u001b[0m\u001b[0mglider\u001b[0m\u001b[1;33m)\u001b[0m\u001b[1;33m\u001b[0m\u001b[0m\n\u001b[0m",
        "\u001b[1;32m<ipython-input-1-f44c9db7cde8>\u001b[0m in \u001b[0;36mconway\u001b[1;34m(population, generations)\u001b[0m\n\u001b[0;32m      3\u001b[0m def conway(population, \n\u001b[0;32m      4\u001b[0m     generations = 100):\n\u001b[1;32m----> 5\u001b[1;33m     \u001b[1;32mfor\u001b[0m \u001b[0mi\u001b[0m \u001b[1;32min\u001b[0m \u001b[0mrange\u001b[0m\u001b[1;33m(\u001b[0m\u001b[0mgenrations\u001b[0m\u001b[1;33m)\u001b[0m\u001b[1;33m:\u001b[0m \u001b[0mpopulation\u001b[0m \u001b[1;33m=\u001b[0m \u001b[0mevolve\u001b[0m\u001b[1;33m(\u001b[0m\u001b[0mpopulation\u001b[0m\u001b[1;33m)\u001b[0m\u001b[1;33m\u001b[0m\u001b[0m\n\u001b[0m\u001b[0;32m      6\u001b[0m     \u001b[1;32mreturn\u001b[0m \u001b[0mpopluation\u001b[0m\u001b[1;33m\u001b[0m\u001b[0m\n\u001b[0;32m      7\u001b[0m \u001b[1;33m\u001b[0m\u001b[0m\n",
        "\u001b[1;31mNameError\u001b[0m: global name 'genrations' is not defined"
       ]
      }
     ],
     "prompt_number": 1
    },
    {
     "cell_type": "markdown",
     "metadata": {},
     "source": [
      "##Step 1: Linting\n",
      "\n",
      "Let's start by running it through `pyflakes` and fixing the blatant typos. Running \"`pyflakes 1_conway_pre_linted.py`\" gives:"
     ]
    },
    {
     "cell_type": "raw",
     "metadata": {},
     "source": [
      "1_conway_pre_linted.py:9: 'sqrt' imported but unused\n",
      "1_conway_pre_linted.py:13: undefined name 'genrations'\n",
      "1_conway_pre_linted.py:14: undefined name 'popluation'\n",
      "1_conway_pre_linted.py:25: undefined name 'newPopluation'"
     ]
    },
    {
     "cell_type": "markdown",
     "metadata": {},
     "source": [
      "It caught an unused import and some typos. In this little example, `pyflakes` saved us from having to run the script multiple times to find each error; imagine how useful that is in larger code! If we fix the code, it should now run."
     ]
    },
    {
     "cell_type": "code",
     "collapsed": false,
     "input": [
      "def conway(population, \n",
      "    generations = 100):\n",
      "    for i in range(generations): population = evolve(population)\n",
      "    return population\n",
      "\n",
      "def evolve(population):\n",
      "    activeCells = population[:]\n",
      "    for cell in population:\n",
      "        for neighbor in neighbors(cell):\n",
      "            if neighbor not in activeCells: activeCells.append(neighbor)\n",
      "    newPopulation = []\n",
      "    for cell in activeCells:\n",
      "        count = sum(neighbor in population for neighbor in neighbors(cell))\n",
      "        if count == 3 or (count == 2 and cell in population):\n",
      "            if cell not in newPopulation: newPopulation.append(cell)\n",
      "    return newPopulation\n",
      "\n",
      "def neighbors(cell):\n",
      "    x, y = cell\n",
      "    return [(x, y), (x+1, y), (x-1, y), (x, y+1), (x, y-1), (x+1, y+1), (x+1, y-1), (x-1, y+1), (x-1, y-1)]\n",
      "\n",
      "glider = [(0, 0), (1, 0), (2, 0), (0, 1), (1, 2)]\n",
      "print conway(glider)"
     ],
     "language": "python",
     "metadata": {},
     "outputs": [
      {
       "output_type": "stream",
       "stream": "stdout",
       "text": [
        "[(0, 0), (2, 0), (1, 2), (1, -1), (2, 1)]\n"
       ]
      }
     ],
     "prompt_number": 4
    },
    {
     "cell_type": "markdown",
     "metadata": {},
     "source": [
      "##Step 2: Formatting\n",
      "\n",
      "Now that we have running code, let's clean it up. Running \"`pep8 2_conway_pre_formatted.py`\","
     ]
    },
    {
     "cell_type": "raw",
     "metadata": {},
     "source": [
      "2_conway_pre_formatted.py:10:23: W291 trailing whitespace\n",
      "2_conway_pre_formatted.py:11:5: E128 continuation line under-indented for visual indent\n",
      "2_conway_pre_formatted.py:11:5: E125 continuation line does not distinguish itself from next logical line\n",
      "2_conway_pre_formatted.py:11:16: E251 no spaces around keyword / parameter equals\n",
      "2_conway_pre_formatted.py:11:18: E251 no spaces around keyword / parameter equals\n",
      "2_conway_pre_formatted.py:12:32: E701 multiple statements on one line (colon)\n",
      "2_conway_pre_formatted.py:15:1: E302 expected 2 blank lines, found 1\n",
      "2_conway_pre_formatted.py:19:43: E701 multiple statements on one line (colon)\n",
      "2_conway_pre_formatted.py:24:41: E701 multiple statements on one line (colon)\n",
      "2_conway_pre_formatted.py:27:1: E302 expected 2 blank lines, found 1\n",
      "2_conway_pre_formatted.py:29:80: E501 line too long (107 > 79 characters)\n",
      "2_conway_pre_formatted.py:29:23: E225 missing whitespace around operator (x12)"
     ]
    },
    {
     "cell_type": "markdown",
     "metadata": {},
     "source": [
      "Wow, that's a lot of issues! I recommend going through each one and figuring out why it deviates from the PEP8 standard. It's obnoxious, but it'll help you write better code the first time around. \n",
      "\n",
      "Even with all of these issues, there are still some things that `pep8` isn't telling us.\n",
      "\n",
      " * Most importantly, where are the comments!? _Always_ comment code!\n",
      " * Some variables are in `camelCase`. That's bad. Rewrite as `snake_case`.\n",
      " * Never compress `if` statements to one line. Don't be afraid of whitespace.\n",
      "\n",
      "Fixing all of these issues results in much more readable code."
     ]
    },
    {
     "cell_type": "code",
     "collapsed": false,
     "input": [
      "def conway(population, generations=100):\n",
      "    \"\"\"Runs Conway's game of life on an initial population.\"\"\"\n",
      "    for i in range(generations):\n",
      "        population = evolve(population)\n",
      "    return population\n",
      "\n",
      "\n",
      "def evolve(population):\n",
      "    \"\"\"Evolves the population by one generation.\"\"\"\n",
      "    # Get a unique set of discrete cells that need to be checked\n",
      "    active_cells = population[:]\n",
      "    for cell in population:\n",
      "        for neighbor in neighbors(cell):\n",
      "            if neighbor not in active_cells:\n",
      "                active_cells.append(neighbor)\n",
      "    # For each cell in the set, test if it lives or dies\n",
      "    new_population = []\n",
      "    for cell in active_cells:\n",
      "        count = sum(neighbor in population for neighbor in neighbors(cell))\n",
      "        if count == 3 or (count == 2 and cell in population):\n",
      "            if cell not in new_population:\n",
      "                new_population.append(cell)\n",
      "    # Return the new surviving population\n",
      "    return new_population\n",
      "\n",
      "\n",
      "def neighbors(cell):\n",
      "    x, y = cell\n",
      "    return [(x, y), (x + 1, y), (x - 1, y), (x, y + 1), (x, y - 1),\n",
      "            (x + 1, y + 1), (x + 1, y - 1), (x - 1, y + 1), (x - 1, y - 1)]\n",
      "\n",
      "glider = [(0, 0), (1, 0), (2, 0), (0, 1), (1, 2)]\n",
      "print conway(glider)"
     ],
     "language": "python",
     "metadata": {},
     "outputs": []
    },
    {
     "cell_type": "markdown",
     "metadata": {},
     "source": [
      "##Step 3: Deep-rooted debugging\n",
      "\n",
      "According to successful implementations of Conway's game of life, our given initial population should cause the living cells to \"glide\" across the grid over many generations. However, it's not doing that. What's going on?\n",
      "\n",
      "Using `pdb`, we can follow the state of every variable as the code runs. This is difficult to show through IPython, so I'll leave it up to you. Set some traces in \"`3_conway_pre_debugged.py`\" and see if you can find the bug. Once you find it (or give up), keep reading.\n",
      "\n",
      "######**SPOILER:** The issue is that I accidentally defined `(x, y)` as a neighbor. Removing that fixes the code, and the glider glides.\n",
      "\n",
      "##Step 4: Speed and profiling\n",
      "\n",
      "This code is now functional and follows PEP8 standards, but maybe it could be faster. For a baseline, let's time the current script over 1,000,000 generations. Running \"`time python 4_conway_pre_profiled.py`\" results in"
     ]
    },
    {
     "cell_type": "raw",
     "metadata": {},
     "source": [
      "real\t1m9.455s\n",
      "user\t1m9.228s\n",
      "sys\t 0m0.012s"
     ]
    },
    {
     "cell_type": "markdown",
     "metadata": {},
     "source": [
      "To break down the locations of the speed constraints, we can run \"`python -m cProfile -s time 4_conway_pre_profiled.py`\""
     ]
    },
    {
     "cell_type": "raw",
     "metadata": {},
     "source": [
      "   ncalls  tottime  percall  cumtime  percall filename:lineno(function)\n",
      "198000000   38.248    0.000   38.248    0.000 4_conway_pre_profiled.py:28(<genexpr>)\n",
      "  1000000   28.373    0.000  100.867    0.000 4_conway_pre_profiled.py:17(evolve)\n",
      " 22000000   17.818    0.000   56.066    0.000 {sum}\n",
      " 27000000   15.030    0.000   15.030    0.000 4_conway_pre_profiled.py:36(neighbors)\n",
      " 22000000    1.398    0.000    1.398    0.000 {method 'append' of 'list' objects}\n",
      "        1    0.616    0.616  101.496  101.496 4_conway_pre_profiled.py:10(conway)\n",
      "        1    0.013    0.013    0.013    0.013 {range}\n",
      "        1    0.000    0.000  101.496  101.496 4_conway_pre_profiled.py:7(<module>)\n",
      "        1    0.000    0.000    0.000    0.000 {method 'disable' of '_lsprof.Profiler' objects}"
     ]
    },
    {
     "cell_type": "markdown",
     "metadata": {},
     "source": [
      "Going through everything here is _waay_ beyond the scope of the tutorial. However, I want to introduce one speed boost that will not only improve performance, but will also simplify our code and improve its readability. This involves the use of _sets_, which are collections that only store unique elements. They are much better than lists when you need to check for the existence of an element, which we do a lot in this script. Refactoring to use sets results in:"
     ]
    },
    {
     "cell_type": "code",
     "collapsed": false,
     "input": [
      "def conway(population, generations=100):\n",
      "    \"\"\"Runs Conway's game of life on an initial population.\"\"\"\n",
      "    population = set(population)\n",
      "    for i in range(generations):\n",
      "        population = evolve(population)\n",
      "    return list(population) \n",
      "\n",
      "\n",
      "def evolve(population):\n",
      "    \"\"\"Evolves the population by one generation.\"\"\"\n",
      "    # Get a unique set of discrete cells that need to be checked\n",
      "    active_cells = population | set(neighbor for p in population\n",
      "                                    for neighbor in neighbors(p))\n",
      "    # For each cell in the set, test if it lives or dies\n",
      "    new_population = set()\n",
      "    for cell in active_cells:\n",
      "        count = sum(neighbor in population for neighbor in neighbors(cell))\n",
      "        if count == 3 or (count == 2 and cell in population):\n",
      "            new_population.add(cell)\n",
      "    # Return the new surviving population\n",
      "    return new_population\n",
      "\n",
      "\n",
      "def neighbors(cell):\n",
      "    \"\"\"Returns the neighbors of a given cell.\"\"\"\n",
      "    x, y = cell\n",
      "    return [(x + 1, y), (x - 1, y), (x, y + 1), (x, y - 1), (x + 1, y + 1),\n",
      "            (x + 1, y - 1), (x - 1, y + 1), (x - 1, y - 1)]\n",
      "\n",
      "glider = [(0, 0), (1, 0), (2, 0), (0, 1), (1, 2)]\n",
      "print conway(glider)"
     ],
     "language": "python",
     "metadata": {},
     "outputs": []
    },
    {
     "cell_type": "markdown",
     "metadata": {},
     "source": [
      "The code now clocks in at 50.3 seconds, which is 38% increase in speed. That's nice.\n",
      "\n",
      "##Closing thoughts\n",
      "\n",
      "This notebook just showcased linting, coding styles, finding bugs, and improving code speed. I know this all seems like a lot of work, but it will make you produce much better code (and, as you get better, your debugging time will decrease rapidly). Stick with it!"
     ]
    }
   ],
   "metadata": {}
  }
 ]
}
