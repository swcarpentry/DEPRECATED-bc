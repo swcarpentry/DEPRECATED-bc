{
 "metadata": {
  "name": ""
 },
 "nbformat": 3,
 "nbformat_minor": 0,
 "worksheets": [
  {
   "cells": [
    {
     "cell_type": "heading",
     "level": 2,
     "metadata": {},
     "source": [
      "Links"
     ]
    },
    {
     "cell_type": "markdown",
     "metadata": {},
     "source": [
      "Nikolay Koldunov\n",
      "\n",
      "koldunovn@gmail.com"
     ]
    },
    {
     "cell_type": "markdown",
     "metadata": {},
     "source": [
      "This is part of [**Python for Geosciences**](https://github.com/koldunovn/python_for_geosciences) notes."
     ]
    },
    {
     "cell_type": "markdown",
     "metadata": {},
     "source": [
      "============="
     ]
    },
    {
     "cell_type": "heading",
     "level": 3,
     "metadata": {},
     "source": [
      "Python at ZMAW:"
     ]
    },
    {
     "cell_type": "markdown",
     "metadata": {},
     "source": [
      "[Python at KlimaCampus](https://wiki.zmaw.de/lehre/PythonCourse)"
     ]
    },
    {
     "cell_type": "markdown",
     "metadata": {},
     "source": [
      "[LES python seminar series](https://wiki.zmaw.de/lehre/PythonCourse/PythonLES)"
     ]
    },
    {
     "cell_type": "heading",
     "level": 3,
     "metadata": {},
     "source": [
      "Websites:"
     ]
    },
    {
     "cell_type": "markdown",
     "metadata": {},
     "source": [
      "[Lectures on Scientific Computing with Python.](https://github.com/jrjohansson/scientific-python-lectures#online-read-only-versions) - very good introduction to the topic writen as a collection of IPython Notebooks."
     ]
    },
    {
     "cell_type": "markdown",
     "metadata": {},
     "source": [
      "[A gallery of interesting IPython Notebooks](https://github.com/ipython/ipython/wiki/A-gallery-of-interesting-IPython-Notebooks) - constant source of inspiration :) "
     ]
    },
    {
     "cell_type": "markdown",
     "metadata": {},
     "source": [
      "[OceanPython.org](http://oceanpython.org/) - OceanPython.org is a website to learn Python Programming Language for ocean- and marine-science applications and to share Python code. OceanPython.org is maintained by students, staff and post-docs at the Department of Oceanography of Dalhousie University (Canada)"
     ]
    },
    {
     "cell_type": "markdown",
     "metadata": {},
     "source": [
      "[EarthPy](http://earthpy.org/) - EarthPy is a collection of IPython notebooks with examples of Earth Science related Python code. It can be tutorials, descriptions of the modules, small scripts, or just tricks, that you think might be useful for others."
     ]
    },
    {
     "cell_type": "markdown",
     "metadata": {},
     "source": [
      "[python4oceanographers](http://ocefpaf.github.io/) - Learn python with examples applied to marine sciences."
     ]
    },
    {
     "cell_type": "markdown",
     "metadata": {},
     "source": [
      "[Python for the Atmospheric and Oceanic Sciences](http://pyaos.johnny-lin.com/) - blog that show atmospheric and oceanic sciences (AOS) newcomers to Python what is available, and helps update experienced users as to the cutting-edge of using Python in AOS"
     ]
    },
    {
     "cell_type": "markdown",
     "metadata": {},
     "source": [
      "[NumPy for MATLAB users](http://mathesaurus.sourceforge.net/matlab-numpy.html)"
     ]
    },
    {
     "cell_type": "markdown",
     "metadata": {},
     "source": [
      "[Python NumPy for IDL users](https://www.cfa.harvard.edu/~jbattat/computer/python/science/idl-numpy.html)"
     ]
    },
    {
     "cell_type": "markdown",
     "metadata": {},
     "source": [
      "[IDL vs. Python pros and cons discussion - astronomy](http://www.astrobetter.com/idl-vs-python/)"
     ]
    },
    {
     "cell_type": "heading",
     "level": 3,
     "metadata": {},
     "source": [
      "Books:"
     ]
    },
    {
     "cell_type": "markdown",
     "metadata": {},
     "source": [
      "[Python Scripting for Computational Science](http://www.springer.com/mathematics/computational+science+%26+engineering/book/978-3-540-73915-9)"
     ]
    },
    {
     "cell_type": "markdown",
     "metadata": {},
     "source": [
      "[Learning IPython for Interactive Computing and Data Visualization](http://www.packtpub.com/learning-ipython-for-interactive-computing-and-data-visualization/book)"
     ]
    },
    {
     "cell_type": "markdown",
     "metadata": {},
     "source": [
      "[Python for Signal Processing](https://www.springer.com/engineering/signals/book/978-3-319-01341-1) - This book covers the fundamental concepts in signal processing illustrated with Python code and made available via IPython Notebooks"
     ]
    },
    {
     "cell_type": "markdown",
     "metadata": {},
     "source": [
      "[A Hands-On Introduction to Using Python in the Atmospheric and Oceanic Sciences](http://www.johnny-lin.com/pyintro/)"
     ]
    },
    {
     "cell_type": "markdown",
     "metadata": {},
     "source": [
      "[Principles of Planetary Climate](http://geosci.uchicago.edu/~rtp1/PrinciplesPlanetaryClimate/index.html) - includes a large collection of Python examples "
     ]
    },
    {
     "cell_type": "markdown",
     "metadata": {},
     "source": [
      "[Python for Science](http://physics.nmt.edu/~raymond/software/python_notes/)"
     ]
    },
    {
     "cell_type": "heading",
     "level": 3,
     "metadata": {},
     "source": [
      "Modules:"
     ]
    },
    {
     "cell_type": "markdown",
     "metadata": {},
     "source": [
      "[pyFerret](http://ferret.pmel.noaa.gov/Ferret/documentation/pyferret) - PyFerret is a Python module wrapping Ferret.  The pyferret module provides Python functions so Python users can easily take advantage of the Ferret's abilities to retrieve, manipulate, visualize, and save data.  There are also functions to move data between Python and the Ferret engine.   Python scripts used as Ferret external functions."
     ]
    },
    {
     "cell_type": "markdown",
     "metadata": {},
     "source": [
      "[PyNGL](http://www.pyngl.ucar.edu/index.shtml) - PyNGL is a Python language module used to visualize scientific data, with an emphasis on high quality 2D visualizations. Sort of interface to [NCL](http://www.ncl.ucar.edu/) plotting functions."
     ]
    },
    {
     "cell_type": "markdown",
     "metadata": {},
     "source": [
      "[python-gsw](https://github.com/ocefpaf/python-gsw) - Python implementation of the Thermodynamic Equation Of Seawater - 2010 (TEOS-10)"
     ]
    },
    {
     "cell_type": "markdown",
     "metadata": {},
     "source": [
      "[python-seawater](https://github.com/ocefpaf/python-seawater) - Translated version of the matlab CSIRO seawater toolbox (EOS80)\n"
     ]
    },
    {
     "cell_type": "markdown",
     "metadata": {},
     "source": [
      "[python-ctd](https://github.com/ocefpaf/python-ctd) - Tools to load hydrographic data into pandas DataFrame (and some rudimentary methods for data pre-processing/analysis). This module can load SeaBird CTD (CNV), Sippican XBT (EDF), and Falmouth CTD (ASCII) formats."
     ]
    },
    {
     "cell_type": "markdown",
     "metadata": {},
     "source": [
      "[python-oceans](https://github.com/ocefpaf/python-oceans) - various scripts and functions."
     ]
    },
    {
     "cell_type": "markdown",
     "metadata": {},
     "source": [
      "[TAPPY](http://sourceforge.net/apps/mediawiki/tappy/index.php?title=Main_Page) - a tidal analysis package."
     ]
    },
    {
     "cell_type": "markdown",
     "metadata": {},
     "source": [
      "[python interface for CDO](https://code.zmaw.de/projects/cdo/wiki/Cdo%7Brbpy%7D)"
     ]
    },
    {
     "cell_type": "markdown",
     "metadata": {},
     "source": [
      "[pyresample](http://code.google.com/p/pyresample/) - Resampling (reprojection) of geospatial image data in Python. Pyresample uses a kd-tree approach for resampling. Pyresample is designed for resampling of remote sensing data and supports resampling from both fixed grids and geolocated swath data."
     ]
    },
    {
     "cell_type": "markdown",
     "metadata": {},
     "source": [
      "[CliMT: An object-oriented Climate Modeling and diagnostics Toolkit](http://people.su.se/~rcaba/climt/)"
     ]
    },
    {
     "cell_type": "markdown",
     "metadata": {},
     "source": [
      "[jasmin-cis](http://proj.badc.rl.ac.uk/cedaservices/wiki/JASMIN/CommunityIntercomparisonSuite) -  This is a community effort to develop an automated model/data community intercomparison suite (CIS) within the JASMIN environment at the Centre for Environmental Data Archiving (CEDA) that will provide automated scientific analysis of heterogeneous datasets from models and observations.\n"
     ]
    }
   ],
   "metadata": {}
  }
 ]
}