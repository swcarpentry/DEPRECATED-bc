{
 "metadata": {
  "name": ""
 },
 "nbformat": 3,
 "nbformat_minor": 0,
 "worksheets": [
  {
   "cells": [
    {
     "cell_type": "heading",
     "level": 1,
     "metadata": {},
     "source": [
      "Scientific modules and IPython"
     ]
    },
    {
     "cell_type": "markdown",
     "metadata": {},
     "source": [
      "Nikolay Koldunov\n",
      "\n",
      "\n",
      "koldunovn@gmail.com"
     ]
    },
    {
     "cell_type": "markdown",
     "metadata": {},
     "source": [
      "This is part of [**Python for Geosciences**](https://github.com/koldunovn/python_for_geosciences) notes."
     ]
    },
    {
     "cell_type": "markdown",
     "metadata": {},
     "source": [
      "================"
     ]
    },
    {
     "cell_type": "heading",
     "level": 2,
     "metadata": {},
     "source": [
      "Core scientific packages"
     ]
    },
    {
     "cell_type": "markdown",
     "metadata": {},
     "source": [
      "When people say that they do their scientific computations in Python it's only half true. Python is a construction set, similar to MITgcm or other models. Without packages it's only a core, that although very powerful, does not seems to be able to do much by itself.\n",
      "\n",
      "There is a set of packages, that almost every scientist would need:\n",
      "\n",
      "<img  height=\"200\" src=\"files/core.png\">"
     ]
    },
    {
     "cell_type": "markdown",
     "metadata": {},
     "source": [
      "We are going to talk about all exept Sympy"
     ]
    },
    {
     "cell_type": "heading",
     "level": 2,
     "metadata": {},
     "source": [
      "IPython and pylab"
     ]
    },
    {
     "cell_type": "markdown",
     "metadata": {},
     "source": [
      "In order to be productive you need comfortable environment, and this is what IPython provide. It was started as enhanced python interactive shell, but with time become architecture for interactive computing.\n",
      "\n",
      "Starting IPython with *--pylab* option loads some necessary modules (NumPy for data array support and Matplotlib for plotting support), that make it similar to Matlab console.\n",
      "\n",
      "In order to use latest version of IPython on zmaw computers one has to load appropriate module:\n",
      "\n",
      "    module load python/2.7-ve2\n",
      "    \n",
      "and then\n",
      "\n",
      "    ipython --pylab\n",
      "    \n",
      "On Ubuntu or other Debian-based distributions something like this will set you up for the rest of the course:\n",
      "\n",
      "    sudo apt-get install ipython-notebook python-matplotlib python-scipy python-pandas python-sympy python-mpltoolkits.basemap netcdf-bin cdo\n"
     ]
    },
    {
     "cell_type": "heading",
     "level": 3,
     "metadata": {},
     "source": [
      "IPython notebook "
     ]
    },
    {
     "cell_type": "markdown",
     "metadata": {},
     "source": [
      "Since the 0.12 release, IPython provides a new rich text web interface - IPython notebook. Here you can combine:"
     ]
    },
    {
     "cell_type": "heading",
     "level": 4,
     "metadata": {},
     "source": [
      "Code execution"
     ]
    },
    {
     "cell_type": "code",
     "collapsed": false,
     "input": [
      "print('I love Python')"
     ],
     "language": "python",
     "metadata": {},
     "outputs": [
      {
       "output_type": "stream",
       "stream": "stdout",
       "text": [
        "I love Python\n"
       ]
      }
     ],
     "prompt_number": 1
    },
    {
     "cell_type": "heading",
     "level": 4,
     "metadata": {},
     "source": [
      "Text (Markdown)"
     ]
    },
    {
     "cell_type": "markdown",
     "metadata": {},
     "source": [
      "IPython [website](http://ipython.org/).\n",
      "\n",
      "List:\n",
      "\n",
      "* [Python on Codeacademy](http://www.codecademy.com/tracks/python)\n",
      "* [Google's Python Class](https://developers.google.com/edu/python/)\n",
      "\n",
      "Code:\n",
      "\n",
      "    print('hello world')\n"
     ]
    },
    {
     "cell_type": "heading",
     "level": 4,
     "metadata": {},
     "source": [
      "$\\LaTeX$ equations"
     ]
    },
    {
     "cell_type": "markdown",
     "metadata": {},
     "source": [
      "$$\\int_0^\\infty e^{-x^2} dx=\\frac{\\sqrt{\\pi}}{2}$$\n",
      "$$\n",
      "F(x,y)=0 ~~\\mbox{and}~~\n",
      "\\left| \\begin{array}{ccc}\n",
      "  F''_{xx} & F''_{xy} &  F'_x \\\\\n",
      "  F''_{yx} & F''_{yy} &  F'_y \\\\\n",
      "  F'_x     & F'_y     & 0 \n",
      "  \\end{array}\\right| = 0\n",
      "$$"
     ]
    },
    {
     "cell_type": "heading",
     "level": 4,
     "metadata": {},
     "source": [
      "Plots"
     ]
    },
    {
     "cell_type": "code",
     "collapsed": false,
     "input": [
      "x = [1,2,3,4,5]\n",
      "plot(x)"
     ],
     "language": "python",
     "metadata": {},
     "outputs": [
      {
       "metadata": {},
       "output_type": "pyout",
       "prompt_number": 2,
       "text": [
        "[<matplotlib.lines.Line2D at 0x3a60310>]"
       ]
      },
      {
       "metadata": {},
       "output_type": "display_data",
       "png": "[encoded data removed]",
       "text": [
        "<matplotlib.figure.Figure at 0x3923690>"
       ]
      }
     ],
     "prompt_number": 2
    },
    {
     "cell_type": "heading",
     "level": 4,
     "metadata": {},
     "source": [
      "Rich media"
     ]
    },
    {
     "cell_type": "code",
     "collapsed": false,
     "input": [
      "from IPython.display import YouTubeVideo\n",
      "YouTubeVideo('F4rFuIb1Ie4')"
     ],
     "language": "python",
     "metadata": {},
     "outputs": [
      {
       "html": [
        "\n",
        "        <iframe\n",
        "            width=\"400\"\n",
        "            height=300\"\n",
        "            src=\"http://www.youtube.com/embed/F4rFuIb1Ie4\"\n",
        "            frameborder=\"0\"\n",
        "            allowfullscreen\n",
        "        ></iframe>\n",
        "        "
       ],
       "metadata": {},
       "output_type": "pyout",
       "prompt_number": 36,
       "text": [
        "<IPython.lib.display.YouTubeVideo at 0x3627d50>"
       ]
      }
     ],
     "prompt_number": 36
    },
    {
     "cell_type": "markdown",
     "metadata": {},
     "source": [
      "* [IPython website](http://ipython.org/)\n",
      "* [Notebook gallery](https://github.com/ipython/ipython/wiki/A-gallery-of-interesting-IPython-Notebooks) "
     ]
    },
    {
     "cell_type": "heading",
     "level": 2,
     "metadata": {},
     "source": [
      "Run notebook"
     ]
    },
    {
     "cell_type": "markdown",
     "metadata": {},
     "source": [
      "In order to start IPython notebook you have to type:\n",
      "\n",
      "    ipython notebook\n",
      "\n",
      "but in order to work in the notebook efficiently one has to start it with *pylab* and *inline* mode, that allow inline graphics\n",
      "\n",
      "    ipython notebook --pylab inline\n",
      "\n",
      "\n",
      "on ZMAW computers, where default browser is Konqueror, you might need to use:\n",
      "\n",
      "    ipython notebook --pylab inline --browser=\"firefox\""
     ]
    },
    {
     "cell_type": "heading",
     "level": 3,
     "metadata": {},
     "source": [
      "You can download and run this lectures:"
     ]
    },
    {
     "cell_type": "markdown",
     "metadata": {},
     "source": [
      "Web version can be accesed from the [github repository](https://github.com/koldunovn/python_for_geosciences)."
     ]
    },
    {
     "cell_type": "markdown",
     "metadata": {},
     "source": [
      "You can download them as .zip file:\n",
      "\n",
      "    wget https://github.com/koldunovn/python_for_geosciences/archive/master.zip\n",
      "\n",
      "Unzip:\n",
      "    \n",
      "    unzip master.zip\n",
      "\n",
      "And run:\n",
      "\n",
      "    cd python_for_geosciences-master/\n",
      "    ipython notebook --pylab inline"
     ]
    },
    {
     "cell_type": "heading",
     "level": 2,
     "metadata": {},
     "source": [
      "Main IPyhton features"
     ]
    },
    {
     "cell_type": "heading",
     "level": 3,
     "metadata": {},
     "source": [
      "Getting help"
     ]
    },
    {
     "cell_type": "markdown",
     "metadata": {},
     "source": [
      "You can use question mark in order to get help. To execute cell you have to press *Shift+Enter*"
     ]
    },
    {
     "cell_type": "code",
     "collapsed": false,
     "input": [
      "?"
     ],
     "language": "python",
     "metadata": {},
     "outputs": [],
     "prompt_number": 1
    },
    {
     "cell_type": "markdown",
     "metadata": {},
     "source": [
      "Question mark after a function will open pager with documentation. Double question mark will show you source code of the function. "
     ]
    },
    {
     "cell_type": "code",
     "collapsed": false,
     "input": [
      "plot??"
     ],
     "language": "python",
     "metadata": {},
     "outputs": [],
     "prompt_number": 6
    },
    {
     "cell_type": "markdown",
     "metadata": {},
     "source": [
      "Press TAB after opening bracket in order to get help for the function (list of arguments, doc string)."
     ]
    },
    {
     "cell_type": "code",
     "collapsed": false,
     "input": [
      "sum("
     ],
     "language": "python",
     "metadata": {},
     "outputs": []
    },
    {
     "cell_type": "heading",
     "level": 3,
     "metadata": {},
     "source": [
      "Accessing the underlying operating system"
     ]
    },
    {
     "cell_type": "markdown",
     "metadata": {},
     "source": [
      "You can access system functions by typing exclamation mark."
     ]
    },
    {
     "cell_type": "code",
     "collapsed": false,
     "input": [
      "!pwd"
     ],
     "language": "python",
     "metadata": {},
     "outputs": [
      {
       "output_type": "stream",
       "stream": "stdout",
       "text": [
        "/home/magik/NOTEBOOKS/PYTHON\r\n"
       ]
      }
     ],
     "prompt_number": 7
    },
    {
     "cell_type": "markdown",
     "metadata": {},
     "source": [
      "If you already have some netCDF file in the directory and *ncdump* is installed, you can for example look at its header."
     ]
    },
    {
     "cell_type": "code",
     "collapsed": false,
     "input": [
      "!ncdump -h test_netcdf.nc"
     ],
     "language": "python",
     "metadata": {},
     "outputs": [
      {
       "output_type": "stream",
       "stream": "stdout",
       "text": [
        "netcdf test_netcdf {\r\n",
        "dimensions:\r\n",
        "\tTIME = 1464 ;\r\n",
        "\tLATITUDE = 73 ;\r\n",
        "\tLONGITUDE = 144 ;\r\n",
        "variables:\r\n",
        "\tfloat TIME(TIME) ;\r\n",
        "\t\tTIME:units = \"hours since 1-1-1 00:00:0.0\" ;\r\n",
        "\tfloat New_air(TIME, LATITUDE, LONGITUDE) ;\r\n",
        "\t\tNew_air:missing_value = -9999.f ;\r\n",
        "\tfloat LONGITUDE(LONGITUDE) ;\r\n",
        "\tfloat LATITUDE(LATITUDE) ;\r\n",
        "}\r\n"
       ]
      }
     ],
     "prompt_number": 8
    },
    {
     "cell_type": "markdown",
     "metadata": {},
     "source": [
      "Example of [cdo](https://code.zmaw.de/projects/cdo) use:"
     ]
    },
    {
     "cell_type": "code",
     "collapsed": false,
     "input": [
      "!cdo nyear test_netcdf.nc"
     ],
     "language": "python",
     "metadata": {},
     "outputs": [
      {
       "output_type": "stream",
       "stream": "stdout",
       "text": [
        "1\r\n",
        "cdo nyear: Processed 1 variable over 1464 timesteps. ( 0.01s )\r\n"
       ]
      }
     ],
     "prompt_number": 9
    },
    {
     "cell_type": "markdown",
     "metadata": {},
     "source": [
      "Get information from OS output to the python variable"
     ]
    },
    {
     "cell_type": "code",
     "collapsed": false,
     "input": [
      "nmon = !cdo nmon test_netcdf.nc\n",
      "nmon"
     ],
     "language": "python",
     "metadata": {},
     "outputs": [
      {
       "metadata": {},
       "output_type": "pyout",
       "prompt_number": 10,
       "text": [
        "['cdo nmon: Processed 1 variable over 1464 timesteps. ( 0.01s )', '12']"
       ]
      }
     ],
     "prompt_number": 10
    },
    {
     "cell_type": "markdown",
     "metadata": {},
     "source": [
      "Return information from Pyhton variable to the SHELL"
     ]
    },
    {
     "cell_type": "code",
     "collapsed": false,
     "input": [
      "!echo {nmon[1]}"
     ],
     "language": "python",
     "metadata": {},
     "outputs": [
      {
       "output_type": "stream",
       "stream": "stdout",
       "text": [
        "12\r\n"
       ]
      }
     ],
     "prompt_number": 11
    },
    {
     "cell_type": "heading",
     "level": 2,
     "metadata": {},
     "source": [
      "Magic functions"
     ]
    },
    {
     "cell_type": "markdown",
     "metadata": {},
     "source": [
      "The magic function system provides a series of functions which allow you to\n",
      "control the behavior of IPython itself, plus a lot of system-type\n",
      "features."
     ]
    },
    {
     "cell_type": "markdown",
     "metadata": {},
     "source": [
      "Let's create some set of numbers using [range](http://docs.python.org/2/library/functions.html#range) command:"
     ]
    },
    {
     "cell_type": "code",
     "collapsed": false,
     "input": [
      "range(10)"
     ],
     "language": "python",
     "metadata": {},
     "outputs": [
      {
       "metadata": {},
       "output_type": "pyout",
       "prompt_number": 6,
       "text": [
        "[0, 1, 2, 3, 4, 5, 6, 7, 8, 9]"
       ]
      }
     ],
     "prompt_number": 6
    },
    {
     "cell_type": "markdown",
     "metadata": {},
     "source": [
      "And find out how long does it take to run it with *%timeit* magic function:"
     ]
    },
    {
     "cell_type": "code",
     "collapsed": false,
     "input": [
      "%timeit range(10)"
     ],
     "language": "python",
     "metadata": {},
     "outputs": [
      {
       "output_type": "stream",
       "stream": "stdout",
       "text": [
        "1000000 loops, best of 3: 679 ns per loop\n"
       ]
      }
     ],
     "prompt_number": 14
    },
    {
     "cell_type": "markdown",
     "metadata": {},
     "source": [
      "Print all interactive variables (similar to Matlab function):"
     ]
    },
    {
     "cell_type": "code",
     "collapsed": false,
     "input": [
      "%whos"
     ],
     "language": "python",
     "metadata": {},
     "outputs": [
      {
       "output_type": "stream",
       "stream": "stdout",
       "text": [
        "Interactive namespace is empty.\n"
       ]
      }
     ],
     "prompt_number": 7
    },
    {
     "cell_type": "heading",
     "level": 3,
     "metadata": {},
     "source": [
      "Cell-oriented magic"
     ]
    },
    {
     "cell_type": "markdown",
     "metadata": {},
     "source": [
      "Receive as argument both the current line where they are declared and the whole body of the cell. "
     ]
    },
    {
     "cell_type": "code",
     "collapsed": false,
     "input": [
      "%%timeit\n",
      "range(10)\n",
      "range(100)"
     ],
     "language": "python",
     "metadata": {},
     "outputs": [
      {
       "output_type": "stream",
       "stream": "stdout",
       "text": [
        "100000 loops, best of 3: 3.34 \u00b5s per loop\n"
       ]
      }
     ],
     "prompt_number": 15
    },
    {
     "cell_type": "markdown",
     "metadata": {},
     "source": [
      "Thre are several cell-oriented magic functions that allow you to run code in other languages:"
     ]
    },
    {
     "cell_type": "code",
     "collapsed": false,
     "input": [
      "%%bash\n",
      "\n",
      "echo \"My shell is:\" $SHELL\n",
      "echo \"My memory status is:\"\n",
      "free"
     ],
     "language": "python",
     "metadata": {},
     "outputs": [
      {
       "output_type": "stream",
       "stream": "stdout",
       "text": [
        "My shell is: /bin/bash\n",
        "My memory status is:\n",
        "             total       used       free     shared    buffers     cached\n",
        "Mem:       3925620    1857860    2067760          0      82812     757212\n",
        "-/+ buffers/cache:    1017836    2907784\n",
        "Swap:      3906556          0    3906556\n"
       ]
      }
     ],
     "prompt_number": 16
    },
    {
     "cell_type": "code",
     "collapsed": false,
     "input": [
      "%%perl\n",
      "\n",
      "$variable = 1;\n",
      "print \"The variable has the value of $variable\\n\";"
     ],
     "language": "python",
     "metadata": {},
     "outputs": [
      {
       "output_type": "stream",
       "stream": "stdout",
       "text": [
        "The variable has the value of 1\n"
       ]
      }
     ],
     "prompt_number": 14
    },
    {
     "cell_type": "markdown",
     "metadata": {},
     "source": [
      "You can write content of the cell to a file with *%%writefile* (or *%%file* for ipython < 1.0):"
     ]
    },
    {
     "cell_type": "code",
     "collapsed": false,
     "input": [
      "%%writefile hello.py\n",
      "#if you use ipython < 1.0, use %%file comand\n",
      "#%%file \n",
      "a = 'hello world!'\n",
      "print(a)\n"
     ],
     "language": "python",
     "metadata": {},
     "outputs": [
      {
       "output_type": "stream",
       "stream": "stdout",
       "text": [
        "Writing hello.py\n"
       ]
      }
     ],
     "prompt_number": 16
    },
    {
     "cell_type": "markdown",
     "metadata": {},
     "source": [
      "And then run it:"
     ]
    },
    {
     "cell_type": "code",
     "collapsed": false,
     "input": [
      "%run hello.py"
     ],
     "language": "python",
     "metadata": {},
     "outputs": [
      {
       "output_type": "stream",
       "stream": "stdout",
       "text": [
        "hello world!\n"
       ]
      }
     ],
     "prompt_number": 17
    },
    {
     "cell_type": "markdown",
     "metadata": {},
     "source": [
      "The *%run* magic will run your python script and load all variables into your interactive namespace for further use."
     ]
    },
    {
     "cell_type": "code",
     "collapsed": false,
     "input": [
      "%whos"
     ],
     "language": "python",
     "metadata": {},
     "outputs": [
      {
       "output_type": "stream",
       "stream": "stdout",
       "text": [
        "Variable   Type    Data/Info\n",
        "----------------------------\n",
        "a          str     hello world!\n"
       ]
      }
     ],
     "prompt_number": 18
    },
    {
     "cell_type": "markdown",
     "metadata": {},
     "source": [
      "In order to get information about all magic functions type:"
     ]
    },
    {
     "cell_type": "code",
     "collapsed": false,
     "input": [
      "%magic"
     ],
     "language": "python",
     "metadata": {},
     "outputs": [],
     "prompt_number": 19
    },
    {
     "cell_type": "heading",
     "level": 3,
     "metadata": {},
     "source": [
      "Links:"
     ]
    },
    {
     "cell_type": "markdown",
     "metadata": {},
     "source": [
      "[The cell magics in IPython](http://nbviewer.ipython.org/urls/raw.github.com/ipython/ipython/1.x/examples/notebooks/Cell%20Magics.ipynb)"
     ]
    }
   ],
   "metadata": {}
  }
 ]
}