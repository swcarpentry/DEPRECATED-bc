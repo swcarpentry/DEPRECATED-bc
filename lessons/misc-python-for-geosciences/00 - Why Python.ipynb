{
 "metadata": {
  "name": ""
 },
 "nbformat": 3,
 "nbformat_minor": 0,
 "worksheets": [
  {
   "cells": [
    {
     "cell_type": "heading",
     "level": 1,
     "metadata": {
      "slideshow": {
       "slide_type": "slide"
      }
     },
     "source": [
      "Python for Geosciences"
     ]
    },
    {
     "cell_type": "markdown",
     "metadata": {
      "slideshow": {
       "slide_type": "fragment"
      }
     },
     "source": [
      "Nikolay Koldunov\n",
      "\n",
      "\n",
      "koldunovn@gmail.com"
     ]
    },
    {
     "cell_type": "markdown",
     "metadata": {
      "slideshow": {
       "slide_type": "skip"
      }
     },
     "source": [
      "This is part of [**Python for Geosciences**](https://github.com/koldunovn/python_for_geosciences) notes."
     ]
    },
    {
     "cell_type": "heading",
     "level": 1,
     "metadata": {
      "slideshow": {
       "slide_type": "slide"
      }
     },
     "source": [
      "Why python?"
     ]
    },
    {
     "cell_type": "heading",
     "level": 2,
     "metadata": {
      "slideshow": {
       "slide_type": "fragment"
      }
     },
     "source": [
      "- It's easy to learn, easy to read and fast to develop"
     ]
    },
    {
     "cell_type": "markdown",
     "metadata": {
      "slideshow": {
       "slide_type": "fragment"
      }
     },
     "source": [
      "It is considered to be the language of choice for beginners, and proper code formatting is in the design of the language. This is especially useful when you remember, that we are the scientist not programmers. What we need is to have a language that can be learned quickly, but at the same time is powerful enough to satisfy our needs."
     ]
    },
    {
     "cell_type": "heading",
     "level": 2,
     "metadata": {
      "slideshow": {
       "slide_type": "slide"
      }
     },
     "source": [
      " - It's free and opensource. "
     ]
    },
    {
     "cell_type": "markdown",
     "metadata": {
      "slideshow": {
       "slide_type": "fragment"
      }
     },
     "source": [
      "You will be able to use your scripts even if your institute does not have enough money to buy expensive software (MATLAB or IDL). You can make changes in the code, or at least have the possibility to look at the source code if you suspect that there is a bug."
     ]
    },
    {
     "cell_type": "heading",
     "level": 2,
     "metadata": {
      "slideshow": {
       "slide_type": "slide"
      }
     },
     "source": [
      "- It's multiplatform"
     ]
    },
    {
     "cell_type": "markdown",
     "metadata": {
      "slideshow": {
       "slide_type": "fragment"
      }
     },
     "source": [
      "You can find it on many systems, so you are not tied to Windows, Mac or Linux. It sounds great, but is not always the case: some modules will work only on limited number of operating systems (e.g. PyNGL, pyFerret)."
     ]
    },
    {
     "cell_type": "heading",
     "level": 2,
     "metadata": {
      "slideshow": {
       "slide_type": "slide"
      }
     },
     "source": [
      "- It's general purpose language"
     ]
    },
    {
     "cell_type": "markdown",
     "metadata": {
      "slideshow": {
       "slide_type": "fragment"
      }
     },
     "source": [
      "You can use it not only for data processing and visualization, but also for system administration, web development, database programming and so on. It is relatively easy to make your code run in the parallel mode. Last but not the least - if you ever decide to leave academia your chances on the market are much better with some python skills.\n"
     ]
    },
    {
     "cell_type": "heading",
     "level": 1,
     "metadata": {
      "slideshow": {
       "slide_type": "slide"
      }
     },
     "source": [
      "Downsides:"
     ]
    },
    {
     "cell_type": "heading",
     "level": 2,
     "metadata": {
      "slideshow": {
       "slide_type": "fragment"
      }
     },
     "source": [
      "- There is a smaller legacy code base"
     ]
    },
    {
     "cell_type": "markdown",
     "metadata": {
      "slideshow": {
       "slide_type": "fragment"
      }
     },
     "source": [
      "FORTRAN and Matlab are used for decades, and have a lot of libraries for all kinds of scientific needs. Although now main functionality is covered by python modules, there are still many specific areas where no python solution is available. This problem can be partly solved by python's integration with other languages ([MLabWrap](http://mlabwrap.sourceforge.net/), [F2py](http://www.f2py.com/))."
     ]
    },
    {
     "cell_type": "heading",
     "level": 2,
     "metadata": {
      "slideshow": {
       "slide_type": "slide"
      }
     },
     "source": [
      "- It's slow"
     ]
    },
    {
     "cell_type": "markdown",
     "metadata": {
      "slideshow": {
       "slide_type": "fragment"
      }
     },
     "source": [
      "... if you don't use vectorization or [Cython](http://www.cython.org/) when loops are inevitable. Critical parts still can be written in FORTRAN or C.  "
     ]
    },
    {
     "cell_type": "markdown",
     "metadata": {
      "slideshow": {
       "slide_type": "slide"
      }
     },
     "source": [
      "More reading on this topic:\n",
      "\n",
      "*  [10 Reasons Python Rocks for Research (And a Few Reasons it Doesn\u2019t)](http://www.stat.washington.edu/~hoytak/blog/whypython.html)\n",
      "*  [I used Matlab. Now I use Python](http://stevetjoa.com/305/)\n",
      "*  [Eight Advantages of Python Over Matlab](http://phillipmfeldman.org/Python/Advantages_of_Python_Over_Matlab.html)"
     ]
    },
    {
     "cell_type": "heading",
     "level": 1,
     "metadata": {
      "slideshow": {
       "slide_type": "slide"
      }
     },
     "source": [
      "Python in Earth Sciences"
     ]
    },
    {
     "cell_type": "markdown",
     "metadata": {
      "slideshow": {
       "slide_type": "fragment"
      }
     },
     "source": [
      "Lin, J. W.-B. (2012). [**Why Python Is the Next Wave in Earth Sciences Computing**](http://journals.ametsoc.org/doi/full/10.1175/BAMS-D-12-00148.1). *Bulletin of the American Meteorological Society*, 93(12), 1823\u20131824. doi:10.1175/BAMS-D-12-00148.1"
     ]
    },
    {
     "cell_type": "markdown",
     "metadata": {
      "slideshow": {
       "slide_type": "fragment"
      }
     },
     "source": [
      "- Though it has been around for two decades, it exploded into use in the atmospheric sciences just a few years ago after the development community converged upon the standard scientific packages (e.g., array handling) needed for atmospheric sciences work.\n",
      "\n",
      "- Much more robust and flexible workflow. Everything from data download to data analysys, visualization and finally writing a paper can be done in one environment."
     ]
    },
    {
     "cell_type": "markdown",
     "metadata": {
      "slideshow": {
       "slide_type": "slide"
      }
     },
     "source": [
      "- Ability to access innovations from industries outside of the Earth sciences (cloud computing, big data, mobile computing).\n",
      "\n",
      "- Institutional support includes groups at Lawrence Livermore National Laboratory\u2019s Program for Climate Model Diagnosis and Intercomparison, NCAR\u2019s Computer Information Systems Laboratory, and the British Atmospheric Data Centre."
     ]
    },
    {
     "cell_type": "heading",
     "level": 2,
     "metadata": {
      "slideshow": {
       "slide_type": "slide"
      }
     },
     "source": [
      "Further reading:"
     ]
    },
    {
     "cell_type": "markdown",
     "metadata": {
      "slideshow": {
       "slide_type": "fragment"
      }
     },
     "source": [
      "*  [Lectures on Scientific Computing with Python.](https://github.com/jrjohansson/scientific-python-lectures#online-read-only-versions)\n",
      "*  [Python Scientific Lecture Notes](http://scipy-lectures.github.io/)\n",
      "*  [NumPy for Matlab Users](http://wiki.scipy.org/NumPy_for_Matlab_Users)\n",
      "*  [Python data tools just keep getting better](http://strata.oreilly.com/2013/03/python-data-tools-just-keep-getting-better.html)\n",
      "*  [Third Symposium on Advances in Modeling and Analysis Using Python](http://annual.ametsoc.org/2013/index.cfm/programs-and-events/conferences-and-symposia/third-symposium-on-advances-in-modeling-and-analysis-using-python/)"
     ]
    }
   ],
   "metadata": {}
  }
 ]
}
