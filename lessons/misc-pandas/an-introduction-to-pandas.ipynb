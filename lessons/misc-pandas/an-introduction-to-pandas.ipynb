{
 "metadata": {
  "name": "an-introduction-to-pandas"
 },
 "nbformat": 3,
 "nbformat_minor": 0,
 "worksheets": [
  {
   "cells": [
    {
     "cell_type": "markdown",
     "metadata": {},
     "source": [
      "# An Introduction to Pandas"
     ]
    },
    {
     "cell_type": "markdown",
     "metadata": {},
     "source": [
      "When dealing with numeric matrices and vectors in Python, [NumPy](http://www.numpy.org/) makes life a lot easier.\n",
      "For more complex data, however, it leaves a lot to be desired.\n",
      "If you're used to working with [data frames in R](http://www.r-tutor.com/r-introduction/data-frame), doing data analysis directly with NumPy feels like a step back.\n",
      "\n",
      "Fortunately, some nice folks have written the [Python Data Analysis Library](http://pandas.pydata.org/) (a.k.a. pandas).\n",
      "Pandas provides an R-like `DataFrame`, produces high quality plots with [matplotlib](http://matplotlib.org/), and integrates nicely with other libraries that expect NumPy arrays.\n",
      "\n",
      "In this tutorial, we'll go through the basics of pandas using a year's worth of weather data from [Weather Underground](http://www.wunderground.com/).\n",
      "Pandas has a **lot** of functionality, so we'll only be able to cover a small fraction of what you can do.\n",
      "Check out the (very readable) [pandas docs](http://pandas.pydata.org/pandas-docs/stable/) if you want to learn more."
     ]
    },
    {
     "cell_type": "markdown",
     "metadata": {},
     "source": [
      "## Getting Started"
     ]
    },
    {
     "cell_type": "markdown",
     "metadata": {},
     "source": [
      "Installing pandas should be an easy process if you use pip:\n",
      "\n",
      "```\n",
      "sudo pip install pandas\n",
      "```\n",
      "\n",
      "For more complex scenarios, please see the [installation instructions](http://pandas.pydata.org/pandas-docs/stable/install.html).\n",
      "\n",
      "OK, let's get started by importing the pandas library."
     ]
    },
    {
     "cell_type": "code",
     "collapsed": true,
     "input": [
      "import pandas"
     ],
     "language": "python",
     "metadata": {},
     "outputs": []
    },
    {
     "cell_type": "markdown",
     "metadata": {},
     "source": [
      "Next, let's read in [our data](data/weather_year.csv).\n",
      "Because it's in a CSV file, we can use pandas' `read_csv` function to pull it directly into a [DataFrame](http://pandas.pydata.org/pandas-docs/stable/dsintro.html#dataframe)."
     ]
    },
    {
     "cell_type": "code",
     "collapsed": true,
     "input": [
      "data = pandas.read_csv(\"data/weather_year.csv\")"
     ],
     "language": "python",
     "metadata": {},
     "outputs": []
    },
    {
     "cell_type": "markdown",
     "metadata": {},
     "source": [
      "We can get a summary of the DataFrame by printing the object."
     ]
    },
    {
     "cell_type": "code",
     "collapsed": false,
     "input": [
      "data"
     ],
     "language": "python",
     "metadata": {},
     "outputs": []
    },
    {
     "cell_type": "markdown",
     "metadata": {},
     "source": [
      "This gives us a lot of information. First, we can see that there are 366 rows (entries) -- a year and a day's worth of weather. Each column is printed along with however many \"non-null\" values are present.\n",
      "We'll talk more about [null (or missing) values in pandas](http://pandas.pydata.org/pandas-docs/stable/missing_data.html) later, but for now we can note that only the \"Max Gust SpeedMPH\" and \"Events\" columns have fewer than 366 non-null values.\n",
      "Lastly, the data types (dtypes) of the columns are printed at the very bottom. We can see that there are 4 `float64`, 16 `int64`, and 3 `object` columns."
     ]
    },
    {
     "cell_type": "code",
     "collapsed": false,
     "input": [
      "len(data)"
     ],
     "language": "python",
     "metadata": {},
     "outputs": []
    },
    {
     "cell_type": "markdown",
     "metadata": {},
     "source": [
      "Using `len` on a DataFrame will give you the number of rows. You can get the column names using the `columns` property."
     ]
    },
    {
     "cell_type": "code",
     "collapsed": false,
     "input": [
      "data.columns"
     ],
     "language": "python",
     "metadata": {},
     "outputs": []
    },
    {
     "cell_type": "markdown",
     "metadata": {},
     "source": [
      "Columns can be accessed in two ways. The first is using the DataFrame like a dictionary with string keys:"
     ]
    },
    {
     "cell_type": "code",
     "collapsed": false,
     "input": [
      "data[\"EDT\"]"
     ],
     "language": "python",
     "metadata": {},
     "outputs": []
    },
    {
     "cell_type": "markdown",
     "metadata": {},
     "source": [
      "You can get multiple columns out at the same time by passing in a list of strings."
     ]
    },
    {
     "cell_type": "code",
     "collapsed": false,
     "input": [
      "data[[\"EDT\", \"Mean TemperatureF\"]]"
     ],
     "language": "python",
     "metadata": {},
     "outputs": []
    },
    {
     "cell_type": "markdown",
     "metadata": {},
     "source": [
      "The second way to access columns is using the dot syntax. This only works if your column name could also be a Python variable name (i.e., no spaces), and if it doesn't collide with another DataFrame property or function name (e.g., count, sum)."
     ]
    },
    {
     "cell_type": "code",
     "collapsed": false,
     "input": [
      "data.EDT"
     ],
     "language": "python",
     "metadata": {},
     "outputs": []
    },
    {
     "cell_type": "markdown",
     "metadata": {},
     "source": [
      "We'll be mostly using the dot syntax here because you can auto-complete the names in IPython. The first pandas function we'll learn about is `head()`. This gives us the first 5 items in a column (or the first 5 rows in the DataFrame)."
     ]
    },
    {
     "cell_type": "code",
     "collapsed": false,
     "input": [
      "data.EDT.head()"
     ],
     "language": "python",
     "metadata": {},
     "outputs": []
    },
    {
     "cell_type": "markdown",
     "metadata": {},
     "source": [
      "Passing in a number `n` gives us the first `n` items in the column. There is also a corresponding `tail()` method that gives the *last* `n` items or rows."
     ]
    },
    {
     "cell_type": "code",
     "collapsed": false,
     "input": [
      "data.EDT.head(10)"
     ],
     "language": "python",
     "metadata": {},
     "outputs": []
    },
    {
     "cell_type": "markdown",
     "metadata": {},
     "source": [
      "This also works with the dictionary syntax."
     ]
    },
    {
     "cell_type": "code",
     "collapsed": false,
     "input": [
      "data[\"Mean TemperatureF\"].head()"
     ],
     "language": "python",
     "metadata": {},
     "outputs": []
    },
    {
     "cell_type": "markdown",
     "metadata": {},
     "source": [
      "## Exercise 1:\n",
      "\n",
      "How would we get the second to last date (EDT) in the dataset?"
     ]
    },
    {
     "cell_type": "code",
     "collapsed": false,
     "input": [],
     "language": "python",
     "metadata": {},
     "outputs": []
    },
    {
     "cell_type": "markdown",
     "metadata": {},
     "source": [
      "If the data in the column is numeric, you can use `describe()` to get some stats on it."
     ]
    },
    {
     "cell_type": "code",
     "collapsed": false,
     "input": [
      "data[\"Mean TemperatureF\"].describe()"
     ],
     "language": "python",
     "metadata": {},
     "outputs": []
    },
    {
     "cell_type": "markdown",
     "metadata": {},
     "source": [
      "## Fun with Columns"
     ]
    },
    {
     "cell_type": "markdown",
     "metadata": {},
     "source": [
      "The column names in `data` are a little unweildy, so we're going to rename them. This is as easy as assigning a new list of column names to the `columns` property of the DataFrame."
     ]
    },
    {
     "cell_type": "code",
     "collapsed": true,
     "input": [
      "data.columns = [\"date\", \"max_temp\", \"mean_temp\", \"min_temp\", \"max_dew\",\n",
      "                \"mean_dew\", \"min_dew\", \"max_humidity\", \"mean_humidity\",\n",
      "                \"min_humidity\", \"max_pressure\", \"mean_pressure\",\n",
      "                \"min_pressure\", \"max_visibilty\", \"mean_visibility\",\n",
      "                \"min_visibility\", \"max_wind\", \"mean_wind\", \"min_wind\",\n",
      "                \"precipitation\", \"cloud_cover\", \"events\", \"wind_dir\"]"
     ],
     "language": "python",
     "metadata": {},
     "outputs": []
    },
    {
     "cell_type": "markdown",
     "metadata": {},
     "source": [
      "These should be in the same order as the original columns. Let's take another look at our DataFrame summary."
     ]
    },
    {
     "cell_type": "code",
     "collapsed": false,
     "input": [
      "data"
     ],
     "language": "python",
     "metadata": {},
     "outputs": []
    },
    {
     "cell_type": "markdown",
     "metadata": {},
     "source": [
      "Now our columns can all be accessed using the dot syntax!"
     ]
    },
    {
     "cell_type": "code",
     "collapsed": false,
     "input": [
      "data.mean_temp.head()"
     ],
     "language": "python",
     "metadata": {},
     "outputs": []
    },
    {
     "cell_type": "markdown",
     "metadata": {},
     "source": [
      "There are lots useful methods on columns, such as `std()` to get the standard deviation. Most of pandas' methods will happily ignore missing values like `NaN`."
     ]
    },
    {
     "cell_type": "code",
     "collapsed": false,
     "input": [
      "data.mean_temp.std()"
     ],
     "language": "python",
     "metadata": {},
     "outputs": []
    },
    {
     "cell_type": "markdown",
     "metadata": {},
     "source": [
      "Some methods, like `plot()` and `hist()` produce plots using [matplotlib](http://matplotlib.org/). We'll go over plotting in more detail later."
     ]
    },
    {
     "cell_type": "code",
     "collapsed": false,
     "input": [
      "data.mean_temp.hist()"
     ],
     "language": "python",
     "metadata": {},
     "outputs": []
    },
    {
     "cell_type": "markdown",
     "metadata": {},
     "source": [
      "By the way, many of the column-specific methods also work on the entire DataFrame. Instead of a single number, you'll get a result for each column."
     ]
    },
    {
     "cell_type": "code",
     "collapsed": false,
     "input": [
      "data.std()"
     ],
     "language": "python",
     "metadata": {},
     "outputs": []
    },
    {
     "cell_type": "markdown",
     "metadata": {},
     "source": [
      "## Exercise 2:\n",
      "\n",
      "What is the range of temperatures in the dataset?\n",
      "\n",
      "*Hint: columns have `max()` and `min()` methods.*"
     ]
    },
    {
     "cell_type": "code",
     "collapsed": false,
     "input": [],
     "language": "python",
     "metadata": {},
     "outputs": []
    },
    {
     "cell_type": "markdown",
     "metadata": {},
     "source": [
      "## Bulk Operations with `apply()`"
     ]
    },
    {
     "cell_type": "markdown",
     "metadata": {},
     "source": [
      "Methods like `sum()` and `std()` work on entire columns. We can run our own functions across all values in a column (or row) using `apply()`.\n",
      "\n",
      "To give you an idea of how this works, let's consider the \"date\" column in our DataFrame (formally \"EDT\")."
     ]
    },
    {
     "cell_type": "code",
     "collapsed": false,
     "input": [
      "data.date.head()"
     ],
     "language": "python",
     "metadata": {},
     "outputs": []
    },
    {
     "cell_type": "markdown",
     "metadata": {},
     "source": [
      "We can use the `values` property of the column to get a list of values for the column. Inspecting the first value reveals that these are strings with a particular format."
     ]
    },
    {
     "cell_type": "code",
     "collapsed": false,
     "input": [
      "first_date = data.date.values[0]\n",
      "first_date"
     ],
     "language": "python",
     "metadata": {},
     "outputs": []
    },
    {
     "cell_type": "markdown",
     "metadata": {},
     "source": [
      "The `strptime` function from the `datetime` module will make quick work of this date string. There are many [more shortcuts available](http://docs.python.org/2/library/datetime.html#strftime-and-strptime-behavior) for `strptime`."
     ]
    },
    {
     "cell_type": "code",
     "collapsed": false,
     "input": [
      "# Import the datetime class from the datetime module\n",
      "from datetime import datetime\n",
      "\n",
      "# Convert date string to datetime object\n",
      "datetime.strptime(first_date, \"%Y-%m-%d\")"
     ],
     "language": "python",
     "metadata": {},
     "outputs": []
    },
    {
     "cell_type": "markdown",
     "metadata": {},
     "source": [
      "Using the `apply()` method, which takes a function (**without** the parentheses), we can apply `strptime` to each value in the column. We'll overwrite the string date values with their Python `datetime` equivalents."
     ]
    },
    {
     "cell_type": "code",
     "collapsed": false,
     "input": [
      "# Define a function to convert strings to dates\n",
      "def string_to_date(date_string):\n",
      "    return datetime.strptime(date_string, \"%Y-%m-%d\")\n",
      "\n",
      "# Run the function on every date string and overwrite the column\n",
      "data.date = data.date.apply(string_to_date)\n",
      "data.date.head()"
     ],
     "language": "python",
     "metadata": {},
     "outputs": []
    },
    {
     "cell_type": "markdown",
     "metadata": {},
     "source": [
      "Let's go one step futher. Each row in our DateFrame represents the weather from a single day. Each row in a DataFrame is associated with an *index*, which is a label that uniquely identifies a row.\n",
      "\n",
      "Our row indices up to now have been auto-generated by pandas, and are simply integers from 0 to 365. If we use dates instead of integers for our index, we will get some extra benefits from pandas when plotting later on. Overwriting the index is as easy as assigning to the `index` property of the DataFrame."
     ]
    },
    {
     "cell_type": "code",
     "collapsed": false,
     "input": [
      "data.index = data.date\n",
      "data"
     ],
     "language": "python",
     "metadata": {},
     "outputs": []
    },
    {
     "cell_type": "markdown",
     "metadata": {},
     "source": [
      "Now we can quickly look up a row by its date with the `ix[]` property."
     ]
    },
    {
     "cell_type": "code",
     "collapsed": false,
     "input": [
      "data.ix[datetime(2012, 8, 19)]"
     ],
     "language": "python",
     "metadata": {},
     "outputs": []
    },
    {
     "cell_type": "markdown",
     "metadata": {},
     "source": [
      "With all of the dates in the index now, we no longer need the \"date\" column. Let's drop it."
     ]
    },
    {
     "cell_type": "code",
     "collapsed": false,
     "input": [
      "data = data.drop(\"date\", axis=1)\n",
      "data.columns"
     ],
     "language": "python",
     "metadata": {},
     "outputs": []
    },
    {
     "cell_type": "markdown",
     "metadata": {},
     "source": [
      "Note that we need to pass in `axis=1` in order to drop a column. For more details, check out the documentation for `drop`."
     ]
    },
    {
     "cell_type": "markdown",
     "metadata": {},
     "source": [
      "## Exercise 3:\n",
      "\n",
      "Print out the cloud cover for each day in May.\n",
      "\n",
      "*Hint: you can make datetime objects with the `datetime(year, month, day)` function*"
     ]
    },
    {
     "cell_type": "code",
     "collapsed": false,
     "input": [
      "datetime(2012, 5, 1)  # May 1st of 2012"
     ],
     "language": "python",
     "metadata": {},
     "outputs": []
    },
    {
     "cell_type": "code",
     "collapsed": false,
     "input": [],
     "language": "python",
     "metadata": {},
     "outputs": []
    },
    {
     "cell_type": "markdown",
     "metadata": {},
     "source": [
      "## Handing Missing Values"
     ]
    },
    {
     "cell_type": "markdown",
     "metadata": {},
     "source": [
      "Pandas considers values like `NaN` and `None` to represent missing data. The `pandas.isnull` function can be used to tell whether or not a value is missing.\n",
      "\n",
      "Let's use `apply()` across all of the columns in our DataFrame to figure out which values are missing."
     ]
    },
    {
     "cell_type": "code",
     "collapsed": false,
     "input": [
      "empty = data.apply(lambda col: pandas.isnull(col))\n",
      "empty"
     ],
     "language": "python",
     "metadata": {},
     "outputs": []
    },
    {
     "cell_type": "markdown",
     "metadata": {},
     "source": [
      "We got back a dataframe (`empty`) with boolean values for all 22 columns and 366 rows. Inspecting the first 10 values of the \"events\", column we can see that there are some missing values because a `True` was returned from `pandas.isnull`."
     ]
    },
    {
     "cell_type": "code",
     "collapsed": false,
     "input": [
      "empty.events.head(10)"
     ],
     "language": "python",
     "metadata": {},
     "outputs": []
    },
    {
     "cell_type": "markdown",
     "metadata": {},
     "source": [
      "Looking at the corresponding rows in the original DataFrame reveals that pandas has filled in `NaN` for empty values in the \"events\" column."
     ]
    },
    {
     "cell_type": "code",
     "collapsed": false,
     "input": [
      "data.events.head(10)"
     ],
     "language": "python",
     "metadata": {},
     "outputs": []
    },
    {
     "cell_type": "markdown",
     "metadata": {},
     "source": [
      "This isn't exactly what we want. One option is to drop all rows in the DataFrame with missing \"events\" values."
     ]
    },
    {
     "cell_type": "code",
     "collapsed": false,
     "input": [
      "data.dropna(subset=[\"events\"])"
     ],
     "language": "python",
     "metadata": {},
     "outputs": []
    },
    {
     "cell_type": "markdown",
     "metadata": {},
     "source": [
      "The DataFrame we get back has only 162 rows, so we can infer that there were 366 - 162 = 204 missing values in the \"events\" column. Note that this didn't affect `data`; we're just looking at a copy.\n",
      "\n",
      "Instead of dropping the rows with missing values, let's fill them with empty strings (you'll see why in a moment). This is easily done with the `fillna()` function. We'll go ahead and overwrite the \"events\" column with empty string missing values instead of `NaN`."
     ]
    },
    {
     "cell_type": "code",
     "collapsed": false,
     "input": [
      "data.events = data.events.fillna(\"\")\n",
      "data.events.head(10)"
     ],
     "language": "python",
     "metadata": {},
     "outputs": []
    },
    {
     "cell_type": "markdown",
     "metadata": {},
     "source": [
      "## Accessing Individual Rows"
     ]
    },
    {
     "cell_type": "markdown",
     "metadata": {},
     "source": [
      "Sometimes you need to access individual rows in your DataFrame. The `irow()` function lets you grab the ith row from a DataFrame (starting from 0)."
     ]
    },
    {
     "cell_type": "code",
     "collapsed": false,
     "input": [
      "data.irow(0)"
     ],
     "language": "python",
     "metadata": {},
     "outputs": []
    },
    {
     "cell_type": "markdown",
     "metadata": {},
     "source": [
      "Of course, another option is to use the index."
     ]
    },
    {
     "cell_type": "code",
     "collapsed": false,
     "input": [
      "data.ix[datetime(2013, 1, 1)]"
     ],
     "language": "python",
     "metadata": {},
     "outputs": []
    },
    {
     "cell_type": "markdown",
     "metadata": {},
     "source": [
      "You can iterate over each row in the DataFrame with `iterrows()`. Note that this function returns **both** the index and the row. Also, you must access columns in the row you get back from `iterrows()` with the dictionary syntax."
     ]
    },
    {
     "cell_type": "code",
     "collapsed": false,
     "input": [
      "num_rain = 0\n",
      "for idx, row in data.iterrows():\n",
      "    if \"Rain\" in row[\"events\"]:\n",
      "        num_rain += 1\n",
      "\n",
      "\"Days with rain: {0}\".format(num_rain)"
     ],
     "language": "python",
     "metadata": {},
     "outputs": []
    },
    {
     "cell_type": "markdown",
     "metadata": {},
     "source": [
      "## Exercise 4:\n",
      "\n",
      "Was there any November rain?\n",
      "\n",
      "*Hint*: check out the `strftime()` function on `datetime` objects and the [documentation](http://docs.python.org/2/library/datetime.html#strftime-and-strptime-behavior)"
     ]
    },
    {
     "cell_type": "code",
     "collapsed": false,
     "input": [
      "d = datetime(2012, 1, 1)\n",
      "d.strftime(\"%B\")"
     ],
     "language": "python",
     "metadata": {},
     "outputs": []
    },
    {
     "cell_type": "code",
     "collapsed": false,
     "input": [],
     "language": "python",
     "metadata": {},
     "outputs": []
    },
    {
     "cell_type": "markdown",
     "metadata": {},
     "source": [
      "## Filtering"
     ]
    },
    {
     "cell_type": "markdown",
     "metadata": {},
     "source": [
      "Most of your time using pandas will likely be devoted to selecting rows of interest from a DataFrame. In addition to strings, the dictionary syntax accepts things like this:"
     ]
    },
    {
     "cell_type": "code",
     "collapsed": false,
     "input": [
      "freezing_days = data[data.max_temp <= 32]\n",
      "freezing_days"
     ],
     "language": "python",
     "metadata": {},
     "outputs": []
    },
    {
     "cell_type": "markdown",
     "metadata": {},
     "source": [
      "We get back another DataFrame with fewer rows (21 in this case). This DataFrame can be filtered down even more."
     ]
    },
    {
     "cell_type": "code",
     "collapsed": false,
     "input": [
      "freezing_days[freezing_days.min_temp >= 20]"
     ],
     "language": "python",
     "metadata": {},
     "outputs": []
    },
    {
     "cell_type": "markdown",
     "metadata": {},
     "source": [
      "Or, using boolean operations, we could apply both filters to the original DataFrame at the same time."
     ]
    },
    {
     "cell_type": "code",
     "collapsed": false,
     "input": [
      "data[(data.max_temp <= 32) & (data.min_temp >= 20)]"
     ],
     "language": "python",
     "metadata": {},
     "outputs": []
    },
    {
     "cell_type": "markdown",
     "metadata": {},
     "source": [
      "It's important to understand what's really going on underneath with filtering. Let's look at what kind of object we actually get back when creating a filter."
     ]
    },
    {
     "cell_type": "code",
     "collapsed": false,
     "input": [
      "temp_max = data.max_temp <= 32\n",
      "type(temp_max)"
     ],
     "language": "python",
     "metadata": {},
     "outputs": []
    },
    {
     "cell_type": "markdown",
     "metadata": {},
     "source": [
      "This is a pandas `Series` object, which is the one-dimensional equivalent of a DataFrame. Because our DataFrame uses datetime objects for the index, we have a specialized `TimeSeries` object.\n",
      "\n",
      "What's inside the filter?"
     ]
    },
    {
     "cell_type": "code",
     "collapsed": false,
     "input": [
      "temp_max"
     ],
     "language": "python",
     "metadata": {},
     "outputs": []
    },
    {
     "cell_type": "markdown",
     "metadata": {},
     "source": [
      "Our filter is nothing more than a `Series` with a *boolean value for every item in the index*. When we \"run the filter\" as so:"
     ]
    },
    {
     "cell_type": "code",
     "collapsed": false,
     "input": [
      "data[temp_max]"
     ],
     "language": "python",
     "metadata": {},
     "outputs": []
    },
    {
     "cell_type": "markdown",
     "metadata": {},
     "source": [
      "pandas lines up the rows of the DataFrame and the filter using the index, and then keeps the rows with a `True` filter value. That's it.\n",
      "\n",
      "Let's create another filter."
     ]
    },
    {
     "cell_type": "code",
     "collapsed": false,
     "input": [
      "temp_min = data.min_temp >= 20\n",
      "temp_min"
     ],
     "language": "python",
     "metadata": {},
     "outputs": []
    },
    {
     "cell_type": "markdown",
     "metadata": {},
     "source": [
      "Now we can see what the boolean operations are doing. Something like `&` (**not** `and`)..."
     ]
    },
    {
     "cell_type": "code",
     "collapsed": false,
     "input": [
      "temp_min & temp_max"
     ],
     "language": "python",
     "metadata": {},
     "outputs": []
    },
    {
     "cell_type": "markdown",
     "metadata": {},
     "source": [
      "...is just lining up the two filters using the index, performing a boolean AND operation, and returning the result as another `Series`.\n",
      "\n",
      "We can do other boolean operations too, like OR:"
     ]
    },
    {
     "cell_type": "code",
     "collapsed": false,
     "input": [
      "temp_min | temp_max"
     ],
     "language": "python",
     "metadata": {},
     "outputs": []
    },
    {
     "cell_type": "markdown",
     "metadata": {},
     "source": [
      "Because the result is just another `Series`, we have all of the regular pandas functions at our disposal. The `any()` function returns `True` if any value in the `Series` is `True`."
     ]
    },
    {
     "cell_type": "code",
     "collapsed": false,
     "input": [
      "temp_both = temp_min & temp_max\n",
      "temp_both.any()"
     ],
     "language": "python",
     "metadata": {},
     "outputs": []
    },
    {
     "cell_type": "markdown",
     "metadata": {},
     "source": [
      "Sometimes filters aren't so intuitive. This (sadly) doesn't work:"
     ]
    },
    {
     "cell_type": "code",
     "collapsed": true,
     "input": [
      "try:\n",
      "    data[\"Rain\" in data.events]\n",
      "except:\n",
      "    pass # \"KeyError: no item named False\""
     ],
     "language": "python",
     "metadata": {},
     "outputs": []
    },
    {
     "cell_type": "markdown",
     "metadata": {},
     "source": [
      "We can wrap it up in an `apply()` call fairly easily, though:"
     ]
    },
    {
     "cell_type": "code",
     "collapsed": false,
     "input": [
      "data[data.events.apply(lambda e: \"Rain\" in e)]"
     ],
     "language": "python",
     "metadata": {},
     "outputs": []
    },
    {
     "cell_type": "markdown",
     "metadata": {},
     "source": [
      "## Exercise 5:\n",
      "\n",
      "Before starting the exercise, let's convert the precipitation column in the dataset to floating point numbers. It's currently full of strings because of the \"T\" value, which stands for \"trace amount of precipitation.\""
     ]
    },
    {
     "cell_type": "code",
     "collapsed": false,
     "input": [
      "data.precipitation.head()"
     ],
     "language": "python",
     "metadata": {},
     "outputs": []
    },
    {
     "cell_type": "markdown",
     "metadata": {},
     "source": [
      "We'll replace \"T\" with a very small number, and convert the rest of the strings to floats:"
     ]
    },
    {
     "cell_type": "code",
     "collapsed": false,
     "input": [
      "# Convert precipitation to floating point number\n",
      "# \"T\" means \"trace of precipitation\"\n",
      "def precipitation_to_float(precip_str):\n",
      "    if precip_str == \"T\":\n",
      "        return 1e-10  # Very small value\n",
      "    return float(precip_str)\n",
      "\n",
      "data.precipitation = data.precipitation.apply(precipitation_to_float)\n",
      "data.precipitation.head()"
     ],
     "language": "python",
     "metadata": {},
     "outputs": []
    },
    {
     "cell_type": "markdown",
     "metadata": {},
     "source": [
      "Now on to the exercise.\n",
      "\n",
      "What was the coldest it ever got when there was no cloud cover and no precipitation?"
     ]
    },
    {
     "cell_type": "code",
     "collapsed": false,
     "input": [],
     "language": "python",
     "metadata": {},
     "outputs": []
    },
    {
     "cell_type": "markdown",
     "metadata": {},
     "source": [
      "## Grouping"
     ]
    },
    {
     "cell_type": "markdown",
     "metadata": {},
     "source": [
      "Besides `apply()`, another great DataFrame function is `groupby()`.\n",
      "It will group a DataFrame by one or more columns, and let you iterate through each group.\n",
      "\n",
      "As an example, let's group our DataFrame by the \"cloud_cover\" column (a value ranging from 0 to 8)."
     ]
    },
    {
     "cell_type": "code",
     "collapsed": false,
     "input": [
      "cover_temps = {}\n",
      "for cover, cover_data in data.groupby(\"cloud_cover\"):\n",
      "    cover_temps[cover] = cover_data.mean_temp.mean()  # The mean mean temp!\n",
      "cover_temps"
     ],
     "language": "python",
     "metadata": {},
     "outputs": []
    },
    {
     "cell_type": "markdown",
     "metadata": {},
     "source": [
      "When you iterate through the result of `groupby()`, you will get a tuple.\n",
      "The first item is the column value, and the second item is a filtered DataFrame (where the column equals the first tuple value).\n",
      "\n",
      "You can group by more than one column as well.\n",
      "In this case, the first tuple item returned by `groupby()` will itself be a tuple with the value of each column."
     ]
    },
    {
     "cell_type": "code",
     "collapsed": false,
     "input": [
      "for (cover, events), group_data in data.groupby([\"cloud_cover\", \"events\"]):\n",
      "    print \"Cover: {0}, Events: {1}, Count: {2}\".format(cover, events, len(group_data))"
     ],
     "language": "python",
     "metadata": {},
     "outputs": []
    },
    {
     "cell_type": "markdown",
     "metadata": {},
     "source": [
      "## Creating New Columns"
     ]
    },
    {
     "cell_type": "markdown",
     "metadata": {},
     "source": [
      "Weather events in our DataFrame are stored in strings like \"Rain-Thunderstorm\" to represent that it rained and there was a thunderstorm that day. Let's split them out into boolean \"rain\", \"thunderstorm\", etc. columns.\n",
      "\n",
      "First, let's discover the different kinds of weather events we have with `unique()`."
     ]
    },
    {
     "cell_type": "code",
     "collapsed": false,
     "input": [
      "data.events.unique()"
     ],
     "language": "python",
     "metadata": {},
     "outputs": []
    },
    {
     "cell_type": "markdown",
     "metadata": {},
     "source": [
      "Looks like we have \"Rain\", \"Thunderstorm\", \"Fog\", and \"Snow\" events. Creating a new column for each of these event kinds is a piece of cake with the dictionary syntax."
     ]
    },
    {
     "cell_type": "code",
     "collapsed": false,
     "input": [
      "for event_kind in [\"Rain\", \"Thunderstorm\", \"Fog\", \"Snow\"]:\n",
      "    col_name = event_kind.lower()  # Turn \"Rain\" into \"rain\", etc.\n",
      "    data[col_name] = data.events.apply(lambda e: event_kind in e)\n",
      "data"
     ],
     "language": "python",
     "metadata": {},
     "outputs": []
    },
    {
     "cell_type": "markdown",
     "metadata": {},
     "source": [
      "Our new columns show up at the bottom. We can access them now with the dot syntax."
     ]
    },
    {
     "cell_type": "code",
     "collapsed": false,
     "input": [
      "data.rain"
     ],
     "language": "python",
     "metadata": {},
     "outputs": []
    },
    {
     "cell_type": "markdown",
     "metadata": {},
     "source": [
      "We can also do cool things like find out how many `True` values there are (i.e., how many days had rain)..."
     ]
    },
    {
     "cell_type": "code",
     "collapsed": false,
     "input": [
      "data.rain.sum()"
     ],
     "language": "python",
     "metadata": {},
     "outputs": []
    },
    {
     "cell_type": "markdown",
     "metadata": {},
     "source": [
      "...and get all the days that had both rain and snow!"
     ]
    },
    {
     "cell_type": "code",
     "collapsed": false,
     "input": [
      "data[data.rain & data.snow]"
     ],
     "language": "python",
     "metadata": {},
     "outputs": []
    },
    {
     "cell_type": "markdown",
     "metadata": {},
     "source": [
      "## Exercise 6:\n",
      "\n",
      "Was the mean temperature more variable on days with rain and snow than on days with just rain or just snow?\n",
      "\n",
      "*Hint: don't forget the `std()` function*"
     ]
    },
    {
     "cell_type": "code",
     "collapsed": false,
     "input": [],
     "language": "python",
     "metadata": {},
     "outputs": []
    },
    {
     "cell_type": "markdown",
     "metadata": {},
     "source": [
      "## Plotting"
     ]
    },
    {
     "cell_type": "markdown",
     "metadata": {},
     "source": [
      "We've already seen how the `hist()` function makes generating histograms a snap. Let's look at the `plot()` function now."
     ]
    },
    {
     "cell_type": "code",
     "collapsed": false,
     "input": [
      "data.max_temp.plot()"
     ],
     "language": "python",
     "metadata": {},
     "outputs": []
    },
    {
     "cell_type": "markdown",
     "metadata": {},
     "source": [
      "That one line of code did a **lot** for us. First, it created a nice looking line plot using the maximum temperature column from our DataFrame. Second, because we used `datetime` objects in our index, pandas labeled the x-axis appropriately.\n",
      "\n",
      "Pandas is smart too. If we're only looking at a couple of days, the x-axis looks different:"
     ]
    },
    {
     "cell_type": "code",
     "collapsed": false,
     "input": [
      "data.max_temp.tail().plot()"
     ],
     "language": "python",
     "metadata": {},
     "outputs": []
    },
    {
     "cell_type": "markdown",
     "metadata": {},
     "source": [
      "Prefer a bar plot? Pandas has got your covered."
     ]
    },
    {
     "cell_type": "code",
     "collapsed": false,
     "input": [
      "data.max_temp.tail().plot(kind=\"bar\", rot=10)"
     ],
     "language": "python",
     "metadata": {},
     "outputs": []
    },
    {
     "cell_type": "markdown",
     "metadata": {},
     "source": [
      "The `plot()` function returns a matplotlib `AxesSubPlot` object. You can pass this object into subsequent calls to `plot()` in order to compose plots.\n",
      "\n",
      "Although `plot()` takes a variety of parameters to customize your plot, users familiar with matplotlib will feel right at home with the `AxesSubPlot` object."
     ]
    },
    {
     "cell_type": "code",
     "collapsed": false,
     "input": [
      "ax = data.max_temp.plot(title=\"Min and Max Temperatures\")\n",
      "data.min_temp.plot(style=\"red\", ax=ax)\n",
      "ax.set_ylabel(\"Temperature (F)\")"
     ],
     "language": "python",
     "metadata": {},
     "outputs": []
    },
    {
     "cell_type": "markdown",
     "metadata": {},
     "source": [
      "## Exercise 7:\n",
      "\n",
      "Add the mean temperature to the previous plot using a green line. Also, add a legend with the `legend()` method of `ax`."
     ]
    },
    {
     "cell_type": "markdown",
     "metadata": {},
     "source": [
      "## Getting Data Out"
     ]
    },
    {
     "cell_type": "markdown",
     "metadata": {},
     "source": [
      "Writing data out in pandas is as easy as getting data in. To save our DataFrame out to a new csv file, we can just do this:"
     ]
    },
    {
     "cell_type": "code",
     "collapsed": true,
     "input": [
      "data.to_csv(\"data/weather-mod.csv\")"
     ],
     "language": "python",
     "metadata": {},
     "outputs": []
    },
    {
     "cell_type": "markdown",
     "metadata": {},
     "source": [
      "Want to make that tab separated instead? No problem."
     ]
    },
    {
     "cell_type": "code",
     "collapsed": true,
     "input": [
      "data.to_csv(\"data/weather-mod.tsv\", sep=\"\\t\")"
     ],
     "language": "python",
     "metadata": {},
     "outputs": []
    },
    {
     "cell_type": "markdown",
     "metadata": {},
     "source": [
      "There's also support for [reading and writing Excel files](http://pandas.pydata.org/pandas-docs/stable/io.html#excel-files), if you need it."
     ]
    },
    {
     "cell_type": "markdown",
     "metadata": {},
     "source": [
      "## Miscellanea"
     ]
    },
    {
     "cell_type": "markdown",
     "metadata": {},
     "source": [
      "We've only covered a small fraction of the pandas library here.\n",
      "Before I wrap up, however, there are a few miscellaneous tips I'd like to go over.\n",
      "\n",
      "First, it can be confusing to know when an operation will modify a DataFrame and when it will return a copy to you.\n",
      "Pandas behavior here is entirely dictated by NumPy, and some situations are unintuitive.\n",
      "\n",
      "For example, what do you think will happen here?"
     ]
    },
    {
     "cell_type": "code",
     "collapsed": false,
     "input": [
      "for idx, row in data.iterrows():\n",
      "    row[\"max_temp\"] = 0\n",
      "data.max_temp.head()"
     ],
     "language": "python",
     "metadata": {},
     "outputs": []
    },
    {
     "cell_type": "markdown",
     "metadata": {},
     "source": [
      "Contrary to what you might expect, modifying `row` did **not** modify `data`!\n",
      "This is because `row` is a copy, and does not point back to the original DataFrame.\n",
      "\n",
      "Here's the right way to do it:"
     ]
    },
    {
     "cell_type": "code",
     "collapsed": false,
     "input": [
      "for idx, row in data.iterrows():\n",
      "    data.ix[idx, \"max_temp\"] = 0\n",
      "any(data.max_temp != 0)  # Any rows with max_temp not equal to zero?"
     ],
     "language": "python",
     "metadata": {},
     "outputs": []
    },
    {
     "cell_type": "markdown",
     "metadata": {},
     "source": [
      "Just to make you even more confused, this also **doesn't** work:"
     ]
    },
    {
     "cell_type": "code",
     "collapsed": false,
     "input": [
      "for idx, row in data.iterrows():\n",
      "    data.ix[idx][\"max_temp\"] = 100\n",
      "data.max_temp.head()"
     ],
     "language": "python",
     "metadata": {},
     "outputs": []
    },
    {
     "cell_type": "markdown",
     "metadata": {},
     "source": [
      "When using `apply()`, the default behavior is to go over columns."
     ]
    },
    {
     "cell_type": "code",
     "collapsed": false,
     "input": [
      "data.apply(lambda c: c.name)"
     ],
     "language": "python",
     "metadata": {},
     "outputs": []
    },
    {
     "cell_type": "markdown",
     "metadata": {},
     "source": [
      "You can make `apply()` go over rows by passing `axis=1`"
     ]
    },
    {
     "cell_type": "code",
     "collapsed": false,
     "input": [
      "data.apply(lambda r: r[\"max_pressure\"] - r[\"min_pressure\"], axis=1)"
     ],
     "language": "python",
     "metadata": {},
     "outputs": []
    },
    {
     "cell_type": "markdown",
     "metadata": {},
     "source": [
      "When you call `drop()`, though, it's flipped. To drop a column, you need to pass `axis=1`"
     ]
    },
    {
     "cell_type": "code",
     "collapsed": false,
     "input": [
      "data.drop(\"events\", axis=1).columns"
     ],
     "language": "python",
     "metadata": {},
     "outputs": []
    }
   ],
   "metadata": {}
  }
 ]
}