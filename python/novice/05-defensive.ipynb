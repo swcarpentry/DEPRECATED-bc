{
 "metadata": {
  "name": ""
 },
 "nbformat": 3,
 "nbformat_minor": 0,
 "worksheets": [
  {
   "cells": [
    {
     "cell_type": "heading",
     "level": 1,
     "metadata": {},
     "source": [
      "Defensive Programming"
     ]
    },
    {
     "cell_type": "markdown",
     "metadata": {},
     "source": [
      "Our previous lessons have introduced the basic tools of programming:\n",
      "variables and lists,\n",
      "file I/O,\n",
      "loops,\n",
      "conditionals,\n",
      "and most importantly,\n",
      "functions.\n",
      "What they haven't done is show us how to tell if a program is getting the right answer.\n",
      "If (for example) each line we write has a 99% chance of being right,\n",
      "then a 70-line program will be wrong more than half the time.\n",
      "We need to do better than that,\n",
      "which means we need to:\n",
      "\n",
      "* write programs that check their own operation,\n",
      "* write and run tests for widely-used functions, and\n",
      "* make sure we know what \"correct\" actually means.\n",
      "\n",
      "Along the way,\n",
      "we will learn:\n",
      "\n",
      "* what an assertion is, and\n",
      "* how to use a unit testing library."
     ]
    },
    {
     "cell_type": "heading",
     "level": 2,
     "metadata": {},
     "source": [
      "Assertions"
     ]
    },
    {
     "cell_type": "markdown",
     "metadata": {},
     "source": [
      "The first step toward getting the right answers from our programs\n",
      "is to assume that mistakes *will* happen\n",
      "and to guard against them.\n",
      "This is called [defensive programming](../../gloss.html#defensive-programming),\n",
      "and the most common way to do it is to add [assertions](../../gloss.html#assertion) to our code\n",
      "so that it checks itself as it runs.\n",
      "An assertion is simply a statement that something must be true at a certain point in a program.\n",
      "When Python sees one,\n",
      "it checks that the assertion's condition.\n",
      "If it's true,\n",
      "Python does nothing,\n",
      "but if it's false,\n",
      "Python halts the program immediately\n",
      "and prints the error message provided.\n",
      "For example,\n",
      "this piece of code halts as soon as the loop encounters a value that isn't positive:"
     ]
    },
    {
     "cell_type": "code",
     "collapsed": false,
     "input": [
      "numbers = [1.5, 2.3, 0.7, -0.001, 4.4]\n",
      "total = 0.0\n",
      "for n in numbers:\n",
      "    assert n >= 0.0, 'Data should only contain positive values'\n",
      "    total += n\n",
      "print 'total is:', total"
     ],
     "language": "python",
     "metadata": {},
     "outputs": [
      {
       "ename": "AssertionError",
       "evalue": "Data should only contain positive values",
       "output_type": "pyerr",
       "traceback": [
        "\u001b[0;31m---------------------------------------------------------------------------\u001b[0m\n\u001b[0;31mAssertionError\u001b[0m                            Traceback (most recent call last)",
        "\u001b[0;32m<ipython-input-2-33d87ea29ae4>\u001b[0m in \u001b[0;36m<module>\u001b[0;34m()\u001b[0m\n\u001b[1;32m      2\u001b[0m \u001b[0mtotal\u001b[0m \u001b[0;34m=\u001b[0m \u001b[0;36m0.0\u001b[0m\u001b[0;34m\u001b[0m\u001b[0m\n\u001b[1;32m      3\u001b[0m \u001b[0;32mfor\u001b[0m \u001b[0mn\u001b[0m \u001b[0;32min\u001b[0m \u001b[0mnumbers\u001b[0m\u001b[0;34m:\u001b[0m\u001b[0;34m\u001b[0m\u001b[0m\n\u001b[0;32m----> 4\u001b[0;31m     \u001b[0;32massert\u001b[0m \u001b[0mn\u001b[0m \u001b[0;34m>=\u001b[0m \u001b[0;36m0.0\u001b[0m\u001b[0;34m,\u001b[0m \u001b[0;34m'Data should only contain positive values'\u001b[0m\u001b[0;34m\u001b[0m\u001b[0m\n\u001b[0m\u001b[1;32m      5\u001b[0m     \u001b[0mtotal\u001b[0m \u001b[0;34m+=\u001b[0m \u001b[0mn\u001b[0m\u001b[0;34m\u001b[0m\u001b[0m\n\u001b[1;32m      6\u001b[0m \u001b[0;32mprint\u001b[0m \u001b[0;34m'total is:'\u001b[0m\u001b[0;34m,\u001b[0m \u001b[0mtotal\u001b[0m\u001b[0;34m\u001b[0m\u001b[0m\n",
        "\u001b[0;31mAssertionError\u001b[0m: Data should only contain positive values"
       ]
      }
     ],
     "prompt_number": 2
    },
    {
     "cell_type": "markdown",
     "metadata": {},
     "source": [
      "Programs like the Firefox browser are full of assertions:\n",
      "10-20% of the code they contain\n",
      "are there to check that the other 80-90% are working correctly.\n",
      "Broadly speaking,\n",
      "assertions fall into three categories:\n",
      "\n",
      "-   A [precondition](../../gloss.html#precondition) is something that must be true\n",
      "    at the start of a function in order for it to work correctly.\n",
      "-   A [postcondition](../../gloss.html#postcondition) is something that\n",
      "    the function guarantees is true when it finishes.\n",
      "-   An [invariant](../../gloss.html#invariant) is something that is always true\n",
      "    at a particular point inside a piece of code.\n",
      "\n",
      "For example,\n",
      "suppose we are representing rectangles using a tuple of four coordinates `(x0, y0, x1, y1)`.\n",
      "In order to do some calculations,\n",
      "we need to normalize the rectangle so that it is at the origin\n",
      "and 1.0 units long on its longest axis.\n",
      "This function does that,\n",
      "but checks that its input is correctly formatted and that its result makes sense:"
     ]
    },
    {
     "cell_type": "code",
     "collapsed": false,
     "input": [
      "def normalize_rectangle(rect):\n",
      "    assert len(rect) == 4, 'Rectangles must contain 4 coordinates'\n",
      "    x0, y0, x1, y1 = rect\n",
      "    assert x0 < x1, 'Invalid X coordinates'\n",
      "    assert y0 < y1, 'Invalid Y coordinates'\n",
      "\n",
      "    dx = x1 - x0\n",
      "    dy = y1 - y0\n",
      "    if dx > dy:\n",
      "        scaled = float(dx) / dy\n",
      "        upper_x, upper_y = 1.0, scaled\n",
      "    else:\n",
      "        scaled = float(dx) / dy\n",
      "        upper_x, upper_y = scaled, 1.0\n",
      "\n",
      "    assert 0 < upper_x <= 1.0, 'Calculated upper X coordinate invalid'\n",
      "    assert 0 < upper_y <= 1.0, 'Calculated upper Y coordinate invalid'\n",
      "\n",
      "    return (0, 0, upper_x, upper_y)"
     ],
     "language": "python",
     "metadata": {},
     "outputs": [],
     "prompt_number": 3
    },
    {
     "cell_type": "markdown",
     "metadata": {},
     "source": [
      "The preconditions on lines 2, 4, and 5 catch invalid inputs:"
     ]
    },
    {
     "cell_type": "code",
     "collapsed": false,
     "input": [
      "print normalize_rectangle( (0.0, 1.0, 2.0) ) # missing the fourth coordinate"
     ],
     "language": "python",
     "metadata": {},
     "outputs": [
      {
       "ename": "AssertionError",
       "evalue": "Rectangles must contain 4 coordinates",
       "output_type": "pyerr",
       "traceback": [
        "\u001b[0;31m---------------------------------------------------------------------------\u001b[0m\n\u001b[0;31mAssertionError\u001b[0m                            Traceback (most recent call last)",
        "\u001b[0;32m<ipython-input-4-3a97b1dcab70>\u001b[0m in \u001b[0;36m<module>\u001b[0;34m()\u001b[0m\n\u001b[0;32m----> 1\u001b[0;31m \u001b[0;32mprint\u001b[0m \u001b[0mnormalize_rectangle\u001b[0m\u001b[0;34m(\u001b[0m \u001b[0;34m(\u001b[0m\u001b[0;36m0.0\u001b[0m\u001b[0;34m,\u001b[0m \u001b[0;36m1.0\u001b[0m\u001b[0;34m,\u001b[0m \u001b[0;36m2.0\u001b[0m\u001b[0;34m)\u001b[0m \u001b[0;34m)\u001b[0m \u001b[0;31m# missing the fourth coordinate\u001b[0m\u001b[0;34m\u001b[0m\u001b[0m\n\u001b[0m",
        "\u001b[0;32m<ipython-input-3-fdb49ef456c2>\u001b[0m in \u001b[0;36mnormalize_rectangle\u001b[0;34m(rect)\u001b[0m\n\u001b[1;32m      1\u001b[0m \u001b[0;32mdef\u001b[0m \u001b[0mnormalize_rectangle\u001b[0m\u001b[0;34m(\u001b[0m\u001b[0mrect\u001b[0m\u001b[0;34m)\u001b[0m\u001b[0;34m:\u001b[0m\u001b[0;34m\u001b[0m\u001b[0m\n\u001b[0;32m----> 2\u001b[0;31m     \u001b[0;32massert\u001b[0m \u001b[0mlen\u001b[0m\u001b[0;34m(\u001b[0m\u001b[0mrect\u001b[0m\u001b[0;34m)\u001b[0m \u001b[0;34m==\u001b[0m \u001b[0;36m4\u001b[0m\u001b[0;34m,\u001b[0m \u001b[0;34m'Rectangles must contain 4 coordinates'\u001b[0m\u001b[0;34m\u001b[0m\u001b[0m\n\u001b[0m\u001b[1;32m      3\u001b[0m     \u001b[0mx0\u001b[0m\u001b[0;34m,\u001b[0m \u001b[0my0\u001b[0m\u001b[0;34m,\u001b[0m \u001b[0mx1\u001b[0m\u001b[0;34m,\u001b[0m \u001b[0my1\u001b[0m \u001b[0;34m=\u001b[0m \u001b[0mrect\u001b[0m\u001b[0;34m\u001b[0m\u001b[0m\n\u001b[1;32m      4\u001b[0m     \u001b[0;32massert\u001b[0m \u001b[0mx0\u001b[0m \u001b[0;34m<\u001b[0m \u001b[0mx1\u001b[0m\u001b[0;34m,\u001b[0m \u001b[0;34m'Invalid X coordinates'\u001b[0m\u001b[0;34m\u001b[0m\u001b[0m\n\u001b[1;32m      5\u001b[0m     \u001b[0;32massert\u001b[0m \u001b[0my0\u001b[0m \u001b[0;34m<\u001b[0m \u001b[0my1\u001b[0m\u001b[0;34m,\u001b[0m \u001b[0;34m'Invalid Y coordinates'\u001b[0m\u001b[0;34m\u001b[0m\u001b[0m\n",
        "\u001b[0;31mAssertionError\u001b[0m: Rectangles must contain 4 coordinates"
       ]
      }
     ],
     "prompt_number": 4
    },
    {
     "cell_type": "code",
     "collapsed": false,
     "input": [
      "print normalize_rectangle( (4.0, 2.0, 1.0, 5.0) ) # X axis inverted"
     ],
     "language": "python",
     "metadata": {},
     "outputs": [
      {
       "ename": "AssertionError",
       "evalue": "Invalid X coordinates",
       "output_type": "pyerr",
       "traceback": [
        "\u001b[0;31m---------------------------------------------------------------------------\u001b[0m\n\u001b[0;31mAssertionError\u001b[0m                            Traceback (most recent call last)",
        "\u001b[0;32m<ipython-input-5-f05ae7878a45>\u001b[0m in \u001b[0;36m<module>\u001b[0;34m()\u001b[0m\n\u001b[0;32m----> 1\u001b[0;31m \u001b[0;32mprint\u001b[0m \u001b[0mnormalize_rectangle\u001b[0m\u001b[0;34m(\u001b[0m \u001b[0;34m(\u001b[0m\u001b[0;36m4.0\u001b[0m\u001b[0;34m,\u001b[0m \u001b[0;36m2.0\u001b[0m\u001b[0;34m,\u001b[0m \u001b[0;36m1.0\u001b[0m\u001b[0;34m,\u001b[0m \u001b[0;36m5.0\u001b[0m\u001b[0;34m)\u001b[0m \u001b[0;34m)\u001b[0m \u001b[0;31m# X axis inverted\u001b[0m\u001b[0;34m\u001b[0m\u001b[0m\n\u001b[0m",
        "\u001b[0;32m<ipython-input-3-fdb49ef456c2>\u001b[0m in \u001b[0;36mnormalize_rectangle\u001b[0;34m(rect)\u001b[0m\n\u001b[1;32m      2\u001b[0m     \u001b[0;32massert\u001b[0m \u001b[0mlen\u001b[0m\u001b[0;34m(\u001b[0m\u001b[0mrect\u001b[0m\u001b[0;34m)\u001b[0m \u001b[0;34m==\u001b[0m \u001b[0;36m4\u001b[0m\u001b[0;34m,\u001b[0m \u001b[0;34m'Rectangles must contain 4 coordinates'\u001b[0m\u001b[0;34m\u001b[0m\u001b[0m\n\u001b[1;32m      3\u001b[0m     \u001b[0mx0\u001b[0m\u001b[0;34m,\u001b[0m \u001b[0my0\u001b[0m\u001b[0;34m,\u001b[0m \u001b[0mx1\u001b[0m\u001b[0;34m,\u001b[0m \u001b[0my1\u001b[0m \u001b[0;34m=\u001b[0m \u001b[0mrect\u001b[0m\u001b[0;34m\u001b[0m\u001b[0m\n\u001b[0;32m----> 4\u001b[0;31m     \u001b[0;32massert\u001b[0m \u001b[0mx0\u001b[0m \u001b[0;34m<\u001b[0m \u001b[0mx1\u001b[0m\u001b[0;34m,\u001b[0m \u001b[0;34m'Invalid X coordinates'\u001b[0m\u001b[0;34m\u001b[0m\u001b[0m\n\u001b[0m\u001b[1;32m      5\u001b[0m     \u001b[0;32massert\u001b[0m \u001b[0my0\u001b[0m \u001b[0;34m<\u001b[0m \u001b[0my1\u001b[0m\u001b[0;34m,\u001b[0m \u001b[0;34m'Invalid Y coordinates'\u001b[0m\u001b[0;34m\u001b[0m\u001b[0m\n\u001b[1;32m      6\u001b[0m \u001b[0;34m\u001b[0m\u001b[0m\n",
        "\u001b[0;31mAssertionError\u001b[0m: Invalid X coordinates"
       ]
      }
     ],
     "prompt_number": 5
    },
    {
     "cell_type": "markdown",
     "metadata": {},
     "source": [
      "The post-conditions help us catch bugs by telling us when our calculations cannot have been correct.\n",
      "For example,\n",
      "if we normalize a rectangle that is taller than it is wide everything seems OK:"
     ]
    },
    {
     "cell_type": "code",
     "collapsed": false,
     "input": [
      "print normalize_rectangle( (0.0, 0.0, 1.0, 5.0) )"
     ],
     "language": "python",
     "metadata": {},
     "outputs": [
      {
       "output_type": "stream",
       "stream": "stdout",
       "text": [
        "(0, 0, 0.2, 1.0)\n"
       ]
      }
     ],
     "prompt_number": 6
    },
    {
     "cell_type": "markdown",
     "metadata": {},
     "source": [
      "but if we normalize one that's wider than it is tall,\n",
      "the assertion is triggered:"
     ]
    },
    {
     "cell_type": "code",
     "collapsed": false,
     "input": [
      "print normalize_rectangle( (0.0, 0.0, 5.0, 1.0) )"
     ],
     "language": "python",
     "metadata": {},
     "outputs": [
      {
       "ename": "AssertionError",
       "evalue": "Calculated upper Y coordinate invalid",
       "output_type": "pyerr",
       "traceback": [
        "\u001b[0;31m---------------------------------------------------------------------------\u001b[0m\n\u001b[0;31mAssertionError\u001b[0m                            Traceback (most recent call last)",
        "\u001b[0;32m<ipython-input-7-5f0ef7954aeb>\u001b[0m in \u001b[0;36m<module>\u001b[0;34m()\u001b[0m\n\u001b[0;32m----> 1\u001b[0;31m \u001b[0;32mprint\u001b[0m \u001b[0mnormalize_rectangle\u001b[0m\u001b[0;34m(\u001b[0m \u001b[0;34m(\u001b[0m\u001b[0;36m0.0\u001b[0m\u001b[0;34m,\u001b[0m \u001b[0;36m0.0\u001b[0m\u001b[0;34m,\u001b[0m \u001b[0;36m5.0\u001b[0m\u001b[0;34m,\u001b[0m \u001b[0;36m1.0\u001b[0m\u001b[0;34m)\u001b[0m \u001b[0;34m)\u001b[0m\u001b[0;34m\u001b[0m\u001b[0m\n\u001b[0m",
        "\u001b[0;32m<ipython-input-3-fdb49ef456c2>\u001b[0m in \u001b[0;36mnormalize_rectangle\u001b[0;34m(rect)\u001b[0m\n\u001b[1;32m     15\u001b[0m \u001b[0;34m\u001b[0m\u001b[0m\n\u001b[1;32m     16\u001b[0m     \u001b[0;32massert\u001b[0m \u001b[0;36m0\u001b[0m \u001b[0;34m<\u001b[0m \u001b[0mupper_x\u001b[0m \u001b[0;34m<=\u001b[0m \u001b[0;36m1.0\u001b[0m\u001b[0;34m,\u001b[0m \u001b[0;34m'Calculated upper X coordinate invalid'\u001b[0m\u001b[0;34m\u001b[0m\u001b[0m\n\u001b[0;32m---> 17\u001b[0;31m     \u001b[0;32massert\u001b[0m \u001b[0;36m0\u001b[0m \u001b[0;34m<\u001b[0m \u001b[0mupper_y\u001b[0m \u001b[0;34m<=\u001b[0m \u001b[0;36m1.0\u001b[0m\u001b[0;34m,\u001b[0m \u001b[0;34m'Calculated upper Y coordinate invalid'\u001b[0m\u001b[0;34m\u001b[0m\u001b[0m\n\u001b[0m\u001b[1;32m     18\u001b[0m \u001b[0;34m\u001b[0m\u001b[0m\n\u001b[1;32m     19\u001b[0m     \u001b[0;32mreturn\u001b[0m \u001b[0;34m(\u001b[0m\u001b[0;36m0\u001b[0m\u001b[0;34m,\u001b[0m \u001b[0;36m0\u001b[0m\u001b[0;34m,\u001b[0m \u001b[0mupper_x\u001b[0m\u001b[0;34m,\u001b[0m \u001b[0mupper_y\u001b[0m\u001b[0;34m)\u001b[0m\u001b[0;34m\u001b[0m\u001b[0m\n",
        "\u001b[0;31mAssertionError\u001b[0m: Calculated upper Y coordinate invalid"
       ]
      }
     ],
     "prompt_number": 7
    },
    {
     "cell_type": "markdown",
     "metadata": {},
     "source": [
      "Re-reading our function,\n",
      "we realize that line 10 should divide `dy` by `dx` rather than `dx` by `dy`.\n",
      "(You can display line numbers by typing Ctrl-M, then L.)\n",
      "If we had left out the assertion at the end of the function,\n",
      "we would have created and returned something that had the right shape as a valid answer,\n",
      "but wasn't.\n",
      "Detecting and debugging that would almost certainly have taken more time in the long run\n",
      "than writing the assertion.\n",
      "\n",
      "But assertions aren't just about catching errors:\n",
      "they also help people understand programs.\n",
      "Each assertion gives the person reading the program\n",
      "a chance to check (consciously or otherwise)\n",
      "that their understanding matches what the code is doing.\n",
      "\n",
      "Most good programmers follow two rules when adding assertions to their code.\n",
      "The first is, \"[fail early, fail often](../rules.html#fail-early-fail-often)\".\n",
      "The greater the distance between when and where an error occurs and when it's noticed,\n",
      "the harder the error will be to debug,\n",
      "so good code catches mistakes as early as possible.\n",
      "\n",
      "The second rule is, \"[bugs become assertions](../rules.html#bugs-become-assertions)\" (or tests).\n",
      "If you made a mistake in a piece of code,\n",
      "the odds are good that you have made other mistakes nearby,\n",
      "or will make the same mistake (or a related one)\n",
      "the next time you change it.\n",
      "Writing assertions to check that you haven't [regressed](../../gloss.html#regression)\n",
      "(i.e., haven't re-introduced an old problem)\n",
      "can save a lot of time in the long run,\n",
      "and helps to warn people who are reading the code\n",
      "(including your future self)\n",
      "that this bit is tricky."
     ]
    },
    {
     "cell_type": "markdown",
     "metadata": {},
     "source": [
      "### Challenges\n",
      "\n",
      "1.  Suppose you are writing a function called `average` that calculates the average of the numbers in a list.\n",
      "    What pre-conditions and post-conditions would you write for it?\n",
      "    Compare your answer to your neighbor's:\n",
      "    can you think of a function that will past your tests but not hers or vice versa?\n",
      "\n",
      "2.  Explain in words what the assertions in this code check,\n",
      "    and for each one,\n",
      "    give an example of input that will make that assertion fail.\n",
      "    \n",
      "    ```\n",
      "    def running(values):\n",
      "        assert len(values) > 0\n",
      "        result = [values[0]]\n",
      "        for v in values[1:]:\n",
      "            assert result[-1] >= 0\n",
      "            result.append(result[-1] + v)\n",
      "        assert result[-1] >= result[0]\n",
      "        return result\n",
      "    ```"
     ]
    },
    {
     "cell_type": "heading",
     "level": 2,
     "metadata": {},
     "source": [
      "Test-Driven Development"
     ]
    },
    {
     "cell_type": "markdown",
     "metadata": {},
     "source": [
      "An assertion checks that something is true at a particular point in the program.\n",
      "The next step is to check the overall behavior of a piece of code,\n",
      "i.e.,\n",
      "to make sure that it produces the right output when it's given a particular input.\n",
      "For example,\n",
      "suppose we need to find where two or more time series overlap.\n",
      "The range of each time series is represented as a pair of numbers,\n",
      "which are the time the interval started and ended.\n",
      "The output is the largest range that they all include:"
     ]
    },
    {
     "cell_type": "markdown",
     "metadata": {},
     "source": [
      "FIXME: diagram"
     ]
    },
    {
     "cell_type": "markdown",
     "metadata": {},
     "source": [
      "Most novice programmers would solve this problem like this:\n",
      "\n",
      "1.  Write a function `range_overlap`.\n",
      "2.  Call it interactively on two or three different inputs.\n",
      "3.  If it produces the wrong answer, fix the function and re-run that test.\n",
      "\n",
      "This clearly works&mdash;after all, thousands of scientists are doing it right now&mdash;but\n",
      "there's a better way:\n",
      "\n",
      "1.  Write a short function for each test.\n",
      "2.  Write a `range_overlap` function that should pass those tests.\n",
      "3.  If `range_overlap` produces any wrong answers, fix it and re-run the test functions.\n",
      "\n",
      "Writing the tests *before* writing the function they exercise\n",
      "is called [test-driven development](../../gloss.html#test-driven-development) (TDD).\n",
      "Its advocates believe it produces better code faster because:\n",
      "\n",
      "1.  If people write tests after writing the thing to be tested,\n",
      "    they are subject to [confirmation bias](../../gloss.html#confirmation-bias),\n",
      "    i.e.,\n",
      "    they subconsciously write tests to show that their code is correct,\n",
      "    rather than to find errors.\n",
      "2.  Writing tests helps programmers figure out what the function is actually supposed to do.\n",
      "\n",
      "Here are three test functions for `range_overlap`:"
     ]
    },
    {
     "cell_type": "code",
     "collapsed": false,
     "input": [
      "def test_single_range():\n",
      "    assert range_overlap([ (0.0, 1.0) ]) == (0.0, 1.0)\n",
      "\n",
      "def test_double_range():\n",
      "    assert range_overlap([ (0.0, 1.0), (0.0, 2.0) ]) == (0.0, 1.0)\n",
      "\n",
      "def test_triple_range():\n",
      "    assert range_overlap([ (0.0, 1.0), (0.0, 2.0), (-1.0, 1.0) ]) == (0.0, 1.0)"
     ],
     "language": "python",
     "metadata": {},
     "outputs": [],
     "prompt_number": 8
    },
    {
     "cell_type": "markdown",
     "metadata": {},
     "source": [
      "FIXME: diagram"
     ]
    },
    {
     "cell_type": "markdown",
     "metadata": {},
     "source": [
      "Those tests look reasonable,\n",
      "and as a bonus,\n",
      "they've implicitly defined what our input and output look like:\n",
      "we expect a list of pairs as input,\n",
      "and produce a single pair as output.\n",
      "\n",
      "Something important is missing, though.\n",
      "We don't have any tests for the case where the ranges don't overlap at all:\n",
      "\n",
      "```\n",
      "def test_no_overlap():\n",
      "    assert range_overlap([ (0.0, 1.0), (5.0, 6.0) ]) == ???\n",
      "```\n",
      "\n",
      "What should `range_overlap` do in this case:\n",
      "fail with an error message,\n",
      "produce a special value like `(0.0, 0.0)` to signal that there's no overlap,\n",
      "or something else?\n",
      "Any actual implementation of the function will do one of these things;\n",
      "writing the tests first helps us figure out which is best\n",
      "*before* we're emotionally invested in whatever we happened to write\n",
      "before we realized there was an issue.\n",
      "\n",
      "And what about this case?\n",
      "\n",
      "```\n",
      "def test_point_overlap():\n",
      "    assert range_overlap([ (0.0, 1.0), (1.0, 2.0) ]) == ???\n",
      "```\n",
      "\n",
      "Do two segments that touch at their endpoints overlap or not?\n",
      "Mathematicians usually say \"yes\",\n",
      "but engineers usually say \"no\".\n",
      "The best answer is \"whatever is most useful in the rest of our program\",\n",
      "but again,\n",
      "any actual implementation of `range_overlap` is going to do *something*,\n",
      "and whatever it is ought to be consistent with what it does when there's no overlap at all.\n",
      "\n",
      "Since we're planning to use the range this function returns\n",
      "as the X axis in a time series chart,\n",
      "we decide that:\n",
      "\n",
      "1.  every overlap has to have non-zero width, and\n",
      "2.  we will return the special value `None` when there's no overlap.\n",
      "\n",
      "`None` is built into Python,\n",
      "and means \"nothing here\".\n",
      "(Other languages often call the equivalent value `null` or `nil`).\n",
      "With that decision made,\n",
      "we can finish writing our last two tests:"
     ]
    },
    {
     "cell_type": "code",
     "collapsed": false,
     "input": [
      "def test_no_overlap():\n",
      "    assert range_overlap([ (0.0, 1.0), (5.0, 6.0) ]) == None\n",
      "\n",
      "def test_point_overlap():\n",
      "    assert range_overlap([ (0.0, 1.0), (1.0, 2.0) ]) == None"
     ],
     "language": "python",
     "metadata": {},
     "outputs": [],
     "prompt_number": 9
    },
    {
     "cell_type": "markdown",
     "metadata": {},
     "source": [
      "We're now ready to try writing our function:"
     ]
    },
    {
     "cell_type": "code",
     "collapsed": false,
     "input": [
      "def range_overlap(ranges):\n",
      "    lowest = 0.0\n",
      "    highest = 1.0\n",
      "    for (low, high) in ranges:\n",
      "        lowest = max(lowest, low)\n",
      "        highest = min(highest, high)\n",
      "    return (lowest, highest)"
     ],
     "language": "python",
     "metadata": {},
     "outputs": [],
     "prompt_number": 10
    },
    {
     "cell_type": "markdown",
     "metadata": {},
     "source": [
      "Take a moment to think about why we use `max` to raise `lowest`\n",
      "and `min` to lower `highest`,\n",
      "then try running our tests:"
     ]
    },
    {
     "cell_type": "code",
     "collapsed": false,
     "input": [
      "test_single_range()\n",
      "test_double_range()\n",
      "test_triple_range()\n",
      "test_no_overlap()\n",
      "test_point_overlap()"
     ],
     "language": "python",
     "metadata": {},
     "outputs": [
      {
       "ename": "AssertionError",
       "evalue": "",
       "output_type": "pyerr",
       "traceback": [
        "\u001b[0;31m---------------------------------------------------------------------------\u001b[0m\n\u001b[0;31mAssertionError\u001b[0m                            Traceback (most recent call last)",
        "\u001b[0;32m<ipython-input-11-d6eda7676b75>\u001b[0m in \u001b[0;36m<module>\u001b[0;34m()\u001b[0m\n\u001b[1;32m      2\u001b[0m \u001b[0mtest_double_range\u001b[0m\u001b[0;34m(\u001b[0m\u001b[0;34m)\u001b[0m\u001b[0;34m\u001b[0m\u001b[0m\n\u001b[1;32m      3\u001b[0m \u001b[0mtest_triple_range\u001b[0m\u001b[0;34m(\u001b[0m\u001b[0;34m)\u001b[0m\u001b[0;34m\u001b[0m\u001b[0m\n\u001b[0;32m----> 4\u001b[0;31m \u001b[0mtest_no_overlap\u001b[0m\u001b[0;34m(\u001b[0m\u001b[0;34m)\u001b[0m\u001b[0;34m\u001b[0m\u001b[0m\n\u001b[0m\u001b[1;32m      5\u001b[0m \u001b[0mtest_point_overlap\u001b[0m\u001b[0;34m(\u001b[0m\u001b[0;34m)\u001b[0m\u001b[0;34m\u001b[0m\u001b[0m\n",
        "\u001b[0;32m<ipython-input-9-aae7ae67c160>\u001b[0m in \u001b[0;36mtest_no_overlap\u001b[0;34m()\u001b[0m\n\u001b[1;32m      1\u001b[0m \u001b[0;32mdef\u001b[0m \u001b[0mtest_no_overlap\u001b[0m\u001b[0;34m(\u001b[0m\u001b[0;34m)\u001b[0m\u001b[0;34m:\u001b[0m\u001b[0;34m\u001b[0m\u001b[0m\n\u001b[0;32m----> 2\u001b[0;31m     \u001b[0;32massert\u001b[0m \u001b[0mrange_overlap\u001b[0m\u001b[0;34m(\u001b[0m\u001b[0;34m[\u001b[0m \u001b[0;34m(\u001b[0m\u001b[0;36m0.0\u001b[0m\u001b[0;34m,\u001b[0m \u001b[0;36m1.0\u001b[0m\u001b[0;34m)\u001b[0m\u001b[0;34m,\u001b[0m \u001b[0;34m(\u001b[0m\u001b[0;36m5.0\u001b[0m\u001b[0;34m,\u001b[0m \u001b[0;36m6.0\u001b[0m\u001b[0;34m)\u001b[0m \u001b[0;34m]\u001b[0m\u001b[0;34m)\u001b[0m \u001b[0;34m==\u001b[0m \u001b[0mNone\u001b[0m\u001b[0;34m\u001b[0m\u001b[0m\n\u001b[0m\u001b[1;32m      3\u001b[0m \u001b[0;34m\u001b[0m\u001b[0m\n\u001b[1;32m      4\u001b[0m \u001b[0;32mdef\u001b[0m \u001b[0mtest_point_overlap\u001b[0m\u001b[0;34m(\u001b[0m\u001b[0;34m)\u001b[0m\u001b[0;34m:\u001b[0m\u001b[0;34m\u001b[0m\u001b[0m\n\u001b[1;32m      5\u001b[0m     \u001b[0;32massert\u001b[0m \u001b[0mrange_overlap\u001b[0m\u001b[0;34m(\u001b[0m\u001b[0;34m[\u001b[0m \u001b[0;34m(\u001b[0m\u001b[0;36m0.0\u001b[0m\u001b[0;34m,\u001b[0m \u001b[0;36m1.0\u001b[0m\u001b[0;34m)\u001b[0m\u001b[0;34m,\u001b[0m \u001b[0;34m(\u001b[0m\u001b[0;36m1.0\u001b[0m\u001b[0;34m,\u001b[0m \u001b[0;36m2.0\u001b[0m\u001b[0;34m)\u001b[0m \u001b[0;34m]\u001b[0m\u001b[0;34m)\u001b[0m \u001b[0;34m==\u001b[0m \u001b[0mNone\u001b[0m\u001b[0;34m\u001b[0m\u001b[0m\n",
        "\u001b[0;31mAssertionError\u001b[0m: "
       ]
      }
     ],
     "prompt_number": 11
    },
    {
     "cell_type": "markdown",
     "metadata": {},
     "source": [
      "The assertion in `test_no_overlap` failed,\n",
      "so we know there's something wrong with our function.\n",
      "What we *don't* know,\n",
      "though,\n",
      "is whether `test_point_overlap` passed or failed,\n",
      "because Python halted the program as soon as it spotted the error in `test_no_overlap`.\n",
      "Let's try running it manually:"
     ]
    },
    {
     "cell_type": "code",
     "collapsed": false,
     "input": [
      "test_point_overlap()"
     ],
     "language": "python",
     "metadata": {},
     "outputs": [
      {
       "ename": "AssertionError",
       "evalue": "",
       "output_type": "pyerr",
       "traceback": [
        "\u001b[0;31m---------------------------------------------------------------------------\u001b[0m\n\u001b[0;31mAssertionError\u001b[0m                            Traceback (most recent call last)",
        "\u001b[0;32m<ipython-input-12-66b979059a55>\u001b[0m in \u001b[0;36m<module>\u001b[0;34m()\u001b[0m\n\u001b[0;32m----> 1\u001b[0;31m \u001b[0mtest_point_overlap\u001b[0m\u001b[0;34m(\u001b[0m\u001b[0;34m)\u001b[0m\u001b[0;34m\u001b[0m\u001b[0m\n\u001b[0m",
        "\u001b[0;32m<ipython-input-9-aae7ae67c160>\u001b[0m in \u001b[0;36mtest_point_overlap\u001b[0;34m()\u001b[0m\n\u001b[1;32m      3\u001b[0m \u001b[0;34m\u001b[0m\u001b[0m\n\u001b[1;32m      4\u001b[0m \u001b[0;32mdef\u001b[0m \u001b[0mtest_point_overlap\u001b[0m\u001b[0;34m(\u001b[0m\u001b[0;34m)\u001b[0m\u001b[0;34m:\u001b[0m\u001b[0;34m\u001b[0m\u001b[0m\n\u001b[0;32m----> 5\u001b[0;31m     \u001b[0;32massert\u001b[0m \u001b[0mrange_overlap\u001b[0m\u001b[0;34m(\u001b[0m\u001b[0;34m[\u001b[0m \u001b[0;34m(\u001b[0m\u001b[0;36m0.0\u001b[0m\u001b[0;34m,\u001b[0m \u001b[0;36m1.0\u001b[0m\u001b[0;34m)\u001b[0m\u001b[0;34m,\u001b[0m \u001b[0;34m(\u001b[0m\u001b[0;36m1.0\u001b[0m\u001b[0;34m,\u001b[0m \u001b[0;36m2.0\u001b[0m\u001b[0;34m)\u001b[0m \u001b[0;34m]\u001b[0m\u001b[0;34m)\u001b[0m \u001b[0;34m==\u001b[0m \u001b[0mNone\u001b[0m\u001b[0;34m\u001b[0m\u001b[0m\n\u001b[0m",
        "\u001b[0;31mAssertionError\u001b[0m: "
       ]
      }
     ],
     "prompt_number": 12
    },
    {
     "cell_type": "markdown",
     "metadata": {},
     "source": [
      "The fact that `test_point_overlap`&mdash;the other test that's supposed to produce `None`&mdash;is\n",
      "also failing is useful information,\n",
      "but it's annoying to have to maually run each test Python didn't get to.\n",
      "It's also annoying to have to call each test by name:\n",
      "what we'd like is something that would find and re-run all our test functions with a single call,\n",
      "so that as we add more,\n",
      "they are automatically executed.\n",
      "Luckily,\n",
      "such tools exist."
     ]
    },
    {
     "cell_type": "heading",
     "level": 2,
     "metadata": {},
     "source": [
      "Unit Testing"
     ]
    },
    {
     "cell_type": "markdown",
     "metadata": {},
     "source": [
      "The tests we have just written are usually called [unit tests](../../gloss.html#unit-test),\n",
      "because they test a single unit of code.\n",
      "Every unit test has four parts:\n",
      "\n",
      "*   a [fixture](../../gloss.html#fixture), which is the thing the test is run on,\n",
      "*   an [action](../../gloss.html#test-action), which is what's done to the fixture,\n",
      "*   an [expected result](../../gloss.html#expected-result), which is what the action should produce, and\n",
      "*   an [actual result](../../gloss.html#actual-result), which is what it actually produces.\n",
      "\n",
      "Each unit test can have one of three possible outcomes:\n",
      "\n",
      "*   [pass](../../gloss.html#test-pass): the test succeeds,\n",
      "*   [fail](../../gloss.html#test-fail): the code being tested doesn't behave as expected, or\n",
      "*   [error](../../gloss.html#test-error): the test itself fails,\n",
      "    which means we don't know anything about the code being tested.\n",
      "\n",
      "A [unit testing framework](../../gloss.html#unit-testing-framework) is\n",
      "a library or tool that runs tests for us\n",
      "and reports their results.\n",
      "Hundreds of such frameworks have been written\n",
      "for [dozens of languages](http://en.wikipedia.org/wiki/List_of_unit_testing_frameworks),\n",
      "most of them inspired by a Java testing library called JUnit.\n",
      "While the details vary,\n",
      "most of them require programmers to put each test in a function of its own.\n",
      "They then use some programming tricks we won't go into to find and run test functions,\n",
      "then create and display a summary report.\n",
      "\n",
      "The most popular unit testing library for Python is called `unittest`.\n",
      "It comes with the standard library,\n",
      "but depends on object-oriented programming ideas that we haven't covered yet.\n",
      "In its place,\n",
      "we will use a much simpler library called `ears`.\n",
      "Getting it to run our tests is as simple as importing it and calling `ears.run()`:"
     ]
    },
    {
     "cell_type": "code",
     "collapsed": false,
     "input": [
      "import ears\n",
      "ears.run()"
     ],
     "language": "python",
     "metadata": {},
     "outputs": [
      {
       "output_type": "stream",
       "stream": "stdout",
       "text": [
        ".f..f\n",
        "3 pass, 2 fail, 0 error\n",
        "----------------------------------------\n",
        "fail: test_point_overlap\n",
        "Traceback (most recent call last):\n",
        "  File \"ears.py\", line 45, in run\n",
        "    test()\n",
        "  File \"<ipython-input-9-aae7ae67c160>\", line 5, in test_point_overlap\n",
        "    assert range_overlap([ (0.0, 1.0), (1.0, 2.0) ]) == None\n",
        "AssertionError\n",
        "\n",
        "----------------------------------------\n",
        "fail: test_no_overlap\n",
        "Traceback (most recent call last):\n",
        "  File \"ears.py\", line 45, in run\n",
        "    test()\n",
        "  File \"<ipython-input-9-aae7ae67c160>\", line 2, in test_no_overlap\n",
        "    assert range_overlap([ (0.0, 1.0), (5.0, 6.0) ]) == None\n",
        "AssertionError\n",
        "\n"
       ]
      }
     ],
     "prompt_number": 13
    },
    {
     "cell_type": "markdown",
     "metadata": {},
     "source": [
      "The first line of output displays a '.' for each test that passes,\n",
      "a lower-case 'f' for each that fails,\n",
      "and an upper-case 'E' for each error.\n",
      "(Since we don't have any broken tests right now,\n",
      "we don't have any E's.)\n",
      "After telling us how many results of each kind it got,\n",
      "`ears` displays the location of each error.\n",
      "\n",
      "After looking at the errors,\n",
      "and at our function,\n",
      "we realize that we're always initializing `lowest` and `highest` to 0.0 and 1.0 respectively,\n",
      "regardless of what the data contains.\n",
      "Let's rewrite the function like this:"
     ]
    },
    {
     "cell_type": "code",
     "collapsed": false,
     "input": [
      "def range_overlap(ranges):\n",
      "    lowest, highest = ranges[0]\n",
      "    for (low, high) in ranges[1:]:\n",
      "        lowest = max(lowest, low)\n",
      "        highest = min(highest, high)\n",
      "    if lowest >= highest:\n",
      "        return None\n",
      "    else:\n",
      "        return (lowest, highest)"
     ],
     "language": "python",
     "metadata": {},
     "outputs": [],
     "prompt_number": 16
    },
    {
     "cell_type": "markdown",
     "metadata": {},
     "source": [
      "We can now re-run all our tests with a single call:"
     ]
    },
    {
     "cell_type": "code",
     "collapsed": false,
     "input": [
      "ears.run()"
     ],
     "language": "python",
     "metadata": {},
     "outputs": [
      {
       "output_type": "stream",
       "stream": "stdout",
       "text": [
        ".....\n",
        "5 pass, 0 fail, 0 error\n"
       ]
      }
     ],
     "prompt_number": 17
    },
    {
     "cell_type": "markdown",
     "metadata": {},
     "source": [
      "All five pass,\n",
      "so we're done&mdash;or are we?\n",
      "Let's try this:"
     ]
    },
    {
     "cell_type": "code",
     "collapsed": false,
     "input": [
      "range_overlap([])"
     ],
     "language": "python",
     "metadata": {},
     "outputs": [
      {
       "ename": "IndexError",
       "evalue": "list index out of range",
       "output_type": "pyerr",
       "traceback": [
        "\u001b[0;31m---------------------------------------------------------------------------\u001b[0m\n\u001b[0;31mIndexError\u001b[0m                                Traceback (most recent call last)",
        "\u001b[0;32m<ipython-input-18-60baa56617eb>\u001b[0m in \u001b[0;36m<module>\u001b[0;34m()\u001b[0m\n\u001b[0;32m----> 1\u001b[0;31m \u001b[0mrange_overlap\u001b[0m\u001b[0;34m(\u001b[0m\u001b[0;34m[\u001b[0m\u001b[0;34m]\u001b[0m\u001b[0;34m)\u001b[0m\u001b[0;34m\u001b[0m\u001b[0m\n\u001b[0m",
        "\u001b[0;32m<ipython-input-16-2e0214ad8bc6>\u001b[0m in \u001b[0;36mrange_overlap\u001b[0;34m(ranges)\u001b[0m\n\u001b[1;32m      1\u001b[0m \u001b[0;32mdef\u001b[0m \u001b[0mrange_overlap\u001b[0m\u001b[0;34m(\u001b[0m\u001b[0mranges\u001b[0m\u001b[0;34m)\u001b[0m\u001b[0;34m:\u001b[0m\u001b[0;34m\u001b[0m\u001b[0m\n\u001b[0;32m----> 2\u001b[0;31m     \u001b[0mlowest\u001b[0m\u001b[0;34m,\u001b[0m \u001b[0mhighest\u001b[0m \u001b[0;34m=\u001b[0m \u001b[0mranges\u001b[0m\u001b[0;34m[\u001b[0m\u001b[0;36m0\u001b[0m\u001b[0;34m]\u001b[0m\u001b[0;34m\u001b[0m\u001b[0m\n\u001b[0m\u001b[1;32m      3\u001b[0m     \u001b[0;32mfor\u001b[0m \u001b[0;34m(\u001b[0m\u001b[0mlow\u001b[0m\u001b[0;34m,\u001b[0m \u001b[0mhigh\u001b[0m\u001b[0;34m)\u001b[0m \u001b[0;32min\u001b[0m \u001b[0mranges\u001b[0m\u001b[0;34m[\u001b[0m\u001b[0;36m1\u001b[0m\u001b[0;34m:\u001b[0m\u001b[0;34m]\u001b[0m\u001b[0;34m:\u001b[0m\u001b[0;34m\u001b[0m\u001b[0m\n\u001b[1;32m      4\u001b[0m         \u001b[0mlowest\u001b[0m \u001b[0;34m=\u001b[0m \u001b[0mmax\u001b[0m\u001b[0;34m(\u001b[0m\u001b[0mlowest\u001b[0m\u001b[0;34m,\u001b[0m \u001b[0mlow\u001b[0m\u001b[0;34m)\u001b[0m\u001b[0;34m\u001b[0m\u001b[0m\n\u001b[1;32m      5\u001b[0m         \u001b[0mhighest\u001b[0m \u001b[0;34m=\u001b[0m \u001b[0mmin\u001b[0m\u001b[0;34m(\u001b[0m\u001b[0mhighest\u001b[0m\u001b[0;34m,\u001b[0m \u001b[0mhigh\u001b[0m\u001b[0;34m)\u001b[0m\u001b[0;34m\u001b[0m\u001b[0m\n",
        "\u001b[0;31mIndexError\u001b[0m: list index out of range"
       ]
      }
     ],
     "prompt_number": 18
    },
    {
     "cell_type": "markdown",
     "metadata": {},
     "source": [
      "If we don't provide any ranges at all,\n",
      "the output should be `None`,\n",
      "but instead we get an error\n",
      "because we're trying to initialize `lowest` and `highest`\n",
      "using the values of the first element of `ranges`.\n",
      "Let's put this test in a function:"
     ]
    },
    {
     "cell_type": "code",
     "collapsed": false,
     "input": [
      "def test_no_ranges():\n",
      "    assert range_overlap([]) == None"
     ],
     "language": "python",
     "metadata": {},
     "outputs": [],
     "prompt_number": 19
    },
    {
     "cell_type": "markdown",
     "metadata": {},
     "source": [
      "and re-run *all* our tests,\n",
      "not just this one:"
     ]
    },
    {
     "cell_type": "code",
     "collapsed": false,
     "input": [
      "ears.run()"
     ],
     "language": "python",
     "metadata": {},
     "outputs": [
      {
       "output_type": "stream",
       "stream": "stdout",
       "text": [
        ".....E\n",
        "5 pass, 0 fail, 1 error\n",
        "----------------------------------------\n",
        "error: test_no_ranges\n",
        "Traceback (most recent call last):\n",
        "  File \"ears.py\", line 45, in run\n",
        "    test()\n",
        "  File \"<ipython-input-19-e029fa54ec87>\", line 2, in test_no_ranges\n",
        "    assert range_overlap([]) == None\n",
        "  File \"<ipython-input-16-2e0214ad8bc6>\", line 2, in range_overlap\n",
        "    lowest, highest = ranges[0]\n",
        "IndexError: list index out of range\n",
        "\n"
       ]
      }
     ],
     "prompt_number": 20
    },
    {
     "cell_type": "markdown",
     "metadata": {},
     "source": [
      "Sure enough,\n",
      "five pass and one has an error,\n",
      "so we modify our function to handle this special case:"
     ]
    },
    {
     "cell_type": "code",
     "collapsed": false,
     "input": [
      "def range_overlap(ranges):\n",
      "    if len(ranges) == 0:\n",
      "        return None\n",
      "    lowest, highest = ranges[0]\n",
      "    for (low, high) in ranges[1:]:\n",
      "        lowest = max(lowest, low)\n",
      "        highest = min(highest, high)\n",
      "    if lowest >= highest:\n",
      "        return None\n",
      "    else:\n",
      "        return (lowest, highest)"
     ],
     "language": "python",
     "metadata": {},
     "outputs": [],
     "prompt_number": 21
    },
    {
     "cell_type": "markdown",
     "metadata": {},
     "source": [
      "and run all our tests again:"
     ]
    },
    {
     "cell_type": "code",
     "collapsed": false,
     "input": [
      "ears.run()"
     ],
     "language": "python",
     "metadata": {},
     "outputs": [
      {
       "output_type": "stream",
       "stream": "stdout",
       "text": [
        "......\n",
        "6 pass, 0 fail, 0 error\n"
       ]
      }
     ],
     "prompt_number": 22
    },
    {
     "cell_type": "markdown",
     "metadata": {},
     "source": [
      "Since we can't think of any more special cases,\n",
      "we're done with this function and ready to move on."
     ]
    },
    {
     "cell_type": "heading",
     "level": 2,
     "metadata": {},
     "source": [
      "In the Real World..."
     ]
    },
    {
     "cell_type": "markdown",
     "metadata": {},
     "source": [
      "Any time a programmer is writing software that's going to be used by many people\n",
      "in many different situations,\n",
      "she should write unit tests to go with it.\n",
      "They won't just tell her that her software's working today:\n",
      "they'll also catch any [regressions](../../gloss.html#regression)\n",
      "she accidentally introduces when modifying the software next week or next month.\n",
      "\n",
      "However,\n",
      "most of the software that most scientists write *isn't* used by other people.\n",
      "Instead,\n",
      "the average scientific program is written by one person\n",
      "to do one kind of analysis one kind of data.\n",
      "If it's shared with a colleague at all,\n",
      "that colleague probably tweaks it to do something slightly different,\n",
      "since they're probably working on a different research problem.\n",
      "\n",
      "Unit testing doesn't make as much sense in this context\n",
      "as it does in the world of professional application development.\n",
      "Another wrinkle is that we can only write a unit test if we know what the right answer is.\n",
      "In many cases,\n",
      "though\n",
      "if the scientist writing the code knew what the answer was,\n",
      "she would already have published it and moved on to the next problem.\n",
      "\n",
      "That doesn't mean we can't or shouldn't test small-scale scientific software, though.\n",
      "Instead,\n",
      "we should think about our code as just another kind of laboratory equipment,\n",
      "and do the same sanity checks on it that we would do on an oscilloscope or a spectrometer.\n",
      "For example,\n",
      "suppose we're measuring changes over time in\n",
      "the spatial distribution of some species of bird.\n",
      "Instead of running our function on a real data set to check it,\n",
      "we could create a data set that contained a hundred copies of a single observation.\n",
      "If our function reported no change over time,\n",
      "we could then create a data set in which the first record was at one location,\n",
      "the next exactly a kilometer further north,\n",
      "the one after that another kilometer north,\n",
      "and so on,\n",
      "then compare the function's result with something calculated by hand.\n",
      "If *that* worked,\n",
      "we could use a random number generator to produce a set of \"observations\"\n",
      "with a Gaussian distribution around a central point,\n",
      "see whether our function produced the right answer,\n",
      "and so on.\n",
      "This is exactly the same as testing a spectrometer with a piece of pure tungsten,\n",
      "and then with a sample of a specific nickel-tungsten alloy,\n",
      "before trying to assay whatever we're actually interested in.\n",
      "\n",
      "Another technique many scientists use is to check that quantities are being conserved.\n",
      "If we are analyzing patient data,\n",
      "for example,\n",
      "the number of records in our final data set should be no greater than the number we started with.\n",
      "We might throw some away because they are incomplete or outliers,\n",
      "but we shouldn't magically create records along the way.\n",
      "Similarly,\n",
      "a simulation of the solar system should conserve energy and momentum;\n",
      "if either is being created or vanishing,\n",
      "there's probably a bug in our code."
     ]
    },
    {
     "cell_type": "heading",
     "level": 2,
     "metadata": {},
     "source": [
      "Next Steps"
     ]
    },
    {
     "cell_type": "markdown",
     "metadata": {},
     "source": [
      "We have now seen the basics of building and testing Python code in the IPython Notebook.\n",
      "The last thing we need to learn is how to build command-line programs\n",
      "that we can use in pipelines and shell scripts,\n",
      "so that we can integrate our tools with other people's work.\n",
      "This will be the subject of our next and final lesson."
     ]
    }
   ],
   "metadata": {}
  }
 ]
}