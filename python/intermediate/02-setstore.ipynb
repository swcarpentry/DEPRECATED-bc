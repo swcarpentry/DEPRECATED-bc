{
 "metadata": {
  "name": ""
 },
 "nbformat": 3,
 "nbformat_minor": 0,
 "worksheets": [
  {
   "cells": [
    {
     "cell_type": "heading",
     "level": 1,
     "metadata": {
      "cell_tags": []
     },
     "source": [
      "Sets and Storage"
     ]
    },
    {
     "cell_type": "markdown",
     "metadata": {
      "cell_tags": []
     },
     "source": [
      "FIXME: motivation"
     ]
    },
    {
     "cell_type": "markdown",
     "metadata": {
      "cell_tags": [
       "objectives"
      ]
     },
     "source": [
      "## Objectives\n",
      "\n",
      "*   Explain why some programs that use lists become proportionally slower as data sizes increase.\n",
      "*   Explain the three adjectives in \"unordered collection of distinct values\".\n",
      "*   Use a set to eliminate duplicate values from data.\n",
      "*   Draw a diagram showing how hash tables are implemented, and correctly label the main parts.\n",
      "*   Explain the purpose of a hash function.\n",
      "*   Explain why using mutable values as keys in a hash table can cause problems.\n",
      "*   Correctly identify the error messages Python produces when programs try to put mutable values in hashed data structures.\n",
      "*   Explain the similarities and differences between tuples and lists.\n",
      "*   Explain why using tuples is better than concatenating values when storing multi-part data in hashed data structures."
     ]
    },
    {
     "cell_type": "heading",
     "level": 2,
     "metadata": {},
     "source": [
      "Sets"
     ]
    },
    {
     "cell_type": "markdown",
     "metadata": {},
     "source": [
      "Suppose we have a list of all the atoms in the warehouse,\n",
      "and we want to know which different kinds we have.\n",
      "We could solve this problem using a list to store the unique atomic symbols like this:"
     ]
    },
    {
     "cell_type": "code",
     "collapsed": false,
     "input": [
      "def another_atom(seen, atom):\n",
      "    for i in range(len(seen)):\n",
      "        if seen[i] == atom:\n",
      "            return # atom is already present, so do not re-add\n",
      "    seen.append(atom)"
     ],
     "language": "python",
     "metadata": {},
     "outputs": [],
     "prompt_number": 1
    },
    {
     "cell_type": "markdown",
     "metadata": {},
     "source": [
      "`another_atom`'s arguments are a list of the unique atoms we've already seen\n",
      "and the symbol of the atom we're adding.\n",
      "Inside the function,\n",
      "we loop over the atoms that are already in the list.\n",
      "If we find the one we're trying to add,\n",
      "we exit the function immediately so that we don't have duplicates in our list.\n",
      "If we reach the end of the list without finding this symbol,\n",
      "though,\n",
      "we append it.\n",
      "This is a common [design pattern](../../gloss.html#design-pattern):\n",
      "either we find pre-existing data in a loop and return right away,\n",
      "or take some action if we finish the loop without finding a match.\n",
      "\n",
      "Let's watch this function in action.\n",
      "We start with an empty list.\n",
      "If the first atomic symbol is `'Na'`,\n",
      "we find no match (since the list is empty),\n",
      "so we add it.\n",
      "The next symbol is `'Fe'`;\n",
      "it doesn't match `'Na'`,\n",
      "so we add it as well.\n",
      "Our third symbol is `'Na'` again.\n",
      "It matches the first entry in the list,\n",
      "so we exit the function immediately.\n",
      "\n",
      "FIXME: convert to table\n",
      "~~~\n",
      "  Before           Adding   After\n",
      "  ---------------- -------- ----------------\n",
      "  `[]`             `'Na'`   `['Na']`\n",
      "  `['Na']`         `'Fe'`   `['Na', 'Fe']`\n",
      "  `['Na', 'Fe']`   `'Na'`   `['Na', 'Fe']`\n",
      "~~~"
     ]
    },
    {
     "cell_type": "markdown",
     "metadata": {},
     "source": [
      "This code works, but it is inefficient.\n",
      "Suppose there are *V* distinct atomic symbols in our data,\n",
      "and *N* symbols in total.\n",
      "Each time we add an observation to our list,\n",
      "we have to look through an average of *V/2* entries.\n",
      "The total number of actions in our program is therefore approximately *NV/2*.\n",
      "This is only a few times larger than *N* if *V* is small,\n",
      "but what happens if we're keeping track of something like patient records rather than atoms?\n",
      "In that case,\n",
      "most values are distinct,\n",
      "so *V* is approximately the same as *N*,\n",
      "which means that our running time is proportional to *N^2^/2*.\n",
      "That's bad news:\n",
      "if we double the size of our data set,\n",
      "our program runs four times slower,\n",
      "and if we double it again,\n",
      "our program will have slowed down by a factor of 16.\n",
      "\n",
      "There's a better way to solve this problem that is simpler to use and runs much faster.\n",
      "The trick is to use a [set](glossary.html#set) to store the symbols.\n",
      "A set is an unordered collection of distinct items.\n",
      "The word \"collection\" means that a set can hold zero or more values.\n",
      "The word \"distinct\" means that any particular value is either in the set or not:\n",
      "a set can't store two or more copies of the same thing.\n",
      "And finally,\n",
      "\"unordered\" means that values are simply \"in\" the set.\n",
      "They're not in any particular order,\n",
      "and there's no first value or last value.\n",
      "\n",
      "To create a set, we simply write down its elements inside curly braces:"
     ]
    },
    {
     "cell_type": "code",
     "collapsed": false,
     "input": [
      "primes = {3, 5, 7}"
     ],
     "language": "python",
     "metadata": {},
     "outputs": [],
     "prompt_number": 2
    },
    {
     "cell_type": "markdown",
     "metadata": {},
     "source": [
      "FIXME: diagram"
     ]
    },
    {
     "cell_type": "markdown",
     "metadata": {},
     "source": [
      "However,\n",
      "we have to use `set()` to create an empty set\n",
      "because the symbol `{}` was already being used for something else when sets were added to Python:"
     ]
    },
    {
     "cell_type": "code",
     "collapsed": false,
     "input": [
      "even_primes = set() # not '{}' as in math"
     ],
     "language": "python",
     "metadata": {},
     "outputs": [],
     "prompt_number": 3
    },
    {
     "cell_type": "markdown",
     "metadata": {},
     "source": [
      "We'll meet that \"something else\" in our [next notebook](03-dict.ipynb)."
     ]
    },
    {
     "cell_type": "markdown",
     "metadata": {},
     "source": [
      "To see what we can do with sets,\n",
      "let's create three holding the integers 0 through 9,\n",
      "the first half of that same range of numbers (0 through 4),\n",
      "and the odd values 1, 3, 5, 7, and 9:"
     ]
    },
    {
     "cell_type": "code",
     "collapsed": false,
     "input": [
      "ten = {0, 1, 2, 3, 4, 5, 6, 7, 8, 9}\n",
      "lows = {0, 1, 2, 3, 4}\n",
      "odds = {1, 3, 5, 7, 9}"
     ],
     "language": "python",
     "metadata": {},
     "outputs": [],
     "prompt_number": 4
    },
    {
     "cell_type": "markdown",
     "metadata": {},
     "source": [
      "If we ask Python to display one of our sets,\n",
      "it shows us this:"
     ]
    },
    {
     "cell_type": "code",
     "collapsed": false,
     "input": [
      "print lows"
     ],
     "language": "python",
     "metadata": {},
     "outputs": [
      {
       "output_type": "stream",
       "stream": "stdout",
       "text": [
        "set([0, 1, 2, 3, 4])\n"
       ]
      }
     ],
     "prompt_number": 5
    },
    {
     "cell_type": "markdown",
     "metadata": {},
     "source": [
      "which is a hint that we can also create a set out of a list:"
     ]
    },
    {
     "cell_type": "code",
     "collapsed": false,
     "input": [
      "ten = set(range(0, 10)) # 'range' generates [0, 1, ..., 9]\n",
      "print ten"
     ],
     "language": "python",
     "metadata": {},
     "outputs": [
      {
       "output_type": "stream",
       "stream": "stdout",
       "text": [
        "set([0, 1, 2, 3, 4, 5, 6, 7, 8, 9])\n"
       ]
      }
     ],
     "prompt_number": 6
    },
    {
     "cell_type": "markdown",
     "metadata": {},
     "source": [
      "Sets have methods just like strings and lists,\n",
      "most of which create new sets instead of modifying the set they are called for.\n",
      "Most of these methods come straight from mathematics:"
     ]
    },
    {
     "cell_type": "code",
     "collapsed": false,
     "input": [
      "print lows.union(odds)"
     ],
     "language": "python",
     "metadata": {},
     "outputs": [
      {
       "output_type": "stream",
       "stream": "stdout",
       "text": [
        "set([0, 1, 2, 3, 4, 5, 7, 9])\n"
       ]
      }
     ],
     "prompt_number": 7
    },
    {
     "cell_type": "code",
     "collapsed": false,
     "input": [
      "print lows.intersection(odds)"
     ],
     "language": "python",
     "metadata": {},
     "outputs": [
      {
       "output_type": "stream",
       "stream": "stdout",
       "text": [
        "set([1, 3])\n"
       ]
      }
     ],
     "prompt_number": 8
    },
    {
     "cell_type": "code",
     "collapsed": false,
     "input": [
      "print lows.difference(odds)"
     ],
     "language": "python",
     "metadata": {},
     "outputs": [
      {
       "output_type": "stream",
       "stream": "stdout",
       "text": [
        "set([0, 2, 4])\n"
       ]
      }
     ],
     "prompt_number": 9
    },
    {
     "cell_type": "markdown",
     "metadata": {},
     "source": [
      "Not all set methods return new sets.\n",
      "For example,\n",
      "`issubset` returns `True` or `False` depending on whether\n",
      "all the elements in one set are present in another:"
     ]
    },
    {
     "cell_type": "code",
     "collapsed": false,
     "input": [
      "print lows.issubset(ten)"
     ],
     "language": "python",
     "metadata": {},
     "outputs": [
      {
       "output_type": "stream",
       "stream": "stdout",
       "text": [
        "True\n"
       ]
      }
     ],
     "prompt_number": 10
    },
    {
     "cell_type": "code",
     "collapsed": false,
     "input": [
      "print odds.issubset(lows)"
     ],
     "language": "python",
     "metadata": {},
     "outputs": [
      {
       "output_type": "stream",
       "stream": "stdout",
       "text": [
        "False\n"
       ]
      }
     ],
     "prompt_number": 11
    },
    {
     "cell_type": "markdown",
     "metadata": {},
     "source": [
      "A complementary method called `issuperset` also exists,\n",
      "and does the obvious thing.\n",
      "\n",
      "We can count how many things are in a set using `len`,\n",
      "and check whether something is in a set using `in`:"
     ]
    },
    {
     "cell_type": "code",
     "collapsed": false,
     "input": [
      "print len(odds)"
     ],
     "language": "python",
     "metadata": {},
     "outputs": [
      {
       "output_type": "stream",
       "stream": "stdout",
       "text": [
        "5\n"
       ]
      }
     ],
     "prompt_number": 12
    },
    {
     "cell_type": "code",
     "collapsed": false,
     "input": [
      "print 6 in odds"
     ],
     "language": "python",
     "metadata": {},
     "outputs": [
      {
       "output_type": "stream",
       "stream": "stdout",
       "text": [
        "False\n"
       ]
      }
     ],
     "prompt_number": 13
    },
    {
     "cell_type": "markdown",
     "metadata": {},
     "source": [
      "We can also change what's in a set using `add` and `remove`:"
     ]
    },
    {
     "cell_type": "code",
     "collapsed": false,
     "input": [
      "small = set([0, 1])\n",
      "print 'small starts as', small"
     ],
     "language": "python",
     "metadata": {},
     "outputs": [
      {
       "output_type": "stream",
       "stream": "stdout",
       "text": [
        "small starts as set([0, 1])\n"
       ]
      }
     ],
     "prompt_number": 14
    },
    {
     "cell_type": "code",
     "collapsed": false,
     "input": [
      "small.add(2)\n",
      "print 'small becomes', small"
     ],
     "language": "python",
     "metadata": {},
     "outputs": [
      {
       "output_type": "stream",
       "stream": "stdout",
       "text": [
        "small becomes set([0, 1, 2])\n"
       ]
      }
     ],
     "prompt_number": 15
    },
    {
     "cell_type": "code",
     "collapsed": false,
     "input": [
      "small.remove(0)\n",
      "print 'small finishes as', small"
     ],
     "language": "python",
     "metadata": {},
     "outputs": [
      {
       "output_type": "stream",
       "stream": "stdout",
       "text": [
        "small finishes as set([1, 2])\n"
       ]
      }
     ],
     "prompt_number": 16
    },
    {
     "cell_type": "markdown",
     "metadata": {},
     "source": [
      "`add` and `remove` do *not* return a new set,\n",
      "or the set that's been modified.\n",
      "Instead,\n",
      "they return the special value `None`,\n",
      "which is a common Python convention for things that update collections in place:"
     ]
    },
    {
     "cell_type": "code",
     "collapsed": false,
     "input": [
      "example = set()\n",
      "print 'result of adding is', example.add(5)\n",
      "print 'example after adding is', example"
     ],
     "language": "python",
     "metadata": {},
     "outputs": [
      {
       "output_type": "stream",
       "stream": "stdout",
       "text": [
        "result of adding is None\n",
        "example after adding is set([5])\n"
       ]
      }
     ],
     "prompt_number": 17
    },
    {
     "cell_type": "markdown",
     "metadata": {},
     "source": [
      "To make programs easier to type and read,\n",
      "most of the methods we've just seen can be written using operators as well.\n",
      "For example,\n",
      "instead of `lows.issubset(ten)`,\n",
      "we can write `lows <= ten`.\n",
      "There are even a couple of operators,\n",
      "like the strict subset test `<`,\n",
      "that don't have long-winded equivalents:"
     ]
    },
    {
     "cell_type": "markdown",
     "metadata": {},
     "source": [
      "FIXME: convert to table\n",
      "~~~\n",
      "  Operation           As Method                           Using Operator\n",
      "  ------------------- ----------------------------------- ----------------\n",
      "  *difference*        `lows.difference(odds)`             `lows - odds`\n",
      "  *intersection*      `lows.intersection(odds)`           `lows & odds`\n",
      "  *subset*            `lows.issubset(ten)`                `lows <= ten`\n",
      "  *strict subset*                                         `lows < ten`\n",
      "  *superset*          `lows.issuperset(ten)`              `lows >= odds`\n",
      "  *strict superset*                                       `lows >= odds`\n",
      "  *exclusive or*      `lows.symmetric_difference(odds)`   `lows ^ odds`\n",
      "  *union*             `lows.union(odds)`                  `lows | odds`\n",
      "~~~"
     ]
    },
    {
     "cell_type": "markdown",
     "metadata": {},
     "source": [
      "Now let's solve our \"unique atoms\" problem.\n",
      "Our example file contains six line:"
     ]
    },
    {
     "cell_type": "code",
     "collapsed": false,
     "input": [
      "!cat atoms-6.txt"
     ],
     "language": "python",
     "metadata": {},
     "outputs": [
      {
       "output_type": "stream",
       "stream": "stdout",
       "text": [
        "Na\r\n",
        "Fe\r\n",
        "Na\r\n",
        "Si\r\n",
        "Pd\r\n",
        "Na\r\n"
       ]
      }
     ],
     "prompt_number": 18
    },
    {
     "cell_type": "markdown",
     "metadata": {},
     "source": [
      "but only four unique kinds of atoms.\n",
      "Using a set,\n",
      "we can filter duplicates like this:"
     ]
    },
    {
     "cell_type": "code",
     "collapsed": false,
     "input": [
      "unique = set()\n",
      "with open('atoms-6.txt', 'r') as reader:\n",
      "    for line in reader:\n",
      "        atom = line.strip()\n",
      "        unique.add(atom)\n",
      "print unique"
     ],
     "language": "python",
     "metadata": {},
     "outputs": [
      {
       "output_type": "stream",
       "stream": "stdout",
       "text": [
        "set(['Na', 'Si', 'Fe', 'Pd'])\n"
       ]
      }
     ],
     "prompt_number": 19
    },
    {
     "cell_type": "markdown",
     "metadata": {},
     "source": [
      "The first line creates an empty set called `unique`\n",
      "to serve as our [accumulator](../../gloss.html#accumulator).\n",
      "The next three lines read atom names from the file\n",
      "(stripping off leading or trailing spaces and newlines).\n",
      "Line 5, `unique.add(atom)`, puts the atom in the set;\n",
      "if it's already there,\n",
      "this does nothing,\n",
      "because sets only keep unique entries.\n",
      "We end by creating the set we've created.\n",
      "\n",
      "The most important thing to notice about this example\n",
      "is the order of the entries in `unique` after the loop is done.\n",
      "Iron (`Fe`) appeared *before* silicon (`Si`) in the file,\n",
      "but shows up *after* it in the final set.\n",
      "In order to understand why,\n",
      "and the circumstances in which sets and things like them\n",
      "are more efficient than lists,\n",
      "we need to look at how sets actually store data."
     ]
    },
    {
     "cell_type": "markdown",
     "metadata": {},
     "source": [
      "## Challenges\n",
      "\n",
      "1.  Mathematicians are quite comfortable negating sets: for example, the\n",
      "    negation of the set `{1, 2}` is all numbers that aren't 1 or 2. Why\n",
      "    don't Python's sets have a `not` operator?\n",
      "2.  Fan has created a set containing the names of five noble gases:\n",
      "\n",
      "        >>> print gases\n",
      "        set(['helium', 'argon', 'neon', 'xenon', 'radon'])\n",
      "\n",
      "    He would like to print them in alphabetical order. What is one\n",
      "    simple way to do this? (Hint: the `list` function converts its\n",
      "    arguments to a list.)\n",
      "\n",
      "3.  Fan has the following code:\n",
      "\n",
      "        left = {'He', 'Ar', 'Ne'}\n",
      "        right = set()\n",
      "        while len(left) > len(right):\n",
      "            temp = left.pop()\n",
      "            right.add(temp)\n",
      "\n",
      "    What values could \\`left\\` and \\`right\\` have after this code is\n",
      "    finished running? Explain why your answer makes this code hard to\n",
      "    test.\n",
      "\n",
      "4.  Fan has written the following code:\n",
      "\n",
      "        left = {'He', 'Ar', 'Ne'}\n",
      "        right = {'Ar', 'Xe'}\n",
      "        for element in left:                # X\n",
      "            if element not in right:        # X\n",
      "                right.add(element)          # X\n",
      "        assert left.issubset(right)\n",
      "\n",
      "    What single line could be used in place of the three marked with 'X'\n",
      "    to achieve the same effect?\n",
      "\n",
      "5.  Fan has written a program to print the names of the distinct atoms\n",
      "    in a data file:\n",
      "\n",
      "    ~~~~ {src=\"setdict/print_names.py\"}\n",
      "    # Print the name of each atom in the data file once.\n",
      "    reader = open('atoms.txt', 'r')\n",
      "    seen = set()\n",
      "    for line in reader:\n",
      "        name = line.strip()\n",
      "        if name in seen:\n",
      "            print name\n",
      "        else:\n",
      "            seen.add(name)\n",
      "    reader.close()\n",
      "    ~~~~\n",
      "\n",
      "    When he runs the program on this data file:\n",
      "\n",
      "    ~~~~ {src=\"setdict/atoms.txt\"}\n",
      "    Na\n",
      "    Fe\n",
      "    Na\n",
      "    ~~~~\n",
      "\n",
      "    it only prints:\n",
      "\n",
      "        Na\n",
      "\n",
      "    What is the simplest change you can make to the program so that it\n",
      "    produces the correct answer?"
     ]
    },
    {
     "cell_type": "heading",
     "level": 2,
     "metadata": {},
     "source": [
      "Storage"
     ]
    },
    {
     "cell_type": "markdown",
     "metadata": {},
     "source": [
      "Let's create a set and add the number 12345 to it:"
     ]
    },
    {
     "cell_type": "code",
     "collapsed": false,
     "input": [
      "things = set()\n",
      "things.add(12345)\n",
      "print things"
     ],
     "language": "python",
     "metadata": {},
     "outputs": [
      {
       "output_type": "stream",
       "stream": "stdout",
       "text": [
        "set([12345])\n"
       ]
      }
     ],
     "prompt_number": 1
    },
    {
     "cell_type": "markdown",
     "metadata": {},
     "source": [
      "Now let's try adding a list containing the same number to the same set:"
     ]
    },
    {
     "cell_type": "code",
     "collapsed": false,
     "input": [
      "things.add( [12345] )"
     ],
     "language": "python",
     "metadata": {},
     "outputs": [
      {
       "ename": "TypeError",
       "evalue": "unhashable type: 'list'",
       "output_type": "pyerr",
       "traceback": [
        "\u001b[0;31m---------------------------------------------------------------------------\u001b[0m\n\u001b[0;31mTypeError\u001b[0m                                 Traceback (most recent call last)",
        "\u001b[0;32m<ipython-input-2-f1c3072bf7a0>\u001b[0m in \u001b[0;36m<module>\u001b[0;34m()\u001b[0m\n\u001b[0;32m----> 1\u001b[0;31m \u001b[0mthings\u001b[0m\u001b[0;34m.\u001b[0m\u001b[0madd\u001b[0m\u001b[0;34m(\u001b[0m \u001b[0;34m[\u001b[0m\u001b[0;36m12345\u001b[0m\u001b[0;34m]\u001b[0m \u001b[0;34m)\u001b[0m\u001b[0;34m\u001b[0m\u001b[0m\n\u001b[0m",
        "\u001b[0;31mTypeError\u001b[0m: unhashable type: 'list'"
       ]
      }
     ],
     "prompt_number": 2
    },
    {
     "cell_type": "markdown",
     "metadata": {},
     "source": [
      "Why doesn't that work?\n",
      "And what does \"unhashable\" mean?"
     ]
    },
    {
     "cell_type": "markdown",
     "metadata": {},
     "source": [
      "When we create a set,\n",
      "the computer allocates a block of memory to store references to the set's elements.\n",
      "When we add a value to the set,\n",
      "or try to look up a value,\n",
      "the computer uses a [hash function](../../gloss.html#hash-function)\n",
      "to figure out where to find that value ought to be.\n",
      "\n",
      "One simple hash function we can use with number is\n",
      "the remainder left over when dividing it by the length of the block of memory.\n",
      "If our hash table has 8 slots,\n",
      "for example,\n",
      "then we would put the number 15 in slot number 7,\n",
      "because 15%8 is 7:"
     ]
    },
    {
     "cell_type": "markdown",
     "metadata": {},
     "source": [
      "FIXME: diagram"
     ]
    },
    {
     "cell_type": "markdown",
     "metadata": {},
     "source": [
      "If we have a list of numbers,\n",
      "our hash function can add them up and then take the remainder.\n",
      "This puts `[2, 4, 6]` into slot 4,\n",
      "because 2+4+6 is 12,\n",
      "and 12%8 is 4:"
     ]
    },
    {
     "cell_type": "markdown",
     "metadata": {},
     "source": [
      "FIXME: diagram"
     ]
    },
    {
     "cell_type": "markdown",
     "metadata": {},
     "source": [
      "But what if we change one of the numbers in the list\n",
      "*after* we store that list?\n",
      "For example,\n",
      "suppose we add the number 1 to the list.\n",
      "The total of the values in the list is now 13,\n",
      "so it belongs in slot 5 (because 13%8 is 5).\n",
      "However,\n",
      "the reference to the list is still in slot 4\n",
      "because the set doesn't know that the list's contents have changed:"
     ]
    },
    {
     "cell_type": "markdown",
     "metadata": {},
     "source": [
      "FIXME: diagram"
     ]
    },
    {
     "cell_type": "markdown",
     "metadata": {},
     "source": [
      "This is bad.\n",
      "If we ask the set,\n",
      "\"Do you contain the list `[2, 4, 6, 1]`?\"\n",
      "it will say \"no\",\n",
      "because it will calculate the hash code for the list,\n",
      "look in that slot,\n",
      "and not find the list.\n",
      "It's as if someone changed their name from \"Tom Riddle\" to \"Lord Voldemort\"\n",
      "but we left all the personnel records filed under 'R'.\n",
      "\n",
      "This problem arises with any [mutable](../../gloss.html#mutable) structure,\n",
      "i.e.,\n",
      "any structure whose contents or value can be changed after its creation.\n",
      "Integers and strings are safe to hash because their values are fixed,\n",
      "but the whole point of lists is that we can grow them,\n",
      "shrink them,\n",
      "and overwrite their contents.\n",
      "\n",
      "Different languages and libraries handle this problem in different ways.\n",
      "One option is to have each list keep track of the sets that it is in,\n",
      "and move itself whenever its values change.\n",
      "However,\n",
      "this is expensive:\n",
      "every time a program touched a list,\n",
      "it would have to see if it was in any sets,\n",
      "and if it was,\n",
      "recalculate its hash code and update all the references to it.\n",
      "\n",
      "A second option is to shrug and say,\n",
      "\"It's the programmer's fault.\"\n",
      "This is what most languages do,\n",
      "but it's also expensive:\n",
      "programmers can spend hours tracking down the bugs that arise from data being in the wrong place.\n",
      "\n",
      "Python uses a third option:\n",
      "it only allows programmers to put [immutable](../../gloss.html#immutable) values in sets.\n",
      "After all,\n",
      "if something's value can't change,\n",
      "neither can its hash code or its location in a hash table.\n",
      "\n",
      "But if sets can only hold immutable values,\n",
      "what do we do with mutable ones?\n",
      "In particular,\n",
      "how should we store things like (x,y) coordinates,\n",
      "which are naturally represented as lists,\n",
      "or people's names,\n",
      "which are naturally represented as lists of first, middle, and last names?\n",
      "Again, there are several options.\n",
      "\n",
      "The first is to concatenate those values:\n",
      "if we want to store \"Charles\" and \"Darwin\",\n",
      "we create the string \"Charles Darwin\" and store that.\n",
      "This is simple to do,\n",
      "but our code will wind up being littered with string joins and string splits,\n",
      "which will make it slower to run and harder to read.\n",
      "More importantly,\n",
      "it's only safe to do if we can find a concatenator that can never come up in our data.\n",
      "(If we join \"Paul Antoine\" and \"St. Cyr\" using a space,\n",
      "there would be three possible ways to split it apart.)\n",
      "\n",
      "The second option&mdash;the right one&mdash;is\n",
      "to use a [tuple](../../gloss.html#tuple) instead.\n",
      "A tuple is an immutable list,\n",
      "i.e.,\n",
      "a sequence of values that cannot be changed after its creation.\n",
      "Tuples are created exactly like lists,\n",
      "except we use parentheses instead of square brackets:"
     ]
    },
    {
     "cell_type": "code",
     "collapsed": false,
     "input": [
      "full_name = ('Charles', 'Darwin')\n",
      "print full_name"
     ],
     "language": "python",
     "metadata": {},
     "outputs": [
      {
       "output_type": "stream",
       "stream": "stdout",
       "text": [
        "('Charles', 'Darwin')\n"
       ]
      }
     ],
     "prompt_number": 3
    },
    {
     "cell_type": "markdown",
     "metadata": {},
     "source": [
      "They are indexed the same way too,\n",
      "and functions like `len` do exactly what we'd expect:"
     ]
    },
    {
     "cell_type": "code",
     "collapsed": false,
     "input": [
      "print full_name[0]"
     ],
     "language": "python",
     "metadata": {},
     "outputs": [
      {
       "output_type": "stream",
       "stream": "stdout",
       "text": [
        "Charles\n"
       ]
      }
     ],
     "prompt_number": 4
    },
    {
     "cell_type": "code",
     "collapsed": false,
     "input": [
      "print len(full_name)"
     ],
     "language": "python",
     "metadata": {},
     "outputs": [
      {
       "output_type": "stream",
       "stream": "stdout",
       "text": [
        "2\n"
       ]
      }
     ],
     "prompt_number": 5
    },
    {
     "cell_type": "markdown",
     "metadata": {},
     "source": [
      "What we *cannot* do is assign a new value to a tuple element,\n",
      "i.e.,\n",
      "change the tuple after it has been created:"
     ]
    },
    {
     "cell_type": "code",
     "collapsed": false,
     "input": [
      "full_name[0] = 'Erasmus'"
     ],
     "language": "python",
     "metadata": {},
     "outputs": [
      {
       "ename": "TypeError",
       "evalue": "'tuple' object does not support item assignment",
       "output_type": "pyerr",
       "traceback": [
        "\u001b[0;31m---------------------------------------------------------------------------\u001b[0m\n\u001b[0;31mTypeError\u001b[0m                                 Traceback (most recent call last)",
        "\u001b[0;32m<ipython-input-6-a7488b670820>\u001b[0m in \u001b[0;36m<module>\u001b[0;34m()\u001b[0m\n\u001b[0;32m----> 1\u001b[0;31m \u001b[0mfull_name\u001b[0m\u001b[0;34m[\u001b[0m\u001b[0;36m0\u001b[0m\u001b[0;34m]\u001b[0m \u001b[0;34m=\u001b[0m \u001b[0;34m'Erasmus'\u001b[0m\u001b[0;34m\u001b[0m\u001b[0m\n\u001b[0m",
        "\u001b[0;31mTypeError\u001b[0m: 'tuple' object does not support item assignment"
       ]
      }
     ],
     "prompt_number": 6
    },
    {
     "cell_type": "markdown",
     "metadata": {},
     "source": [
      "This means that a tuple's hash code never changes,\n",
      "and *that* means that tuples can be put in sets:"
     ]
    },
    {
     "cell_type": "code",
     "collapsed": false,
     "input": [
      "names = set()\n",
      "names.add(full_name)\n",
      "print names"
     ],
     "language": "python",
     "metadata": {},
     "outputs": [
      {
       "output_type": "stream",
       "stream": "stdout",
       "text": [
        "set([('Charles', 'Darwin')])\n"
       ]
      }
     ],
     "prompt_number": 7
    },
    {
     "cell_type": "markdown",
     "metadata": {},
     "source": [
      "## Challenges\n",
      "\n",
      "1.  A friend of yours argues, \"Finding a value in an unordered list of\n",
      "    length *N* takes *N/2* steps on average. Finding it in a hash table\n",
      "    takes only one step, but it's a more expensive step, since we have\n",
      "    to calculate a hash code for that value. We should therefore use\n",
      "    lists for small data sets, and only use things like sets for large\n",
      "    ones.\" Explain the flaws in your friend's reasoning.\n",
      "\n",
      "2.  Nelle has inherited the following function:\n",
      "\n",
      "        def is_sample_repeated(left_channel, right_channel, history):\n",
      "            '''Report repeated samples.  Both channels' values are integers in [0..10] inclusive.'''\n",
      "            combined = 1000 * left_channel + right_channel\n",
      "            if combined in history:\n",
      "                return True\n",
      "            else:\n",
      "                history.add(combined)\n",
      "                return False\n",
      "\n",
      "    How would you improve this function, and why?\n",
      "\n",
      "3.  Nelle has a function that extracts the latitudes and longitudes of\n",
      "    data collection sites from a file:\n",
      "\n",
      "        >>> sites = extract_sites('north-pacific.dat')\n",
      "        >>> print sites[:3]\n",
      "        [[52.097, -173.505], [52.071, -173.510], [51.985, -173.507]]\n",
      "\n",
      "    Write another function called `filter_duplicate_sites` that takes a\n",
      "    list of this kind as its only input, and returns a set (not a list)\n",
      "    containing only the unique latitude/longitude pairs.\n",
      "\n",
      "4.  A list containing just the number 5 is written as `[5]`, and a set\n",
      "    containing just that same number is written as `{5}`. However, a\n",
      "    tuple containing just that number must be written with a comma as\n",
      "    `(5,)`. Why?"
     ]
    },
    {
     "cell_type": "markdown",
     "metadata": {
      "cell_tags": [
       "keypoints"
      ]
     },
     "source": [
      "## Key Points\n",
      "\n",
      "*   Use sets to store distinct unique values.\n",
      "*   Create sets using `set()` or `{v1, v2, ...}`.\n",
      "*   Sets are mutable, i.e., they can be updated in place like lists.\n",
      "*   A loop over a set produces each element once, in arbitrary order.\n",
      "*   Use sets to find unique things.\n",
      "*   Sets are stored in hash tables, which guarantee fast access for arbitrary values.\n",
      "*   The values in sets must be immutable to prevent hash tables misplacing them.\n",
      "*   Use tuples to store multi-part values in sets."
     ]
    }
   ],
   "metadata": {}
  }
 ]
}