{
 "metadata": {
  "name": ""
 },
 "nbformat": 3,
 "nbformat_minor": 0,
 "worksheets": [
  {
   "cells": [
    {
     "cell_type": "heading",
     "level": 1,
     "metadata": {
      "cell_tags": []
     },
     "source": [
      "Dictionaries"
     ]
    },
    {
     "cell_type": "markdown",
     "metadata": {
      "cell_tags": []
     },
     "source": [
      "FIXME: motivation"
     ]
    },
    {
     "cell_type": "markdown",
     "metadata": {
      "cell_tags": [
       "objectives"
      ]
     },
     "source": [
      "## Objectives\n",
      "\n",
      "*   Explain the similarities and differences between sets and dictionaries.\n",
      "*   Perform common operations on dictionaries."
     ]
    },
    {
     "cell_type": "heading",
     "level": 2,
     "metadata": {},
     "source": [
      "Basics"
     ]
    },
    {
     "cell_type": "markdown",
     "metadata": {},
     "source": [
      "Now that we know how to find out what kinds of atoms are in our inventory,\n",
      "we want to find out how many of each we have.\n",
      "Our input is a list of several thousand atomic symbols,\n",
      "and the output we want is a list of names and counts.\n",
      "\n",
      "Once again,\n",
      "we could use a list to store names and counts,\n",
      "but the right solution is to use another new data strucure\n",
      "called a [dictionary](../../gloss.html#dictionary).\n",
      "A dictionary is a unordered collection of key-value pairs:"
     ]
    },
    {
     "cell_type": "markdown",
     "metadata": {},
     "source": [
      "FIXME: diagram"
     ]
    },
    {
     "cell_type": "markdown",
     "metadata": {},
     "source": [
      "The keys are immutable, unique, and unordered, just like the elements of a set. There are no restrictions on the values stored with those keys: they don't have to be immutable or unique. However, we can only look up entries by their keys, not by their values.\n",
      "\n",
      "We create a new dictionary by putting key-value pairs inside curly braces\n",
      "with a colon between the two parts of each pair:"
     ]
    },
    {
     "cell_type": "code",
     "collapsed": false,
     "input": [
      "birthdays = {'Newton' : 1642, 'Darwin' : 1809}"
     ],
     "language": "python",
     "metadata": {},
     "outputs": [],
     "prompt_number": 1
    },
    {
     "cell_type": "markdown",
     "metadata": {},
     "source": [
      "The dictionary's keys are the strings `'Newton'` and `'Darwin'`.\n",
      "The value associated with `'Newton'` is 1642,\n",
      "while the value associated with `'Darwin'` is 1809.\n",
      "We can think of this as a two-column table:"
     ]
    },
    {
     "cell_type": "markdown",
     "metadata": {},
     "source": [
      "FIXME: convert to table\n",
      "\n",
      "~~~\n",
      "  Key          Value\n",
      "  ------------ -------\n",
      "  `'Newton'`   1642\n",
      "  `'Darwin'`   1809\n",
      "~~~"
     ]
    },
    {
     "cell_type": "markdown",
     "metadata": {},
     "source": [
      "but it's important to remember that\n",
      "the entries aren't necessarily stored in this order (or any other specific order).\n",
      "\n",
      "We can get the value associated with a key by putting the key in square brackets:"
     ]
    },
    {
     "cell_type": "code",
     "collapsed": false,
     "input": [
      "print birthdays['Newton']"
     ],
     "language": "python",
     "metadata": {},
     "outputs": [
      {
       "output_type": "stream",
       "stream": "stdout",
       "text": [
        "1642\n"
       ]
      }
     ],
     "prompt_number": 2
    },
    {
     "cell_type": "markdown",
     "metadata": {},
     "source": [
      "This looks just like subscripting a string or list,\n",
      "except dictionary keys don't have to be integers:\n",
      "they can be strings, tuples, or any other immutable object.\n",
      "It's just like using a phonebook or a real dictionary:\n",
      "instead of looking things up by location using an integer index,\n",
      "we look things up by name.\n",
      "\n",
      "If we want to add another entry to a dictionary,\n",
      "we just assign a value to the key,\n",
      "just as we create a new variable in a program by assigning it a value:"
     ]
    },
    {
     "cell_type": "code",
     "collapsed": false,
     "input": [
      "birthdays['Turing'] = 1612\n",
      "print birthdays"
     ],
     "language": "python",
     "metadata": {},
     "outputs": [
      {
       "output_type": "stream",
       "stream": "stdout",
       "text": [
        "{'Turing': 1612, 'Newton': 1642, 'Darwin': 1809}\n"
       ]
      }
     ],
     "prompt_number": 3
    },
    {
     "cell_type": "markdown",
     "metadata": {},
     "source": [
      "If the key is already in the dictionary,\n",
      "assignment replaces the value associated with it rather than adding another entry\n",
      "(since each key can appear at most once).\n",
      "Let's fix Turing's birthday by replacing 1612 with 1912:"
     ]
    },
    {
     "cell_type": "code",
     "collapsed": false,
     "input": [
      "birthdays['Turing'] = 1912\n",
      "print birthdays"
     ],
     "language": "python",
     "metadata": {},
     "outputs": [
      {
       "output_type": "stream",
       "stream": "stdout",
       "text": [
        "{'Turing': 1912, 'Newton': 1642, 'Darwin': 1809}\n"
       ]
      }
     ],
     "prompt_number": 4
    },
    {
     "cell_type": "markdown",
     "metadata": {},
     "source": [
      "Trying to get the value associated with a key that *isn't* in the dictionary is an error,\n",
      "just like trying to access a nonexistent variable or get an out-of-bounds element from a list.\n",
      "For example,\n",
      "let's try to look up Florence Nightingale's birthday:"
     ]
    },
    {
     "cell_type": "code",
     "collapsed": false,
     "input": [
      "print birthdays['Nightingale']"
     ],
     "language": "python",
     "metadata": {},
     "outputs": [
      {
       "ename": "KeyError",
       "evalue": "'Nightingale'",
       "output_type": "pyerr",
       "traceback": [
        "\u001b[0;31m---------------------------------------------------------------------------\u001b[0m\n\u001b[0;31mKeyError\u001b[0m                                  Traceback (most recent call last)",
        "\u001b[0;32m<ipython-input-5-44ca8cabb590>\u001b[0m in \u001b[0;36m<module>\u001b[0;34m()\u001b[0m\n\u001b[0;32m----> 1\u001b[0;31m \u001b[0;32mprint\u001b[0m \u001b[0mbirthdays\u001b[0m\u001b[0;34m[\u001b[0m\u001b[0;34m'Nightingale'\u001b[0m\u001b[0;34m]\u001b[0m\u001b[0;34m\u001b[0m\u001b[0m\n\u001b[0m",
        "\u001b[0;31mKeyError\u001b[0m: 'Nightingale'"
       ]
      }
     ],
     "prompt_number": 5
    },
    {
     "cell_type": "markdown",
     "metadata": {},
     "source": [
      "If we're not sure whether a key is in a dictionary or not,\n",
      "we can test for it using `in`:"
     ]
    },
    {
     "cell_type": "code",
     "collapsed": false,
     "input": [
      "print 'Nightingale' in birthdays"
     ],
     "language": "python",
     "metadata": {},
     "outputs": [
      {
       "output_type": "stream",
       "stream": "stdout",
       "text": [
        "False\n"
       ]
      }
     ],
     "prompt_number": 6
    },
    {
     "cell_type": "code",
     "collapsed": false,
     "input": [
      "print 'Darwin' in birthdays"
     ],
     "language": "python",
     "metadata": {},
     "outputs": [
      {
       "output_type": "stream",
       "stream": "stdout",
       "text": [
        "True\n"
       ]
      }
     ],
     "prompt_number": 7
    },
    {
     "cell_type": "markdown",
     "metadata": {},
     "source": [
      "And we can see how many entries are in the dictionary using `len`:"
     ]
    },
    {
     "cell_type": "code",
     "collapsed": false,
     "input": [
      "print len(birthdays)"
     ],
     "language": "python",
     "metadata": {},
     "outputs": [
      {
       "output_type": "stream",
       "stream": "stdout",
       "text": [
        "3\n"
       ]
      }
     ],
     "prompt_number": 8
    },
    {
     "cell_type": "markdown",
     "metadata": {},
     "source": [
      "and loop over the keys in a dictionary using `for`:"
     ]
    },
    {
     "cell_type": "code",
     "collapsed": false,
     "input": [
      "for name in birthdays:\n",
      "    print name, birthdays[name]"
     ],
     "language": "python",
     "metadata": {},
     "outputs": [
      {
       "output_type": "stream",
       "stream": "stdout",
       "text": [
        "Turing 1912\n",
        "Newton 1642\n",
        "Darwin 1809\n"
       ]
      }
     ],
     "prompt_number": 9
    },
    {
     "cell_type": "markdown",
     "metadata": {},
     "source": [
      "This is a little bit different from looping over a list.\n",
      "When we loop over a list we get the values in the list.\n",
      "When we loop over a dictionary,\n",
      "on the other hand,\n",
      "the loop gives us the keys,\n",
      "which we can use to look up the values."
     ]
    },
    {
     "cell_type": "heading",
     "level": 2,
     "metadata": {},
     "source": [
      "Counting Atoms"
     ]
    },
    {
     "cell_type": "markdown",
     "metadata": {},
     "source": [
      "We're now ready to count atoms:"
     ]
    },
    {
     "cell_type": "code",
     "collapsed": false,
     "input": [
      "counts = {}\n",
      "with open('atoms-6.txt', 'r') as reader:\n",
      "    for line in reader:\n",
      "        atom = line.strip()\n",
      "        if atom not in counts:\n",
      "            counts[atom] = 1\n",
      "        else:\n",
      "            counts[atom] = counts[atom] + 1\n",
      "print counts"
     ],
     "language": "python",
     "metadata": {},
     "outputs": [
      {
       "output_type": "stream",
       "stream": "stdout",
       "text": [
        "{'Na': 3, 'Si': 1, 'Fe': 1, 'Pd': 1}\n"
       ]
      }
     ],
     "prompt_number": 10
    },
    {
     "cell_type": "markdown",
     "metadata": {},
     "source": [
      "We start by creating an empty dictionary to fill with data,\n",
      "and use a loop to process the lines from the input file one by one.\n",
      "Notice that the empty dictionary is written `{}`:\n",
      "this is the \"previous use\" we referred to\n",
      "when explaining that an empty set had to be written `set()`.\n",
      "\n",
      "After stripping whitespace off the atom's symbol,\n",
      "we check to see if we've seen it before.\n",
      "If we haven't,\n",
      "we set its count to 1,\n",
      "because we've now seen that atom one time.\n",
      "If we *have* seen it before,\n",
      "we add one to the previous count and store that new value back in the dictionary.\n",
      "When the loop is done,\n",
      "we return the dictionary we have created.\n",
      "\n",
      "Let's watch this function in action.\n",
      "Before we read any data,\n",
      "our dictionary is empty.\n",
      "After we see `'Na'` for the first time,\n",
      "our dictionary has one entry:\n",
      "its key is `'Na'`,\n",
      "and its value is 1.\n",
      "When we see `'Fe'`,\n",
      "we add another entry to the dictionary with that string as a key and 1 as a value.\n",
      "Finally,\n",
      "when we see `'Na'` for the second time,\n",
      "we add one to its count."
     ]
    },
    {
     "cell_type": "markdown",
     "metadata": {},
     "source": [
      "FIXME: convert to table\n",
      "\n",
      "~~~\n",
      "Input     Dictionary\n",
      "  --------- ------------------------\n",
      "  *start*   `{}`\n",
      "  `Na`      `{'Na' : 1}`\n",
      "  `Fe`      `{'Na' : 1, 'Fe' : 1}`\n",
      "  `Na`      `{'Na' : 2, 'Fe' : 1}`\n",
      "~~~"
     ]
    },
    {
     "cell_type": "markdown",
     "metadata": {},
     "source": [
      "FIXME: shorten the code using +=, then shorten again using library classes."
     ]
    },
    {
     "cell_type": "markdown",
     "metadata": {},
     "source": [
      "Just as we use tuples for multi-part entries in sets,\n",
      "we can use them for multi-part keys in dictionaries.\n",
      "For example,\n",
      "if we want to store the years in which scientists were born using their full names,\n",
      "we could do this:"
     ]
    },
    {
     "cell_type": "code",
     "collapsed": false,
     "input": [
      "birthdays = {\n",
      "    ('Isaac', 'Newton') : 1642,\n",
      "    ('Charles', 'Robert', 'Darwin') : 1809,\n",
      "    ('Alan', 'Mathison', 'Turing') : 1912\n",
      "}"
     ],
     "language": "python",
     "metadata": {},
     "outputs": [],
     "prompt_number": 11
    },
    {
     "cell_type": "markdown",
     "metadata": {},
     "source": [
      "If we do this,\n",
      "though,\n",
      "we always have to look things up by the full key:\n",
      "there is no way to ask for all the entries whose keys contain the word `'Darwin'`,\n",
      "because Python cannot match part of a tuple.\n",
      "\n",
      "If we think of a dictionary as a two-column table,\n",
      "it is occasionally useful to get one or the other column,\n",
      "i.e.,\n",
      "just the keys or just the values:"
     ]
    },
    {
     "cell_type": "code",
     "collapsed": false,
     "input": [
      "all_keys = birthdays.keys()\n",
      "print all_keys"
     ],
     "language": "python",
     "metadata": {},
     "outputs": [
      {
       "output_type": "stream",
       "stream": "stdout",
       "text": [
        "[('Charles', 'Robert', 'Darwin'), ('Isaac', 'Newton'), ('Alan', 'Mathison', 'Turing')]\n"
       ]
      }
     ],
     "prompt_number": 12
    },
    {
     "cell_type": "code",
     "collapsed": false,
     "input": [
      "all_values = birthdays.values()\n",
      "print all_values"
     ],
     "language": "python",
     "metadata": {},
     "outputs": [
      {
       "output_type": "stream",
       "stream": "stdout",
       "text": [
        "[1809, 1642, 1912]\n"
       ]
      }
     ],
     "prompt_number": 14
    },
    {
     "cell_type": "markdown",
     "metadata": {},
     "source": [
      "These methods should be used sparingly:\n",
      "the dictionary doesn't store the keys or values in a list,\n",
      "so these methods both actually create a new list as their result.\n",
      "In particular, we *shouldn't* loop over a dictionary's entries like this:"
     ]
    },
    {
     "cell_type": "code",
     "collapsed": false,
     "input": [
      "for key in birthdays.keys():\n",
      "    print key"
     ],
     "language": "python",
     "metadata": {},
     "outputs": [
      {
       "output_type": "stream",
       "stream": "stdout",
       "text": [
        "('Charles', 'Robert', 'Darwin')\n",
        "('Isaac', 'Newton')\n",
        "('Alan', 'Mathison', 'Turing')\n"
       ]
      }
     ],
     "prompt_number": 15
    },
    {
     "cell_type": "markdown",
     "metadata": {},
     "source": [
      "since \"`for key in some_dict`\" is shorter and much more efficient."
     ]
    },
    {
     "cell_type": "markdown",
     "metadata": {},
     "source": [
      "## Challenges\n",
      "\n",
      "1.  What is one possible output of the following program? And why does\n",
      "    this question say \"one possible output\" instead of \"*the* output\"?\n",
      "\n",
      "        periods = {'Mercury' : 87.97, 'Venus' : 224.70}\n",
      "        print periods\n",
      "        periods.update({'Earth' : 3.6526, 'Mars' : 686.98})\n",
      "        print periods\n",
      "        periods['Earthy'] = 365.26\n",
      "        print periods\n",
      "\n",
      "2.  Fan has a table with the pH levels of samples as the keys, and the\n",
      "    percentage of carbon-12 as the values:\n",
      "\n",
      "      pH     C12\n",
      "      ------ ------\n",
      "      7.43   0.48\n",
      "      7.51   0.47\n",
      "      7.56   0.45\n",
      "\n",
      "    He needs to interpolate between these values, i.e., to predict the\n",
      "    percentage of carbon-12 in the sample for a pH 7.50. Will storing\n",
      "    his data in a dictionary:\n",
      "\n",
      "        {7.43 : 0.48, 7.51 : 0.47, 7.56 : 0.45}\n",
      "\n",
      "    be any more efficient than storing it in a list of pairs:\n",
      "\n",
      "        [ [7.43, 0.48], [7.51, 0.47], [7.56, 0.45] ]\n",
      "\n",
      "    Why or why not?\n",
      "\n",
      "3.  Before sets were added to Python, people frequently imitated them\n",
      "    using dictionaries; the dictionary's keys were the set's elements,\n",
      "    and the dictionary's values were all `None`. This function\n",
      "    calculates the intersection of two such \"sets\":\n",
      "\n",
      "        def setdict_intersect(left, right):\n",
      "            '''Return new dictionary with intersection of keys from left and right.'''\n",
      "            result = {}\n",
      "            for key in left:\n",
      "                if key in right:\n",
      "                    result[key] = None\n",
      "            return result\n",
      "\n",
      "    Write a function `setdict_union` that calculates the union of two\n",
      "    sets represented in this way.\n",
      "\n",
      "4.  What does the following function do? Explain when and why you would\n",
      "    use it, and write a small example that calls it with sample data.\n",
      "\n",
      "        def show(writer, format, data):\n",
      "            keys = data.keys()\n",
      "            keys.sort()\n",
      "            for k in keys:\n",
      "                print >> writer, format % (key, data[key])\n",
      "\n",
      "5.  Dictionaries are more general than lists, since you can trivially\n",
      "    simulate a list like `['first', 'second', 'third']` using\n",
      "    `{0 : 'first', 1 : 'second', 2 : 'third'}`. Given that, when and why\n",
      "    should you use a list rather than a dictionary?"
     ]
    },
    {
     "cell_type": "markdown",
     "metadata": {
      "cell_tags": [
       "keypoints"
      ]
     },
     "source": [
      "## Key Points\n",
      "\n",
      "*   Use dictionaries to store key-value pairs with distinct keys.\n",
      "*   Create dictionaries using `{k1:v1, k2:v2, ...}`\n",
      "*   Dictionaries are mutable, i.e., they can be updated in place.\n",
      "*   Dictionary keys must be immutable, but values can be anything.\n",
      "*   Use tuples to store multi-part keys in dictionaries.\n",
      "*   `dict[key]` refers to the dictionary entry with a particular key.\n",
      "*   `key in dict` tests whether a key is in a dictionary.\n",
      "*   `len(dict)` returns the number of entries in a dictionary.\n",
      "*   A loop over a dictionary produces each key once, in arbitrary order.\n",
      "*   `dict.keys()` creates a list of the keys in a dictionary.\n",
      "*   `dict.values()` creates a list of the keys in a dictionary."
     ]
    }
   ],
   "metadata": {}
  }
 ]
}